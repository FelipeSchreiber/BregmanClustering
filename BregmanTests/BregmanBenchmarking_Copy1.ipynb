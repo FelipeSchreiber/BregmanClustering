{
 "cells": [
  {
   "cell_type": "code",
   "execution_count": 1,
   "id": "wqMKN-tSMM0L",
   "metadata": {
    "id": "wqMKN-tSMM0L"
   },
   "outputs": [
    {
     "name": "stdout",
     "output_type": "stream",
     "text": [
      "Collecting git+https://github.com/FelipeSchreiber/BregmanClustering.git\n",
      "  Cloning https://github.com/FelipeSchreiber/BregmanClustering.git to c:\\users\\schre\\appdata\\local\\temp\\pip-req-build-4cs5pbaf\n",
      "  Resolved https://github.com/FelipeSchreiber/BregmanClustering.git to commit 68f649e209a72dd32824066142e1877ca4baffa1\n",
      "  Preparing metadata (setup.py): started\n",
      "  Preparing metadata (setup.py): finished with status 'done'\n",
      "Building wheels for collected packages: bregClust\n",
      "  Building wheel for bregClust (setup.py): started\n",
      "  Building wheel for bregClust (setup.py): finished with status 'done'\n",
      "  Created wheel for bregClust: filename=bregClust-1.0-py3-none-any.whl size=28419 sha256=25522393be8981ea8ee011dd0941db478436d47c359addcddbfb5425739566c3\n",
      "  Stored in directory: C:\\Users\\schre\\AppData\\Local\\Temp\\pip-ephem-wheel-cache-ff6nyoe6\\wheels\\72\\c7\\76\\aeff59c869a7cf6a37b4d233323dc59ec924e057ccc0893369\n",
      "Successfully built bregClust\n",
      "Installing collected packages: bregClust\n",
      "  Attempting uninstall: bregClust\n",
      "    Found existing installation: bregClust 1.0\n",
      "    Uninstalling bregClust-1.0:\n",
      "      Successfully uninstalled bregClust-1.0\n",
      "Successfully installed bregClust-1.0\n"
     ]
    },
    {
     "name": "stderr",
     "output_type": "stream",
     "text": [
      "  Running command git clone --filter=blob:none --quiet https://github.com/FelipeSchreiber/BregmanClustering.git 'C:\\Users\\schre\\AppData\\Local\\Temp\\pip-req-build-4cs5pbaf'\n"
     ]
    },
    {
     "name": "stdout",
     "output_type": "stream",
     "text": [
      "Requirement already satisfied: torch_geometric in c:\\users\\schre\\.conda\\envs\\pydml\\lib\\site-packages (2.3.1)\n",
      "Requirement already satisfied: tqdm in c:\\users\\schre\\.conda\\envs\\pydml\\lib\\site-packages (from torch_geometric) (4.65.0)\n",
      "Requirement already satisfied: numpy in c:\\users\\schre\\.conda\\envs\\pydml\\lib\\site-packages (from torch_geometric) (1.24.3)\n",
      "Requirement already satisfied: scipy in c:\\users\\schre\\.conda\\envs\\pydml\\lib\\site-packages (from torch_geometric) (1.10.1)\n",
      "Requirement already satisfied: jinja2 in c:\\users\\schre\\.conda\\envs\\pydml\\lib\\site-packages (from torch_geometric) (3.1.2)\n",
      "Requirement already satisfied: requests in c:\\users\\schre\\.conda\\envs\\pydml\\lib\\site-packages (from torch_geometric) (2.29.0)\n",
      "Requirement already satisfied: pyparsing in c:\\users\\schre\\.conda\\envs\\pydml\\lib\\site-packages (from torch_geometric) (3.0.9)\n",
      "Requirement already satisfied: scikit-learn in c:\\users\\schre\\.conda\\envs\\pydml\\lib\\site-packages (from torch_geometric) (1.2.2)\n",
      "Requirement already satisfied: psutil>=5.8.0 in c:\\users\\schre\\.conda\\envs\\pydml\\lib\\site-packages (from torch_geometric) (5.9.5)\n",
      "Requirement already satisfied: MarkupSafe>=2.0 in c:\\users\\schre\\.conda\\envs\\pydml\\lib\\site-packages (from jinja2->torch_geometric) (2.1.2)\n",
      "Requirement already satisfied: charset-normalizer<4,>=2 in c:\\users\\schre\\.conda\\envs\\pydml\\lib\\site-packages (from requests->torch_geometric) (3.1.0)\n",
      "Requirement already satisfied: idna<4,>=2.5 in c:\\users\\schre\\.conda\\envs\\pydml\\lib\\site-packages (from requests->torch_geometric) (3.4)\n",
      "Requirement already satisfied: urllib3<1.27,>=1.21.1 in c:\\users\\schre\\.conda\\envs\\pydml\\lib\\site-packages (from requests->torch_geometric) (1.26.15)\n",
      "Requirement already satisfied: certifi>=2017.4.17 in c:\\users\\schre\\.conda\\envs\\pydml\\lib\\site-packages (from requests->torch_geometric) (2022.12.7)\n",
      "Requirement already satisfied: joblib>=1.1.1 in c:\\users\\schre\\.conda\\envs\\pydml\\lib\\site-packages (from scikit-learn->torch_geometric) (1.2.0)\n",
      "Requirement already satisfied: threadpoolctl>=2.0.0 in c:\\users\\schre\\.conda\\envs\\pydml\\lib\\site-packages (from scikit-learn->torch_geometric) (3.1.0)\n",
      "Requirement already satisfied: colorama in c:\\users\\schre\\.conda\\envs\\pydml\\lib\\site-packages (from tqdm->torch_geometric) (0.4.6)\n",
      "Requirement already satisfied: rpy2==3.5.1 in c:\\users\\schre\\.conda\\envs\\pydml\\lib\\site-packages (3.5.1)\n",
      "Requirement already satisfied: cffi>=1.10.0 in c:\\users\\schre\\.conda\\envs\\pydml\\lib\\site-packages (from rpy2==3.5.1) (1.15.1)\n",
      "Requirement already satisfied: jinja2 in c:\\users\\schre\\.conda\\envs\\pydml\\lib\\site-packages (from rpy2==3.5.1) (3.1.2)\n",
      "Requirement already satisfied: pytz in c:\\users\\schre\\.conda\\envs\\pydml\\lib\\site-packages (from rpy2==3.5.1) (2023.3)\n",
      "Requirement already satisfied: tzlocal in c:\\users\\schre\\.conda\\envs\\pydml\\lib\\site-packages (from rpy2==3.5.1) (4.3)\n",
      "Requirement already satisfied: pycparser in c:\\users\\schre\\.conda\\envs\\pydml\\lib\\site-packages (from cffi>=1.10.0->rpy2==3.5.1) (2.21)\n",
      "Requirement already satisfied: MarkupSafe>=2.0 in c:\\users\\schre\\.conda\\envs\\pydml\\lib\\site-packages (from jinja2->rpy2==3.5.1) (2.1.2)\n",
      "Requirement already satisfied: pytz-deprecation-shim in c:\\users\\schre\\.conda\\envs\\pydml\\lib\\site-packages (from tzlocal->rpy2==3.5.1) (0.1.0.post0)\n",
      "Requirement already satisfied: tzdata in c:\\users\\schre\\.conda\\envs\\pydml\\lib\\site-packages (from tzlocal->rpy2==3.5.1) (2023.3)\n",
      "Requirement already satisfied: backports.zoneinfo in c:\\users\\schre\\.conda\\envs\\pydml\\lib\\site-packages (from tzlocal->rpy2==3.5.1) (0.2.1)\n"
     ]
    }
   ],
   "source": [
    "!pip install --upgrade --force-reinstall git+https://github.com/FelipeSchreiber/BregmanClustering.git --no-deps\n",
    "!pip install torch_geometric \n",
    "### Comment line below if in Google Colab environment\n",
    "import os\n",
    "from sys import platform\n",
    "import BregmanTests\n",
    "os.chmod(BregmanTests.__path__[0]+\"/install_algos.sh\",777)\n",
    "if platform == \"win32\":\n",
    "    os.environ[\"R_HOME\"] = r\"C:\\\\Program Files\\R\\R-4.2.3\"\n",
    "else:\n",
    "    ### Uncomment line below if in Google Colab environment\n",
    "    print(os.path.isfile(BregmanTests.__path__[0]+\"/install_algos.sh\"))\n",
    "    ### Done\n",
    "!pip install rpy2==3.5.1"
   ]
  },
  {
   "cell_type": "code",
   "execution_count": 2,
   "id": "4w2gsGfqMbhn",
   "metadata": {
    "id": "4w2gsGfqMbhn"
   },
   "outputs": [
    {
     "name": "stdout",
     "output_type": "stream",
     "text": [
      "Downloading packages from github...\n",
      "\n",
      "Installing R packages...\n",
      " This step takes about 5 min...\n",
      "\n",
      "\n",
      "    WARNING: The R package \"reticulate\" does not\n",
      "    consider that it could be called from a Python process. This\n",
      "    results in a quasi-obligatory segfault when rpy2 is evaluating\n",
      "    R code using it. On the hand, rpy2 is accounting for the\n",
      "    fact that it might already be running embedded in a Python\n",
      "    process. This is why:\n",
      "    - Python -> rpy2 -> R -> reticulate: crashes\n",
      "    - R -> reticulate -> Python -> rpy2: works\n",
      "\n",
      "    The issue with reticulate is tracked here:\n",
      "    https://github.com/rstudio/reticulate/issues/208\n",
      "    "
     ]
    }
   ],
   "source": [
    "from BregmanTests.benchmark import *\n",
    "n_average = 1\n",
    "n = 300\n",
    "n_clusters = 3\n",
    "d = 1\n",
    "sizes = [ n // n_clusters ]*np.ones( n_clusters, dtype = int )"
   ]
  },
  {
   "cell_type": "code",
   "execution_count": null,
   "id": "jP3HrzLaFCl0",
   "metadata": {
    "id": "jP3HrzLaFCl0"
   },
   "outputs": [],
   "source": [
    "#from google.colab import drive\n",
    "#drive.mount('/content/drive')"
   ]
  },
  {
   "cell_type": "code",
   "execution_count": 3,
   "id": "a0b30bf7",
   "metadata": {},
   "outputs": [
    {
     "name": "stderr",
     "output_type": "stream",
     "text": [
      "Downloading https://github.com/kimiyoung/planetoid/raw/master/data/ind.cora.x\n",
      "Downloading https://github.com/kimiyoung/planetoid/raw/master/data/ind.cora.tx\n",
      "Downloading https://github.com/kimiyoung/planetoid/raw/master/data/ind.cora.allx\n",
      "Downloading https://github.com/kimiyoung/planetoid/raw/master/data/ind.cora.y\n",
      "Downloading https://github.com/kimiyoung/planetoid/raw/master/data/ind.cora.ty\n",
      "Downloading https://github.com/kimiyoung/planetoid/raw/master/data/ind.cora.ally\n",
      "Downloading https://github.com/kimiyoung/planetoid/raw/master/data/ind.cora.graph\n",
      "Downloading https://github.com/kimiyoung/planetoid/raw/master/data/ind.cora.test.index\n",
      "Processing...\n",
      "Done!\n"
     ]
    }
   ],
   "source": [
    "attributes_distribution = \"gaussian\"\n",
    "edge_distribution = \"bernoulli\"\n",
    "weight_distribution = \"exponential\"\n",
    "data,dataset = BregmanBenchmark(att_variance=1,\n",
    "                    attributes_distribution=attributes_distribution,\n",
    "                    weight_variance=1,\n",
    "                    weight_distribution=weight_distribution,\n",
    "                    edge_distribution=edge_distribution,\n",
    "                    run_gpu=True)\\\n",
    "                  .run_real_data()"
   ]
  },
  {
   "cell_type": "code",
   "execution_count": 13,
   "id": "bce55bf6",
   "metadata": {},
   "outputs": [
    {
     "data": {
      "text/plain": [
       "torch.Size([2708, 1433])"
      ]
     },
     "execution_count": 13,
     "metadata": {},
     "output_type": "execute_result"
    }
   ],
   "source": [
    "data.x.shape"
   ]
  },
  {
   "cell_type": "code",
   "execution_count": null,
   "id": "1QGRHlHVMvL4",
   "metadata": {
    "id": "1QGRHlHVMvL4"
   },
   "outputs": [],
   "source": [
    "attributes_distribution = \"gaussian\"\n",
    "edge_distribution = \"bernoulli\"\n",
    "weight_distribution = \"exponential\"\n",
    "a_range = np.linspace(5,13,10)\n",
    "r_range = np.linspace(0,0.62,10)*np.log(n)\n",
    "BregmanBenchmark(att_variance=1,\n",
    "                    attributes_distribution=attributes_distribution,\n",
    "                    weight_variance=1,\n",
    "                    weight_distribution=weight_distribution,\n",
    "                    edge_distribution=edge_distribution,\n",
    "                    run_gpu=True)\\\n",
    "                  .run_2_1(n_average=10,\n",
    "                            cluster_sizes=sizes,\n",
    "                            b=5,\n",
    "                            a_range=a_range,\n",
    "                            r_range = r_range,\n",
    "                            dense=False,\n",
    "                            plot_3d=False,\n",
    "                            binary=True)\n",
    "!cp \"/content/contour_plot_2_1.jpeg\" \"/content/drive/MyDrive\""
   ]
  },
  {
   "cell_type": "code",
   "execution_count": null,
   "id": "GdUwRBlstRH-",
   "metadata": {
    "id": "GdUwRBlstRH-"
   },
   "outputs": [],
   "source": [
    "attributes_distribution = \"poisson\"\n",
    "edge_distribution = \"bernoulli\"\n",
    "weight_distribution = \"exponential\"\n",
    "d_range = np.arange(1,5)\n",
    "a_range = np.linspace(5,13,10)\n",
    "lambda_range = np.arange(1,6)\n",
    "att_centers = np.arange(1,4).reshape(-1,1)\n",
    "BregmanBenchmark(att_variance=1,\n",
    "                    attributes_distribution=attributes_distribution,\n",
    "                    weight_variance=1,\n",
    "                    weight_distribution=weight_distribution,\n",
    "                    edge_distribution=edge_distribution,\n",
    "                    att_centers=att_centers,\n",
    "                    run_gpu=True\n",
    "                 )\\\n",
    "                  .run_2_3(n_average=10,\n",
    "                            cluster_sizes=sizes,\n",
    "                            d_range= d_range,\n",
    "                            lambda_range = lambda_range,\n",
    "                            a_range = a_range,\n",
    "                            b = 5,\n",
    "                            dense=False,\n",
    "                            binary=False)\n",
    "!cp \"/content/contour_plot_2_3.jpeg\" \"/content/drive/MyDrive\""
   ]
  },
  {
   "cell_type": "code",
   "execution_count": null,
   "id": "XYNgyTRXEhrK",
   "metadata": {
    "id": "XYNgyTRXEhrK"
   },
   "outputs": [],
   "source": [
    "attributes_distribution = \"poisson\"\n",
    "edge_distribution = \"bernoulli\"\n",
    "weight_distribution = \"gaussian\"\n",
    "d_range = np.arange(1,5)\n",
    "mu_range = np.linspace(0,5,10)\n",
    "att_centers = np.arange(1,4).reshape(-1,1)\n",
    "BregmanBenchmark(att_variance=1,\n",
    "                    attributes_distribution=attributes_distribution,\n",
    "                    weight_variance=1,\n",
    "                    weight_distribution=weight_distribution,\n",
    "                    edge_distribution=edge_distribution,\n",
    "                    att_centers=att_centers,\n",
    "                    run_gpu=True\n",
    "                  )\\\n",
    "                  .run_2_2(n_average=10,\n",
    "                            cluster_sizes=sizes,\n",
    "                             d_range = d_range,\n",
    "                             mu_range = mu_range,\n",
    "                             dense=True,\n",
    "                             binary=False)\n",
    "!cp \"/content/contour_plot_2_2.jpeg\" \"/content/drive/MyDrive\""
   ]
  }
 ],
 "metadata": {
  "accelerator": "GPU",
  "colab": {
   "provenance": []
  },
  "gpuClass": "premium",
  "kernelspec": {
   "display_name": "Python 3 (ipykernel)",
   "language": "python",
   "name": "python3"
  },
  "language_info": {
   "codemirror_mode": {
    "name": "ipython",
    "version": 3
   },
   "file_extension": ".py",
   "mimetype": "text/x-python",
   "name": "python",
   "nbconvert_exporter": "python",
   "pygments_lexer": "ipython3",
   "version": "3.8.16"
  }
 },
 "nbformat": 4,
 "nbformat_minor": 5
}
