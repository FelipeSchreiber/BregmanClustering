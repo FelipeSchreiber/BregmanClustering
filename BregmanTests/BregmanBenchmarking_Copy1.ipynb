{
 "cells": [
  {
   "cell_type": "code",
   "execution_count": 1,
   "id": "wqMKN-tSMM0L",
   "metadata": {
    "colab": {
     "base_uri": "https://localhost:8080/"
    },
    "id": "wqMKN-tSMM0L",
    "outputId": "ac3bfa79-e2aa-4764-a483-a35bf32d732e"
   },
   "outputs": [
    {
     "name": "stdout",
     "output_type": "stream",
     "text": [
      "Collecting git+https://github.com/FelipeSchreiber/BregmanClustering.git\n",
      "  Cloning https://github.com/FelipeSchreiber/BregmanClustering.git to c:\\users\\schre\\appdata\\local\\temp\\pip-req-build-jjaavzh7\n",
      "  Resolved https://github.com/FelipeSchreiber/BregmanClustering.git to commit d198b72bb2fef88c27c42407fb28c93706f182ba\n",
      "  Preparing metadata (setup.py): started\n",
      "  Preparing metadata (setup.py): finished with status 'done'\n",
      "Building wheels for collected packages: bregClust\n",
      "  Building wheel for bregClust (setup.py): started\n",
      "  Building wheel for bregClust (setup.py): finished with status 'done'\n",
      "  Created wheel for bregClust: filename=bregClust-1.0-py3-none-any.whl size=28793 sha256=d54c7687c34313db67de0b3273df46a1dddc83acbda896475ed1d4b972fc9b67\n",
      "  Stored in directory: C:\\Users\\schre\\AppData\\Local\\Temp\\pip-ephem-wheel-cache-a39434ou\\wheels\\72\\c7\\76\\aeff59c869a7cf6a37b4d233323dc59ec924e057ccc0893369\n",
      "Successfully built bregClust\n",
      "Installing collected packages: bregClust\n",
      "  Attempting uninstall: bregClust\n",
      "    Found existing installation: bregClust 1.0\n",
      "    Uninstalling bregClust-1.0:\n",
      "      Successfully uninstalled bregClust-1.0\n",
      "Successfully installed bregClust-1.0\n"
     ]
    },
    {
     "name": "stderr",
     "output_type": "stream",
     "text": [
      "  Running command git clone --filter=blob:none --quiet https://github.com/FelipeSchreiber/BregmanClustering.git 'C:\\Users\\schre\\AppData\\Local\\Temp\\pip-req-build-jjaavzh7'\n"
     ]
    },
    {
     "name": "stdout",
     "output_type": "stream",
     "text": [
      "Requirement already satisfied: torch_geometric in c:\\users\\schre\\.conda\\envs\\pydml\\lib\\site-packages (2.3.1)\n",
      "Requirement already satisfied: tqdm in c:\\users\\schre\\.conda\\envs\\pydml\\lib\\site-packages (from torch_geometric) (4.65.0)\n",
      "Requirement already satisfied: numpy in c:\\users\\schre\\.conda\\envs\\pydml\\lib\\site-packages (from torch_geometric) (1.24.3)\n",
      "Requirement already satisfied: scipy in c:\\users\\schre\\.conda\\envs\\pydml\\lib\\site-packages (from torch_geometric) (1.10.1)\n",
      "Requirement already satisfied: jinja2 in c:\\users\\schre\\.conda\\envs\\pydml\\lib\\site-packages (from torch_geometric) (3.1.2)\n",
      "Requirement already satisfied: requests in c:\\users\\schre\\.conda\\envs\\pydml\\lib\\site-packages (from torch_geometric) (2.29.0)\n",
      "Requirement already satisfied: pyparsing in c:\\users\\schre\\.conda\\envs\\pydml\\lib\\site-packages (from torch_geometric) (3.0.9)\n",
      "Requirement already satisfied: scikit-learn in c:\\users\\schre\\.conda\\envs\\pydml\\lib\\site-packages (from torch_geometric) (1.2.2)\n",
      "Requirement already satisfied: psutil>=5.8.0 in c:\\users\\schre\\.conda\\envs\\pydml\\lib\\site-packages (from torch_geometric) (5.9.5)\n",
      "Requirement already satisfied: MarkupSafe>=2.0 in c:\\users\\schre\\.conda\\envs\\pydml\\lib\\site-packages (from jinja2->torch_geometric) (2.1.2)\n",
      "Requirement already satisfied: charset-normalizer<4,>=2 in c:\\users\\schre\\.conda\\envs\\pydml\\lib\\site-packages (from requests->torch_geometric) (3.1.0)\n",
      "Requirement already satisfied: idna<4,>=2.5 in c:\\users\\schre\\.conda\\envs\\pydml\\lib\\site-packages (from requests->torch_geometric) (3.4)\n",
      "Requirement already satisfied: urllib3<1.27,>=1.21.1 in c:\\users\\schre\\.conda\\envs\\pydml\\lib\\site-packages (from requests->torch_geometric) (1.26.15)\n",
      "Requirement already satisfied: certifi>=2017.4.17 in c:\\users\\schre\\.conda\\envs\\pydml\\lib\\site-packages (from requests->torch_geometric) (2022.12.7)\n",
      "Requirement already satisfied: joblib>=1.1.1 in c:\\users\\schre\\.conda\\envs\\pydml\\lib\\site-packages (from scikit-learn->torch_geometric) (1.2.0)\n",
      "Requirement already satisfied: threadpoolctl>=2.0.0 in c:\\users\\schre\\.conda\\envs\\pydml\\lib\\site-packages (from scikit-learn->torch_geometric) (3.1.0)\n",
      "Requirement already satisfied: colorama in c:\\users\\schre\\.conda\\envs\\pydml\\lib\\site-packages (from tqdm->torch_geometric) (0.4.6)\n",
      "Requirement already satisfied: rpy2==3.5.1 in c:\\users\\schre\\.conda\\envs\\pydml\\lib\\site-packages (3.5.1)\n",
      "Requirement already satisfied: cffi>=1.10.0 in c:\\users\\schre\\.conda\\envs\\pydml\\lib\\site-packages (from rpy2==3.5.1) (1.15.1)\n",
      "Requirement already satisfied: jinja2 in c:\\users\\schre\\.conda\\envs\\pydml\\lib\\site-packages (from rpy2==3.5.1) (3.1.2)\n",
      "Requirement already satisfied: pytz in c:\\users\\schre\\.conda\\envs\\pydml\\lib\\site-packages (from rpy2==3.5.1) (2023.3)\n",
      "Requirement already satisfied: tzlocal in c:\\users\\schre\\.conda\\envs\\pydml\\lib\\site-packages (from rpy2==3.5.1) (4.3)\n",
      "Requirement already satisfied: pycparser in c:\\users\\schre\\.conda\\envs\\pydml\\lib\\site-packages (from cffi>=1.10.0->rpy2==3.5.1) (2.21)\n",
      "Requirement already satisfied: MarkupSafe>=2.0 in c:\\users\\schre\\.conda\\envs\\pydml\\lib\\site-packages (from jinja2->rpy2==3.5.1) (2.1.2)\n",
      "Requirement already satisfied: pytz-deprecation-shim in c:\\users\\schre\\.conda\\envs\\pydml\\lib\\site-packages (from tzlocal->rpy2==3.5.1) (0.1.0.post0)\n",
      "Requirement already satisfied: tzdata in c:\\users\\schre\\.conda\\envs\\pydml\\lib\\site-packages (from tzlocal->rpy2==3.5.1) (2023.3)\n",
      "Requirement already satisfied: backports.zoneinfo in c:\\users\\schre\\.conda\\envs\\pydml\\lib\\site-packages (from tzlocal->rpy2==3.5.1) (0.2.1)\n"
     ]
    }
   ],
   "source": [
    "!pip install --upgrade --force-reinstall git+https://github.com/FelipeSchreiber/BregmanClustering.git --no-deps\n",
    "!pip install torch_geometric \n",
    "### Comment line below if in Google Colab environment\n",
    "import os\n",
    "from sys import platform\n",
    "if platform == \"win32\":\n",
    "    os.chmod(\"C:\\\\Users\\\\schre\\\\.conda\\\\envs\\\\pydml\\\\lib\\\\site-packages\\\\BregmanTests/install_algos.sh\",777)\n",
    "    os.environ[\"R_HOME\"] = r\"C:\\\\Program Files\\R\\R-4.2.3\"\n",
    "else:\n",
    "    ### Uncomment line below if in Google Colab environment\n",
    "    !chmod 777 /usr/local/lib/python3.9/dist-packages/BregmanTests/install_algos.sh\n",
    "    ### Done\n",
    "!pip install rpy2==3.5.1"
   ]
  },
  {
   "cell_type": "code",
   "execution_count": 2,
   "id": "9cdf371c",
   "metadata": {
    "colab": {
     "base_uri": "https://localhost:8080/"
    },
    "id": "9cdf371c",
    "outputId": "2f7b0f58-3a56-49c6-a16b-7ca0b5a72a06"
   },
   "outputs": [
    {
     "name": "stdout",
     "output_type": "stream",
     "text": [
      "win32\n"
     ]
    },
    {
     "data": {
      "text/plain": [
       "['C:\\\\Users\\\\schre\\\\.conda\\\\envs\\\\pydml\\\\lib\\\\site-packages\\\\BregmanTests']"
      ]
     },
     "execution_count": 2,
     "metadata": {},
     "output_type": "execute_result"
    }
   ],
   "source": [
    "print(platform)\n",
    "import BregmanTests\n",
    "BregmanTests.__path__"
   ]
  },
  {
   "cell_type": "code",
   "execution_count": 3,
   "id": "4w2gsGfqMbhn",
   "metadata": {
    "colab": {
     "base_uri": "https://localhost:8080/"
    },
    "id": "4w2gsGfqMbhn",
    "outputId": "d16f7cb6-b573-4a1b-f0f2-eecbb60232a3"
   },
   "outputs": [
    {
     "name": "stdout",
     "output_type": "stream",
     "text": [
      "Downloading packages from github...\n",
      "\n",
      "Installing R packages...\n",
      " This step takes about 5 min...\n",
      "\n",
      "\n",
      "    WARNING: The R package \"reticulate\" does not\n",
      "    consider that it could be called from a Python process. This\n",
      "    results in a quasi-obligatory segfault when rpy2 is evaluating\n",
      "    R code using it. On the hand, rpy2 is accounting for the\n",
      "    fact that it might already be running embedded in a Python\n",
      "    process. This is why:\n",
      "    - Python -> rpy2 -> R -> reticulate: crashes\n",
      "    - R -> reticulate -> Python -> rpy2: works\n",
      "\n",
      "    The issue with reticulate is tracked here:\n",
      "    https://github.com/rstudio/reticulate/issues/208\n",
      "    "
     ]
    }
   ],
   "source": [
    "from BregmanTests.benchmark import *\n",
    "n_average = 1\n",
    "n = 300\n",
    "n_clusters = 3\n",
    "d = 1\n",
    "sizes = [ n // n_clusters ]*np.ones( n_clusters, dtype = int )"
   ]
  },
  {
   "cell_type": "code",
   "execution_count": 4,
   "id": "jP3HrzLaFCl0",
   "metadata": {
    "id": "jP3HrzLaFCl0"
   },
   "outputs": [],
   "source": [
    "#from google.colab import drive\n",
    "#drive.mount('/content/drive')"
   ]
  },
  {
   "cell_type": "code",
   "execution_count": 5,
   "id": "1QGRHlHVMvL4",
   "metadata": {
    "colab": {
     "base_uri": "https://localhost:8080/"
    },
    "id": "1QGRHlHVMvL4",
    "outputId": "970c681d-cc38-4544-938b-036e5f4deb54"
   },
   "outputs": [
    {
     "name": "stderr",
     "output_type": "stream",
     "text": [
      "\r",
      "0it [00:00, ?it/s]"
     ]
    },
    {
     "name": "stdout",
     "output_type": "stream",
     "text": [
      "(300, 300, 1)\n",
      "Initialisation chosen from the graph\n",
      "privateuseone:0 cpu cpu cpu\n"
     ]
    },
    {
     "name": "stderr",
     "output_type": "stream",
     "text": [
      "0it [00:03, ?it/s]\n"
     ]
    },
    {
     "ename": "RuntimeError",
     "evalue": "Unspecified error",
     "output_type": "error",
     "traceback": [
      "\u001b[1;31m---------------------------------------------------------------------------\u001b[0m",
      "\u001b[1;31mRuntimeError\u001b[0m                              Traceback (most recent call last)",
      "Input \u001b[1;32mIn [5]\u001b[0m, in \u001b[0;36m<cell line: 6>\u001b[1;34m()\u001b[0m\n\u001b[0;32m      4\u001b[0m a_range \u001b[38;5;241m=\u001b[39m np\u001b[38;5;241m.\u001b[39mlinspace(\u001b[38;5;241m5\u001b[39m,\u001b[38;5;241m13\u001b[39m,\u001b[38;5;241m10\u001b[39m)\n\u001b[0;32m      5\u001b[0m r_range \u001b[38;5;241m=\u001b[39m np\u001b[38;5;241m.\u001b[39mlinspace(\u001b[38;5;241m0\u001b[39m,\u001b[38;5;241m0.62\u001b[39m,\u001b[38;5;241m10\u001b[39m)\u001b[38;5;241m*\u001b[39mnp\u001b[38;5;241m.\u001b[39mlog(n)\n\u001b[1;32m----> 6\u001b[0m \u001b[43mBregmanBenchmark\u001b[49m\u001b[43m(\u001b[49m\u001b[43matt_variance\u001b[49m\u001b[38;5;241;43m=\u001b[39;49m\u001b[38;5;241;43m1\u001b[39;49m\u001b[43m,\u001b[49m\n\u001b[0;32m      7\u001b[0m \u001b[43m                    \u001b[49m\u001b[43mattributes_distribution\u001b[49m\u001b[38;5;241;43m=\u001b[39;49m\u001b[43mattributes_distribution\u001b[49m\u001b[43m,\u001b[49m\n\u001b[0;32m      8\u001b[0m \u001b[43m                    \u001b[49m\u001b[43mweight_variance\u001b[49m\u001b[38;5;241;43m=\u001b[39;49m\u001b[38;5;241;43m1\u001b[39;49m\u001b[43m,\u001b[49m\n\u001b[0;32m      9\u001b[0m \u001b[43m                    \u001b[49m\u001b[43mweight_distribution\u001b[49m\u001b[38;5;241;43m=\u001b[39;49m\u001b[43mweight_distribution\u001b[49m\u001b[43m,\u001b[49m\n\u001b[0;32m     10\u001b[0m \u001b[43m                    \u001b[49m\u001b[43medge_distribution\u001b[49m\u001b[38;5;241;43m=\u001b[39;49m\u001b[43medge_distribution\u001b[49m\u001b[43m,\u001b[49m\n\u001b[0;32m     11\u001b[0m \u001b[43m                    \u001b[49m\u001b[43mrun_gpu\u001b[49m\u001b[38;5;241;43m=\u001b[39;49m\u001b[38;5;28;43;01mTrue\u001b[39;49;00m\u001b[43m)\u001b[49m\u001b[43m\\\u001b[49m\n\u001b[0;32m     12\u001b[0m \u001b[43m                  \u001b[49m\u001b[38;5;241;43m.\u001b[39;49m\u001b[43mrun_2_1\u001b[49m\u001b[43m(\u001b[49m\u001b[43mn_average\u001b[49m\u001b[38;5;241;43m=\u001b[39;49m\u001b[38;5;241;43m10\u001b[39;49m\u001b[43m,\u001b[49m\n\u001b[0;32m     13\u001b[0m \u001b[43m                            \u001b[49m\u001b[43mcluster_sizes\u001b[49m\u001b[38;5;241;43m=\u001b[39;49m\u001b[43msizes\u001b[49m\u001b[43m,\u001b[49m\n\u001b[0;32m     14\u001b[0m \u001b[43m                            \u001b[49m\u001b[43mb\u001b[49m\u001b[38;5;241;43m=\u001b[39;49m\u001b[38;5;241;43m5\u001b[39;49m\u001b[43m,\u001b[49m\n\u001b[0;32m     15\u001b[0m \u001b[43m                            \u001b[49m\u001b[43ma_range\u001b[49m\u001b[38;5;241;43m=\u001b[39;49m\u001b[43ma_range\u001b[49m\u001b[43m,\u001b[49m\n\u001b[0;32m     16\u001b[0m \u001b[43m                            \u001b[49m\u001b[43mr_range\u001b[49m\u001b[43m \u001b[49m\u001b[38;5;241;43m=\u001b[39;49m\u001b[43m \u001b[49m\u001b[43mr_range\u001b[49m\u001b[43m,\u001b[49m\n\u001b[0;32m     17\u001b[0m \u001b[43m                            \u001b[49m\u001b[43mdense\u001b[49m\u001b[38;5;241;43m=\u001b[39;49m\u001b[38;5;28;43;01mFalse\u001b[39;49;00m\u001b[43m,\u001b[49m\n\u001b[0;32m     18\u001b[0m \u001b[43m                            \u001b[49m\u001b[43mplot_3d\u001b[49m\u001b[38;5;241;43m=\u001b[39;49m\u001b[38;5;28;43;01mFalse\u001b[39;49;00m\u001b[43m,\u001b[49m\n\u001b[0;32m     19\u001b[0m \u001b[43m                            \u001b[49m\u001b[43mbinary\u001b[49m\u001b[38;5;241;43m=\u001b[39;49m\u001b[38;5;28;43;01mTrue\u001b[39;49;00m\u001b[43m)\u001b[49m\n\u001b[0;32m     20\u001b[0m \u001b[38;5;66;03m#!cp \"/content/contour_plot_2_1.jpeg\" \"/content/drive/MyDrive\"\u001b[39;00m\n",
      "File \u001b[1;32m~\\.conda\\envs\\pydml\\lib\\site-packages\\BregmanTests\\benchmark.py:370\u001b[0m, in \u001b[0;36mBregmanBenchmark.run_2_1\u001b[1;34m(self, n_average, cluster_sizes, b, a_range, r_range, dense, plot_3d, binary)\u001b[0m\n\u001b[0;32m    364\u001b[0m \u001b[38;5;28mprint\u001b[39m(X\u001b[38;5;241m.\u001b[39mshape)\n\u001b[0;32m    365\u001b[0m model \u001b[38;5;241m=\u001b[39m \u001b[38;5;28mself\u001b[39m\u001b[38;5;241m.\u001b[39mmodel_(n_clusters\u001b[38;5;241m=\u001b[39mn_clusters,\n\u001b[0;32m    366\u001b[0m                     attributeDistribution\u001b[38;5;241m=\u001b[39m\u001b[38;5;28mself\u001b[39m\u001b[38;5;241m.\u001b[39mattributes_distribution_name,\n\u001b[0;32m    367\u001b[0m                     edgeDistribution\u001b[38;5;241m=\u001b[39m\u001b[38;5;28mself\u001b[39m\u001b[38;5;241m.\u001b[39medge_distribution_name,\n\u001b[0;32m    368\u001b[0m                     weightDistribution\u001b[38;5;241m=\u001b[39m\u001b[38;5;28mself\u001b[39m\u001b[38;5;241m.\u001b[39mweight_distribution_name\n\u001b[0;32m    369\u001b[0m                     )\n\u001b[1;32m--> 370\u001b[0m z_pred_both \u001b[38;5;241m=\u001b[39m \u001b[43mmodel\u001b[49m\u001b[38;5;241;43m.\u001b[39;49m\u001b[43mfit\u001b[49m\u001b[43m(\u001b[49m\u001b[43mA\u001b[49m\u001b[43m,\u001b[49m\u001b[43mX\u001b[49m\u001b[43m,\u001b[49m\u001b[43mY\u001b[49m\u001b[43m)\u001b[49m\u001b[38;5;241m.\u001b[39mpredict( X, Y )\n\u001b[0;32m    371\u001b[0m \u001b[38;5;66;03m#chernoff_graph_labels = model.memberships_from_graph\u001b[39;00m\n\u001b[0;32m    372\u001b[0m \u001b[38;5;66;03m#chernoff_att_labels = model.memberships_from_attributes\u001b[39;00m\n\u001b[0;32m    373\u001b[0m aris_both\u001b[38;5;241m.\u001b[39mappend( adjusted_rand_score( z_true, z_pred_both ) )\n",
      "File \u001b[1;32m~\\.conda\\envs\\pydml\\lib\\site-packages\\BregmanClusteringTorch\\torch_models.py:129\u001b[0m, in \u001b[0;36mBregmanEdgeClusteringTorch.fit\u001b[1;34m(self, A, X, Y, Z_init)\u001b[0m\n\u001b[0;32m    126\u001b[0m \u001b[38;5;28mself\u001b[39m\u001b[38;5;241m.\u001b[39medge_index \u001b[38;5;241m=\u001b[39m torch\u001b[38;5;241m.\u001b[39mnonzero(A)\u001b[38;5;241m.\u001b[39mto(device)\n\u001b[0;32m    128\u001b[0m \u001b[38;5;28mself\u001b[39m\u001b[38;5;241m.\u001b[39mattribute_means \u001b[38;5;241m=\u001b[39m \u001b[38;5;28mself\u001b[39m\u001b[38;5;241m.\u001b[39mcomputeAttributeMeans(Y,\u001b[38;5;28mself\u001b[39m\u001b[38;5;241m.\u001b[39mpredicted_memberships)\n\u001b[1;32m--> 129\u001b[0m \u001b[38;5;28mself\u001b[39m\u001b[38;5;241m.\u001b[39mgraph_means \u001b[38;5;241m=\u001b[39m \u001b[38;5;28;43mself\u001b[39;49m\u001b[38;5;241;43m.\u001b[39;49m\u001b[43mcomputeGraphMeans\u001b[49m\u001b[43m(\u001b[49m\u001b[43mA\u001b[49m\u001b[43m,\u001b[49m\u001b[38;5;28;43mself\u001b[39;49m\u001b[38;5;241;43m.\u001b[39;49m\u001b[43mpredicted_memberships\u001b[49m\u001b[43m)\u001b[49m\n\u001b[0;32m    130\u001b[0m \u001b[38;5;28mself\u001b[39m\u001b[38;5;241m.\u001b[39medge_means \u001b[38;5;241m=\u001b[39m \u001b[38;5;28mself\u001b[39m\u001b[38;5;241m.\u001b[39mcomputeEdgeMeans(X,\u001b[38;5;28mself\u001b[39m\u001b[38;5;241m.\u001b[39mpredicted_memberships)\n\u001b[0;32m    131\u001b[0m new_memberships \u001b[38;5;241m=\u001b[39m \u001b[38;5;28mself\u001b[39m\u001b[38;5;241m.\u001b[39massignments( A, X, Y ) \n",
      "File \u001b[1;32m~\\.conda\\envs\\pydml\\lib\\site-packages\\BregmanClusteringTorch\\torch_models.py:242\u001b[0m, in \u001b[0;36mBregmanEdgeClusteringTorch.computeGraphMeans\u001b[1;34m(self, A, Z)\u001b[0m\n\u001b[0;32m    241\u001b[0m \u001b[38;5;28;01mdef\u001b[39;00m \u001b[38;5;21mcomputeGraphMeans\u001b[39m( \u001b[38;5;28mself\u001b[39m, A, Z ):\n\u001b[1;32m--> 242\u001b[0m     normalisation \u001b[38;5;241m=\u001b[39m \u001b[43mtorch\u001b[49m\u001b[38;5;241;43m.\u001b[39;49m\u001b[43mlinalg\u001b[49m\u001b[38;5;241;43m.\u001b[39;49m\u001b[43mpinv\u001b[49m\u001b[43m \u001b[49m\u001b[43m(\u001b[49m\u001b[43m \u001b[49m\u001b[43mZ\u001b[49m\u001b[38;5;241;43m.\u001b[39;49m\u001b[43mT\u001b[49m\u001b[43m \u001b[49m\u001b[38;5;241;43m@\u001b[39;49m\u001b[43m \u001b[49m\u001b[43mZ\u001b[49m\u001b[43m \u001b[49m\u001b[43m)\u001b[49m\n\u001b[0;32m    243\u001b[0m     \u001b[38;5;28;01mreturn\u001b[39;00m normalisation \u001b[38;5;241m@\u001b[39m Z\u001b[38;5;241m.\u001b[39mT \u001b[38;5;241m@\u001b[39m A \u001b[38;5;241m@\u001b[39m Z \u001b[38;5;241m@\u001b[39m normalisation\n",
      "\u001b[1;31mRuntimeError\u001b[0m: Unspecified error"
     ]
    }
   ],
   "source": [
    "attributes_distribution = \"gaussian\"\n",
    "edge_distribution = \"bernoulli\"\n",
    "weight_distribution = \"exponential\"\n",
    "a_range = np.linspace(5,13,10)\n",
    "r_range = np.linspace(0,0.62,10)*np.log(n)\n",
    "BregmanBenchmark(att_variance=1,\n",
    "                    attributes_distribution=attributes_distribution,\n",
    "                    weight_variance=1,\n",
    "                    weight_distribution=weight_distribution,\n",
    "                    edge_distribution=edge_distribution,\n",
    "                    run_gpu=True)\\\n",
    "                  .run_2_1(n_average=10,\n",
    "                            cluster_sizes=sizes,\n",
    "                            b=5,\n",
    "                            a_range=a_range,\n",
    "                            r_range = r_range,\n",
    "                            dense=False,\n",
    "                            plot_3d=False,\n",
    "                            binary=True)\n",
    "#!cp \"/content/contour_plot_2_1.jpeg\" \"/content/drive/MyDrive\""
   ]
  },
  {
   "cell_type": "code",
   "execution_count": null,
   "id": "Ulmgc7Bpf5AY",
   "metadata": {
    "id": "Ulmgc7Bpf5AY"
   },
   "outputs": [],
   "source": [
    "import torch\n",
    "import torch_directml\n",
    "dml = torch_directml.device()\n",
    "tensor1 = torch.tensor([1]).to(dml) # Note that dml is a variable, not a string!\n",
    "tensor2 = torch.tensor([2]).to(dml)\n",
    "dml_algebra = tensor1 + 1\n",
    "dml_algebra.item()\n",
    "torch.dot(tensor1,tensor2)"
   ]
  },
  {
   "cell_type": "code",
   "execution_count": null,
   "id": "b22d43bb",
   "metadata": {},
   "outputs": [],
   "source": [
    "print(\"a\")"
   ]
  },
  {
   "cell_type": "code",
   "execution_count": null,
   "id": "GdUwRBlstRH-",
   "metadata": {
    "id": "GdUwRBlstRH-"
   },
   "outputs": [],
   "source": [
    "attributes_distribution = \"poisson\"\n",
    "edge_distribution = \"bernoulli\"\n",
    "weight_distribution = \"exponential\"\n",
    "d_range = np.arange(1,5)\n",
    "a_range = np.linspace(5,13,10)\n",
    "lambda_range = np.arange(1,6)\n",
    "att_centers = np.arange(1,4).reshape(-1,1)\n",
    "BregmanBenchmark(att_variance=1,\n",
    "                    attributes_distribution=attributes_distribution,\n",
    "                    weight_variance=1,\n",
    "                    weight_distribution=weight_distribution,\n",
    "                    edge_distribution=edge_distribution,\n",
    "                    att_centers=att_centers,\n",
    "                    run_gpu=True\n",
    "                 )\\\n",
    "                  .run_2_3(n_average=10,\n",
    "                            cluster_sizes=sizes,\n",
    "                            d_range= d_range,\n",
    "                            lambda_range = lambda_range,\n",
    "                            a_range = a_range,\n",
    "                            b = 5,\n",
    "                            dense=False,\n",
    "                            binary=False)\n",
    "!cp \"/content/contour_plot_2_3.jpeg\" \"/content/drive/MyDrive\""
   ]
  },
  {
   "cell_type": "code",
   "execution_count": null,
   "id": "XYNgyTRXEhrK",
   "metadata": {
    "id": "XYNgyTRXEhrK"
   },
   "outputs": [],
   "source": [
    "attributes_distribution = \"poisson\"\n",
    "edge_distribution = \"bernoulli\"\n",
    "weight_distribution = \"gaussian\"\n",
    "d_range = np.arange(1,5)\n",
    "mu_range = np.linspace(0,5,10)\n",
    "att_centers = np.arange(1,4).reshape(-1,1)\n",
    "BregmanBenchmark(att_variance=1,\n",
    "                    attributes_distribution=attributes_distribution,\n",
    "                    weight_variance=1,\n",
    "                    weight_distribution=weight_distribution,\n",
    "                    edge_distribution=edge_distribution,\n",
    "                    att_centers=att_centers,\n",
    "                    run_gpu=True\n",
    "                  )\\\n",
    "                  .run_2_2(n_average=10,\n",
    "                            cluster_sizes=sizes,\n",
    "                             d_range = d_range,\n",
    "                             mu_range = mu_range,\n",
    "                             dense=True,\n",
    "                             binary=False)\n",
    "#!cp \"/content/contour_plot_2_2.jpeg\" \"/content/drive/MyDrive\""
   ]
  }
 ],
 "metadata": {
  "accelerator": "GPU",
  "colab": {
   "provenance": []
  },
  "gpuClass": "standard",
  "kernelspec": {
   "display_name": "Python 3 (ipykernel)",
   "language": "python",
   "name": "python3"
  },
  "language_info": {
   "codemirror_mode": {
    "name": "ipython",
    "version": 3
   },
   "file_extension": ".py",
   "mimetype": "text/x-python",
   "name": "python",
   "nbconvert_exporter": "python",
   "pygments_lexer": "ipython3",
   "version": "3.8.16"
  }
 },
 "nbformat": 4,
 "nbformat_minor": 5
}
