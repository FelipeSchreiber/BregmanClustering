{
 "cells": [
  {
   "cell_type": "code",
   "execution_count": 1,
   "id": "d27f34a6",
   "metadata": {},
   "outputs": [
    {
     "name": "stdout",
     "output_type": "stream",
     "text": [
      "Defaulting to user installation because normal site-packages is not writeable"
     ]
    },
    {
     "name": "stderr",
     "output_type": "stream",
     "text": [
      "  Running command git clone --filter=blob:none --quiet https://github.com/FelipeSchreiber/BregmanClustering.git 'C:\\Users\\schre\\AppData\\Local\\Temp\\pip-req-build-722mmgth'\n"
     ]
    },
    {
     "name": "stdout",
     "output_type": "stream",
     "text": [
      "\n",
      "Collecting git+https://github.com/FelipeSchreiber/BregmanClustering.git\n",
      "  Cloning https://github.com/FelipeSchreiber/BregmanClustering.git to c:\\users\\schre\\appdata\\local\\temp\\pip-req-build-722mmgth\n",
      "  Resolved https://github.com/FelipeSchreiber/BregmanClustering.git to commit 597aa99b2b1810ddcd2ce4ccb82415bc8d7b93c4\n",
      "  Preparing metadata (setup.py): started\n",
      "  Preparing metadata (setup.py): finished with status 'done'\n",
      "Building wheels for collected packages: bregClust\n",
      "  Building wheel for bregClust (setup.py): started\n",
      "  Building wheel for bregClust (setup.py): finished with status 'done'\n",
      "  Created wheel for bregClust: filename=bregClust-1.0-py3-none-any.whl size=21385 sha256=9c964c1e846d3fadc2d51429fead2e19c23fe4906ac2fa2eb8000a61ad87f5b5\n",
      "  Stored in directory: C:\\Users\\schre\\AppData\\Local\\Temp\\pip-ephem-wheel-cache-v6zokhx1\\wheels\\3f\\90\\fb\\833529540c1d5f19c385fde761cc07c664c4b9a5edf7c6735b\n",
      "Successfully built bregClust\n",
      "Installing collected packages: bregClust\n",
      "  Attempting uninstall: bregClust\n",
      "    Found existing installation: bregClust 1.0\n",
      "    Uninstalling bregClust-1.0:\n",
      "      Successfully uninstalled bregClust-1.0\n",
      "Successfully installed bregClust-1.0\n"
     ]
    }
   ],
   "source": [
    "#!pip install torch_geometric\n",
    "!pip install --upgrade --force-reinstall git+https://github.com/FelipeSchreiber/BregmanClustering.git --no-deps"
   ]
  },
  {
   "cell_type": "code",
   "execution_count": 5,
   "id": "fd012621",
   "metadata": {},
   "outputs": [],
   "source": [
    "from BregmanClustering.models import SoftBregmanNodeAttributeGraphClustering as VEMbreg\n",
    "from sklearn.metrics import adjusted_rand_score, normalized_mutual_info_score\n",
    "from BregmanTests.WSBM import *\n",
    "from BregmanClusteringTorch.torch_models import SoftBregmanClusteringTorch as torchBreg\n",
    "from BregmanClusteringTorch.torch_models import SoftBregmanClusteringTorchSparse as sparseBreg"
   ]
  },
  {
   "cell_type": "code",
   "execution_count": 3,
   "id": "47727b83",
   "metadata": {},
   "outputs": [],
   "source": [
    "c = 3\n",
    "n = 100\n",
    "N = c*n\n",
    "r = 10\n",
    "d = 2\n",
    "P = np.array([[0.8, 0.2, 0.3],[0.2, 0.7, 0.4],[0.3, 0.4, 0.6]])\n",
    "X,Y,true_labels = BregmanBenchmark(P,[n]*c,-10,10,dims=d,weight_variance=0.01,att_variance=0.1,\\\n",
    "                       weight_distribution=\"logistic\",attributes_distribution=\"logistic\",radius=r).generate_benchmark_WSBM()\n",
    "A = (X != 0).astype(int)"
   ]
  },
  {
   "cell_type": "code",
   "execution_count": 7,
   "id": "5ec32aff",
   "metadata": {},
   "outputs": [
    {
     "name": "stdout",
     "output_type": "stream",
     "text": [
      "Initialisation chosen from the attributes\n",
      "0\n"
     ]
    },
    {
     "ename": "IndexError",
     "evalue": "tensors used as indices must be long, byte or bool tensors",
     "output_type": "error",
     "traceback": [
      "\u001b[1;31m---------------------------------------------------------------------------\u001b[0m",
      "\u001b[1;31mIndexError\u001b[0m                                Traceback (most recent call last)",
      "Cell \u001b[1;32mIn[7], line 2\u001b[0m\n\u001b[0;32m      1\u001b[0m model \u001b[39m=\u001b[39m torchBreg(n_clusters\u001b[39m=\u001b[39mc,normalize_\u001b[39m=\u001b[39m\u001b[39mTrue\u001b[39;00m,thresholding\u001b[39m=\u001b[39m\u001b[39mTrue\u001b[39;00m)\n\u001b[1;32m----> 2\u001b[0m model\u001b[39m.\u001b[39;49mfit(A, Y)\n\u001b[0;32m      3\u001b[0m z_pred_both \u001b[39m=\u001b[39m model\u001b[39m.\u001b[39mpredict(A,Y)\n\u001b[0;32m      4\u001b[0m \u001b[39mprint\u001b[39m(adjusted_rand_score(true_labels, z_pred_both),normalized_mutual_info_score(true_labels, z_pred_both))\n",
      "File \u001b[1;32m~\\AppData\\Roaming\\Python\\Python310\\site-packages\\BregmanClusteringTorch\\torch_models.py:189\u001b[0m, in \u001b[0;36mSoftBregmanClusteringTorch.fit\u001b[1;34m(self, X, Y, Z_init)\u001b[0m\n\u001b[0;32m    187\u001b[0m \u001b[39mwhile\u001b[39;00m \u001b[39mTrue\u001b[39;00m:\n\u001b[0;32m    188\u001b[0m     \u001b[39mprint\u001b[39m(iter_)\n\u001b[1;32m--> 189\u001b[0m     new_tau \u001b[39m=\u001b[39m \u001b[39mself\u001b[39;49m\u001b[39m.\u001b[39;49mVE_step(X,Y,tau)\n\u001b[0;32m    190\u001b[0m     \u001b[39mself\u001b[39m\u001b[39m.\u001b[39mattribute_means,\u001b[39mself\u001b[39m\u001b[39m.\u001b[39mgraph_means \u001b[39m=\u001b[39m \u001b[39mself\u001b[39m\u001b[39m.\u001b[39mM_Step(X,Y,new_tau)\n\u001b[0;32m    191\u001b[0m     \u001b[39mif\u001b[39;00m torch\u001b[39m.\u001b[39mallclose(tau,new_tau) \u001b[39mor\u001b[39;00m iter_ \u001b[39m>\u001b[39m \u001b[39mself\u001b[39m\u001b[39m.\u001b[39mn_iters:\n",
      "File \u001b[1;32m~\\AppData\\Roaming\\Python\\Python310\\site-packages\\BregmanClusteringTorch\\torch_models.py:151\u001b[0m, in \u001b[0;36mSoftBregmanClusteringTorch.VE_step\u001b[1;34m(self, X, Y, tau)\u001b[0m\n\u001b[0;32m    149\u001b[0m     max_ \u001b[39m=\u001b[39m torch\u001b[39m.\u001b[39margmax(temp,dim\u001b[39m=\u001b[39m\u001b[39m1\u001b[39m)\n\u001b[0;32m    150\u001b[0m     tau \u001b[39m=\u001b[39m torch\u001b[39m.\u001b[39mzeros((\u001b[39mself\u001b[39m\u001b[39m.\u001b[39mN,\u001b[39mself\u001b[39m\u001b[39m.\u001b[39mn_clusters))\n\u001b[1;32m--> 151\u001b[0m     tau[\u001b[39mself\u001b[39m\u001b[39m.\u001b[39mrow_indices,max_] \u001b[39m=\u001b[39m torch\u001b[39m.\u001b[39mones(\u001b[39mself\u001b[39m\u001b[39m.\u001b[39mN)\n\u001b[0;32m    152\u001b[0m     \u001b[39mreturn\u001b[39;00m tau\u001b[39m.\u001b[39mto(device)\n\u001b[0;32m    153\u001b[0m tau \u001b[39m=\u001b[39m temp\u001b[39m/\u001b[39m(temp\u001b[39m.\u001b[39msum(dim\u001b[39m=\u001b[39m\u001b[39m1\u001b[39m)[:,\u001b[39mNone\u001b[39;00m])\n",
      "\u001b[1;31mIndexError\u001b[0m: tensors used as indices must be long, byte or bool tensors"
     ]
    }
   ],
   "source": [
    "model = torchBreg(n_clusters=c,normalize_=True,thresholding=True)\n",
    "model.fit(A, Y)\n",
    "z_pred_both = model.predict(A,Y)\n",
    "print(adjusted_rand_score(true_labels, z_pred_both),normalized_mutual_info_score(true_labels, z_pred_both))"
   ]
  }
 ],
 "metadata": {
  "kernelspec": {
   "display_name": "Python 3 (ipykernel)",
   "language": "python",
   "name": "python3"
  },
  "language_info": {
   "codemirror_mode": {
    "name": "ipython",
    "version": 3
   },
   "file_extension": ".py",
   "mimetype": "text/x-python",
   "name": "python",
   "nbconvert_exporter": "python",
   "pygments_lexer": "ipython3",
   "version": "3.10.9"
  }
 },
 "nbformat": 4,
 "nbformat_minor": 5
}
