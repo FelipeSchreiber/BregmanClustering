{
 "cells": [
  {
   "cell_type": "code",
   "execution_count": 1,
   "id": "d27f34a6",
   "metadata": {},
   "outputs": [
    {
     "name": "stdout",
     "output_type": "stream",
     "text": [
      "\u001b[33mWARNING: Ignoring invalid distribution -regclust (/home/felipe/anaconda3/lib/python3.9/site-packages)\u001b[0m\u001b[33m\n",
      "\u001b[0m\u001b[33mWARNING: Ignoring invalid distribution -regclust (/home/felipe/anaconda3/lib/python3.9/site-packages)\u001b[0m\u001b[33m\n",
      "\u001b[0mCollecting git+https://github.com/FelipeSchreiber/BregmanClustering.git\n",
      "  Cloning https://github.com/FelipeSchreiber/BregmanClustering.git to /tmp/pip-req-build-eloychoy\n",
      "  Running command git clone --filter=blob:none --quiet https://github.com/FelipeSchreiber/BregmanClustering.git /tmp/pip-req-build-eloychoy\n",
      "  Resolved https://github.com/FelipeSchreiber/BregmanClustering.git to commit 40cd47d5524a6c6ba65bb53cf8ee1a5d1f3e1a6d\n",
      "  Preparing metadata (setup.py) ... \u001b[?25ldone\n",
      "\u001b[?25hBuilding wheels for collected packages: bregClust\n",
      "  Building wheel for bregClust (setup.py) ... \u001b[?25ldone\n",
      "\u001b[?25h  Created wheel for bregClust: filename=bregClust-0.1-py3-none-any.whl size=10597 sha256=2648b28dd0a32ffd60d1f2a8414ee46c730aeda1f462196e98a5e324e8e79d52\n",
      "  Stored in directory: /tmp/pip-ephem-wheel-cache-nktd591r/wheels/6f/8f/ab/2faa84d8b9fad58989d72cda12225f6191888313b2d42f6ad5\n",
      "Successfully built bregClust\n",
      "\u001b[33mWARNING: Ignoring invalid distribution -regclust (/home/felipe/anaconda3/lib/python3.9/site-packages)\u001b[0m\u001b[33m\n",
      "\u001b[0mInstalling collected packages: bregClust\n",
      "  Attempting uninstall: bregClust\n",
      "\u001b[33m    WARNING: Ignoring invalid distribution -regclust (/home/felipe/anaconda3/lib/python3.9/site-packages)\u001b[0m\u001b[33m\n",
      "\u001b[0m    Found existing installation: bregClust 0.1\n",
      "    Uninstalling bregClust-0.1:\n",
      "      Successfully uninstalled bregClust-0.1\n",
      "\u001b[33mWARNING: Ignoring invalid distribution -regclust (/home/felipe/anaconda3/lib/python3.9/site-packages)\u001b[0m\u001b[33m\n",
      "\u001b[0mSuccessfully installed bregClust-0.1\n",
      "\u001b[33mWARNING: Ignoring invalid distribution -regclust (/home/felipe/anaconda3/lib/python3.9/site-packages)\u001b[0m\u001b[33m\n",
      "\u001b[0m\u001b[33mWARNING: Ignoring invalid distribution -regclust (/home/felipe/anaconda3/lib/python3.9/site-packages)\u001b[0m\u001b[33m\n",
      "\u001b[0m\u001b[33mWARNING: Ignoring invalid distribution -regclust (/home/felipe/anaconda3/lib/python3.9/site-packages)\u001b[0m\u001b[33m\n",
      "\u001b[0m"
     ]
    }
   ],
   "source": [
    "!pip install torch_geometric\n",
    "!pip install --upgrade --force-reinstall git+https://github.com/FelipeSchreiber/BregmanClustering.git --no-deps"
   ]
  },
  {
   "cell_type": "code",
   "execution_count": 2,
   "id": "fd012621",
   "metadata": {},
   "outputs": [],
   "source": [
    "from BregmanClustering.models import SoftBregmanNodeAttributeGraphClustering as VEMbreg\n",
    "from sklearn.metrics import adjusted_rand_score, normalized_mutual_info_score\n",
    "from BregmanTests.WSBM import *\n",
    "from BregmanClusteringTorch.torch_models import SoftBregmanClusteringTorch as torchBreg"
   ]
  },
  {
   "cell_type": "code",
   "execution_count": 3,
   "id": "47727b83",
   "metadata": {},
   "outputs": [],
   "source": [
    "c = 3\n",
    "n = 100\n",
    "N = c*n\n",
    "r = 10\n",
    "d = 2\n",
    "P = np.array([[0.8, 0.2, 0.3],[0.2, 0.7, 0.4],[0.3, 0.4, 0.6]])\n",
    "X,Y,true_labels = BregmanBenchmark(P,[n]*c,-10,10,dims=d,weight_variance=0.01,att_variance=0.1,\\\n",
    "                       weight_distribution=\"logistic\",attributes_distribution=\"logistic\",radius=r).generate_benchmark_WSBM()\n",
    "A = (X != 0).astype(int)"
   ]
  },
  {
   "cell_type": "code",
   "execution_count": 8,
   "id": "5ec32aff",
   "metadata": {},
   "outputs": [
    {
     "name": "stderr",
     "output_type": "stream",
     "text": [
      "Exception ignored on calling ctypes callback function: <function _ThreadpoolInfo._find_modules_with_dl_iterate_phdr.<locals>.match_module_callback at 0x7f554850b940>\n",
      "Traceback (most recent call last):\n",
      "  File \"/home/felipe/anaconda3/lib/python3.9/site-packages/threadpoolctl.py\", line 400, in match_module_callback\n",
      "    self._make_module_from_path(filepath)\n",
      "  File \"/home/felipe/anaconda3/lib/python3.9/site-packages/threadpoolctl.py\", line 515, in _make_module_from_path\n",
      "    module = module_class(filepath, prefix, user_api, internal_api)\n",
      "  File \"/home/felipe/anaconda3/lib/python3.9/site-packages/threadpoolctl.py\", line 606, in __init__\n",
      "    self.version = self.get_version()\n",
      "  File \"/home/felipe/anaconda3/lib/python3.9/site-packages/threadpoolctl.py\", line 646, in get_version\n",
      "    config = get_config().split()\n",
      "AttributeError: 'NoneType' object has no attribute 'split'\n",
      "Exception ignored on calling ctypes callback function: <function _ThreadpoolInfo._find_modules_with_dl_iterate_phdr.<locals>.match_module_callback at 0x7f554850b940>\n",
      "Traceback (most recent call last):\n",
      "  File \"/home/felipe/anaconda3/lib/python3.9/site-packages/threadpoolctl.py\", line 400, in match_module_callback\n",
      "    self._make_module_from_path(filepath)\n",
      "  File \"/home/felipe/anaconda3/lib/python3.9/site-packages/threadpoolctl.py\", line 515, in _make_module_from_path\n",
      "    module = module_class(filepath, prefix, user_api, internal_api)\n",
      "  File \"/home/felipe/anaconda3/lib/python3.9/site-packages/threadpoolctl.py\", line 606, in __init__\n",
      "    self.version = self.get_version()\n",
      "  File \"/home/felipe/anaconda3/lib/python3.9/site-packages/threadpoolctl.py\", line 646, in get_version\n",
      "    config = get_config().split()\n",
      "AttributeError: 'NoneType' object has no attribute 'split'\n",
      "Exception ignored on calling ctypes callback function: <function _ThreadpoolInfo._find_modules_with_dl_iterate_phdr.<locals>.match_module_callback at 0x7f554850b940>\n",
      "Traceback (most recent call last):\n",
      "  File \"/home/felipe/anaconda3/lib/python3.9/site-packages/threadpoolctl.py\", line 400, in match_module_callback\n",
      "    self._make_module_from_path(filepath)\n",
      "  File \"/home/felipe/anaconda3/lib/python3.9/site-packages/threadpoolctl.py\", line 515, in _make_module_from_path\n",
      "    module = module_class(filepath, prefix, user_api, internal_api)\n",
      "  File \"/home/felipe/anaconda3/lib/python3.9/site-packages/threadpoolctl.py\", line 606, in __init__\n",
      "    self.version = self.get_version()\n",
      "  File \"/home/felipe/anaconda3/lib/python3.9/site-packages/threadpoolctl.py\", line 646, in get_version\n",
      "    config = get_config().split()\n",
      "AttributeError: 'NoneType' object has no attribute 'split'\n",
      "Exception ignored on calling ctypes callback function: <function _ThreadpoolInfo._find_modules_with_dl_iterate_phdr.<locals>.match_module_callback at 0x7f554850b940>\n",
      "Traceback (most recent call last):\n",
      "  File \"/home/felipe/anaconda3/lib/python3.9/site-packages/threadpoolctl.py\", line 400, in match_module_callback\n",
      "    self._make_module_from_path(filepath)\n",
      "  File \"/home/felipe/anaconda3/lib/python3.9/site-packages/threadpoolctl.py\", line 515, in _make_module_from_path\n",
      "    module = module_class(filepath, prefix, user_api, internal_api)\n",
      "  File \"/home/felipe/anaconda3/lib/python3.9/site-packages/threadpoolctl.py\", line 606, in __init__\n",
      "    self.version = self.get_version()\n",
      "  File \"/home/felipe/anaconda3/lib/python3.9/site-packages/threadpoolctl.py\", line 646, in get_version\n",
      "    config = get_config().split()\n",
      "AttributeError: 'NoneType' object has no attribute 'split'\n"
     ]
    },
    {
     "name": "stdout",
     "output_type": "stream",
     "text": [
      "[[0.69   0.2024 0.4037]\n",
      " [0.2024 0.7956 0.2988]\n",
      " [0.4037 0.2988 0.6002]]\n",
      "Initialisation chosen from the graph\n",
      "0\n",
      "1.0 1.0\n"
     ]
    }
   ],
   "source": [
    "model = torchBreg(n_clusters=c,thresholding=True,normalize_=True)\n",
    "model.fit(A,Y)\n",
    "z_pred_both = model.predict(A,Y)\n",
    "print(adjusted_rand_score(true_labels, z_pred_both),normalized_mutual_info_score(true_labels, z_pred_both))"
   ]
  }
 ],
 "metadata": {
  "kernelspec": {
   "display_name": "Python 3 (ipykernel)",
   "language": "python",
   "name": "python3"
  },
  "language_info": {
   "codemirror_mode": {
    "name": "ipython",
    "version": 3
   },
   "file_extension": ".py",
   "mimetype": "text/x-python",
   "name": "python",
   "nbconvert_exporter": "python",
   "pygments_lexer": "ipython3",
   "version": "3.9.16"
  }
 },
 "nbformat": 4,
 "nbformat_minor": 5
}
