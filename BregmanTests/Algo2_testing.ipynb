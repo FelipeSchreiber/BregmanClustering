{
 "cells": [
  {
   "cell_type": "code",
   "execution_count": 1,
   "id": "d27f34a6",
   "metadata": {},
   "outputs": [
    {
     "name": "stdout",
     "output_type": "stream",
     "text": [
      "Defaulting to user installation because normal site-packages is not writeable\n",
      "Collecting git+https://github.com/FelipeSchreiber/BregmanClustering.git\n",
      "  Cloning https://github.com/FelipeSchreiber/BregmanClustering.git to c:\\users\\schre\\appdata\\local\\temp\\pip-req-build-2e787t_j\n",
      "  Resolved https://github.com/FelipeSchreiber/BregmanClustering.git to commit f01a211cb85994a573146498d616e61c169564da\n",
      "  Preparing metadata (setup.py): started\n",
      "  Preparing metadata (setup.py): finished with status 'done'\n",
      "Building wheels for collected packages: bregClust\n",
      "  Building wheel for bregClust (setup.py): started\n",
      "  Building wheel for bregClust (setup.py): finished with status 'done'\n",
      "  Created wheel for bregClust: filename=bregClust-1.0-py3-none-any.whl size=21385 sha256=639fb4789e97104dedf21f75313cabfb8e03db0b1d921dea3411ae74168ea1ee\n",
      "  Stored in directory: C:\\Users\\schre\\AppData\\Local\\Temp\\pip-ephem-wheel-cache-3yyg8_ta\\wheels\\3f\\90\\fb\\833529540c1d5f19c385fde761cc07c664c4b9a5edf7c6735b\n",
      "Successfully built bregClust\n",
      "Installing collected packages: bregClust\n",
      "  Attempting uninstall: bregClust\n",
      "    Found existing installation: bregClust 1.0\n",
      "    Uninstalling bregClust-1.0:\n",
      "      Successfully uninstalled bregClust-1.0\n",
      "Successfully installed bregClust-1.0\n"
     ]
    },
    {
     "name": "stderr",
     "output_type": "stream",
     "text": [
      "  Running command git clone --filter=blob:none --quiet https://github.com/FelipeSchreiber/BregmanClustering.git 'C:\\Users\\schre\\AppData\\Local\\Temp\\pip-req-build-2e787t_j'\n"
     ]
    }
   ],
   "source": [
    "#!pip install torch_geometric\n",
    "%pip install --upgrade --force-reinstall git+https://github.com/FelipeSchreiber/BregmanClustering.git --no-deps"
   ]
  },
  {
   "cell_type": "code",
   "execution_count": 2,
   "id": "fd012621",
   "metadata": {},
   "outputs": [],
   "source": [
    "from BregmanClustering.models import SoftBregmanNodeAttributeGraphClustering as VEMbreg\n",
    "from sklearn.metrics import adjusted_rand_score, normalized_mutual_info_score\n",
    "from BregmanTests.benchmark import *\n",
    "from BregmanClusteringTorch.torch_models import SoftBregmanClusteringTorch as torchBreg\n",
    "from BregmanClusteringTorch.torch_models import SoftBregmanClusteringTorchSparse as sparseBreg"
   ]
  },
  {
   "cell_type": "code",
   "execution_count": 3,
   "id": "47727b83",
   "metadata": {},
   "outputs": [],
   "source": [
    "c = 3\n",
    "n = 100\n",
    "N = c*n\n",
    "r = 10\n",
    "d = 2\n",
    "P = np.array([[0.8, 0.2, 0.3],[0.2, 0.7, 0.4],[0.3, 0.4, 0.6]])\n",
    "X,Y,true_labels = BregmanBenchmark(P,[n]*c,-10,10,dims=d,weight_variance=0.01,att_variance=0.1,\\\n",
    "                       weight_distribution=\"logistic\",attributes_distribution=\"logistic\",radius=r).generate_benchmark_WSBM()\n",
    "A = (X != 0).astype(int)"
   ]
  },
  {
   "cell_type": "code",
   "execution_count": 4,
   "id": "5ec32aff",
   "metadata": {},
   "outputs": [
    {
     "name": "stdout",
     "output_type": "stream",
     "text": [
      "Initialisation chosen from the attributes\n",
      "0\n",
      "1.0 1.0\n"
     ]
    }
   ],
   "source": [
    "model = torchBreg(n_clusters=c,normalize_=True,thresholding=True)\n",
    "model.fit(A, Y)\n",
    "z_pred_both = model.predict(A,Y)\n",
    "print(adjusted_rand_score(true_labels, z_pred_both),normalized_mutual_info_score(true_labels, z_pred_both))"
   ]
  }
 ],
 "metadata": {
  "kernelspec": {
   "display_name": "Python 3 (ipykernel)",
   "language": "python",
   "name": "python3"
  },
  "language_info": {
   "codemirror_mode": {
    "name": "ipython",
    "version": 3
   },
   "file_extension": ".py",
   "mimetype": "text/x-python",
   "name": "python",
   "nbconvert_exporter": "python",
   "pygments_lexer": "ipython3",
   "version": "3.10.9"
  }
 },
 "nbformat": 4,
 "nbformat_minor": 5
}
