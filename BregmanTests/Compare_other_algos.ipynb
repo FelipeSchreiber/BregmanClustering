{
  "cells": [
    {
      "cell_type": "code",
      "execution_count": 1,
      "id": "fb0e707d",
      "metadata": {
        "colab": {
          "base_uri": "https://localhost:8080/"
        },
        "id": "fb0e707d",
        "outputId": "3a90f958-68a1-4025-8cbb-b5524177602d"
      },
      "outputs": [
        {
          "output_type": "stream",
          "name": "stdout",
          "text": [
            "Looking in indexes: https://pypi.org/simple, https://us-python.pkg.dev/colab-wheels/public/simple/\n",
            "Collecting git+https://github.com/FelipeSchreiber/BregmanClustering.git\n",
            "  Cloning https://github.com/FelipeSchreiber/BregmanClustering.git to /tmp/pip-req-build-dtewnn67\n",
            "  Running command git clone --filter=blob:none --quiet https://github.com/FelipeSchreiber/BregmanClustering.git /tmp/pip-req-build-dtewnn67\n",
            "  Resolved https://github.com/FelipeSchreiber/BregmanClustering.git to commit 531910595d0541364c2d83be73e855eade5f8139\n",
            "  Preparing metadata (setup.py) ... \u001b[?25l\u001b[?25hdone\n",
            "Building wheels for collected packages: bregClust\n",
            "  Building wheel for bregClust (setup.py) ... \u001b[?25l\u001b[?25hdone\n",
            "  Created wheel for bregClust: filename=bregClust-1.0-py3-none-any.whl size=21237 sha256=75c3f0d5a005e85ef7bce5812a02d538533c6994dcaa69ddba9bc93e3055167a\n",
            "  Stored in directory: /tmp/pip-ephem-wheel-cache-pkd30a87/wheels/6f/8f/ab/2faa84d8b9fad58989d72cda12225f6191888313b2d42f6ad5\n",
            "Successfully built bregClust\n",
            "Installing collected packages: bregClust\n",
            "  Attempting uninstall: bregClust\n",
            "    Found existing installation: bregClust 1.0\n",
            "    Uninstalling bregClust-1.0:\n",
            "      Successfully uninstalled bregClust-1.0\n",
            "Successfully installed bregClust-1.0\n",
            "Looking in indexes: https://pypi.org/simple, https://us-python.pkg.dev/colab-wheels/public/simple/\n",
            "Requirement already satisfied: torch_geometric in /usr/local/lib/python3.9/dist-packages (2.3.0)\n",
            "Requirement already satisfied: tqdm in /usr/local/lib/python3.9/dist-packages (from torch_geometric) (4.65.0)\n",
            "Requirement already satisfied: jinja2 in /usr/local/lib/python3.9/dist-packages (from torch_geometric) (3.1.2)\n",
            "Requirement already satisfied: pyparsing in /usr/local/lib/python3.9/dist-packages (from torch_geometric) (3.0.9)\n",
            "Requirement already satisfied: scikit-learn in /usr/local/lib/python3.9/dist-packages (from torch_geometric) (1.2.2)\n",
            "Requirement already satisfied: numpy in /usr/local/lib/python3.9/dist-packages (from torch_geometric) (1.22.4)\n",
            "Requirement already satisfied: requests in /usr/local/lib/python3.9/dist-packages (from torch_geometric) (2.27.1)\n",
            "Requirement already satisfied: scipy in /usr/local/lib/python3.9/dist-packages (from torch_geometric) (1.10.1)\n",
            "Requirement already satisfied: psutil>=5.8.0 in /usr/local/lib/python3.9/dist-packages (from torch_geometric) (5.9.4)\n",
            "Requirement already satisfied: MarkupSafe>=2.0 in /usr/local/lib/python3.9/dist-packages (from jinja2->torch_geometric) (2.1.2)\n",
            "Requirement already satisfied: certifi>=2017.4.17 in /usr/local/lib/python3.9/dist-packages (from requests->torch_geometric) (2022.12.7)\n",
            "Requirement already satisfied: charset-normalizer~=2.0.0 in /usr/local/lib/python3.9/dist-packages (from requests->torch_geometric) (2.0.12)\n",
            "Requirement already satisfied: urllib3<1.27,>=1.21.1 in /usr/local/lib/python3.9/dist-packages (from requests->torch_geometric) (1.26.15)\n",
            "Requirement already satisfied: idna<4,>=2.5 in /usr/local/lib/python3.9/dist-packages (from requests->torch_geometric) (3.4)\n",
            "Requirement already satisfied: joblib>=1.1.1 in /usr/local/lib/python3.9/dist-packages (from scikit-learn->torch_geometric) (1.2.0)\n",
            "Requirement already satisfied: threadpoolctl>=2.0.0 in /usr/local/lib/python3.9/dist-packages (from scikit-learn->torch_geometric) (3.1.0)\n",
            "Looking in indexes: https://pypi.org/simple, https://us-python.pkg.dev/colab-wheels/public/simple/\n",
            "Requirement already satisfied: rpy2==3.5.1 in /usr/local/lib/python3.9/dist-packages (3.5.1)\n",
            "Requirement already satisfied: pytz in /usr/local/lib/python3.9/dist-packages (from rpy2==3.5.1) (2022.7.1)\n",
            "Requirement already satisfied: tzlocal in /usr/local/lib/python3.9/dist-packages (from rpy2==3.5.1) (4.3)\n",
            "Requirement already satisfied: cffi>=1.10.0 in /usr/local/lib/python3.9/dist-packages (from rpy2==3.5.1) (1.15.1)\n",
            "Requirement already satisfied: jinja2 in /usr/local/lib/python3.9/dist-packages (from rpy2==3.5.1) (3.1.2)\n",
            "Requirement already satisfied: pycparser in /usr/local/lib/python3.9/dist-packages (from cffi>=1.10.0->rpy2==3.5.1) (2.21)\n",
            "Requirement already satisfied: MarkupSafe>=2.0 in /usr/local/lib/python3.9/dist-packages (from jinja2->rpy2==3.5.1) (2.1.2)\n",
            "Requirement already satisfied: pytz-deprecation-shim in /usr/local/lib/python3.9/dist-packages (from tzlocal->rpy2==3.5.1) (0.1.0.post0)\n",
            "Requirement already satisfied: tzdata in /usr/local/lib/python3.9/dist-packages (from pytz-deprecation-shim->tzlocal->rpy2==3.5.1) (2023.3)\n"
          ]
        }
      ],
      "source": [
        "!pip install --upgrade --force-reinstall git+https://github.com/FelipeSchreiber/BregmanClustering.git --no-deps\n",
        "!pip install torch_geometric\n",
        "### Uncomment line below if in Google Colab environment\n",
        "!chmod 777 /usr/local/lib/python3.9/dist-packages/BregmanTests/install_algos.sh\n",
        "!pip install rpy2==3.5.1"
      ]
    },
    {
      "cell_type": "code",
      "execution_count": 2,
      "id": "9ff28023",
      "metadata": {
        "id": "9ff28023"
      },
      "outputs": [],
      "source": [
        "#%matplotlib inline\n",
        "from BregmanTests.WSBM import *\n",
        "from BregmanTests.utils import *\n",
        "import BregmanTests\n",
        "from sklearn.metrics import adjusted_rand_score, normalized_mutual_info_score, accuracy_score\n",
        "#from signet.cluster import Cluster\n",
        "import scipy.sparse as ss\n",
        "import pandas as pd\n",
        "import os\n",
        "import warnings\n",
        "from BregmanClustering import models\n",
        "from BregmanClustering.models import SoftBregmanNodeAttributeGraphClustering as VEMbreg\n",
        "from BregmanClusteringTorch.torch_models import SoftBregmanClusteringTorch as torchBreg\n",
        "from BregmanClusteringTorch.torch_models import  SoftBregmanClusteringTorchSparse as sparseBreg\n",
        "from BregmanClusteringTorch.torch_models import GNNBregmanClustering as gnnBreg\n",
        "import subprocess\n",
        "warnings.filterwarnings(\"ignore\")"
      ]
    },
    {
      "cell_type": "code",
      "execution_count": 3,
      "id": "f851724c",
      "metadata": {
        "id": "f851724c"
      },
      "outputs": [],
      "source": [
        "from BregmanTests import cfg"
      ]
    },
    {
      "cell_type": "code",
      "execution_count": 4,
      "id": "0eae1d3b",
      "metadata": {
        "id": "0eae1d3b",
        "outputId": "1f6f54b4-00cd-4e60-ad6a-27277c33311a",
        "colab": {
          "base_uri": "https://localhost:8080/",
          "height": 35
        }
      },
      "outputs": [
        {
          "output_type": "execute_result",
          "data": {
            "text/plain": [
              "'/usr/local/lib/python3.9/dist-packages/BregmanTests'"
            ],
            "application/vnd.google.colaboratory.intrinsic+json": {
              "type": "string"
            }
          },
          "metadata": {},
          "execution_count": 4
        }
      ],
      "source": [
        "cfg.base_path"
      ]
    },
    {
      "cell_type": "code",
      "execution_count": 5,
      "id": "31fa08e4",
      "metadata": {
        "id": "31fa08e4"
      },
      "outputs": [],
      "source": [
        "#!/usr/bin/env python3\n",
        "# -*- coding: utf-8 -*-\n",
        "\"\"\"\n",
        "Created on Fri Feb 17 17:08:00 2023\n",
        "\n",
        "@author: maximilien, Felipe Schreiber\n",
        "\"\"\"\n",
        "from tqdm import tqdm"
      ]
    },
    {
      "cell_type": "code",
      "execution_count": 6,
      "id": "0dbd1e34",
      "metadata": {
        "id": "0dbd1e34"
      },
      "outputs": [],
      "source": [
        "c = 3 ## number of communities\n",
        "n = 100 ##size per community (or you can pass a list with different sizes)\n",
        "r = 10 ##specify how far the attributes distributions are from the origin\n",
        "d = 2 ##number of attributes\n",
        "P = np.array([[0.8, 0.2, 0.3],[0.2, 0.7, 0.4],[0.3, 0.4, 0.6]])"
      ]
    },
    {
      "cell_type": "code",
      "execution_count": 7,
      "id": "d2ad4db3",
      "metadata": {
        "id": "d2ad4db3"
      },
      "outputs": [],
      "source": [
        "X,Y,true_labels,G = BregmanBenchmark(P,[n]*c,1,10,dims=d,weight_variance=0.01,att_variance=0.1,\\\n",
        "                       weight_distribution=\"logistic\",attributes_distribution=\"logistic\",radius=r,return_G=True).generate_benchmark_WSBM()\n",
        "A = (X != 0).astype(int)"
      ]
    },
    {
      "cell_type": "code",
      "execution_count": 8,
      "id": "8e505252",
      "metadata": {
        "colab": {
          "base_uri": "https://localhost:8080/"
        },
        "id": "8e505252",
        "outputId": "2c398463-9244-4160-a620-6638f39f4e38"
      },
      "outputs": [
        {
          "output_type": "execute_result",
          "data": {
            "text/plain": [
              "array([[ 0.        ,  0.95077647,  0.9596974 , ...,  0.        ,\n",
              "         4.46019018,  0.        ],\n",
              "       [ 0.95077647,  0.        ,  0.        , ...,  0.        ,\n",
              "         0.        ,  0.        ],\n",
              "       [ 0.9596974 ,  0.        ,  0.        , ...,  4.65088981,\n",
              "         0.        ,  4.57623793],\n",
              "       ...,\n",
              "       [ 0.        ,  0.        ,  4.65088981, ...,  0.        ,\n",
              "         0.        , 10.11712741],\n",
              "       [ 4.46019018,  0.        ,  0.        , ...,  0.        ,\n",
              "         0.        , 10.0758249 ],\n",
              "       [ 0.        ,  0.        ,  4.57623793, ..., 10.11712741,\n",
              "        10.0758249 ,  0.        ]])"
            ]
          },
          "metadata": {},
          "execution_count": 8
        }
      ],
      "source": [
        "X"
      ]
    },
    {
      "cell_type": "code",
      "execution_count": 9,
      "id": "360bfa70",
      "metadata": {
        "colab": {
          "base_uri": "https://localhost:8080/",
          "height": 447
        },
        "id": "360bfa70",
        "outputId": "8b35d4f6-7b86-4cbd-fea5-22eb677c7801"
      },
      "outputs": [
        {
          "output_type": "execute_result",
          "data": {
            "text/plain": [
              "<matplotlib.collections.PathCollection at 0x7f152c0cb460>"
            ]
          },
          "metadata": {},
          "execution_count": 9
        },
        {
          "output_type": "display_data",
          "data": {
            "text/plain": [
              "<Figure size 640x480 with 1 Axes>"
            ],
            "image/png": "[encoded data removed]"
          },
          "metadata": {}
        }
      ],
      "source": [
        "plt.scatter(Y[:,0],Y[:,1],c=true_labels)"
      ]
    },
    {
      "cell_type": "code",
      "execution_count": 10,
      "id": "d13df589",
      "metadata": {
        "colab": {
          "base_uri": "https://localhost:8080/"
        },
        "id": "d13df589",
        "outputId": "3bac67c8-6682-428c-9f62-2c1064195c74"
      },
      "outputs": [
        {
          "output_type": "stream",
          "name": "stdout",
          "text": [
            "0.5648990540491277 0.7258712263091794\n"
          ]
        }
      ],
      "source": [
        "pred_labels = spectral(X.copy(),c)\n",
        "print(adjusted_rand_score(true_labels, pred_labels),normalized_mutual_info_score(true_labels, pred_labels))"
      ]
    },
    {
      "cell_type": "code",
      "execution_count": 11,
      "id": "189cbdb7",
      "metadata": {
        "colab": {
          "base_uri": "https://localhost:8080/"
        },
        "id": "189cbdb7",
        "outputId": "ae369e43-dea1-469e-aaaa-9b4946ca4116"
      },
      "outputs": [
        {
          "output_type": "stream",
          "name": "stdout",
          "text": [
            "1.0 1.0\n"
          ]
        }
      ],
      "source": [
        "pred_labels = GaussianMixture(n_components=c).fit_predict(Y.copy())\n",
        "print(adjusted_rand_score(true_labels, pred_labels),normalized_mutual_info_score(true_labels, pred_labels))"
      ]
    },
    {
      "cell_type": "code",
      "execution_count": 12,
      "id": "e5f446f8",
      "metadata": {
        "colab": {
          "base_uri": "https://localhost:8080/"
        },
        "id": "e5f446f8",
        "outputId": "8d2ea9de-9a39-4b47-e8d5-5e8e7c5d6830"
      },
      "outputs": [
        {
          "output_type": "stream",
          "name": "stdout",
          "text": [
            "Initialisation chosen from the attributes\n",
            "0\n",
            "1.0 1.0\n"
          ]
        }
      ],
      "source": [
        "#model = torchBreg(n_clusters=c,normalize_=True,thresholding=True)\n",
        "model = sparseBreg(n_clusters=c,normalize_=True,thresholding=True)\n",
        "model.fit(A, Y)\n",
        "z_pred_both = model.predict(A,Y)\n",
        "print(adjusted_rand_score(true_labels, z_pred_both),normalized_mutual_info_score(true_labels, z_pred_both))"
      ]
    },
    {
      "cell_type": "code",
      "execution_count": 13,
      "id": "yXC1vaNSwReS",
      "metadata": {
        "colab": {
          "base_uri": "https://localhost:8080/"
        },
        "id": "yXC1vaNSwReS",
        "outputId": "fa96e69e-24f6-4e07-ad64-772e93ed9d18"
      },
      "outputs": [
        {
          "output_type": "execute_result",
          "data": {
            "text/plain": [
              "array([[ 0.        ,  0.95077647,  0.9596974 , ...,  0.        ,\n",
              "         4.46019018,  0.        ],\n",
              "       [ 0.95077647,  0.        ,  0.        , ...,  0.        ,\n",
              "         0.        ,  0.        ],\n",
              "       [ 0.9596974 ,  0.        ,  0.        , ...,  4.65088981,\n",
              "         0.        ,  4.57623793],\n",
              "       ...,\n",
              "       [ 0.        ,  0.        ,  4.65088981, ...,  0.        ,\n",
              "         0.        , 10.11712741],\n",
              "       [ 4.46019018,  0.        ,  0.        , ...,  0.        ,\n",
              "         0.        , 10.0758249 ],\n",
              "       [ 0.        ,  0.        ,  4.57623793, ..., 10.11712741,\n",
              "        10.0758249 ,  0.        ]])"
            ]
          },
          "metadata": {},
          "execution_count": 13
        }
      ],
      "source": [
        "import networkx as nx\n",
        "nx.adjacency_matrix(G).todense() "
      ]
    },
    {
      "cell_type": "code",
      "execution_count": 14,
      "id": "u3OzCbfRyaEi",
      "metadata": {
        "colab": {
          "base_uri": "https://localhost:8080/"
        },
        "id": "u3OzCbfRyaEi",
        "outputId": "dbecc5be-c734-4350-c114-a61d3bf11fa1"
      },
      "outputs": [
        {
          "output_type": "execute_result",
          "data": {
            "text/plain": [
              "array([-4.82881142,  8.4496339 ,  0.        ])"
            ]
          },
          "metadata": {},
          "execution_count": 14
        }
      ],
      "source": [
        "G.nodes[130][\"attr\"]"
      ]
    },
    {
      "cell_type": "code",
      "execution_count": 15,
      "id": "kE0jqygorxA4",
      "metadata": {
        "colab": {
          "base_uri": "https://localhost:8080/"
        },
        "id": "kE0jqygorxA4",
        "outputId": "02505716-f787-4860-9243-19708e6e2516"
      },
      "outputs": [
        {
          "output_type": "stream",
          "name": "stdout",
          "text": [
            "Initialisation chosen from the graph\n",
            "0.5604261981941698 0.7041612280566995\n"
          ]
        }
      ],
      "source": [
        "model = gnnBreg(n_clusters=c,normalize_=False,thresholding=True,epochs=100)\n",
        "model.fit(G, Y)\n",
        "z_pred_both = model.predict(G, Y)\n",
        "print(adjusted_rand_score(true_labels, z_pred_both),normalized_mutual_info_score(true_labels, z_pred_both))"
      ]
    },
    {
      "cell_type": "code",
      "execution_count": 16,
      "id": "E-wm63rs1vPg",
      "metadata": {
        "id": "E-wm63rs1vPg",
        "outputId": "7baceb03-0597-4800-86e5-dc80aa7aff8b",
        "colab": {
          "base_uri": "https://localhost:8080/"
        }
      },
      "outputs": [
        {
          "output_type": "stream",
          "name": "stdout",
          "text": [
            "Downloading packages from github...\n",
            "\n",
            "Installing R packages...\n",
            " This step takes about 5 min...\n",
            "\n"
          ]
        },
        {
          "output_type": "stream",
          "name": "stderr",
          "text": [
            "WARNING:rpy2.rinterface_lib.callbacks:R[write to console]: Installing packages into ‘/usr/local/lib/R/site-library’\n",
            "(as ‘lib’ is unspecified)\n",
            "\n",
            "WARNING:rpy2.rinterface_lib.callbacks:R[write to console]: trying URL 'https://cloud.r-project.org/src/contrib/igraph_1.4.2.tar.gz'\n",
            "\n",
            "WARNING:rpy2.rinterface_lib.callbacks:R[write to console]: Content type 'application/x-gzip'\n",
            "WARNING:rpy2.rinterface_lib.callbacks:R[write to console]:  length 3308627 bytes (3.2 MB)\n",
            "\n",
            "WARNING:rpy2.rinterface_lib.callbacks:R[write to console]: =\n",
            "WARNING:rpy2.rinterface_lib.callbacks:R[write to console]: =\n",
            "WARNING:rpy2.rinterface_lib.callbacks:R[write to console]: =\n",
            "WARNING:rpy2.rinterface_lib.callbacks:R[write to console]: =\n",
            "WARNING:rpy2.rinterface_lib.callbacks:R[write to console]: =\n",
            "WARNING:rpy2.rinterface_lib.callbacks:R[write to console]: =\n",
            "WARNING:rpy2.rinterface_lib.callbacks:R[write to console]: =\n",
            "WARNING:rpy2.rinterface_lib.callbacks:R[write to console]: =\n",
            "WARNING:rpy2.rinterface_lib.callbacks:R[write to console]: =\n",
            "WARNING:rpy2.rinterface_lib.callbacks:R[write to console]: =\n",
            "WARNING:rpy2.rinterface_lib.callbacks:R[write to console]: =\n",
            "WARNING:rpy2.rinterface_lib.callbacks:R[write to console]: =\n",
            "WARNING:rpy2.rinterface_lib.callbacks:R[write to console]: =\n",
            "WARNING:rpy2.rinterface_lib.callbacks:R[write to console]: =\n",
            "WARNING:rpy2.rinterface_lib.callbacks:R[write to console]: =\n",
            "WARNING:rpy2.rinterface_lib.callbacks:R[write to console]: =\n",
            "WARNING:rpy2.rinterface_lib.callbacks:R[write to console]: =\n",
            "WARNING:rpy2.rinterface_lib.callbacks:R[write to console]: =\n",
            "WARNING:rpy2.rinterface_lib.callbacks:R[write to console]: =\n",
            "WARNING:rpy2.rinterface_lib.callbacks:R[write to console]: =\n",
            "WARNING:rpy2.rinterface_lib.callbacks:R[write to console]: =\n",
            "WARNING:rpy2.rinterface_lib.callbacks:R[write to console]: =\n",
            "WARNING:rpy2.rinterface_lib.callbacks:R[write to console]: =\n",
            "WARNING:rpy2.rinterface_lib.callbacks:R[write to console]: =\n",
            "WARNING:rpy2.rinterface_lib.callbacks:R[write to console]: =\n",
            "WARNING:rpy2.rinterface_lib.callbacks:R[write to console]: =\n",
            "WARNING:rpy2.rinterface_lib.callbacks:R[write to console]: =\n",
            "WARNING:rpy2.rinterface_lib.callbacks:R[write to console]: =\n",
            "WARNING:rpy2.rinterface_lib.callbacks:R[write to console]: =\n",
            "WARNING:rpy2.rinterface_lib.callbacks:R[write to console]: =\n",
            "WARNING:rpy2.rinterface_lib.callbacks:R[write to console]: =\n",
            "WARNING:rpy2.rinterface_lib.callbacks:R[write to console]: =\n",
            "WARNING:rpy2.rinterface_lib.callbacks:R[write to console]: =\n",
            "WARNING:rpy2.rinterface_lib.callbacks:R[write to console]: =\n",
            "WARNING:rpy2.rinterface_lib.callbacks:R[write to console]: =\n",
            "WARNING:rpy2.rinterface_lib.callbacks:R[write to console]: =\n",
            "WARNING:rpy2.rinterface_lib.callbacks:R[write to console]: =\n",
            "WARNING:rpy2.rinterface_lib.callbacks:R[write to console]: =\n",
            "WARNING:rpy2.rinterface_lib.callbacks:R[write to console]: =\n",
            "WARNING:rpy2.rinterface_lib.callbacks:R[write to console]: =\n",
            "WARNING:rpy2.rinterface_lib.callbacks:R[write to console]: =\n",
            "WARNING:rpy2.rinterface_lib.callbacks:R[write to console]: =\n",
            "WARNING:rpy2.rinterface_lib.callbacks:R[write to console]: =\n",
            "WARNING:rpy2.rinterface_lib.callbacks:R[write to console]: =\n",
            "WARNING:rpy2.rinterface_lib.callbacks:R[write to console]: =\n",
            "WARNING:rpy2.rinterface_lib.callbacks:R[write to console]: =\n",
            "WARNING:rpy2.rinterface_lib.callbacks:R[write to console]: =\n",
            "WARNING:rpy2.rinterface_lib.callbacks:R[write to console]: =\n",
            "WARNING:rpy2.rinterface_lib.callbacks:R[write to console]: =\n",
            "WARNING:rpy2.rinterface_lib.callbacks:R[write to console]: =\n",
            "WARNING:rpy2.rinterface_lib.callbacks:R[write to console]: \n",
            "\n",
            "WARNING:rpy2.rinterface_lib.callbacks:R[write to console]: downloaded 3.2 MB\n",
            "\n",
            "\n",
            "WARNING:rpy2.rinterface_lib.callbacks:R[write to console]: trying URL 'https://cloud.r-project.org/src/contrib/reticulate_1.28.tar.gz'\n",
            "\n",
            "WARNING:rpy2.rinterface_lib.callbacks:R[write to console]: Content type 'application/x-gzip'\n",
            "WARNING:rpy2.rinterface_lib.callbacks:R[write to console]:  length 1551312 bytes (1.5 MB)\n",
            "\n",
            "WARNING:rpy2.rinterface_lib.callbacks:R[write to console]: =\n",
            "WARNING:rpy2.rinterface_lib.callbacks:R[write to console]: =\n",
            "WARNING:rpy2.rinterface_lib.callbacks:R[write to console]: =\n",
            "WARNING:rpy2.rinterface_lib.callbacks:R[write to console]: =\n",
            "WARNING:rpy2.rinterface_lib.callbacks:R[write to console]: =\n",
            "WARNING:rpy2.rinterface_lib.callbacks:R[write to console]: =\n",
            "WARNING:rpy2.rinterface_lib.callbacks:R[write to console]: =\n",
            "WARNING:rpy2.rinterface_lib.callbacks:R[write to console]: =\n",
            "WARNING:rpy2.rinterface_lib.callbacks:R[write to console]: =\n",
            "WARNING:rpy2.rinterface_lib.callbacks:R[write to console]: =\n",
            "WARNING:rpy2.rinterface_lib.callbacks:R[write to console]: =\n",
            "WARNING:rpy2.rinterface_lib.callbacks:R[write to console]: =\n",
            "WARNING:rpy2.rinterface_lib.callbacks:R[write to console]: =\n",
            "WARNING:rpy2.rinterface_lib.callbacks:R[write to console]: =\n",
            "WARNING:rpy2.rinterface_lib.callbacks:R[write to console]: =\n",
            "WARNING:rpy2.rinterface_lib.callbacks:R[write to console]: =\n",
            "WARNING:rpy2.rinterface_lib.callbacks:R[write to console]: =\n",
            "WARNING:rpy2.rinterface_lib.callbacks:R[write to console]: =\n",
            "WARNING:rpy2.rinterface_lib.callbacks:R[write to console]: =\n",
            "WARNING:rpy2.rinterface_lib.callbacks:R[write to console]: =\n",
            "WARNING:rpy2.rinterface_lib.callbacks:R[write to console]: =\n",
            "WARNING:rpy2.rinterface_lib.callbacks:R[write to console]: =\n",
            "WARNING:rpy2.rinterface_lib.callbacks:R[write to console]: =\n",
            "WARNING:rpy2.rinterface_lib.callbacks:R[write to console]: =\n",
            "WARNING:rpy2.rinterface_lib.callbacks:R[write to console]: =\n",
            "WARNING:rpy2.rinterface_lib.callbacks:R[write to console]: =\n",
            "WARNING:rpy2.rinterface_lib.callbacks:R[write to console]: =\n",
            "WARNING:rpy2.rinterface_lib.callbacks:R[write to console]: =\n",
            "WARNING:rpy2.rinterface_lib.callbacks:R[write to console]: =\n",
            "WARNING:rpy2.rinterface_lib.callbacks:R[write to console]: =\n",
            "WARNING:rpy2.rinterface_lib.callbacks:R[write to console]: =\n",
            "WARNING:rpy2.rinterface_lib.callbacks:R[write to console]: =\n",
            "WARNING:rpy2.rinterface_lib.callbacks:R[write to console]: =\n",
            "WARNING:rpy2.rinterface_lib.callbacks:R[write to console]: =\n",
            "WARNING:rpy2.rinterface_lib.callbacks:R[write to console]: =\n",
            "WARNING:rpy2.rinterface_lib.callbacks:R[write to console]: =\n",
            "WARNING:rpy2.rinterface_lib.callbacks:R[write to console]: =\n",
            "WARNING:rpy2.rinterface_lib.callbacks:R[write to console]: =\n",
            "WARNING:rpy2.rinterface_lib.callbacks:R[write to console]: =\n",
            "WARNING:rpy2.rinterface_lib.callbacks:R[write to console]: =\n",
            "WARNING:rpy2.rinterface_lib.callbacks:R[write to console]: =\n",
            "WARNING:rpy2.rinterface_lib.callbacks:R[write to console]: =\n",
            "WARNING:rpy2.rinterface_lib.callbacks:R[write to console]: =\n",
            "WARNING:rpy2.rinterface_lib.callbacks:R[write to console]: =\n",
            "WARNING:rpy2.rinterface_lib.callbacks:R[write to console]: =\n",
            "WARNING:rpy2.rinterface_lib.callbacks:R[write to console]: =\n",
            "WARNING:rpy2.rinterface_lib.callbacks:R[write to console]: =\n",
            "WARNING:rpy2.rinterface_lib.callbacks:R[write to console]: =\n",
            "WARNING:rpy2.rinterface_lib.callbacks:R[write to console]: =\n",
            "WARNING:rpy2.rinterface_lib.callbacks:R[write to console]: =\n",
            "WARNING:rpy2.rinterface_lib.callbacks:R[write to console]: \n",
            "\n",
            "WARNING:rpy2.rinterface_lib.callbacks:R[write to console]: downloaded 1.5 MB\n",
            "\n",
            "\n",
            "WARNING:rpy2.rinterface_lib.callbacks:R[write to console]: trying URL 'https://cloud.r-project.org/src/contrib/mvtnorm_1.1-3.tar.gz'\n",
            "\n",
            "WARNING:rpy2.rinterface_lib.callbacks:R[write to console]: Content type 'application/x-gzip'\n",
            "WARNING:rpy2.rinterface_lib.callbacks:R[write to console]:  length 166421 bytes (162 KB)\n",
            "\n",
            "WARNING:rpy2.rinterface_lib.callbacks:R[write to console]: =\n",
            "WARNING:rpy2.rinterface_lib.callbacks:R[write to console]: =\n",
            "WARNING:rpy2.rinterface_lib.callbacks:R[write to console]: =\n",
            "WARNING:rpy2.rinterface_lib.callbacks:R[write to console]: =\n",
            "WARNING:rpy2.rinterface_lib.callbacks:R[write to console]: =\n",
            "WARNING:rpy2.rinterface_lib.callbacks:R[write to console]: =\n",
            "WARNING:rpy2.rinterface_lib.callbacks:R[write to console]: =\n",
            "WARNING:rpy2.rinterface_lib.callbacks:R[write to console]: =\n",
            "WARNING:rpy2.rinterface_lib.callbacks:R[write to console]: =\n",
            "WARNING:rpy2.rinterface_lib.callbacks:R[write to console]: =\n",
            "WARNING:rpy2.rinterface_lib.callbacks:R[write to console]: =\n",
            "WARNING:rpy2.rinterface_lib.callbacks:R[write to console]: =\n",
            "WARNING:rpy2.rinterface_lib.callbacks:R[write to console]: =\n",
            "WARNING:rpy2.rinterface_lib.callbacks:R[write to console]: =\n",
            "WARNING:rpy2.rinterface_lib.callbacks:R[write to console]: =\n",
            "WARNING:rpy2.rinterface_lib.callbacks:R[write to console]: =\n",
            "WARNING:rpy2.rinterface_lib.callbacks:R[write to console]: =\n",
            "WARNING:rpy2.rinterface_lib.callbacks:R[write to console]: =\n",
            "WARNING:rpy2.rinterface_lib.callbacks:R[write to console]: =\n",
            "WARNING:rpy2.rinterface_lib.callbacks:R[write to console]: =\n",
            "WARNING:rpy2.rinterface_lib.callbacks:R[write to console]: =\n",
            "WARNING:rpy2.rinterface_lib.callbacks:R[write to console]: =\n",
            "WARNING:rpy2.rinterface_lib.callbacks:R[write to console]: =\n",
            "WARNING:rpy2.rinterface_lib.callbacks:R[write to console]: =\n",
            "WARNING:rpy2.rinterface_lib.callbacks:R[write to console]: =\n",
            "WARNING:rpy2.rinterface_lib.callbacks:R[write to console]: =\n",
            "WARNING:rpy2.rinterface_lib.callbacks:R[write to console]: =\n",
            "WARNING:rpy2.rinterface_lib.callbacks:R[write to console]: =\n",
            "WARNING:rpy2.rinterface_lib.callbacks:R[write to console]: =\n",
            "WARNING:rpy2.rinterface_lib.callbacks:R[write to console]: =\n",
            "WARNING:rpy2.rinterface_lib.callbacks:R[write to console]: =\n",
            "WARNING:rpy2.rinterface_lib.callbacks:R[write to console]: =\n",
            "WARNING:rpy2.rinterface_lib.callbacks:R[write to console]: =\n",
            "WARNING:rpy2.rinterface_lib.callbacks:R[write to console]: =\n",
            "WARNING:rpy2.rinterface_lib.callbacks:R[write to console]: =\n",
            "WARNING:rpy2.rinterface_lib.callbacks:R[write to console]: =\n",
            "WARNING:rpy2.rinterface_lib.callbacks:R[write to console]: =\n",
            "WARNING:rpy2.rinterface_lib.callbacks:R[write to console]: =\n",
            "WARNING:rpy2.rinterface_lib.callbacks:R[write to console]: =\n",
            "WARNING:rpy2.rinterface_lib.callbacks:R[write to console]: =\n",
            "WARNING:rpy2.rinterface_lib.callbacks:R[write to console]: =\n",
            "WARNING:rpy2.rinterface_lib.callbacks:R[write to console]: =\n",
            "WARNING:rpy2.rinterface_lib.callbacks:R[write to console]: =\n",
            "WARNING:rpy2.rinterface_lib.callbacks:R[write to console]: =\n",
            "WARNING:rpy2.rinterface_lib.callbacks:R[write to console]: =\n",
            "WARNING:rpy2.rinterface_lib.callbacks:R[write to console]: =\n",
            "WARNING:rpy2.rinterface_lib.callbacks:R[write to console]: =\n",
            "WARNING:rpy2.rinterface_lib.callbacks:R[write to console]: =\n",
            "WARNING:rpy2.rinterface_lib.callbacks:R[write to console]: =\n",
            "WARNING:rpy2.rinterface_lib.callbacks:R[write to console]: =\n",
            "WARNING:rpy2.rinterface_lib.callbacks:R[write to console]: \n",
            "\n",
            "WARNING:rpy2.rinterface_lib.callbacks:R[write to console]: downloaded 162 KB\n",
            "\n",
            "\n",
            "WARNING:rpy2.rinterface_lib.callbacks:R[write to console]: \n",
            "\n",
            "WARNING:rpy2.rinterface_lib.callbacks:R[write to console]: \n",
            "WARNING:rpy2.rinterface_lib.callbacks:R[write to console]: The downloaded source packages are in\n",
            "\t‘/tmp/RtmpMlF6iM/downloaded_packages’\n",
            "WARNING:rpy2.rinterface_lib.callbacks:R[write to console]: \n",
            "WARNING:rpy2.rinterface_lib.callbacks:R[write to console]: \n",
            "\n"
          ]
        }
      ],
      "source": [
        "from BregmanClustering.models import BregmanNodeEdgeAttributeGraphClustering as edgeBreg\n",
        "from BregmanTests.install_algorithms import main as install_env\n",
        "import BregmanTests\n",
        "## Optional: set repository for CRAN\n",
        "BregmanTests.cfg.CRAN_repo = \"https://cran.fiocruz.br/\"\n",
        "install_env()\n",
        "from CSBM.Python.functions import *"
      ]
    },
    {
      "cell_type": "code",
      "execution_count": 17,
      "id": "9e151220",
      "metadata": {
        "id": "9e151220",
        "scrolled": true,
        "outputId": "efecdf8d-cb06-44b3-db19-0a690fc9ed90",
        "colab": {
          "base_uri": "https://localhost:8080/"
        }
      },
      "outputs": [
        {
          "output_type": "stream",
          "name": "stderr",
          "text": [
            "\r  0%|          | 0/3 [00:00<?, ?it/s]"
          ]
        },
        {
          "output_type": "stream",
          "name": "stdout",
          "text": [
            "Initialisation chosen from the graph\n",
            "Initialisation chosen from the graph\n",
            "number of iterations :  25\n",
            "Initialisation chosen from the graph\n",
            "number of iterations :  25\n",
            "Initialisation chosen from the graph\n"
          ]
        },
        {
          "output_type": "stream",
          "name": "stderr",
          "text": [
            "\r 33%|███▎      | 1/3 [01:23<02:46, 83.09s/it]"
          ]
        },
        {
          "output_type": "stream",
          "name": "stdout",
          "text": [
            "number of iterations :  25\n",
            "Initialisation chosen from the graph\n",
            "Initialisation chosen from the graph\n",
            "number of iterations :  25\n",
            "Initialisation chosen from the graph\n",
            "number of iterations :  25\n",
            "Initialisation chosen from the graph\n"
          ]
        },
        {
          "output_type": "stream",
          "name": "stderr",
          "text": [
            "\r 67%|██████▋   | 2/3 [02:52<01:26, 86.96s/it]"
          ]
        },
        {
          "output_type": "stream",
          "name": "stdout",
          "text": [
            "number of iterations :  25\n",
            "Initialisation chosen from the graph\n",
            "Initialisation chosen from the graph\n",
            "number of iterations :  25\n",
            "Initialisation chosen from the graph\n",
            "number of iterations :  25\n"
          ]
        },
        {
          "output_type": "stream",
          "name": "stderr",
          "text": [
            "100%|██████████| 3/3 [04:14<00:00, 84.73s/it]"
          ]
        },
        {
          "output_type": "stream",
          "name": "stdout",
          "text": [
            "Initialisation chosen from the attributes\n"
          ]
        },
        {
          "output_type": "stream",
          "name": "stderr",
          "text": [
            "\n",
            "  0%|          | 0/3 [00:00<?, ?it/s]"
          ]
        },
        {
          "output_type": "stream",
          "name": "stdout",
          "text": [
            "Initialisation chosen from the graph\n",
            "Initialisation chosen from the graph\n",
            "number of iterations :  25\n",
            "Initialisation chosen from the graph\n",
            "number of iterations :  25\n"
          ]
        },
        {
          "output_type": "stream",
          "name": "stderr",
          "text": [
            "\r 33%|███▎      | 1/3 [01:11<02:23, 71.80s/it]"
          ]
        },
        {
          "output_type": "stream",
          "name": "stdout",
          "text": [
            "Initialisation chosen from the attributes\n",
            "Initialisation chosen from the graph\n",
            "Initialisation chosen from the graph\n",
            "number of iterations :  25\n",
            "Initialisation chosen from the graph\n",
            "number of iterations :  25\n",
            "Initialisation chosen from the graph\n"
          ]
        },
        {
          "output_type": "stream",
          "name": "stderr",
          "text": [
            "\r 67%|██████▋   | 2/3 [02:32<01:17, 77.27s/it]"
          ]
        },
        {
          "output_type": "stream",
          "name": "stdout",
          "text": [
            "number of iterations :  25\n",
            "Initialisation chosen from the graph\n",
            "Initialisation chosen from the graph\n",
            "number of iterations :  25\n",
            "Initialisation chosen from the graph\n",
            "number of iterations :  25\n",
            "Initialisation chosen from the graph\n"
          ]
        },
        {
          "output_type": "stream",
          "name": "stderr",
          "text": [
            "100%|██████████| 3/3 [04:00<00:00, 80.05s/it]"
          ]
        },
        {
          "output_type": "stream",
          "name": "stdout",
          "text": [
            "number of iterations :  25\n"
          ]
        },
        {
          "output_type": "stream",
          "name": "stderr",
          "text": [
            "\n"
          ]
        }
      ],
      "source": [
        "n_average = 1\n",
        "n = 300\n",
        "n_clusters = 2\n",
        "d = 1\n",
        "sizes = [ n // n_clusters ]*np.ones( n_clusters, dtype = int )\n",
        "\n",
        "b = 5\n",
        "pout = b * np.log( n ) / n\n",
        "\n",
        "#a_range = [ 5,7,9,11,13,15 ]\n",
        "#r_range = [ 0,1,2,3,4,5 ]\n",
        "a_range = [ 5,7,9]\n",
        "r_range = [ 0,1,2]\n",
        "\n",
        "stats = {\"varying\":[],\"a\":[],\"r\":[],\"agreed\":[],\"ARI_chernoff\":[],\"ARI_AIC\":[],\"ARI_ORACLE\":[]}\n",
        "\n",
        "for varying in [\"attributes\",\"graph\"]:\n",
        "# varying = 'attributes'\n",
        "# #varying = 'graph'\n",
        "\n",
        "    aris_attributes_mean = [ ]\n",
        "    aris_graph_mean = [ ]\n",
        "    aris_both_mean = [ ]\n",
        "    aris_attSBM_mean = [ ]\n",
        "    aris_IR_sLS_mean = [ ]\n",
        "    aris_IR_LS_mean = [ ]\n",
        "    aris_both2_mean = [ ]\n",
        "    aris_oracle_mean = [ ]\n",
        "\n",
        "    aris_attributes_std = [ ]\n",
        "    aris_graph_std = [ ]\n",
        "    aris_both_std = [ ]\n",
        "    aris_attSBM_std = [ ]\n",
        "    aris_IR_sLS_std = [ ]\n",
        "    aris_IR_LS_std = [ ]\n",
        "    aris_both2_std = [ ]\n",
        "    aris_oracle_std = [ ]\n",
        "\n",
        "    if varying == 'graph':\n",
        "        loop = tqdm( range( len( a_range ) ) )\n",
        "    else:\n",
        "        loop = tqdm( range( len( r_range ) ) )\n",
        "\n",
        "    for dummy in loop:\n",
        "        if varying == 'graph':\n",
        "            a = a_range[ dummy ]\n",
        "            r = 1\n",
        "        elif varying == 'attributes':\n",
        "            a = 8\n",
        "            r = r_range[ dummy ]\n",
        "\n",
        "        pin = a * np.log( n ) / n\n",
        "        p = (pin- pout) * np.eye( n_clusters ) + pout * np.ones( (n_clusters, n_clusters) )\n",
        "\n",
        "        aris_attributes = [ ]\n",
        "        aris_graph = [ ]\n",
        "        aris_both = [ ]\n",
        "        aris_attSBM = [ ]\n",
        "        aris_IR_sLS  = [ ]\n",
        "        aris_IR_LS = [ ]\n",
        "        aris_both2 = [ ]\n",
        "        aris_oracle = [ ]\n",
        "        \n",
        "        path_ = BregmanTests.cfg.path_to_data+f\"a/{a}/r/{r}/\"\n",
        "        if not os.path.exists(path_):\n",
        "            os.makedirs(path_)\n",
        "\n",
        "        total = 0\n",
        "        for trial in range( n_average ):\n",
        "            ( X, Y, z_true, G) = BregmanBenchmark(p,sizes,att_variance=1,\\\n",
        "                    attributes_distribution=\"gaussian\",radius=r,return_G=True).generate_benchmark_WSBM()\n",
        "            \n",
        "            X = (X != 0).astype(int)\n",
        "            model = models.BregmanNodeAttributeGraphClustering( n_clusters = n_clusters, initializer=\"chernoff\")\n",
        "            ## For comparison purposes, the initialization is the same for IR-sLS, IR-LS and ours    \n",
        "            model.initialize(X,Y)\n",
        "            model.assignInitialLabels( X, Y )\n",
        "            z_init = model.predicted_memberships\n",
        "            chernoff_init_graph = model.graph_init\n",
        "            chernoff_graph_labels = model.memberships_from_graph\n",
        "            chernoff_att_labels = model.memberships_from_attributes\n",
        "\n",
        "            with open(f'{path_}att_{trial}.npy', 'wb') as g:\n",
        "                np.save(g, Y)\n",
        "            with open(f'{path_}net_{trial}.npy', 'wb') as g:\n",
        "                np.save(g, X)\n",
        "            with open(f'{path_}z_init_{trial}.npy', 'wb') as g:\n",
        "                np.save(g, convertZ(z_init)+1)\n",
        "\n",
        "            model.fit( X, Y )\n",
        "            z_pred_both = model.predict( X, Y )\n",
        "            z_pred_graph = models.frommembershipMatriceToVector( chernoff_graph_labels )\n",
        "            z_pred_attributes = models.frommembershipMatriceToVector( chernoff_att_labels )\n",
        "            \n",
        "            # this code is for initialization comparison\n",
        "            ### > Start\n",
        "            # if chernoff_init_graph == model.AIC_initializer(X,Y).graph_init:\n",
        "            #     total += 1\n",
        "            \n",
        "            # ## Warm start\n",
        "            # if model.graph_init:\n",
        "            #     model.fit( X, Y, chernoff_graph_labels)\n",
        "            # else:\n",
        "            #     model.fit(X, Y, chernoff_att_labels)\n",
        "            ### > end\n",
        "\n",
        "            model2 = edgeBreg(n_clusters=n_clusters, initializer=\"chernoff\")\n",
        "            z_pred_both2 = model2.fit(X,X.reshape(n,n,1),Y).predict( X, Y )\n",
        "            \n",
        "            IR_sLS_pred = iter_csbm(X,Y,z_init,n_clusters)\n",
        "            IR_LS_pred = iter_csbm2(X,Y,z_init,n_clusters)\n",
        "                \n",
        "            subprocess.call([\"/usr/bin/Rscript\",\"--vanilla\",f\"{BregmanTests.cfg.base_path}/run_AttSBM.r\",\\\n",
        "                            f'{path_}att_{trial}.npy',\\\n",
        "                            f'{path_}net_{trial}.npy',\\\n",
        "                            f'{path_}z_init_{trial}.npy'])\n",
        "            attSBMPred = np.load(\"predict.npy\")\n",
        "\n",
        "            aris_attributes.append( adjusted_rand_score( z_true, z_pred_attributes ) )\n",
        "            aris_graph.append( adjusted_rand_score( z_true, z_pred_graph ) )\n",
        "            aris_both.append( adjusted_rand_score( z_true, z_pred_both ) )\n",
        "            aris_attSBM.append( adjusted_rand_score( z_true, attSBMPred ) )\n",
        "            aris_IR_sLS.append( adjusted_rand_score( z_true, IR_sLS_pred ) )\n",
        "            aris_IR_LS.append( adjusted_rand_score( z_true, IR_LS_pred ) )\n",
        "            aris_both2.append( adjusted_rand_score( z_true, z_pred_both2 ))\n",
        "            \n",
        "            if chernoff_init_graph != model.AIC_initializer(X,Y).graph_init:\n",
        "                ## both initializations were done\n",
        "                aris_oracle.append( max(aris_both[-1],aris_both2[-1]))\n",
        "            elif chernoff_init_graph:\n",
        "                z_pred_att_init = model.fit(X,Y,chernoff_att_labels).predict(X,Y)\n",
        "                ari_att_init = adjusted_rand_score( z_true, z_pred_att_init)\n",
        "                aris_oracle.append( max(aris_both[-1], ari_att_init))\n",
        "            elif not chernoff_init_graph:\n",
        "                z_pred_graph_init = model.fit(X,Y,chernoff_graph_labels).predict(X,Y)\n",
        "                ari_graph_init = adjusted_rand_score( z_true, z_pred_graph_init)\n",
        "                aris_oracle.append( max(aris_both[-1], ari_graph_init))\n",
        "                \n",
        "        aris_attributes_mean.append( np.mean( aris_attributes ) )\n",
        "        aris_graph_mean.append( np.mean( aris_graph ) )\n",
        "        aris_both_mean.append( np.mean( aris_both ) )\n",
        "        aris_attSBM_mean.append( np.mean( aris_attSBM ) )\n",
        "        aris_IR_sLS_mean.append( np.mean( aris_IR_sLS ) )\n",
        "        aris_IR_LS_mean.append( np.mean( aris_IR_LS ) )\n",
        "        aris_both2_mean.append( np.mean( aris_both2) )\n",
        "        aris_oracle_mean.append( np.mean( aris_oracle) )\n",
        "        \n",
        "        aris_attributes_std.append( np.std( aris_attributes ) )\n",
        "        aris_graph_std.append( np.std( aris_graph ) )\n",
        "        aris_both_std.append( np.std( aris_both ) )\n",
        "        aris_attSBM_std.append( np.std( aris_attSBM ) )\n",
        "        aris_IR_sLS_std.append( np.std( aris_IR_sLS ) )\n",
        "        aris_IR_LS_std.append( np.std( aris_IR_LS ) )\n",
        "        aris_both2_std.append( np.std( aris_both2 ) )\n",
        "        aris_oracle_std.append( np.std( aris_oracle) )\n",
        "        \n",
        "        stats[\"varying\"].append(varying)\n",
        "        stats[\"a\"].append(a)\n",
        "        stats[\"r\"].append(r)\n",
        "        stats[\"agreed\"].append(total/n_average)\n",
        "        stats[\"ARI_chernoff\"].append(aris_both_mean[-1])\n",
        "        stats[\"ARI_AIC\"].append(aris_both2_mean[-1])\n",
        "        stats[\"ARI_ORACLE\"].append(aris_oracle_mean[-1])\n",
        "        \n",
        "    curves = [ aris_attributes_mean, aris_graph_mean,\\\n",
        "              aris_both_mean , aris_attSBM_mean, aris_IR_sLS_mean,\\\n",
        "              aris_IR_LS_mean, aris_both2_mean]\n",
        "\n",
        "    curves_std = [ aris_attributes_std, aris_graph_std,\\\n",
        "                  aris_both_std , aris_attSBM_std, aris_IR_sLS_std,\\\n",
        "                  aris_IR_LS_std, aris_both2_std]\n",
        "\n",
        "    labels = [ 'attributes', 'graph', 'both' , 'attSBM', 'IR_sLS', 'IR_LS', \"edgeBreg\"]\n",
        "    saveFig = True\n",
        "    if varying == 'graph':    \n",
        "        fileName = 'N_' + str(n) + '_K_' + str(n_clusters) + '_b_' + str(b) + '_r_' + str(r) +  '_nAverage' + str(n_average) + '.jpeg'\n",
        "        plotting( a_range, curves, labels, curves_std = curves_std, xticks = a_range, xlabel = 'a', saveFig = saveFig, fileName = fileName )\n",
        "        plt.close()\n",
        "    elif varying == 'attributes':\n",
        "        fileName = 'N_' + str(n) + '_K_' + str(n_clusters) + '_a_' + str(a) + '_b_' + str(b) +  '_nAverage_' + str(n_average) + '.jpeg'\n",
        "        plotting( r_range, curves, labels, curves_std = curves_std, xticks = r_range, xlabel = 'r', saveFig = saveFig, fileName = fileName )\n",
        "        plt.close()"
      ]
    },
    {
      "cell_type": "code",
      "execution_count": 20,
      "id": "0ef9402f",
      "metadata": {
        "id": "0ef9402f"
      },
      "outputs": [],
      "source": [
        "import pandas as pd\n",
        "df = pd.DataFrame.from_dict(stats)"
      ]
    },
    {
      "cell_type": "code",
      "execution_count": 21,
      "id": "2ba58beb",
      "metadata": {
        "id": "2ba58beb",
        "outputId": "aab50bdd-5a85-44c3-ac57-a80b6f1bb2e0",
        "colab": {
          "base_uri": "https://localhost:8080/",
          "height": 238
        }
      },
      "outputs": [
        {
          "output_type": "execute_result",
          "data": {
            "text/plain": [
              "      varying  a  r  agreed  ARI_chernoff   ARI_AIC  ARI_ORACLE\n",
              "0  attributes  8  0     0.0      0.018256  0.042313    0.018256\n",
              "1  attributes  8  1     0.0      0.821449  0.797367    0.821449\n",
              "2  attributes  8  2     0.0      0.986667  0.960267    0.986667\n",
              "3       graph  5  1     0.0      0.004184 -0.003162    0.004184\n",
              "4       graph  7  1     0.0      0.031606  0.075363    0.507242\n",
              "5       graph  9  1     0.0      0.960267  0.973422    0.960267"
            ],
            "text/html": [
              "\n",
              "  <div id=\"df-8b95b00e-5927-40bd-a667-d815174704a6\">\n",
              "    <div class=\"colab-df-container\">\n",
              "      <div>\n",
              "<style scoped>\n",
              "    .dataframe tbody tr th:only-of-type {\n",
              "        vertical-align: middle;\n",
              "    }\n",
              "\n",
              "    .dataframe tbody tr th {\n",
              "        vertical-align: top;\n",
              "    }\n",
              "\n",
              "    .dataframe thead th {\n",
              "        text-align: right;\n",
              "    }\n",
              "</style>\n",
              "<table border=\"1\" class=\"dataframe\">\n",
              "  <thead>\n",
              "    <tr style=\"text-align: right;\">\n",
              "      <th></th>\n",
              "      <th>varying</th>\n",
              "      <th>a</th>\n",
              "      <th>r</th>\n",
              "      <th>agreed</th>\n",
              "      <th>ARI_chernoff</th>\n",
              "      <th>ARI_AIC</th>\n",
              "      <th>ARI_ORACLE</th>\n",
              "    </tr>\n",
              "  </thead>\n",
              "  <tbody>\n",
              "    <tr>\n",
              "      <th>0</th>\n",
              "      <td>attributes</td>\n",
              "      <td>8</td>\n",
              "      <td>0</td>\n",
              "      <td>0.0</td>\n",
              "      <td>0.018256</td>\n",
              "      <td>0.042313</td>\n",
              "      <td>0.018256</td>\n",
              "    </tr>\n",
              "    <tr>\n",
              "      <th>1</th>\n",
              "      <td>attributes</td>\n",
              "      <td>8</td>\n",
              "      <td>1</td>\n",
              "      <td>0.0</td>\n",
              "      <td>0.821449</td>\n",
              "      <td>0.797367</td>\n",
              "      <td>0.821449</td>\n",
              "    </tr>\n",
              "    <tr>\n",
              "      <th>2</th>\n",
              "      <td>attributes</td>\n",
              "      <td>8</td>\n",
              "      <td>2</td>\n",
              "      <td>0.0</td>\n",
              "      <td>0.986667</td>\n",
              "      <td>0.960267</td>\n",
              "      <td>0.986667</td>\n",
              "    </tr>\n",
              "    <tr>\n",
              "      <th>3</th>\n",
              "      <td>graph</td>\n",
              "      <td>5</td>\n",
              "      <td>1</td>\n",
              "      <td>0.0</td>\n",
              "      <td>0.004184</td>\n",
              "      <td>-0.003162</td>\n",
              "      <td>0.004184</td>\n",
              "    </tr>\n",
              "    <tr>\n",
              "      <th>4</th>\n",
              "      <td>graph</td>\n",
              "      <td>7</td>\n",
              "      <td>1</td>\n",
              "      <td>0.0</td>\n",
              "      <td>0.031606</td>\n",
              "      <td>0.075363</td>\n",
              "      <td>0.507242</td>\n",
              "    </tr>\n",
              "    <tr>\n",
              "      <th>5</th>\n",
              "      <td>graph</td>\n",
              "      <td>9</td>\n",
              "      <td>1</td>\n",
              "      <td>0.0</td>\n",
              "      <td>0.960267</td>\n",
              "      <td>0.973422</td>\n",
              "      <td>0.960267</td>\n",
              "    </tr>\n",
              "  </tbody>\n",
              "</table>\n",
              "</div>\n",
              "      <button class=\"colab-df-convert\" onclick=\"convertToInteractive('df-8b95b00e-5927-40bd-a667-d815174704a6')\"\n",
              "              title=\"Convert this dataframe to an interactive table.\"\n",
              "              style=\"display:none;\">\n",
              "        \n",
              "  <svg xmlns=\"http://www.w3.org/2000/svg\" height=\"24px\"viewBox=\"0 0 24 24\"\n",
              "       width=\"24px\">\n",
              "    <path d=\"M0 0h24v24H0V0z\" fill=\"none\"/>\n",
              "    <path d=\"M18.56 5.44l.94 2.06.94-2.06 2.06-.94-2.06-.94-.94-2.06-.94 2.06-2.06.94zm-11 1L8.5 8.5l.94-2.06 2.06-.94-2.06-.94L8.5 2.5l-.94 2.06-2.06.94zm10 10l.94 2.06.94-2.06 2.06-.94-2.06-.94-.94-2.06-.94 2.06-2.06.94z\"/><path d=\"M17.41 7.96l-1.37-1.37c-.4-.4-.92-.59-1.43-.59-.52 0-1.04.2-1.43.59L10.3 9.45l-7.72 7.72c-.78.78-.78 2.05 0 2.83L4 21.41c.39.39.9.59 1.41.59.51 0 1.02-.2 1.41-.59l7.78-7.78 2.81-2.81c.8-.78.8-2.07 0-2.86zM5.41 20L4 18.59l7.72-7.72 1.47 1.35L5.41 20z\"/>\n",
              "  </svg>\n",
              "      </button>\n",
              "      \n",
              "  <style>\n",
              "    .colab-df-container {\n",
              "      display:flex;\n",
              "      flex-wrap:wrap;\n",
              "      gap: 12px;\n",
              "    }\n",
              "\n",
              "    .colab-df-convert {\n",
              "      background-color: #E8F0FE;\n",
              "      border: none;\n",
              "      border-radius: 50%;\n",
              "      cursor: pointer;\n",
              "      display: none;\n",
              "      fill: #1967D2;\n",
              "      height: 32px;\n",
              "      padding: 0 0 0 0;\n",
              "      width: 32px;\n",
              "    }\n",
              "\n",
              "    .colab-df-convert:hover {\n",
              "      background-color: #E2EBFA;\n",
              "      box-shadow: 0px 1px 2px rgba(60, 64, 67, 0.3), 0px 1px 3px 1px rgba(60, 64, 67, 0.15);\n",
              "      fill: #174EA6;\n",
              "    }\n",
              "\n",
              "    [theme=dark] .colab-df-convert {\n",
              "      background-color: #3B4455;\n",
              "      fill: #D2E3FC;\n",
              "    }\n",
              "\n",
              "    [theme=dark] .colab-df-convert:hover {\n",
              "      background-color: #434B5C;\n",
              "      box-shadow: 0px 1px 3px 1px rgba(0, 0, 0, 0.15);\n",
              "      filter: drop-shadow(0px 1px 2px rgba(0, 0, 0, 0.3));\n",
              "      fill: #FFFFFF;\n",
              "    }\n",
              "  </style>\n",
              "\n",
              "      <script>\n",
              "        const buttonEl =\n",
              "          document.querySelector('#df-8b95b00e-5927-40bd-a667-d815174704a6 button.colab-df-convert');\n",
              "        buttonEl.style.display =\n",
              "          google.colab.kernel.accessAllowed ? 'block' : 'none';\n",
              "\n",
              "        async function convertToInteractive(key) {\n",
              "          const element = document.querySelector('#df-8b95b00e-5927-40bd-a667-d815174704a6');\n",
              "          const dataTable =\n",
              "            await google.colab.kernel.invokeFunction('convertToInteractive',\n",
              "                                                     [key], {});\n",
              "          if (!dataTable) return;\n",
              "\n",
              "          const docLinkHtml = 'Like what you see? Visit the ' +\n",
              "            '<a target=\"_blank\" href=https://colab.research.google.com/notebooks/data_table.ipynb>data table notebook</a>'\n",
              "            + ' to learn more about interactive tables.';\n",
              "          element.innerHTML = '';\n",
              "          dataTable['output_type'] = 'display_data';\n",
              "          await google.colab.output.renderOutput(dataTable, element);\n",
              "          const docLink = document.createElement('div');\n",
              "          docLink.innerHTML = docLinkHtml;\n",
              "          element.appendChild(docLink);\n",
              "        }\n",
              "      </script>\n",
              "    </div>\n",
              "  </div>\n",
              "  "
            ]
          },
          "metadata": {},
          "execution_count": 21
        }
      ],
      "source": [
        "df"
      ]
    }
  ],
  "metadata": {
    "colab": {
      "provenance": []
    },
    "gpuClass": "standard",
    "kernelspec": {
      "display_name": "Python 3 (ipykernel)",
      "language": "python",
      "name": "python3"
    },
    "language_info": {
      "codemirror_mode": {
        "name": "ipython",
        "version": 3
      },
      "file_extension": ".py",
      "mimetype": "text/x-python",
      "name": "python",
      "nbconvert_exporter": "python",
      "pygments_lexer": "ipython3",
      "version": "3.10.9"
    }
  },
  "nbformat": 4,
  "nbformat_minor": 5
}