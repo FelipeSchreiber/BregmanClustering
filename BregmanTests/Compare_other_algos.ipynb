{
  "cells": [
    {
      "cell_type": "code",
      "execution_count": 17,
      "id": "fb0e707d",
      "metadata": {
        "colab": {
          "base_uri": "https://localhost:8080/"
        },
        "id": "fb0e707d",
        "outputId": "3a90f958-68a1-4025-8cbb-b5524177602d"
      },
      "outputs": [
        {
          "name": "stdout",
          "output_type": "stream",
          "text": [
            "Defaulting to user installation because normal site-packages is not writeable\n",
            "Collecting git+https://github.com/FelipeSchreiber/BregmanClustering.git\n",
            "  Cloning https://github.com/FelipeSchreiber/BregmanClustering.git to c:\\users\\schre\\appdata\\local\\temp\\pip-req-build-svoydj4b\n",
            "  Resolved https://github.com/FelipeSchreiber/BregmanClustering.git to commit 2ba7d9c732f4878efca2043f4fd37609f8e80831\n",
            "  Preparing metadata (setup.py): started\n",
            "  Preparing metadata (setup.py): finished with status 'done'\n",
            "Building wheels for collected packages: bregClust\n",
            "  Building wheel for bregClust (setup.py): started\n",
            "  Building wheel for bregClust (setup.py): finished with status 'done'\n",
            "  Created wheel for bregClust: filename=bregClust-1.0-py3-none-any.whl size=21409 sha256=e0654beb9d5260188ef4eeecb74a530bc4fed7393470ebdb7f3a6fa66ed1248a\n",
            "  Stored in directory: C:\\Users\\schre\\AppData\\Local\\Temp\\pip-ephem-wheel-cache-r4bacljl\\wheels\\3f\\90\\fb\\833529540c1d5f19c385fde761cc07c664c4b9a5edf7c6735b\n",
            "Successfully built bregClust\n",
            "Installing collected packages: bregClust\n",
            "  Attempting uninstall: bregClust\n",
            "    Found existing installation: bregClust 1.0\n",
            "    Uninstalling bregClust-1.0:\n",
            "      Successfully uninstalled bregClust-1.0\n",
            "Successfully installed bregClust-1.0\n"
          ]
        },
        {
          "name": "stderr",
          "output_type": "stream",
          "text": [
            "  Running command git clone --filter=blob:none --quiet https://github.com/FelipeSchreiber/BregmanClustering.git 'C:\\Users\\schre\\AppData\\Local\\Temp\\pip-req-build-svoydj4b'\n"
          ]
        },
        {
          "name": "stdout",
          "output_type": "stream",
          "text": [
            "Defaulting to user installation because normal site-packages is not writeable\n",
            "Collecting rpy2==3.5.1\n",
            "  Using cached rpy2-3.5.1.tar.gz (201 kB)\n",
            "  Preparing metadata (setup.py): started\n",
            "  Preparing metadata (setup.py): finished with status 'done'\n",
            "Requirement already satisfied: cffi>=1.10.0 in c:\\programdata\\anaconda3\\lib\\site-packages (from rpy2==3.5.1) (1.15.1)\n",
            "Requirement already satisfied: jinja2 in c:\\programdata\\anaconda3\\lib\\site-packages (from rpy2==3.5.1) (3.1.2)\n",
            "Requirement already satisfied: pytz in c:\\programdata\\anaconda3\\lib\\site-packages (from rpy2==3.5.1) (2022.7)\n",
            "Collecting tzlocal\n",
            "  Downloading tzlocal-4.3-py3-none-any.whl (20 kB)\n",
            "Requirement already satisfied: pycparser in c:\\programdata\\anaconda3\\lib\\site-packages (from cffi>=1.10.0->rpy2==3.5.1) (2.21)\n",
            "Requirement already satisfied: MarkupSafe>=2.0 in c:\\programdata\\anaconda3\\lib\\site-packages (from jinja2->rpy2==3.5.1) (2.1.1)\n",
            "Collecting pytz-deprecation-shim\n",
            "  Downloading pytz_deprecation_shim-0.1.0.post0-py2.py3-none-any.whl (15 kB)\n",
            "Collecting tzdata\n",
            "  Downloading tzdata-2023.3-py2.py3-none-any.whl (341 kB)\n",
            "     ------------------------------------- 341.8/341.8 kB 32.4 kB/s eta 0:00:00\n",
            "Building wheels for collected packages: rpy2\n",
            "  Building wheel for rpy2 (setup.py): started\n",
            "  Building wheel for rpy2 (setup.py): finished with status 'done'\n",
            "  Created wheel for rpy2: filename=rpy2-3.5.1-py3-none-any.whl size=205905 sha256=346b86c04e73571244df4dd8e8e78ed0c77f0083b22327dfb2ff26ed81cf1b72\n",
            "  Stored in directory: c:\\users\\schre\\appdata\\local\\pip\\cache\\wheels\\b6\\a9\\ba\\155ca61576a1e0aca58865b4700a38a2ed2469cb63ee2dde81\n",
            "Successfully built rpy2\n",
            "Installing collected packages: tzdata, pytz-deprecation-shim, tzlocal, rpy2\n",
            "Successfully installed pytz-deprecation-shim-0.1.0.post0 rpy2-3.5.1 tzdata-2023.3 tzlocal-4.3\n"
          ]
        },
        {
          "name": "stderr",
          "output_type": "stream",
          "text": [
            "ERROR: pip's dependency resolver does not currently take into account all the packages that are installed. This behaviour is the source of the following dependency conflicts.\n",
            "bregclust 1.0 requires numpy==1.24.2, but you have numpy 1.23.5 which is incompatible.\n",
            "bregclust 1.0 requires scikit-learn==1.2.2, but you have scikit-learn 1.2.1 which is incompatible.\n",
            "bregclust 1.0 requires scipy==1.10.1, but you have scipy 1.10.0 which is incompatible.\n"
          ]
        }
      ],
      "source": [
        "!pip install --upgrade --force-reinstall git+https://github.com/FelipeSchreiber/BregmanClustering.git --no-deps\n",
        "#!pip install torch_geometric\n",
        "### Uncomment line below if in Google Colab environment\n",
        "#!chmod 777 /usr/local/lib/python3.9/dist-packages/BregmanTests/install_algos.sh\n",
        "!pip install rpy2==3.5.1"
      ]
    },
    {
      "cell_type": "code",
      "execution_count": 18,
      "id": "9ff28023",
      "metadata": {
        "id": "9ff28023"
      },
      "outputs": [],
      "source": [
        "#%matplotlib inline\n",
        "from BregmanTests.WSBM import *\n",
        "from BregmanTests.utils import *\n",
        "import BregmanTests\n",
        "from sklearn.metrics import adjusted_rand_score, normalized_mutual_info_score, accuracy_score\n",
        "#from signet.cluster import Cluster\n",
        "import scipy.sparse as ss\n",
        "import pandas as pd\n",
        "import os\n",
        "import warnings\n",
        "from BregmanClustering import models\n",
        "from BregmanClustering.models import SoftBregmanNodeAttributeGraphClustering as VEMbreg\n",
        "from BregmanClusteringTorch.torch_models import SoftBregmanClusteringTorch as torchBreg\n",
        "from BregmanClusteringTorch.torch_models import  SoftBregmanClusteringTorchSparse as sparseBreg\n",
        "from BregmanClusteringTorch.torch_models import GNNBregmanClustering as gnnBreg\n",
        "import subprocess\n",
        "warnings.filterwarnings(\"ignore\")"
      ]
    },
    {
      "cell_type": "code",
      "execution_count": 19,
      "id": "f851724c",
      "metadata": {
        "id": "f851724c"
      },
      "outputs": [],
      "source": [
        "from BregmanTests import cfg"
      ]
    },
    {
      "cell_type": "code",
      "execution_count": 20,
      "id": "0eae1d3b",
      "metadata": {
        "colab": {
          "base_uri": "https://localhost:8080/",
          "height": 35
        },
        "id": "0eae1d3b",
        "outputId": "1f6f54b4-00cd-4e60-ad6a-27277c33311a"
      },
      "outputs": [
        {
          "data": {
            "text/plain": [
              "'C:\\\\Users\\\\schre\\\\AppData\\\\Roaming\\\\Python\\\\Python310\\\\site-packages\\\\BregmanTests'"
            ]
          },
          "execution_count": 20,
          "metadata": {},
          "output_type": "execute_result"
        }
      ],
      "source": [
        "cfg.base_path"
      ]
    },
    {
      "cell_type": "code",
      "execution_count": 21,
      "id": "31fa08e4",
      "metadata": {
        "id": "31fa08e4"
      },
      "outputs": [],
      "source": [
        "#!/usr/bin/env python3\n",
        "# -*- coding: utf-8 -*-\n",
        "\"\"\"\n",
        "Created on Fri Feb 17 17:08:00 2023\n",
        "\n",
        "@author: maximilien, Felipe Schreiber\n",
        "\"\"\"\n",
        "from tqdm import tqdm"
      ]
    },
    {
      "cell_type": "code",
      "execution_count": 22,
      "id": "0dbd1e34",
      "metadata": {
        "id": "0dbd1e34"
      },
      "outputs": [],
      "source": [
        "c = 3 ## number of communities\n",
        "n = 100 ##size per community (or you can pass a list with different sizes)\n",
        "r = 10 ##specify how far the attributes distributions are from the origin\n",
        "d = 2 ##number of attributes\n",
        "P = np.array([[0.8, 0.2, 0.3],[0.2, 0.7, 0.4],[0.3, 0.4, 0.6]])"
      ]
    },
    {
      "cell_type": "code",
      "execution_count": 23,
      "id": "d2ad4db3",
      "metadata": {
        "id": "d2ad4db3"
      },
      "outputs": [],
      "source": [
        "X,Y,true_labels,G = BregmanBenchmark(P,[n]*c,1,10,dims=d,weight_variance=0.01,att_variance=0.1,\\\n",
        "                       weight_distribution=\"logistic\",attributes_distribution=\"logistic\",radius=r,return_G=True).generate_benchmark_WSBM()\n",
        "A = (X != 0).astype(int)"
      ]
    },
    {
      "cell_type": "code",
      "execution_count": 24,
      "id": "8e505252",
      "metadata": {
        "colab": {
          "base_uri": "https://localhost:8080/"
        },
        "id": "8e505252",
        "outputId": "2c398463-9244-4160-a620-6638f39f4e38"
      },
      "outputs": [
        {
          "data": {
            "text/plain": [
              "array([[ 0.        ,  1.02454319,  0.90625546, ...,  0.        ,\n",
              "         4.66707259,  0.        ],\n",
              "       [ 1.02454319,  0.        ,  0.        , ...,  0.        ,\n",
              "         0.        ,  0.        ],\n",
              "       [ 0.90625546,  0.        ,  0.        , ...,  4.65133062,\n",
              "         0.        ,  4.54891529],\n",
              "       ...,\n",
              "       [ 0.        ,  0.        ,  4.65133062, ...,  0.        ,\n",
              "         0.        , 10.02037901],\n",
              "       [ 4.66707259,  0.        ,  0.        , ...,  0.        ,\n",
              "         0.        ,  9.90795154],\n",
              "       [ 0.        ,  0.        ,  4.54891529, ..., 10.02037901,\n",
              "         9.90795154,  0.        ]])"
            ]
          },
          "execution_count": 24,
          "metadata": {},
          "output_type": "execute_result"
        }
      ],
      "source": [
        "X"
      ]
    },
    {
      "cell_type": "code",
      "execution_count": 25,
      "id": "360bfa70",
      "metadata": {
        "colab": {
          "base_uri": "https://localhost:8080/",
          "height": 447
        },
        "id": "360bfa70",
        "outputId": "8b35d4f6-7b86-4cbd-fea5-22eb677c7801"
      },
      "outputs": [
        {
          "data": {
            "text/plain": [
              "<matplotlib.collections.PathCollection at 0x1d05a9efdc0>"
            ]
          },
          "execution_count": 25,
          "metadata": {},
          "output_type": "execute_result"
        },
        {
          "data": {
            "image/png": "[encoded data removed]",
            "text/plain": [
              "<Figure size 640x480 with 1 Axes>"
            ]
          },
          "metadata": {},
          "output_type": "display_data"
        }
      ],
      "source": [
        "plt.scatter(Y[:,0],Y[:,1],c=true_labels)"
      ]
    },
    {
      "cell_type": "code",
      "execution_count": 26,
      "id": "d13df589",
      "metadata": {
        "colab": {
          "base_uri": "https://localhost:8080/"
        },
        "id": "d13df589",
        "outputId": "3bac67c8-6682-428c-9f62-2c1064195c74"
      },
      "outputs": [
        {
          "name": "stdout",
          "output_type": "stream",
          "text": [
            "1.0 1.0\n"
          ]
        }
      ],
      "source": [
        "pred_labels = spectral(X.copy(),c)\n",
        "print(adjusted_rand_score(true_labels, pred_labels),normalized_mutual_info_score(true_labels, pred_labels))"
      ]
    },
    {
      "cell_type": "code",
      "execution_count": 27,
      "id": "189cbdb7",
      "metadata": {
        "colab": {
          "base_uri": "https://localhost:8080/"
        },
        "id": "189cbdb7",
        "outputId": "ae369e43-dea1-469e-aaaa-9b4946ca4116"
      },
      "outputs": [
        {
          "name": "stdout",
          "output_type": "stream",
          "text": [
            "1.0 1.0\n"
          ]
        }
      ],
      "source": [
        "pred_labels = GaussianMixture(n_components=c).fit_predict(Y.copy())\n",
        "print(adjusted_rand_score(true_labels, pred_labels),normalized_mutual_info_score(true_labels, pred_labels))"
      ]
    },
    {
      "cell_type": "code",
      "execution_count": 28,
      "id": "e5f446f8",
      "metadata": {
        "colab": {
          "base_uri": "https://localhost:8080/"
        },
        "id": "e5f446f8",
        "outputId": "8d2ea9de-9a39-4b47-e8d5-5e8e7c5d6830"
      },
      "outputs": [
        {
          "name": "stdout",
          "output_type": "stream",
          "text": [
            "Initialisation chosen from the graph\n",
            "0\n",
            "1.0 1.0\n"
          ]
        }
      ],
      "source": [
        "#model = torchBreg(n_clusters=c,normalize_=True,thresholding=True)\n",
        "model = sparseBreg(n_clusters=c,normalize_=True,thresholding=True)\n",
        "model.fit(A, Y)\n",
        "z_pred_both = model.predict(A,Y)\n",
        "print(adjusted_rand_score(true_labels, z_pred_both),normalized_mutual_info_score(true_labels, z_pred_both))"
      ]
    },
    {
      "cell_type": "code",
      "execution_count": 29,
      "id": "yXC1vaNSwReS",
      "metadata": {
        "colab": {
          "base_uri": "https://localhost:8080/"
        },
        "id": "yXC1vaNSwReS",
        "outputId": "fa96e69e-24f6-4e07-ad64-772e93ed9d18"
      },
      "outputs": [
        {
          "data": {
            "text/plain": [
              "matrix([[ 0.        ,  1.02454319,  0.90625546, ...,  0.        ,\n",
              "          4.66707259,  0.        ],\n",
              "        [ 1.02454319,  0.        ,  0.        , ...,  0.        ,\n",
              "          0.        ,  0.        ],\n",
              "        [ 0.90625546,  0.        ,  0.        , ...,  4.65133062,\n",
              "          0.        ,  4.54891529],\n",
              "        ...,\n",
              "        [ 0.        ,  0.        ,  4.65133062, ...,  0.        ,\n",
              "          0.        , 10.02037901],\n",
              "        [ 4.66707259,  0.        ,  0.        , ...,  0.        ,\n",
              "          0.        ,  9.90795154],\n",
              "        [ 0.        ,  0.        ,  4.54891529, ..., 10.02037901,\n",
              "          9.90795154,  0.        ]])"
            ]
          },
          "execution_count": 29,
          "metadata": {},
          "output_type": "execute_result"
        }
      ],
      "source": [
        "import networkx as nx\n",
        "nx.adjacency_matrix(G).todense() "
      ]
    },
    {
      "cell_type": "code",
      "execution_count": 30,
      "id": "u3OzCbfRyaEi",
      "metadata": {
        "colab": {
          "base_uri": "https://localhost:8080/"
        },
        "id": "u3OzCbfRyaEi",
        "outputId": "dbecc5be-c734-4350-c114-a61d3bf11fa1"
      },
      "outputs": [
        {
          "data": {
            "text/plain": [
              "array([-5.19834477,  8.19135047,  0.        ])"
            ]
          },
          "execution_count": 30,
          "metadata": {},
          "output_type": "execute_result"
        }
      ],
      "source": [
        "G.nodes[130][\"attr\"]"
      ]
    },
    {
      "cell_type": "code",
      "execution_count": 31,
      "id": "kE0jqygorxA4",
      "metadata": {
        "colab": {
          "base_uri": "https://localhost:8080/"
        },
        "id": "kE0jqygorxA4",
        "outputId": "02505716-f787-4860-9243-19708e6e2516"
      },
      "outputs": [
        {
          "ename": "TypeError",
          "evalue": "np.matrix is not supported. Please convert to a numpy array with np.asarray. For more information see: https://numpy.org/doc/stable/reference/generated/numpy.matrix.html",
          "output_type": "error",
          "traceback": [
            "\u001b[1;31m---------------------------------------------------------------------------\u001b[0m",
            "\u001b[1;31mTypeError\u001b[0m                                 Traceback (most recent call last)",
            "Cell \u001b[1;32mIn[31], line 2\u001b[0m\n\u001b[0;32m      1\u001b[0m model \u001b[39m=\u001b[39m gnnBreg(n_clusters\u001b[39m=\u001b[39mc,normalize_\u001b[39m=\u001b[39m\u001b[39mFalse\u001b[39;00m,thresholding\u001b[39m=\u001b[39m\u001b[39mTrue\u001b[39;00m,epochs\u001b[39m=\u001b[39m\u001b[39m100\u001b[39m)\n\u001b[1;32m----> 2\u001b[0m model\u001b[39m.\u001b[39;49mfit(G, Y)\n\u001b[0;32m      3\u001b[0m z_pred_both \u001b[39m=\u001b[39m model\u001b[39m.\u001b[39mpredict(G, Y)\n\u001b[0;32m      4\u001b[0m \u001b[39mprint\u001b[39m(adjusted_rand_score(true_labels, z_pred_both),normalized_mutual_info_score(true_labels, z_pred_both))\n",
            "File \u001b[1;32m~\\AppData\\Roaming\\Python\\Python310\\site-packages\\BregmanClusteringTorch\\torch_models.py:481\u001b[0m, in \u001b[0;36mGNNBregmanClustering.fit\u001b[1;34m(self, G, Y, Z_init)\u001b[0m\n\u001b[0;32m    479\u001b[0m \u001b[39mif\u001b[39;00m Z_init \u001b[39mis\u001b[39;00m \u001b[39mNone\u001b[39;00m:\n\u001b[0;32m    480\u001b[0m     model \u001b[39m=\u001b[39m BregmanNodeAttributeGraphClustering(n_clusters\u001b[39m=\u001b[39m\u001b[39mself\u001b[39m\u001b[39m.\u001b[39mn_clusters)\n\u001b[1;32m--> 481\u001b[0m     model\u001b[39m.\u001b[39;49minitialize( X, Y )\n\u001b[0;32m    482\u001b[0m     model\u001b[39m.\u001b[39massignInitialLabels( X, Y )\n\u001b[0;32m    483\u001b[0m     Z_graph \u001b[39m=\u001b[39m torch\u001b[39m.\u001b[39mtensor(model\u001b[39m.\u001b[39mmemberships_from_graph)\u001b[39m.\u001b[39mtype(dtype)\n",
            "File \u001b[1;32m~\\AppData\\Roaming\\Python\\Python310\\site-packages\\BregmanClustering\\models.py:388\u001b[0m, in \u001b[0;36mBregmanNodeAttributeGraphClustering.initialize\u001b[1;34m(self, X, Y)\u001b[0m\n\u001b[0;32m    385\u001b[0m     \u001b[39mraise\u001b[39;00m \u001b[39mTypeError\u001b[39;00m( \u001b[39m'\u001b[39m\u001b[39mThe initializer provided for the attributes is not correct\u001b[39m\u001b[39m'\u001b[39m )\n\u001b[0;32m    387\u001b[0m \u001b[39mif\u001b[39;00m \u001b[39mself\u001b[39m\u001b[39m.\u001b[39mgraph_initializer \u001b[39m==\u001b[39m \u001b[39m'\u001b[39m\u001b[39mspectralClustering\u001b[39m\u001b[39m'\u001b[39m:\n\u001b[1;32m--> 388\u001b[0m     U \u001b[39m=\u001b[39m \u001b[39mself\u001b[39;49m\u001b[39m.\u001b[39;49mspectralEmbedding(X)\n\u001b[0;32m    389\u001b[0m     model \u001b[39m=\u001b[39m GaussianMixture(n_components\u001b[39m=\u001b[39m\u001b[39mself\u001b[39m\u001b[39m.\u001b[39mn_clusters)\n\u001b[0;32m    390\u001b[0m     model\u001b[39m.\u001b[39mfit(U)\n",
            "File \u001b[1;32m~\\AppData\\Roaming\\Python\\Python310\\site-packages\\BregmanClustering\\models.py:452\u001b[0m, in \u001b[0;36mBregmanNodeAttributeGraphClustering.spectralEmbedding\u001b[1;34m(self, X)\u001b[0m\n\u001b[0;32m    448\u001b[0m         \u001b[39mif\u001b[39;00m (X\u001b[39m<\u001b[39m\u001b[39m0\u001b[39m)\u001b[39m.\u001b[39many():\n\u001b[0;32m    449\u001b[0m             X \u001b[39m=\u001b[39m pairwise_kernels(X,metric\u001b[39m=\u001b[39m\u001b[39m'\u001b[39m\u001b[39mrbf\u001b[39m\u001b[39m'\u001b[39m)\n\u001b[0;32m    450\u001b[0m         U \u001b[39m=\u001b[39m SpectralEmbedding(n_components\u001b[39m=\u001b[39;49m\u001b[39mself\u001b[39;49m\u001b[39m.\u001b[39;49mn_clusters,\\\n\u001b[0;32m    451\u001b[0m \t\t\t\t\t\t\t\taffinity\u001b[39m=\u001b[39;49m\u001b[39m\"\u001b[39;49m\u001b[39mprecomputed\u001b[39;49m\u001b[39m\"\u001b[39;49m)\\\n\u001b[1;32m--> 452\u001b[0m \t\t\t\t\t\t\t\t\u001b[39m.\u001b[39;49mfit_transform(X)\n\u001b[0;32m    453\u001b[0m         \u001b[39mreturn\u001b[39;00m U\n",
            "File \u001b[1;32mc:\\ProgramData\\anaconda3\\lib\\site-packages\\sklearn\\manifold\\_spectral_embedding.py:713\u001b[0m, in \u001b[0;36mSpectralEmbedding.fit_transform\u001b[1;34m(self, X, y)\u001b[0m\n\u001b[0;32m    691\u001b[0m \u001b[39mdef\u001b[39;00m \u001b[39mfit_transform\u001b[39m(\u001b[39mself\u001b[39m, X, y\u001b[39m=\u001b[39m\u001b[39mNone\u001b[39;00m):\n\u001b[0;32m    692\u001b[0m     \u001b[39m\"\"\"Fit the model from data in X and transform X.\u001b[39;00m\n\u001b[0;32m    693\u001b[0m \n\u001b[0;32m    694\u001b[0m \u001b[39m    Parameters\u001b[39;00m\n\u001b[1;32m   (...)\u001b[0m\n\u001b[0;32m    711\u001b[0m \u001b[39m        Spectral embedding of the training matrix.\u001b[39;00m\n\u001b[0;32m    712\u001b[0m \u001b[39m    \"\"\"\u001b[39;00m\n\u001b[1;32m--> 713\u001b[0m     \u001b[39mself\u001b[39;49m\u001b[39m.\u001b[39;49mfit(X)\n\u001b[0;32m    714\u001b[0m     \u001b[39mreturn\u001b[39;00m \u001b[39mself\u001b[39m\u001b[39m.\u001b[39membedding_\n",
            "File \u001b[1;32mc:\\ProgramData\\anaconda3\\lib\\site-packages\\sklearn\\manifold\\_spectral_embedding.py:677\u001b[0m, in \u001b[0;36mSpectralEmbedding.fit\u001b[1;34m(self, X, y)\u001b[0m\n\u001b[0;32m    654\u001b[0m \u001b[39m\"\"\"Fit the model from data in X.\u001b[39;00m\n\u001b[0;32m    655\u001b[0m \n\u001b[0;32m    656\u001b[0m \u001b[39mParameters\u001b[39;00m\n\u001b[1;32m   (...)\u001b[0m\n\u001b[0;32m    673\u001b[0m \u001b[39m    Returns the instance itself.\u001b[39;00m\n\u001b[0;32m    674\u001b[0m \u001b[39m\"\"\"\u001b[39;00m\n\u001b[0;32m    675\u001b[0m \u001b[39mself\u001b[39m\u001b[39m.\u001b[39m_validate_params()\n\u001b[1;32m--> 677\u001b[0m X \u001b[39m=\u001b[39m \u001b[39mself\u001b[39;49m\u001b[39m.\u001b[39;49m_validate_data(X, accept_sparse\u001b[39m=\u001b[39;49m\u001b[39m\"\u001b[39;49m\u001b[39mcsr\u001b[39;49m\u001b[39m\"\u001b[39;49m, ensure_min_samples\u001b[39m=\u001b[39;49m\u001b[39m2\u001b[39;49m)\n\u001b[0;32m    679\u001b[0m random_state \u001b[39m=\u001b[39m check_random_state(\u001b[39mself\u001b[39m\u001b[39m.\u001b[39mrandom_state)\n\u001b[0;32m    681\u001b[0m affinity_matrix \u001b[39m=\u001b[39m \u001b[39mself\u001b[39m\u001b[39m.\u001b[39m_get_affinity_matrix(X)\n",
            "File \u001b[1;32mc:\\ProgramData\\anaconda3\\lib\\site-packages\\sklearn\\base.py:546\u001b[0m, in \u001b[0;36mBaseEstimator._validate_data\u001b[1;34m(self, X, y, reset, validate_separately, **check_params)\u001b[0m\n\u001b[0;32m    544\u001b[0m     \u001b[39mraise\u001b[39;00m \u001b[39mValueError\u001b[39;00m(\u001b[39m\"\u001b[39m\u001b[39mValidation should be done on X, y or both.\u001b[39m\u001b[39m\"\u001b[39m)\n\u001b[0;32m    545\u001b[0m \u001b[39melif\u001b[39;00m \u001b[39mnot\u001b[39;00m no_val_X \u001b[39mand\u001b[39;00m no_val_y:\n\u001b[1;32m--> 546\u001b[0m     X \u001b[39m=\u001b[39m check_array(X, input_name\u001b[39m=\u001b[39m\u001b[39m\"\u001b[39m\u001b[39mX\u001b[39m\u001b[39m\"\u001b[39m, \u001b[39m*\u001b[39m\u001b[39m*\u001b[39mcheck_params)\n\u001b[0;32m    547\u001b[0m     out \u001b[39m=\u001b[39m X\n\u001b[0;32m    548\u001b[0m \u001b[39melif\u001b[39;00m no_val_X \u001b[39mand\u001b[39;00m \u001b[39mnot\u001b[39;00m no_val_y:\n",
            "File \u001b[1;32mc:\\ProgramData\\anaconda3\\lib\\site-packages\\sklearn\\utils\\validation.py:737\u001b[0m, in \u001b[0;36mcheck_array\u001b[1;34m(array, accept_sparse, accept_large_sparse, dtype, order, copy, force_all_finite, ensure_2d, allow_nd, ensure_min_samples, ensure_min_features, estimator, input_name)\u001b[0m\n\u001b[0;32m    646\u001b[0m \u001b[39m\"\"\"Input validation on an array, list, sparse matrix or similar.\u001b[39;00m\n\u001b[0;32m    647\u001b[0m \n\u001b[0;32m    648\u001b[0m \u001b[39mBy default, the input is checked to be a non-empty 2D array containing\u001b[39;00m\n\u001b[1;32m   (...)\u001b[0m\n\u001b[0;32m    734\u001b[0m \u001b[39m    The converted and validated array.\u001b[39;00m\n\u001b[0;32m    735\u001b[0m \u001b[39m\"\"\"\u001b[39;00m\n\u001b[0;32m    736\u001b[0m \u001b[39mif\u001b[39;00m \u001b[39misinstance\u001b[39m(array, np\u001b[39m.\u001b[39mmatrix):\n\u001b[1;32m--> 737\u001b[0m     \u001b[39mraise\u001b[39;00m \u001b[39mTypeError\u001b[39;00m(\n\u001b[0;32m    738\u001b[0m         \u001b[39m\"\u001b[39m\u001b[39mnp.matrix is not supported. Please convert to a numpy array with \u001b[39m\u001b[39m\"\u001b[39m\n\u001b[0;32m    739\u001b[0m         \u001b[39m\"\u001b[39m\u001b[39mnp.asarray. For more information see: \u001b[39m\u001b[39m\"\u001b[39m\n\u001b[0;32m    740\u001b[0m         \u001b[39m\"\u001b[39m\u001b[39mhttps://numpy.org/doc/stable/reference/generated/numpy.matrix.html\u001b[39m\u001b[39m\"\u001b[39m\n\u001b[0;32m    741\u001b[0m     )\n\u001b[0;32m    743\u001b[0m xp, is_array_api \u001b[39m=\u001b[39m get_namespace(array)\n\u001b[0;32m    745\u001b[0m \u001b[39m# store reference to original array to check if copy is needed when\u001b[39;00m\n\u001b[0;32m    746\u001b[0m \u001b[39m# function returns\u001b[39;00m\n",
            "\u001b[1;31mTypeError\u001b[0m: np.matrix is not supported. Please convert to a numpy array with np.asarray. For more information see: https://numpy.org/doc/stable/reference/generated/numpy.matrix.html"
          ]
        }
      ],
      "source": [
        "model = gnnBreg(n_clusters=c,normalize_=False,thresholding=True,epochs=100)\n",
        "model.fit(G, Y)\n",
        "z_pred_both = model.predict(G, Y)\n",
        "print(adjusted_rand_score(true_labels, z_pred_both),normalized_mutual_info_score(true_labels, z_pred_both))"
      ]
    },
    {
      "cell_type": "code",
      "execution_count": 32,
      "id": "E-wm63rs1vPg",
      "metadata": {
        "colab": {
          "base_uri": "https://localhost:8080/"
        },
        "id": "E-wm63rs1vPg",
        "outputId": "7baceb03-0597-4800-86e5-dc80aa7aff8b"
      },
      "outputs": [
        {
          "name": "stderr",
          "output_type": "stream",
          "text": [
            "Unable to determine R home: [WinError 2] The system cannot find the file specified\n"
          ]
        },
        {
          "name": "stdout",
          "output_type": "stream",
          "text": [
            "Downloading packages from github...\n",
            "\n"
          ]
        },
        {
          "ename": "OSError",
          "evalue": "[WinError 193] %1 is not a valid Win32 application",
          "output_type": "error",
          "traceback": [
            "\u001b[1;31m---------------------------------------------------------------------------\u001b[0m",
            "\u001b[1;31mOSError\u001b[0m                                   Traceback (most recent call last)",
            "Cell \u001b[1;32mIn[32], line 6\u001b[0m\n\u001b[0;32m      4\u001b[0m \u001b[39m## Optional: set repository for CRAN\u001b[39;00m\n\u001b[0;32m      5\u001b[0m BregmanTests\u001b[39m.\u001b[39mcfg\u001b[39m.\u001b[39mCRAN_repo \u001b[39m=\u001b[39m \u001b[39m\"\u001b[39m\u001b[39mhttps://cran.fiocruz.br/\u001b[39m\u001b[39m\"\u001b[39m\n\u001b[1;32m----> 6\u001b[0m install_env()\n\u001b[0;32m      7\u001b[0m \u001b[39mfrom\u001b[39;00m \u001b[39mCSBM\u001b[39;00m\u001b[39m.\u001b[39;00m\u001b[39mPython\u001b[39;00m\u001b[39m.\u001b[39;00m\u001b[39mfunctions\u001b[39;00m \u001b[39mimport\u001b[39;00m \u001b[39m*\u001b[39m\n",
            "File \u001b[1;32m~\\AppData\\Roaming\\Python\\Python310\\site-packages\\BregmanTests\\install_algorithms.py:37\u001b[0m, in \u001b[0;36mmain\u001b[1;34m()\u001b[0m\n\u001b[0;32m     35\u001b[0m \u001b[39m#subprocess.call([\"chmod\",\"777\",f\"{bash_path}\"])\u001b[39;00m\n\u001b[0;32m     36\u001b[0m os\u001b[39m.\u001b[39mchmod(bash_path, \u001b[39m777\u001b[39m)\n\u001b[1;32m---> 37\u001b[0m subprocess\u001b[39m.\u001b[39;49mcall([\u001b[39mf\u001b[39;49m\u001b[39m\"\u001b[39;49m\u001b[39m{\u001b[39;49;00mbash_path\u001b[39m}\u001b[39;49;00m\u001b[39m\"\u001b[39;49m])\n\u001b[0;32m     38\u001b[0m modify_csbm(\u001b[39m\"\u001b[39m\u001b[39m./CSBM/Python/functions.py\u001b[39m\u001b[39m\"\u001b[39m)\n\u001b[0;32m     39\u001b[0m modify_att_sbm(\u001b[39m\"\u001b[39m\u001b[39m./AttributedSBM/FitAttribute.R\u001b[39m\u001b[39m\"\u001b[39m)\n",
            "File \u001b[1;32mc:\\ProgramData\\anaconda3\\lib\\subprocess.py:345\u001b[0m, in \u001b[0;36mcall\u001b[1;34m(timeout, *popenargs, **kwargs)\u001b[0m\n\u001b[0;32m    337\u001b[0m \u001b[39mdef\u001b[39;00m \u001b[39mcall\u001b[39m(\u001b[39m*\u001b[39mpopenargs, timeout\u001b[39m=\u001b[39m\u001b[39mNone\u001b[39;00m, \u001b[39m*\u001b[39m\u001b[39m*\u001b[39mkwargs):\n\u001b[0;32m    338\u001b[0m     \u001b[39m\"\"\"Run command with arguments.  Wait for command to complete or\u001b[39;00m\n\u001b[0;32m    339\u001b[0m \u001b[39m    timeout, then return the returncode attribute.\u001b[39;00m\n\u001b[0;32m    340\u001b[0m \n\u001b[1;32m   (...)\u001b[0m\n\u001b[0;32m    343\u001b[0m \u001b[39m    retcode = call([\"ls\", \"-l\"])\u001b[39;00m\n\u001b[0;32m    344\u001b[0m \u001b[39m    \"\"\"\u001b[39;00m\n\u001b[1;32m--> 345\u001b[0m     \u001b[39mwith\u001b[39;00m Popen(\u001b[39m*\u001b[39mpopenargs, \u001b[39m*\u001b[39m\u001b[39m*\u001b[39mkwargs) \u001b[39mas\u001b[39;00m p:\n\u001b[0;32m    346\u001b[0m         \u001b[39mtry\u001b[39;00m:\n\u001b[0;32m    347\u001b[0m             \u001b[39mreturn\u001b[39;00m p\u001b[39m.\u001b[39mwait(timeout\u001b[39m=\u001b[39mtimeout)\n",
            "File \u001b[1;32mc:\\ProgramData\\anaconda3\\lib\\subprocess.py:971\u001b[0m, in \u001b[0;36mPopen.__init__\u001b[1;34m(self, args, bufsize, executable, stdin, stdout, stderr, preexec_fn, close_fds, shell, cwd, env, universal_newlines, startupinfo, creationflags, restore_signals, start_new_session, pass_fds, user, group, extra_groups, encoding, errors, text, umask, pipesize)\u001b[0m\n\u001b[0;32m    967\u001b[0m         \u001b[39mif\u001b[39;00m \u001b[39mself\u001b[39m\u001b[39m.\u001b[39mtext_mode:\n\u001b[0;32m    968\u001b[0m             \u001b[39mself\u001b[39m\u001b[39m.\u001b[39mstderr \u001b[39m=\u001b[39m io\u001b[39m.\u001b[39mTextIOWrapper(\u001b[39mself\u001b[39m\u001b[39m.\u001b[39mstderr,\n\u001b[0;32m    969\u001b[0m                     encoding\u001b[39m=\u001b[39mencoding, errors\u001b[39m=\u001b[39merrors)\n\u001b[1;32m--> 971\u001b[0m     \u001b[39mself\u001b[39;49m\u001b[39m.\u001b[39;49m_execute_child(args, executable, preexec_fn, close_fds,\n\u001b[0;32m    972\u001b[0m                         pass_fds, cwd, env,\n\u001b[0;32m    973\u001b[0m                         startupinfo, creationflags, shell,\n\u001b[0;32m    974\u001b[0m                         p2cread, p2cwrite,\n\u001b[0;32m    975\u001b[0m                         c2pread, c2pwrite,\n\u001b[0;32m    976\u001b[0m                         errread, errwrite,\n\u001b[0;32m    977\u001b[0m                         restore_signals,\n\u001b[0;32m    978\u001b[0m                         gid, gids, uid, umask,\n\u001b[0;32m    979\u001b[0m                         start_new_session)\n\u001b[0;32m    980\u001b[0m \u001b[39mexcept\u001b[39;00m:\n\u001b[0;32m    981\u001b[0m     \u001b[39m# Cleanup if the child failed starting.\u001b[39;00m\n\u001b[0;32m    982\u001b[0m     \u001b[39mfor\u001b[39;00m f \u001b[39min\u001b[39;00m \u001b[39mfilter\u001b[39m(\u001b[39mNone\u001b[39;00m, (\u001b[39mself\u001b[39m\u001b[39m.\u001b[39mstdin, \u001b[39mself\u001b[39m\u001b[39m.\u001b[39mstdout, \u001b[39mself\u001b[39m\u001b[39m.\u001b[39mstderr)):\n",
            "File \u001b[1;32mc:\\ProgramData\\anaconda3\\lib\\subprocess.py:1440\u001b[0m, in \u001b[0;36mPopen._execute_child\u001b[1;34m(self, args, executable, preexec_fn, close_fds, pass_fds, cwd, env, startupinfo, creationflags, shell, p2cread, p2cwrite, c2pread, c2pwrite, errread, errwrite, unused_restore_signals, unused_gid, unused_gids, unused_uid, unused_umask, unused_start_new_session)\u001b[0m\n\u001b[0;32m   1438\u001b[0m \u001b[39m# Start the process\u001b[39;00m\n\u001b[0;32m   1439\u001b[0m \u001b[39mtry\u001b[39;00m:\n\u001b[1;32m-> 1440\u001b[0m     hp, ht, pid, tid \u001b[39m=\u001b[39m _winapi\u001b[39m.\u001b[39;49mCreateProcess(executable, args,\n\u001b[0;32m   1441\u001b[0m                              \u001b[39m# no special security\u001b[39;49;00m\n\u001b[0;32m   1442\u001b[0m                              \u001b[39mNone\u001b[39;49;00m, \u001b[39mNone\u001b[39;49;00m,\n\u001b[0;32m   1443\u001b[0m                              \u001b[39mint\u001b[39;49m(\u001b[39mnot\u001b[39;49;00m close_fds),\n\u001b[0;32m   1444\u001b[0m                              creationflags,\n\u001b[0;32m   1445\u001b[0m                              env,\n\u001b[0;32m   1446\u001b[0m                              cwd,\n\u001b[0;32m   1447\u001b[0m                              startupinfo)\n\u001b[0;32m   1448\u001b[0m \u001b[39mfinally\u001b[39;00m:\n\u001b[0;32m   1449\u001b[0m     \u001b[39m# Child is launched. Close the parent's copy of those pipe\u001b[39;00m\n\u001b[0;32m   1450\u001b[0m     \u001b[39m# handles that only the child should have open.  You need\u001b[39;00m\n\u001b[1;32m   (...)\u001b[0m\n\u001b[0;32m   1453\u001b[0m     \u001b[39m# pipe will not close when the child process exits and the\u001b[39;00m\n\u001b[0;32m   1454\u001b[0m     \u001b[39m# ReadFile will hang.\u001b[39;00m\n\u001b[0;32m   1455\u001b[0m     \u001b[39mself\u001b[39m\u001b[39m.\u001b[39m_close_pipe_fds(p2cread, p2cwrite,\n\u001b[0;32m   1456\u001b[0m                          c2pread, c2pwrite,\n\u001b[0;32m   1457\u001b[0m                          errread, errwrite)\n",
            "\u001b[1;31mOSError\u001b[0m: [WinError 193] %1 is not a valid Win32 application"
          ]
        }
      ],
      "source": [
        "from BregmanClustering.models import BregmanNodeEdgeAttributeGraphClustering as edgeBreg\n",
        "from BregmanTests.install_algorithms import main as install_env\n",
        "import BregmanTests\n",
        "## Optional: set repository for CRAN\n",
        "BregmanTests.cfg.CRAN_repo = \"https://cran.fiocruz.br/\"\n",
        "install_env()\n",
        "from CSBM.Python.functions import *"
      ]
    },
    {
      "cell_type": "code",
      "execution_count": null,
      "id": "9e151220",
      "metadata": {
        "colab": {
          "base_uri": "https://localhost:8080/"
        },
        "id": "9e151220",
        "outputId": "efecdf8d-cb06-44b3-db19-0a690fc9ed90",
        "scrolled": true
      },
      "outputs": [
        {
          "name": "stderr",
          "output_type": "stream",
          "text": [
            "  0%|          | 0/3 [00:04<?, ?it/s]"
          ]
        },
        {
          "name": "stdout",
          "output_type": "stream",
          "text": [
            "Initialisation chosen from the graph\n"
          ]
        },
        {
          "name": "stderr",
          "output_type": "stream",
          "text": [
            "\n"
          ]
        },
        {
          "ename": "NameError",
          "evalue": "name 'convertZ' is not defined",
          "output_type": "error",
          "traceback": [
            "\u001b[1;31m---------------------------------------------------------------------------\u001b[0m",
            "\u001b[1;31mNameError\u001b[0m                                 Traceback (most recent call last)",
            "Cell \u001b[1;32mIn[18], line 88\u001b[0m\n\u001b[0;32m     86\u001b[0m     np\u001b[39m.\u001b[39msave(g, X)\n\u001b[0;32m     87\u001b[0m \u001b[39mwith\u001b[39;00m \u001b[39mopen\u001b[39m(\u001b[39mf\u001b[39m\u001b[39m'\u001b[39m\u001b[39m{\u001b[39;00mpath_\u001b[39m}\u001b[39;00m\u001b[39mz_init_\u001b[39m\u001b[39m{\u001b[39;00mtrial\u001b[39m}\u001b[39;00m\u001b[39m.npy\u001b[39m\u001b[39m'\u001b[39m, \u001b[39m'\u001b[39m\u001b[39mwb\u001b[39m\u001b[39m'\u001b[39m) \u001b[39mas\u001b[39;00m g:\n\u001b[1;32m---> 88\u001b[0m     np\u001b[39m.\u001b[39msave(g, convertZ(z_init)\u001b[39m+\u001b[39m\u001b[39m1\u001b[39m)\n\u001b[0;32m     90\u001b[0m model\u001b[39m.\u001b[39mfit( X, Y )\n\u001b[0;32m     91\u001b[0m z_pred_both \u001b[39m=\u001b[39m model\u001b[39m.\u001b[39mpredict( X, Y )\n",
            "\u001b[1;31mNameError\u001b[0m: name 'convertZ' is not defined"
          ]
        }
      ],
      "source": [
        "n_average = 1\n",
        "n = 300\n",
        "n_clusters = 2\n",
        "d = 1\n",
        "sizes = [ n // n_clusters ]*np.ones( n_clusters, dtype = int )\n",
        "\n",
        "b = 5\n",
        "pout = b * np.log( n ) / n\n",
        "\n",
        "#a_range = [ 5,7,9,11,13,15 ]\n",
        "#r_range = [ 0,1,2,3,4,5 ]\n",
        "a_range = [ 5,7,9]\n",
        "r_range = [ 0,1,2]\n",
        "\n",
        "stats = {\"varying\":[],\"a\":[],\"r\":[],\"agreed\":[],\"ARI_chernoff\":[],\"ARI_AIC\":[],\"ARI_ORACLE\":[]}\n",
        "\n",
        "for varying in [\"attributes\",\"graph\"]:\n",
        "# varying = 'attributes'\n",
        "# #varying = 'graph'\n",
        "\n",
        "    aris_attributes_mean = [ ]\n",
        "    aris_graph_mean = [ ]\n",
        "    aris_both_mean = [ ]\n",
        "    aris_attSBM_mean = [ ]\n",
        "    aris_IR_sLS_mean = [ ]\n",
        "    aris_IR_LS_mean = [ ]\n",
        "    aris_both2_mean = [ ]\n",
        "    aris_oracle_mean = [ ]\n",
        "\n",
        "    aris_attributes_std = [ ]\n",
        "    aris_graph_std = [ ]\n",
        "    aris_both_std = [ ]\n",
        "    aris_attSBM_std = [ ]\n",
        "    aris_IR_sLS_std = [ ]\n",
        "    aris_IR_LS_std = [ ]\n",
        "    aris_both2_std = [ ]\n",
        "    aris_oracle_std = [ ]\n",
        "\n",
        "    if varying == 'graph':\n",
        "        loop = tqdm( range( len( a_range ) ) )\n",
        "    else:\n",
        "        loop = tqdm( range( len( r_range ) ) )\n",
        "\n",
        "    for dummy in loop:\n",
        "        if varying == 'graph':\n",
        "            a = a_range[ dummy ]\n",
        "            r = 1\n",
        "        elif varying == 'attributes':\n",
        "            a = 8\n",
        "            r = r_range[ dummy ]\n",
        "\n",
        "        pin = a * np.log( n ) / n\n",
        "        p = (pin- pout) * np.eye( n_clusters ) + pout * np.ones( (n_clusters, n_clusters) )\n",
        "\n",
        "        aris_attributes = [ ]\n",
        "        aris_graph = [ ]\n",
        "        aris_both = [ ]\n",
        "        aris_attSBM = [ ]\n",
        "        aris_IR_sLS  = [ ]\n",
        "        aris_IR_LS = [ ]\n",
        "        aris_both2 = [ ]\n",
        "        aris_oracle = [ ]\n",
        "        \n",
        "        path_ = BregmanTests.cfg.path_to_data+f\"a/{a}/r/{r}/\"\n",
        "        if not os.path.exists(path_):\n",
        "            os.makedirs(path_)\n",
        "\n",
        "        total = 0\n",
        "        for trial in range( n_average ):\n",
        "            ( X, Y, z_true, G) = BregmanBenchmark(p,sizes,att_variance=1,\\\n",
        "                    attributes_distribution=\"gaussian\",radius=r,return_G=True).generate_benchmark_WSBM()\n",
        "            \n",
        "            X = (X != 0).astype(int)\n",
        "            model = models.BregmanNodeAttributeGraphClustering( n_clusters = n_clusters, initializer=\"chernoff\")\n",
        "            ## For comparison purposes, the initialization is the same for IR-sLS, IR-LS and ours    \n",
        "            model.initialize(X,Y)\n",
        "            model.assignInitialLabels( X, Y )\n",
        "            z_init = model.predicted_memberships\n",
        "            chernoff_init_graph = model.graph_init\n",
        "            chernoff_graph_labels = model.memberships_from_graph\n",
        "            chernoff_att_labels = model.memberships_from_attributes\n",
        "\n",
        "            with open(f'{path_}att_{trial}.npy', 'wb') as g:\n",
        "                np.save(g, Y)\n",
        "            with open(f'{path_}net_{trial}.npy', 'wb') as g:\n",
        "                np.save(g, X)\n",
        "            with open(f'{path_}z_init_{trial}.npy', 'wb') as g:\n",
        "                np.save(g, convertZ(z_init)+1)\n",
        "\n",
        "            model.fit( X, Y )\n",
        "            z_pred_both = model.predict( X, Y )\n",
        "            z_pred_graph = models.frommembershipMatriceToVector( chernoff_graph_labels )\n",
        "            z_pred_attributes = models.frommembershipMatriceToVector( chernoff_att_labels )\n",
        "            \n",
        "            # this code is for initialization comparison\n",
        "            ### > Start\n",
        "            # if chernoff_init_graph == model.AIC_initializer(X,Y).graph_init:\n",
        "            #     total += 1\n",
        "            \n",
        "            # ## Warm start\n",
        "            # if model.graph_init:\n",
        "            #     model.fit( X, Y, chernoff_graph_labels)\n",
        "            # else:\n",
        "            #     model.fit(X, Y, chernoff_att_labels)\n",
        "            ### > end\n",
        "\n",
        "            model2 = edgeBreg(n_clusters=n_clusters, initializer=\"chernoff\")\n",
        "            z_pred_both2 = model2.fit(X,X.reshape(n,n,1),Y).predict( X, Y )\n",
        "            \n",
        "            IR_sLS_pred = iter_csbm(X,Y,z_init,n_clusters)\n",
        "            IR_LS_pred = iter_csbm2(X,Y,z_init,n_clusters)\n",
        "                \n",
        "            subprocess.call([\"/usr/bin/Rscript\",\"--vanilla\",f\"{BregmanTests.cfg.base_path}/run_AttSBM.r\",\\\n",
        "                            f'{path_}att_{trial}.npy',\\\n",
        "                            f'{path_}net_{trial}.npy',\\\n",
        "                            f'{path_}z_init_{trial}.npy'])\n",
        "            attSBMPred = np.load(\"predict.npy\")\n",
        "\n",
        "            aris_attributes.append( adjusted_rand_score( z_true, z_pred_attributes ) )\n",
        "            aris_graph.append( adjusted_rand_score( z_true, z_pred_graph ) )\n",
        "            aris_both.append( adjusted_rand_score( z_true, z_pred_both ) )\n",
        "            aris_attSBM.append( adjusted_rand_score( z_true, attSBMPred ) )\n",
        "            aris_IR_sLS.append( adjusted_rand_score( z_true, IR_sLS_pred ) )\n",
        "            aris_IR_LS.append( adjusted_rand_score( z_true, IR_LS_pred ) )\n",
        "            aris_both2.append( adjusted_rand_score( z_true, z_pred_both2 ))\n",
        "            \n",
        "            if chernoff_init_graph != model.AIC_initializer(X,Y).graph_init:\n",
        "                ## both initializations were done\n",
        "                aris_oracle.append( max(aris_both[-1],aris_both2[-1]))\n",
        "            elif chernoff_init_graph:\n",
        "                z_pred_att_init = model.fit(X,Y,chernoff_att_labels).predict(X,Y)\n",
        "                ari_att_init = adjusted_rand_score( z_true, z_pred_att_init)\n",
        "                aris_oracle.append( max(aris_both[-1], ari_att_init))\n",
        "            elif not chernoff_init_graph:\n",
        "                z_pred_graph_init = model.fit(X,Y,chernoff_graph_labels).predict(X,Y)\n",
        "                ari_graph_init = adjusted_rand_score( z_true, z_pred_graph_init)\n",
        "                aris_oracle.append( max(aris_both[-1], ari_graph_init))\n",
        "                \n",
        "        aris_attributes_mean.append( np.mean( aris_attributes ) )\n",
        "        aris_graph_mean.append( np.mean( aris_graph ) )\n",
        "        aris_both_mean.append( np.mean( aris_both ) )\n",
        "        aris_attSBM_mean.append( np.mean( aris_attSBM ) )\n",
        "        aris_IR_sLS_mean.append( np.mean( aris_IR_sLS ) )\n",
        "        aris_IR_LS_mean.append( np.mean( aris_IR_LS ) )\n",
        "        aris_both2_mean.append( np.mean( aris_both2) )\n",
        "        aris_oracle_mean.append( np.mean( aris_oracle) )\n",
        "        \n",
        "        aris_attributes_std.append( np.std( aris_attributes ) )\n",
        "        aris_graph_std.append( np.std( aris_graph ) )\n",
        "        aris_both_std.append( np.std( aris_both ) )\n",
        "        aris_attSBM_std.append( np.std( aris_attSBM ) )\n",
        "        aris_IR_sLS_std.append( np.std( aris_IR_sLS ) )\n",
        "        aris_IR_LS_std.append( np.std( aris_IR_LS ) )\n",
        "        aris_both2_std.append( np.std( aris_both2 ) )\n",
        "        aris_oracle_std.append( np.std( aris_oracle) )\n",
        "        \n",
        "        stats[\"varying\"].append(varying)\n",
        "        stats[\"a\"].append(a)\n",
        "        stats[\"r\"].append(r)\n",
        "        stats[\"agreed\"].append(total/n_average)\n",
        "        stats[\"ARI_chernoff\"].append(aris_both_mean[-1])\n",
        "        stats[\"ARI_AIC\"].append(aris_both2_mean[-1])\n",
        "        stats[\"ARI_ORACLE\"].append(aris_oracle_mean[-1])\n",
        "        \n",
        "    curves = [ aris_attributes_mean, aris_graph_mean,\\\n",
        "              aris_both_mean , aris_attSBM_mean, aris_IR_sLS_mean,\\\n",
        "              aris_IR_LS_mean, aris_both2_mean]\n",
        "\n",
        "    curves_std = [ aris_attributes_std, aris_graph_std,\\\n",
        "                  aris_both_std , aris_attSBM_std, aris_IR_sLS_std,\\\n",
        "                  aris_IR_LS_std, aris_both2_std]\n",
        "\n",
        "    labels = [ 'attributes', 'graph', 'both' , 'attSBM', 'IR_sLS', 'IR_LS', \"edgeBreg\"]\n",
        "    saveFig = True\n",
        "    if varying == 'graph':    \n",
        "        fileName = 'N_' + str(n) + '_K_' + str(n_clusters) + '_b_' + str(b) + '_r_' + str(r) +  '_nAverage' + str(n_average) + '.jpeg'\n",
        "        plotting( a_range, curves, labels, curves_std = curves_std, xticks = a_range, xlabel = 'a', saveFig = saveFig, fileName = fileName )\n",
        "        plt.close()\n",
        "    elif varying == 'attributes':\n",
        "        fileName = 'N_' + str(n) + '_K_' + str(n_clusters) + '_a_' + str(a) + '_b_' + str(b) +  '_nAverage_' + str(n_average) + '.jpeg'\n",
        "        plotting( r_range, curves, labels, curves_std = curves_std, xticks = r_range, xlabel = 'r', saveFig = saveFig, fileName = fileName )\n",
        "        plt.close()"
      ]
    },
    {
      "cell_type": "code",
      "execution_count": null,
      "id": "0ef9402f",
      "metadata": {
        "id": "0ef9402f"
      },
      "outputs": [],
      "source": [
        "import pandas as pd\n",
        "df = pd.DataFrame.from_dict(stats)"
      ]
    },
    {
      "cell_type": "code",
      "execution_count": null,
      "id": "2ba58beb",
      "metadata": {
        "colab": {
          "base_uri": "https://localhost:8080/",
          "height": 238
        },
        "id": "2ba58beb",
        "outputId": "aab50bdd-5a85-44c3-ac57-a80b6f1bb2e0"
      },
      "outputs": [
        {
          "data": {
            "text/html": [
              "\n",
              "  <div id=\"df-8b95b00e-5927-40bd-a667-d815174704a6\">\n",
              "    <div class=\"colab-df-container\">\n",
              "      <div>\n",
              "<style scoped>\n",
              "    .dataframe tbody tr th:only-of-type {\n",
              "        vertical-align: middle;\n",
              "    }\n",
              "\n",
              "    .dataframe tbody tr th {\n",
              "        vertical-align: top;\n",
              "    }\n",
              "\n",
              "    .dataframe thead th {\n",
              "        text-align: right;\n",
              "    }\n",
              "</style>\n",
              "<table border=\"1\" class=\"dataframe\">\n",
              "  <thead>\n",
              "    <tr style=\"text-align: right;\">\n",
              "      <th></th>\n",
              "      <th>varying</th>\n",
              "      <th>a</th>\n",
              "      <th>r</th>\n",
              "      <th>agreed</th>\n",
              "      <th>ARI_chernoff</th>\n",
              "      <th>ARI_AIC</th>\n",
              "      <th>ARI_ORACLE</th>\n",
              "    </tr>\n",
              "  </thead>\n",
              "  <tbody>\n",
              "    <tr>\n",
              "      <th>0</th>\n",
              "      <td>attributes</td>\n",
              "      <td>8</td>\n",
              "      <td>0</td>\n",
              "      <td>0.0</td>\n",
              "      <td>0.018256</td>\n",
              "      <td>0.042313</td>\n",
              "      <td>0.018256</td>\n",
              "    </tr>\n",
              "    <tr>\n",
              "      <th>1</th>\n",
              "      <td>attributes</td>\n",
              "      <td>8</td>\n",
              "      <td>1</td>\n",
              "      <td>0.0</td>\n",
              "      <td>0.821449</td>\n",
              "      <td>0.797367</td>\n",
              "      <td>0.821449</td>\n",
              "    </tr>\n",
              "    <tr>\n",
              "      <th>2</th>\n",
              "      <td>attributes</td>\n",
              "      <td>8</td>\n",
              "      <td>2</td>\n",
              "      <td>0.0</td>\n",
              "      <td>0.986667</td>\n",
              "      <td>0.960267</td>\n",
              "      <td>0.986667</td>\n",
              "    </tr>\n",
              "    <tr>\n",
              "      <th>3</th>\n",
              "      <td>graph</td>\n",
              "      <td>5</td>\n",
              "      <td>1</td>\n",
              "      <td>0.0</td>\n",
              "      <td>0.004184</td>\n",
              "      <td>-0.003162</td>\n",
              "      <td>0.004184</td>\n",
              "    </tr>\n",
              "    <tr>\n",
              "      <th>4</th>\n",
              "      <td>graph</td>\n",
              "      <td>7</td>\n",
              "      <td>1</td>\n",
              "      <td>0.0</td>\n",
              "      <td>0.031606</td>\n",
              "      <td>0.075363</td>\n",
              "      <td>0.507242</td>\n",
              "    </tr>\n",
              "    <tr>\n",
              "      <th>5</th>\n",
              "      <td>graph</td>\n",
              "      <td>9</td>\n",
              "      <td>1</td>\n",
              "      <td>0.0</td>\n",
              "      <td>0.960267</td>\n",
              "      <td>0.973422</td>\n",
              "      <td>0.960267</td>\n",
              "    </tr>\n",
              "  </tbody>\n",
              "</table>\n",
              "</div>\n",
              "      <button class=\"colab-df-convert\" onclick=\"convertToInteractive('df-8b95b00e-5927-40bd-a667-d815174704a6')\"\n",
              "              title=\"Convert this dataframe to an interactive table.\"\n",
              "              style=\"display:none;\">\n",
              "        \n",
              "  <svg xmlns=\"http://www.w3.org/2000/svg\" height=\"24px\"viewBox=\"0 0 24 24\"\n",
              "       width=\"24px\">\n",
              "    <path d=\"M0 0h24v24H0V0z\" fill=\"none\"/>\n",
              "    <path d=\"M18.56 5.44l.94 2.06.94-2.06 2.06-.94-2.06-.94-.94-2.06-.94 2.06-2.06.94zm-11 1L8.5 8.5l.94-2.06 2.06-.94-2.06-.94L8.5 2.5l-.94 2.06-2.06.94zm10 10l.94 2.06.94-2.06 2.06-.94-2.06-.94-.94-2.06-.94 2.06-2.06.94z\"/><path d=\"M17.41 7.96l-1.37-1.37c-.4-.4-.92-.59-1.43-.59-.52 0-1.04.2-1.43.59L10.3 9.45l-7.72 7.72c-.78.78-.78 2.05 0 2.83L4 21.41c.39.39.9.59 1.41.59.51 0 1.02-.2 1.41-.59l7.78-7.78 2.81-2.81c.8-.78.8-2.07 0-2.86zM5.41 20L4 18.59l7.72-7.72 1.47 1.35L5.41 20z\"/>\n",
              "  </svg>\n",
              "      </button>\n",
              "      \n",
              "  <style>\n",
              "    .colab-df-container {\n",
              "      display:flex;\n",
              "      flex-wrap:wrap;\n",
              "      gap: 12px;\n",
              "    }\n",
              "\n",
              "    .colab-df-convert {\n",
              "      background-color: #E8F0FE;\n",
              "      border: none;\n",
              "      border-radius: 50%;\n",
              "      cursor: pointer;\n",
              "      display: none;\n",
              "      fill: #1967D2;\n",
              "      height: 32px;\n",
              "      padding: 0 0 0 0;\n",
              "      width: 32px;\n",
              "    }\n",
              "\n",
              "    .colab-df-convert:hover {\n",
              "      background-color: #E2EBFA;\n",
              "      box-shadow: 0px 1px 2px rgba(60, 64, 67, 0.3), 0px 1px 3px 1px rgba(60, 64, 67, 0.15);\n",
              "      fill: #174EA6;\n",
              "    }\n",
              "\n",
              "    [theme=dark] .colab-df-convert {\n",
              "      background-color: #3B4455;\n",
              "      fill: #D2E3FC;\n",
              "    }\n",
              "\n",
              "    [theme=dark] .colab-df-convert:hover {\n",
              "      background-color: #434B5C;\n",
              "      box-shadow: 0px 1px 3px 1px rgba(0, 0, 0, 0.15);\n",
              "      filter: drop-shadow(0px 1px 2px rgba(0, 0, 0, 0.3));\n",
              "      fill: #FFFFFF;\n",
              "    }\n",
              "  </style>\n",
              "\n",
              "      <script>\n",
              "        const buttonEl =\n",
              "          document.querySelector('#df-8b95b00e-5927-40bd-a667-d815174704a6 button.colab-df-convert');\n",
              "        buttonEl.style.display =\n",
              "          google.colab.kernel.accessAllowed ? 'block' : 'none';\n",
              "\n",
              "        async function convertToInteractive(key) {\n",
              "          const element = document.querySelector('#df-8b95b00e-5927-40bd-a667-d815174704a6');\n",
              "          const dataTable =\n",
              "            await google.colab.kernel.invokeFunction('convertToInteractive',\n",
              "                                                     [key], {});\n",
              "          if (!dataTable) return;\n",
              "\n",
              "          const docLinkHtml = 'Like what you see? Visit the ' +\n",
              "            '<a target=\"_blank\" href=https://colab.research.google.com/notebooks/data_table.ipynb>data table notebook</a>'\n",
              "            + ' to learn more about interactive tables.';\n",
              "          element.innerHTML = '';\n",
              "          dataTable['output_type'] = 'display_data';\n",
              "          await google.colab.output.renderOutput(dataTable, element);\n",
              "          const docLink = document.createElement('div');\n",
              "          docLink.innerHTML = docLinkHtml;\n",
              "          element.appendChild(docLink);\n",
              "        }\n",
              "      </script>\n",
              "    </div>\n",
              "  </div>\n",
              "  "
            ],
            "text/plain": [
              "      varying  a  r  agreed  ARI_chernoff   ARI_AIC  ARI_ORACLE\n",
              "0  attributes  8  0     0.0      0.018256  0.042313    0.018256\n",
              "1  attributes  8  1     0.0      0.821449  0.797367    0.821449\n",
              "2  attributes  8  2     0.0      0.986667  0.960267    0.986667\n",
              "3       graph  5  1     0.0      0.004184 -0.003162    0.004184\n",
              "4       graph  7  1     0.0      0.031606  0.075363    0.507242\n",
              "5       graph  9  1     0.0      0.960267  0.973422    0.960267"
            ]
          },
          "execution_count": 21,
          "metadata": {},
          "output_type": "execute_result"
        }
      ],
      "source": [
        "df"
      ]
    }
  ],
  "metadata": {
    "colab": {
      "provenance": []
    },
    "gpuClass": "standard",
    "kernelspec": {
      "display_name": "Python 3 (ipykernel)",
      "language": "python",
      "name": "python3"
    },
    "language_info": {
      "codemirror_mode": {
        "name": "ipython",
        "version": 3
      },
      "file_extension": ".py",
      "mimetype": "text/x-python",
      "name": "python",
      "nbconvert_exporter": "python",
      "pygments_lexer": "ipython3",
      "version": "3.10.9"
    }
  },
  "nbformat": 4,
  "nbformat_minor": 5
}
