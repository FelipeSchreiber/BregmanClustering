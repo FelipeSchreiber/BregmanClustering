{
  "cells": [
    {
      "cell_type": "code",
      "source": [
        "import pickle\n",
        "from google.colab import drive\n",
        "drive.mount('/content/drive')"
      ],
      "metadata": {
        "colab": {
          "base_uri": "https://localhost:8080/"
        },
        "id": "wAv4wXoSpDw2",
        "outputId": "f2bff227-a8b8-4477-ca13-12157061eb2c"
      },
      "id": "wAv4wXoSpDw2",
      "execution_count": 1,
      "outputs": [
        {
          "output_type": "stream",
          "name": "stdout",
          "text": [
            "Drive already mounted at /content/drive; to attempt to forcibly remount, call drive.mount(\"/content/drive\", force_remount=True).\n"
          ]
        }
      ]
    },
    {
      "cell_type": "code",
      "execution_count": 2,
      "id": "fb0e707d",
      "metadata": {
        "colab": {
          "base_uri": "https://localhost:8080/"
        },
        "id": "fb0e707d",
        "outputId": "c8912e19-ccc6-4a79-f2c5-fa673191c9a6"
      },
      "outputs": [
        {
          "output_type": "stream",
          "name": "stdout",
          "text": [
            "Looking in indexes: https://pypi.org/simple, https://us-python.pkg.dev/colab-wheels/public/simple/\n",
            "Collecting git+https://github.com/FelipeSchreiber/BregmanClustering.git\n",
            "  Cloning https://github.com/FelipeSchreiber/BregmanClustering.git to /tmp/pip-req-build-o9gkccj3\n",
            "  Running command git clone --filter=blob:none --quiet https://github.com/FelipeSchreiber/BregmanClustering.git /tmp/pip-req-build-o9gkccj3\n",
            "  Resolved https://github.com/FelipeSchreiber/BregmanClustering.git to commit 7c01c3fcb41b242679f6af9663f6f628e3bac53c\n",
            "  Preparing metadata (setup.py) ... \u001b[?25l\u001b[?25hdone\n",
            "Building wheels for collected packages: bregClust\n",
            "  Building wheel for bregClust (setup.py) ... \u001b[?25l\u001b[?25hdone\n",
            "  Created wheel for bregClust: filename=bregClust-1.0-py3-none-any.whl size=34708 sha256=8f8f2f960151469c1ef1dfe6ff620bcc23cd6d61d590e2cf191085fbdae408db\n",
            "  Stored in directory: /tmp/pip-ephem-wheel-cache-goisf09f/wheels/3f/90/fb/833529540c1d5f19c385fde761cc07c664c4b9a5edf7c6735b\n",
            "Successfully built bregClust\n",
            "Installing collected packages: bregClust\n",
            "  Attempting uninstall: bregClust\n",
            "    Found existing installation: bregClust 1.0\n",
            "    Uninstalling bregClust-1.0:\n",
            "      Successfully uninstalled bregClust-1.0\n",
            "Successfully installed bregClust-1.0\n",
            "Looking in indexes: https://pypi.org/simple, https://us-python.pkg.dev/colab-wheels/public/simple/\n",
            "Requirement already satisfied: torch_geometric in /usr/local/lib/python3.10/dist-packages (2.3.1)\n",
            "Requirement already satisfied: tqdm in /usr/local/lib/python3.10/dist-packages (from torch_geometric) (4.65.0)\n",
            "Requirement already satisfied: numpy in /usr/local/lib/python3.10/dist-packages (from torch_geometric) (1.22.4)\n",
            "Requirement already satisfied: scipy in /usr/local/lib/python3.10/dist-packages (from torch_geometric) (1.10.1)\n",
            "Requirement already satisfied: jinja2 in /usr/local/lib/python3.10/dist-packages (from torch_geometric) (3.1.2)\n",
            "Requirement already satisfied: requests in /usr/local/lib/python3.10/dist-packages (from torch_geometric) (2.27.1)\n",
            "Requirement already satisfied: pyparsing in /usr/local/lib/python3.10/dist-packages (from torch_geometric) (3.0.9)\n",
            "Requirement already satisfied: scikit-learn in /usr/local/lib/python3.10/dist-packages (from torch_geometric) (1.2.2)\n",
            "Requirement already satisfied: psutil>=5.8.0 in /usr/local/lib/python3.10/dist-packages (from torch_geometric) (5.9.5)\n",
            "Requirement already satisfied: MarkupSafe>=2.0 in /usr/local/lib/python3.10/dist-packages (from jinja2->torch_geometric) (2.1.2)\n",
            "Requirement already satisfied: urllib3<1.27,>=1.21.1 in /usr/local/lib/python3.10/dist-packages (from requests->torch_geometric) (1.26.15)\n",
            "Requirement already satisfied: certifi>=2017.4.17 in /usr/local/lib/python3.10/dist-packages (from requests->torch_geometric) (2022.12.7)\n",
            "Requirement already satisfied: charset-normalizer~=2.0.0 in /usr/local/lib/python3.10/dist-packages (from requests->torch_geometric) (2.0.12)\n",
            "Requirement already satisfied: idna<4,>=2.5 in /usr/local/lib/python3.10/dist-packages (from requests->torch_geometric) (3.4)\n",
            "Requirement already satisfied: joblib>=1.1.1 in /usr/local/lib/python3.10/dist-packages (from scikit-learn->torch_geometric) (1.2.0)\n",
            "Requirement already satisfied: threadpoolctl>=2.0.0 in /usr/local/lib/python3.10/dist-packages (from scikit-learn->torch_geometric) (3.1.0)\n",
            "chmod: cannot access '/usr/local/lib/python3.9/dist-packages/BregmanTests/install_algos.sh': No such file or directory\n",
            "Looking in indexes: https://pypi.org/simple, https://us-python.pkg.dev/colab-wheels/public/simple/\n",
            "Requirement already satisfied: rpy2==3.5.1 in /usr/local/lib/python3.10/dist-packages (3.5.1)\n",
            "Requirement already satisfied: cffi>=1.10.0 in /usr/local/lib/python3.10/dist-packages (from rpy2==3.5.1) (1.15.1)\n",
            "Requirement already satisfied: jinja2 in /usr/local/lib/python3.10/dist-packages (from rpy2==3.5.1) (3.1.2)\n",
            "Requirement already satisfied: pytz in /usr/local/lib/python3.10/dist-packages (from rpy2==3.5.1) (2022.7.1)\n",
            "Requirement already satisfied: tzlocal in /usr/local/lib/python3.10/dist-packages (from rpy2==3.5.1) (4.3)\n",
            "Requirement already satisfied: pycparser in /usr/local/lib/python3.10/dist-packages (from cffi>=1.10.0->rpy2==3.5.1) (2.21)\n",
            "Requirement already satisfied: MarkupSafe>=2.0 in /usr/local/lib/python3.10/dist-packages (from jinja2->rpy2==3.5.1) (2.1.2)\n",
            "Requirement already satisfied: pytz-deprecation-shim in /usr/local/lib/python3.10/dist-packages (from tzlocal->rpy2==3.5.1) (0.1.0.post0)\n",
            "Requirement already satisfied: tzdata in /usr/local/lib/python3.10/dist-packages (from pytz-deprecation-shim->tzlocal->rpy2==3.5.1) (2023.3)\n"
          ]
        }
      ],
      "source": [
        "!pip install --upgrade --force-reinstall git+https://github.com/FelipeSchreiber/BregmanClustering.git --no-deps\n",
        "!pip install torch_geometric\n",
        "### Uncomment line below if in Google Colab environment\n",
        "!chmod 777 /usr/local/lib/python3.9/dist-packages/BregmanTests/install_algos.sh\n",
        "!pip install rpy2==3.5.1"
      ]
    },
    {
      "cell_type": "code",
      "execution_count": 3,
      "id": "9ff28023",
      "metadata": {
        "id": "9ff28023"
      },
      "outputs": [],
      "source": [
        "#%matplotlib inline\n",
        "from BregmanTests.benchmark import *\n",
        "from BregmanTests.utils import *\n",
        "import BregmanTests\n",
        "from sklearn.metrics import adjusted_rand_score, normalized_mutual_info_score, accuracy_score\n",
        "#from signet.cluster import Cluster\n",
        "import scipy.sparse as ss\n",
        "import pandas as pd\n",
        "import os\n",
        "import warnings\n",
        "from BregmanClustering import models\n",
        "from BregmanClustering.models import SoftBregmanNodeAttributeGraphClustering as VEMbreg\n",
        "from BregmanClusteringTorch.torch_models import SoftBregmanClusteringTorch as torchBreg\n",
        "from BregmanClusteringTorch.torch_models import  SoftBregmanClusteringTorchSparse as sparseBreg\n",
        "from BregmanClusteringTorch.torch_models import GNNBregmanClustering as gnnBreg\n",
        "import subprocess\n",
        "warnings.filterwarnings(\"ignore\")"
      ]
    },
    {
      "cell_type": "code",
      "execution_count": 4,
      "id": "f851724c",
      "metadata": {
        "id": "f851724c"
      },
      "outputs": [],
      "source": [
        "from BregmanTests import cfg"
      ]
    },
    {
      "cell_type": "code",
      "execution_count": 5,
      "id": "0eae1d3b",
      "metadata": {
        "colab": {
          "base_uri": "https://localhost:8080/",
          "height": 35
        },
        "id": "0eae1d3b",
        "outputId": "14a1cbe5-6168-4533-94a1-df22613ae299"
      },
      "outputs": [
        {
          "output_type": "execute_result",
          "data": {
            "text/plain": [
              "'/usr/local/lib/python3.10/dist-packages/BregmanTests'"
            ],
            "application/vnd.google.colaboratory.intrinsic+json": {
              "type": "string"
            }
          },
          "metadata": {},
          "execution_count": 5
        }
      ],
      "source": [
        "cfg.base_path"
      ]
    },
    {
      "cell_type": "code",
      "execution_count": 6,
      "id": "31fa08e4",
      "metadata": {
        "id": "31fa08e4"
      },
      "outputs": [],
      "source": [
        "#!/usr/bin/env python3\n",
        "# -*- coding: utf-8 -*-\n",
        "\"\"\"\n",
        "Created on Fri Feb 17 17:08:00 2023\n",
        "\n",
        "@author: maximilien, Felipe Schreiber\n",
        "\"\"\"\n",
        "from tqdm import tqdm"
      ]
    },
    {
      "cell_type": "code",
      "execution_count": 7,
      "id": "0dbd1e34",
      "metadata": {
        "id": "0dbd1e34"
      },
      "outputs": [],
      "source": [
        "c = 3 ## number of communities\n",
        "n = 100 ##size per community (or you can pass a list with different sizes)\n",
        "r = 10 ##specify how far the attributes distributions are from the origin\n",
        "d = 2 ##number of attributes\n",
        "P = np.array([[0.8, 0.2, 0.3],[0.2, 0.7, 0.4],[0.3, 0.4, 0.6]])"
      ]
    },
    {
      "cell_type": "code",
      "execution_count": 8,
      "id": "d2ad4db3",
      "metadata": {
        "id": "d2ad4db3"
      },
      "outputs": [],
      "source": [
        "X,Y,true_labels,G = BregmanBenchmark(P,[n]*c,1,10,dims=d,weight_variance=0.01,att_variance=0.1,\\\n",
        "                       weight_distribution=\"logistic\",attributes_distribution=\"logistic\",radius=r,return_G=True).generate_benchmark_joint()\n",
        "A = (X != 0).astype(int)"
      ]
    },
    {
      "cell_type": "code",
      "execution_count": 9,
      "id": "8e505252",
      "metadata": {
        "id": "8e505252",
        "outputId": "1a351605-3534-47f9-fa16-b2cad3dcfd6d",
        "colab": {
          "base_uri": "https://localhost:8080/"
        }
      },
      "outputs": [
        {
          "output_type": "execute_result",
          "data": {
            "text/plain": [
              "array([[ 0.        ,  0.9026869 ,  1.0296422 , ...,  0.        ,\n",
              "         4.51817738,  0.        ],\n",
              "       [ 0.9026869 ,  0.        ,  0.        , ...,  0.        ,\n",
              "         0.        ,  0.        ],\n",
              "       [ 1.0296422 ,  0.        ,  0.        , ...,  4.63633143,\n",
              "         0.        ,  4.66997913],\n",
              "       ...,\n",
              "       [ 0.        ,  0.        ,  4.63633143, ...,  0.        ,\n",
              "         0.        , 10.15123454],\n",
              "       [ 4.51817738,  0.        ,  0.        , ...,  0.        ,\n",
              "         0.        ,  9.915039  ],\n",
              "       [ 0.        ,  0.        ,  4.66997913, ..., 10.15123454,\n",
              "         9.915039  ,  0.        ]])"
            ]
          },
          "metadata": {},
          "execution_count": 9
        }
      ],
      "source": [
        "X"
      ]
    },
    {
      "cell_type": "code",
      "execution_count": 10,
      "id": "360bfa70",
      "metadata": {
        "colab": {
          "base_uri": "https://localhost:8080/",
          "height": 447
        },
        "id": "360bfa70",
        "outputId": "83c5022e-75af-4624-86c1-33e4611b70c2"
      },
      "outputs": [
        {
          "output_type": "execute_result",
          "data": {
            "text/plain": [
              "<matplotlib.collections.PathCollection at 0x7f4b3e146a40>"
            ]
          },
          "metadata": {},
          "execution_count": 10
        },
        {
          "output_type": "display_data",
          "data": {
            "text/plain": [
              "<Figure size 640x480 with 1 Axes>"
            ],
            "image/png": "[encoded data removed]"
          },
          "metadata": {}
        }
      ],
      "source": [
        "plt.scatter(Y[:,0],Y[:,1],c=true_labels)"
      ]
    },
    {
      "cell_type": "code",
      "execution_count": 11,
      "id": "d13df589",
      "metadata": {
        "colab": {
          "base_uri": "https://localhost:8080/"
        },
        "id": "d13df589",
        "outputId": "716301d6-d104-4407-8070-0f2aa784b4f6"
      },
      "outputs": [
        {
          "output_type": "stream",
          "name": "stdout",
          "text": [
            "1.0 1.0\n"
          ]
        }
      ],
      "source": [
        "pred_labels = spectral(X.copy(),c)\n",
        "print(adjusted_rand_score(true_labels, pred_labels),normalized_mutual_info_score(true_labels, pred_labels))"
      ]
    },
    {
      "cell_type": "code",
      "execution_count": 12,
      "id": "189cbdb7",
      "metadata": {
        "colab": {
          "base_uri": "https://localhost:8080/"
        },
        "id": "189cbdb7",
        "outputId": "043c11ae-8e58-4cd7-e968-709acf7318fe"
      },
      "outputs": [
        {
          "output_type": "stream",
          "name": "stdout",
          "text": [
            "1.0 1.0\n"
          ]
        }
      ],
      "source": [
        "pred_labels = GaussianMixture(n_components=c).fit_predict(Y.copy())\n",
        "print(adjusted_rand_score(true_labels, pred_labels),normalized_mutual_info_score(true_labels, pred_labels))"
      ]
    },
    {
      "cell_type": "code",
      "source": [
        "from BregmanClustering.models import BregmanNodeEdgeAttributeGraphClustering as edgeBreg\n",
        "model = edgeBreg(n_clusters = c,initializer=\"chernoff\")\n",
        "model.fit(A, A.reshape(300,300,1), Y)\n",
        "z_pred_both = model.predict(A,Y)\n",
        "print(adjusted_rand_score(true_labels, z_pred_both),normalized_mutual_info_score(true_labels, z_pred_both))"
      ],
      "metadata": {
        "id": "ge1zSqzvr1rO",
        "outputId": "a4d8b6b8-8961-4fae-ab78-b6d7f15dcda1",
        "colab": {
          "base_uri": "https://localhost:8080/"
        }
      },
      "id": "ge1zSqzvr1rO",
      "execution_count": 13,
      "outputs": [
        {
          "output_type": "stream",
          "name": "stdout",
          "text": [
            "1.0 1.0\n"
          ]
        }
      ]
    },
    {
      "cell_type": "code",
      "execution_count": 14,
      "id": "yXC1vaNSwReS",
      "metadata": {
        "colab": {
          "base_uri": "https://localhost:8080/"
        },
        "id": "yXC1vaNSwReS",
        "outputId": "2f956155-1890-4ce5-8af3-8f8f4738d6fb"
      },
      "outputs": [
        {
          "output_type": "execute_result",
          "data": {
            "text/plain": [
              "array([[ 0.        ,  0.9026869 ,  1.0296422 , ...,  0.        ,\n",
              "         4.51817738,  0.        ],\n",
              "       [ 0.9026869 ,  0.        ,  0.        , ...,  0.        ,\n",
              "         0.        ,  0.        ],\n",
              "       [ 1.0296422 ,  0.        ,  0.        , ...,  4.63633143,\n",
              "         0.        ,  4.66997913],\n",
              "       ...,\n",
              "       [ 0.        ,  0.        ,  4.63633143, ...,  0.        ,\n",
              "         0.        , 10.15123454],\n",
              "       [ 4.51817738,  0.        ,  0.        , ...,  0.        ,\n",
              "         0.        ,  9.915039  ],\n",
              "       [ 0.        ,  0.        ,  4.66997913, ..., 10.15123454,\n",
              "         9.915039  ,  0.        ]])"
            ]
          },
          "metadata": {},
          "execution_count": 14
        }
      ],
      "source": [
        "import networkx as nx\n",
        "nx.adjacency_matrix(G).todense() "
      ]
    },
    {
      "cell_type": "code",
      "execution_count": 15,
      "id": "E-wm63rs1vPg",
      "metadata": {
        "id": "E-wm63rs1vPg"
      },
      "outputs": [],
      "source": [
        "from BregmanClustering.models import BregmanNodeEdgeAttributeGraphClustering as edgeBreg\n",
        "# from BregmanTests.install_algorithms import main as install_env\n",
        "# import BregmanTests\n",
        "# ## Optional: set repository for CRAN\n",
        "# BregmanTests.cfg.CRAN_repo = \"https://cran.fiocruz.br/\"\n",
        "# install_env()\n",
        "from CSBM.Python.functions import *"
      ]
    },
    {
      "cell_type": "code",
      "source": [
        "from copy import deepcopy"
      ],
      "metadata": {
        "id": "O09XXZcYJcCA"
      },
      "id": "O09XXZcYJcCA",
      "execution_count": 16,
      "outputs": []
    },
    {
      "cell_type": "code",
      "execution_count": null,
      "id": "9e151220",
      "metadata": {
        "id": "9e151220",
        "scrolled": true,
        "outputId": "c8b7148f-847b-4aaf-b378-0b1de635f184",
        "colab": {
          "base_uri": "https://localhost:8080/"
        }
      },
      "outputs": [
        {
          "output_type": "stream",
          "name": "stderr",
          "text": [
            " 33%|███▎      | 2/6 [39:55<1:19:42, 1195.72s/it]"
          ]
        }
      ],
      "source": [
        "n_average = 40\n",
        "n = 600\n",
        "n_clusters = 2\n",
        "d = 1\n",
        "binary=True\n",
        "sizes = [ n // n_clusters ]*np.ones( n_clusters, dtype = int )\n",
        "attributes_distribution = \"gaussian\"\n",
        "edge_distribution = \"bernoulli\"\n",
        "weight_distribution = \"exponential\"\n",
        "\n",
        "b = 5\n",
        "pout = b * np.log( n ) / n\n",
        "\n",
        "a_range = [ 5,7,9,11,13,15 ]\n",
        "r_range = [ 0,1,2,3,4,5 ]\n",
        "# a_range = [ 5,7]\n",
        "# r_range = [ 0,1]\n",
        "\n",
        "stats = {\"varying\":[],\"a\":[],\"r\":[],\"ARI\":[],\"ARI_std\":[],\"algorithm\":[]}\n",
        "\n",
        "for varying in [\"attributes\",\"graph\"]:\n",
        "# varying = 'attributes'\n",
        "# #varying = 'graph'\n",
        "\n",
        "    aris_attributes_mean = [ ]\n",
        "    aris_graph_mean = [ ]\n",
        "    aris_both_mean = [ ]\n",
        "    aris_attSBM_mean = [ ]\n",
        "    aris_IR_sLS_mean = [ ]\n",
        "    # aris_IR_LS_mean = [ ]\n",
        "\n",
        "\n",
        "    aris_attributes_std = [ ]\n",
        "    aris_graph_std = [ ]\n",
        "    aris_both_std = [ ]\n",
        "    aris_attSBM_std = [ ]\n",
        "    aris_IR_sLS_std = [ ]\n",
        "    aris_IR_LS_std = [ ]\n",
        "    # aris_both2_std = [ ]\n",
        "    # aris_oracle_std = [ ]\n",
        "\n",
        "    if varying == 'graph':\n",
        "        loop = tqdm( range( len( a_range ) ) )\n",
        "    else:\n",
        "        loop = tqdm( range( len( r_range ) ) )\n",
        "\n",
        "    for dummy in loop:\n",
        "        if varying == 'graph':\n",
        "            a = a_range[ dummy ]\n",
        "            r = 1\n",
        "        elif varying == 'attributes':\n",
        "            a = 8\n",
        "            r = r_range[ dummy ]\n",
        "\n",
        "        pin = a * np.log( n ) / n\n",
        "        p = (pin- pout) * np.eye( n_clusters ) + pout * np.ones( (n_clusters, n_clusters) )\n",
        "\n",
        "        aris_attributes = [ ]\n",
        "        aris_graph = [ ]\n",
        "        aris_both = [ ]\n",
        "        aris_attSBM = [ ]\n",
        "        aris_IR_sLS  = [ ]\n",
        "        # aris_IR_LS = [ ]\n",
        "        # aris_oracle = [ ]\n",
        "        \n",
        "        path_ = BregmanTests.cfg.path_to_data+f\"a/{a}/r/{r}/\"\n",
        "        if not os.path.exists(path_):\n",
        "            os.makedirs(path_)\n",
        "\n",
        "        total = 0\n",
        "        for trial in range( n_average ):\n",
        "            ( X, Y, z_true, G) = BregmanBenchmark(p,sizes,att_variance=1,\\\n",
        "                    attributes_distribution=attributes_distribution,\\\n",
        "                    weight_variance=1,\\\n",
        "                    weight_distribution=weight_distribution,\\\n",
        "                    radius=r,return_G=False).generate_benchmark_joint()\n",
        "            \n",
        "            A = (X != 0).astype(int)\n",
        "            model = edgeBreg(n_clusters=n_clusters,\\\n",
        "                              attributeDistribution=attributes_distribution,\\\n",
        "                              edgeDistribution=edge_distribution,\\\n",
        "                              weightDistribution=weight_distribution,\n",
        "                              initializer=\"chernoff\"\n",
        "                              )\n",
        "            if binary:\n",
        "              X = A\n",
        "            ## For comparison purposes, the initialization is the same for IR-sLS, IR-LS and ours    \n",
        "            model.initialize(A,X.reshape(n,n,-1),Y)\n",
        "            model.assignInitialLabels(A, Y)\n",
        "            z_init = deepcopy(model.predicted_memberships)\n",
        "            chernoff_init_graph = model.graph_init\n",
        "            chernoff_graph_labels = model.memberships_from_graph\n",
        "            chernoff_att_labels = model.memberships_from_attributes\n",
        "\n",
        "            with open(f'{path_}att_{trial}.npy', 'wb') as g:\n",
        "                np.save(g, Y)\n",
        "            with open(f'{path_}net_{trial}.npy', 'wb') as g:\n",
        "                np.save(g, A)\n",
        "            with open(f'{path_}z_init_{trial}.npy', 'wb') as g:\n",
        "                np.save(g, convertZ(z_init)+1)\n",
        "\n",
        "            z_pred_both = model.fit(A,X.reshape(n,n,-1),Y).predict( X, Y )\n",
        "            z_pred_graph = models.frommembershipMatriceToVector( chernoff_graph_labels )\n",
        "            z_pred_attributes = models.frommembershipMatriceToVector( chernoff_att_labels )\n",
        "            \n",
        "            # this code is for initialization comparison\n",
        "            ### > Start\n",
        "            # if chernoff_init_graph == model.AIC_initializer(X,Y).graph_init:\n",
        "            #     total += 1\n",
        "            \n",
        "            # ## Warm start\n",
        "            # if model.graph_init:\n",
        "            #     model.fit( X, Y, chernoff_graph_labels)\n",
        "            # else:\n",
        "            #     model.fit(X, Y, chernoff_att_labels)\n",
        "            ### > end\n",
        "            \n",
        "            IR_sLS_pred = iter_csbm(X,Y,z_init,n_clusters)\n",
        "            # IR_LS_pred = iter_csbm2(X,Y,z_init,n_clusters)\n",
        "                \n",
        "            subprocess.call([\"/usr/bin/Rscript\",\"--vanilla\",f\"{BregmanTests.cfg.base_path}/run_AttSBM.r\",\\\n",
        "                            f'{path_}att_{trial}.npy',\\\n",
        "                            f'{path_}net_{trial}.npy',\\\n",
        "                            f'{path_}z_init_{trial}.npy'])\n",
        "            attSBMPred = np.load(\"predict.npy\")\n",
        "\n",
        "            aris_attributes.append( adjusted_rand_score( z_true, z_pred_attributes ) )\n",
        "            aris_graph.append( adjusted_rand_score( z_true, z_pred_graph ) )\n",
        "            aris_both.append( adjusted_rand_score( z_true, z_pred_both ) )\n",
        "            aris_attSBM.append( adjusted_rand_score( z_true, attSBMPred ) )\n",
        "            aris_IR_sLS.append( adjusted_rand_score( z_true, IR_sLS_pred ) )\n",
        "            #aris_IR_LS.append( adjusted_rand_score( z_true, IR_LS_pred ) )\n",
        "            \n",
        "            # if chernoff_init_graph:\n",
        "            #   z_pred_att_init = model.fit(A,A.reshape(n,n,1),Y,chernoff_att_labels).predict( X, Y )\n",
        "            #   ari_att_init = adjusted_rand_score( z_true, z_pred_att_init)\n",
        "            #   aris_oracle.append( max(aris_both[-1], ari_att_init))\n",
        "            # elif not chernoff_init_graph:\n",
        "            #   z_pred_graph_init = model.fit(A,A.reshape(n,n,1),Y,chernoff_graph_labels).predict( X, Y )\n",
        "            #   ari_graph_init = adjusted_rand_score( z_true, z_pred_graph_init)\n",
        "            #   aris_oracle.append( max(aris_both[-1], ari_graph_init))\n",
        "                \n",
        "        aris_attributes_mean.append( np.mean( aris_attributes ) )\n",
        "        aris_graph_mean.append( np.mean( aris_graph ) )\n",
        "        aris_both_mean.append( np.mean( aris_both ) )\n",
        "        aris_attSBM_mean.append( np.mean( aris_attSBM ) )\n",
        "        aris_IR_sLS_mean.append( np.mean( aris_IR_sLS ) )\n",
        "        #aris_IR_LS_mean.append( np.mean( aris_IR_LS ) )\n",
        "        #aris_oracle_mean.append( np.mean( aris_oracle) )\n",
        "        \n",
        "        aris_attributes_std.append( np.std( aris_attributes ) )\n",
        "        aris_graph_std.append( np.std( aris_graph ) )\n",
        "        aris_both_std.append( np.std( aris_both ) )\n",
        "        aris_attSBM_std.append( np.std( aris_attSBM ) )\n",
        "        aris_IR_sLS_std.append( np.std( aris_IR_sLS ) )\n",
        "        # aris_IR_LS_std.append( np.std( aris_IR_LS ) )\n",
        "        # aris_oracle_std.append( np.std( aris_oracle) )\n",
        "        \n",
        "        stats[\"varying\"].append(varying)\n",
        "        stats[\"a\"].append(a)\n",
        "        stats[\"r\"].append(r)\n",
        "        stats[\"ARI\"].append(aris_both_mean[-1])\n",
        "        stats[\"ARI_std\"].append(aris_both_mean[-1])\n",
        "        stats[\"algorithm\"].append(\"ours\")\n",
        "\n",
        "        stats[\"varying\"].append(varying)\n",
        "        stats[\"a\"].append(a)\n",
        "        stats[\"r\"].append(r)\n",
        "        stats[\"ARI\"].append(aris_IR_sLS_mean[-1])\n",
        "        stats[\"ARI_std\"].append(aris_IR_sLS_std[-1])\n",
        "        stats[\"algorithm\"].append(\"IR_sLS\")\n",
        "\n",
        "        stats[\"varying\"].append(varying)\n",
        "        stats[\"a\"].append(a)\n",
        "        stats[\"r\"].append(r)\n",
        "        stats[\"ARI\"].append(aris_attSBM_mean[-1])\n",
        "        stats[\"ARI_std\"].append(aris_attSBM_std[-1])\n",
        "        stats[\"algorithm\"].append(\"attSBM\")\n",
        "\n",
        "        stats[\"varying\"].append(varying)\n",
        "        stats[\"a\"].append(a)\n",
        "        stats[\"r\"].append(r)\n",
        "        stats[\"ARI\"].append(aris_graph_mean[-1])\n",
        "        stats[\"ARI_std\"].append(aris_graph_std[-1])\n",
        "        stats[\"algorithm\"].append(\"graph\")\n",
        "\n",
        "        stats[\"varying\"].append(varying)\n",
        "        stats[\"a\"].append(a)\n",
        "        stats[\"r\"].append(r)\n",
        "        stats[\"ARI\"].append(aris_attributes_mean[-1])\n",
        "        stats[\"ARI_std\"].append(aris_attributes_std[-1])\n",
        "        stats[\"algorithm\"].append(\"attributes\")\n",
        "        \n",
        "    curves = [ aris_attributes_mean, aris_graph_mean,\\\n",
        "              aris_both_mean , aris_attSBM_mean, aris_IR_sLS_mean]\n",
        "\n",
        "    curves_std = [ aris_attributes_std, aris_graph_std,\\\n",
        "                  aris_both_std , aris_attSBM_std, aris_IR_sLS_std]\n",
        "\n",
        "    labels = [ 'attributes', 'graph', 'ours' , 'attSBM', 'IR_sLS']\n",
        "    saveFig = True\n",
        "    if varying == 'graph':    \n",
        "        fileName = 'N_' + str(n) + '_K_' + str(n_clusters) + '_b_' + str(b) + '_r_' + str(r) +  '_nAverage' + str(n_average) + '.jpeg'\n",
        "        plotting( a_range, curves, labels, curves_std = curves_std, xticks = a_range, xlabel = 'a', saveFig = saveFig, fileName = fileName )\n",
        "        plt.close()\n",
        "    elif varying == 'attributes':\n",
        "        fileName = 'N_' + str(n) + '_K_' + str(n_clusters) + '_a_' + str(a) + '_b_' + str(b) +  '_nAverage_' + str(n_average) + '.jpeg'\n",
        "        plotting( r_range, curves, labels, curves_std = curves_std, xticks = r_range, xlabel = 'r', saveFig = saveFig, fileName = fileName )\n",
        "        plt.close()"
      ]
    },
    {
      "cell_type": "code",
      "execution_count": null,
      "id": "0ef9402f",
      "metadata": {
        "id": "0ef9402f"
      },
      "outputs": [],
      "source": [
        "import pandas as pd\n",
        "df = pd.DataFrame.from_dict(stats)"
      ]
    },
    {
      "cell_type": "code",
      "execution_count": null,
      "id": "2ba58beb",
      "metadata": {
        "id": "2ba58beb"
      },
      "outputs": [],
      "source": [
        "df"
      ]
    },
    {
      "cell_type": "code",
      "source": [
        "with open('test_0.pickle', 'wb') as handle:\n",
        "    pickle.dump(stats, handle, protocol=pickle.HIGHEST_PROTOCOL)\n",
        "!cp \"/content/test_0.pickle\" \"/content/drive/MyDrive\""
      ],
      "metadata": {
        "id": "wNlbVCAfor8k"
      },
      "id": "wNlbVCAfor8k",
      "execution_count": null,
      "outputs": []
    },
    {
      "cell_type": "code",
      "source": [],
      "metadata": {
        "id": "6AfZ5B6xuUQH"
      },
      "id": "6AfZ5B6xuUQH",
      "execution_count": null,
      "outputs": []
    },
    {
      "cell_type": "code",
      "source": [
        "test_0=None\n",
        "with open(\"/content/drive/MyDrive/test_0.pickle\", 'rb') as handle:\n",
        "    test_0 = pickle.load(handle)\n",
        "test_0.keys()"
      ],
      "metadata": {
        "id": "9gzvliv9q9Yy"
      },
      "id": "9gzvliv9q9Yy",
      "execution_count": null,
      "outputs": []
    },
    {
      "cell_type": "code",
      "source": [
        "pd.DataFrame.from_dict(test_0)"
      ],
      "metadata": {
        "id": "xamCOvWNrDhi"
      },
      "id": "xamCOvWNrDhi",
      "execution_count": null,
      "outputs": []
    }
  ],
  "metadata": {
    "colab": {
      "provenance": []
    },
    "gpuClass": "standard",
    "kernelspec": {
      "display_name": "Python 3 (ipykernel)",
      "language": "python",
      "name": "python3"
    },
    "language_info": {
      "codemirror_mode": {
        "name": "ipython",
        "version": 3
      },
      "file_extension": ".py",
      "mimetype": "text/x-python",
      "name": "python",
      "nbconvert_exporter": "python",
      "pygments_lexer": "ipython3",
      "version": "3.10.9"
    }
  },
  "nbformat": 4,
  "nbformat_minor": 5
}