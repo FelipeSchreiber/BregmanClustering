{
  "cells": [
    {
      "cell_type": "code",
      "execution_count": 1,
      "id": "fb0e707d",
      "metadata": {
        "colab": {
          "base_uri": "https://localhost:8080/"
        },
        "id": "fb0e707d",
        "outputId": "6f67bf3f-7be2-4b92-c215-56736041681d"
      },
      "outputs": [
        {
          "name": "stdout",
          "output_type": "stream",
          "text": [
            "Looking in indexes: https://pypi.org/simple, https://us-python.pkg.dev/colab-wheels/public/simple/\n",
            "Collecting git+https://github.com/FelipeSchreiber/BregmanClustering.git\n",
            "  Cloning https://github.com/FelipeSchreiber/BregmanClustering.git to /tmp/pip-req-build-1uxp9w9l\n",
            "  Running command git clone --filter=blob:none --quiet https://github.com/FelipeSchreiber/BregmanClustering.git /tmp/pip-req-build-1uxp9w9l\n",
            "  Resolved https://github.com/FelipeSchreiber/BregmanClustering.git to commit de7462cbf371b49203371bf0d4cbfde51acfc27a\n",
            "  Preparing metadata (setup.py) ... \u001b[?25l\u001b[?25hdone\n",
            "Collecting torch_geometric\n",
            "  Using cached torch_geometric-2.3.0-py3-none-any.whl\n",
            "Collecting rpy2==3.5.1\n",
            "  Using cached rpy2-3.5.1-cp39-cp39-linux_x86_64.whl\n",
            "Collecting tzlocal\n",
            "  Using cached tzlocal-4.3-py3-none-any.whl (20 kB)\n",
            "Collecting pytz\n",
            "  Using cached pytz-2023.3-py2.py3-none-any.whl (502 kB)\n",
            "Collecting jinja2\n",
            "  Using cached Jinja2-3.1.2-py3-none-any.whl (133 kB)\n",
            "Collecting cffi>=1.10.0\n",
            "  Using cached cffi-1.15.1-cp39-cp39-manylinux_2_17_x86_64.manylinux2014_x86_64.whl (441 kB)\n",
            "Collecting requests\n",
            "  Using cached requests-2.28.2-py3-none-any.whl (62 kB)\n",
            "Collecting pyparsing\n",
            "  Using cached pyparsing-3.0.9-py3-none-any.whl (98 kB)\n",
            "Collecting scipy\n",
            "  Using cached scipy-1.10.1-cp39-cp39-manylinux_2_17_x86_64.manylinux2014_x86_64.whl (34.5 MB)\n",
            "Collecting scikit-learn\n",
            "  Using cached scikit_learn-1.2.2-cp39-cp39-manylinux_2_17_x86_64.manylinux2014_x86_64.whl (9.6 MB)\n",
            "Collecting psutil>=5.8.0\n",
            "  Using cached psutil-5.9.4-cp36-abi3-manylinux_2_12_x86_64.manylinux2010_x86_64.manylinux_2_17_x86_64.manylinux2014_x86_64.whl (280 kB)\n",
            "Collecting numpy\n",
            "  Using cached numpy-1.24.2-cp39-cp39-manylinux_2_17_x86_64.manylinux2014_x86_64.whl (17.3 MB)\n",
            "Collecting tqdm\n",
            "  Using cached tqdm-4.65.0-py3-none-any.whl (77 kB)\n",
            "Collecting pycparser\n",
            "  Using cached pycparser-2.21-py2.py3-none-any.whl (118 kB)\n",
            "Collecting MarkupSafe>=2.0\n",
            "  Using cached MarkupSafe-2.1.2-cp39-cp39-manylinux_2_17_x86_64.manylinux2014_x86_64.whl (25 kB)\n",
            "Collecting idna<4,>=2.5\n",
            "  Using cached idna-3.4-py3-none-any.whl (61 kB)\n",
            "Collecting charset-normalizer<4,>=2\n",
            "  Using cached charset_normalizer-3.1.0-cp39-cp39-manylinux_2_17_x86_64.manylinux2014_x86_64.whl (199 kB)\n",
            "Collecting urllib3<1.27,>=1.21.1\n",
            "  Using cached urllib3-1.26.15-py2.py3-none-any.whl (140 kB)\n",
            "Collecting certifi>=2017.4.17\n",
            "  Using cached certifi-2022.12.7-py3-none-any.whl (155 kB)\n",
            "Collecting threadpoolctl>=2.0.0\n",
            "  Using cached threadpoolctl-3.1.0-py3-none-any.whl (14 kB)\n",
            "Collecting joblib>=1.1.1\n",
            "  Using cached joblib-1.2.0-py3-none-any.whl (297 kB)\n",
            "Collecting pytz-deprecation-shim\n",
            "  Using cached pytz_deprecation_shim-0.1.0.post0-py2.py3-none-any.whl (15 kB)\n",
            "Collecting tzdata\n",
            "  Using cached tzdata-2023.3-py2.py3-none-any.whl (341 kB)\n",
            "Building wheels for collected packages: bregClust\n",
            "  Building wheel for bregClust (setup.py) ... \u001b[?25l\u001b[?25hdone\n",
            "  Created wheel for bregClust: filename=bregClust-1.0-py3-none-any.whl size=17907 sha256=bc45c9ef07ed7a0063ee84e6169bd4a49d1d0dd72a8155f59717b645bf9eb115\n",
            "  Stored in directory: /tmp/pip-ephem-wheel-cache-9noqqvho/wheels/6f/8f/ab/2faa84d8b9fad58989d72cda12225f6191888313b2d42f6ad5\n",
            "Successfully built bregClust\n",
            "Installing collected packages: pytz, urllib3, tzdata, tqdm, threadpoolctl, pyparsing, pycparser, psutil, numpy, MarkupSafe, joblib, idna, charset-normalizer, certifi, scipy, requests, pytz-deprecation-shim, jinja2, cffi, tzlocal, scikit-learn, torch_geometric, rpy2, bregClust\n",
            "  Attempting uninstall: pytz\n",
            "    Found existing installation: pytz 2023.3\n",
            "    Uninstalling pytz-2023.3:\n",
            "      Successfully uninstalled pytz-2023.3\n",
            "  Attempting uninstall: urllib3\n",
            "    Found existing installation: urllib3 1.26.15\n",
            "    Uninstalling urllib3-1.26.15:\n",
            "      Successfully uninstalled urllib3-1.26.15\n",
            "  Attempting uninstall: tzdata\n",
            "    Found existing installation: tzdata 2023.3\n",
            "    Uninstalling tzdata-2023.3:\n",
            "      Successfully uninstalled tzdata-2023.3\n",
            "  Attempting uninstall: tqdm\n",
            "    Found existing installation: tqdm 4.65.0\n",
            "    Uninstalling tqdm-4.65.0:\n",
            "      Successfully uninstalled tqdm-4.65.0\n",
            "  Attempting uninstall: threadpoolctl\n",
            "    Found existing installation: threadpoolctl 3.1.0\n",
            "    Uninstalling threadpoolctl-3.1.0:\n",
            "      Successfully uninstalled threadpoolctl-3.1.0\n",
            "  Attempting uninstall: pyparsing\n",
            "    Found existing installation: pyparsing 3.0.9\n",
            "    Uninstalling pyparsing-3.0.9:\n",
            "      Successfully uninstalled pyparsing-3.0.9\n",
            "  Attempting uninstall: pycparser\n",
            "    Found existing installation: pycparser 2.21\n",
            "    Uninstalling pycparser-2.21:\n",
            "      Successfully uninstalled pycparser-2.21\n",
            "  Attempting uninstall: psutil\n",
            "    Found existing installation: psutil 5.9.4\n",
            "    Uninstalling psutil-5.9.4:\n",
            "      Successfully uninstalled psutil-5.9.4\n",
            "  Attempting uninstall: numpy\n",
            "    Found existing installation: numpy 1.24.2\n",
            "    Uninstalling numpy-1.24.2:\n",
            "      Successfully uninstalled numpy-1.24.2\n",
            "  Attempting uninstall: MarkupSafe\n",
            "    Found existing installation: MarkupSafe 2.1.2\n",
            "    Uninstalling MarkupSafe-2.1.2:\n",
            "      Successfully uninstalled MarkupSafe-2.1.2\n",
            "  Attempting uninstall: joblib\n",
            "    Found existing installation: joblib 1.2.0\n",
            "    Uninstalling joblib-1.2.0:\n",
            "      Successfully uninstalled joblib-1.2.0\n",
            "  Attempting uninstall: idna\n",
            "    Found existing installation: idna 3.4\n",
            "    Uninstalling idna-3.4:\n",
            "      Successfully uninstalled idna-3.4\n",
            "  Attempting uninstall: charset-normalizer\n",
            "    Found existing installation: charset-normalizer 3.1.0\n",
            "    Uninstalling charset-normalizer-3.1.0:\n",
            "      Successfully uninstalled charset-normalizer-3.1.0\n",
            "  Attempting uninstall: certifi\n",
            "    Found existing installation: certifi 2022.12.7\n",
            "    Uninstalling certifi-2022.12.7:\n",
            "      Successfully uninstalled certifi-2022.12.7\n",
            "  Attempting uninstall: scipy\n",
            "    Found existing installation: scipy 1.10.1\n",
            "    Uninstalling scipy-1.10.1:\n",
            "      Successfully uninstalled scipy-1.10.1\n",
            "  Attempting uninstall: requests\n",
            "    Found existing installation: requests 2.28.2\n",
            "    Uninstalling requests-2.28.2:\n",
            "      Successfully uninstalled requests-2.28.2\n",
            "  Attempting uninstall: pytz-deprecation-shim\n",
            "    Found existing installation: pytz-deprecation-shim 0.1.0.post0\n",
            "    Uninstalling pytz-deprecation-shim-0.1.0.post0:\n",
            "      Successfully uninstalled pytz-deprecation-shim-0.1.0.post0\n",
            "  Attempting uninstall: jinja2\n",
            "    Found existing installation: Jinja2 3.1.2\n",
            "    Uninstalling Jinja2-3.1.2:\n",
            "      Successfully uninstalled Jinja2-3.1.2\n",
            "  Attempting uninstall: cffi\n",
            "    Found existing installation: cffi 1.15.1\n",
            "    Uninstalling cffi-1.15.1:\n",
            "      Successfully uninstalled cffi-1.15.1\n",
            "  Attempting uninstall: tzlocal\n",
            "    Found existing installation: tzlocal 4.3\n",
            "    Uninstalling tzlocal-4.3:\n",
            "      Successfully uninstalled tzlocal-4.3\n",
            "  Attempting uninstall: scikit-learn\n",
            "    Found existing installation: scikit-learn 1.2.2\n",
            "    Uninstalling scikit-learn-1.2.2:\n",
            "      Successfully uninstalled scikit-learn-1.2.2\n",
            "  Attempting uninstall: torch_geometric\n",
            "    Found existing installation: torch-geometric 2.3.0\n",
            "    Uninstalling torch-geometric-2.3.0:\n",
            "      Successfully uninstalled torch-geometric-2.3.0\n",
            "  Attempting uninstall: rpy2\n",
            "    Found existing installation: rpy2 3.5.1\n",
            "    Uninstalling rpy2-3.5.1:\n",
            "      Successfully uninstalled rpy2-3.5.1\n",
            "  Attempting uninstall: bregClust\n",
            "    Found existing installation: bregClust 1.0\n",
            "    Uninstalling bregClust-1.0:\n",
            "      Successfully uninstalled bregClust-1.0\n",
            "\u001b[31mERROR: pip's dependency resolver does not currently take into account all the packages that are installed. This behaviour is the source of the following dependency conflicts.\n",
            "tensorflow 2.12.0 requires numpy<1.24,>=1.22, but you have numpy 1.24.2 which is incompatible.\n",
            "pandas-profiling 3.2.0 requires joblib~=1.1.0, but you have joblib 1.2.0 which is incompatible.\n",
            "numba 0.56.4 requires numpy<1.24,>=1.18, but you have numpy 1.24.2 which is incompatible.\u001b[0m\u001b[31m\n",
            "\u001b[0mSuccessfully installed MarkupSafe-2.1.2 bregClust-1.0 certifi-2022.12.7 cffi-1.15.1 charset-normalizer-3.1.0 idna-3.4 jinja2-3.1.2 joblib-1.2.0 numpy-1.24.2 psutil-5.9.4 pycparser-2.21 pyparsing-3.0.9 pytz-2023.3 pytz-deprecation-shim-0.1.0.post0 requests-2.28.2 rpy2-3.5.1 scikit-learn-1.2.2 scipy-1.10.1 threadpoolctl-3.1.0 torch_geometric-2.3.0 tqdm-4.65.0 tzdata-2023.3 tzlocal-4.3 urllib3-1.26.15\n"
          ]
        }
      ],
      "source": [
        "!pip install --upgrade --force-reinstall git+https://github.com/FelipeSchreiber/BregmanClustering.git\n",
        "!chmod 777 /usr/local/lib/python3.9/dist-packages/BregmanTests/install_algos.sh"
      ]
    },
    {
      "cell_type": "code",
      "execution_count": 2,
      "id": "E-wm63rs1vPg",
      "metadata": {
        "colab": {
          "base_uri": "https://localhost:8080/"
        },
        "id": "E-wm63rs1vPg",
        "outputId": "54b89de1-b514-4260-dcb7-59f0c047c9d6"
      },
      "outputs": [
        {
          "name": "stdout",
          "output_type": "stream",
          "text": [
            "Downloading packages from github...\n",
            "\n",
            "Installing R packages...\n",
            "\n"
          ]
        },
        {
          "name": "stderr",
          "output_type": "stream",
          "text": [
            "WARNING:rpy2.rinterface_lib.callbacks:R[write to console]: Installing packages into ‘/usr/local/lib/R/site-library’\n",
            "(as ‘lib’ is unspecified)\n",
            "\n",
            "WARNING:rpy2.rinterface_lib.callbacks:R[write to console]: trying URL 'https://cran.fiocruz.br/src/contrib/igraph_1.4.1.tar.gz'\n",
            "\n",
            "WARNING:rpy2.rinterface_lib.callbacks:R[write to console]: Content type 'application/x-gzip'\n",
            "WARNING:rpy2.rinterface_lib.callbacks:R[write to console]:  length 2910158 bytes (2.8 MB)\n",
            "\n",
            "WARNING:rpy2.rinterface_lib.callbacks:R[write to console]: =\n",
            "WARNING:rpy2.rinterface_lib.callbacks:R[write to console]: =\n",
            "WARNING:rpy2.rinterface_lib.callbacks:R[write to console]: =\n",
            "WARNING:rpy2.rinterface_lib.callbacks:R[write to console]: =\n",
            "WARNING:rpy2.rinterface_lib.callbacks:R[write to console]: =\n",
            "WARNING:rpy2.rinterface_lib.callbacks:R[write to console]: =\n",
            "WARNING:rpy2.rinterface_lib.callbacks:R[write to console]: =\n",
            "WARNING:rpy2.rinterface_lib.callbacks:R[write to console]: =\n",
            "WARNING:rpy2.rinterface_lib.callbacks:R[write to console]: =\n",
            "WARNING:rpy2.rinterface_lib.callbacks:R[write to console]: =\n",
            "WARNING:rpy2.rinterface_lib.callbacks:R[write to console]: =\n",
            "WARNING:rpy2.rinterface_lib.callbacks:R[write to console]: =\n",
            "WARNING:rpy2.rinterface_lib.callbacks:R[write to console]: =\n",
            "WARNING:rpy2.rinterface_lib.callbacks:R[write to console]: =\n",
            "WARNING:rpy2.rinterface_lib.callbacks:R[write to console]: =\n",
            "WARNING:rpy2.rinterface_lib.callbacks:R[write to console]: =\n",
            "WARNING:rpy2.rinterface_lib.callbacks:R[write to console]: =\n",
            "WARNING:rpy2.rinterface_lib.callbacks:R[write to console]: =\n",
            "WARNING:rpy2.rinterface_lib.callbacks:R[write to console]: =\n",
            "WARNING:rpy2.rinterface_lib.callbacks:R[write to console]: =\n",
            "WARNING:rpy2.rinterface_lib.callbacks:R[write to console]: =\n",
            "WARNING:rpy2.rinterface_lib.callbacks:R[write to console]: =\n",
            "WARNING:rpy2.rinterface_lib.callbacks:R[write to console]: =\n",
            "WARNING:rpy2.rinterface_lib.callbacks:R[write to console]: =\n",
            "WARNING:rpy2.rinterface_lib.callbacks:R[write to console]: =\n",
            "WARNING:rpy2.rinterface_lib.callbacks:R[write to console]: =\n",
            "WARNING:rpy2.rinterface_lib.callbacks:R[write to console]: =\n",
            "WARNING:rpy2.rinterface_lib.callbacks:R[write to console]: =\n",
            "WARNING:rpy2.rinterface_lib.callbacks:R[write to console]: =\n",
            "WARNING:rpy2.rinterface_lib.callbacks:R[write to console]: =\n",
            "WARNING:rpy2.rinterface_lib.callbacks:R[write to console]: =\n",
            "WARNING:rpy2.rinterface_lib.callbacks:R[write to console]: =\n",
            "WARNING:rpy2.rinterface_lib.callbacks:R[write to console]: =\n",
            "WARNING:rpy2.rinterface_lib.callbacks:R[write to console]: =\n",
            "WARNING:rpy2.rinterface_lib.callbacks:R[write to console]: =\n",
            "WARNING:rpy2.rinterface_lib.callbacks:R[write to console]: =\n",
            "WARNING:rpy2.rinterface_lib.callbacks:R[write to console]: =\n",
            "WARNING:rpy2.rinterface_lib.callbacks:R[write to console]: =\n",
            "WARNING:rpy2.rinterface_lib.callbacks:R[write to console]: =\n",
            "WARNING:rpy2.rinterface_lib.callbacks:R[write to console]: =\n",
            "WARNING:rpy2.rinterface_lib.callbacks:R[write to console]: =\n",
            "WARNING:rpy2.rinterface_lib.callbacks:R[write to console]: =\n",
            "WARNING:rpy2.rinterface_lib.callbacks:R[write to console]: =\n",
            "WARNING:rpy2.rinterface_lib.callbacks:R[write to console]: =\n",
            "WARNING:rpy2.rinterface_lib.callbacks:R[write to console]: =\n",
            "WARNING:rpy2.rinterface_lib.callbacks:R[write to console]: =\n",
            "WARNING:rpy2.rinterface_lib.callbacks:R[write to console]: =\n",
            "WARNING:rpy2.rinterface_lib.callbacks:R[write to console]: =\n",
            "WARNING:rpy2.rinterface_lib.callbacks:R[write to console]: =\n",
            "WARNING:rpy2.rinterface_lib.callbacks:R[write to console]: =\n",
            "WARNING:rpy2.rinterface_lib.callbacks:R[write to console]: \n",
            "\n",
            "WARNING:rpy2.rinterface_lib.callbacks:R[write to console]: downloaded 2.8 MB\n",
            "\n",
            "\n",
            "WARNING:rpy2.rinterface_lib.callbacks:R[write to console]: trying URL 'https://cran.fiocruz.br/src/contrib/reticulate_1.28.tar.gz'\n",
            "\n",
            "WARNING:rpy2.rinterface_lib.callbacks:R[write to console]: Content type 'application/x-gzip'\n",
            "WARNING:rpy2.rinterface_lib.callbacks:R[write to console]:  length 1551312 bytes (1.5 MB)\n",
            "\n",
            "WARNING:rpy2.rinterface_lib.callbacks:R[write to console]: =\n",
            "WARNING:rpy2.rinterface_lib.callbacks:R[write to console]: =\n",
            "WARNING:rpy2.rinterface_lib.callbacks:R[write to console]: =\n",
            "WARNING:rpy2.rinterface_lib.callbacks:R[write to console]: =\n",
            "WARNING:rpy2.rinterface_lib.callbacks:R[write to console]: =\n",
            "WARNING:rpy2.rinterface_lib.callbacks:R[write to console]: =\n",
            "WARNING:rpy2.rinterface_lib.callbacks:R[write to console]: =\n",
            "WARNING:rpy2.rinterface_lib.callbacks:R[write to console]: =\n",
            "WARNING:rpy2.rinterface_lib.callbacks:R[write to console]: =\n",
            "WARNING:rpy2.rinterface_lib.callbacks:R[write to console]: =\n",
            "WARNING:rpy2.rinterface_lib.callbacks:R[write to console]: =\n",
            "WARNING:rpy2.rinterface_lib.callbacks:R[write to console]: =\n",
            "WARNING:rpy2.rinterface_lib.callbacks:R[write to console]: =\n",
            "WARNING:rpy2.rinterface_lib.callbacks:R[write to console]: =\n",
            "WARNING:rpy2.rinterface_lib.callbacks:R[write to console]: =\n",
            "WARNING:rpy2.rinterface_lib.callbacks:R[write to console]: =\n",
            "WARNING:rpy2.rinterface_lib.callbacks:R[write to console]: =\n",
            "WARNING:rpy2.rinterface_lib.callbacks:R[write to console]: =\n",
            "WARNING:rpy2.rinterface_lib.callbacks:R[write to console]: =\n",
            "WARNING:rpy2.rinterface_lib.callbacks:R[write to console]: =\n",
            "WARNING:rpy2.rinterface_lib.callbacks:R[write to console]: =\n",
            "WARNING:rpy2.rinterface_lib.callbacks:R[write to console]: =\n",
            "WARNING:rpy2.rinterface_lib.callbacks:R[write to console]: =\n",
            "WARNING:rpy2.rinterface_lib.callbacks:R[write to console]: =\n",
            "WARNING:rpy2.rinterface_lib.callbacks:R[write to console]: =\n",
            "WARNING:rpy2.rinterface_lib.callbacks:R[write to console]: =\n",
            "WARNING:rpy2.rinterface_lib.callbacks:R[write to console]: =\n",
            "WARNING:rpy2.rinterface_lib.callbacks:R[write to console]: =\n",
            "WARNING:rpy2.rinterface_lib.callbacks:R[write to console]: =\n",
            "WARNING:rpy2.rinterface_lib.callbacks:R[write to console]: =\n",
            "WARNING:rpy2.rinterface_lib.callbacks:R[write to console]: =\n",
            "WARNING:rpy2.rinterface_lib.callbacks:R[write to console]: =\n",
            "WARNING:rpy2.rinterface_lib.callbacks:R[write to console]: =\n",
            "WARNING:rpy2.rinterface_lib.callbacks:R[write to console]: =\n",
            "WARNING:rpy2.rinterface_lib.callbacks:R[write to console]: =\n",
            "WARNING:rpy2.rinterface_lib.callbacks:R[write to console]: =\n",
            "WARNING:rpy2.rinterface_lib.callbacks:R[write to console]: =\n",
            "WARNING:rpy2.rinterface_lib.callbacks:R[write to console]: =\n",
            "WARNING:rpy2.rinterface_lib.callbacks:R[write to console]: =\n",
            "WARNING:rpy2.rinterface_lib.callbacks:R[write to console]: =\n",
            "WARNING:rpy2.rinterface_lib.callbacks:R[write to console]: =\n",
            "WARNING:rpy2.rinterface_lib.callbacks:R[write to console]: =\n",
            "WARNING:rpy2.rinterface_lib.callbacks:R[write to console]: =\n",
            "WARNING:rpy2.rinterface_lib.callbacks:R[write to console]: =\n",
            "WARNING:rpy2.rinterface_lib.callbacks:R[write to console]: =\n",
            "WARNING:rpy2.rinterface_lib.callbacks:R[write to console]: =\n",
            "WARNING:rpy2.rinterface_lib.callbacks:R[write to console]: =\n",
            "WARNING:rpy2.rinterface_lib.callbacks:R[write to console]: =\n",
            "WARNING:rpy2.rinterface_lib.callbacks:R[write to console]: =\n",
            "WARNING:rpy2.rinterface_lib.callbacks:R[write to console]: =\n",
            "WARNING:rpy2.rinterface_lib.callbacks:R[write to console]: \n",
            "\n",
            "WARNING:rpy2.rinterface_lib.callbacks:R[write to console]: downloaded 1.5 MB\n",
            "\n",
            "\n",
            "WARNING:rpy2.rinterface_lib.callbacks:R[write to console]: trying URL 'https://cran.fiocruz.br/src/contrib/mvtnorm_1.1-3.tar.gz'\n",
            "\n",
            "WARNING:rpy2.rinterface_lib.callbacks:R[write to console]: Content type 'application/x-gzip'\n",
            "WARNING:rpy2.rinterface_lib.callbacks:R[write to console]:  length 166421 bytes (162 KB)\n",
            "\n",
            "WARNING:rpy2.rinterface_lib.callbacks:R[write to console]: =\n",
            "WARNING:rpy2.rinterface_lib.callbacks:R[write to console]: =\n",
            "WARNING:rpy2.rinterface_lib.callbacks:R[write to console]: =\n",
            "WARNING:rpy2.rinterface_lib.callbacks:R[write to console]: =\n",
            "WARNING:rpy2.rinterface_lib.callbacks:R[write to console]: =\n",
            "WARNING:rpy2.rinterface_lib.callbacks:R[write to console]: =\n",
            "WARNING:rpy2.rinterface_lib.callbacks:R[write to console]: =\n",
            "WARNING:rpy2.rinterface_lib.callbacks:R[write to console]: =\n",
            "WARNING:rpy2.rinterface_lib.callbacks:R[write to console]: =\n",
            "WARNING:rpy2.rinterface_lib.callbacks:R[write to console]: =\n",
            "WARNING:rpy2.rinterface_lib.callbacks:R[write to console]: =\n",
            "WARNING:rpy2.rinterface_lib.callbacks:R[write to console]: =\n",
            "WARNING:rpy2.rinterface_lib.callbacks:R[write to console]: =\n",
            "WARNING:rpy2.rinterface_lib.callbacks:R[write to console]: =\n",
            "WARNING:rpy2.rinterface_lib.callbacks:R[write to console]: =\n",
            "WARNING:rpy2.rinterface_lib.callbacks:R[write to console]: =\n",
            "WARNING:rpy2.rinterface_lib.callbacks:R[write to console]: =\n",
            "WARNING:rpy2.rinterface_lib.callbacks:R[write to console]: =\n",
            "WARNING:rpy2.rinterface_lib.callbacks:R[write to console]: =\n",
            "WARNING:rpy2.rinterface_lib.callbacks:R[write to console]: =\n",
            "WARNING:rpy2.rinterface_lib.callbacks:R[write to console]: =\n",
            "WARNING:rpy2.rinterface_lib.callbacks:R[write to console]: =\n",
            "WARNING:rpy2.rinterface_lib.callbacks:R[write to console]: =\n",
            "WARNING:rpy2.rinterface_lib.callbacks:R[write to console]: =\n",
            "WARNING:rpy2.rinterface_lib.callbacks:R[write to console]: =\n",
            "WARNING:rpy2.rinterface_lib.callbacks:R[write to console]: =\n",
            "WARNING:rpy2.rinterface_lib.callbacks:R[write to console]: =\n",
            "WARNING:rpy2.rinterface_lib.callbacks:R[write to console]: =\n",
            "WARNING:rpy2.rinterface_lib.callbacks:R[write to console]: =\n",
            "WARNING:rpy2.rinterface_lib.callbacks:R[write to console]: =\n",
            "WARNING:rpy2.rinterface_lib.callbacks:R[write to console]: =\n",
            "WARNING:rpy2.rinterface_lib.callbacks:R[write to console]: =\n",
            "WARNING:rpy2.rinterface_lib.callbacks:R[write to console]: =\n",
            "WARNING:rpy2.rinterface_lib.callbacks:R[write to console]: =\n",
            "WARNING:rpy2.rinterface_lib.callbacks:R[write to console]: =\n",
            "WARNING:rpy2.rinterface_lib.callbacks:R[write to console]: =\n",
            "WARNING:rpy2.rinterface_lib.callbacks:R[write to console]: =\n",
            "WARNING:rpy2.rinterface_lib.callbacks:R[write to console]: =\n",
            "WARNING:rpy2.rinterface_lib.callbacks:R[write to console]: =\n",
            "WARNING:rpy2.rinterface_lib.callbacks:R[write to console]: =\n",
            "WARNING:rpy2.rinterface_lib.callbacks:R[write to console]: =\n",
            "WARNING:rpy2.rinterface_lib.callbacks:R[write to console]: =\n",
            "WARNING:rpy2.rinterface_lib.callbacks:R[write to console]: =\n",
            "WARNING:rpy2.rinterface_lib.callbacks:R[write to console]: =\n",
            "WARNING:rpy2.rinterface_lib.callbacks:R[write to console]: =\n",
            "WARNING:rpy2.rinterface_lib.callbacks:R[write to console]: =\n",
            "WARNING:rpy2.rinterface_lib.callbacks:R[write to console]: =\n",
            "WARNING:rpy2.rinterface_lib.callbacks:R[write to console]: =\n",
            "WARNING:rpy2.rinterface_lib.callbacks:R[write to console]: =\n",
            "WARNING:rpy2.rinterface_lib.callbacks:R[write to console]: =\n",
            "WARNING:rpy2.rinterface_lib.callbacks:R[write to console]: \n",
            "\n",
            "WARNING:rpy2.rinterface_lib.callbacks:R[write to console]: downloaded 162 KB\n",
            "\n",
            "\n",
            "WARNING:rpy2.rinterface_lib.callbacks:R[write to console]: \n",
            "\n",
            "WARNING:rpy2.rinterface_lib.callbacks:R[write to console]: \n",
            "WARNING:rpy2.rinterface_lib.callbacks:R[write to console]: The downloaded source packages are in\n",
            "\t‘/tmp/RtmpOw2ZaR/downloaded_packages’\n",
            "WARNING:rpy2.rinterface_lib.callbacks:R[write to console]: \n",
            "WARNING:rpy2.rinterface_lib.callbacks:R[write to console]: \n",
            "\n"
          ]
        }
      ],
      "source": [
        "from BregmanTests.install_algorithms import main as install_env\n",
        "## Optional: set repository for CRAN\n",
        "BregmanTests.cfg.CRAN_repo = \"https://cran.fiocruz.br/\"\n",
        "install_env()"
      ]
    },
    {
      "cell_type": "code",
      "execution_count": 3,
      "id": "9ff28023",
      "metadata": {
        "id": "9ff28023"
      },
      "outputs": [],
      "source": [
        "%matplotlib inline\n",
        "from BregmanTests.WSBM import *\n",
        "from BregmanTests.utils import *\n",
        "import BregmanTests\n",
        "from sklearn.metrics import adjusted_rand_score, normalized_mutual_info_score, accuracy_score\n",
        "#from signet.cluster import Cluster\n",
        "import scipy.sparse as ss\n",
        "import pandas as pd\n",
        "from CSBM.Python.functions import *\n",
        "import os\n",
        "import warnings\n",
        "from BregmanClustering import models\n",
        "from BregmanClustering.models import SoftBregmanNodeAttributeGraphClustering as VEMbreg\n",
        "from BregmanClusteringTorch.torch_models import SoftBregmanClusteringTorch as torchBreg\n",
        "import subprocess\n",
        "warnings.filterwarnings(\"ignore\")"
      ]
    },
    {
      "cell_type": "code",
      "execution_count": 4,
      "id": "31fa08e4",
      "metadata": {
        "id": "31fa08e4"
      },
      "outputs": [],
      "source": [
        "#!/usr/bin/env python3\n",
        "# -*- coding: utf-8 -*-\n",
        "\"\"\"\n",
        "Created on Fri Feb 17 17:08:00 2023\n",
        "\n",
        "@author: maximilien, Felipe Schreiber\n",
        "\"\"\"\n",
        "from tqdm import tqdm"
      ]
    },
    {
      "cell_type": "code",
      "execution_count": 5,
      "id": "0dbd1e34",
      "metadata": {
        "id": "0dbd1e34"
      },
      "outputs": [],
      "source": [
        "c = 3 ## number of communities\n",
        "n = 100 ##size per community (or you can pass a list with different sizes)\n",
        "r = 10 ##specify how far the attributes distributions are from the origin\n",
        "d = 2 ##number of attributes\n",
        "P = np.array([[0.8, 0.2, 0.3],[0.2, 0.7, 0.4],[0.3, 0.4, 0.6]])"
      ]
    },
    {
      "cell_type": "code",
      "execution_count": 6,
      "id": "d2ad4db3",
      "metadata": {
        "id": "d2ad4db3"
      },
      "outputs": [],
      "source": [
        "X,Y,true_labels = BregmanBenchmark(P,[n]*c,1,10,dims=d,weight_variance=0.01,att_variance=0.1,\\\n",
        "                       weight_distribution=\"logistic\",attributes_distribution=\"logistic\",radius=r).generate_benchmark_WSBM()\n",
        "A = (X != 0).astype(int)"
      ]
    },
    {
      "cell_type": "code",
      "execution_count": 7,
      "id": "8e505252",
      "metadata": {
        "colab": {
          "base_uri": "https://localhost:8080/"
        },
        "id": "8e505252",
        "outputId": "57ef8f34-df77-407a-c467-e004bf90606d"
      },
      "outputs": [
        {
          "data": {
            "text/plain": [
              "array([[0.        , 1.0524723 , 1.03625291, ..., 0.        , 4.43713739,\n",
              "        0.        ],\n",
              "       [1.0524723 , 0.        , 0.        , ..., 0.        , 0.        ,\n",
              "        0.        ],\n",
              "       [1.03625291, 0.        , 0.        , ..., 4.55750478, 0.        ,\n",
              "        4.69439932],\n",
              "       ...,\n",
              "       [0.        , 0.        , 4.55750478, ..., 0.        , 0.        ,\n",
              "        9.91486628],\n",
              "       [4.43713739, 0.        , 0.        , ..., 0.        , 0.        ,\n",
              "        9.90420817],\n",
              "       [0.        , 0.        , 4.69439932, ..., 9.91486628, 9.90420817,\n",
              "        0.        ]])"
            ]
          },
          "execution_count": 7,
          "metadata": {},
          "output_type": "execute_result"
        }
      ],
      "source": [
        "X"
      ]
    },
    {
      "cell_type": "code",
      "execution_count": 8,
      "id": "360bfa70",
      "metadata": {
        "colab": {
          "base_uri": "https://localhost:8080/",
          "height": 450
        },
        "id": "360bfa70",
        "outputId": "0e2e4af0-45f6-4447-ce87-1d89fcdd18ff"
      },
      "outputs": [
        {
          "data": {
            "text/plain": [
              "<matplotlib.collections.PathCollection at 0x7f9db40092e0>"
            ]
          },
          "execution_count": 8,
          "metadata": {},
          "output_type": "execute_result"
        },
        {
          "data": {
            "image/png": "[encoded data removed]",
            "text/plain": [
              "<Figure size 640x480 with 1 Axes>"
            ]
          },
          "metadata": {},
          "output_type": "display_data"
        }
      ],
      "source": [
        "plt.scatter(Y[:,0],Y[:,1],c=true_labels)"
      ]
    },
    {
      "cell_type": "code",
      "execution_count": 9,
      "id": "d13df589",
      "metadata": {
        "colab": {
          "base_uri": "https://localhost:8080/"
        },
        "id": "d13df589",
        "outputId": "34775706-1f46-4cb3-f77d-fa9efa6ec000"
      },
      "outputs": [
        {
          "name": "stderr",
          "output_type": "stream",
          "text": [
            "Exception ignored on calling ctypes callback function: <function ThreadpoolController._find_libraries_with_dl_iterate_phdr.<locals>.match_library_callback at 0x7f9db45c3dc0>\n",
            "Traceback (most recent call last):\n",
            "  File \"/usr/local/lib/python3.9/dist-packages/threadpoolctl.py\", line 584, in match_library_callback\n",
            "    self._make_controller_from_path(filepath)\n",
            "  File \"/usr/local/lib/python3.9/dist-packages/threadpoolctl.py\", line 725, in _make_controller_from_path\n",
            "    lib_controller = lib_controller_class(\n",
            "  File \"/usr/local/lib/python3.9/dist-packages/threadpoolctl.py\", line 842, in __init__\n",
            "    super().__init__(**kwargs)\n",
            "  File \"/usr/local/lib/python3.9/dist-packages/threadpoolctl.py\", line 810, in __init__\n",
            "    self._dynlib = ctypes.CDLL(filepath, mode=_RTLD_NOLOAD)\n",
            "  File \"/usr/lib/python3.9/ctypes/__init__.py\", line 374, in __init__\n",
            "    self._handle = _dlopen(self._name, mode)\n",
            "OSError: dlopen() error\n"
          ]
        },
        {
          "name": "stdout",
          "output_type": "stream",
          "text": [
            "1.0 1.0\n"
          ]
        }
      ],
      "source": [
        "pred_labels = spectral(X.copy(),c)\n",
        "print(adjusted_rand_score(true_labels, pred_labels),normalized_mutual_info_score(true_labels, pred_labels))"
      ]
    },
    {
      "cell_type": "code",
      "execution_count": 10,
      "id": "189cbdb7",
      "metadata": {
        "colab": {
          "base_uri": "https://localhost:8080/"
        },
        "id": "189cbdb7",
        "outputId": "d1a224cf-9b58-4bdf-a87f-d63ec63e38f9"
      },
      "outputs": [
        {
          "name": "stdout",
          "output_type": "stream",
          "text": [
            "0.9799166810177865 0.9659698982538929\n"
          ]
        }
      ],
      "source": [
        "pred_labels = GaussianMixture(n_components=c).fit_predict(Y.copy())\n",
        "print(adjusted_rand_score(true_labels, pred_labels),normalized_mutual_info_score(true_labels, pred_labels))"
      ]
    },
    {
      "cell_type": "code",
      "execution_count": 11,
      "id": "e5f446f8",
      "metadata": {
        "colab": {
          "base_uri": "https://localhost:8080/"
        },
        "id": "e5f446f8",
        "outputId": "485675ad-ab2a-434d-ce7e-519e612dc019"
      },
      "outputs": [
        {
          "name": "stdout",
          "output_type": "stream",
          "text": [
            "Initialisation chosen from the graph\n",
            "0\n",
            "1.0 1.0\n"
          ]
        }
      ],
      "source": [
        "model = torchBreg(n_clusters=c,normalize_=True,thresholding=True)\n",
        "model.fit(A, Y)\n",
        "z_pred_both = model.predict(A,Y)\n",
        "print(adjusted_rand_score(true_labels, z_pred_both),normalized_mutual_info_score(true_labels, z_pred_both))"
      ]
    },
    {
      "cell_type": "code",
      "execution_count": 15,
      "id": "9e151220",
      "metadata": {
        "colab": {
          "base_uri": "https://localhost:8080/"
        },
        "id": "9e151220",
        "outputId": "afd2839d-19e1-410e-95b2-a30ce9fc85ba",
        "scrolled": true
      },
      "outputs": [
        {
          "name": "stderr",
          "output_type": "stream",
          "text": [
            "\r  0%|          | 0/6 [00:00<?, ?it/s]"
          ]
        },
        {
          "name": "stdout",
          "output_type": "stream",
          "text": [
            "Initialisation chosen from the graph\n",
            "Initialisation chosen from the graph\n",
            "number of iterations :  25\n",
            "Initialisation chosen from the graph\n",
            "number of iterations :  25\n",
            "Initialisation chosen from the graph\n",
            "0\n",
            "1\n",
            "2\n",
            "3\n",
            "Initialisation chosen from the graph\n"
          ]
        },
        {
          "name": "stderr",
          "output_type": "stream",
          "text": [
            "\r 17%|█▋        | 1/6 [00:22<01:50, 22.02s/it]"
          ]
        },
        {
          "name": "stdout",
          "output_type": "stream",
          "text": [
            "number of iterations :  25\n",
            "Initialisation chosen from the graph\n",
            "Initialisation chosen from the graph\n",
            "number of iterations :  25\n",
            "Initialisation chosen from the graph\n",
            "number of iterations :  25\n",
            "Initialisation chosen from the graph\n",
            "0\n",
            "1\n",
            "Initialisation chosen from the graph\n"
          ]
        },
        {
          "name": "stderr",
          "output_type": "stream",
          "text": [
            "\r 33%|███▎      | 2/6 [00:32<01:00, 15.16s/it]"
          ]
        },
        {
          "name": "stdout",
          "output_type": "stream",
          "text": [
            "number of iterations :  25\n",
            "Initialisation chosen from the graph\n",
            "Initialisation chosen from the graph\n",
            "number of iterations :  25\n",
            "Initialisation chosen from the attributes\n",
            "number of iterations :  25\n",
            "Initialisation chosen from the graph\n",
            "0\n",
            "1\n",
            "2\n"
          ]
        },
        {
          "name": "stderr",
          "output_type": "stream",
          "text": [
            "\r 50%|█████     | 3/6 [00:41<00:37, 12.49s/it]"
          ]
        },
        {
          "name": "stdout",
          "output_type": "stream",
          "text": [
            "Initialisation chosen from the attributes\n",
            "Initialisation chosen from the graph\n",
            "Initialisation chosen from the attributes\n",
            "number of iterations :  25\n",
            "Initialisation chosen from the attributes\n",
            "number of iterations :  25\n",
            "Initialisation chosen from the attributes\n",
            "0\n",
            "1\n",
            "2\n",
            "3\n",
            "4\n"
          ]
        },
        {
          "name": "stderr",
          "output_type": "stream",
          "text": [
            "\r 67%|██████▋   | 4/6 [00:52<00:23, 11.95s/it]"
          ]
        },
        {
          "name": "stdout",
          "output_type": "stream",
          "text": [
            "Initialisation chosen from the attributes\n",
            "Initialisation chosen from the attributes\n",
            "Initialisation chosen from the attributes\n",
            "number of iterations :  25\n",
            "Initialisation chosen from the attributes\n",
            "number of iterations :  25\n",
            "Initialisation chosen from the attributes\n",
            "0\n",
            "1\n",
            "2\n",
            "3\n",
            "4\n",
            "5\n",
            "6\n",
            "7\n",
            "Initialisation chosen from the attributes\n"
          ]
        },
        {
          "name": "stderr",
          "output_type": "stream",
          "text": [
            "\r 83%|████████▎ | 5/6 [01:02<00:10, 11.00s/it]"
          ]
        },
        {
          "name": "stdout",
          "output_type": "stream",
          "text": [
            "number of iterations :  25\n",
            "Initialisation chosen from the attributes\n",
            "Initialisation chosen from the attributes\n",
            "number of iterations :  25\n",
            "Initialisation chosen from the attributes\n",
            "number of iterations :  25\n",
            "Initialisation chosen from the attributes\n",
            "0\n",
            "Initialisation chosen from the attributes\n"
          ]
        },
        {
          "name": "stderr",
          "output_type": "stream",
          "text": [
            "100%|██████████| 6/6 [01:13<00:00, 12.28s/it]"
          ]
        },
        {
          "name": "stdout",
          "output_type": "stream",
          "text": [
            "number of iterations :  25\n"
          ]
        },
        {
          "name": "stderr",
          "output_type": "stream",
          "text": [
            "\n",
            "WARNING:matplotlib.backends.backend_ps:The PostScript backend does not support transparency; partially transparent artists will be rendered opaque.\n",
            "  0%|          | 0/6 [00:00<?, ?it/s]"
          ]
        },
        {
          "name": "stdout",
          "output_type": "stream",
          "text": [
            "Initialisation chosen from the graph\n",
            "Initialisation chosen from the graph\n",
            "number of iterations :  25\n",
            "Initialisation chosen from the attributes\n",
            "number of iterations :  25\n",
            "Initialisation chosen from the graph\n",
            "0\n",
            "1\n"
          ]
        },
        {
          "name": "stderr",
          "output_type": "stream",
          "text": [
            "\r 17%|█▋        | 1/6 [00:09<00:46,  9.30s/it]"
          ]
        },
        {
          "name": "stdout",
          "output_type": "stream",
          "text": [
            "Initialisation chosen from the attributes\n",
            "Initialisation chosen from the graph\n",
            "Initialisation chosen from the graph\n",
            "number of iterations :  25\n",
            "Initialisation chosen from the attributes\n",
            "number of iterations :  25\n",
            "Initialisation chosen from the graph\n",
            "0\n",
            "1\n"
          ]
        },
        {
          "name": "stderr",
          "output_type": "stream",
          "text": [
            "\r 33%|███▎      | 2/6 [00:17<00:33,  8.40s/it]"
          ]
        },
        {
          "name": "stdout",
          "output_type": "stream",
          "text": [
            "Initialisation chosen from the attributes\n",
            "Initialisation chosen from the graph\n",
            "Initialisation chosen from the graph\n",
            "number of iterations :  25\n",
            "Initialisation chosen from the graph\n",
            "number of iterations :  25\n",
            "Initialisation chosen from the graph\n",
            "0\n",
            "1\n",
            "Initialisation chosen from the graph\n"
          ]
        },
        {
          "name": "stderr",
          "output_type": "stream",
          "text": [
            "\r 50%|█████     | 3/6 [00:29<00:31, 10.36s/it]"
          ]
        },
        {
          "name": "stdout",
          "output_type": "stream",
          "text": [
            "number of iterations :  25\n",
            "Initialisation chosen from the graph\n",
            "Initialisation chosen from the graph\n",
            "number of iterations :  25\n",
            "Initialisation chosen from the graph\n",
            "number of iterations :  25\n",
            "Initialisation chosen from the graph\n",
            "0\n",
            "1\n",
            "2\n",
            "Initialisation chosen from the graph\n"
          ]
        },
        {
          "name": "stderr",
          "output_type": "stream",
          "text": [
            "\r 67%|██████▋   | 4/6 [00:41<00:21, 10.90s/it]"
          ]
        },
        {
          "name": "stdout",
          "output_type": "stream",
          "text": [
            "number of iterations :  25\n",
            "Initialisation chosen from the graph\n",
            "Initialisation chosen from the graph\n",
            "number of iterations :  25\n",
            "Initialisation chosen from the attributes\n",
            "number of iterations :  25\n",
            "Initialisation chosen from the graph\n",
            "0\n",
            "1\n",
            "2\n",
            "3\n",
            "4\n",
            "5\n"
          ]
        },
        {
          "name": "stderr",
          "output_type": "stream",
          "text": [
            "\r 83%|████████▎ | 5/6 [00:51<00:10, 10.47s/it]"
          ]
        },
        {
          "name": "stdout",
          "output_type": "stream",
          "text": [
            "Initialisation chosen from the attributes\n",
            "Initialisation chosen from the graph\n",
            "Initialisation chosen from the graph\n",
            "number of iterations :  25\n",
            "Initialisation chosen from the attributes\n",
            "number of iterations :  25\n",
            "Initialisation chosen from the graph\n",
            "0\n",
            "1\n"
          ]
        },
        {
          "name": "stderr",
          "output_type": "stream",
          "text": [
            "100%|██████████| 6/6 [01:00<00:00, 10.03s/it]"
          ]
        },
        {
          "name": "stdout",
          "output_type": "stream",
          "text": [
            "Initialisation chosen from the attributes\n"
          ]
        },
        {
          "name": "stderr",
          "output_type": "stream",
          "text": [
            "\n",
            "WARNING:matplotlib.backends.backend_ps:The PostScript backend does not support transparency; partially transparent artists will be rendered opaque.\n"
          ]
        }
      ],
      "source": [
        "n_average = 1\n",
        "n = 300\n",
        "n_clusters = 2\n",
        "d = 1\n",
        "sizes = [ n // n_clusters ]*np.ones( n_clusters, dtype = int )\n",
        "\n",
        "b = 5\n",
        "pout = b * np.log( n ) / n\n",
        "\n",
        "a_range = [ 5,7,9,11,13,15 ]\n",
        "r_range = [ 0,1,2,3,4,5 ]\n",
        "# a_range = [ 5,7,9]\n",
        "# r_range = [ 0,1,2]\n",
        "\n",
        "stats = {\"varying\":[],\"a\":[],\"r\":[],\"agreed\":[],\"ARI_chernoff\":[],\"ARI_AIC\":[],\"ARI_ORACLE\":[]}\n",
        "\n",
        "for varying in [\"attributes\",\"graph\"]:\n",
        "# varying = 'attributes'\n",
        "# #varying = 'graph'\n",
        "\n",
        "    aris_attributes_mean = [ ]\n",
        "    aris_graph_mean = [ ]\n",
        "    aris_both_mean = [ ]\n",
        "    aris_attSBM_mean = [ ]\n",
        "    aris_IR_sLS_mean = [ ]\n",
        "    aris_IR_LS_mean = [ ]\n",
        "    aris_both2_mean = [ ]\n",
        "    aris_oracle_mean = [ ]\n",
        "\n",
        "    aris_attributes_std = [ ]\n",
        "    aris_graph_std = [ ]\n",
        "    aris_both_std = [ ]\n",
        "    aris_attSBM_std = [ ]\n",
        "    aris_IR_sLS_std = [ ]\n",
        "    aris_IR_LS_std = [ ]\n",
        "    aris_both2_std = [ ]\n",
        "    aris_oracle_std = [ ]\n",
        "\n",
        "    if varying == 'graph':\n",
        "        loop = tqdm( range( len( a_range ) ) )\n",
        "    else:\n",
        "        loop = tqdm( range( len( r_range ) ) )\n",
        "\n",
        "    for dummy in loop:\n",
        "        if varying == 'graph':\n",
        "            a = a_range[ dummy ]\n",
        "            r = 1\n",
        "        elif varying == 'attributes':\n",
        "            a = 8\n",
        "            r = r_range[ dummy ]\n",
        "\n",
        "        pin = a * np.log( n ) / n\n",
        "        p = (pin- pout) * np.eye( n_clusters ) + pout * np.ones( (n_clusters, n_clusters) )\n",
        "\n",
        "        aris_attributes = [ ]\n",
        "        aris_graph = [ ]\n",
        "        aris_both = [ ]\n",
        "        aris_attSBM = [ ]\n",
        "        aris_IR_sLS  = [ ]\n",
        "        aris_IR_LS = [ ]\n",
        "        aris_both2 = [ ]\n",
        "        aris_oracle = [ ]\n",
        "        \n",
        "        path_ = BregmanTests.cfg.path_to_data+f\"a/{a}/r/{r}/\"\n",
        "        if not os.path.exists(path_):\n",
        "            os.makedirs(path_)\n",
        "\n",
        "        total = 0\n",
        "        for trial in range( n_average ):\n",
        "            ( X, Y, z_true ) = BregmanBenchmark(p,sizes,att_variance=1,\\\n",
        "                    attributes_distribution=\"gaussian\",radius=r).generate_benchmark_WSBM()\n",
        "            \n",
        "            X = (X != 0).astype(int)\n",
        "            model = models.BregmanNodeAttributeGraphClustering( n_clusters = n_clusters, initializer=\"chernoff\")\n",
        "            ## For comparison purposes, the initialization is the same for IR-sLS, IR-LS and ours    \n",
        "            model.initialize(X,Y)\n",
        "            model.assignInitialLabels( X, Y )\n",
        "            z_init = model.predicted_memberships\n",
        "            chernoff_init_graph = model.graph_init\n",
        "            chernoff_graph_labels = model.memberships_from_graph\n",
        "            chernoff_att_labels = model.memberships_from_attributes\n",
        "\n",
        "            with open(f'{path_}att_{trial}.npy', 'wb') as g:\n",
        "                np.save(g, Y)\n",
        "            with open(f'{path_}net_{trial}.npy', 'wb') as g:\n",
        "                np.save(g, X)\n",
        "            with open(f'{path_}z_init_{trial}.npy', 'wb') as g:\n",
        "                np.save(g, convertZ(z_init)+1)\n",
        "\n",
        "            model.fit( X, Y )\n",
        "            z_pred_both = model.predict( X, Y )\n",
        "            z_pred_graph = models.frommembershipMatriceToVector( chernoff_graph_labels )\n",
        "            z_pred_attributes = models.frommembershipMatriceToVector( chernoff_att_labels )\n",
        "            \n",
        "            if chernoff_init_graph == model.AIC_initializer(X,Y).graph_init:\n",
        "                total += 1\n",
        "            \n",
        "            ## Warm start\n",
        "            if model.graph_init:\n",
        "                model.fit( X, Y, chernoff_graph_labels)\n",
        "            else:\n",
        "                model.fit(X, Y, chernoff_att_labels)\n",
        "            \n",
        "            model2 = torchBreg(n_clusters=n_clusters, normalize_=True, thresholding=True)\n",
        "            z_pred_both2 = model2.fit(X,Y).predict( X, Y )\n",
        "            \n",
        "            IR_sLS_pred = iter_csbm(X,Y,z_init,n_clusters)\n",
        "            IR_LS_pred = iter_csbm2(X,Y,z_init,n_clusters)\n",
        "                \n",
        "            subprocess.call([\"/usr/bin/Rscript\",\"--vanilla\",f\"{BregmanTests.cfg.base_path}/run_AttSBM.r\",\\\n",
        "                            f'{path_}att_{trial}.npy',\\\n",
        "                            f'{path_}net_{trial}.npy',\\\n",
        "                            f'{path_}z_init_{trial}.npy'])\n",
        "            attSBMPred = np.load(\"predict.npy\")\n",
        "\n",
        "            aris_attributes.append( adjusted_rand_score( z_true, z_pred_attributes ) )\n",
        "            aris_graph.append( adjusted_rand_score( z_true, z_pred_graph ) )\n",
        "            aris_both.append( adjusted_rand_score( z_true, z_pred_both ) )\n",
        "            aris_attSBM.append( adjusted_rand_score( z_true, attSBMPred ) )\n",
        "            aris_IR_sLS.append( adjusted_rand_score( z_true, IR_sLS_pred ) )\n",
        "            aris_IR_LS.append( adjusted_rand_score( z_true, IR_LS_pred ) )\n",
        "            aris_both2.append( adjusted_rand_score( z_true, z_pred_both2 ))\n",
        "            \n",
        "            if chernoff_init_graph != model.AIC_initializer(X,Y).graph_init:\n",
        "                ## both initializations were done\n",
        "                aris_oracle.append( max(aris_both[-1],aris_both2[-1]))\n",
        "            elif chernoff_init_graph:\n",
        "                z_pred_att_init = model.fit(X,Y,chernoff_att_labels).predict(X,Y)\n",
        "                ari_att_init = adjusted_rand_score( z_true, z_pred_att_init)\n",
        "                aris_oracle.append( max(aris_both[-1], ari_att_init))\n",
        "            elif not chernoff_init_graph:\n",
        "                z_pred_graph_init = model.fit(X,Y,chernoff_graph_labels).predict(X,Y)\n",
        "                ari_graph_init = adjusted_rand_score( z_true, z_pred_graph_init)\n",
        "                aris_oracle.append( max(aris_both[-1], ari_graph_init))\n",
        "                \n",
        "        aris_attributes_mean.append( np.mean( aris_attributes ) )\n",
        "        aris_graph_mean.append( np.mean( aris_graph ) )\n",
        "        aris_both_mean.append( np.mean( aris_both ) )\n",
        "        aris_attSBM_mean.append( np.mean( aris_attSBM ) )\n",
        "        aris_IR_sLS_mean.append( np.mean( aris_IR_sLS ) )\n",
        "        aris_IR_LS_mean.append( np.mean( aris_IR_LS ) )\n",
        "        aris_both2_mean.append( np.mean( aris_both2) )\n",
        "        aris_oracle_mean.append( np.mean( aris_oracle) )\n",
        "        \n",
        "        aris_attributes_std.append( np.std( aris_attributes ) )\n",
        "        aris_graph_std.append( np.std( aris_graph ) )\n",
        "        aris_both_std.append( np.std( aris_both ) )\n",
        "        aris_attSBM_std.append( np.std( aris_attSBM ) )\n",
        "        aris_IR_sLS_std.append( np.std( aris_IR_sLS ) )\n",
        "        aris_IR_LS_std.append( np.std( aris_IR_LS ) )\n",
        "        aris_both2_std.append( np.std( aris_both2 ) )\n",
        "        aris_oracle_std.append( np.std( aris_oracle) )\n",
        "        \n",
        "        stats[\"varying\"].append(varying)\n",
        "        stats[\"a\"].append(a)\n",
        "        stats[\"r\"].append(r)\n",
        "        stats[\"agreed\"].append(total/n_average)\n",
        "        stats[\"ARI_chernoff\"].append(aris_both_mean[-1])\n",
        "        stats[\"ARI_AIC\"].append(aris_both2_mean[-1])\n",
        "        stats[\"ARI_ORACLE\"].append(aris_oracle_mean[-1])\n",
        "        \n",
        "    curves = [ aris_attributes_mean, aris_graph_mean,\\\n",
        "              aris_both_mean , aris_attSBM_mean, aris_IR_sLS_mean,\\\n",
        "              aris_IR_LS_mean, aris_both2_mean]\n",
        "\n",
        "    curves_std = [ aris_attributes_std, aris_graph_std,\\\n",
        "                  aris_both_std , aris_attSBM_std, aris_IR_sLS_std,\\\n",
        "                  aris_IR_LS_std, aris_both2_std]\n",
        "\n",
        "    labels = [ 'attributes', 'graph', 'both' , 'attSBM', 'IR_sLS', 'IR_LS', \"VEMbreg\"]\n",
        "    saveFig = True\n",
        "    if varying == 'graph':    \n",
        "        fileName = 'N_' + str(n) + '_K_' + str(n_clusters) + '_b_' + str(b) + '_r_' + str(r) +  '_nAverage' + str(n_average) + '.eps'\n",
        "        plotting( a_range, curves, labels, curves_std = curves_std, xticks = a_range, xlabel = 'a', saveFig = saveFig, fileName = fileName )\n",
        "        plt.close()\n",
        "    elif varying == 'attributes':\n",
        "        fileName = 'N_' + str(n) + '_K_' + str(n_clusters) + '_a_' + str(a) + '_b_' + str(b) +  '_nAverage_' + str(n_average) + '.eps'\n",
        "        plotting( r_range, curves, labels, curves_std = curves_std, xticks = r_range, xlabel = 'r', saveFig = saveFig, fileName = fileName )\n",
        "        plt.close()"
      ]
    },
    {
      "cell_type": "code",
      "execution_count": 16,
      "id": "0ef9402f",
      "metadata": {
        "id": "0ef9402f"
      },
      "outputs": [],
      "source": [
        "import pandas as pd\n",
        "df = pd.DataFrame.from_dict(stats)"
      ]
    },
    {
      "cell_type": "code",
      "execution_count": 17,
      "id": "2ba58beb",
      "metadata": {
        "colab": {
          "base_uri": "https://localhost:8080/",
          "height": 426
        },
        "id": "2ba58beb",
        "outputId": "0667ae28-0594-4802-b6c3-16e6aaee8b3b"
      },
      "outputs": [
        {
          "data": {
            "text/html": [
              "\n",
              "  <div id=\"df-bf223f10-9c9d-45fd-8cf8-daaa14d00752\">\n",
              "    <div class=\"colab-df-container\">\n",
              "      <div>\n",
              "<style scoped>\n",
              "    .dataframe tbody tr th:only-of-type {\n",
              "        vertical-align: middle;\n",
              "    }\n",
              "\n",
              "    .dataframe tbody tr th {\n",
              "        vertical-align: top;\n",
              "    }\n",
              "\n",
              "    .dataframe thead th {\n",
              "        text-align: right;\n",
              "    }\n",
              "</style>\n",
              "<table border=\"1\" class=\"dataframe\">\n",
              "  <thead>\n",
              "    <tr style=\"text-align: right;\">\n",
              "      <th></th>\n",
              "      <th>varying</th>\n",
              "      <th>a</th>\n",
              "      <th>r</th>\n",
              "      <th>agreed</th>\n",
              "      <th>ARI_chernoff</th>\n",
              "      <th>ARI_AIC</th>\n",
              "      <th>ARI_ORACLE</th>\n",
              "    </tr>\n",
              "  </thead>\n",
              "  <tbody>\n",
              "    <tr>\n",
              "      <th>0</th>\n",
              "      <td>attributes</td>\n",
              "      <td>8</td>\n",
              "      <td>0</td>\n",
              "      <td>1.0</td>\n",
              "      <td>0.478971</td>\n",
              "      <td>0.000000</td>\n",
              "      <td>0.478971</td>\n",
              "    </tr>\n",
              "    <tr>\n",
              "      <th>1</th>\n",
              "      <td>attributes</td>\n",
              "      <td>8</td>\n",
              "      <td>1</td>\n",
              "      <td>1.0</td>\n",
              "      <td>0.870679</td>\n",
              "      <td>0.000000</td>\n",
              "      <td>0.870679</td>\n",
              "    </tr>\n",
              "    <tr>\n",
              "      <th>2</th>\n",
              "      <td>attributes</td>\n",
              "      <td>8</td>\n",
              "      <td>2</td>\n",
              "      <td>0.0</td>\n",
              "      <td>1.000000</td>\n",
              "      <td>0.000000</td>\n",
              "      <td>1.000000</td>\n",
              "    </tr>\n",
              "    <tr>\n",
              "      <th>3</th>\n",
              "      <td>attributes</td>\n",
              "      <td>8</td>\n",
              "      <td>3</td>\n",
              "      <td>0.0</td>\n",
              "      <td>1.000000</td>\n",
              "      <td>0.000000</td>\n",
              "      <td>1.000000</td>\n",
              "    </tr>\n",
              "    <tr>\n",
              "      <th>4</th>\n",
              "      <td>attributes</td>\n",
              "      <td>8</td>\n",
              "      <td>4</td>\n",
              "      <td>1.0</td>\n",
              "      <td>1.000000</td>\n",
              "      <td>0.000000</td>\n",
              "      <td>1.000000</td>\n",
              "    </tr>\n",
              "    <tr>\n",
              "      <th>5</th>\n",
              "      <td>attributes</td>\n",
              "      <td>8</td>\n",
              "      <td>5</td>\n",
              "      <td>1.0</td>\n",
              "      <td>1.000000</td>\n",
              "      <td>1.000000</td>\n",
              "      <td>1.000000</td>\n",
              "    </tr>\n",
              "    <tr>\n",
              "      <th>6</th>\n",
              "      <td>graph</td>\n",
              "      <td>5</td>\n",
              "      <td>1</td>\n",
              "      <td>0.0</td>\n",
              "      <td>0.022335</td>\n",
              "      <td>0.000000</td>\n",
              "      <td>0.022335</td>\n",
              "    </tr>\n",
              "    <tr>\n",
              "      <th>7</th>\n",
              "      <td>graph</td>\n",
              "      <td>7</td>\n",
              "      <td>1</td>\n",
              "      <td>0.0</td>\n",
              "      <td>0.011093</td>\n",
              "      <td>0.000000</td>\n",
              "      <td>0.011093</td>\n",
              "    </tr>\n",
              "    <tr>\n",
              "      <th>8</th>\n",
              "      <td>graph</td>\n",
              "      <td>9</td>\n",
              "      <td>1</td>\n",
              "      <td>1.0</td>\n",
              "      <td>0.908539</td>\n",
              "      <td>0.000000</td>\n",
              "      <td>0.908539</td>\n",
              "    </tr>\n",
              "    <tr>\n",
              "      <th>9</th>\n",
              "      <td>graph</td>\n",
              "      <td>11</td>\n",
              "      <td>1</td>\n",
              "      <td>1.0</td>\n",
              "      <td>1.000000</td>\n",
              "      <td>0.000000</td>\n",
              "      <td>1.000000</td>\n",
              "    </tr>\n",
              "    <tr>\n",
              "      <th>10</th>\n",
              "      <td>graph</td>\n",
              "      <td>13</td>\n",
              "      <td>1</td>\n",
              "      <td>0.0</td>\n",
              "      <td>1.000000</td>\n",
              "      <td>0.000000</td>\n",
              "      <td>1.000000</td>\n",
              "    </tr>\n",
              "    <tr>\n",
              "      <th>11</th>\n",
              "      <td>graph</td>\n",
              "      <td>15</td>\n",
              "      <td>1</td>\n",
              "      <td>0.0</td>\n",
              "      <td>1.000000</td>\n",
              "      <td>0.973422</td>\n",
              "      <td>1.000000</td>\n",
              "    </tr>\n",
              "  </tbody>\n",
              "</table>\n",
              "</div>\n",
              "      <button class=\"colab-df-convert\" onclick=\"convertToInteractive('df-bf223f10-9c9d-45fd-8cf8-daaa14d00752')\"\n",
              "              title=\"Convert this dataframe to an interactive table.\"\n",
              "              style=\"display:none;\">\n",
              "        \n",
              "  <svg xmlns=\"http://www.w3.org/2000/svg\" height=\"24px\"viewBox=\"0 0 24 24\"\n",
              "       width=\"24px\">\n",
              "    <path d=\"M0 0h24v24H0V0z\" fill=\"none\"/>\n",
              "    <path d=\"M18.56 5.44l.94 2.06.94-2.06 2.06-.94-2.06-.94-.94-2.06-.94 2.06-2.06.94zm-11 1L8.5 8.5l.94-2.06 2.06-.94-2.06-.94L8.5 2.5l-.94 2.06-2.06.94zm10 10l.94 2.06.94-2.06 2.06-.94-2.06-.94-.94-2.06-.94 2.06-2.06.94z\"/><path d=\"M17.41 7.96l-1.37-1.37c-.4-.4-.92-.59-1.43-.59-.52 0-1.04.2-1.43.59L10.3 9.45l-7.72 7.72c-.78.78-.78 2.05 0 2.83L4 21.41c.39.39.9.59 1.41.59.51 0 1.02-.2 1.41-.59l7.78-7.78 2.81-2.81c.8-.78.8-2.07 0-2.86zM5.41 20L4 18.59l7.72-7.72 1.47 1.35L5.41 20z\"/>\n",
              "  </svg>\n",
              "      </button>\n",
              "      \n",
              "  <style>\n",
              "    .colab-df-container {\n",
              "      display:flex;\n",
              "      flex-wrap:wrap;\n",
              "      gap: 12px;\n",
              "    }\n",
              "\n",
              "    .colab-df-convert {\n",
              "      background-color: #E8F0FE;\n",
              "      border: none;\n",
              "      border-radius: 50%;\n",
              "      cursor: pointer;\n",
              "      display: none;\n",
              "      fill: #1967D2;\n",
              "      height: 32px;\n",
              "      padding: 0 0 0 0;\n",
              "      width: 32px;\n",
              "    }\n",
              "\n",
              "    .colab-df-convert:hover {\n",
              "      background-color: #E2EBFA;\n",
              "      box-shadow: 0px 1px 2px rgba(60, 64, 67, 0.3), 0px 1px 3px 1px rgba(60, 64, 67, 0.15);\n",
              "      fill: #174EA6;\n",
              "    }\n",
              "\n",
              "    [theme=dark] .colab-df-convert {\n",
              "      background-color: #3B4455;\n",
              "      fill: #D2E3FC;\n",
              "    }\n",
              "\n",
              "    [theme=dark] .colab-df-convert:hover {\n",
              "      background-color: #434B5C;\n",
              "      box-shadow: 0px 1px 3px 1px rgba(0, 0, 0, 0.15);\n",
              "      filter: drop-shadow(0px 1px 2px rgba(0, 0, 0, 0.3));\n",
              "      fill: #FFFFFF;\n",
              "    }\n",
              "  </style>\n",
              "\n",
              "      <script>\n",
              "        const buttonEl =\n",
              "          document.querySelector('#df-bf223f10-9c9d-45fd-8cf8-daaa14d00752 button.colab-df-convert');\n",
              "        buttonEl.style.display =\n",
              "          google.colab.kernel.accessAllowed ? 'block' : 'none';\n",
              "\n",
              "        async function convertToInteractive(key) {\n",
              "          const element = document.querySelector('#df-bf223f10-9c9d-45fd-8cf8-daaa14d00752');\n",
              "          const dataTable =\n",
              "            await google.colab.kernel.invokeFunction('convertToInteractive',\n",
              "                                                     [key], {});\n",
              "          if (!dataTable) return;\n",
              "\n",
              "          const docLinkHtml = 'Like what you see? Visit the ' +\n",
              "            '<a target=\"_blank\" href=https://colab.research.google.com/notebooks/data_table.ipynb>data table notebook</a>'\n",
              "            + ' to learn more about interactive tables.';\n",
              "          element.innerHTML = '';\n",
              "          dataTable['output_type'] = 'display_data';\n",
              "          await google.colab.output.renderOutput(dataTable, element);\n",
              "          const docLink = document.createElement('div');\n",
              "          docLink.innerHTML = docLinkHtml;\n",
              "          element.appendChild(docLink);\n",
              "        }\n",
              "      </script>\n",
              "    </div>\n",
              "  </div>\n",
              "  "
            ],
            "text/plain": [
              "       varying   a  r  agreed  ARI_chernoff   ARI_AIC  ARI_ORACLE\n",
              "0   attributes   8  0     1.0      0.478971  0.000000    0.478971\n",
              "1   attributes   8  1     1.0      0.870679  0.000000    0.870679\n",
              "2   attributes   8  2     0.0      1.000000  0.000000    1.000000\n",
              "3   attributes   8  3     0.0      1.000000  0.000000    1.000000\n",
              "4   attributes   8  4     1.0      1.000000  0.000000    1.000000\n",
              "5   attributes   8  5     1.0      1.000000  1.000000    1.000000\n",
              "6        graph   5  1     0.0      0.022335  0.000000    0.022335\n",
              "7        graph   7  1     0.0      0.011093  0.000000    0.011093\n",
              "8        graph   9  1     1.0      0.908539  0.000000    0.908539\n",
              "9        graph  11  1     1.0      1.000000  0.000000    1.000000\n",
              "10       graph  13  1     0.0      1.000000  0.000000    1.000000\n",
              "11       graph  15  1     0.0      1.000000  0.973422    1.000000"
            ]
          },
          "execution_count": 17,
          "metadata": {},
          "output_type": "execute_result"
        }
      ],
      "source": [
        "df"
      ]
    }
  ],
  "metadata": {
    "accelerator": "GPU",
    "colab": {
      "provenance": []
    },
    "gpuClass": "standard",
    "kernelspec": {
      "display_name": "Python 3 (ipykernel)",
      "language": "python",
      "name": "python3"
    },
    "language_info": {
      "codemirror_mode": {
        "name": "ipython",
        "version": 3
      },
      "file_extension": ".py",
      "mimetype": "text/x-python",
      "name": "python",
      "nbconvert_exporter": "python",
      "pygments_lexer": "ipython3",
      "version": "3.9.7"
    }
  },
  "nbformat": 4,
  "nbformat_minor": 5
}
