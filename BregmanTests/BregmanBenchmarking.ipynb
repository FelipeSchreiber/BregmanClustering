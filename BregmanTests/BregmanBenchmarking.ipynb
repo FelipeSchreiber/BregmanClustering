{
 "cells": [
  {
   "cell_type": "code",
   "execution_count": 1,
   "id": "jP3HrzLaFCl0",
   "metadata": {
    "colab": {
     "base_uri": "https://localhost:8080/"
    },
    "id": "jP3HrzLaFCl0",
    "outputId": "c8ae970d-b550-44ec-85ed-c7376fe749a8"
   },
   "outputs": [],
   "source": [
    "# from google.colab import drive\n",
    "# drive.mount('/content/drive')"
   ]
  },
  {
   "cell_type": "code",
   "execution_count": 2,
   "id": "3caf0c63",
   "metadata": {},
   "outputs": [
    {
     "name": "stdout",
     "output_type": "stream",
     "text": [
      "Requirement already satisfied: pandas in /home/felipe/anaconda3/envs/breg/lib/python3.10/site-packages (2.0.3)\n",
      "Requirement already satisfied: matplotlib in /home/felipe/anaconda3/envs/breg/lib/python3.10/site-packages (3.7.2)\n",
      "Requirement already satisfied: networkx in /home/felipe/anaconda3/envs/breg/lib/python3.10/site-packages (3.1)\n",
      "Requirement already satisfied: scikit-learn in /home/felipe/anaconda3/envs/breg/lib/python3.10/site-packages (1.3.0)\n",
      "Requirement already satisfied: seaborn in /home/felipe/anaconda3/envs/breg/lib/python3.10/site-packages (0.12.2)\n",
      "Requirement already satisfied: python-dateutil>=2.8.2 in /home/felipe/anaconda3/envs/breg/lib/python3.10/site-packages (from pandas) (2.8.2)\n",
      "Requirement already satisfied: pytz>=2020.1 in /home/felipe/anaconda3/envs/breg/lib/python3.10/site-packages (from pandas) (2023.3)\n",
      "Requirement already satisfied: tzdata>=2022.1 in /home/felipe/anaconda3/envs/breg/lib/python3.10/site-packages (from pandas) (2023.3)\n",
      "Requirement already satisfied: numpy>=1.21.0 in /home/felipe/anaconda3/envs/breg/lib/python3.10/site-packages (from pandas) (1.24.4)\n",
      "Requirement already satisfied: contourpy>=1.0.1 in /home/felipe/anaconda3/envs/breg/lib/python3.10/site-packages (from matplotlib) (1.1.0)\n",
      "Requirement already satisfied: cycler>=0.10 in /home/felipe/anaconda3/envs/breg/lib/python3.10/site-packages (from matplotlib) (0.11.0)\n",
      "Requirement already satisfied: fonttools>=4.22.0 in /home/felipe/anaconda3/envs/breg/lib/python3.10/site-packages (from matplotlib) (4.42.0)\n",
      "Requirement already satisfied: kiwisolver>=1.0.1 in /home/felipe/anaconda3/envs/breg/lib/python3.10/site-packages (from matplotlib) (1.4.4)\n",
      "Requirement already satisfied: packaging>=20.0 in /home/felipe/anaconda3/envs/breg/lib/python3.10/site-packages (from matplotlib) (23.0)\n",
      "Requirement already satisfied: pillow>=6.2.0 in /home/felipe/anaconda3/envs/breg/lib/python3.10/site-packages (from matplotlib) (10.0.0)\n",
      "Requirement already satisfied: pyparsing<3.1,>=2.3.1 in /home/felipe/anaconda3/envs/breg/lib/python3.10/site-packages (from matplotlib) (3.0.9)\n",
      "Requirement already satisfied: scipy>=1.5.0 in /home/felipe/anaconda3/envs/breg/lib/python3.10/site-packages (from scikit-learn) (1.11.1)\n",
      "Requirement already satisfied: joblib>=1.1.1 in /home/felipe/anaconda3/envs/breg/lib/python3.10/site-packages (from scikit-learn) (1.3.2)\n",
      "Requirement already satisfied: threadpoolctl>=2.0.0 in /home/felipe/anaconda3/envs/breg/lib/python3.10/site-packages (from scikit-learn) (3.2.0)\n",
      "Requirement already satisfied: six>=1.5 in /home/felipe/anaconda3/envs/breg/lib/python3.10/site-packages (from python-dateutil>=2.8.2->pandas) (1.16.0)\n"
     ]
    }
   ],
   "source": [
    "## If local runtime, python=3.10.12\n",
    "## ln -sf /usr/lib/x86_64-linux-gnu/libstdc++.so.6 /home/felipe/anaconda3/envs/breg/bin/../lib/libstdc++.so.6\n",
    "!pip install -U pandas matplotlib networkx scikit-learn seaborn"
   ]
  },
  {
   "cell_type": "code",
   "execution_count": 3,
   "id": "wqMKN-tSMM0L",
   "metadata": {
    "colab": {
     "base_uri": "https://localhost:8080/"
    },
    "id": "wqMKN-tSMM0L",
    "outputId": "69ff1812-8a88-4a42-8647-aaa0cb45a007"
   },
   "outputs": [
    {
     "name": "stdout",
     "output_type": "stream",
     "text": [
      "Requirement already satisfied: torchvision in /home/felipe/anaconda3/envs/breg/lib/python3.10/site-packages (0.15.2)\n",
      "Requirement already satisfied: torch_geometric in /home/felipe/anaconda3/envs/breg/lib/python3.10/site-packages (2.3.1)\n",
      "Requirement already satisfied: numpy in /home/felipe/anaconda3/envs/breg/lib/python3.10/site-packages (from torchvision) (1.24.4)\n",
      "Requirement already satisfied: requests in /home/felipe/anaconda3/envs/breg/lib/python3.10/site-packages (from torchvision) (2.31.0)\n",
      "Requirement already satisfied: torch==2.0.1 in /home/felipe/anaconda3/envs/breg/lib/python3.10/site-packages (from torchvision) (2.0.1)\n",
      "Requirement already satisfied: pillow!=8.3.*,>=5.3.0 in /home/felipe/anaconda3/envs/breg/lib/python3.10/site-packages (from torchvision) (10.0.0)\n",
      "Requirement already satisfied: filelock in /home/felipe/anaconda3/envs/breg/lib/python3.10/site-packages (from torch==2.0.1->torchvision) (3.12.2)\n",
      "Requirement already satisfied: typing-extensions in /home/felipe/anaconda3/envs/breg/lib/python3.10/site-packages (from torch==2.0.1->torchvision) (4.7.1)\n",
      "Requirement already satisfied: sympy in /home/felipe/anaconda3/envs/breg/lib/python3.10/site-packages (from torch==2.0.1->torchvision) (1.12)\n",
      "Requirement already satisfied: networkx in /home/felipe/anaconda3/envs/breg/lib/python3.10/site-packages (from torch==2.0.1->torchvision) (3.1)\n",
      "Requirement already satisfied: jinja2 in /home/felipe/anaconda3/envs/breg/lib/python3.10/site-packages (from torch==2.0.1->torchvision) (3.1.2)\n",
      "Requirement already satisfied: nvidia-cuda-nvrtc-cu11==11.7.99 in /home/felipe/anaconda3/envs/breg/lib/python3.10/site-packages (from torch==2.0.1->torchvision) (11.7.99)\n",
      "Requirement already satisfied: nvidia-cuda-runtime-cu11==11.7.99 in /home/felipe/anaconda3/envs/breg/lib/python3.10/site-packages (from torch==2.0.1->torchvision) (11.7.99)\n",
      "Requirement already satisfied: nvidia-cuda-cupti-cu11==11.7.101 in /home/felipe/anaconda3/envs/breg/lib/python3.10/site-packages (from torch==2.0.1->torchvision) (11.7.101)\n",
      "Requirement already satisfied: nvidia-cudnn-cu11==8.5.0.96 in /home/felipe/anaconda3/envs/breg/lib/python3.10/site-packages (from torch==2.0.1->torchvision) (8.5.0.96)\n",
      "Requirement already satisfied: nvidia-cublas-cu11==11.10.3.66 in /home/felipe/anaconda3/envs/breg/lib/python3.10/site-packages (from torch==2.0.1->torchvision) (11.10.3.66)\n",
      "Requirement already satisfied: nvidia-cufft-cu11==10.9.0.58 in /home/felipe/anaconda3/envs/breg/lib/python3.10/site-packages (from torch==2.0.1->torchvision) (10.9.0.58)\n",
      "Requirement already satisfied: nvidia-curand-cu11==10.2.10.91 in /home/felipe/anaconda3/envs/breg/lib/python3.10/site-packages (from torch==2.0.1->torchvision) (10.2.10.91)\n",
      "Requirement already satisfied: nvidia-cusolver-cu11==11.4.0.1 in /home/felipe/anaconda3/envs/breg/lib/python3.10/site-packages (from torch==2.0.1->torchvision) (11.4.0.1)\n",
      "Requirement already satisfied: nvidia-cusparse-cu11==11.7.4.91 in /home/felipe/anaconda3/envs/breg/lib/python3.10/site-packages (from torch==2.0.1->torchvision) (11.7.4.91)\n",
      "Requirement already satisfied: nvidia-nccl-cu11==2.14.3 in /home/felipe/anaconda3/envs/breg/lib/python3.10/site-packages (from torch==2.0.1->torchvision) (2.14.3)\n",
      "Requirement already satisfied: nvidia-nvtx-cu11==11.7.91 in /home/felipe/anaconda3/envs/breg/lib/python3.10/site-packages (from torch==2.0.1->torchvision) (11.7.91)\n",
      "Requirement already satisfied: triton==2.0.0 in /home/felipe/anaconda3/envs/breg/lib/python3.10/site-packages (from torch==2.0.1->torchvision) (2.0.0)\n",
      "Requirement already satisfied: setuptools in /home/felipe/anaconda3/envs/breg/lib/python3.10/site-packages (from nvidia-cublas-cu11==11.10.3.66->torch==2.0.1->torchvision) (68.0.0)\n",
      "Requirement already satisfied: wheel in /home/felipe/anaconda3/envs/breg/lib/python3.10/site-packages (from nvidia-cublas-cu11==11.10.3.66->torch==2.0.1->torchvision) (0.38.4)\n",
      "Requirement already satisfied: cmake in /home/felipe/anaconda3/envs/breg/lib/python3.10/site-packages (from triton==2.0.0->torch==2.0.1->torchvision) (3.27.2)\n",
      "Requirement already satisfied: lit in /home/felipe/anaconda3/envs/breg/lib/python3.10/site-packages (from triton==2.0.0->torch==2.0.1->torchvision) (16.0.6)\n",
      "Requirement already satisfied: tqdm in /home/felipe/anaconda3/envs/breg/lib/python3.10/site-packages (from torch_geometric) (4.66.1)\n",
      "Requirement already satisfied: scipy in /home/felipe/anaconda3/envs/breg/lib/python3.10/site-packages (from torch_geometric) (1.11.1)\n",
      "Requirement already satisfied: pyparsing in /home/felipe/anaconda3/envs/breg/lib/python3.10/site-packages (from torch_geometric) (3.0.9)\n",
      "Requirement already satisfied: scikit-learn in /home/felipe/anaconda3/envs/breg/lib/python3.10/site-packages (from torch_geometric) (1.3.0)\n",
      "Requirement already satisfied: psutil>=5.8.0 in /home/felipe/anaconda3/envs/breg/lib/python3.10/site-packages (from torch_geometric) (5.9.0)\n",
      "Requirement already satisfied: MarkupSafe>=2.0 in /home/felipe/anaconda3/envs/breg/lib/python3.10/site-packages (from jinja2->torch==2.0.1->torchvision) (2.1.1)\n",
      "Requirement already satisfied: charset-normalizer<4,>=2 in /home/felipe/anaconda3/envs/breg/lib/python3.10/site-packages (from requests->torchvision) (3.2.0)\n",
      "Requirement already satisfied: idna<4,>=2.5 in /home/felipe/anaconda3/envs/breg/lib/python3.10/site-packages (from requests->torchvision) (3.4)\n",
      "Requirement already satisfied: urllib3<3,>=1.21.1 in /home/felipe/anaconda3/envs/breg/lib/python3.10/site-packages (from requests->torchvision) (2.0.4)\n",
      "Requirement already satisfied: certifi>=2017.4.17 in /home/felipe/anaconda3/envs/breg/lib/python3.10/site-packages (from requests->torchvision) (2023.7.22)\n",
      "Requirement already satisfied: joblib>=1.1.1 in /home/felipe/anaconda3/envs/breg/lib/python3.10/site-packages (from scikit-learn->torch_geometric) (1.3.2)\n",
      "Requirement already satisfied: threadpoolctl>=2.0.0 in /home/felipe/anaconda3/envs/breg/lib/python3.10/site-packages (from scikit-learn->torch_geometric) (3.2.0)\n",
      "Requirement already satisfied: mpmath>=0.19 in /home/felipe/anaconda3/envs/breg/lib/python3.10/site-packages (from sympy->torch==2.0.1->torchvision) (1.3.0)\n",
      "Requirement already satisfied: rpy2==3.5.1 in /home/felipe/anaconda3/envs/breg/lib/python3.10/site-packages (3.5.1)\n",
      "Requirement already satisfied: cffi>=1.10.0 in /home/felipe/anaconda3/envs/breg/lib/python3.10/site-packages (from rpy2==3.5.1) (1.15.1)\n",
      "Requirement already satisfied: jinja2 in /home/felipe/anaconda3/envs/breg/lib/python3.10/site-packages (from rpy2==3.5.1) (3.1.2)\n",
      "Requirement already satisfied: pytz in /home/felipe/anaconda3/envs/breg/lib/python3.10/site-packages (from rpy2==3.5.1) (2023.3)\n",
      "Requirement already satisfied: tzlocal in /home/felipe/anaconda3/envs/breg/lib/python3.10/site-packages (from rpy2==3.5.1) (5.0.1)\n",
      "Requirement already satisfied: pycparser in /home/felipe/anaconda3/envs/breg/lib/python3.10/site-packages (from cffi>=1.10.0->rpy2==3.5.1) (2.21)\n",
      "Requirement already satisfied: MarkupSafe>=2.0 in /home/felipe/anaconda3/envs/breg/lib/python3.10/site-packages (from jinja2->rpy2==3.5.1) (2.1.1)\n",
      "Requirement already satisfied: umap-learn in /home/felipe/anaconda3/envs/breg/lib/python3.10/site-packages (0.5.3)\n",
      "Requirement already satisfied: numpy>=1.17 in /home/felipe/anaconda3/envs/breg/lib/python3.10/site-packages (from umap-learn) (1.24.4)\n",
      "Requirement already satisfied: scikit-learn>=0.22 in /home/felipe/anaconda3/envs/breg/lib/python3.10/site-packages (from umap-learn) (1.3.0)\n",
      "Requirement already satisfied: scipy>=1.0 in /home/felipe/anaconda3/envs/breg/lib/python3.10/site-packages (from umap-learn) (1.11.1)\n",
      "Requirement already satisfied: numba>=0.49 in /home/felipe/anaconda3/envs/breg/lib/python3.10/site-packages (from umap-learn) (0.57.1)\n",
      "Requirement already satisfied: pynndescent>=0.5 in /home/felipe/anaconda3/envs/breg/lib/python3.10/site-packages (from umap-learn) (0.5.10)\n",
      "Requirement already satisfied: tqdm in /home/felipe/anaconda3/envs/breg/lib/python3.10/site-packages (from umap-learn) (4.66.1)\n",
      "Requirement already satisfied: llvmlite<0.41,>=0.40.0dev0 in /home/felipe/anaconda3/envs/breg/lib/python3.10/site-packages (from numba>=0.49->umap-learn) (0.40.1)\n",
      "Requirement already satisfied: joblib>=0.11 in /home/felipe/anaconda3/envs/breg/lib/python3.10/site-packages (from pynndescent>=0.5->umap-learn) (1.3.2)\n"
     ]
    },
    {
     "name": "stdout",
     "output_type": "stream",
     "text": [
      "Requirement already satisfied: threadpoolctl>=2.0.0 in /home/felipe/anaconda3/envs/breg/lib/python3.10/site-packages (from scikit-learn>=0.22->umap-learn) (3.2.0)\n",
      "Requirement already satisfied: igraph in /home/felipe/anaconda3/envs/breg/lib/python3.10/site-packages (0.10.6)\n",
      "Requirement already satisfied: texttable>=1.6.2 in /home/felipe/anaconda3/envs/breg/lib/python3.10/site-packages (from igraph) (1.6.7)\n",
      "Requirement already satisfied: find-julia in /home/felipe/anaconda3/envs/breg/lib/python3.10/site-packages (0.2.9)\n",
      "Requirement already satisfied: julia-semver in /home/felipe/anaconda3/envs/breg/lib/python3.10/site-packages (from find-julia) (0.1.3)\n",
      "Requirement already satisfied: jill in /home/felipe/anaconda3/envs/breg/lib/python3.10/site-packages (from find-julia) (0.11.5)\n",
      "Requirement already satisfied: fire<0.6.0,>=0.5.0 in /home/felipe/anaconda3/envs/breg/lib/python3.10/site-packages (from jill->find-julia) (0.5.0)\n",
      "Requirement already satisfied: jsonschema<5.0.0,>=4.17.3 in /home/felipe/anaconda3/envs/breg/lib/python3.10/site-packages (from jill->find-julia) (4.17.3)\n",
      "Requirement already satisfied: python-gnupg<0.6.0,>=0.5.0 in /home/felipe/anaconda3/envs/breg/lib/python3.10/site-packages (from jill->find-julia) (0.5.1)\n",
      "Requirement already satisfied: requests<3.0.0,>=2.28.2 in /home/felipe/anaconda3/envs/breg/lib/python3.10/site-packages (from jill->find-julia) (2.31.0)\n",
      "Requirement already satisfied: requests-futures<2.0.0,>=1.0.0 in /home/felipe/anaconda3/envs/breg/lib/python3.10/site-packages (from jill->find-julia) (1.0.1)\n",
      "Requirement already satisfied: semantic-version<3.0.0,>=2.10.0 in /home/felipe/anaconda3/envs/breg/lib/python3.10/site-packages (from jill->find-julia) (2.10.0)\n",
      "Requirement already satisfied: wget<4.0,>=3.2 in /home/felipe/anaconda3/envs/breg/lib/python3.10/site-packages (from jill->find-julia) (3.2)\n",
      "Requirement already satisfied: six in /home/felipe/anaconda3/envs/breg/lib/python3.10/site-packages (from fire<0.6.0,>=0.5.0->jill->find-julia) (1.16.0)\n",
      "Requirement already satisfied: termcolor in /home/felipe/anaconda3/envs/breg/lib/python3.10/site-packages (from fire<0.6.0,>=0.5.0->jill->find-julia) (2.3.0)\n",
      "Requirement already satisfied: attrs>=17.4.0 in /home/felipe/anaconda3/envs/breg/lib/python3.10/site-packages (from jsonschema<5.0.0,>=4.17.3->jill->find-julia) (22.1.0)\n",
      "Requirement already satisfied: pyrsistent!=0.17.0,!=0.17.1,!=0.17.2,>=0.14.0 in /home/felipe/anaconda3/envs/breg/lib/python3.10/site-packages (from jsonschema<5.0.0,>=4.17.3->jill->find-julia) (0.18.0)\n",
      "Requirement already satisfied: charset-normalizer<4,>=2 in /home/felipe/anaconda3/envs/breg/lib/python3.10/site-packages (from requests<3.0.0,>=2.28.2->jill->find-julia) (3.2.0)\n",
      "Requirement already satisfied: idna<4,>=2.5 in /home/felipe/anaconda3/envs/breg/lib/python3.10/site-packages (from requests<3.0.0,>=2.28.2->jill->find-julia) (3.4)\n",
      "Requirement already satisfied: urllib3<3,>=1.21.1 in /home/felipe/anaconda3/envs/breg/lib/python3.10/site-packages (from requests<3.0.0,>=2.28.2->jill->find-julia) (2.0.4)\n",
      "Requirement already satisfied: certifi>=2017.4.17 in /home/felipe/anaconda3/envs/breg/lib/python3.10/site-packages (from requests<3.0.0,>=2.28.2->jill->find-julia) (2023.7.22)\n",
      "Collecting git+https://github.com/FelipeSchreiber/BregmanClustering.git\n",
      "  Cloning https://github.com/FelipeSchreiber/BregmanClustering.git to /tmp/pip-req-build-vszebsld\n",
      "  Running command git clone --filter=blob:none --quiet https://github.com/FelipeSchreiber/BregmanClustering.git /tmp/pip-req-build-vszebsld\n",
      "  Resolved https://github.com/FelipeSchreiber/BregmanClustering.git to commit 7369ecd32df1a66581bc8aa25bfc7e2135545a2e\n",
      "  Preparing metadata (setup.py) ... \u001b[?25ldone\n",
      "\u001b[?25hBuilding wheels for collected packages: bregClust\n",
      "  Building wheel for bregClust (setup.py) ... \u001b[?25ldone\n",
      "\u001b[?25h  Created wheel for bregClust: filename=bregClust-1.0-py3-none-any.whl size=46522 sha256=ad2239c016bcc5ab400ddf19b30d0b20f8d1447f962da409bbb5032fd800447c\n",
      "  Stored in directory: /tmp/pip-ephem-wheel-cache-r9q7ghga/wheels/3f/90/fb/833529540c1d5f19c385fde761cc07c664c4b9a5edf7c6735b\n",
      "Successfully built bregClust\n",
      "Installing collected packages: bregClust\n",
      "  Attempting uninstall: bregClust\n",
      "    Found existing installation: bregClust 1.0\n",
      "    Uninstalling bregClust-1.0:\n",
      "      Successfully uninstalled bregClust-1.0\n",
      "Successfully installed bregClust-1.0\n",
      "Requirement already satisfied: leidenalg in /home/felipe/anaconda3/envs/breg/lib/python3.10/site-packages (0.10.1)\n",
      "Requirement already satisfied: igraph<0.11,>=0.10.0 in /home/felipe/anaconda3/envs/breg/lib/python3.10/site-packages (from leidenalg) (0.10.6)\n",
      "Requirement already satisfied: texttable>=1.6.2 in /home/felipe/anaconda3/envs/breg/lib/python3.10/site-packages (from igraph<0.11,>=0.10.0->leidenalg) (1.6.7)\n",
      "True\n"
     ]
    }
   ],
   "source": [
    "!pip install torchvision torch_geometric \n",
    "!pip install rpy2==3.5.1\n",
    "!pip install umap-learn\n",
    "!pip install igraph\n",
    "!pip install find-julia\n",
    "## Install julia if in colab\n",
    "# !wget https://julialang-s3.julialang.org/bin/linux/x64/1.8/julia-1.8.1-linux-x86_64.tar.gz\n",
    "# !tar zxvf julia-1.8.1-linux-x86_64.tar.gz -C /usr/local --strip-components 1\n",
    "!pip install --upgrade --force-reinstall git+https://github.com/FelipeSchreiber/BregmanClustering.git --no-deps\n",
    "!pip install leidenalg\n",
    "import os\n",
    "import pandas as pd\n",
    "import pickle\n",
    "from sys import platform\n",
    "import BregmanTests\n",
    "os.chmod(BregmanTests.__path__[0]+\"/install_algos.sh\",777)\n",
    "if platform == \"win32\":\n",
    "    os.environ[\"R_HOME\"] = r\"C:\\\\Program Files\\R\\R-4.2.3\"\n",
    "else:\n",
    "    ## if local runtime\n",
    "#     os.environ[\"R_HOME\"] = \"/usr/lib/R\"\n",
    "    ### Uncomment line below if in Google Colab environment\n",
    "    print(os.path.isfile(BregmanTests.__path__[0]+\"/install_algos.sh\"))\n",
    "    ### Done"
   ]
  },
  {
   "cell_type": "code",
   "execution_count": 4,
   "id": "4w2gsGfqMbhn",
   "metadata": {
    "id": "4w2gsGfqMbhn"
   },
   "outputs": [
    {
     "name": "stdout",
     "output_type": "stream",
     "text": [
      "Downloading packages from github...\n",
      "\n",
      "Accessing /home/felipe/anaconda3/envs/breg/lib/python3.10/site-packages/BregmanTests/install_algos.sh\n"
     ]
    },
    {
     "name": "stderr",
     "output_type": "stream",
     "text": [
      "Cloning into 'CSBM'...\n",
      "Cloning into 'AttributedSBM'...\n",
      "Cloning into 'ABCDGraphGenerator.jl'...\n",
      "Cloning into 'validation_indices'...\n",
      "/home/felipe/anaconda3/envs/breg/lib/python3.10/site-packages/BregmanTests/install_algos.sh: 9: cd: can't cd to ./ABCDGraphGenerator.jl/utils/\n",
      "\n",
      "[255334] signal (11.1): Segmentation fault\n",
      "in expression starting at none:0\n",
      "pthread_mutex_init at /usr/lib/x86_64-linux-gnu/libc.so.6 (unknown line)\n",
      "unknown function (ip: 0x7f7c4e092043)\n",
      "mbedtls_entropy_init at /usr/lib/x86_64-linux-gnu/libmbedcrypto.so.7 (unknown line)\n",
      "_libssh2_mbedtls_init at /home/felipe/julia-1.9.1-linux-x86_64/julia-1.9.1/bin/../lib/julia/libssh2.so.1 (unknown line)\n",
      "libssh2_init at /home/felipe/julia-1.9.1-linux-x86_64/julia-1.9.1/bin/../lib/julia/libssh2.so.1 (unknown line)\n",
      "Curl_ssh_init at /home/felipe/julia-1.9.1-linux-x86_64/julia-1.9.1/bin/../lib/julia/libcurl.so (unknown line)\n",
      "global_init at /home/felipe/julia-1.9.1-linux-x86_64/julia-1.9.1/bin/../lib/julia/libcurl.so (unknown line)\n",
      "curl_global_init at /cache/build/default-amdci4-6/julialang/julia-release-1-dot-9/usr/share/julia/stdlib/v1.9/LibCURL/src/lC_curl_h.jl:98 [inlined]\n",
      "macro expansion at /cache/build/default-amdci4-6/julialang/julia-release-1-dot-9/usr/share/julia/stdlib/v1.9/Downloads/src/Curl/utils.jl:56 [inlined]\n",
      "__init__ at /cache/build/default-amdci4-6/julialang/julia-release-1-dot-9/usr/share/julia/stdlib/v1.9/Downloads/src/Curl/Curl.jl:68\n",
      "jfptr___init___62209.clone_1 at /home/felipe/julia-1.9.1-linux-x86_64/julia-1.9.1/lib/julia/sys.so (unknown line)\n",
      "_jl_invoke at /cache/build/default-amdci4-6/julialang/julia-release-1-dot-9/src/gf.c:2758 [inlined]\n",
      "ijl_apply_generic at /cache/build/default-amdci4-6/julialang/julia-release-1-dot-9/src/gf.c:2940\n",
      "jl_apply at /cache/build/default-amdci4-6/julialang/julia-release-1-dot-9/src/julia.h:1879 [inlined]\n",
      "jl_module_run_initializer at /cache/build/default-amdci4-6/julialang/julia-release-1-dot-9/src/toplevel.c:75\n",
      "_finish_julia_init at /cache/build/default-amdci4-6/julialang/julia-release-1-dot-9/src/init.c:855\n",
      "julia_init at /cache/build/default-amdci4-6/julialang/julia-release-1-dot-9/src/init.c:804\n",
      "jl_repl_entrypoint at /cache/build/default-amdci4-6/julialang/julia-release-1-dot-9/src/jlapi.c:711\n",
      "main at julia (unknown line)\n",
      "unknown function (ip: 0x7f7c64e23a8f)\n",
      "__libc_start_main at /usr/lib/x86_64-linux-gnu/libc.so.6 (unknown line)\n",
      "unknown function (ip: 0x401098)\n",
      "Allocations: 2997 (Pool: 2985; Big: 12); GC: 0\n",
      "Segmentation fault (core dumped)\n"
     ]
    },
    {
     "name": "stdout",
     "output_type": "stream",
     "text": [
      "Installing R packages...\n",
      " This step takes about 5 min...\n",
      "\n",
      "\n",
      "    WARNING: The R package \"reticulate\" does not\n",
      "    consider that it could be called from a Python process. This\n",
      "    results in a quasi-obligatory segfault when rpy2 is evaluating\n",
      "    R code using it. On the hand, rpy2 is accounting for the\n",
      "    fact that it might already be running embedded in a Python\n",
      "    process. This is why:\n",
      "    - Python -> rpy2 -> R -> reticulate: crashes\n",
      "    - R -> reticulate -> Python -> rpy2: works\n",
      "\n",
      "    The issue with reticulate is tracked here:\n",
      "    https://github.com/rstudio/reticulate/issues/208\n",
      "    "
     ]
    },
    {
     "name": "stderr",
     "output_type": "stream",
     "text": [
      "* installing *source* package ‘igraph’ ...\n",
      "** package ‘igraph’ successfully unpacked and MD5 sums checked\n",
      "** using staged installation\n"
     ]
    },
    {
     "name": "stdout",
     "output_type": "stream",
     "text": [
      "checking for x86_64-conda-linux-gnu-gcc... gcc\n",
      "checking whether the C compiler works... yes\n",
      "checking for C compiler default output file name... a.out\n",
      "checking for suffix of executables... \n",
      "checking whether we are cross compiling... no\n",
      "checking for suffix of object files... o\n",
      "checking whether the compiler supports GNU C... yes\n",
      "checking whether gcc accepts -g... yes\n",
      "checking for gcc option to enable C11 features... none needed\n",
      "checking whether the compiler supports GNU C++... yes\n",
      "checking whether g++ -std=gnu++11 accepts -g... yes\n",
      "checking for g++ -std=gnu++11 option to enable C++11 features... none needed\n",
      "checking for x86_64-conda-linux-gnu-gfortran... gfortran\n",
      "checking whether the compiler supports GNU Fortran... yes\n",
      "checking whether gfortran accepts -g... yes\n",
      "checking for expm1... yes\n",
      "checking for fmin... yes\n",
      "checking for finite... yes\n",
      "checking for log2... yes\n",
      "checking for log1p... yes\n",
      "checking for rint... yes\n",
      "checking for rintf... yes\n",
      "checking for round... yes\n",
      "checking for stpcpy... yes\n",
      "checking for strcasecmp... yes\n",
      "checking for _stricmp... no\n",
      "checking for strdup... yes\n",
      "checking for isfinite... no\n",
      "checking for stdio.h... yes\n",
      "checking for stdlib.h... yes\n",
      "checking for string.h... yes\n",
      "checking for inttypes.h... yes\n",
      "checking for stdint.h... yes\n",
      "checking for strings.h... yes\n",
      "checking for sys/stat.h... yes\n",
      "checking for sys/types.h... yes\n",
      "checking for unistd.h... yes\n",
      "checking for sys/times.h... yes\n",
      "checking for net/if.h... yes\n",
      "checking for netinet/in.h... yes\n",
      "checking for net/if_dl.h... no\n",
      "checking for sys/sockio.h... no\n",
      "checking for sys/un.h... yes\n",
      "checking for sys/socket.h... yes\n",
      "checking for sys/ioctl.h... yes\n",
      "checking for sys/time.h... yes\n",
      "checking for sys/file.h... yes\n",
      "checking for struct sockaddr.sa_len... no\n",
      "checking for xml2-config... /home/felipe/anaconda3/envs/breg/bin/xml2-config\n",
      "checking for xmlSAXUserParseFile in -lxml2... yes\n",
      "checking for libxml/parser.h... yes\n",
      "checking for __gmpz_add in -lgmp... no\n",
      "checking how to run the C++ preprocessor... g++ -std=gnu++11 -E\n",
      "checking for grep that handles long lines and -e... /usr/bin/grep\n",
      "checking for egrep... /usr/bin/grep -E\n",
      "checking for glp_read_mps in -lglpk... no\n",
      "configure: creating ./config.status\n",
      "config.status: creating src/Makevars.tmp\n",
      "config.status: creating src/Makevars\n",
      "config.status: creating src/config.h\n",
      "\n",
      "*** Compiler settings used:\n",
      "    CC=gcc\n",
      "    LD=/home/felipe/anaconda3/envs/breg/bin/x86_64-conda-linux-gnu-ld\n",
      "    CFLAGS=-g -O2 -ffile-prefix-map=/build/r-base-VHKDZm/r-base-4.2.2.20221110=. -fstack-protector-strong -Wformat -Werror=format-security -fdebug-prefix-map=/build/r-base-VHKDZm/r-base-4.2.2.20221110=/usr/src/r-base-4.2.2.20221110-2build1 -Wdate-time -D_FORTIFY_SOURCE=2\n",
      "    CPPFLAGS=\n",
      "    CXX=g++ -std=gnu++11\n",
      "    CXXFLAGS=-g -O2 -ffile-prefix-map=/build/r-base-VHKDZm/r-base-4.2.2.20221110=. -fstack-protector-strong -Wformat -Werror=format-security -fdebug-prefix-map=/build/r-base-VHKDZm/r-base-4.2.2.20221110=/usr/src/r-base-4.2.2.20221110-2build1 -Wdate-time -D_FORTIFY_SOURCE=2\n",
      "    LDFLAGS=-Wl,-Bsymbolic-functions -flto=auto -ffat-lto-objects -Wl,-z,relro\n",
      "    LIBS=\n"
     ]
    },
    {
     "name": "stderr",
     "output_type": "stream",
     "text": [
      "** libs\n"
     ]
    },
    {
     "name": "stdout",
     "output_type": "stream",
     "text": [
      "gcc -I\"/usr/share/R/include\" -DNDEBUG -DUSING_R -I. -Icore -Iinclude -Ivendor -I/home/felipe/anaconda3/envs/breg/include/libxml2 -I/home/felipe/anaconda3/envs/breg/include -DNDEBUG -DNTIMER -DNPRINT -DINTERNAL_ARPACK -DPRPACK_IGRAPH_SUPPORT -DIGRAPH_THREAD_LOCAL=/**/ -D_GNU_SOURCE=1 -I'/home/felipe/R/x86_64-pc-linux-gnu-library/4.2/cpp11/include'   -fvisibility=hidden -fpic  -g -O2 -ffile-prefix-map=/build/r-base-VHKDZm/r-base-4.2.2.20221110=. -fstack-protector-strong -Wformat -Werror=format-security -fdebug-prefix-map=/build/r-base-VHKDZm/r-base-4.2.2.20221110=/usr/src/r-base-4.2.2.20221110-2build1 -Wdate-time -D_FORTIFY_SOURCE=2  -c core/centrality/betweenness.c -o core/centrality/betweenness.o\n",
      "gcc -I\"/usr/share/R/include\" -DNDEBUG -DUSING_R -I. -Icore -Iinclude -Ivendor -I/home/felipe/anaconda3/envs/breg/include/libxml2 -I/home/felipe/anaconda3/envs/breg/include -DNDEBUG -DNTIMER -DNPRINT -DINTERNAL_ARPACK -DPRPACK_IGRAPH_SUPPORT -DIGRAPH_THREAD_LOCAL=/**/ -D_GNU_SOURCE=1 -I'/home/felipe/R/x86_64-pc-linux-gnu-library/4.2/cpp11/include'   -fvisibility=hidden -fpic  -g -O2 -ffile-prefix-map=/build/r-base-VHKDZm/r-base-4.2.2.20221110=. -fstack-protector-strong -Wformat -Werror=format-security -fdebug-prefix-map=/build/r-base-VHKDZm/r-base-4.2.2.20221110=/usr/src/r-base-4.2.2.20221110-2build1 -Wdate-time -D_FORTIFY_SOURCE=2  -c core/centrality/centrality_other.c -o core/centrality/centrality_other.o\n",
      "gcc -I\"/usr/share/R/include\" -DNDEBUG -DUSING_R -I. -Icore -Iinclude -Ivendor -I/home/felipe/anaconda3/envs/breg/include/libxml2 -I/home/felipe/anaconda3/envs/breg/include -DNDEBUG -DNTIMER -DNPRINT -DINTERNAL_ARPACK -DPRPACK_IGRAPH_SUPPORT -DIGRAPH_THREAD_LOCAL=/**/ -D_GNU_SOURCE=1 -I'/home/felipe/R/x86_64-pc-linux-gnu-library/4.2/cpp11/include'   -fvisibility=hidden -fpic  -g -O2 -ffile-prefix-map=/build/r-base-VHKDZm/r-base-4.2.2.20221110=. -fstack-protector-strong -Wformat -Werror=format-security -fdebug-prefix-map=/build/r-base-VHKDZm/r-base-4.2.2.20221110=/usr/src/r-base-4.2.2.20221110-2build1 -Wdate-time -D_FORTIFY_SOURCE=2  -c core/centrality/centralization.c -o core/centrality/centralization.o\n",
      "gcc -I\"/usr/share/R/include\" -DNDEBUG -DUSING_R -I. -Icore -Iinclude -Ivendor -I/home/felipe/anaconda3/envs/breg/include/libxml2 -I/home/felipe/anaconda3/envs/breg/include -DNDEBUG -DNTIMER -DNPRINT -DINTERNAL_ARPACK -DPRPACK_IGRAPH_SUPPORT -DIGRAPH_THREAD_LOCAL=/**/ -D_GNU_SOURCE=1 -I'/home/felipe/R/x86_64-pc-linux-gnu-library/4.2/cpp11/include'   -fvisibility=hidden -fpic  -g -O2 -ffile-prefix-map=/build/r-base-VHKDZm/r-base-4.2.2.20221110=. -fstack-protector-strong -Wformat -Werror=format-security -fdebug-prefix-map=/build/r-base-VHKDZm/r-base-4.2.2.20221110=/usr/src/r-base-4.2.2.20221110-2build1 -Wdate-time -D_FORTIFY_SOURCE=2  -c core/centrality/closeness.c -o core/centrality/closeness.o\n",
      "gcc -I\"/usr/share/R/include\" -DNDEBUG -DUSING_R -I. -Icore -Iinclude -Ivendor -I/home/felipe/anaconda3/envs/breg/include/libxml2 -I/home/felipe/anaconda3/envs/breg/include -DNDEBUG -DNTIMER -DNPRINT -DINTERNAL_ARPACK -DPRPACK_IGRAPH_SUPPORT -DIGRAPH_THREAD_LOCAL=/**/ -D_GNU_SOURCE=1 -I'/home/felipe/R/x86_64-pc-linux-gnu-library/4.2/cpp11/include'   -fvisibility=hidden -fpic  -g -O2 -ffile-prefix-map=/build/r-base-VHKDZm/r-base-4.2.2.20221110=. -fstack-protector-strong -Wformat -Werror=format-security -fdebug-prefix-map=/build/r-base-VHKDZm/r-base-4.2.2.20221110=/usr/src/r-base-4.2.2.20221110-2build1 -Wdate-time -D_FORTIFY_SOURCE=2  -c core/centrality/coreness.c -o core/centrality/coreness.o\n",
      "g++ -std=gnu++14 -I\"/usr/share/R/include\" -DNDEBUG -DUSING_R -I. -Icore -Iinclude -Ivendor -I/home/felipe/anaconda3/envs/breg/include/libxml2 -I/home/felipe/anaconda3/envs/breg/include -DNDEBUG -DNTIMER -DNPRINT -DINTERNAL_ARPACK -DPRPACK_IGRAPH_SUPPORT -DIGRAPH_THREAD_LOCAL=/**/ -D_GNU_SOURCE=1 -I'/home/felipe/R/x86_64-pc-linux-gnu-library/4.2/cpp11/include'   -fvisibility=hidden -fpic  -g -O2 -ffile-prefix-map=/build/r-base-VHKDZm/r-base-4.2.2.20221110=. -fstack-protector-strong -Wformat -Werror=format-security -fdebug-prefix-map=/build/r-base-VHKDZm/r-base-4.2.2.20221110=/usr/src/r-base-4.2.2.20221110-2build1 -Wdate-time -D_FORTIFY_SOURCE=2  -c core/centrality/prpack.cpp -o core/centrality/prpack.o\n",
      "g++ -std=gnu++14 -I\"/usr/share/R/include\" -DNDEBUG -DUSING_R -I. -Icore -Iinclude -Ivendor -I/home/felipe/anaconda3/envs/breg/include/libxml2 -I/home/felipe/anaconda3/envs/breg/include -DNDEBUG -DNTIMER -DNPRINT -DINTERNAL_ARPACK -DPRPACK_IGRAPH_SUPPORT -DIGRAPH_THREAD_LOCAL=/**/ -D_GNU_SOURCE=1 -I'/home/felipe/R/x86_64-pc-linux-gnu-library/4.2/cpp11/include'   -fvisibility=hidden -fpic  -g -O2 -ffile-prefix-map=/build/r-base-VHKDZm/r-base-4.2.2.20221110=. -fstack-protector-strong -Wformat -Werror=format-security -fdebug-prefix-map=/build/r-base-VHKDZm/r-base-4.2.2.20221110=/usr/src/r-base-4.2.2.20221110-2build1 -Wdate-time -D_FORTIFY_SOURCE=2  -c core/centrality/prpack/prpack_base_graph.cpp -o core/centrality/prpack/prpack_base_graph.o\n",
      "g++ -std=gnu++14 -I\"/usr/share/R/include\" -DNDEBUG -DUSING_R -I. -Icore -Iinclude -Ivendor -I/home/felipe/anaconda3/envs/breg/include/libxml2 -I/home/felipe/anaconda3/envs/breg/include -DNDEBUG -DNTIMER -DNPRINT -DINTERNAL_ARPACK -DPRPACK_IGRAPH_SUPPORT -DIGRAPH_THREAD_LOCAL=/**/ -D_GNU_SOURCE=1 -I'/home/felipe/R/x86_64-pc-linux-gnu-library/4.2/cpp11/include'   -fvisibility=hidden -fpic  -g -O2 -ffile-prefix-map=/build/r-base-VHKDZm/r-base-4.2.2.20221110=. -fstack-protector-strong -Wformat -Werror=format-security -fdebug-prefix-map=/build/r-base-VHKDZm/r-base-4.2.2.20221110=/usr/src/r-base-4.2.2.20221110-2build1 -Wdate-time -D_FORTIFY_SOURCE=2  -c core/centrality/prpack/prpack_igraph_graph.cpp -o core/centrality/prpack/prpack_igraph_graph.o\n",
      "g++ -std=gnu++14 -I\"/usr/share/R/include\" -DNDEBUG -DUSING_R -I. -Icore -Iinclude -Ivendor -I/home/felipe/anaconda3/envs/breg/include/libxml2 -I/home/felipe/anaconda3/envs/breg/include -DNDEBUG -DNTIMER -DNPRINT -DINTERNAL_ARPACK -DPRPACK_IGRAPH_SUPPORT -DIGRAPH_THREAD_LOCAL=/**/ -D_GNU_SOURCE=1 -I'/home/felipe/R/x86_64-pc-linux-gnu-library/4.2/cpp11/include'   -fvisibility=hidden -fpic  -g -O2 -ffile-prefix-map=/build/r-base-VHKDZm/r-base-4.2.2.20221110=. -fstack-protector-strong -Wformat -Werror=format-security -fdebug-prefix-map=/build/r-base-VHKDZm/r-base-4.2.2.20221110=/usr/src/r-base-4.2.2.20221110-2build1 -Wdate-time -D_FORTIFY_SOURCE=2  -c core/centrality/prpack/prpack_preprocessed_ge_graph.cpp -o core/centrality/prpack/prpack_preprocessed_ge_graph.o\n",
      "g++ -std=gnu++14 -I\"/usr/share/R/include\" -DNDEBUG -DUSING_R -I. -Icore -Iinclude -Ivendor -I/home/felipe/anaconda3/envs/breg/include/libxml2 -I/home/felipe/anaconda3/envs/breg/include -DNDEBUG -DNTIMER -DNPRINT -DINTERNAL_ARPACK -DPRPACK_IGRAPH_SUPPORT -DIGRAPH_THREAD_LOCAL=/**/ -D_GNU_SOURCE=1 -I'/home/felipe/R/x86_64-pc-linux-gnu-library/4.2/cpp11/include'   -fvisibility=hidden -fpic  -g -O2 -ffile-prefix-map=/build/r-base-VHKDZm/r-base-4.2.2.20221110=. -fstack-protector-strong -Wformat -Werror=format-security -fdebug-prefix-map=/build/r-base-VHKDZm/r-base-4.2.2.20221110=/usr/src/r-base-4.2.2.20221110-2build1 -Wdate-time -D_FORTIFY_SOURCE=2  -c core/centrality/prpack/prpack_preprocessed_gs_graph.cpp -o core/centrality/prpack/prpack_preprocessed_gs_graph.o\n",
      "g++ -std=gnu++14 -I\"/usr/share/R/include\" -DNDEBUG -DUSING_R -I. -Icore -Iinclude -Ivendor -I/home/felipe/anaconda3/envs/breg/include/libxml2 -I/home/felipe/anaconda3/envs/breg/include -DNDEBUG -DNTIMER -DNPRINT -DINTERNAL_ARPACK -DPRPACK_IGRAPH_SUPPORT -DIGRAPH_THREAD_LOCAL=/**/ -D_GNU_SOURCE=1 -I'/home/felipe/R/x86_64-pc-linux-gnu-library/4.2/cpp11/include'   -fvisibility=hidden -fpic  -g -O2 -ffile-prefix-map=/build/r-base-VHKDZm/r-base-4.2.2.20221110=. -fstack-protector-strong -Wformat -Werror=format-security -fdebug-prefix-map=/build/r-base-VHKDZm/r-base-4.2.2.20221110=/usr/src/r-base-4.2.2.20221110-2build1 -Wdate-time -D_FORTIFY_SOURCE=2  -c core/centrality/prpack/prpack_preprocessed_scc_graph.cpp -o core/centrality/prpack/prpack_preprocessed_scc_graph.o\n",
      "g++ -std=gnu++14 -I\"/usr/share/R/include\" -DNDEBUG -DUSING_R -I. -Icore -Iinclude -Ivendor -I/home/felipe/anaconda3/envs/breg/include/libxml2 -I/home/felipe/anaconda3/envs/breg/include -DNDEBUG -DNTIMER -DNPRINT -DINTERNAL_ARPACK -DPRPACK_IGRAPH_SUPPORT -DIGRAPH_THREAD_LOCAL=/**/ -D_GNU_SOURCE=1 -I'/home/felipe/R/x86_64-pc-linux-gnu-library/4.2/cpp11/include'   -fvisibility=hidden -fpic  -g -O2 -ffile-prefix-map=/build/r-base-VHKDZm/r-base-4.2.2.20221110=. -fstack-protector-strong -Wformat -Werror=format-security -fdebug-prefix-map=/build/r-base-VHKDZm/r-base-4.2.2.20221110=/usr/src/r-base-4.2.2.20221110-2build1 -Wdate-time -D_FORTIFY_SOURCE=2  -c core/centrality/prpack/prpack_preprocessed_schur_graph.cpp -o core/centrality/prpack/prpack_preprocessed_schur_graph.o\n"
     ]
    },
    {
     "name": "stdout",
     "output_type": "stream",
     "text": [
      "g++ -std=gnu++14 -I\"/usr/share/R/include\" -DNDEBUG -DUSING_R -I. -Icore -Iinclude -Ivendor -I/home/felipe/anaconda3/envs/breg/include/libxml2 -I/home/felipe/anaconda3/envs/breg/include -DNDEBUG -DNTIMER -DNPRINT -DINTERNAL_ARPACK -DPRPACK_IGRAPH_SUPPORT -DIGRAPH_THREAD_LOCAL=/**/ -D_GNU_SOURCE=1 -I'/home/felipe/R/x86_64-pc-linux-gnu-library/4.2/cpp11/include'   -fvisibility=hidden -fpic  -g -O2 -ffile-prefix-map=/build/r-base-VHKDZm/r-base-4.2.2.20221110=. -fstack-protector-strong -Wformat -Werror=format-security -fdebug-prefix-map=/build/r-base-VHKDZm/r-base-4.2.2.20221110=/usr/src/r-base-4.2.2.20221110-2build1 -Wdate-time -D_FORTIFY_SOURCE=2  -c core/centrality/prpack/prpack_result.cpp -o core/centrality/prpack/prpack_result.o\n",
      "g++ -std=gnu++14 -I\"/usr/share/R/include\" -DNDEBUG -DUSING_R -I. -Icore -Iinclude -Ivendor -I/home/felipe/anaconda3/envs/breg/include/libxml2 -I/home/felipe/anaconda3/envs/breg/include -DNDEBUG -DNTIMER -DNPRINT -DINTERNAL_ARPACK -DPRPACK_IGRAPH_SUPPORT -DIGRAPH_THREAD_LOCAL=/**/ -D_GNU_SOURCE=1 -I'/home/felipe/R/x86_64-pc-linux-gnu-library/4.2/cpp11/include'   -fvisibility=hidden -fpic  -g -O2 -ffile-prefix-map=/build/r-base-VHKDZm/r-base-4.2.2.20221110=. -fstack-protector-strong -Wformat -Werror=format-security -fdebug-prefix-map=/build/r-base-VHKDZm/r-base-4.2.2.20221110=/usr/src/r-base-4.2.2.20221110-2build1 -Wdate-time -D_FORTIFY_SOURCE=2  -c core/centrality/prpack/prpack_solver.cpp -o core/centrality/prpack/prpack_solver.o\n",
      "g++ -std=gnu++14 -I\"/usr/share/R/include\" -DNDEBUG -DUSING_R -I. -Icore -Iinclude -Ivendor -I/home/felipe/anaconda3/envs/breg/include/libxml2 -I/home/felipe/anaconda3/envs/breg/include -DNDEBUG -DNTIMER -DNPRINT -DINTERNAL_ARPACK -DPRPACK_IGRAPH_SUPPORT -DIGRAPH_THREAD_LOCAL=/**/ -D_GNU_SOURCE=1 -I'/home/felipe/R/x86_64-pc-linux-gnu-library/4.2/cpp11/include'   -fvisibility=hidden -fpic  -g -O2 -ffile-prefix-map=/build/r-base-VHKDZm/r-base-4.2.2.20221110=. -fstack-protector-strong -Wformat -Werror=format-security -fdebug-prefix-map=/build/r-base-VHKDZm/r-base-4.2.2.20221110=/usr/src/r-base-4.2.2.20221110-2build1 -Wdate-time -D_FORTIFY_SOURCE=2  -c core/centrality/prpack/prpack_utils.cpp -o core/centrality/prpack/prpack_utils.o\n",
      "gcc -I\"/usr/share/R/include\" -DNDEBUG -DUSING_R -I. -Icore -Iinclude -Ivendor -I/home/felipe/anaconda3/envs/breg/include/libxml2 -I/home/felipe/anaconda3/envs/breg/include -DNDEBUG -DNTIMER -DNPRINT -DINTERNAL_ARPACK -DPRPACK_IGRAPH_SUPPORT -DIGRAPH_THREAD_LOCAL=/**/ -D_GNU_SOURCE=1 -I'/home/felipe/R/x86_64-pc-linux-gnu-library/4.2/cpp11/include'   -fvisibility=hidden -fpic  -g -O2 -ffile-prefix-map=/build/r-base-VHKDZm/r-base-4.2.2.20221110=. -fstack-protector-strong -Wformat -Werror=format-security -fdebug-prefix-map=/build/r-base-VHKDZm/r-base-4.2.2.20221110=/usr/src/r-base-4.2.2.20221110-2build1 -Wdate-time -D_FORTIFY_SOURCE=2  -c core/cliques/cliquer/cliquer.c -o core/cliques/cliquer/cliquer.o\n",
      "gcc -I\"/usr/share/R/include\" -DNDEBUG -DUSING_R -I. -Icore -Iinclude -Ivendor -I/home/felipe/anaconda3/envs/breg/include/libxml2 -I/home/felipe/anaconda3/envs/breg/include -DNDEBUG -DNTIMER -DNPRINT -DINTERNAL_ARPACK -DPRPACK_IGRAPH_SUPPORT -DIGRAPH_THREAD_LOCAL=/**/ -D_GNU_SOURCE=1 -I'/home/felipe/R/x86_64-pc-linux-gnu-library/4.2/cpp11/include'   -fvisibility=hidden -fpic  -g -O2 -ffile-prefix-map=/build/r-base-VHKDZm/r-base-4.2.2.20221110=. -fstack-protector-strong -Wformat -Werror=format-security -fdebug-prefix-map=/build/r-base-VHKDZm/r-base-4.2.2.20221110=/usr/src/r-base-4.2.2.20221110-2build1 -Wdate-time -D_FORTIFY_SOURCE=2  -c core/cliques/cliquer/cliquer_graph.c -o core/cliques/cliquer/cliquer_graph.o\n",
      "gcc -I\"/usr/share/R/include\" -DNDEBUG -DUSING_R -I. -Icore -Iinclude -Ivendor -I/home/felipe/anaconda3/envs/breg/include/libxml2 -I/home/felipe/anaconda3/envs/breg/include -DNDEBUG -DNTIMER -DNPRINT -DINTERNAL_ARPACK -DPRPACK_IGRAPH_SUPPORT -DIGRAPH_THREAD_LOCAL=/**/ -D_GNU_SOURCE=1 -I'/home/felipe/R/x86_64-pc-linux-gnu-library/4.2/cpp11/include'   -fvisibility=hidden -fpic  -g -O2 -ffile-prefix-map=/build/r-base-VHKDZm/r-base-4.2.2.20221110=. -fstack-protector-strong -Wformat -Werror=format-security -fdebug-prefix-map=/build/r-base-VHKDZm/r-base-4.2.2.20221110=/usr/src/r-base-4.2.2.20221110-2build1 -Wdate-time -D_FORTIFY_SOURCE=2  -c core/cliques/cliquer/reorder.c -o core/cliques/cliquer/reorder.o\n",
      "gcc -I\"/usr/share/R/include\" -DNDEBUG -DUSING_R -I. -Icore -Iinclude -Ivendor -I/home/felipe/anaconda3/envs/breg/include/libxml2 -I/home/felipe/anaconda3/envs/breg/include -DNDEBUG -DNTIMER -DNPRINT -DINTERNAL_ARPACK -DPRPACK_IGRAPH_SUPPORT -DIGRAPH_THREAD_LOCAL=/**/ -D_GNU_SOURCE=1 -I'/home/felipe/R/x86_64-pc-linux-gnu-library/4.2/cpp11/include'   -fvisibility=hidden -fpic  -g -O2 -ffile-prefix-map=/build/r-base-VHKDZm/r-base-4.2.2.20221110=. -fstack-protector-strong -Wformat -Werror=format-security -fdebug-prefix-map=/build/r-base-VHKDZm/r-base-4.2.2.20221110=/usr/src/r-base-4.2.2.20221110-2build1 -Wdate-time -D_FORTIFY_SOURCE=2  -c core/cliques/cliquer_wrapper.c -o core/cliques/cliquer_wrapper.o\n",
      "gcc -I\"/usr/share/R/include\" -DNDEBUG -DUSING_R -I. -Icore -Iinclude -Ivendor -I/home/felipe/anaconda3/envs/breg/include/libxml2 -I/home/felipe/anaconda3/envs/breg/include -DNDEBUG -DNTIMER -DNPRINT -DINTERNAL_ARPACK -DPRPACK_IGRAPH_SUPPORT -DIGRAPH_THREAD_LOCAL=/**/ -D_GNU_SOURCE=1 -I'/home/felipe/R/x86_64-pc-linux-gnu-library/4.2/cpp11/include'   -fvisibility=hidden -fpic  -g -O2 -ffile-prefix-map=/build/r-base-VHKDZm/r-base-4.2.2.20221110=. -fstack-protector-strong -Wformat -Werror=format-security -fdebug-prefix-map=/build/r-base-VHKDZm/r-base-4.2.2.20221110=/usr/src/r-base-4.2.2.20221110-2build1 -Wdate-time -D_FORTIFY_SOURCE=2  -c core/cliques/cliques.c -o core/cliques/cliques.o\n",
      "gcc -I\"/usr/share/R/include\" -DNDEBUG -DUSING_R -I. -Icore -Iinclude -Ivendor -I/home/felipe/anaconda3/envs/breg/include/libxml2 -I/home/felipe/anaconda3/envs/breg/include -DNDEBUG -DNTIMER -DNPRINT -DINTERNAL_ARPACK -DPRPACK_IGRAPH_SUPPORT -DIGRAPH_THREAD_LOCAL=/**/ -D_GNU_SOURCE=1 -I'/home/felipe/R/x86_64-pc-linux-gnu-library/4.2/cpp11/include'   -fvisibility=hidden -fpic  -g -O2 -ffile-prefix-map=/build/r-base-VHKDZm/r-base-4.2.2.20221110=. -fstack-protector-strong -Wformat -Werror=format-security -fdebug-prefix-map=/build/r-base-VHKDZm/r-base-4.2.2.20221110=/usr/src/r-base-4.2.2.20221110-2build1 -Wdate-time -D_FORTIFY_SOURCE=2  -c core/cliques/glet.c -o core/cliques/glet.o\n",
      "gcc -I\"/usr/share/R/include\" -DNDEBUG -DUSING_R -I. -Icore -Iinclude -Ivendor -I/home/felipe/anaconda3/envs/breg/include/libxml2 -I/home/felipe/anaconda3/envs/breg/include -DNDEBUG -DNTIMER -DNPRINT -DINTERNAL_ARPACK -DPRPACK_IGRAPH_SUPPORT -DIGRAPH_THREAD_LOCAL=/**/ -D_GNU_SOURCE=1 -I'/home/felipe/R/x86_64-pc-linux-gnu-library/4.2/cpp11/include'   -fvisibility=hidden -fpic  -g -O2 -ffile-prefix-map=/build/r-base-VHKDZm/r-base-4.2.2.20221110=. -fstack-protector-strong -Wformat -Werror=format-security -fdebug-prefix-map=/build/r-base-VHKDZm/r-base-4.2.2.20221110=/usr/src/r-base-4.2.2.20221110-2build1 -Wdate-time -D_FORTIFY_SOURCE=2  -c core/cliques/maximal_cliques.c -o core/cliques/maximal_cliques.o\n",
      "gcc -I\"/usr/share/R/include\" -DNDEBUG -DUSING_R -I. -Icore -Iinclude -Ivendor -I/home/felipe/anaconda3/envs/breg/include/libxml2 -I/home/felipe/anaconda3/envs/breg/include -DNDEBUG -DNTIMER -DNPRINT -DINTERNAL_ARPACK -DPRPACK_IGRAPH_SUPPORT -DIGRAPH_THREAD_LOCAL=/**/ -D_GNU_SOURCE=1 -I'/home/felipe/R/x86_64-pc-linux-gnu-library/4.2/cpp11/include'   -fvisibility=hidden -fpic  -g -O2 -ffile-prefix-map=/build/r-base-VHKDZm/r-base-4.2.2.20221110=. -fstack-protector-strong -Wformat -Werror=format-security -fdebug-prefix-map=/build/r-base-VHKDZm/r-base-4.2.2.20221110=/usr/src/r-base-4.2.2.20221110-2build1 -Wdate-time -D_FORTIFY_SOURCE=2  -c core/community/community_misc.c -o core/community/community_misc.o\n",
      "gcc -I\"/usr/share/R/include\" -DNDEBUG -DUSING_R -I. -Icore -Iinclude -Ivendor -I/home/felipe/anaconda3/envs/breg/include/libxml2 -I/home/felipe/anaconda3/envs/breg/include -DNDEBUG -DNTIMER -DNPRINT -DINTERNAL_ARPACK -DPRPACK_IGRAPH_SUPPORT -DIGRAPH_THREAD_LOCAL=/**/ -D_GNU_SOURCE=1 -I'/home/felipe/R/x86_64-pc-linux-gnu-library/4.2/cpp11/include'   -fvisibility=hidden -fpic  -g -O2 -ffile-prefix-map=/build/r-base-VHKDZm/r-base-4.2.2.20221110=. -fstack-protector-strong -Wformat -Werror=format-security -fdebug-prefix-map=/build/r-base-VHKDZm/r-base-4.2.2.20221110=/usr/src/r-base-4.2.2.20221110-2build1 -Wdate-time -D_FORTIFY_SOURCE=2  -c core/community/edge_betweenness.c -o core/community/edge_betweenness.o\n"
     ]
    },
    {
     "name": "stdout",
     "output_type": "stream",
     "text": [
      "gcc -I\"/usr/share/R/include\" -DNDEBUG -DUSING_R -I. -Icore -Iinclude -Ivendor -I/home/felipe/anaconda3/envs/breg/include/libxml2 -I/home/felipe/anaconda3/envs/breg/include -DNDEBUG -DNTIMER -DNPRINT -DINTERNAL_ARPACK -DPRPACK_IGRAPH_SUPPORT -DIGRAPH_THREAD_LOCAL=/**/ -D_GNU_SOURCE=1 -I'/home/felipe/R/x86_64-pc-linux-gnu-library/4.2/cpp11/include'   -fvisibility=hidden -fpic  -g -O2 -ffile-prefix-map=/build/r-base-VHKDZm/r-base-4.2.2.20221110=. -fstack-protector-strong -Wformat -Werror=format-security -fdebug-prefix-map=/build/r-base-VHKDZm/r-base-4.2.2.20221110=/usr/src/r-base-4.2.2.20221110-2build1 -Wdate-time -D_FORTIFY_SOURCE=2  -c core/community/fast_modularity.c -o core/community/fast_modularity.o\n",
      "gcc -I\"/usr/share/R/include\" -DNDEBUG -DUSING_R -I. -Icore -Iinclude -Ivendor -I/home/felipe/anaconda3/envs/breg/include/libxml2 -I/home/felipe/anaconda3/envs/breg/include -DNDEBUG -DNTIMER -DNPRINT -DINTERNAL_ARPACK -DPRPACK_IGRAPH_SUPPORT -DIGRAPH_THREAD_LOCAL=/**/ -D_GNU_SOURCE=1 -I'/home/felipe/R/x86_64-pc-linux-gnu-library/4.2/cpp11/include'   -fvisibility=hidden -fpic  -g -O2 -ffile-prefix-map=/build/r-base-VHKDZm/r-base-4.2.2.20221110=. -fstack-protector-strong -Wformat -Werror=format-security -fdebug-prefix-map=/build/r-base-VHKDZm/r-base-4.2.2.20221110=/usr/src/r-base-4.2.2.20221110-2build1 -Wdate-time -D_FORTIFY_SOURCE=2  -c core/community/fluid.c -o core/community/fluid.o\n",
      "g++ -std=gnu++14 -I\"/usr/share/R/include\" -DNDEBUG -DUSING_R -I. -Icore -Iinclude -Ivendor -I/home/felipe/anaconda3/envs/breg/include/libxml2 -I/home/felipe/anaconda3/envs/breg/include -DNDEBUG -DNTIMER -DNPRINT -DINTERNAL_ARPACK -DPRPACK_IGRAPH_SUPPORT -DIGRAPH_THREAD_LOCAL=/**/ -D_GNU_SOURCE=1 -I'/home/felipe/R/x86_64-pc-linux-gnu-library/4.2/cpp11/include'   -fvisibility=hidden -fpic  -g -O2 -ffile-prefix-map=/build/r-base-VHKDZm/r-base-4.2.2.20221110=. -fstack-protector-strong -Wformat -Werror=format-security -fdebug-prefix-map=/build/r-base-VHKDZm/r-base-4.2.2.20221110=/usr/src/r-base-4.2.2.20221110-2build1 -Wdate-time -D_FORTIFY_SOURCE=2  -c core/community/infomap/infomap.cc -o core/community/infomap/infomap.o\n",
      "g++ -std=gnu++14 -I\"/usr/share/R/include\" -DNDEBUG -DUSING_R -I. -Icore -Iinclude -Ivendor -I/home/felipe/anaconda3/envs/breg/include/libxml2 -I/home/felipe/anaconda3/envs/breg/include -DNDEBUG -DNTIMER -DNPRINT -DINTERNAL_ARPACK -DPRPACK_IGRAPH_SUPPORT -DIGRAPH_THREAD_LOCAL=/**/ -D_GNU_SOURCE=1 -I'/home/felipe/R/x86_64-pc-linux-gnu-library/4.2/cpp11/include'   -fvisibility=hidden -fpic  -g -O2 -ffile-prefix-map=/build/r-base-VHKDZm/r-base-4.2.2.20221110=. -fstack-protector-strong -Wformat -Werror=format-security -fdebug-prefix-map=/build/r-base-VHKDZm/r-base-4.2.2.20221110=/usr/src/r-base-4.2.2.20221110-2build1 -Wdate-time -D_FORTIFY_SOURCE=2  -c core/community/infomap/infomap_FlowGraph.cc -o core/community/infomap/infomap_FlowGraph.o\n",
      "g++ -std=gnu++14 -I\"/usr/share/R/include\" -DNDEBUG -DUSING_R -I. -Icore -Iinclude -Ivendor -I/home/felipe/anaconda3/envs/breg/include/libxml2 -I/home/felipe/anaconda3/envs/breg/include -DNDEBUG -DNTIMER -DNPRINT -DINTERNAL_ARPACK -DPRPACK_IGRAPH_SUPPORT -DIGRAPH_THREAD_LOCAL=/**/ -D_GNU_SOURCE=1 -I'/home/felipe/R/x86_64-pc-linux-gnu-library/4.2/cpp11/include'   -fvisibility=hidden -fpic  -g -O2 -ffile-prefix-map=/build/r-base-VHKDZm/r-base-4.2.2.20221110=. -fstack-protector-strong -Wformat -Werror=format-security -fdebug-prefix-map=/build/r-base-VHKDZm/r-base-4.2.2.20221110=/usr/src/r-base-4.2.2.20221110-2build1 -Wdate-time -D_FORTIFY_SOURCE=2  -c core/community/infomap/infomap_Greedy.cc -o core/community/infomap/infomap_Greedy.o\n",
      "g++ -std=gnu++14 -I\"/usr/share/R/include\" -DNDEBUG -DUSING_R -I. -Icore -Iinclude -Ivendor -I/home/felipe/anaconda3/envs/breg/include/libxml2 -I/home/felipe/anaconda3/envs/breg/include -DNDEBUG -DNTIMER -DNPRINT -DINTERNAL_ARPACK -DPRPACK_IGRAPH_SUPPORT -DIGRAPH_THREAD_LOCAL=/**/ -D_GNU_SOURCE=1 -I'/home/felipe/R/x86_64-pc-linux-gnu-library/4.2/cpp11/include'   -fvisibility=hidden -fpic  -g -O2 -ffile-prefix-map=/build/r-base-VHKDZm/r-base-4.2.2.20221110=. -fstack-protector-strong -Wformat -Werror=format-security -fdebug-prefix-map=/build/r-base-VHKDZm/r-base-4.2.2.20221110=/usr/src/r-base-4.2.2.20221110-2build1 -Wdate-time -D_FORTIFY_SOURCE=2  -c core/community/infomap/infomap_Node.cc -o core/community/infomap/infomap_Node.o\n",
      "gcc -I\"/usr/share/R/include\" -DNDEBUG -DUSING_R -I. -Icore -Iinclude -Ivendor -I/home/felipe/anaconda3/envs/breg/include/libxml2 -I/home/felipe/anaconda3/envs/breg/include -DNDEBUG -DNTIMER -DNPRINT -DINTERNAL_ARPACK -DPRPACK_IGRAPH_SUPPORT -DIGRAPH_THREAD_LOCAL=/**/ -D_GNU_SOURCE=1 -I'/home/felipe/R/x86_64-pc-linux-gnu-library/4.2/cpp11/include'   -fvisibility=hidden -fpic  -g -O2 -ffile-prefix-map=/build/r-base-VHKDZm/r-base-4.2.2.20221110=. -fstack-protector-strong -Wformat -Werror=format-security -fdebug-prefix-map=/build/r-base-VHKDZm/r-base-4.2.2.20221110=/usr/src/r-base-4.2.2.20221110-2build1 -Wdate-time -D_FORTIFY_SOURCE=2  -c core/community/label_propagation.c -o core/community/label_propagation.o\n",
      "gcc -I\"/usr/share/R/include\" -DNDEBUG -DUSING_R -I. -Icore -Iinclude -Ivendor -I/home/felipe/anaconda3/envs/breg/include/libxml2 -I/home/felipe/anaconda3/envs/breg/include -DNDEBUG -DNTIMER -DNPRINT -DINTERNAL_ARPACK -DPRPACK_IGRAPH_SUPPORT -DIGRAPH_THREAD_LOCAL=/**/ -D_GNU_SOURCE=1 -I'/home/felipe/R/x86_64-pc-linux-gnu-library/4.2/cpp11/include'   -fvisibility=hidden -fpic  -g -O2 -ffile-prefix-map=/build/r-base-VHKDZm/r-base-4.2.2.20221110=. -fstack-protector-strong -Wformat -Werror=format-security -fdebug-prefix-map=/build/r-base-VHKDZm/r-base-4.2.2.20221110=/usr/src/r-base-4.2.2.20221110-2build1 -Wdate-time -D_FORTIFY_SOURCE=2  -c core/community/leading_eigenvector.c -o core/community/leading_eigenvector.o\n",
      "gcc -I\"/usr/share/R/include\" -DNDEBUG -DUSING_R -I. -Icore -Iinclude -Ivendor -I/home/felipe/anaconda3/envs/breg/include/libxml2 -I/home/felipe/anaconda3/envs/breg/include -DNDEBUG -DNTIMER -DNPRINT -DINTERNAL_ARPACK -DPRPACK_IGRAPH_SUPPORT -DIGRAPH_THREAD_LOCAL=/**/ -D_GNU_SOURCE=1 -I'/home/felipe/R/x86_64-pc-linux-gnu-library/4.2/cpp11/include'   -fvisibility=hidden -fpic  -g -O2 -ffile-prefix-map=/build/r-base-VHKDZm/r-base-4.2.2.20221110=. -fstack-protector-strong -Wformat -Werror=format-security -fdebug-prefix-map=/build/r-base-VHKDZm/r-base-4.2.2.20221110=/usr/src/r-base-4.2.2.20221110-2build1 -Wdate-time -D_FORTIFY_SOURCE=2  -c core/community/leiden.c -o core/community/leiden.o\n",
      "gcc -I\"/usr/share/R/include\" -DNDEBUG -DUSING_R -I. -Icore -Iinclude -Ivendor -I/home/felipe/anaconda3/envs/breg/include/libxml2 -I/home/felipe/anaconda3/envs/breg/include -DNDEBUG -DNTIMER -DNPRINT -DINTERNAL_ARPACK -DPRPACK_IGRAPH_SUPPORT -DIGRAPH_THREAD_LOCAL=/**/ -D_GNU_SOURCE=1 -I'/home/felipe/R/x86_64-pc-linux-gnu-library/4.2/cpp11/include'   -fvisibility=hidden -fpic  -g -O2 -ffile-prefix-map=/build/r-base-VHKDZm/r-base-4.2.2.20221110=. -fstack-protector-strong -Wformat -Werror=format-security -fdebug-prefix-map=/build/r-base-VHKDZm/r-base-4.2.2.20221110=/usr/src/r-base-4.2.2.20221110-2build1 -Wdate-time -D_FORTIFY_SOURCE=2  -c core/community/louvain.c -o core/community/louvain.o\n",
      "gcc -I\"/usr/share/R/include\" -DNDEBUG -DUSING_R -I. -Icore -Iinclude -Ivendor -I/home/felipe/anaconda3/envs/breg/include/libxml2 -I/home/felipe/anaconda3/envs/breg/include -DNDEBUG -DNTIMER -DNPRINT -DINTERNAL_ARPACK -DPRPACK_IGRAPH_SUPPORT -DIGRAPH_THREAD_LOCAL=/**/ -D_GNU_SOURCE=1 -I'/home/felipe/R/x86_64-pc-linux-gnu-library/4.2/cpp11/include'   -fvisibility=hidden -fpic  -g -O2 -ffile-prefix-map=/build/r-base-VHKDZm/r-base-4.2.2.20221110=. -fstack-protector-strong -Wformat -Werror=format-security -fdebug-prefix-map=/build/r-base-VHKDZm/r-base-4.2.2.20221110=/usr/src/r-base-4.2.2.20221110-2build1 -Wdate-time -D_FORTIFY_SOURCE=2  -c core/community/modularity.c -o core/community/modularity.o\n",
      "gcc -I\"/usr/share/R/include\" -DNDEBUG -DUSING_R -I. -Icore -Iinclude -Ivendor -I/home/felipe/anaconda3/envs/breg/include/libxml2 -I/home/felipe/anaconda3/envs/breg/include -DNDEBUG -DNTIMER -DNPRINT -DINTERNAL_ARPACK -DPRPACK_IGRAPH_SUPPORT -DIGRAPH_THREAD_LOCAL=/**/ -D_GNU_SOURCE=1 -I'/home/felipe/R/x86_64-pc-linux-gnu-library/4.2/cpp11/include'   -fvisibility=hidden -fpic  -g -O2 -ffile-prefix-map=/build/r-base-VHKDZm/r-base-4.2.2.20221110=. -fstack-protector-strong -Wformat -Werror=format-security -fdebug-prefix-map=/build/r-base-VHKDZm/r-base-4.2.2.20221110=/usr/src/r-base-4.2.2.20221110-2build1 -Wdate-time -D_FORTIFY_SOURCE=2  -c core/community/optimal_modularity.c -o core/community/optimal_modularity.o\n",
      "g++ -std=gnu++14 -I\"/usr/share/R/include\" -DNDEBUG -DUSING_R -I. -Icore -Iinclude -Ivendor -I/home/felipe/anaconda3/envs/breg/include/libxml2 -I/home/felipe/anaconda3/envs/breg/include -DNDEBUG -DNTIMER -DNPRINT -DINTERNAL_ARPACK -DPRPACK_IGRAPH_SUPPORT -DIGRAPH_THREAD_LOCAL=/**/ -D_GNU_SOURCE=1 -I'/home/felipe/R/x86_64-pc-linux-gnu-library/4.2/cpp11/include'   -fvisibility=hidden -fpic  -g -O2 -ffile-prefix-map=/build/r-base-VHKDZm/r-base-4.2.2.20221110=. -fstack-protector-strong -Wformat -Werror=format-security -fdebug-prefix-map=/build/r-base-VHKDZm/r-base-4.2.2.20221110=/usr/src/r-base-4.2.2.20221110-2build1 -Wdate-time -D_FORTIFY_SOURCE=2  -c core/community/spinglass/NetDataTypes.cpp -o core/community/spinglass/NetDataTypes.o\n"
     ]
    },
    {
     "name": "stdout",
     "output_type": "stream",
     "text": [
      "g++ -std=gnu++14 -I\"/usr/share/R/include\" -DNDEBUG -DUSING_R -I. -Icore -Iinclude -Ivendor -I/home/felipe/anaconda3/envs/breg/include/libxml2 -I/home/felipe/anaconda3/envs/breg/include -DNDEBUG -DNTIMER -DNPRINT -DINTERNAL_ARPACK -DPRPACK_IGRAPH_SUPPORT -DIGRAPH_THREAD_LOCAL=/**/ -D_GNU_SOURCE=1 -I'/home/felipe/R/x86_64-pc-linux-gnu-library/4.2/cpp11/include'   -fvisibility=hidden -fpic  -g -O2 -ffile-prefix-map=/build/r-base-VHKDZm/r-base-4.2.2.20221110=. -fstack-protector-strong -Wformat -Werror=format-security -fdebug-prefix-map=/build/r-base-VHKDZm/r-base-4.2.2.20221110=/usr/src/r-base-4.2.2.20221110-2build1 -Wdate-time -D_FORTIFY_SOURCE=2  -c core/community/spinglass/NetRoutines.cpp -o core/community/spinglass/NetRoutines.o\n",
      "g++ -std=gnu++14 -I\"/usr/share/R/include\" -DNDEBUG -DUSING_R -I. -Icore -Iinclude -Ivendor -I/home/felipe/anaconda3/envs/breg/include/libxml2 -I/home/felipe/anaconda3/envs/breg/include -DNDEBUG -DNTIMER -DNPRINT -DINTERNAL_ARPACK -DPRPACK_IGRAPH_SUPPORT -DIGRAPH_THREAD_LOCAL=/**/ -D_GNU_SOURCE=1 -I'/home/felipe/R/x86_64-pc-linux-gnu-library/4.2/cpp11/include'   -fvisibility=hidden -fpic  -g -O2 -ffile-prefix-map=/build/r-base-VHKDZm/r-base-4.2.2.20221110=. -fstack-protector-strong -Wformat -Werror=format-security -fdebug-prefix-map=/build/r-base-VHKDZm/r-base-4.2.2.20221110=/usr/src/r-base-4.2.2.20221110-2build1 -Wdate-time -D_FORTIFY_SOURCE=2  -c core/community/spinglass/clustertool.cpp -o core/community/spinglass/clustertool.o\n",
      "g++ -std=gnu++14 -I\"/usr/share/R/include\" -DNDEBUG -DUSING_R -I. -Icore -Iinclude -Ivendor -I/home/felipe/anaconda3/envs/breg/include/libxml2 -I/home/felipe/anaconda3/envs/breg/include -DNDEBUG -DNTIMER -DNPRINT -DINTERNAL_ARPACK -DPRPACK_IGRAPH_SUPPORT -DIGRAPH_THREAD_LOCAL=/**/ -D_GNU_SOURCE=1 -I'/home/felipe/R/x86_64-pc-linux-gnu-library/4.2/cpp11/include'   -fvisibility=hidden -fpic  -g -O2 -ffile-prefix-map=/build/r-base-VHKDZm/r-base-4.2.2.20221110=. -fstack-protector-strong -Wformat -Werror=format-security -fdebug-prefix-map=/build/r-base-VHKDZm/r-base-4.2.2.20221110=/usr/src/r-base-4.2.2.20221110-2build1 -Wdate-time -D_FORTIFY_SOURCE=2  -c core/community/spinglass/pottsmodel_2.cpp -o core/community/spinglass/pottsmodel_2.o\n",
      "g++ -std=gnu++14 -I\"/usr/share/R/include\" -DNDEBUG -DUSING_R -I. -Icore -Iinclude -Ivendor -I/home/felipe/anaconda3/envs/breg/include/libxml2 -I/home/felipe/anaconda3/envs/breg/include -DNDEBUG -DNTIMER -DNPRINT -DINTERNAL_ARPACK -DPRPACK_IGRAPH_SUPPORT -DIGRAPH_THREAD_LOCAL=/**/ -D_GNU_SOURCE=1 -I'/home/felipe/R/x86_64-pc-linux-gnu-library/4.2/cpp11/include'   -fvisibility=hidden -fpic  -g -O2 -ffile-prefix-map=/build/r-base-VHKDZm/r-base-4.2.2.20221110=. -fstack-protector-strong -Wformat -Werror=format-security -fdebug-prefix-map=/build/r-base-VHKDZm/r-base-4.2.2.20221110=/usr/src/r-base-4.2.2.20221110-2build1 -Wdate-time -D_FORTIFY_SOURCE=2  -c core/community/walktrap/walktrap.cpp -o core/community/walktrap/walktrap.o\n",
      "g++ -std=gnu++14 -I\"/usr/share/R/include\" -DNDEBUG -DUSING_R -I. -Icore -Iinclude -Ivendor -I/home/felipe/anaconda3/envs/breg/include/libxml2 -I/home/felipe/anaconda3/envs/breg/include -DNDEBUG -DNTIMER -DNPRINT -DINTERNAL_ARPACK -DPRPACK_IGRAPH_SUPPORT -DIGRAPH_THREAD_LOCAL=/**/ -D_GNU_SOURCE=1 -I'/home/felipe/R/x86_64-pc-linux-gnu-library/4.2/cpp11/include'   -fvisibility=hidden -fpic  -g -O2 -ffile-prefix-map=/build/r-base-VHKDZm/r-base-4.2.2.20221110=. -fstack-protector-strong -Wformat -Werror=format-security -fdebug-prefix-map=/build/r-base-VHKDZm/r-base-4.2.2.20221110=/usr/src/r-base-4.2.2.20221110-2build1 -Wdate-time -D_FORTIFY_SOURCE=2  -c core/community/walktrap/walktrap_communities.cpp -o core/community/walktrap/walktrap_communities.o\n",
      "g++ -std=gnu++14 -I\"/usr/share/R/include\" -DNDEBUG -DUSING_R -I. -Icore -Iinclude -Ivendor -I/home/felipe/anaconda3/envs/breg/include/libxml2 -I/home/felipe/anaconda3/envs/breg/include -DNDEBUG -DNTIMER -DNPRINT -DINTERNAL_ARPACK -DPRPACK_IGRAPH_SUPPORT -DIGRAPH_THREAD_LOCAL=/**/ -D_GNU_SOURCE=1 -I'/home/felipe/R/x86_64-pc-linux-gnu-library/4.2/cpp11/include'   -fvisibility=hidden -fpic  -g -O2 -ffile-prefix-map=/build/r-base-VHKDZm/r-base-4.2.2.20221110=. -fstack-protector-strong -Wformat -Werror=format-security -fdebug-prefix-map=/build/r-base-VHKDZm/r-base-4.2.2.20221110=/usr/src/r-base-4.2.2.20221110-2build1 -Wdate-time -D_FORTIFY_SOURCE=2  -c core/community/walktrap/walktrap_graph.cpp -o core/community/walktrap/walktrap_graph.o\n",
      "g++ -std=gnu++14 -I\"/usr/share/R/include\" -DNDEBUG -DUSING_R -I. -Icore -Iinclude -Ivendor -I/home/felipe/anaconda3/envs/breg/include/libxml2 -I/home/felipe/anaconda3/envs/breg/include -DNDEBUG -DNTIMER -DNPRINT -DINTERNAL_ARPACK -DPRPACK_IGRAPH_SUPPORT -DIGRAPH_THREAD_LOCAL=/**/ -D_GNU_SOURCE=1 -I'/home/felipe/R/x86_64-pc-linux-gnu-library/4.2/cpp11/include'   -fvisibility=hidden -fpic  -g -O2 -ffile-prefix-map=/build/r-base-VHKDZm/r-base-4.2.2.20221110=. -fstack-protector-strong -Wformat -Werror=format-security -fdebug-prefix-map=/build/r-base-VHKDZm/r-base-4.2.2.20221110=/usr/src/r-base-4.2.2.20221110-2build1 -Wdate-time -D_FORTIFY_SOURCE=2  -c core/community/walktrap/walktrap_heap.cpp -o core/community/walktrap/walktrap_heap.o\n",
      "gcc -I\"/usr/share/R/include\" -DNDEBUG -DUSING_R -I. -Icore -Iinclude -Ivendor -I/home/felipe/anaconda3/envs/breg/include/libxml2 -I/home/felipe/anaconda3/envs/breg/include -DNDEBUG -DNTIMER -DNPRINT -DINTERNAL_ARPACK -DPRPACK_IGRAPH_SUPPORT -DIGRAPH_THREAD_LOCAL=/**/ -D_GNU_SOURCE=1 -I'/home/felipe/R/x86_64-pc-linux-gnu-library/4.2/cpp11/include'   -fvisibility=hidden -fpic  -g -O2 -ffile-prefix-map=/build/r-base-VHKDZm/r-base-4.2.2.20221110=. -fstack-protector-strong -Wformat -Werror=format-security -fdebug-prefix-map=/build/r-base-VHKDZm/r-base-4.2.2.20221110=/usr/src/r-base-4.2.2.20221110-2build1 -Wdate-time -D_FORTIFY_SOURCE=2  -c core/connectivity/cohesive_blocks.c -o core/connectivity/cohesive_blocks.o\n",
      "gcc -I\"/usr/share/R/include\" -DNDEBUG -DUSING_R -I. -Icore -Iinclude -Ivendor -I/home/felipe/anaconda3/envs/breg/include/libxml2 -I/home/felipe/anaconda3/envs/breg/include -DNDEBUG -DNTIMER -DNPRINT -DINTERNAL_ARPACK -DPRPACK_IGRAPH_SUPPORT -DIGRAPH_THREAD_LOCAL=/**/ -D_GNU_SOURCE=1 -I'/home/felipe/R/x86_64-pc-linux-gnu-library/4.2/cpp11/include'   -fvisibility=hidden -fpic  -g -O2 -ffile-prefix-map=/build/r-base-VHKDZm/r-base-4.2.2.20221110=. -fstack-protector-strong -Wformat -Werror=format-security -fdebug-prefix-map=/build/r-base-VHKDZm/r-base-4.2.2.20221110=/usr/src/r-base-4.2.2.20221110-2build1 -Wdate-time -D_FORTIFY_SOURCE=2  -c core/connectivity/components.c -o core/connectivity/components.o\n",
      "gcc -I\"/usr/share/R/include\" -DNDEBUG -DUSING_R -I. -Icore -Iinclude -Ivendor -I/home/felipe/anaconda3/envs/breg/include/libxml2 -I/home/felipe/anaconda3/envs/breg/include -DNDEBUG -DNTIMER -DNPRINT -DINTERNAL_ARPACK -DPRPACK_IGRAPH_SUPPORT -DIGRAPH_THREAD_LOCAL=/**/ -D_GNU_SOURCE=1 -I'/home/felipe/R/x86_64-pc-linux-gnu-library/4.2/cpp11/include'   -fvisibility=hidden -fpic  -g -O2 -ffile-prefix-map=/build/r-base-VHKDZm/r-base-4.2.2.20221110=. -fstack-protector-strong -Wformat -Werror=format-security -fdebug-prefix-map=/build/r-base-VHKDZm/r-base-4.2.2.20221110=/usr/src/r-base-4.2.2.20221110-2build1 -Wdate-time -D_FORTIFY_SOURCE=2  -c core/connectivity/separators.c -o core/connectivity/separators.o\n",
      "gcc -I\"/usr/share/R/include\" -DNDEBUG -DUSING_R -I. -Icore -Iinclude -Ivendor -I/home/felipe/anaconda3/envs/breg/include/libxml2 -I/home/felipe/anaconda3/envs/breg/include -DNDEBUG -DNTIMER -DNPRINT -DINTERNAL_ARPACK -DPRPACK_IGRAPH_SUPPORT -DIGRAPH_THREAD_LOCAL=/**/ -D_GNU_SOURCE=1 -I'/home/felipe/R/x86_64-pc-linux-gnu-library/4.2/cpp11/include'   -fvisibility=hidden -fpic  -g -O2 -ffile-prefix-map=/build/r-base-VHKDZm/r-base-4.2.2.20221110=. -fstack-protector-strong -Wformat -Werror=format-security -fdebug-prefix-map=/build/r-base-VHKDZm/r-base-4.2.2.20221110=/usr/src/r-base-4.2.2.20221110-2build1 -Wdate-time -D_FORTIFY_SOURCE=2  -c core/constructors/adjacency.c -o core/constructors/adjacency.o\n",
      "gcc -I\"/usr/share/R/include\" -DNDEBUG -DUSING_R -I. -Icore -Iinclude -Ivendor -I/home/felipe/anaconda3/envs/breg/include/libxml2 -I/home/felipe/anaconda3/envs/breg/include -DNDEBUG -DNTIMER -DNPRINT -DINTERNAL_ARPACK -DPRPACK_IGRAPH_SUPPORT -DIGRAPH_THREAD_LOCAL=/**/ -D_GNU_SOURCE=1 -I'/home/felipe/R/x86_64-pc-linux-gnu-library/4.2/cpp11/include'   -fvisibility=hidden -fpic  -g -O2 -ffile-prefix-map=/build/r-base-VHKDZm/r-base-4.2.2.20221110=. -fstack-protector-strong -Wformat -Werror=format-security -fdebug-prefix-map=/build/r-base-VHKDZm/r-base-4.2.2.20221110=/usr/src/r-base-4.2.2.20221110-2build1 -Wdate-time -D_FORTIFY_SOURCE=2  -c core/constructors/atlas.c -o core/constructors/atlas.o\n",
      "gcc -I\"/usr/share/R/include\" -DNDEBUG -DUSING_R -I. -Icore -Iinclude -Ivendor -I/home/felipe/anaconda3/envs/breg/include/libxml2 -I/home/felipe/anaconda3/envs/breg/include -DNDEBUG -DNTIMER -DNPRINT -DINTERNAL_ARPACK -DPRPACK_IGRAPH_SUPPORT -DIGRAPH_THREAD_LOCAL=/**/ -D_GNU_SOURCE=1 -I'/home/felipe/R/x86_64-pc-linux-gnu-library/4.2/cpp11/include'   -fvisibility=hidden -fpic  -g -O2 -ffile-prefix-map=/build/r-base-VHKDZm/r-base-4.2.2.20221110=. -fstack-protector-strong -Wformat -Werror=format-security -fdebug-prefix-map=/build/r-base-VHKDZm/r-base-4.2.2.20221110=/usr/src/r-base-4.2.2.20221110-2build1 -Wdate-time -D_FORTIFY_SOURCE=2  -c core/constructors/basic_constructors.c -o core/constructors/basic_constructors.o\n"
     ]
    },
    {
     "name": "stdout",
     "output_type": "stream",
     "text": [
      "gcc -I\"/usr/share/R/include\" -DNDEBUG -DUSING_R -I. -Icore -Iinclude -Ivendor -I/home/felipe/anaconda3/envs/breg/include/libxml2 -I/home/felipe/anaconda3/envs/breg/include -DNDEBUG -DNTIMER -DNPRINT -DINTERNAL_ARPACK -DPRPACK_IGRAPH_SUPPORT -DIGRAPH_THREAD_LOCAL=/**/ -D_GNU_SOURCE=1 -I'/home/felipe/R/x86_64-pc-linux-gnu-library/4.2/cpp11/include'   -fvisibility=hidden -fpic  -g -O2 -ffile-prefix-map=/build/r-base-VHKDZm/r-base-4.2.2.20221110=. -fstack-protector-strong -Wformat -Werror=format-security -fdebug-prefix-map=/build/r-base-VHKDZm/r-base-4.2.2.20221110=/usr/src/r-base-4.2.2.20221110-2build1 -Wdate-time -D_FORTIFY_SOURCE=2  -c core/constructors/de_bruijn.c -o core/constructors/de_bruijn.o\n",
      "gcc -I\"/usr/share/R/include\" -DNDEBUG -DUSING_R -I. -Icore -Iinclude -Ivendor -I/home/felipe/anaconda3/envs/breg/include/libxml2 -I/home/felipe/anaconda3/envs/breg/include -DNDEBUG -DNTIMER -DNPRINT -DINTERNAL_ARPACK -DPRPACK_IGRAPH_SUPPORT -DIGRAPH_THREAD_LOCAL=/**/ -D_GNU_SOURCE=1 -I'/home/felipe/R/x86_64-pc-linux-gnu-library/4.2/cpp11/include'   -fvisibility=hidden -fpic  -g -O2 -ffile-prefix-map=/build/r-base-VHKDZm/r-base-4.2.2.20221110=. -fstack-protector-strong -Wformat -Werror=format-security -fdebug-prefix-map=/build/r-base-VHKDZm/r-base-4.2.2.20221110=/usr/src/r-base-4.2.2.20221110-2build1 -Wdate-time -D_FORTIFY_SOURCE=2  -c core/constructors/famous.c -o core/constructors/famous.o\n",
      "gcc -I\"/usr/share/R/include\" -DNDEBUG -DUSING_R -I. -Icore -Iinclude -Ivendor -I/home/felipe/anaconda3/envs/breg/include/libxml2 -I/home/felipe/anaconda3/envs/breg/include -DNDEBUG -DNTIMER -DNPRINT -DINTERNAL_ARPACK -DPRPACK_IGRAPH_SUPPORT -DIGRAPH_THREAD_LOCAL=/**/ -D_GNU_SOURCE=1 -I'/home/felipe/R/x86_64-pc-linux-gnu-library/4.2/cpp11/include'   -fvisibility=hidden -fpic  -g -O2 -ffile-prefix-map=/build/r-base-VHKDZm/r-base-4.2.2.20221110=. -fstack-protector-strong -Wformat -Werror=format-security -fdebug-prefix-map=/build/r-base-VHKDZm/r-base-4.2.2.20221110=/usr/src/r-base-4.2.2.20221110-2build1 -Wdate-time -D_FORTIFY_SOURCE=2  -c core/constructors/full.c -o core/constructors/full.o\n",
      "gcc -I\"/usr/share/R/include\" -DNDEBUG -DUSING_R -I. -Icore -Iinclude -Ivendor -I/home/felipe/anaconda3/envs/breg/include/libxml2 -I/home/felipe/anaconda3/envs/breg/include -DNDEBUG -DNTIMER -DNPRINT -DINTERNAL_ARPACK -DPRPACK_IGRAPH_SUPPORT -DIGRAPH_THREAD_LOCAL=/**/ -D_GNU_SOURCE=1 -I'/home/felipe/R/x86_64-pc-linux-gnu-library/4.2/cpp11/include'   -fvisibility=hidden -fpic  -g -O2 -ffile-prefix-map=/build/r-base-VHKDZm/r-base-4.2.2.20221110=. -fstack-protector-strong -Wformat -Werror=format-security -fdebug-prefix-map=/build/r-base-VHKDZm/r-base-4.2.2.20221110=/usr/src/r-base-4.2.2.20221110-2build1 -Wdate-time -D_FORTIFY_SOURCE=2  -c core/constructors/kautz.c -o core/constructors/kautz.o\n",
      "gcc -I\"/usr/share/R/include\" -DNDEBUG -DUSING_R -I. -Icore -Iinclude -Ivendor -I/home/felipe/anaconda3/envs/breg/include/libxml2 -I/home/felipe/anaconda3/envs/breg/include -DNDEBUG -DNTIMER -DNPRINT -DINTERNAL_ARPACK -DPRPACK_IGRAPH_SUPPORT -DIGRAPH_THREAD_LOCAL=/**/ -D_GNU_SOURCE=1 -I'/home/felipe/R/x86_64-pc-linux-gnu-library/4.2/cpp11/include'   -fvisibility=hidden -fpic  -g -O2 -ffile-prefix-map=/build/r-base-VHKDZm/r-base-4.2.2.20221110=. -fstack-protector-strong -Wformat -Werror=format-security -fdebug-prefix-map=/build/r-base-VHKDZm/r-base-4.2.2.20221110=/usr/src/r-base-4.2.2.20221110-2build1 -Wdate-time -D_FORTIFY_SOURCE=2  -c core/constructors/lcf.c -o core/constructors/lcf.o\n",
      "gcc -I\"/usr/share/R/include\" -DNDEBUG -DUSING_R -I. -Icore -Iinclude -Ivendor -I/home/felipe/anaconda3/envs/breg/include/libxml2 -I/home/felipe/anaconda3/envs/breg/include -DNDEBUG -DNTIMER -DNPRINT -DINTERNAL_ARPACK -DPRPACK_IGRAPH_SUPPORT -DIGRAPH_THREAD_LOCAL=/**/ -D_GNU_SOURCE=1 -I'/home/felipe/R/x86_64-pc-linux-gnu-library/4.2/cpp11/include'   -fvisibility=hidden -fpic  -g -O2 -ffile-prefix-map=/build/r-base-VHKDZm/r-base-4.2.2.20221110=. -fstack-protector-strong -Wformat -Werror=format-security -fdebug-prefix-map=/build/r-base-VHKDZm/r-base-4.2.2.20221110=/usr/src/r-base-4.2.2.20221110-2build1 -Wdate-time -D_FORTIFY_SOURCE=2  -c core/constructors/linegraph.c -o core/constructors/linegraph.o\n",
      "gcc -I\"/usr/share/R/include\" -DNDEBUG -DUSING_R -I. -Icore -Iinclude -Ivendor -I/home/felipe/anaconda3/envs/breg/include/libxml2 -I/home/felipe/anaconda3/envs/breg/include -DNDEBUG -DNTIMER -DNPRINT -DINTERNAL_ARPACK -DPRPACK_IGRAPH_SUPPORT -DIGRAPH_THREAD_LOCAL=/**/ -D_GNU_SOURCE=1 -I'/home/felipe/R/x86_64-pc-linux-gnu-library/4.2/cpp11/include'   -fvisibility=hidden -fpic  -g -O2 -ffile-prefix-map=/build/r-base-VHKDZm/r-base-4.2.2.20221110=. -fstack-protector-strong -Wformat -Werror=format-security -fdebug-prefix-map=/build/r-base-VHKDZm/r-base-4.2.2.20221110=/usr/src/r-base-4.2.2.20221110-2build1 -Wdate-time -D_FORTIFY_SOURCE=2  -c core/constructors/prufer.c -o core/constructors/prufer.o\n",
      "gcc -I\"/usr/share/R/include\" -DNDEBUG -DUSING_R -I. -Icore -Iinclude -Ivendor -I/home/felipe/anaconda3/envs/breg/include/libxml2 -I/home/felipe/anaconda3/envs/breg/include -DNDEBUG -DNTIMER -DNPRINT -DINTERNAL_ARPACK -DPRPACK_IGRAPH_SUPPORT -DIGRAPH_THREAD_LOCAL=/**/ -D_GNU_SOURCE=1 -I'/home/felipe/R/x86_64-pc-linux-gnu-library/4.2/cpp11/include'   -fvisibility=hidden -fpic  -g -O2 -ffile-prefix-map=/build/r-base-VHKDZm/r-base-4.2.2.20221110=. -fstack-protector-strong -Wformat -Werror=format-security -fdebug-prefix-map=/build/r-base-VHKDZm/r-base-4.2.2.20221110=/usr/src/r-base-4.2.2.20221110-2build1 -Wdate-time -D_FORTIFY_SOURCE=2  -c core/constructors/regular.c -o core/constructors/regular.o\n",
      "gcc -I\"/usr/share/R/include\" -DNDEBUG -DUSING_R -I. -Icore -Iinclude -Ivendor -I/home/felipe/anaconda3/envs/breg/include/libxml2 -I/home/felipe/anaconda3/envs/breg/include -DNDEBUG -DNTIMER -DNPRINT -DINTERNAL_ARPACK -DPRPACK_IGRAPH_SUPPORT -DIGRAPH_THREAD_LOCAL=/**/ -D_GNU_SOURCE=1 -I'/home/felipe/R/x86_64-pc-linux-gnu-library/4.2/cpp11/include'   -fvisibility=hidden -fpic  -g -O2 -ffile-prefix-map=/build/r-base-VHKDZm/r-base-4.2.2.20221110=. -fstack-protector-strong -Wformat -Werror=format-security -fdebug-prefix-map=/build/r-base-VHKDZm/r-base-4.2.2.20221110=/usr/src/r-base-4.2.2.20221110-2build1 -Wdate-time -D_FORTIFY_SOURCE=2  -c core/core/array.c -o core/core/array.o\n",
      "gcc -I\"/usr/share/R/include\" -DNDEBUG -DUSING_R -I. -Icore -Iinclude -Ivendor -I/home/felipe/anaconda3/envs/breg/include/libxml2 -I/home/felipe/anaconda3/envs/breg/include -DNDEBUG -DNTIMER -DNPRINT -DINTERNAL_ARPACK -DPRPACK_IGRAPH_SUPPORT -DIGRAPH_THREAD_LOCAL=/**/ -D_GNU_SOURCE=1 -I'/home/felipe/R/x86_64-pc-linux-gnu-library/4.2/cpp11/include'   -fvisibility=hidden -fpic  -g -O2 -ffile-prefix-map=/build/r-base-VHKDZm/r-base-4.2.2.20221110=. -fstack-protector-strong -Wformat -Werror=format-security -fdebug-prefix-map=/build/r-base-VHKDZm/r-base-4.2.2.20221110=/usr/src/r-base-4.2.2.20221110-2build1 -Wdate-time -D_FORTIFY_SOURCE=2  -c core/core/buckets.c -o core/core/buckets.o\n",
      "gcc -I\"/usr/share/R/include\" -DNDEBUG -DUSING_R -I. -Icore -Iinclude -Ivendor -I/home/felipe/anaconda3/envs/breg/include/libxml2 -I/home/felipe/anaconda3/envs/breg/include -DNDEBUG -DNTIMER -DNPRINT -DINTERNAL_ARPACK -DPRPACK_IGRAPH_SUPPORT -DIGRAPH_THREAD_LOCAL=/**/ -D_GNU_SOURCE=1 -I'/home/felipe/R/x86_64-pc-linux-gnu-library/4.2/cpp11/include'   -fvisibility=hidden -fpic  -g -O2 -ffile-prefix-map=/build/r-base-VHKDZm/r-base-4.2.2.20221110=. -fstack-protector-strong -Wformat -Werror=format-security -fdebug-prefix-map=/build/r-base-VHKDZm/r-base-4.2.2.20221110=/usr/src/r-base-4.2.2.20221110-2build1 -Wdate-time -D_FORTIFY_SOURCE=2  -c core/core/cutheap.c -o core/core/cutheap.o\n",
      "gcc -I\"/usr/share/R/include\" -DNDEBUG -DUSING_R -I. -Icore -Iinclude -Ivendor -I/home/felipe/anaconda3/envs/breg/include/libxml2 -I/home/felipe/anaconda3/envs/breg/include -DNDEBUG -DNTIMER -DNPRINT -DINTERNAL_ARPACK -DPRPACK_IGRAPH_SUPPORT -DIGRAPH_THREAD_LOCAL=/**/ -D_GNU_SOURCE=1 -I'/home/felipe/R/x86_64-pc-linux-gnu-library/4.2/cpp11/include'   -fvisibility=hidden -fpic  -g -O2 -ffile-prefix-map=/build/r-base-VHKDZm/r-base-4.2.2.20221110=. -fstack-protector-strong -Wformat -Werror=format-security -fdebug-prefix-map=/build/r-base-VHKDZm/r-base-4.2.2.20221110=/usr/src/r-base-4.2.2.20221110-2build1 -Wdate-time -D_FORTIFY_SOURCE=2  -c core/core/dqueue.c -o core/core/dqueue.o\n"
     ]
    },
    {
     "name": "stdout",
     "output_type": "stream",
     "text": [
      "gcc -I\"/usr/share/R/include\" -DNDEBUG -DUSING_R -I. -Icore -Iinclude -Ivendor -I/home/felipe/anaconda3/envs/breg/include/libxml2 -I/home/felipe/anaconda3/envs/breg/include -DNDEBUG -DNTIMER -DNPRINT -DINTERNAL_ARPACK -DPRPACK_IGRAPH_SUPPORT -DIGRAPH_THREAD_LOCAL=/**/ -D_GNU_SOURCE=1 -I'/home/felipe/R/x86_64-pc-linux-gnu-library/4.2/cpp11/include'   -fvisibility=hidden -fpic  -g -O2 -ffile-prefix-map=/build/r-base-VHKDZm/r-base-4.2.2.20221110=. -fstack-protector-strong -Wformat -Werror=format-security -fdebug-prefix-map=/build/r-base-VHKDZm/r-base-4.2.2.20221110=/usr/src/r-base-4.2.2.20221110-2build1 -Wdate-time -D_FORTIFY_SOURCE=2  -c core/core/error.c -o core/core/error.o\n",
      "gcc -I\"/usr/share/R/include\" -DNDEBUG -DUSING_R -I. -Icore -Iinclude -Ivendor -I/home/felipe/anaconda3/envs/breg/include/libxml2 -I/home/felipe/anaconda3/envs/breg/include -DNDEBUG -DNTIMER -DNPRINT -DINTERNAL_ARPACK -DPRPACK_IGRAPH_SUPPORT -DIGRAPH_THREAD_LOCAL=/**/ -D_GNU_SOURCE=1 -I'/home/felipe/R/x86_64-pc-linux-gnu-library/4.2/cpp11/include'   -fvisibility=hidden -fpic  -g -O2 -ffile-prefix-map=/build/r-base-VHKDZm/r-base-4.2.2.20221110=. -fstack-protector-strong -Wformat -Werror=format-security -fdebug-prefix-map=/build/r-base-VHKDZm/r-base-4.2.2.20221110=/usr/src/r-base-4.2.2.20221110-2build1 -Wdate-time -D_FORTIFY_SOURCE=2  -c core/core/estack.c -o core/core/estack.o\n",
      "gcc -I\"/usr/share/R/include\" -DNDEBUG -DUSING_R -I. -Icore -Iinclude -Ivendor -I/home/felipe/anaconda3/envs/breg/include/libxml2 -I/home/felipe/anaconda3/envs/breg/include -DNDEBUG -DNTIMER -DNPRINT -DINTERNAL_ARPACK -DPRPACK_IGRAPH_SUPPORT -DIGRAPH_THREAD_LOCAL=/**/ -D_GNU_SOURCE=1 -I'/home/felipe/R/x86_64-pc-linux-gnu-library/4.2/cpp11/include'   -fvisibility=hidden -fpic  -g -O2 -ffile-prefix-map=/build/r-base-VHKDZm/r-base-4.2.2.20221110=. -fstack-protector-strong -Wformat -Werror=format-security -fdebug-prefix-map=/build/r-base-VHKDZm/r-base-4.2.2.20221110=/usr/src/r-base-4.2.2.20221110-2build1 -Wdate-time -D_FORTIFY_SOURCE=2  -c core/core/fixed_vectorlist.c -o core/core/fixed_vectorlist.o\n",
      "gcc -I\"/usr/share/R/include\" -DNDEBUG -DUSING_R -I. -Icore -Iinclude -Ivendor -I/home/felipe/anaconda3/envs/breg/include/libxml2 -I/home/felipe/anaconda3/envs/breg/include -DNDEBUG -DNTIMER -DNPRINT -DINTERNAL_ARPACK -DPRPACK_IGRAPH_SUPPORT -DIGRAPH_THREAD_LOCAL=/**/ -D_GNU_SOURCE=1 -I'/home/felipe/R/x86_64-pc-linux-gnu-library/4.2/cpp11/include'   -fvisibility=hidden -fpic  -g -O2 -ffile-prefix-map=/build/r-base-VHKDZm/r-base-4.2.2.20221110=. -fstack-protector-strong -Wformat -Werror=format-security -fdebug-prefix-map=/build/r-base-VHKDZm/r-base-4.2.2.20221110=/usr/src/r-base-4.2.2.20221110-2build1 -Wdate-time -D_FORTIFY_SOURCE=2  -c core/core/grid.c -o core/core/grid.o\n",
      "gcc -I\"/usr/share/R/include\" -DNDEBUG -DUSING_R -I. -Icore -Iinclude -Ivendor -I/home/felipe/anaconda3/envs/breg/include/libxml2 -I/home/felipe/anaconda3/envs/breg/include -DNDEBUG -DNTIMER -DNPRINT -DINTERNAL_ARPACK -DPRPACK_IGRAPH_SUPPORT -DIGRAPH_THREAD_LOCAL=/**/ -D_GNU_SOURCE=1 -I'/home/felipe/R/x86_64-pc-linux-gnu-library/4.2/cpp11/include'   -fvisibility=hidden -fpic  -g -O2 -ffile-prefix-map=/build/r-base-VHKDZm/r-base-4.2.2.20221110=. -fstack-protector-strong -Wformat -Werror=format-security -fdebug-prefix-map=/build/r-base-VHKDZm/r-base-4.2.2.20221110=/usr/src/r-base-4.2.2.20221110-2build1 -Wdate-time -D_FORTIFY_SOURCE=2  -c core/core/heap.c -o core/core/heap.o\n",
      "gcc -I\"/usr/share/R/include\" -DNDEBUG -DUSING_R -I. -Icore -Iinclude -Ivendor -I/home/felipe/anaconda3/envs/breg/include/libxml2 -I/home/felipe/anaconda3/envs/breg/include -DNDEBUG -DNTIMER -DNPRINT -DINTERNAL_ARPACK -DPRPACK_IGRAPH_SUPPORT -DIGRAPH_THREAD_LOCAL=/**/ -D_GNU_SOURCE=1 -I'/home/felipe/R/x86_64-pc-linux-gnu-library/4.2/cpp11/include'   -fvisibility=hidden -fpic  -g -O2 -ffile-prefix-map=/build/r-base-VHKDZm/r-base-4.2.2.20221110=. -fstack-protector-strong -Wformat -Werror=format-security -fdebug-prefix-map=/build/r-base-VHKDZm/r-base-4.2.2.20221110=/usr/src/r-base-4.2.2.20221110-2build1 -Wdate-time -D_FORTIFY_SOURCE=2  -c core/core/indheap.c -o core/core/indheap.o\n",
      "gcc -I\"/usr/share/R/include\" -DNDEBUG -DUSING_R -I. -Icore -Iinclude -Ivendor -I/home/felipe/anaconda3/envs/breg/include/libxml2 -I/home/felipe/anaconda3/envs/breg/include -DNDEBUG -DNTIMER -DNPRINT -DINTERNAL_ARPACK -DPRPACK_IGRAPH_SUPPORT -DIGRAPH_THREAD_LOCAL=/**/ -D_GNU_SOURCE=1 -I'/home/felipe/R/x86_64-pc-linux-gnu-library/4.2/cpp11/include'   -fvisibility=hidden -fpic  -g -O2 -ffile-prefix-map=/build/r-base-VHKDZm/r-base-4.2.2.20221110=. -fstack-protector-strong -Wformat -Werror=format-security -fdebug-prefix-map=/build/r-base-VHKDZm/r-base-4.2.2.20221110=/usr/src/r-base-4.2.2.20221110-2build1 -Wdate-time -D_FORTIFY_SOURCE=2  -c core/core/interruption.c -o core/core/interruption.o\n",
      "gcc -I\"/usr/share/R/include\" -DNDEBUG -DUSING_R -I. -Icore -Iinclude -Ivendor -I/home/felipe/anaconda3/envs/breg/include/libxml2 -I/home/felipe/anaconda3/envs/breg/include -DNDEBUG -DNTIMER -DNPRINT -DINTERNAL_ARPACK -DPRPACK_IGRAPH_SUPPORT -DIGRAPH_THREAD_LOCAL=/**/ -D_GNU_SOURCE=1 -I'/home/felipe/R/x86_64-pc-linux-gnu-library/4.2/cpp11/include'   -fvisibility=hidden -fpic  -g -O2 -ffile-prefix-map=/build/r-base-VHKDZm/r-base-4.2.2.20221110=. -fstack-protector-strong -Wformat -Werror=format-security -fdebug-prefix-map=/build/r-base-VHKDZm/r-base-4.2.2.20221110=/usr/src/r-base-4.2.2.20221110-2build1 -Wdate-time -D_FORTIFY_SOURCE=2  -c core/core/marked_queue.c -o core/core/marked_queue.o\n",
      "gcc -I\"/usr/share/R/include\" -DNDEBUG -DUSING_R -I. -Icore -Iinclude -Ivendor -I/home/felipe/anaconda3/envs/breg/include/libxml2 -I/home/felipe/anaconda3/envs/breg/include -DNDEBUG -DNTIMER -DNPRINT -DINTERNAL_ARPACK -DPRPACK_IGRAPH_SUPPORT -DIGRAPH_THREAD_LOCAL=/**/ -D_GNU_SOURCE=1 -I'/home/felipe/R/x86_64-pc-linux-gnu-library/4.2/cpp11/include'   -fvisibility=hidden -fpic  -g -O2 -ffile-prefix-map=/build/r-base-VHKDZm/r-base-4.2.2.20221110=. -fstack-protector-strong -Wformat -Werror=format-security -fdebug-prefix-map=/build/r-base-VHKDZm/r-base-4.2.2.20221110=/usr/src/r-base-4.2.2.20221110-2build1 -Wdate-time -D_FORTIFY_SOURCE=2  -c core/core/matrix.c -o core/core/matrix.o\n",
      "gcc -I\"/usr/share/R/include\" -DNDEBUG -DUSING_R -I. -Icore -Iinclude -Ivendor -I/home/felipe/anaconda3/envs/breg/include/libxml2 -I/home/felipe/anaconda3/envs/breg/include -DNDEBUG -DNTIMER -DNPRINT -DINTERNAL_ARPACK -DPRPACK_IGRAPH_SUPPORT -DIGRAPH_THREAD_LOCAL=/**/ -D_GNU_SOURCE=1 -I'/home/felipe/R/x86_64-pc-linux-gnu-library/4.2/cpp11/include'   -fvisibility=hidden -fpic  -g -O2 -ffile-prefix-map=/build/r-base-VHKDZm/r-base-4.2.2.20221110=. -fstack-protector-strong -Wformat -Werror=format-security -fdebug-prefix-map=/build/r-base-VHKDZm/r-base-4.2.2.20221110=/usr/src/r-base-4.2.2.20221110-2build1 -Wdate-time -D_FORTIFY_SOURCE=2  -c core/core/memory.c -o core/core/memory.o\n",
      "gcc -I\"/usr/share/R/include\" -DNDEBUG -DUSING_R -I. -Icore -Iinclude -Ivendor -I/home/felipe/anaconda3/envs/breg/include/libxml2 -I/home/felipe/anaconda3/envs/breg/include -DNDEBUG -DNTIMER -DNPRINT -DINTERNAL_ARPACK -DPRPACK_IGRAPH_SUPPORT -DIGRAPH_THREAD_LOCAL=/**/ -D_GNU_SOURCE=1 -I'/home/felipe/R/x86_64-pc-linux-gnu-library/4.2/cpp11/include'   -fvisibility=hidden -fpic  -g -O2 -ffile-prefix-map=/build/r-base-VHKDZm/r-base-4.2.2.20221110=. -fstack-protector-strong -Wformat -Werror=format-security -fdebug-prefix-map=/build/r-base-VHKDZm/r-base-4.2.2.20221110=/usr/src/r-base-4.2.2.20221110-2build1 -Wdate-time -D_FORTIFY_SOURCE=2  -c core/core/printing.c -o core/core/printing.o\n",
      "gcc -I\"/usr/share/R/include\" -DNDEBUG -DUSING_R -I. -Icore -Iinclude -Ivendor -I/home/felipe/anaconda3/envs/breg/include/libxml2 -I/home/felipe/anaconda3/envs/breg/include -DNDEBUG -DNTIMER -DNPRINT -DINTERNAL_ARPACK -DPRPACK_IGRAPH_SUPPORT -DIGRAPH_THREAD_LOCAL=/**/ -D_GNU_SOURCE=1 -I'/home/felipe/R/x86_64-pc-linux-gnu-library/4.2/cpp11/include'   -fvisibility=hidden -fpic  -g -O2 -ffile-prefix-map=/build/r-base-VHKDZm/r-base-4.2.2.20221110=. -fstack-protector-strong -Wformat -Werror=format-security -fdebug-prefix-map=/build/r-base-VHKDZm/r-base-4.2.2.20221110=/usr/src/r-base-4.2.2.20221110-2build1 -Wdate-time -D_FORTIFY_SOURCE=2  -c core/core/progress.c -o core/core/progress.o\n"
     ]
    },
    {
     "name": "stdout",
     "output_type": "stream",
     "text": [
      "gcc -I\"/usr/share/R/include\" -DNDEBUG -DUSING_R -I. -Icore -Iinclude -Ivendor -I/home/felipe/anaconda3/envs/breg/include/libxml2 -I/home/felipe/anaconda3/envs/breg/include -DNDEBUG -DNTIMER -DNPRINT -DINTERNAL_ARPACK -DPRPACK_IGRAPH_SUPPORT -DIGRAPH_THREAD_LOCAL=/**/ -D_GNU_SOURCE=1 -I'/home/felipe/R/x86_64-pc-linux-gnu-library/4.2/cpp11/include'   -fvisibility=hidden -fpic  -g -O2 -ffile-prefix-map=/build/r-base-VHKDZm/r-base-4.2.2.20221110=. -fstack-protector-strong -Wformat -Werror=format-security -fdebug-prefix-map=/build/r-base-VHKDZm/r-base-4.2.2.20221110=/usr/src/r-base-4.2.2.20221110-2build1 -Wdate-time -D_FORTIFY_SOURCE=2  -c core/core/psumtree.c -o core/core/psumtree.o\n",
      "gcc -I\"/usr/share/R/include\" -DNDEBUG -DUSING_R -I. -Icore -Iinclude -Ivendor -I/home/felipe/anaconda3/envs/breg/include/libxml2 -I/home/felipe/anaconda3/envs/breg/include -DNDEBUG -DNTIMER -DNPRINT -DINTERNAL_ARPACK -DPRPACK_IGRAPH_SUPPORT -DIGRAPH_THREAD_LOCAL=/**/ -D_GNU_SOURCE=1 -I'/home/felipe/R/x86_64-pc-linux-gnu-library/4.2/cpp11/include'   -fvisibility=hidden -fpic  -g -O2 -ffile-prefix-map=/build/r-base-VHKDZm/r-base-4.2.2.20221110=. -fstack-protector-strong -Wformat -Werror=format-security -fdebug-prefix-map=/build/r-base-VHKDZm/r-base-4.2.2.20221110=/usr/src/r-base-4.2.2.20221110-2build1 -Wdate-time -D_FORTIFY_SOURCE=2  -c core/core/set.c -o core/core/set.o\n",
      "gcc -I\"/usr/share/R/include\" -DNDEBUG -DUSING_R -I. -Icore -Iinclude -Ivendor -I/home/felipe/anaconda3/envs/breg/include/libxml2 -I/home/felipe/anaconda3/envs/breg/include -DNDEBUG -DNTIMER -DNPRINT -DINTERNAL_ARPACK -DPRPACK_IGRAPH_SUPPORT -DIGRAPH_THREAD_LOCAL=/**/ -D_GNU_SOURCE=1 -I'/home/felipe/R/x86_64-pc-linux-gnu-library/4.2/cpp11/include'   -fvisibility=hidden -fpic  -g -O2 -ffile-prefix-map=/build/r-base-VHKDZm/r-base-4.2.2.20221110=. -fstack-protector-strong -Wformat -Werror=format-security -fdebug-prefix-map=/build/r-base-VHKDZm/r-base-4.2.2.20221110=/usr/src/r-base-4.2.2.20221110-2build1 -Wdate-time -D_FORTIFY_SOURCE=2  -c core/core/sparsemat.c -o core/core/sparsemat.o\n",
      "gcc -I\"/usr/share/R/include\" -DNDEBUG -DUSING_R -I. -Icore -Iinclude -Ivendor -I/home/felipe/anaconda3/envs/breg/include/libxml2 -I/home/felipe/anaconda3/envs/breg/include -DNDEBUG -DNTIMER -DNPRINT -DINTERNAL_ARPACK -DPRPACK_IGRAPH_SUPPORT -DIGRAPH_THREAD_LOCAL=/**/ -D_GNU_SOURCE=1 -I'/home/felipe/R/x86_64-pc-linux-gnu-library/4.2/cpp11/include'   -fvisibility=hidden -fpic  -g -O2 -ffile-prefix-map=/build/r-base-VHKDZm/r-base-4.2.2.20221110=. -fstack-protector-strong -Wformat -Werror=format-security -fdebug-prefix-map=/build/r-base-VHKDZm/r-base-4.2.2.20221110=/usr/src/r-base-4.2.2.20221110-2build1 -Wdate-time -D_FORTIFY_SOURCE=2  -c core/core/spmatrix.c -o core/core/spmatrix.o\n",
      "gcc -I\"/usr/share/R/include\" -DNDEBUG -DUSING_R -I. -Icore -Iinclude -Ivendor -I/home/felipe/anaconda3/envs/breg/include/libxml2 -I/home/felipe/anaconda3/envs/breg/include -DNDEBUG -DNTIMER -DNPRINT -DINTERNAL_ARPACK -DPRPACK_IGRAPH_SUPPORT -DIGRAPH_THREAD_LOCAL=/**/ -D_GNU_SOURCE=1 -I'/home/felipe/R/x86_64-pc-linux-gnu-library/4.2/cpp11/include'   -fvisibility=hidden -fpic  -g -O2 -ffile-prefix-map=/build/r-base-VHKDZm/r-base-4.2.2.20221110=. -fstack-protector-strong -Wformat -Werror=format-security -fdebug-prefix-map=/build/r-base-VHKDZm/r-base-4.2.2.20221110=/usr/src/r-base-4.2.2.20221110-2build1 -Wdate-time -D_FORTIFY_SOURCE=2  -c core/core/stack.c -o core/core/stack.o\n",
      "gcc -I\"/usr/share/R/include\" -DNDEBUG -DUSING_R -I. -Icore -Iinclude -Ivendor -I/home/felipe/anaconda3/envs/breg/include/libxml2 -I/home/felipe/anaconda3/envs/breg/include -DNDEBUG -DNTIMER -DNPRINT -DINTERNAL_ARPACK -DPRPACK_IGRAPH_SUPPORT -DIGRAPH_THREAD_LOCAL=/**/ -D_GNU_SOURCE=1 -I'/home/felipe/R/x86_64-pc-linux-gnu-library/4.2/cpp11/include'   -fvisibility=hidden -fpic  -g -O2 -ffile-prefix-map=/build/r-base-VHKDZm/r-base-4.2.2.20221110=. -fstack-protector-strong -Wformat -Werror=format-security -fdebug-prefix-map=/build/r-base-VHKDZm/r-base-4.2.2.20221110=/usr/src/r-base-4.2.2.20221110-2build1 -Wdate-time -D_FORTIFY_SOURCE=2  -c core/core/statusbar.c -o core/core/statusbar.o\n",
      "gcc -I\"/usr/share/R/include\" -DNDEBUG -DUSING_R -I. -Icore -Iinclude -Ivendor -I/home/felipe/anaconda3/envs/breg/include/libxml2 -I/home/felipe/anaconda3/envs/breg/include -DNDEBUG -DNTIMER -DNPRINT -DINTERNAL_ARPACK -DPRPACK_IGRAPH_SUPPORT -DIGRAPH_THREAD_LOCAL=/**/ -D_GNU_SOURCE=1 -I'/home/felipe/R/x86_64-pc-linux-gnu-library/4.2/cpp11/include'   -fvisibility=hidden -fpic  -g -O2 -ffile-prefix-map=/build/r-base-VHKDZm/r-base-4.2.2.20221110=. -fstack-protector-strong -Wformat -Werror=format-security -fdebug-prefix-map=/build/r-base-VHKDZm/r-base-4.2.2.20221110=/usr/src/r-base-4.2.2.20221110-2build1 -Wdate-time -D_FORTIFY_SOURCE=2  -c core/core/strvector.c -o core/core/strvector.o\n",
      "gcc -I\"/usr/share/R/include\" -DNDEBUG -DUSING_R -I. -Icore -Iinclude -Ivendor -I/home/felipe/anaconda3/envs/breg/include/libxml2 -I/home/felipe/anaconda3/envs/breg/include -DNDEBUG -DNTIMER -DNPRINT -DINTERNAL_ARPACK -DPRPACK_IGRAPH_SUPPORT -DIGRAPH_THREAD_LOCAL=/**/ -D_GNU_SOURCE=1 -I'/home/felipe/R/x86_64-pc-linux-gnu-library/4.2/cpp11/include'   -fvisibility=hidden -fpic  -g -O2 -ffile-prefix-map=/build/r-base-VHKDZm/r-base-4.2.2.20221110=. -fstack-protector-strong -Wformat -Werror=format-security -fdebug-prefix-map=/build/r-base-VHKDZm/r-base-4.2.2.20221110=/usr/src/r-base-4.2.2.20221110-2build1 -Wdate-time -D_FORTIFY_SOURCE=2  -c core/core/trie.c -o core/core/trie.o\n",
      "gcc -I\"/usr/share/R/include\" -DNDEBUG -DUSING_R -I. -Icore -Iinclude -Ivendor -I/home/felipe/anaconda3/envs/breg/include/libxml2 -I/home/felipe/anaconda3/envs/breg/include -DNDEBUG -DNTIMER -DNPRINT -DINTERNAL_ARPACK -DPRPACK_IGRAPH_SUPPORT -DIGRAPH_THREAD_LOCAL=/**/ -D_GNU_SOURCE=1 -I'/home/felipe/R/x86_64-pc-linux-gnu-library/4.2/cpp11/include'   -fvisibility=hidden -fpic  -g -O2 -ffile-prefix-map=/build/r-base-VHKDZm/r-base-4.2.2.20221110=. -fstack-protector-strong -Wformat -Werror=format-security -fdebug-prefix-map=/build/r-base-VHKDZm/r-base-4.2.2.20221110=/usr/src/r-base-4.2.2.20221110-2build1 -Wdate-time -D_FORTIFY_SOURCE=2  -c core/core/vector.c -o core/core/vector.o\n",
      "gcc -I\"/usr/share/R/include\" -DNDEBUG -DUSING_R -I. -Icore -Iinclude -Ivendor -I/home/felipe/anaconda3/envs/breg/include/libxml2 -I/home/felipe/anaconda3/envs/breg/include -DNDEBUG -DNTIMER -DNPRINT -DINTERNAL_ARPACK -DPRPACK_IGRAPH_SUPPORT -DIGRAPH_THREAD_LOCAL=/**/ -D_GNU_SOURCE=1 -I'/home/felipe/R/x86_64-pc-linux-gnu-library/4.2/cpp11/include'   -fvisibility=hidden -fpic  -g -O2 -ffile-prefix-map=/build/r-base-VHKDZm/r-base-4.2.2.20221110=. -fstack-protector-strong -Wformat -Werror=format-security -fdebug-prefix-map=/build/r-base-VHKDZm/r-base-4.2.2.20221110=/usr/src/r-base-4.2.2.20221110-2build1 -Wdate-time -D_FORTIFY_SOURCE=2  -c core/core/vector_ptr.c -o core/core/vector_ptr.o\n",
      "gcc -I\"/usr/share/R/include\" -DNDEBUG -DUSING_R -I. -Icore -Iinclude -Ivendor -I/home/felipe/anaconda3/envs/breg/include/libxml2 -I/home/felipe/anaconda3/envs/breg/include -DNDEBUG -DNTIMER -DNPRINT -DINTERNAL_ARPACK -DPRPACK_IGRAPH_SUPPORT -DIGRAPH_THREAD_LOCAL=/**/ -D_GNU_SOURCE=1 -I'/home/felipe/R/x86_64-pc-linux-gnu-library/4.2/cpp11/include'   -fvisibility=hidden -fpic  -g -O2 -ffile-prefix-map=/build/r-base-VHKDZm/r-base-4.2.2.20221110=. -fstack-protector-strong -Wformat -Werror=format-security -fdebug-prefix-map=/build/r-base-VHKDZm/r-base-4.2.2.20221110=/usr/src/r-base-4.2.2.20221110-2build1 -Wdate-time -D_FORTIFY_SOURCE=2  -c core/flow/flow.c -o core/flow/flow.o\n",
      "gcc -I\"/usr/share/R/include\" -DNDEBUG -DUSING_R -I. -Icore -Iinclude -Ivendor -I/home/felipe/anaconda3/envs/breg/include/libxml2 -I/home/felipe/anaconda3/envs/breg/include -DNDEBUG -DNTIMER -DNPRINT -DINTERNAL_ARPACK -DPRPACK_IGRAPH_SUPPORT -DIGRAPH_THREAD_LOCAL=/**/ -D_GNU_SOURCE=1 -I'/home/felipe/R/x86_64-pc-linux-gnu-library/4.2/cpp11/include'   -fvisibility=hidden -fpic  -g -O2 -ffile-prefix-map=/build/r-base-VHKDZm/r-base-4.2.2.20221110=. -fstack-protector-strong -Wformat -Werror=format-security -fdebug-prefix-map=/build/r-base-VHKDZm/r-base-4.2.2.20221110=/usr/src/r-base-4.2.2.20221110-2build1 -Wdate-time -D_FORTIFY_SOURCE=2  -c core/flow/st-cuts.c -o core/flow/st-cuts.o\n"
     ]
    },
    {
     "name": "stdout",
     "output_type": "stream",
     "text": [
      "gcc -I\"/usr/share/R/include\" -DNDEBUG -DUSING_R -I. -Icore -Iinclude -Ivendor -I/home/felipe/anaconda3/envs/breg/include/libxml2 -I/home/felipe/anaconda3/envs/breg/include -DNDEBUG -DNTIMER -DNPRINT -DINTERNAL_ARPACK -DPRPACK_IGRAPH_SUPPORT -DIGRAPH_THREAD_LOCAL=/**/ -D_GNU_SOURCE=1 -I'/home/felipe/R/x86_64-pc-linux-gnu-library/4.2/cpp11/include'   -fvisibility=hidden -fpic  -g -O2 -ffile-prefix-map=/build/r-base-VHKDZm/r-base-4.2.2.20221110=. -fstack-protector-strong -Wformat -Werror=format-security -fdebug-prefix-map=/build/r-base-VHKDZm/r-base-4.2.2.20221110=/usr/src/r-base-4.2.2.20221110-2build1 -Wdate-time -D_FORTIFY_SOURCE=2  -c core/games/barabasi.c -o core/games/barabasi.o\n",
      "gcc -I\"/usr/share/R/include\" -DNDEBUG -DUSING_R -I. -Icore -Iinclude -Ivendor -I/home/felipe/anaconda3/envs/breg/include/libxml2 -I/home/felipe/anaconda3/envs/breg/include -DNDEBUG -DNTIMER -DNPRINT -DINTERNAL_ARPACK -DPRPACK_IGRAPH_SUPPORT -DIGRAPH_THREAD_LOCAL=/**/ -D_GNU_SOURCE=1 -I'/home/felipe/R/x86_64-pc-linux-gnu-library/4.2/cpp11/include'   -fvisibility=hidden -fpic  -g -O2 -ffile-prefix-map=/build/r-base-VHKDZm/r-base-4.2.2.20221110=. -fstack-protector-strong -Wformat -Werror=format-security -fdebug-prefix-map=/build/r-base-VHKDZm/r-base-4.2.2.20221110=/usr/src/r-base-4.2.2.20221110-2build1 -Wdate-time -D_FORTIFY_SOURCE=2  -c core/games/callaway_traits.c -o core/games/callaway_traits.o\n",
      "gcc -I\"/usr/share/R/include\" -DNDEBUG -DUSING_R -I. -Icore -Iinclude -Ivendor -I/home/felipe/anaconda3/envs/breg/include/libxml2 -I/home/felipe/anaconda3/envs/breg/include -DNDEBUG -DNTIMER -DNPRINT -DINTERNAL_ARPACK -DPRPACK_IGRAPH_SUPPORT -DIGRAPH_THREAD_LOCAL=/**/ -D_GNU_SOURCE=1 -I'/home/felipe/R/x86_64-pc-linux-gnu-library/4.2/cpp11/include'   -fvisibility=hidden -fpic  -g -O2 -ffile-prefix-map=/build/r-base-VHKDZm/r-base-4.2.2.20221110=. -fstack-protector-strong -Wformat -Werror=format-security -fdebug-prefix-map=/build/r-base-VHKDZm/r-base-4.2.2.20221110=/usr/src/r-base-4.2.2.20221110-2build1 -Wdate-time -D_FORTIFY_SOURCE=2  -c core/games/citations.c -o core/games/citations.o\n",
      "gcc -I\"/usr/share/R/include\" -DNDEBUG -DUSING_R -I. -Icore -Iinclude -Ivendor -I/home/felipe/anaconda3/envs/breg/include/libxml2 -I/home/felipe/anaconda3/envs/breg/include -DNDEBUG -DNTIMER -DNPRINT -DINTERNAL_ARPACK -DPRPACK_IGRAPH_SUPPORT -DIGRAPH_THREAD_LOCAL=/**/ -D_GNU_SOURCE=1 -I'/home/felipe/R/x86_64-pc-linux-gnu-library/4.2/cpp11/include'   -fvisibility=hidden -fpic  -g -O2 -ffile-prefix-map=/build/r-base-VHKDZm/r-base-4.2.2.20221110=. -fstack-protector-strong -Wformat -Werror=format-security -fdebug-prefix-map=/build/r-base-VHKDZm/r-base-4.2.2.20221110=/usr/src/r-base-4.2.2.20221110-2build1 -Wdate-time -D_FORTIFY_SOURCE=2  -c core/games/correlated.c -o core/games/correlated.o\n",
      "gcc -I\"/usr/share/R/include\" -DNDEBUG -DUSING_R -I. -Icore -Iinclude -Ivendor -I/home/felipe/anaconda3/envs/breg/include/libxml2 -I/home/felipe/anaconda3/envs/breg/include -DNDEBUG -DNTIMER -DNPRINT -DINTERNAL_ARPACK -DPRPACK_IGRAPH_SUPPORT -DIGRAPH_THREAD_LOCAL=/**/ -D_GNU_SOURCE=1 -I'/home/felipe/R/x86_64-pc-linux-gnu-library/4.2/cpp11/include'   -fvisibility=hidden -fpic  -g -O2 -ffile-prefix-map=/build/r-base-VHKDZm/r-base-4.2.2.20221110=. -fstack-protector-strong -Wformat -Werror=format-security -fdebug-prefix-map=/build/r-base-VHKDZm/r-base-4.2.2.20221110=/usr/src/r-base-4.2.2.20221110-2build1 -Wdate-time -D_FORTIFY_SOURCE=2  -c core/games/degree_sequence.c -o core/games/degree_sequence.o\n",
      "g++ -std=gnu++14 -I\"/usr/share/R/include\" -DNDEBUG -DUSING_R -I. -Icore -Iinclude -Ivendor -I/home/felipe/anaconda3/envs/breg/include/libxml2 -I/home/felipe/anaconda3/envs/breg/include -DNDEBUG -DNTIMER -DNPRINT -DINTERNAL_ARPACK -DPRPACK_IGRAPH_SUPPORT -DIGRAPH_THREAD_LOCAL=/**/ -D_GNU_SOURCE=1 -I'/home/felipe/R/x86_64-pc-linux-gnu-library/4.2/cpp11/include'   -fvisibility=hidden -fpic  -g -O2 -ffile-prefix-map=/build/r-base-VHKDZm/r-base-4.2.2.20221110=. -fstack-protector-strong -Wformat -Werror=format-security -fdebug-prefix-map=/build/r-base-VHKDZm/r-base-4.2.2.20221110=/usr/src/r-base-4.2.2.20221110-2build1 -Wdate-time -D_FORTIFY_SOURCE=2  -c core/games/degree_sequence_vl/gengraph_box_list.cpp -o core/games/degree_sequence_vl/gengraph_box_list.o\n",
      "g++ -std=gnu++14 -I\"/usr/share/R/include\" -DNDEBUG -DUSING_R -I. -Icore -Iinclude -Ivendor -I/home/felipe/anaconda3/envs/breg/include/libxml2 -I/home/felipe/anaconda3/envs/breg/include -DNDEBUG -DNTIMER -DNPRINT -DINTERNAL_ARPACK -DPRPACK_IGRAPH_SUPPORT -DIGRAPH_THREAD_LOCAL=/**/ -D_GNU_SOURCE=1 -I'/home/felipe/R/x86_64-pc-linux-gnu-library/4.2/cpp11/include'   -fvisibility=hidden -fpic  -g -O2 -ffile-prefix-map=/build/r-base-VHKDZm/r-base-4.2.2.20221110=. -fstack-protector-strong -Wformat -Werror=format-security -fdebug-prefix-map=/build/r-base-VHKDZm/r-base-4.2.2.20221110=/usr/src/r-base-4.2.2.20221110-2build1 -Wdate-time -D_FORTIFY_SOURCE=2  -c core/games/degree_sequence_vl/gengraph_degree_sequence.cpp -o core/games/degree_sequence_vl/gengraph_degree_sequence.o\n",
      "g++ -std=gnu++14 -I\"/usr/share/R/include\" -DNDEBUG -DUSING_R -I. -Icore -Iinclude -Ivendor -I/home/felipe/anaconda3/envs/breg/include/libxml2 -I/home/felipe/anaconda3/envs/breg/include -DNDEBUG -DNTIMER -DNPRINT -DINTERNAL_ARPACK -DPRPACK_IGRAPH_SUPPORT -DIGRAPH_THREAD_LOCAL=/**/ -D_GNU_SOURCE=1 -I'/home/felipe/R/x86_64-pc-linux-gnu-library/4.2/cpp11/include'   -fvisibility=hidden -fpic  -g -O2 -ffile-prefix-map=/build/r-base-VHKDZm/r-base-4.2.2.20221110=. -fstack-protector-strong -Wformat -Werror=format-security -fdebug-prefix-map=/build/r-base-VHKDZm/r-base-4.2.2.20221110=/usr/src/r-base-4.2.2.20221110-2build1 -Wdate-time -D_FORTIFY_SOURCE=2  -c core/games/degree_sequence_vl/gengraph_graph_molloy_hash.cpp -o core/games/degree_sequence_vl/gengraph_graph_molloy_hash.o\n",
      "g++ -std=gnu++14 -I\"/usr/share/R/include\" -DNDEBUG -DUSING_R -I. -Icore -Iinclude -Ivendor -I/home/felipe/anaconda3/envs/breg/include/libxml2 -I/home/felipe/anaconda3/envs/breg/include -DNDEBUG -DNTIMER -DNPRINT -DINTERNAL_ARPACK -DPRPACK_IGRAPH_SUPPORT -DIGRAPH_THREAD_LOCAL=/**/ -D_GNU_SOURCE=1 -I'/home/felipe/R/x86_64-pc-linux-gnu-library/4.2/cpp11/include'   -fvisibility=hidden -fpic  -g -O2 -ffile-prefix-map=/build/r-base-VHKDZm/r-base-4.2.2.20221110=. -fstack-protector-strong -Wformat -Werror=format-security -fdebug-prefix-map=/build/r-base-VHKDZm/r-base-4.2.2.20221110=/usr/src/r-base-4.2.2.20221110-2build1 -Wdate-time -D_FORTIFY_SOURCE=2  -c core/games/degree_sequence_vl/gengraph_graph_molloy_optimized.cpp -o core/games/degree_sequence_vl/gengraph_graph_molloy_optimized.o\n",
      "g++ -std=gnu++14 -I\"/usr/share/R/include\" -DNDEBUG -DUSING_R -I. -Icore -Iinclude -Ivendor -I/home/felipe/anaconda3/envs/breg/include/libxml2 -I/home/felipe/anaconda3/envs/breg/include -DNDEBUG -DNTIMER -DNPRINT -DINTERNAL_ARPACK -DPRPACK_IGRAPH_SUPPORT -DIGRAPH_THREAD_LOCAL=/**/ -D_GNU_SOURCE=1 -I'/home/felipe/R/x86_64-pc-linux-gnu-library/4.2/cpp11/include'   -fvisibility=hidden -fpic  -g -O2 -ffile-prefix-map=/build/r-base-VHKDZm/r-base-4.2.2.20221110=. -fstack-protector-strong -Wformat -Werror=format-security -fdebug-prefix-map=/build/r-base-VHKDZm/r-base-4.2.2.20221110=/usr/src/r-base-4.2.2.20221110-2build1 -Wdate-time -D_FORTIFY_SOURCE=2  -c core/games/degree_sequence_vl/gengraph_mr-connected.cpp -o core/games/degree_sequence_vl/gengraph_mr-connected.o\n",
      "g++ -std=gnu++14 -I\"/usr/share/R/include\" -DNDEBUG -DUSING_R -I. -Icore -Iinclude -Ivendor -I/home/felipe/anaconda3/envs/breg/include/libxml2 -I/home/felipe/anaconda3/envs/breg/include -DNDEBUG -DNTIMER -DNPRINT -DINTERNAL_ARPACK -DPRPACK_IGRAPH_SUPPORT -DIGRAPH_THREAD_LOCAL=/**/ -D_GNU_SOURCE=1 -I'/home/felipe/R/x86_64-pc-linux-gnu-library/4.2/cpp11/include'   -fvisibility=hidden -fpic  -g -O2 -ffile-prefix-map=/build/r-base-VHKDZm/r-base-4.2.2.20221110=. -fstack-protector-strong -Wformat -Werror=format-security -fdebug-prefix-map=/build/r-base-VHKDZm/r-base-4.2.2.20221110=/usr/src/r-base-4.2.2.20221110-2build1 -Wdate-time -D_FORTIFY_SOURCE=2  -c core/games/degree_sequence_vl/gengraph_powerlaw.cpp -o core/games/degree_sequence_vl/gengraph_powerlaw.o\n",
      "g++ -std=gnu++14 -I\"/usr/share/R/include\" -DNDEBUG -DUSING_R -I. -Icore -Iinclude -Ivendor -I/home/felipe/anaconda3/envs/breg/include/libxml2 -I/home/felipe/anaconda3/envs/breg/include -DNDEBUG -DNTIMER -DNPRINT -DINTERNAL_ARPACK -DPRPACK_IGRAPH_SUPPORT -DIGRAPH_THREAD_LOCAL=/**/ -D_GNU_SOURCE=1 -I'/home/felipe/R/x86_64-pc-linux-gnu-library/4.2/cpp11/include'   -fvisibility=hidden -fpic  -g -O2 -ffile-prefix-map=/build/r-base-VHKDZm/r-base-4.2.2.20221110=. -fstack-protector-strong -Wformat -Werror=format-security -fdebug-prefix-map=/build/r-base-VHKDZm/r-base-4.2.2.20221110=/usr/src/r-base-4.2.2.20221110-2build1 -Wdate-time -D_FORTIFY_SOURCE=2  -c core/games/degree_sequence_vl/gengraph_random.cpp -o core/games/degree_sequence_vl/gengraph_random.o\n",
      "gcc -I\"/usr/share/R/include\" -DNDEBUG -DUSING_R -I. -Icore -Iinclude -Ivendor -I/home/felipe/anaconda3/envs/breg/include/libxml2 -I/home/felipe/anaconda3/envs/breg/include -DNDEBUG -DNTIMER -DNPRINT -DINTERNAL_ARPACK -DPRPACK_IGRAPH_SUPPORT -DIGRAPH_THREAD_LOCAL=/**/ -D_GNU_SOURCE=1 -I'/home/felipe/R/x86_64-pc-linux-gnu-library/4.2/cpp11/include'   -fvisibility=hidden -fpic  -g -O2 -ffile-prefix-map=/build/r-base-VHKDZm/r-base-4.2.2.20221110=. -fstack-protector-strong -Wformat -Werror=format-security -fdebug-prefix-map=/build/r-base-VHKDZm/r-base-4.2.2.20221110=/usr/src/r-base-4.2.2.20221110-2build1 -Wdate-time -D_FORTIFY_SOURCE=2  -c core/games/dotproduct.c -o core/games/dotproduct.o\n"
     ]
    },
    {
     "name": "stdout",
     "output_type": "stream",
     "text": [
      "gcc -I\"/usr/share/R/include\" -DNDEBUG -DUSING_R -I. -Icore -Iinclude -Ivendor -I/home/felipe/anaconda3/envs/breg/include/libxml2 -I/home/felipe/anaconda3/envs/breg/include -DNDEBUG -DNTIMER -DNPRINT -DINTERNAL_ARPACK -DPRPACK_IGRAPH_SUPPORT -DIGRAPH_THREAD_LOCAL=/**/ -D_GNU_SOURCE=1 -I'/home/felipe/R/x86_64-pc-linux-gnu-library/4.2/cpp11/include'   -fvisibility=hidden -fpic  -g -O2 -ffile-prefix-map=/build/r-base-VHKDZm/r-base-4.2.2.20221110=. -fstack-protector-strong -Wformat -Werror=format-security -fdebug-prefix-map=/build/r-base-VHKDZm/r-base-4.2.2.20221110=/usr/src/r-base-4.2.2.20221110-2build1 -Wdate-time -D_FORTIFY_SOURCE=2  -c core/games/erdos_renyi.c -o core/games/erdos_renyi.o\n",
      "gcc -I\"/usr/share/R/include\" -DNDEBUG -DUSING_R -I. -Icore -Iinclude -Ivendor -I/home/felipe/anaconda3/envs/breg/include/libxml2 -I/home/felipe/anaconda3/envs/breg/include -DNDEBUG -DNTIMER -DNPRINT -DINTERNAL_ARPACK -DPRPACK_IGRAPH_SUPPORT -DIGRAPH_THREAD_LOCAL=/**/ -D_GNU_SOURCE=1 -I'/home/felipe/R/x86_64-pc-linux-gnu-library/4.2/cpp11/include'   -fvisibility=hidden -fpic  -g -O2 -ffile-prefix-map=/build/r-base-VHKDZm/r-base-4.2.2.20221110=. -fstack-protector-strong -Wformat -Werror=format-security -fdebug-prefix-map=/build/r-base-VHKDZm/r-base-4.2.2.20221110=/usr/src/r-base-4.2.2.20221110-2build1 -Wdate-time -D_FORTIFY_SOURCE=2  -c core/games/establishment.c -o core/games/establishment.o\n",
      "gcc -I\"/usr/share/R/include\" -DNDEBUG -DUSING_R -I. -Icore -Iinclude -Ivendor -I/home/felipe/anaconda3/envs/breg/include/libxml2 -I/home/felipe/anaconda3/envs/breg/include -DNDEBUG -DNTIMER -DNPRINT -DINTERNAL_ARPACK -DPRPACK_IGRAPH_SUPPORT -DIGRAPH_THREAD_LOCAL=/**/ -D_GNU_SOURCE=1 -I'/home/felipe/R/x86_64-pc-linux-gnu-library/4.2/cpp11/include'   -fvisibility=hidden -fpic  -g -O2 -ffile-prefix-map=/build/r-base-VHKDZm/r-base-4.2.2.20221110=. -fstack-protector-strong -Wformat -Werror=format-security -fdebug-prefix-map=/build/r-base-VHKDZm/r-base-4.2.2.20221110=/usr/src/r-base-4.2.2.20221110-2build1 -Wdate-time -D_FORTIFY_SOURCE=2  -c core/games/forestfire.c -o core/games/forestfire.o\n",
      "gcc -I\"/usr/share/R/include\" -DNDEBUG -DUSING_R -I. -Icore -Iinclude -Ivendor -I/home/felipe/anaconda3/envs/breg/include/libxml2 -I/home/felipe/anaconda3/envs/breg/include -DNDEBUG -DNTIMER -DNPRINT -DINTERNAL_ARPACK -DPRPACK_IGRAPH_SUPPORT -DIGRAPH_THREAD_LOCAL=/**/ -D_GNU_SOURCE=1 -I'/home/felipe/R/x86_64-pc-linux-gnu-library/4.2/cpp11/include'   -fvisibility=hidden -fpic  -g -O2 -ffile-prefix-map=/build/r-base-VHKDZm/r-base-4.2.2.20221110=. -fstack-protector-strong -Wformat -Werror=format-security -fdebug-prefix-map=/build/r-base-VHKDZm/r-base-4.2.2.20221110=/usr/src/r-base-4.2.2.20221110-2build1 -Wdate-time -D_FORTIFY_SOURCE=2  -c core/games/grg.c -o core/games/grg.o\n",
      "gcc -I\"/usr/share/R/include\" -DNDEBUG -DUSING_R -I. -Icore -Iinclude -Ivendor -I/home/felipe/anaconda3/envs/breg/include/libxml2 -I/home/felipe/anaconda3/envs/breg/include -DNDEBUG -DNTIMER -DNPRINT -DINTERNAL_ARPACK -DPRPACK_IGRAPH_SUPPORT -DIGRAPH_THREAD_LOCAL=/**/ -D_GNU_SOURCE=1 -I'/home/felipe/R/x86_64-pc-linux-gnu-library/4.2/cpp11/include'   -fvisibility=hidden -fpic  -g -O2 -ffile-prefix-map=/build/r-base-VHKDZm/r-base-4.2.2.20221110=. -fstack-protector-strong -Wformat -Werror=format-security -fdebug-prefix-map=/build/r-base-VHKDZm/r-base-4.2.2.20221110=/usr/src/r-base-4.2.2.20221110-2build1 -Wdate-time -D_FORTIFY_SOURCE=2  -c core/games/growing_random.c -o core/games/growing_random.o\n",
      "gcc -I\"/usr/share/R/include\" -DNDEBUG -DUSING_R -I. -Icore -Iinclude -Ivendor -I/home/felipe/anaconda3/envs/breg/include/libxml2 -I/home/felipe/anaconda3/envs/breg/include -DNDEBUG -DNTIMER -DNPRINT -DINTERNAL_ARPACK -DPRPACK_IGRAPH_SUPPORT -DIGRAPH_THREAD_LOCAL=/**/ -D_GNU_SOURCE=1 -I'/home/felipe/R/x86_64-pc-linux-gnu-library/4.2/cpp11/include'   -fvisibility=hidden -fpic  -g -O2 -ffile-prefix-map=/build/r-base-VHKDZm/r-base-4.2.2.20221110=. -fstack-protector-strong -Wformat -Werror=format-security -fdebug-prefix-map=/build/r-base-VHKDZm/r-base-4.2.2.20221110=/usr/src/r-base-4.2.2.20221110-2build1 -Wdate-time -D_FORTIFY_SOURCE=2  -c core/games/islands.c -o core/games/islands.o\n",
      "gcc -I\"/usr/share/R/include\" -DNDEBUG -DUSING_R -I. -Icore -Iinclude -Ivendor -I/home/felipe/anaconda3/envs/breg/include/libxml2 -I/home/felipe/anaconda3/envs/breg/include -DNDEBUG -DNTIMER -DNPRINT -DINTERNAL_ARPACK -DPRPACK_IGRAPH_SUPPORT -DIGRAPH_THREAD_LOCAL=/**/ -D_GNU_SOURCE=1 -I'/home/felipe/R/x86_64-pc-linux-gnu-library/4.2/cpp11/include'   -fvisibility=hidden -fpic  -g -O2 -ffile-prefix-map=/build/r-base-VHKDZm/r-base-4.2.2.20221110=. -fstack-protector-strong -Wformat -Werror=format-security -fdebug-prefix-map=/build/r-base-VHKDZm/r-base-4.2.2.20221110=/usr/src/r-base-4.2.2.20221110-2build1 -Wdate-time -D_FORTIFY_SOURCE=2  -c core/games/k_regular.c -o core/games/k_regular.o\n",
      "gcc -I\"/usr/share/R/include\" -DNDEBUG -DUSING_R -I. -Icore -Iinclude -Ivendor -I/home/felipe/anaconda3/envs/breg/include/libxml2 -I/home/felipe/anaconda3/envs/breg/include -DNDEBUG -DNTIMER -DNPRINT -DINTERNAL_ARPACK -DPRPACK_IGRAPH_SUPPORT -DIGRAPH_THREAD_LOCAL=/**/ -D_GNU_SOURCE=1 -I'/home/felipe/R/x86_64-pc-linux-gnu-library/4.2/cpp11/include'   -fvisibility=hidden -fpic  -g -O2 -ffile-prefix-map=/build/r-base-VHKDZm/r-base-4.2.2.20221110=. -fstack-protector-strong -Wformat -Werror=format-security -fdebug-prefix-map=/build/r-base-VHKDZm/r-base-4.2.2.20221110=/usr/src/r-base-4.2.2.20221110-2build1 -Wdate-time -D_FORTIFY_SOURCE=2  -c core/games/preference.c -o core/games/preference.o\n",
      "gcc -I\"/usr/share/R/include\" -DNDEBUG -DUSING_R -I. -Icore -Iinclude -Ivendor -I/home/felipe/anaconda3/envs/breg/include/libxml2 -I/home/felipe/anaconda3/envs/breg/include -DNDEBUG -DNTIMER -DNPRINT -DINTERNAL_ARPACK -DPRPACK_IGRAPH_SUPPORT -DIGRAPH_THREAD_LOCAL=/**/ -D_GNU_SOURCE=1 -I'/home/felipe/R/x86_64-pc-linux-gnu-library/4.2/cpp11/include'   -fvisibility=hidden -fpic  -g -O2 -ffile-prefix-map=/build/r-base-VHKDZm/r-base-4.2.2.20221110=. -fstack-protector-strong -Wformat -Werror=format-security -fdebug-prefix-map=/build/r-base-VHKDZm/r-base-4.2.2.20221110=/usr/src/r-base-4.2.2.20221110-2build1 -Wdate-time -D_FORTIFY_SOURCE=2  -c core/games/recent_degree.c -o core/games/recent_degree.o\n",
      "gcc -I\"/usr/share/R/include\" -DNDEBUG -DUSING_R -I. -Icore -Iinclude -Ivendor -I/home/felipe/anaconda3/envs/breg/include/libxml2 -I/home/felipe/anaconda3/envs/breg/include -DNDEBUG -DNTIMER -DNPRINT -DINTERNAL_ARPACK -DPRPACK_IGRAPH_SUPPORT -DIGRAPH_THREAD_LOCAL=/**/ -D_GNU_SOURCE=1 -I'/home/felipe/R/x86_64-pc-linux-gnu-library/4.2/cpp11/include'   -fvisibility=hidden -fpic  -g -O2 -ffile-prefix-map=/build/r-base-VHKDZm/r-base-4.2.2.20221110=. -fstack-protector-strong -Wformat -Werror=format-security -fdebug-prefix-map=/build/r-base-VHKDZm/r-base-4.2.2.20221110=/usr/src/r-base-4.2.2.20221110-2build1 -Wdate-time -D_FORTIFY_SOURCE=2  -c core/games/sbm.c -o core/games/sbm.o\n",
      "gcc -I\"/usr/share/R/include\" -DNDEBUG -DUSING_R -I. -Icore -Iinclude -Ivendor -I/home/felipe/anaconda3/envs/breg/include/libxml2 -I/home/felipe/anaconda3/envs/breg/include -DNDEBUG -DNTIMER -DNPRINT -DINTERNAL_ARPACK -DPRPACK_IGRAPH_SUPPORT -DIGRAPH_THREAD_LOCAL=/**/ -D_GNU_SOURCE=1 -I'/home/felipe/R/x86_64-pc-linux-gnu-library/4.2/cpp11/include'   -fvisibility=hidden -fpic  -g -O2 -ffile-prefix-map=/build/r-base-VHKDZm/r-base-4.2.2.20221110=. -fstack-protector-strong -Wformat -Werror=format-security -fdebug-prefix-map=/build/r-base-VHKDZm/r-base-4.2.2.20221110=/usr/src/r-base-4.2.2.20221110-2build1 -Wdate-time -D_FORTIFY_SOURCE=2  -c core/games/static_fitness.c -o core/games/static_fitness.o\n",
      "gcc -I\"/usr/share/R/include\" -DNDEBUG -DUSING_R -I. -Icore -Iinclude -Ivendor -I/home/felipe/anaconda3/envs/breg/include/libxml2 -I/home/felipe/anaconda3/envs/breg/include -DNDEBUG -DNTIMER -DNPRINT -DINTERNAL_ARPACK -DPRPACK_IGRAPH_SUPPORT -DIGRAPH_THREAD_LOCAL=/**/ -D_GNU_SOURCE=1 -I'/home/felipe/R/x86_64-pc-linux-gnu-library/4.2/cpp11/include'   -fvisibility=hidden -fpic  -g -O2 -ffile-prefix-map=/build/r-base-VHKDZm/r-base-4.2.2.20221110=. -fstack-protector-strong -Wformat -Werror=format-security -fdebug-prefix-map=/build/r-base-VHKDZm/r-base-4.2.2.20221110=/usr/src/r-base-4.2.2.20221110-2build1 -Wdate-time -D_FORTIFY_SOURCE=2  -c core/games/tree.c -o core/games/tree.o\n"
     ]
    },
    {
     "name": "stdout",
     "output_type": "stream",
     "text": [
      "gcc -I\"/usr/share/R/include\" -DNDEBUG -DUSING_R -I. -Icore -Iinclude -Ivendor -I/home/felipe/anaconda3/envs/breg/include/libxml2 -I/home/felipe/anaconda3/envs/breg/include -DNDEBUG -DNTIMER -DNPRINT -DINTERNAL_ARPACK -DPRPACK_IGRAPH_SUPPORT -DIGRAPH_THREAD_LOCAL=/**/ -D_GNU_SOURCE=1 -I'/home/felipe/R/x86_64-pc-linux-gnu-library/4.2/cpp11/include'   -fvisibility=hidden -fpic  -g -O2 -ffile-prefix-map=/build/r-base-VHKDZm/r-base-4.2.2.20221110=. -fstack-protector-strong -Wformat -Werror=format-security -fdebug-prefix-map=/build/r-base-VHKDZm/r-base-4.2.2.20221110=/usr/src/r-base-4.2.2.20221110-2build1 -Wdate-time -D_FORTIFY_SOURCE=2  -c core/games/watts_strogatz.c -o core/games/watts_strogatz.o\n",
      "gcc -I\"/usr/share/R/include\" -DNDEBUG -DUSING_R -I. -Icore -Iinclude -Ivendor -I/home/felipe/anaconda3/envs/breg/include/libxml2 -I/home/felipe/anaconda3/envs/breg/include -DNDEBUG -DNTIMER -DNPRINT -DINTERNAL_ARPACK -DPRPACK_IGRAPH_SUPPORT -DIGRAPH_THREAD_LOCAL=/**/ -D_GNU_SOURCE=1 -I'/home/felipe/R/x86_64-pc-linux-gnu-library/4.2/cpp11/include'   -fvisibility=hidden -fpic  -g -O2 -ffile-prefix-map=/build/r-base-VHKDZm/r-base-4.2.2.20221110=. -fstack-protector-strong -Wformat -Werror=format-security -fdebug-prefix-map=/build/r-base-VHKDZm/r-base-4.2.2.20221110=/usr/src/r-base-4.2.2.20221110-2build1 -Wdate-time -D_FORTIFY_SOURCE=2  -c core/graph/adjlist.c -o core/graph/adjlist.o\n",
      "gcc -I\"/usr/share/R/include\" -DNDEBUG -DUSING_R -I. -Icore -Iinclude -Ivendor -I/home/felipe/anaconda3/envs/breg/include/libxml2 -I/home/felipe/anaconda3/envs/breg/include -DNDEBUG -DNTIMER -DNPRINT -DINTERNAL_ARPACK -DPRPACK_IGRAPH_SUPPORT -DIGRAPH_THREAD_LOCAL=/**/ -D_GNU_SOURCE=1 -I'/home/felipe/R/x86_64-pc-linux-gnu-library/4.2/cpp11/include'   -fvisibility=hidden -fpic  -g -O2 -ffile-prefix-map=/build/r-base-VHKDZm/r-base-4.2.2.20221110=. -fstack-protector-strong -Wformat -Werror=format-security -fdebug-prefix-map=/build/r-base-VHKDZm/r-base-4.2.2.20221110=/usr/src/r-base-4.2.2.20221110-2build1 -Wdate-time -D_FORTIFY_SOURCE=2  -c core/graph/attributes.c -o core/graph/attributes.o\n",
      "gcc -I\"/usr/share/R/include\" -DNDEBUG -DUSING_R -I. -Icore -Iinclude -Ivendor -I/home/felipe/anaconda3/envs/breg/include/libxml2 -I/home/felipe/anaconda3/envs/breg/include -DNDEBUG -DNTIMER -DNPRINT -DINTERNAL_ARPACK -DPRPACK_IGRAPH_SUPPORT -DIGRAPH_THREAD_LOCAL=/**/ -D_GNU_SOURCE=1 -I'/home/felipe/R/x86_64-pc-linux-gnu-library/4.2/cpp11/include'   -fvisibility=hidden -fpic  -g -O2 -ffile-prefix-map=/build/r-base-VHKDZm/r-base-4.2.2.20221110=. -fstack-protector-strong -Wformat -Werror=format-security -fdebug-prefix-map=/build/r-base-VHKDZm/r-base-4.2.2.20221110=/usr/src/r-base-4.2.2.20221110-2build1 -Wdate-time -D_FORTIFY_SOURCE=2  -c core/graph/basic_query.c -o core/graph/basic_query.o\n",
      "gcc -I\"/usr/share/R/include\" -DNDEBUG -DUSING_R -I. -Icore -Iinclude -Ivendor -I/home/felipe/anaconda3/envs/breg/include/libxml2 -I/home/felipe/anaconda3/envs/breg/include -DNDEBUG -DNTIMER -DNPRINT -DINTERNAL_ARPACK -DPRPACK_IGRAPH_SUPPORT -DIGRAPH_THREAD_LOCAL=/**/ -D_GNU_SOURCE=1 -I'/home/felipe/R/x86_64-pc-linux-gnu-library/4.2/cpp11/include'   -fvisibility=hidden -fpic  -g -O2 -ffile-prefix-map=/build/r-base-VHKDZm/r-base-4.2.2.20221110=. -fstack-protector-strong -Wformat -Werror=format-security -fdebug-prefix-map=/build/r-base-VHKDZm/r-base-4.2.2.20221110=/usr/src/r-base-4.2.2.20221110-2build1 -Wdate-time -D_FORTIFY_SOURCE=2  -c core/graph/cattributes.c -o core/graph/cattributes.o\n",
      "gcc -I\"/usr/share/R/include\" -DNDEBUG -DUSING_R -I. -Icore -Iinclude -Ivendor -I/home/felipe/anaconda3/envs/breg/include/libxml2 -I/home/felipe/anaconda3/envs/breg/include -DNDEBUG -DNTIMER -DNPRINT -DINTERNAL_ARPACK -DPRPACK_IGRAPH_SUPPORT -DIGRAPH_THREAD_LOCAL=/**/ -D_GNU_SOURCE=1 -I'/home/felipe/R/x86_64-pc-linux-gnu-library/4.2/cpp11/include'   -fvisibility=hidden -fpic  -g -O2 -ffile-prefix-map=/build/r-base-VHKDZm/r-base-4.2.2.20221110=. -fstack-protector-strong -Wformat -Werror=format-security -fdebug-prefix-map=/build/r-base-VHKDZm/r-base-4.2.2.20221110=/usr/src/r-base-4.2.2.20221110-2build1 -Wdate-time -D_FORTIFY_SOURCE=2  -c core/graph/iterators.c -o core/graph/iterators.o\n",
      "gcc -I\"/usr/share/R/include\" -DNDEBUG -DUSING_R -I. -Icore -Iinclude -Ivendor -I/home/felipe/anaconda3/envs/breg/include/libxml2 -I/home/felipe/anaconda3/envs/breg/include -DNDEBUG -DNTIMER -DNPRINT -DINTERNAL_ARPACK -DPRPACK_IGRAPH_SUPPORT -DIGRAPH_THREAD_LOCAL=/**/ -D_GNU_SOURCE=1 -I'/home/felipe/R/x86_64-pc-linux-gnu-library/4.2/cpp11/include'   -fvisibility=hidden -fpic  -g -O2 -ffile-prefix-map=/build/r-base-VHKDZm/r-base-4.2.2.20221110=. -fstack-protector-strong -Wformat -Werror=format-security -fdebug-prefix-map=/build/r-base-VHKDZm/r-base-4.2.2.20221110=/usr/src/r-base-4.2.2.20221110-2build1 -Wdate-time -D_FORTIFY_SOURCE=2  -c core/graph/type_indexededgelist.c -o core/graph/type_indexededgelist.o\n",
      "gcc -I\"/usr/share/R/include\" -DNDEBUG -DUSING_R -I. -Icore -Iinclude -Ivendor -I/home/felipe/anaconda3/envs/breg/include/libxml2 -I/home/felipe/anaconda3/envs/breg/include -DNDEBUG -DNTIMER -DNPRINT -DINTERNAL_ARPACK -DPRPACK_IGRAPH_SUPPORT -DIGRAPH_THREAD_LOCAL=/**/ -D_GNU_SOURCE=1 -I'/home/felipe/R/x86_64-pc-linux-gnu-library/4.2/cpp11/include'   -fvisibility=hidden -fpic  -g -O2 -ffile-prefix-map=/build/r-base-VHKDZm/r-base-4.2.2.20221110=. -fstack-protector-strong -Wformat -Werror=format-security -fdebug-prefix-map=/build/r-base-VHKDZm/r-base-4.2.2.20221110=/usr/src/r-base-4.2.2.20221110-2build1 -Wdate-time -D_FORTIFY_SOURCE=2  -c core/graph/visitors.c -o core/graph/visitors.o\n",
      "g++ -std=gnu++14 -I\"/usr/share/R/include\" -DNDEBUG -DUSING_R -I. -Icore -Iinclude -Ivendor -I/home/felipe/anaconda3/envs/breg/include/libxml2 -I/home/felipe/anaconda3/envs/breg/include -DNDEBUG -DNTIMER -DNPRINT -DINTERNAL_ARPACK -DPRPACK_IGRAPH_SUPPORT -DIGRAPH_THREAD_LOCAL=/**/ -D_GNU_SOURCE=1 -I'/home/felipe/R/x86_64-pc-linux-gnu-library/4.2/cpp11/include'   -fvisibility=hidden -fpic  -g -O2 -ffile-prefix-map=/build/r-base-VHKDZm/r-base-4.2.2.20221110=. -fstack-protector-strong -Wformat -Werror=format-security -fdebug-prefix-map=/build/r-base-VHKDZm/r-base-4.2.2.20221110=/usr/src/r-base-4.2.2.20221110-2build1 -Wdate-time -D_FORTIFY_SOURCE=2  -c core/hrg/hrg.cc -o core/hrg/hrg.o\n",
      "g++ -std=gnu++14 -I\"/usr/share/R/include\" -DNDEBUG -DUSING_R -I. -Icore -Iinclude -Ivendor -I/home/felipe/anaconda3/envs/breg/include/libxml2 -I/home/felipe/anaconda3/envs/breg/include -DNDEBUG -DNTIMER -DNPRINT -DINTERNAL_ARPACK -DPRPACK_IGRAPH_SUPPORT -DIGRAPH_THREAD_LOCAL=/**/ -D_GNU_SOURCE=1 -I'/home/felipe/R/x86_64-pc-linux-gnu-library/4.2/cpp11/include'   -fvisibility=hidden -fpic  -g -O2 -ffile-prefix-map=/build/r-base-VHKDZm/r-base-4.2.2.20221110=. -fstack-protector-strong -Wformat -Werror=format-security -fdebug-prefix-map=/build/r-base-VHKDZm/r-base-4.2.2.20221110=/usr/src/r-base-4.2.2.20221110-2build1 -Wdate-time -D_FORTIFY_SOURCE=2  -c core/hrg/hrg_types.cc -o core/hrg/hrg_types.o\n",
      "gcc -I\"/usr/share/R/include\" -DNDEBUG -DUSING_R -I. -Icore -Iinclude -Ivendor -I/home/felipe/anaconda3/envs/breg/include/libxml2 -I/home/felipe/anaconda3/envs/breg/include -DNDEBUG -DNTIMER -DNPRINT -DINTERNAL_ARPACK -DPRPACK_IGRAPH_SUPPORT -DIGRAPH_THREAD_LOCAL=/**/ -D_GNU_SOURCE=1 -I'/home/felipe/R/x86_64-pc-linux-gnu-library/4.2/cpp11/include'   -fvisibility=hidden -fpic  -g -O2 -ffile-prefix-map=/build/r-base-VHKDZm/r-base-4.2.2.20221110=. -fstack-protector-strong -Wformat -Werror=format-security -fdebug-prefix-map=/build/r-base-VHKDZm/r-base-4.2.2.20221110=/usr/src/r-base-4.2.2.20221110-2build1 -Wdate-time -D_FORTIFY_SOURCE=2  -c core/internal/glpk_support.c -o core/internal/glpk_support.o\n",
      "gcc -I\"/usr/share/R/include\" -DNDEBUG -DUSING_R -I. -Icore -Iinclude -Ivendor -I/home/felipe/anaconda3/envs/breg/include/libxml2 -I/home/felipe/anaconda3/envs/breg/include -DNDEBUG -DNTIMER -DNPRINT -DINTERNAL_ARPACK -DPRPACK_IGRAPH_SUPPORT -DIGRAPH_THREAD_LOCAL=/**/ -D_GNU_SOURCE=1 -I'/home/felipe/R/x86_64-pc-linux-gnu-library/4.2/cpp11/include'   -fvisibility=hidden -fpic  -g -O2 -ffile-prefix-map=/build/r-base-VHKDZm/r-base-4.2.2.20221110=. -fstack-protector-strong -Wformat -Werror=format-security -fdebug-prefix-map=/build/r-base-VHKDZm/r-base-4.2.2.20221110=/usr/src/r-base-4.2.2.20221110-2build1 -Wdate-time -D_FORTIFY_SOURCE=2  -c core/internal/hacks.c -o core/internal/hacks.o\n",
      "gcc -I\"/usr/share/R/include\" -DNDEBUG -DUSING_R -I. -Icore -Iinclude -Ivendor -I/home/felipe/anaconda3/envs/breg/include/libxml2 -I/home/felipe/anaconda3/envs/breg/include -DNDEBUG -DNTIMER -DNPRINT -DINTERNAL_ARPACK -DPRPACK_IGRAPH_SUPPORT -DIGRAPH_THREAD_LOCAL=/**/ -D_GNU_SOURCE=1 -I'/home/felipe/R/x86_64-pc-linux-gnu-library/4.2/cpp11/include'   -fvisibility=hidden -fpic  -g -O2 -ffile-prefix-map=/build/r-base-VHKDZm/r-base-4.2.2.20221110=. -fstack-protector-strong -Wformat -Werror=format-security -fdebug-prefix-map=/build/r-base-VHKDZm/r-base-4.2.2.20221110=/usr/src/r-base-4.2.2.20221110-2build1 -Wdate-time -D_FORTIFY_SOURCE=2  -c core/internal/lsap.c -o core/internal/lsap.o\n"
     ]
    },
    {
     "name": "stdout",
     "output_type": "stream",
     "text": [
      "gcc -I\"/usr/share/R/include\" -DNDEBUG -DUSING_R -I. -Icore -Iinclude -Ivendor -I/home/felipe/anaconda3/envs/breg/include/libxml2 -I/home/felipe/anaconda3/envs/breg/include -DNDEBUG -DNTIMER -DNPRINT -DINTERNAL_ARPACK -DPRPACK_IGRAPH_SUPPORT -DIGRAPH_THREAD_LOCAL=/**/ -D_GNU_SOURCE=1 -I'/home/felipe/R/x86_64-pc-linux-gnu-library/4.2/cpp11/include'   -fvisibility=hidden -fpic  -g -O2 -ffile-prefix-map=/build/r-base-VHKDZm/r-base-4.2.2.20221110=. -fstack-protector-strong -Wformat -Werror=format-security -fdebug-prefix-map=/build/r-base-VHKDZm/r-base-4.2.2.20221110=/usr/src/r-base-4.2.2.20221110-2build1 -Wdate-time -D_FORTIFY_SOURCE=2  -c core/internal/qsort.c -o core/internal/qsort.o\n",
      "gcc -I\"/usr/share/R/include\" -DNDEBUG -DUSING_R -I. -Icore -Iinclude -Ivendor -I/home/felipe/anaconda3/envs/breg/include/libxml2 -I/home/felipe/anaconda3/envs/breg/include -DNDEBUG -DNTIMER -DNPRINT -DINTERNAL_ARPACK -DPRPACK_IGRAPH_SUPPORT -DIGRAPH_THREAD_LOCAL=/**/ -D_GNU_SOURCE=1 -I'/home/felipe/R/x86_64-pc-linux-gnu-library/4.2/cpp11/include'   -fvisibility=hidden -fpic  -g -O2 -ffile-prefix-map=/build/r-base-VHKDZm/r-base-4.2.2.20221110=. -fstack-protector-strong -Wformat -Werror=format-security -fdebug-prefix-map=/build/r-base-VHKDZm/r-base-4.2.2.20221110=/usr/src/r-base-4.2.2.20221110-2build1 -Wdate-time -D_FORTIFY_SOURCE=2  -c core/internal/qsort_r.c -o core/internal/qsort_r.o\n",
      "gcc -I\"/usr/share/R/include\" -DNDEBUG -DUSING_R -I. -Icore -Iinclude -Ivendor -I/home/felipe/anaconda3/envs/breg/include/libxml2 -I/home/felipe/anaconda3/envs/breg/include -DNDEBUG -DNTIMER -DNPRINT -DINTERNAL_ARPACK -DPRPACK_IGRAPH_SUPPORT -DIGRAPH_THREAD_LOCAL=/**/ -D_GNU_SOURCE=1 -I'/home/felipe/R/x86_64-pc-linux-gnu-library/4.2/cpp11/include'   -fvisibility=hidden -fpic  -g -O2 -ffile-prefix-map=/build/r-base-VHKDZm/r-base-4.2.2.20221110=. -fstack-protector-strong -Wformat -Werror=format-security -fdebug-prefix-map=/build/r-base-VHKDZm/r-base-4.2.2.20221110=/usr/src/r-base-4.2.2.20221110-2build1 -Wdate-time -D_FORTIFY_SOURCE=2  -c core/internal/zeroin.c -o core/internal/zeroin.o\n",
      "gcc -I\"/usr/share/R/include\" -DNDEBUG -DUSING_R -I. -Icore -Iinclude -Ivendor -I/home/felipe/anaconda3/envs/breg/include/libxml2 -I/home/felipe/anaconda3/envs/breg/include -DNDEBUG -DNTIMER -DNPRINT -DINTERNAL_ARPACK -DPRPACK_IGRAPH_SUPPORT -DIGRAPH_THREAD_LOCAL=/**/ -D_GNU_SOURCE=1 -I'/home/felipe/R/x86_64-pc-linux-gnu-library/4.2/cpp11/include'   -fvisibility=hidden -fpic  -g -O2 -ffile-prefix-map=/build/r-base-VHKDZm/r-base-4.2.2.20221110=. -fstack-protector-strong -Wformat -Werror=format-security -fdebug-prefix-map=/build/r-base-VHKDZm/r-base-4.2.2.20221110=/usr/src/r-base-4.2.2.20221110-2build1 -Wdate-time -D_FORTIFY_SOURCE=2  -c core/io/dimacs.c -o core/io/dimacs.o\n",
      "gcc -I\"/usr/share/R/include\" -DNDEBUG -DUSING_R -I. -Icore -Iinclude -Ivendor -I/home/felipe/anaconda3/envs/breg/include/libxml2 -I/home/felipe/anaconda3/envs/breg/include -DNDEBUG -DNTIMER -DNPRINT -DINTERNAL_ARPACK -DPRPACK_IGRAPH_SUPPORT -DIGRAPH_THREAD_LOCAL=/**/ -D_GNU_SOURCE=1 -I'/home/felipe/R/x86_64-pc-linux-gnu-library/4.2/cpp11/include'   -fvisibility=hidden -fpic  -g -O2 -ffile-prefix-map=/build/r-base-VHKDZm/r-base-4.2.2.20221110=. -fstack-protector-strong -Wformat -Werror=format-security -fdebug-prefix-map=/build/r-base-VHKDZm/r-base-4.2.2.20221110=/usr/src/r-base-4.2.2.20221110-2build1 -Wdate-time -D_FORTIFY_SOURCE=2  -c core/io/dl-lexer.c -o core/io/dl-lexer.o\n",
      "gcc -I\"/usr/share/R/include\" -DNDEBUG -DUSING_R -I. -Icore -Iinclude -Ivendor -I/home/felipe/anaconda3/envs/breg/include/libxml2 -I/home/felipe/anaconda3/envs/breg/include -DNDEBUG -DNTIMER -DNPRINT -DINTERNAL_ARPACK -DPRPACK_IGRAPH_SUPPORT -DIGRAPH_THREAD_LOCAL=/**/ -D_GNU_SOURCE=1 -I'/home/felipe/R/x86_64-pc-linux-gnu-library/4.2/cpp11/include'   -fvisibility=hidden -fpic  -g -O2 -ffile-prefix-map=/build/r-base-VHKDZm/r-base-4.2.2.20221110=. -fstack-protector-strong -Wformat -Werror=format-security -fdebug-prefix-map=/build/r-base-VHKDZm/r-base-4.2.2.20221110=/usr/src/r-base-4.2.2.20221110-2build1 -Wdate-time -D_FORTIFY_SOURCE=2  -c core/io/dl-parser.c -o core/io/dl-parser.o\n",
      "gcc -I\"/usr/share/R/include\" -DNDEBUG -DUSING_R -I. -Icore -Iinclude -Ivendor -I/home/felipe/anaconda3/envs/breg/include/libxml2 -I/home/felipe/anaconda3/envs/breg/include -DNDEBUG -DNTIMER -DNPRINT -DINTERNAL_ARPACK -DPRPACK_IGRAPH_SUPPORT -DIGRAPH_THREAD_LOCAL=/**/ -D_GNU_SOURCE=1 -I'/home/felipe/R/x86_64-pc-linux-gnu-library/4.2/cpp11/include'   -fvisibility=hidden -fpic  -g -O2 -ffile-prefix-map=/build/r-base-VHKDZm/r-base-4.2.2.20221110=. -fstack-protector-strong -Wformat -Werror=format-security -fdebug-prefix-map=/build/r-base-VHKDZm/r-base-4.2.2.20221110=/usr/src/r-base-4.2.2.20221110-2build1 -Wdate-time -D_FORTIFY_SOURCE=2  -c core/io/dl.c -o core/io/dl.o\n",
      "gcc -I\"/usr/share/R/include\" -DNDEBUG -DUSING_R -I. -Icore -Iinclude -Ivendor -I/home/felipe/anaconda3/envs/breg/include/libxml2 -I/home/felipe/anaconda3/envs/breg/include -DNDEBUG -DNTIMER -DNPRINT -DINTERNAL_ARPACK -DPRPACK_IGRAPH_SUPPORT -DIGRAPH_THREAD_LOCAL=/**/ -D_GNU_SOURCE=1 -I'/home/felipe/R/x86_64-pc-linux-gnu-library/4.2/cpp11/include'   -fvisibility=hidden -fpic  -g -O2 -ffile-prefix-map=/build/r-base-VHKDZm/r-base-4.2.2.20221110=. -fstack-protector-strong -Wformat -Werror=format-security -fdebug-prefix-map=/build/r-base-VHKDZm/r-base-4.2.2.20221110=/usr/src/r-base-4.2.2.20221110-2build1 -Wdate-time -D_FORTIFY_SOURCE=2  -c core/io/dot.c -o core/io/dot.o\n",
      "gcc -I\"/usr/share/R/include\" -DNDEBUG -DUSING_R -I. -Icore -Iinclude -Ivendor -I/home/felipe/anaconda3/envs/breg/include/libxml2 -I/home/felipe/anaconda3/envs/breg/include -DNDEBUG -DNTIMER -DNPRINT -DINTERNAL_ARPACK -DPRPACK_IGRAPH_SUPPORT -DIGRAPH_THREAD_LOCAL=/**/ -D_GNU_SOURCE=1 -I'/home/felipe/R/x86_64-pc-linux-gnu-library/4.2/cpp11/include'   -fvisibility=hidden -fpic  -g -O2 -ffile-prefix-map=/build/r-base-VHKDZm/r-base-4.2.2.20221110=. -fstack-protector-strong -Wformat -Werror=format-security -fdebug-prefix-map=/build/r-base-VHKDZm/r-base-4.2.2.20221110=/usr/src/r-base-4.2.2.20221110-2build1 -Wdate-time -D_FORTIFY_SOURCE=2  -c core/io/edgelist.c -o core/io/edgelist.o\n",
      "gcc -I\"/usr/share/R/include\" -DNDEBUG -DUSING_R -I. -Icore -Iinclude -Ivendor -I/home/felipe/anaconda3/envs/breg/include/libxml2 -I/home/felipe/anaconda3/envs/breg/include -DNDEBUG -DNTIMER -DNPRINT -DINTERNAL_ARPACK -DPRPACK_IGRAPH_SUPPORT -DIGRAPH_THREAD_LOCAL=/**/ -D_GNU_SOURCE=1 -I'/home/felipe/R/x86_64-pc-linux-gnu-library/4.2/cpp11/include'   -fvisibility=hidden -fpic  -g -O2 -ffile-prefix-map=/build/r-base-VHKDZm/r-base-4.2.2.20221110=. -fstack-protector-strong -Wformat -Werror=format-security -fdebug-prefix-map=/build/r-base-VHKDZm/r-base-4.2.2.20221110=/usr/src/r-base-4.2.2.20221110-2build1 -Wdate-time -D_FORTIFY_SOURCE=2  -c core/io/gml-lexer.c -o core/io/gml-lexer.o\n",
      "gcc -I\"/usr/share/R/include\" -DNDEBUG -DUSING_R -I. -Icore -Iinclude -Ivendor -I/home/felipe/anaconda3/envs/breg/include/libxml2 -I/home/felipe/anaconda3/envs/breg/include -DNDEBUG -DNTIMER -DNPRINT -DINTERNAL_ARPACK -DPRPACK_IGRAPH_SUPPORT -DIGRAPH_THREAD_LOCAL=/**/ -D_GNU_SOURCE=1 -I'/home/felipe/R/x86_64-pc-linux-gnu-library/4.2/cpp11/include'   -fvisibility=hidden -fpic  -g -O2 -ffile-prefix-map=/build/r-base-VHKDZm/r-base-4.2.2.20221110=. -fstack-protector-strong -Wformat -Werror=format-security -fdebug-prefix-map=/build/r-base-VHKDZm/r-base-4.2.2.20221110=/usr/src/r-base-4.2.2.20221110-2build1 -Wdate-time -D_FORTIFY_SOURCE=2  -c core/io/gml-parser.c -o core/io/gml-parser.o\n",
      "gcc -I\"/usr/share/R/include\" -DNDEBUG -DUSING_R -I. -Icore -Iinclude -Ivendor -I/home/felipe/anaconda3/envs/breg/include/libxml2 -I/home/felipe/anaconda3/envs/breg/include -DNDEBUG -DNTIMER -DNPRINT -DINTERNAL_ARPACK -DPRPACK_IGRAPH_SUPPORT -DIGRAPH_THREAD_LOCAL=/**/ -D_GNU_SOURCE=1 -I'/home/felipe/R/x86_64-pc-linux-gnu-library/4.2/cpp11/include'   -fvisibility=hidden -fpic  -g -O2 -ffile-prefix-map=/build/r-base-VHKDZm/r-base-4.2.2.20221110=. -fstack-protector-strong -Wformat -Werror=format-security -fdebug-prefix-map=/build/r-base-VHKDZm/r-base-4.2.2.20221110=/usr/src/r-base-4.2.2.20221110-2build1 -Wdate-time -D_FORTIFY_SOURCE=2  -c core/io/gml-tree.c -o core/io/gml-tree.o\n"
     ]
    },
    {
     "name": "stdout",
     "output_type": "stream",
     "text": [
      "gcc -I\"/usr/share/R/include\" -DNDEBUG -DUSING_R -I. -Icore -Iinclude -Ivendor -I/home/felipe/anaconda3/envs/breg/include/libxml2 -I/home/felipe/anaconda3/envs/breg/include -DNDEBUG -DNTIMER -DNPRINT -DINTERNAL_ARPACK -DPRPACK_IGRAPH_SUPPORT -DIGRAPH_THREAD_LOCAL=/**/ -D_GNU_SOURCE=1 -I'/home/felipe/R/x86_64-pc-linux-gnu-library/4.2/cpp11/include'   -fvisibility=hidden -fpic  -g -O2 -ffile-prefix-map=/build/r-base-VHKDZm/r-base-4.2.2.20221110=. -fstack-protector-strong -Wformat -Werror=format-security -fdebug-prefix-map=/build/r-base-VHKDZm/r-base-4.2.2.20221110=/usr/src/r-base-4.2.2.20221110-2build1 -Wdate-time -D_FORTIFY_SOURCE=2  -c core/io/gml.c -o core/io/gml.o\n",
      "gcc -I\"/usr/share/R/include\" -DNDEBUG -DUSING_R -I. -Icore -Iinclude -Ivendor -I/home/felipe/anaconda3/envs/breg/include/libxml2 -I/home/felipe/anaconda3/envs/breg/include -DNDEBUG -DNTIMER -DNPRINT -DINTERNAL_ARPACK -DPRPACK_IGRAPH_SUPPORT -DIGRAPH_THREAD_LOCAL=/**/ -D_GNU_SOURCE=1 -I'/home/felipe/R/x86_64-pc-linux-gnu-library/4.2/cpp11/include'   -fvisibility=hidden -fpic  -g -O2 -ffile-prefix-map=/build/r-base-VHKDZm/r-base-4.2.2.20221110=. -fstack-protector-strong -Wformat -Werror=format-security -fdebug-prefix-map=/build/r-base-VHKDZm/r-base-4.2.2.20221110=/usr/src/r-base-4.2.2.20221110-2build1 -Wdate-time -D_FORTIFY_SOURCE=2  -c core/io/graphdb.c -o core/io/graphdb.o\n",
      "gcc -I\"/usr/share/R/include\" -DNDEBUG -DUSING_R -I. -Icore -Iinclude -Ivendor -I/home/felipe/anaconda3/envs/breg/include/libxml2 -I/home/felipe/anaconda3/envs/breg/include -DNDEBUG -DNTIMER -DNPRINT -DINTERNAL_ARPACK -DPRPACK_IGRAPH_SUPPORT -DIGRAPH_THREAD_LOCAL=/**/ -D_GNU_SOURCE=1 -I'/home/felipe/R/x86_64-pc-linux-gnu-library/4.2/cpp11/include'   -fvisibility=hidden -fpic  -g -O2 -ffile-prefix-map=/build/r-base-VHKDZm/r-base-4.2.2.20221110=. -fstack-protector-strong -Wformat -Werror=format-security -fdebug-prefix-map=/build/r-base-VHKDZm/r-base-4.2.2.20221110=/usr/src/r-base-4.2.2.20221110-2build1 -Wdate-time -D_FORTIFY_SOURCE=2  -c core/io/graphml.c -o core/io/graphml.o\n",
      "gcc -I\"/usr/share/R/include\" -DNDEBUG -DUSING_R -I. -Icore -Iinclude -Ivendor -I/home/felipe/anaconda3/envs/breg/include/libxml2 -I/home/felipe/anaconda3/envs/breg/include -DNDEBUG -DNTIMER -DNPRINT -DINTERNAL_ARPACK -DPRPACK_IGRAPH_SUPPORT -DIGRAPH_THREAD_LOCAL=/**/ -D_GNU_SOURCE=1 -I'/home/felipe/R/x86_64-pc-linux-gnu-library/4.2/cpp11/include'   -fvisibility=hidden -fpic  -g -O2 -ffile-prefix-map=/build/r-base-VHKDZm/r-base-4.2.2.20221110=. -fstack-protector-strong -Wformat -Werror=format-security -fdebug-prefix-map=/build/r-base-VHKDZm/r-base-4.2.2.20221110=/usr/src/r-base-4.2.2.20221110-2build1 -Wdate-time -D_FORTIFY_SOURCE=2  -c core/io/leda.c -o core/io/leda.o\n",
      "gcc -I\"/usr/share/R/include\" -DNDEBUG -DUSING_R -I. -Icore -Iinclude -Ivendor -I/home/felipe/anaconda3/envs/breg/include/libxml2 -I/home/felipe/anaconda3/envs/breg/include -DNDEBUG -DNTIMER -DNPRINT -DINTERNAL_ARPACK -DPRPACK_IGRAPH_SUPPORT -DIGRAPH_THREAD_LOCAL=/**/ -D_GNU_SOURCE=1 -I'/home/felipe/R/x86_64-pc-linux-gnu-library/4.2/cpp11/include'   -fvisibility=hidden -fpic  -g -O2 -ffile-prefix-map=/build/r-base-VHKDZm/r-base-4.2.2.20221110=. -fstack-protector-strong -Wformat -Werror=format-security -fdebug-prefix-map=/build/r-base-VHKDZm/r-base-4.2.2.20221110=/usr/src/r-base-4.2.2.20221110-2build1 -Wdate-time -D_FORTIFY_SOURCE=2  -c core/io/lgl-lexer.c -o core/io/lgl-lexer.o\n",
      "gcc -I\"/usr/share/R/include\" -DNDEBUG -DUSING_R -I. -Icore -Iinclude -Ivendor -I/home/felipe/anaconda3/envs/breg/include/libxml2 -I/home/felipe/anaconda3/envs/breg/include -DNDEBUG -DNTIMER -DNPRINT -DINTERNAL_ARPACK -DPRPACK_IGRAPH_SUPPORT -DIGRAPH_THREAD_LOCAL=/**/ -D_GNU_SOURCE=1 -I'/home/felipe/R/x86_64-pc-linux-gnu-library/4.2/cpp11/include'   -fvisibility=hidden -fpic  -g -O2 -ffile-prefix-map=/build/r-base-VHKDZm/r-base-4.2.2.20221110=. -fstack-protector-strong -Wformat -Werror=format-security -fdebug-prefix-map=/build/r-base-VHKDZm/r-base-4.2.2.20221110=/usr/src/r-base-4.2.2.20221110-2build1 -Wdate-time -D_FORTIFY_SOURCE=2  -c core/io/lgl-parser.c -o core/io/lgl-parser.o\n",
      "gcc -I\"/usr/share/R/include\" -DNDEBUG -DUSING_R -I. -Icore -Iinclude -Ivendor -I/home/felipe/anaconda3/envs/breg/include/libxml2 -I/home/felipe/anaconda3/envs/breg/include -DNDEBUG -DNTIMER -DNPRINT -DINTERNAL_ARPACK -DPRPACK_IGRAPH_SUPPORT -DIGRAPH_THREAD_LOCAL=/**/ -D_GNU_SOURCE=1 -I'/home/felipe/R/x86_64-pc-linux-gnu-library/4.2/cpp11/include'   -fvisibility=hidden -fpic  -g -O2 -ffile-prefix-map=/build/r-base-VHKDZm/r-base-4.2.2.20221110=. -fstack-protector-strong -Wformat -Werror=format-security -fdebug-prefix-map=/build/r-base-VHKDZm/r-base-4.2.2.20221110=/usr/src/r-base-4.2.2.20221110-2build1 -Wdate-time -D_FORTIFY_SOURCE=2  -c core/io/lgl.c -o core/io/lgl.o\n",
      "gcc -I\"/usr/share/R/include\" -DNDEBUG -DUSING_R -I. -Icore -Iinclude -Ivendor -I/home/felipe/anaconda3/envs/breg/include/libxml2 -I/home/felipe/anaconda3/envs/breg/include -DNDEBUG -DNTIMER -DNPRINT -DINTERNAL_ARPACK -DPRPACK_IGRAPH_SUPPORT -DIGRAPH_THREAD_LOCAL=/**/ -D_GNU_SOURCE=1 -I'/home/felipe/R/x86_64-pc-linux-gnu-library/4.2/cpp11/include'   -fvisibility=hidden -fpic  -g -O2 -ffile-prefix-map=/build/r-base-VHKDZm/r-base-4.2.2.20221110=. -fstack-protector-strong -Wformat -Werror=format-security -fdebug-prefix-map=/build/r-base-VHKDZm/r-base-4.2.2.20221110=/usr/src/r-base-4.2.2.20221110-2build1 -Wdate-time -D_FORTIFY_SOURCE=2  -c core/io/ncol-lexer.c -o core/io/ncol-lexer.o\n",
      "gcc -I\"/usr/share/R/include\" -DNDEBUG -DUSING_R -I. -Icore -Iinclude -Ivendor -I/home/felipe/anaconda3/envs/breg/include/libxml2 -I/home/felipe/anaconda3/envs/breg/include -DNDEBUG -DNTIMER -DNPRINT -DINTERNAL_ARPACK -DPRPACK_IGRAPH_SUPPORT -DIGRAPH_THREAD_LOCAL=/**/ -D_GNU_SOURCE=1 -I'/home/felipe/R/x86_64-pc-linux-gnu-library/4.2/cpp11/include'   -fvisibility=hidden -fpic  -g -O2 -ffile-prefix-map=/build/r-base-VHKDZm/r-base-4.2.2.20221110=. -fstack-protector-strong -Wformat -Werror=format-security -fdebug-prefix-map=/build/r-base-VHKDZm/r-base-4.2.2.20221110=/usr/src/r-base-4.2.2.20221110-2build1 -Wdate-time -D_FORTIFY_SOURCE=2  -c core/io/ncol-parser.c -o core/io/ncol-parser.o\n",
      "gcc -I\"/usr/share/R/include\" -DNDEBUG -DUSING_R -I. -Icore -Iinclude -Ivendor -I/home/felipe/anaconda3/envs/breg/include/libxml2 -I/home/felipe/anaconda3/envs/breg/include -DNDEBUG -DNTIMER -DNPRINT -DINTERNAL_ARPACK -DPRPACK_IGRAPH_SUPPORT -DIGRAPH_THREAD_LOCAL=/**/ -D_GNU_SOURCE=1 -I'/home/felipe/R/x86_64-pc-linux-gnu-library/4.2/cpp11/include'   -fvisibility=hidden -fpic  -g -O2 -ffile-prefix-map=/build/r-base-VHKDZm/r-base-4.2.2.20221110=. -fstack-protector-strong -Wformat -Werror=format-security -fdebug-prefix-map=/build/r-base-VHKDZm/r-base-4.2.2.20221110=/usr/src/r-base-4.2.2.20221110-2build1 -Wdate-time -D_FORTIFY_SOURCE=2  -c core/io/ncol.c -o core/io/ncol.o\n",
      "gcc -I\"/usr/share/R/include\" -DNDEBUG -DUSING_R -I. -Icore -Iinclude -Ivendor -I/home/felipe/anaconda3/envs/breg/include/libxml2 -I/home/felipe/anaconda3/envs/breg/include -DNDEBUG -DNTIMER -DNPRINT -DINTERNAL_ARPACK -DPRPACK_IGRAPH_SUPPORT -DIGRAPH_THREAD_LOCAL=/**/ -D_GNU_SOURCE=1 -I'/home/felipe/R/x86_64-pc-linux-gnu-library/4.2/cpp11/include'   -fvisibility=hidden -fpic  -g -O2 -ffile-prefix-map=/build/r-base-VHKDZm/r-base-4.2.2.20221110=. -fstack-protector-strong -Wformat -Werror=format-security -fdebug-prefix-map=/build/r-base-VHKDZm/r-base-4.2.2.20221110=/usr/src/r-base-4.2.2.20221110-2build1 -Wdate-time -D_FORTIFY_SOURCE=2  -c core/io/pajek-lexer.c -o core/io/pajek-lexer.o\n",
      "gcc -I\"/usr/share/R/include\" -DNDEBUG -DUSING_R -I. -Icore -Iinclude -Ivendor -I/home/felipe/anaconda3/envs/breg/include/libxml2 -I/home/felipe/anaconda3/envs/breg/include -DNDEBUG -DNTIMER -DNPRINT -DINTERNAL_ARPACK -DPRPACK_IGRAPH_SUPPORT -DIGRAPH_THREAD_LOCAL=/**/ -D_GNU_SOURCE=1 -I'/home/felipe/R/x86_64-pc-linux-gnu-library/4.2/cpp11/include'   -fvisibility=hidden -fpic  -g -O2 -ffile-prefix-map=/build/r-base-VHKDZm/r-base-4.2.2.20221110=. -fstack-protector-strong -Wformat -Werror=format-security -fdebug-prefix-map=/build/r-base-VHKDZm/r-base-4.2.2.20221110=/usr/src/r-base-4.2.2.20221110-2build1 -Wdate-time -D_FORTIFY_SOURCE=2  -c core/io/pajek-parser.c -o core/io/pajek-parser.o\n"
     ]
    },
    {
     "name": "stdout",
     "output_type": "stream",
     "text": [
      "gcc -I\"/usr/share/R/include\" -DNDEBUG -DUSING_R -I. -Icore -Iinclude -Ivendor -I/home/felipe/anaconda3/envs/breg/include/libxml2 -I/home/felipe/anaconda3/envs/breg/include -DNDEBUG -DNTIMER -DNPRINT -DINTERNAL_ARPACK -DPRPACK_IGRAPH_SUPPORT -DIGRAPH_THREAD_LOCAL=/**/ -D_GNU_SOURCE=1 -I'/home/felipe/R/x86_64-pc-linux-gnu-library/4.2/cpp11/include'   -fvisibility=hidden -fpic  -g -O2 -ffile-prefix-map=/build/r-base-VHKDZm/r-base-4.2.2.20221110=. -fstack-protector-strong -Wformat -Werror=format-security -fdebug-prefix-map=/build/r-base-VHKDZm/r-base-4.2.2.20221110=/usr/src/r-base-4.2.2.20221110-2build1 -Wdate-time -D_FORTIFY_SOURCE=2  -c core/io/pajek.c -o core/io/pajek.o\n",
      "g++ -std=gnu++14 -I\"/usr/share/R/include\" -DNDEBUG -DUSING_R -I. -Icore -Iinclude -Ivendor -I/home/felipe/anaconda3/envs/breg/include/libxml2 -I/home/felipe/anaconda3/envs/breg/include -DNDEBUG -DNTIMER -DNPRINT -DINTERNAL_ARPACK -DPRPACK_IGRAPH_SUPPORT -DIGRAPH_THREAD_LOCAL=/**/ -D_GNU_SOURCE=1 -I'/home/felipe/R/x86_64-pc-linux-gnu-library/4.2/cpp11/include'   -fvisibility=hidden -fpic  -g -O2 -ffile-prefix-map=/build/r-base-VHKDZm/r-base-4.2.2.20221110=. -fstack-protector-strong -Wformat -Werror=format-security -fdebug-prefix-map=/build/r-base-VHKDZm/r-base-4.2.2.20221110=/usr/src/r-base-4.2.2.20221110-2build1 -Wdate-time -D_FORTIFY_SOURCE=2  -c core/isomorphism/bliss.cc -o core/isomorphism/bliss.o\n",
      "g++ -std=gnu++14 -I\"/usr/share/R/include\" -DNDEBUG -DUSING_R -I. -Icore -Iinclude -Ivendor -I/home/felipe/anaconda3/envs/breg/include/libxml2 -I/home/felipe/anaconda3/envs/breg/include -DNDEBUG -DNTIMER -DNPRINT -DINTERNAL_ARPACK -DPRPACK_IGRAPH_SUPPORT -DIGRAPH_THREAD_LOCAL=/**/ -D_GNU_SOURCE=1 -I'/home/felipe/R/x86_64-pc-linux-gnu-library/4.2/cpp11/include'   -fvisibility=hidden -fpic  -g -O2 -ffile-prefix-map=/build/r-base-VHKDZm/r-base-4.2.2.20221110=. -fstack-protector-strong -Wformat -Werror=format-security -fdebug-prefix-map=/build/r-base-VHKDZm/r-base-4.2.2.20221110=/usr/src/r-base-4.2.2.20221110-2build1 -Wdate-time -D_FORTIFY_SOURCE=2  -c core/isomorphism/bliss/defs.cc -o core/isomorphism/bliss/defs.o\n",
      "g++ -std=gnu++14 -I\"/usr/share/R/include\" -DNDEBUG -DUSING_R -I. -Icore -Iinclude -Ivendor -I/home/felipe/anaconda3/envs/breg/include/libxml2 -I/home/felipe/anaconda3/envs/breg/include -DNDEBUG -DNTIMER -DNPRINT -DINTERNAL_ARPACK -DPRPACK_IGRAPH_SUPPORT -DIGRAPH_THREAD_LOCAL=/**/ -D_GNU_SOURCE=1 -I'/home/felipe/R/x86_64-pc-linux-gnu-library/4.2/cpp11/include'   -fvisibility=hidden -fpic  -g -O2 -ffile-prefix-map=/build/r-base-VHKDZm/r-base-4.2.2.20221110=. -fstack-protector-strong -Wformat -Werror=format-security -fdebug-prefix-map=/build/r-base-VHKDZm/r-base-4.2.2.20221110=/usr/src/r-base-4.2.2.20221110-2build1 -Wdate-time -D_FORTIFY_SOURCE=2  -c core/isomorphism/bliss/graph.cc -o core/isomorphism/bliss/graph.o\n",
      "g++ -std=gnu++14 -I\"/usr/share/R/include\" -DNDEBUG -DUSING_R -I. -Icore -Iinclude -Ivendor -I/home/felipe/anaconda3/envs/breg/include/libxml2 -I/home/felipe/anaconda3/envs/breg/include -DNDEBUG -DNTIMER -DNPRINT -DINTERNAL_ARPACK -DPRPACK_IGRAPH_SUPPORT -DIGRAPH_THREAD_LOCAL=/**/ -D_GNU_SOURCE=1 -I'/home/felipe/R/x86_64-pc-linux-gnu-library/4.2/cpp11/include'   -fvisibility=hidden -fpic  -g -O2 -ffile-prefix-map=/build/r-base-VHKDZm/r-base-4.2.2.20221110=. -fstack-protector-strong -Wformat -Werror=format-security -fdebug-prefix-map=/build/r-base-VHKDZm/r-base-4.2.2.20221110=/usr/src/r-base-4.2.2.20221110-2build1 -Wdate-time -D_FORTIFY_SOURCE=2  -c core/isomorphism/bliss/heap.cc -o core/isomorphism/bliss/heap.o\n",
      "g++ -std=gnu++14 -I\"/usr/share/R/include\" -DNDEBUG -DUSING_R -I. -Icore -Iinclude -Ivendor -I/home/felipe/anaconda3/envs/breg/include/libxml2 -I/home/felipe/anaconda3/envs/breg/include -DNDEBUG -DNTIMER -DNPRINT -DINTERNAL_ARPACK -DPRPACK_IGRAPH_SUPPORT -DIGRAPH_THREAD_LOCAL=/**/ -D_GNU_SOURCE=1 -I'/home/felipe/R/x86_64-pc-linux-gnu-library/4.2/cpp11/include'   -fvisibility=hidden -fpic  -g -O2 -ffile-prefix-map=/build/r-base-VHKDZm/r-base-4.2.2.20221110=. -fstack-protector-strong -Wformat -Werror=format-security -fdebug-prefix-map=/build/r-base-VHKDZm/r-base-4.2.2.20221110=/usr/src/r-base-4.2.2.20221110-2build1 -Wdate-time -D_FORTIFY_SOURCE=2  -c core/isomorphism/bliss/orbit.cc -o core/isomorphism/bliss/orbit.o\n",
      "g++ -std=gnu++14 -I\"/usr/share/R/include\" -DNDEBUG -DUSING_R -I. -Icore -Iinclude -Ivendor -I/home/felipe/anaconda3/envs/breg/include/libxml2 -I/home/felipe/anaconda3/envs/breg/include -DNDEBUG -DNTIMER -DNPRINT -DINTERNAL_ARPACK -DPRPACK_IGRAPH_SUPPORT -DIGRAPH_THREAD_LOCAL=/**/ -D_GNU_SOURCE=1 -I'/home/felipe/R/x86_64-pc-linux-gnu-library/4.2/cpp11/include'   -fvisibility=hidden -fpic  -g -O2 -ffile-prefix-map=/build/r-base-VHKDZm/r-base-4.2.2.20221110=. -fstack-protector-strong -Wformat -Werror=format-security -fdebug-prefix-map=/build/r-base-VHKDZm/r-base-4.2.2.20221110=/usr/src/r-base-4.2.2.20221110-2build1 -Wdate-time -D_FORTIFY_SOURCE=2  -c core/isomorphism/bliss/partition.cc -o core/isomorphism/bliss/partition.o\n",
      "g++ -std=gnu++14 -I\"/usr/share/R/include\" -DNDEBUG -DUSING_R -I. -Icore -Iinclude -Ivendor -I/home/felipe/anaconda3/envs/breg/include/libxml2 -I/home/felipe/anaconda3/envs/breg/include -DNDEBUG -DNTIMER -DNPRINT -DINTERNAL_ARPACK -DPRPACK_IGRAPH_SUPPORT -DIGRAPH_THREAD_LOCAL=/**/ -D_GNU_SOURCE=1 -I'/home/felipe/R/x86_64-pc-linux-gnu-library/4.2/cpp11/include'   -fvisibility=hidden -fpic  -g -O2 -ffile-prefix-map=/build/r-base-VHKDZm/r-base-4.2.2.20221110=. -fstack-protector-strong -Wformat -Werror=format-security -fdebug-prefix-map=/build/r-base-VHKDZm/r-base-4.2.2.20221110=/usr/src/r-base-4.2.2.20221110-2build1 -Wdate-time -D_FORTIFY_SOURCE=2  -c core/isomorphism/bliss/uintseqhash.cc -o core/isomorphism/bliss/uintseqhash.o\n",
      "g++ -std=gnu++14 -I\"/usr/share/R/include\" -DNDEBUG -DUSING_R -I. -Icore -Iinclude -Ivendor -I/home/felipe/anaconda3/envs/breg/include/libxml2 -I/home/felipe/anaconda3/envs/breg/include -DNDEBUG -DNTIMER -DNPRINT -DINTERNAL_ARPACK -DPRPACK_IGRAPH_SUPPORT -DIGRAPH_THREAD_LOCAL=/**/ -D_GNU_SOURCE=1 -I'/home/felipe/R/x86_64-pc-linux-gnu-library/4.2/cpp11/include'   -fvisibility=hidden -fpic  -g -O2 -ffile-prefix-map=/build/r-base-VHKDZm/r-base-4.2.2.20221110=. -fstack-protector-strong -Wformat -Werror=format-security -fdebug-prefix-map=/build/r-base-VHKDZm/r-base-4.2.2.20221110=/usr/src/r-base-4.2.2.20221110-2build1 -Wdate-time -D_FORTIFY_SOURCE=2  -c core/isomorphism/bliss/utils.cc -o core/isomorphism/bliss/utils.o\n",
      "gcc -I\"/usr/share/R/include\" -DNDEBUG -DUSING_R -I. -Icore -Iinclude -Ivendor -I/home/felipe/anaconda3/envs/breg/include/libxml2 -I/home/felipe/anaconda3/envs/breg/include -DNDEBUG -DNTIMER -DNPRINT -DINTERNAL_ARPACK -DPRPACK_IGRAPH_SUPPORT -DIGRAPH_THREAD_LOCAL=/**/ -D_GNU_SOURCE=1 -I'/home/felipe/R/x86_64-pc-linux-gnu-library/4.2/cpp11/include'   -fvisibility=hidden -fpic  -g -O2 -ffile-prefix-map=/build/r-base-VHKDZm/r-base-4.2.2.20221110=. -fstack-protector-strong -Wformat -Werror=format-security -fdebug-prefix-map=/build/r-base-VHKDZm/r-base-4.2.2.20221110=/usr/src/r-base-4.2.2.20221110-2build1 -Wdate-time -D_FORTIFY_SOURCE=2  -c core/isomorphism/isoclasses.c -o core/isomorphism/isoclasses.o\n",
      "gcc -I\"/usr/share/R/include\" -DNDEBUG -DUSING_R -I. -Icore -Iinclude -Ivendor -I/home/felipe/anaconda3/envs/breg/include/libxml2 -I/home/felipe/anaconda3/envs/breg/include -DNDEBUG -DNTIMER -DNPRINT -DINTERNAL_ARPACK -DPRPACK_IGRAPH_SUPPORT -DIGRAPH_THREAD_LOCAL=/**/ -D_GNU_SOURCE=1 -I'/home/felipe/R/x86_64-pc-linux-gnu-library/4.2/cpp11/include'   -fvisibility=hidden -fpic  -g -O2 -ffile-prefix-map=/build/r-base-VHKDZm/r-base-4.2.2.20221110=. -fstack-protector-strong -Wformat -Werror=format-security -fdebug-prefix-map=/build/r-base-VHKDZm/r-base-4.2.2.20221110=/usr/src/r-base-4.2.2.20221110-2build1 -Wdate-time -D_FORTIFY_SOURCE=2  -c core/isomorphism/isomorphism_misc.c -o core/isomorphism/isomorphism_misc.o\n",
      "gcc -I\"/usr/share/R/include\" -DNDEBUG -DUSING_R -I. -Icore -Iinclude -Ivendor -I/home/felipe/anaconda3/envs/breg/include/libxml2 -I/home/felipe/anaconda3/envs/breg/include -DNDEBUG -DNTIMER -DNPRINT -DINTERNAL_ARPACK -DPRPACK_IGRAPH_SUPPORT -DIGRAPH_THREAD_LOCAL=/**/ -D_GNU_SOURCE=1 -I'/home/felipe/R/x86_64-pc-linux-gnu-library/4.2/cpp11/include'   -fvisibility=hidden -fpic  -g -O2 -ffile-prefix-map=/build/r-base-VHKDZm/r-base-4.2.2.20221110=. -fstack-protector-strong -Wformat -Werror=format-security -fdebug-prefix-map=/build/r-base-VHKDZm/r-base-4.2.2.20221110=/usr/src/r-base-4.2.2.20221110-2build1 -Wdate-time -D_FORTIFY_SOURCE=2  -c core/isomorphism/lad.c -o core/isomorphism/lad.o\n"
     ]
    },
    {
     "name": "stdout",
     "output_type": "stream",
     "text": [
      "gcc -I\"/usr/share/R/include\" -DNDEBUG -DUSING_R -I. -Icore -Iinclude -Ivendor -I/home/felipe/anaconda3/envs/breg/include/libxml2 -I/home/felipe/anaconda3/envs/breg/include -DNDEBUG -DNTIMER -DNPRINT -DINTERNAL_ARPACK -DPRPACK_IGRAPH_SUPPORT -DIGRAPH_THREAD_LOCAL=/**/ -D_GNU_SOURCE=1 -I'/home/felipe/R/x86_64-pc-linux-gnu-library/4.2/cpp11/include'   -fvisibility=hidden -fpic  -g -O2 -ffile-prefix-map=/build/r-base-VHKDZm/r-base-4.2.2.20221110=. -fstack-protector-strong -Wformat -Werror=format-security -fdebug-prefix-map=/build/r-base-VHKDZm/r-base-4.2.2.20221110=/usr/src/r-base-4.2.2.20221110-2build1 -Wdate-time -D_FORTIFY_SOURCE=2  -c core/isomorphism/queries.c -o core/isomorphism/queries.o\n",
      "gcc -I\"/usr/share/R/include\" -DNDEBUG -DUSING_R -I. -Icore -Iinclude -Ivendor -I/home/felipe/anaconda3/envs/breg/include/libxml2 -I/home/felipe/anaconda3/envs/breg/include -DNDEBUG -DNTIMER -DNPRINT -DINTERNAL_ARPACK -DPRPACK_IGRAPH_SUPPORT -DIGRAPH_THREAD_LOCAL=/**/ -D_GNU_SOURCE=1 -I'/home/felipe/R/x86_64-pc-linux-gnu-library/4.2/cpp11/include'   -fvisibility=hidden -fpic  -g -O2 -ffile-prefix-map=/build/r-base-VHKDZm/r-base-4.2.2.20221110=. -fstack-protector-strong -Wformat -Werror=format-security -fdebug-prefix-map=/build/r-base-VHKDZm/r-base-4.2.2.20221110=/usr/src/r-base-4.2.2.20221110-2build1 -Wdate-time -D_FORTIFY_SOURCE=2  -c core/isomorphism/vf2.c -o core/isomorphism/vf2.o\n",
      "gcc -I\"/usr/share/R/include\" -DNDEBUG -DUSING_R -I. -Icore -Iinclude -Ivendor -I/home/felipe/anaconda3/envs/breg/include/libxml2 -I/home/felipe/anaconda3/envs/breg/include -DNDEBUG -DNTIMER -DNPRINT -DINTERNAL_ARPACK -DPRPACK_IGRAPH_SUPPORT -DIGRAPH_THREAD_LOCAL=/**/ -D_GNU_SOURCE=1 -I'/home/felipe/R/x86_64-pc-linux-gnu-library/4.2/cpp11/include'   -fvisibility=hidden -fpic  -g -O2 -ffile-prefix-map=/build/r-base-VHKDZm/r-base-4.2.2.20221110=. -fstack-protector-strong -Wformat -Werror=format-security -fdebug-prefix-map=/build/r-base-VHKDZm/r-base-4.2.2.20221110=/usr/src/r-base-4.2.2.20221110-2build1 -Wdate-time -D_FORTIFY_SOURCE=2  -c core/layout/circular.c -o core/layout/circular.o\n",
      "gcc -I\"/usr/share/R/include\" -DNDEBUG -DUSING_R -I. -Icore -Iinclude -Ivendor -I/home/felipe/anaconda3/envs/breg/include/libxml2 -I/home/felipe/anaconda3/envs/breg/include -DNDEBUG -DNTIMER -DNPRINT -DINTERNAL_ARPACK -DPRPACK_IGRAPH_SUPPORT -DIGRAPH_THREAD_LOCAL=/**/ -D_GNU_SOURCE=1 -I'/home/felipe/R/x86_64-pc-linux-gnu-library/4.2/cpp11/include'   -fvisibility=hidden -fpic  -g -O2 -ffile-prefix-map=/build/r-base-VHKDZm/r-base-4.2.2.20221110=. -fstack-protector-strong -Wformat -Werror=format-security -fdebug-prefix-map=/build/r-base-VHKDZm/r-base-4.2.2.20221110=/usr/src/r-base-4.2.2.20221110-2build1 -Wdate-time -D_FORTIFY_SOURCE=2  -c core/layout/davidson_harel.c -o core/layout/davidson_harel.o\n",
      "g++ -std=gnu++14 -I\"/usr/share/R/include\" -DNDEBUG -DUSING_R -I. -Icore -Iinclude -Ivendor -I/home/felipe/anaconda3/envs/breg/include/libxml2 -I/home/felipe/anaconda3/envs/breg/include -DNDEBUG -DNTIMER -DNPRINT -DINTERNAL_ARPACK -DPRPACK_IGRAPH_SUPPORT -DIGRAPH_THREAD_LOCAL=/**/ -D_GNU_SOURCE=1 -I'/home/felipe/R/x86_64-pc-linux-gnu-library/4.2/cpp11/include'   -fvisibility=hidden -fpic  -g -O2 -ffile-prefix-map=/build/r-base-VHKDZm/r-base-4.2.2.20221110=. -fstack-protector-strong -Wformat -Werror=format-security -fdebug-prefix-map=/build/r-base-VHKDZm/r-base-4.2.2.20221110=/usr/src/r-base-4.2.2.20221110-2build1 -Wdate-time -D_FORTIFY_SOURCE=2  -c core/layout/drl/DensityGrid.cpp -o core/layout/drl/DensityGrid.o\n",
      "g++ -std=gnu++14 -I\"/usr/share/R/include\" -DNDEBUG -DUSING_R -I. -Icore -Iinclude -Ivendor -I/home/felipe/anaconda3/envs/breg/include/libxml2 -I/home/felipe/anaconda3/envs/breg/include -DNDEBUG -DNTIMER -DNPRINT -DINTERNAL_ARPACK -DPRPACK_IGRAPH_SUPPORT -DIGRAPH_THREAD_LOCAL=/**/ -D_GNU_SOURCE=1 -I'/home/felipe/R/x86_64-pc-linux-gnu-library/4.2/cpp11/include'   -fvisibility=hidden -fpic  -g -O2 -ffile-prefix-map=/build/r-base-VHKDZm/r-base-4.2.2.20221110=. -fstack-protector-strong -Wformat -Werror=format-security -fdebug-prefix-map=/build/r-base-VHKDZm/r-base-4.2.2.20221110=/usr/src/r-base-4.2.2.20221110-2build1 -Wdate-time -D_FORTIFY_SOURCE=2  -c core/layout/drl/DensityGrid_3d.cpp -o core/layout/drl/DensityGrid_3d.o\n",
      "g++ -std=gnu++14 -I\"/usr/share/R/include\" -DNDEBUG -DUSING_R -I. -Icore -Iinclude -Ivendor -I/home/felipe/anaconda3/envs/breg/include/libxml2 -I/home/felipe/anaconda3/envs/breg/include -DNDEBUG -DNTIMER -DNPRINT -DINTERNAL_ARPACK -DPRPACK_IGRAPH_SUPPORT -DIGRAPH_THREAD_LOCAL=/**/ -D_GNU_SOURCE=1 -I'/home/felipe/R/x86_64-pc-linux-gnu-library/4.2/cpp11/include'   -fvisibility=hidden -fpic  -g -O2 -ffile-prefix-map=/build/r-base-VHKDZm/r-base-4.2.2.20221110=. -fstack-protector-strong -Wformat -Werror=format-security -fdebug-prefix-map=/build/r-base-VHKDZm/r-base-4.2.2.20221110=/usr/src/r-base-4.2.2.20221110-2build1 -Wdate-time -D_FORTIFY_SOURCE=2  -c core/layout/drl/drl_graph.cpp -o core/layout/drl/drl_graph.o\n",
      "g++ -std=gnu++14 -I\"/usr/share/R/include\" -DNDEBUG -DUSING_R -I. -Icore -Iinclude -Ivendor -I/home/felipe/anaconda3/envs/breg/include/libxml2 -I/home/felipe/anaconda3/envs/breg/include -DNDEBUG -DNTIMER -DNPRINT -DINTERNAL_ARPACK -DPRPACK_IGRAPH_SUPPORT -DIGRAPH_THREAD_LOCAL=/**/ -D_GNU_SOURCE=1 -I'/home/felipe/R/x86_64-pc-linux-gnu-library/4.2/cpp11/include'   -fvisibility=hidden -fpic  -g -O2 -ffile-prefix-map=/build/r-base-VHKDZm/r-base-4.2.2.20221110=. -fstack-protector-strong -Wformat -Werror=format-security -fdebug-prefix-map=/build/r-base-VHKDZm/r-base-4.2.2.20221110=/usr/src/r-base-4.2.2.20221110-2build1 -Wdate-time -D_FORTIFY_SOURCE=2  -c core/layout/drl/drl_graph_3d.cpp -o core/layout/drl/drl_graph_3d.o\n",
      "g++ -std=gnu++14 -I\"/usr/share/R/include\" -DNDEBUG -DUSING_R -I. -Icore -Iinclude -Ivendor -I/home/felipe/anaconda3/envs/breg/include/libxml2 -I/home/felipe/anaconda3/envs/breg/include -DNDEBUG -DNTIMER -DNPRINT -DINTERNAL_ARPACK -DPRPACK_IGRAPH_SUPPORT -DIGRAPH_THREAD_LOCAL=/**/ -D_GNU_SOURCE=1 -I'/home/felipe/R/x86_64-pc-linux-gnu-library/4.2/cpp11/include'   -fvisibility=hidden -fpic  -g -O2 -ffile-prefix-map=/build/r-base-VHKDZm/r-base-4.2.2.20221110=. -fstack-protector-strong -Wformat -Werror=format-security -fdebug-prefix-map=/build/r-base-VHKDZm/r-base-4.2.2.20221110=/usr/src/r-base-4.2.2.20221110-2build1 -Wdate-time -D_FORTIFY_SOURCE=2  -c core/layout/drl/drl_layout.cpp -o core/layout/drl/drl_layout.o\n",
      "g++ -std=gnu++14 -I\"/usr/share/R/include\" -DNDEBUG -DUSING_R -I. -Icore -Iinclude -Ivendor -I/home/felipe/anaconda3/envs/breg/include/libxml2 -I/home/felipe/anaconda3/envs/breg/include -DNDEBUG -DNTIMER -DNPRINT -DINTERNAL_ARPACK -DPRPACK_IGRAPH_SUPPORT -DIGRAPH_THREAD_LOCAL=/**/ -D_GNU_SOURCE=1 -I'/home/felipe/R/x86_64-pc-linux-gnu-library/4.2/cpp11/include'   -fvisibility=hidden -fpic  -g -O2 -ffile-prefix-map=/build/r-base-VHKDZm/r-base-4.2.2.20221110=. -fstack-protector-strong -Wformat -Werror=format-security -fdebug-prefix-map=/build/r-base-VHKDZm/r-base-4.2.2.20221110=/usr/src/r-base-4.2.2.20221110-2build1 -Wdate-time -D_FORTIFY_SOURCE=2  -c core/layout/drl/drl_layout_3d.cpp -o core/layout/drl/drl_layout_3d.o\n",
      "g++ -std=gnu++14 -I\"/usr/share/R/include\" -DNDEBUG -DUSING_R -I. -Icore -Iinclude -Ivendor -I/home/felipe/anaconda3/envs/breg/include/libxml2 -I/home/felipe/anaconda3/envs/breg/include -DNDEBUG -DNTIMER -DNPRINT -DINTERNAL_ARPACK -DPRPACK_IGRAPH_SUPPORT -DIGRAPH_THREAD_LOCAL=/**/ -D_GNU_SOURCE=1 -I'/home/felipe/R/x86_64-pc-linux-gnu-library/4.2/cpp11/include'   -fvisibility=hidden -fpic  -g -O2 -ffile-prefix-map=/build/r-base-VHKDZm/r-base-4.2.2.20221110=. -fstack-protector-strong -Wformat -Werror=format-security -fdebug-prefix-map=/build/r-base-VHKDZm/r-base-4.2.2.20221110=/usr/src/r-base-4.2.2.20221110-2build1 -Wdate-time -D_FORTIFY_SOURCE=2  -c core/layout/drl/drl_parse.cpp -o core/layout/drl/drl_parse.o\n",
      "gcc -I\"/usr/share/R/include\" -DNDEBUG -DUSING_R -I. -Icore -Iinclude -Ivendor -I/home/felipe/anaconda3/envs/breg/include/libxml2 -I/home/felipe/anaconda3/envs/breg/include -DNDEBUG -DNTIMER -DNPRINT -DINTERNAL_ARPACK -DPRPACK_IGRAPH_SUPPORT -DIGRAPH_THREAD_LOCAL=/**/ -D_GNU_SOURCE=1 -I'/home/felipe/R/x86_64-pc-linux-gnu-library/4.2/cpp11/include'   -fvisibility=hidden -fpic  -g -O2 -ffile-prefix-map=/build/r-base-VHKDZm/r-base-4.2.2.20221110=. -fstack-protector-strong -Wformat -Werror=format-security -fdebug-prefix-map=/build/r-base-VHKDZm/r-base-4.2.2.20221110=/usr/src/r-base-4.2.2.20221110-2build1 -Wdate-time -D_FORTIFY_SOURCE=2  -c core/layout/fruchterman_reingold.c -o core/layout/fruchterman_reingold.o\n"
     ]
    },
    {
     "name": "stdout",
     "output_type": "stream",
     "text": [
      "gcc -I\"/usr/share/R/include\" -DNDEBUG -DUSING_R -I. -Icore -Iinclude -Ivendor -I/home/felipe/anaconda3/envs/breg/include/libxml2 -I/home/felipe/anaconda3/envs/breg/include -DNDEBUG -DNTIMER -DNPRINT -DINTERNAL_ARPACK -DPRPACK_IGRAPH_SUPPORT -DIGRAPH_THREAD_LOCAL=/**/ -D_GNU_SOURCE=1 -I'/home/felipe/R/x86_64-pc-linux-gnu-library/4.2/cpp11/include'   -fvisibility=hidden -fpic  -g -O2 -ffile-prefix-map=/build/r-base-VHKDZm/r-base-4.2.2.20221110=. -fstack-protector-strong -Wformat -Werror=format-security -fdebug-prefix-map=/build/r-base-VHKDZm/r-base-4.2.2.20221110=/usr/src/r-base-4.2.2.20221110-2build1 -Wdate-time -D_FORTIFY_SOURCE=2  -c core/layout/gem.c -o core/layout/gem.o\n",
      "gcc -I\"/usr/share/R/include\" -DNDEBUG -DUSING_R -I. -Icore -Iinclude -Ivendor -I/home/felipe/anaconda3/envs/breg/include/libxml2 -I/home/felipe/anaconda3/envs/breg/include -DNDEBUG -DNTIMER -DNPRINT -DINTERNAL_ARPACK -DPRPACK_IGRAPH_SUPPORT -DIGRAPH_THREAD_LOCAL=/**/ -D_GNU_SOURCE=1 -I'/home/felipe/R/x86_64-pc-linux-gnu-library/4.2/cpp11/include'   -fvisibility=hidden -fpic  -g -O2 -ffile-prefix-map=/build/r-base-VHKDZm/r-base-4.2.2.20221110=. -fstack-protector-strong -Wformat -Werror=format-security -fdebug-prefix-map=/build/r-base-VHKDZm/r-base-4.2.2.20221110=/usr/src/r-base-4.2.2.20221110-2build1 -Wdate-time -D_FORTIFY_SOURCE=2  -c core/layout/graphopt.c -o core/layout/graphopt.o\n",
      "gcc -I\"/usr/share/R/include\" -DNDEBUG -DUSING_R -I. -Icore -Iinclude -Ivendor -I/home/felipe/anaconda3/envs/breg/include/libxml2 -I/home/felipe/anaconda3/envs/breg/include -DNDEBUG -DNTIMER -DNPRINT -DINTERNAL_ARPACK -DPRPACK_IGRAPH_SUPPORT -DIGRAPH_THREAD_LOCAL=/**/ -D_GNU_SOURCE=1 -I'/home/felipe/R/x86_64-pc-linux-gnu-library/4.2/cpp11/include'   -fvisibility=hidden -fpic  -g -O2 -ffile-prefix-map=/build/r-base-VHKDZm/r-base-4.2.2.20221110=. -fstack-protector-strong -Wformat -Werror=format-security -fdebug-prefix-map=/build/r-base-VHKDZm/r-base-4.2.2.20221110=/usr/src/r-base-4.2.2.20221110-2build1 -Wdate-time -D_FORTIFY_SOURCE=2  -c core/layout/kamada_kawai.c -o core/layout/kamada_kawai.o\n",
      "gcc -I\"/usr/share/R/include\" -DNDEBUG -DUSING_R -I. -Icore -Iinclude -Ivendor -I/home/felipe/anaconda3/envs/breg/include/libxml2 -I/home/felipe/anaconda3/envs/breg/include -DNDEBUG -DNTIMER -DNPRINT -DINTERNAL_ARPACK -DPRPACK_IGRAPH_SUPPORT -DIGRAPH_THREAD_LOCAL=/**/ -D_GNU_SOURCE=1 -I'/home/felipe/R/x86_64-pc-linux-gnu-library/4.2/cpp11/include'   -fvisibility=hidden -fpic  -g -O2 -ffile-prefix-map=/build/r-base-VHKDZm/r-base-4.2.2.20221110=. -fstack-protector-strong -Wformat -Werror=format-security -fdebug-prefix-map=/build/r-base-VHKDZm/r-base-4.2.2.20221110=/usr/src/r-base-4.2.2.20221110-2build1 -Wdate-time -D_FORTIFY_SOURCE=2  -c core/layout/large_graph.c -o core/layout/large_graph.o\n",
      "gcc -I\"/usr/share/R/include\" -DNDEBUG -DUSING_R -I. -Icore -Iinclude -Ivendor -I/home/felipe/anaconda3/envs/breg/include/libxml2 -I/home/felipe/anaconda3/envs/breg/include -DNDEBUG -DNTIMER -DNPRINT -DINTERNAL_ARPACK -DPRPACK_IGRAPH_SUPPORT -DIGRAPH_THREAD_LOCAL=/**/ -D_GNU_SOURCE=1 -I'/home/felipe/R/x86_64-pc-linux-gnu-library/4.2/cpp11/include'   -fvisibility=hidden -fpic  -g -O2 -ffile-prefix-map=/build/r-base-VHKDZm/r-base-4.2.2.20221110=. -fstack-protector-strong -Wformat -Werror=format-security -fdebug-prefix-map=/build/r-base-VHKDZm/r-base-4.2.2.20221110=/usr/src/r-base-4.2.2.20221110-2build1 -Wdate-time -D_FORTIFY_SOURCE=2  -c core/layout/layout_bipartite.c -o core/layout/layout_bipartite.o\n",
      "gcc -I\"/usr/share/R/include\" -DNDEBUG -DUSING_R -I. -Icore -Iinclude -Ivendor -I/home/felipe/anaconda3/envs/breg/include/libxml2 -I/home/felipe/anaconda3/envs/breg/include -DNDEBUG -DNTIMER -DNPRINT -DINTERNAL_ARPACK -DPRPACK_IGRAPH_SUPPORT -DIGRAPH_THREAD_LOCAL=/**/ -D_GNU_SOURCE=1 -I'/home/felipe/R/x86_64-pc-linux-gnu-library/4.2/cpp11/include'   -fvisibility=hidden -fpic  -g -O2 -ffile-prefix-map=/build/r-base-VHKDZm/r-base-4.2.2.20221110=. -fstack-protector-strong -Wformat -Werror=format-security -fdebug-prefix-map=/build/r-base-VHKDZm/r-base-4.2.2.20221110=/usr/src/r-base-4.2.2.20221110-2build1 -Wdate-time -D_FORTIFY_SOURCE=2  -c core/layout/layout_grid.c -o core/layout/layout_grid.o\n",
      "gcc -I\"/usr/share/R/include\" -DNDEBUG -DUSING_R -I. -Icore -Iinclude -Ivendor -I/home/felipe/anaconda3/envs/breg/include/libxml2 -I/home/felipe/anaconda3/envs/breg/include -DNDEBUG -DNTIMER -DNPRINT -DINTERNAL_ARPACK -DPRPACK_IGRAPH_SUPPORT -DIGRAPH_THREAD_LOCAL=/**/ -D_GNU_SOURCE=1 -I'/home/felipe/R/x86_64-pc-linux-gnu-library/4.2/cpp11/include'   -fvisibility=hidden -fpic  -g -O2 -ffile-prefix-map=/build/r-base-VHKDZm/r-base-4.2.2.20221110=. -fstack-protector-strong -Wformat -Werror=format-security -fdebug-prefix-map=/build/r-base-VHKDZm/r-base-4.2.2.20221110=/usr/src/r-base-4.2.2.20221110-2build1 -Wdate-time -D_FORTIFY_SOURCE=2  -c core/layout/layout_random.c -o core/layout/layout_random.o\n",
      "gcc -I\"/usr/share/R/include\" -DNDEBUG -DUSING_R -I. -Icore -Iinclude -Ivendor -I/home/felipe/anaconda3/envs/breg/include/libxml2 -I/home/felipe/anaconda3/envs/breg/include -DNDEBUG -DNTIMER -DNPRINT -DINTERNAL_ARPACK -DPRPACK_IGRAPH_SUPPORT -DIGRAPH_THREAD_LOCAL=/**/ -D_GNU_SOURCE=1 -I'/home/felipe/R/x86_64-pc-linux-gnu-library/4.2/cpp11/include'   -fvisibility=hidden -fpic  -g -O2 -ffile-prefix-map=/build/r-base-VHKDZm/r-base-4.2.2.20221110=. -fstack-protector-strong -Wformat -Werror=format-security -fdebug-prefix-map=/build/r-base-VHKDZm/r-base-4.2.2.20221110=/usr/src/r-base-4.2.2.20221110-2build1 -Wdate-time -D_FORTIFY_SOURCE=2  -c core/layout/mds.c -o core/layout/mds.o\n",
      "gcc -I\"/usr/share/R/include\" -DNDEBUG -DUSING_R -I. -Icore -Iinclude -Ivendor -I/home/felipe/anaconda3/envs/breg/include/libxml2 -I/home/felipe/anaconda3/envs/breg/include -DNDEBUG -DNTIMER -DNPRINT -DINTERNAL_ARPACK -DPRPACK_IGRAPH_SUPPORT -DIGRAPH_THREAD_LOCAL=/**/ -D_GNU_SOURCE=1 -I'/home/felipe/R/x86_64-pc-linux-gnu-library/4.2/cpp11/include'   -fvisibility=hidden -fpic  -g -O2 -ffile-prefix-map=/build/r-base-VHKDZm/r-base-4.2.2.20221110=. -fstack-protector-strong -Wformat -Werror=format-security -fdebug-prefix-map=/build/r-base-VHKDZm/r-base-4.2.2.20221110=/usr/src/r-base-4.2.2.20221110-2build1 -Wdate-time -D_FORTIFY_SOURCE=2  -c core/layout/merge_dla.c -o core/layout/merge_dla.o\n",
      "gcc -I\"/usr/share/R/include\" -DNDEBUG -DUSING_R -I. -Icore -Iinclude -Ivendor -I/home/felipe/anaconda3/envs/breg/include/libxml2 -I/home/felipe/anaconda3/envs/breg/include -DNDEBUG -DNTIMER -DNPRINT -DINTERNAL_ARPACK -DPRPACK_IGRAPH_SUPPORT -DIGRAPH_THREAD_LOCAL=/**/ -D_GNU_SOURCE=1 -I'/home/felipe/R/x86_64-pc-linux-gnu-library/4.2/cpp11/include'   -fvisibility=hidden -fpic  -g -O2 -ffile-prefix-map=/build/r-base-VHKDZm/r-base-4.2.2.20221110=. -fstack-protector-strong -Wformat -Werror=format-security -fdebug-prefix-map=/build/r-base-VHKDZm/r-base-4.2.2.20221110=/usr/src/r-base-4.2.2.20221110-2build1 -Wdate-time -D_FORTIFY_SOURCE=2  -c core/layout/merge_grid.c -o core/layout/merge_grid.o\n",
      "gcc -I\"/usr/share/R/include\" -DNDEBUG -DUSING_R -I. -Icore -Iinclude -Ivendor -I/home/felipe/anaconda3/envs/breg/include/libxml2 -I/home/felipe/anaconda3/envs/breg/include -DNDEBUG -DNTIMER -DNPRINT -DINTERNAL_ARPACK -DPRPACK_IGRAPH_SUPPORT -DIGRAPH_THREAD_LOCAL=/**/ -D_GNU_SOURCE=1 -I'/home/felipe/R/x86_64-pc-linux-gnu-library/4.2/cpp11/include'   -fvisibility=hidden -fpic  -g -O2 -ffile-prefix-map=/build/r-base-VHKDZm/r-base-4.2.2.20221110=. -fstack-protector-strong -Wformat -Werror=format-security -fdebug-prefix-map=/build/r-base-VHKDZm/r-base-4.2.2.20221110=/usr/src/r-base-4.2.2.20221110-2build1 -Wdate-time -D_FORTIFY_SOURCE=2  -c core/layout/reingold_tilford.c -o core/layout/reingold_tilford.o\n",
      "gcc -I\"/usr/share/R/include\" -DNDEBUG -DUSING_R -I. -Icore -Iinclude -Ivendor -I/home/felipe/anaconda3/envs/breg/include/libxml2 -I/home/felipe/anaconda3/envs/breg/include -DNDEBUG -DNTIMER -DNPRINT -DINTERNAL_ARPACK -DPRPACK_IGRAPH_SUPPORT -DIGRAPH_THREAD_LOCAL=/**/ -D_GNU_SOURCE=1 -I'/home/felipe/R/x86_64-pc-linux-gnu-library/4.2/cpp11/include'   -fvisibility=hidden -fpic  -g -O2 -ffile-prefix-map=/build/r-base-VHKDZm/r-base-4.2.2.20221110=. -fstack-protector-strong -Wformat -Werror=format-security -fdebug-prefix-map=/build/r-base-VHKDZm/r-base-4.2.2.20221110=/usr/src/r-base-4.2.2.20221110-2build1 -Wdate-time -D_FORTIFY_SOURCE=2  -c core/layout/sugiyama.c -o core/layout/sugiyama.o\n"
     ]
    },
    {
     "name": "stdout",
     "output_type": "stream",
     "text": [
      "gcc -I\"/usr/share/R/include\" -DNDEBUG -DUSING_R -I. -Icore -Iinclude -Ivendor -I/home/felipe/anaconda3/envs/breg/include/libxml2 -I/home/felipe/anaconda3/envs/breg/include -DNDEBUG -DNTIMER -DNPRINT -DINTERNAL_ARPACK -DPRPACK_IGRAPH_SUPPORT -DIGRAPH_THREAD_LOCAL=/**/ -D_GNU_SOURCE=1 -I'/home/felipe/R/x86_64-pc-linux-gnu-library/4.2/cpp11/include'   -fvisibility=hidden -fpic  -g -O2 -ffile-prefix-map=/build/r-base-VHKDZm/r-base-4.2.2.20221110=. -fstack-protector-strong -Wformat -Werror=format-security -fdebug-prefix-map=/build/r-base-VHKDZm/r-base-4.2.2.20221110=/usr/src/r-base-4.2.2.20221110-2build1 -Wdate-time -D_FORTIFY_SOURCE=2  -c core/linalg/arpack.c -o core/linalg/arpack.o\n",
      "gcc -I\"/usr/share/R/include\" -DNDEBUG -DUSING_R -I. -Icore -Iinclude -Ivendor -I/home/felipe/anaconda3/envs/breg/include/libxml2 -I/home/felipe/anaconda3/envs/breg/include -DNDEBUG -DNTIMER -DNPRINT -DINTERNAL_ARPACK -DPRPACK_IGRAPH_SUPPORT -DIGRAPH_THREAD_LOCAL=/**/ -D_GNU_SOURCE=1 -I'/home/felipe/R/x86_64-pc-linux-gnu-library/4.2/cpp11/include'   -fvisibility=hidden -fpic  -g -O2 -ffile-prefix-map=/build/r-base-VHKDZm/r-base-4.2.2.20221110=. -fstack-protector-strong -Wformat -Werror=format-security -fdebug-prefix-map=/build/r-base-VHKDZm/r-base-4.2.2.20221110=/usr/src/r-base-4.2.2.20221110-2build1 -Wdate-time -D_FORTIFY_SOURCE=2  -c core/linalg/blas.c -o core/linalg/blas.o\n",
      "gcc -I\"/usr/share/R/include\" -DNDEBUG -DUSING_R -I. -Icore -Iinclude -Ivendor -I/home/felipe/anaconda3/envs/breg/include/libxml2 -I/home/felipe/anaconda3/envs/breg/include -DNDEBUG -DNTIMER -DNPRINT -DINTERNAL_ARPACK -DPRPACK_IGRAPH_SUPPORT -DIGRAPH_THREAD_LOCAL=/**/ -D_GNU_SOURCE=1 -I'/home/felipe/R/x86_64-pc-linux-gnu-library/4.2/cpp11/include'   -fvisibility=hidden -fpic  -g -O2 -ffile-prefix-map=/build/r-base-VHKDZm/r-base-4.2.2.20221110=. -fstack-protector-strong -Wformat -Werror=format-security -fdebug-prefix-map=/build/r-base-VHKDZm/r-base-4.2.2.20221110=/usr/src/r-base-4.2.2.20221110-2build1 -Wdate-time -D_FORTIFY_SOURCE=2  -c core/linalg/eigen.c -o core/linalg/eigen.o\n",
      "gcc -I\"/usr/share/R/include\" -DNDEBUG -DUSING_R -I. -Icore -Iinclude -Ivendor -I/home/felipe/anaconda3/envs/breg/include/libxml2 -I/home/felipe/anaconda3/envs/breg/include -DNDEBUG -DNTIMER -DNPRINT -DINTERNAL_ARPACK -DPRPACK_IGRAPH_SUPPORT -DIGRAPH_THREAD_LOCAL=/**/ -D_GNU_SOURCE=1 -I'/home/felipe/R/x86_64-pc-linux-gnu-library/4.2/cpp11/include'   -fvisibility=hidden -fpic  -g -O2 -ffile-prefix-map=/build/r-base-VHKDZm/r-base-4.2.2.20221110=. -fstack-protector-strong -Wformat -Werror=format-security -fdebug-prefix-map=/build/r-base-VHKDZm/r-base-4.2.2.20221110=/usr/src/r-base-4.2.2.20221110-2build1 -Wdate-time -D_FORTIFY_SOURCE=2  -c core/linalg/lapack.c -o core/linalg/lapack.o\n",
      "gcc -I\"/usr/share/R/include\" -DNDEBUG -DUSING_R -I. -Icore -Iinclude -Ivendor -I/home/felipe/anaconda3/envs/breg/include/libxml2 -I/home/felipe/anaconda3/envs/breg/include -DNDEBUG -DNTIMER -DNPRINT -DINTERNAL_ARPACK -DPRPACK_IGRAPH_SUPPORT -DIGRAPH_THREAD_LOCAL=/**/ -D_GNU_SOURCE=1 -I'/home/felipe/R/x86_64-pc-linux-gnu-library/4.2/cpp11/include'   -fvisibility=hidden -fpic  -g -O2 -ffile-prefix-map=/build/r-base-VHKDZm/r-base-4.2.2.20221110=. -fstack-protector-strong -Wformat -Werror=format-security -fdebug-prefix-map=/build/r-base-VHKDZm/r-base-4.2.2.20221110=/usr/src/r-base-4.2.2.20221110-2build1 -Wdate-time -D_FORTIFY_SOURCE=2  -c core/math/bfgs.c -o core/math/bfgs.o\n",
      "gcc -I\"/usr/share/R/include\" -DNDEBUG -DUSING_R -I. -Icore -Iinclude -Ivendor -I/home/felipe/anaconda3/envs/breg/include/libxml2 -I/home/felipe/anaconda3/envs/breg/include -DNDEBUG -DNTIMER -DNPRINT -DINTERNAL_ARPACK -DPRPACK_IGRAPH_SUPPORT -DIGRAPH_THREAD_LOCAL=/**/ -D_GNU_SOURCE=1 -I'/home/felipe/R/x86_64-pc-linux-gnu-library/4.2/cpp11/include'   -fvisibility=hidden -fpic  -g -O2 -ffile-prefix-map=/build/r-base-VHKDZm/r-base-4.2.2.20221110=. -fstack-protector-strong -Wformat -Werror=format-security -fdebug-prefix-map=/build/r-base-VHKDZm/r-base-4.2.2.20221110=/usr/src/r-base-4.2.2.20221110-2build1 -Wdate-time -D_FORTIFY_SOURCE=2  -c core/math/complex.c -o core/math/complex.o\n",
      "gcc -I\"/usr/share/R/include\" -DNDEBUG -DUSING_R -I. -Icore -Iinclude -Ivendor -I/home/felipe/anaconda3/envs/breg/include/libxml2 -I/home/felipe/anaconda3/envs/breg/include -DNDEBUG -DNTIMER -DNPRINT -DINTERNAL_ARPACK -DPRPACK_IGRAPH_SUPPORT -DIGRAPH_THREAD_LOCAL=/**/ -D_GNU_SOURCE=1 -I'/home/felipe/R/x86_64-pc-linux-gnu-library/4.2/cpp11/include'   -fvisibility=hidden -fpic  -g -O2 -ffile-prefix-map=/build/r-base-VHKDZm/r-base-4.2.2.20221110=. -fstack-protector-strong -Wformat -Werror=format-security -fdebug-prefix-map=/build/r-base-VHKDZm/r-base-4.2.2.20221110=/usr/src/r-base-4.2.2.20221110-2build1 -Wdate-time -D_FORTIFY_SOURCE=2  -c core/math/utils.c -o core/math/utils.o\n",
      "gcc -I\"/usr/share/R/include\" -DNDEBUG -DUSING_R -I. -Icore -Iinclude -Ivendor -I/home/felipe/anaconda3/envs/breg/include/libxml2 -I/home/felipe/anaconda3/envs/breg/include -DNDEBUG -DNTIMER -DNPRINT -DINTERNAL_ARPACK -DPRPACK_IGRAPH_SUPPORT -DIGRAPH_THREAD_LOCAL=/**/ -D_GNU_SOURCE=1 -I'/home/felipe/R/x86_64-pc-linux-gnu-library/4.2/cpp11/include'   -fvisibility=hidden -fpic  -g -O2 -ffile-prefix-map=/build/r-base-VHKDZm/r-base-4.2.2.20221110=. -fstack-protector-strong -Wformat -Werror=format-security -fdebug-prefix-map=/build/r-base-VHKDZm/r-base-4.2.2.20221110=/usr/src/r-base-4.2.2.20221110-2build1 -Wdate-time -D_FORTIFY_SOURCE=2  -c core/misc/bipartite.c -o core/misc/bipartite.o\n",
      "gcc -I\"/usr/share/R/include\" -DNDEBUG -DUSING_R -I. -Icore -Iinclude -Ivendor -I/home/felipe/anaconda3/envs/breg/include/libxml2 -I/home/felipe/anaconda3/envs/breg/include -DNDEBUG -DNTIMER -DNPRINT -DINTERNAL_ARPACK -DPRPACK_IGRAPH_SUPPORT -DIGRAPH_THREAD_LOCAL=/**/ -D_GNU_SOURCE=1 -I'/home/felipe/R/x86_64-pc-linux-gnu-library/4.2/cpp11/include'   -fvisibility=hidden -fpic  -g -O2 -ffile-prefix-map=/build/r-base-VHKDZm/r-base-4.2.2.20221110=. -fstack-protector-strong -Wformat -Werror=format-security -fdebug-prefix-map=/build/r-base-VHKDZm/r-base-4.2.2.20221110=/usr/src/r-base-4.2.2.20221110-2build1 -Wdate-time -D_FORTIFY_SOURCE=2  -c core/misc/chordality.c -o core/misc/chordality.o\n",
      "gcc -I\"/usr/share/R/include\" -DNDEBUG -DUSING_R -I. -Icore -Iinclude -Ivendor -I/home/felipe/anaconda3/envs/breg/include/libxml2 -I/home/felipe/anaconda3/envs/breg/include -DNDEBUG -DNTIMER -DNPRINT -DINTERNAL_ARPACK -DPRPACK_IGRAPH_SUPPORT -DIGRAPH_THREAD_LOCAL=/**/ -D_GNU_SOURCE=1 -I'/home/felipe/R/x86_64-pc-linux-gnu-library/4.2/cpp11/include'   -fvisibility=hidden -fpic  -g -O2 -ffile-prefix-map=/build/r-base-VHKDZm/r-base-4.2.2.20221110=. -fstack-protector-strong -Wformat -Werror=format-security -fdebug-prefix-map=/build/r-base-VHKDZm/r-base-4.2.2.20221110=/usr/src/r-base-4.2.2.20221110-2build1 -Wdate-time -D_FORTIFY_SOURCE=2  -c core/misc/cocitation.c -o core/misc/cocitation.o\n",
      "gcc -I\"/usr/share/R/include\" -DNDEBUG -DUSING_R -I. -Icore -Iinclude -Ivendor -I/home/felipe/anaconda3/envs/breg/include/libxml2 -I/home/felipe/anaconda3/envs/breg/include -DNDEBUG -DNTIMER -DNPRINT -DINTERNAL_ARPACK -DPRPACK_IGRAPH_SUPPORT -DIGRAPH_THREAD_LOCAL=/**/ -D_GNU_SOURCE=1 -I'/home/felipe/R/x86_64-pc-linux-gnu-library/4.2/cpp11/include'   -fvisibility=hidden -fpic  -g -O2 -ffile-prefix-map=/build/r-base-VHKDZm/r-base-4.2.2.20221110=. -fstack-protector-strong -Wformat -Werror=format-security -fdebug-prefix-map=/build/r-base-VHKDZm/r-base-4.2.2.20221110=/usr/src/r-base-4.2.2.20221110-2build1 -Wdate-time -D_FORTIFY_SOURCE=2  -c core/misc/coloring.c -o core/misc/coloring.o\n",
      "gcc -I\"/usr/share/R/include\" -DNDEBUG -DUSING_R -I. -Icore -Iinclude -Ivendor -I/home/felipe/anaconda3/envs/breg/include/libxml2 -I/home/felipe/anaconda3/envs/breg/include -DNDEBUG -DNTIMER -DNPRINT -DINTERNAL_ARPACK -DPRPACK_IGRAPH_SUPPORT -DIGRAPH_THREAD_LOCAL=/**/ -D_GNU_SOURCE=1 -I'/home/felipe/R/x86_64-pc-linux-gnu-library/4.2/cpp11/include'   -fvisibility=hidden -fpic  -g -O2 -ffile-prefix-map=/build/r-base-VHKDZm/r-base-4.2.2.20221110=. -fstack-protector-strong -Wformat -Werror=format-security -fdebug-prefix-map=/build/r-base-VHKDZm/r-base-4.2.2.20221110=/usr/src/r-base-4.2.2.20221110-2build1 -Wdate-time -D_FORTIFY_SOURCE=2  -c core/misc/conversion.c -o core/misc/conversion.o\n"
     ]
    },
    {
     "name": "stdout",
     "output_type": "stream",
     "text": [
      "g++ -std=gnu++14 -I\"/usr/share/R/include\" -DNDEBUG -DUSING_R -I. -Icore -Iinclude -Ivendor -I/home/felipe/anaconda3/envs/breg/include/libxml2 -I/home/felipe/anaconda3/envs/breg/include -DNDEBUG -DNTIMER -DNPRINT -DINTERNAL_ARPACK -DPRPACK_IGRAPH_SUPPORT -DIGRAPH_THREAD_LOCAL=/**/ -D_GNU_SOURCE=1 -I'/home/felipe/R/x86_64-pc-linux-gnu-library/4.2/cpp11/include'   -fvisibility=hidden -fpic  -g -O2 -ffile-prefix-map=/build/r-base-VHKDZm/r-base-4.2.2.20221110=. -fstack-protector-strong -Wformat -Werror=format-security -fdebug-prefix-map=/build/r-base-VHKDZm/r-base-4.2.2.20221110=/usr/src/r-base-4.2.2.20221110-2build1 -Wdate-time -D_FORTIFY_SOURCE=2  -c core/misc/degree_sequence.cpp -o core/misc/degree_sequence.o\n",
      "gcc -I\"/usr/share/R/include\" -DNDEBUG -DUSING_R -I. -Icore -Iinclude -Ivendor -I/home/felipe/anaconda3/envs/breg/include/libxml2 -I/home/felipe/anaconda3/envs/breg/include -DNDEBUG -DNTIMER -DNPRINT -DINTERNAL_ARPACK -DPRPACK_IGRAPH_SUPPORT -DIGRAPH_THREAD_LOCAL=/**/ -D_GNU_SOURCE=1 -I'/home/felipe/R/x86_64-pc-linux-gnu-library/4.2/cpp11/include'   -fvisibility=hidden -fpic  -g -O2 -ffile-prefix-map=/build/r-base-VHKDZm/r-base-4.2.2.20221110=. -fstack-protector-strong -Wformat -Werror=format-security -fdebug-prefix-map=/build/r-base-VHKDZm/r-base-4.2.2.20221110=/usr/src/r-base-4.2.2.20221110-2build1 -Wdate-time -D_FORTIFY_SOURCE=2  -c core/misc/embedding.c -o core/misc/embedding.o\n",
      "gcc -I\"/usr/share/R/include\" -DNDEBUG -DUSING_R -I. -Icore -Iinclude -Ivendor -I/home/felipe/anaconda3/envs/breg/include/libxml2 -I/home/felipe/anaconda3/envs/breg/include -DNDEBUG -DNTIMER -DNPRINT -DINTERNAL_ARPACK -DPRPACK_IGRAPH_SUPPORT -DIGRAPH_THREAD_LOCAL=/**/ -D_GNU_SOURCE=1 -I'/home/felipe/R/x86_64-pc-linux-gnu-library/4.2/cpp11/include'   -fvisibility=hidden -fpic  -g -O2 -ffile-prefix-map=/build/r-base-VHKDZm/r-base-4.2.2.20221110=. -fstack-protector-strong -Wformat -Werror=format-security -fdebug-prefix-map=/build/r-base-VHKDZm/r-base-4.2.2.20221110=/usr/src/r-base-4.2.2.20221110-2build1 -Wdate-time -D_FORTIFY_SOURCE=2  -c core/misc/feedback_arc_set.c -o core/misc/feedback_arc_set.o\n",
      "gcc -I\"/usr/share/R/include\" -DNDEBUG -DUSING_R -I. -Icore -Iinclude -Ivendor -I/home/felipe/anaconda3/envs/breg/include/libxml2 -I/home/felipe/anaconda3/envs/breg/include -DNDEBUG -DNTIMER -DNPRINT -DINTERNAL_ARPACK -DPRPACK_IGRAPH_SUPPORT -DIGRAPH_THREAD_LOCAL=/**/ -D_GNU_SOURCE=1 -I'/home/felipe/R/x86_64-pc-linux-gnu-library/4.2/cpp11/include'   -fvisibility=hidden -fpic  -g -O2 -ffile-prefix-map=/build/r-base-VHKDZm/r-base-4.2.2.20221110=. -fstack-protector-strong -Wformat -Werror=format-security -fdebug-prefix-map=/build/r-base-VHKDZm/r-base-4.2.2.20221110=/usr/src/r-base-4.2.2.20221110-2build1 -Wdate-time -D_FORTIFY_SOURCE=2  -c core/misc/graphicality.c -o core/misc/graphicality.o\n",
      "gcc -I\"/usr/share/R/include\" -DNDEBUG -DUSING_R -I. -Icore -Iinclude -Ivendor -I/home/felipe/anaconda3/envs/breg/include/libxml2 -I/home/felipe/anaconda3/envs/breg/include -DNDEBUG -DNTIMER -DNPRINT -DINTERNAL_ARPACK -DPRPACK_IGRAPH_SUPPORT -DIGRAPH_THREAD_LOCAL=/**/ -D_GNU_SOURCE=1 -I'/home/felipe/R/x86_64-pc-linux-gnu-library/4.2/cpp11/include'   -fvisibility=hidden -fpic  -g -O2 -ffile-prefix-map=/build/r-base-VHKDZm/r-base-4.2.2.20221110=. -fstack-protector-strong -Wformat -Werror=format-security -fdebug-prefix-map=/build/r-base-VHKDZm/r-base-4.2.2.20221110=/usr/src/r-base-4.2.2.20221110-2build1 -Wdate-time -D_FORTIFY_SOURCE=2  -c core/misc/matching.c -o core/misc/matching.o\n",
      "gcc -I\"/usr/share/R/include\" -DNDEBUG -DUSING_R -I. -Icore -Iinclude -Ivendor -I/home/felipe/anaconda3/envs/breg/include/libxml2 -I/home/felipe/anaconda3/envs/breg/include -DNDEBUG -DNTIMER -DNPRINT -DINTERNAL_ARPACK -DPRPACK_IGRAPH_SUPPORT -DIGRAPH_THREAD_LOCAL=/**/ -D_GNU_SOURCE=1 -I'/home/felipe/R/x86_64-pc-linux-gnu-library/4.2/cpp11/include'   -fvisibility=hidden -fpic  -g -O2 -ffile-prefix-map=/build/r-base-VHKDZm/r-base-4.2.2.20221110=. -fstack-protector-strong -Wformat -Werror=format-security -fdebug-prefix-map=/build/r-base-VHKDZm/r-base-4.2.2.20221110=/usr/src/r-base-4.2.2.20221110-2build1 -Wdate-time -D_FORTIFY_SOURCE=2  -c core/misc/microscopic_update.c -o core/misc/microscopic_update.o\n",
      "gcc -I\"/usr/share/R/include\" -DNDEBUG -DUSING_R -I. -Icore -Iinclude -Ivendor -I/home/felipe/anaconda3/envs/breg/include/libxml2 -I/home/felipe/anaconda3/envs/breg/include -DNDEBUG -DNTIMER -DNPRINT -DINTERNAL_ARPACK -DPRPACK_IGRAPH_SUPPORT -DIGRAPH_THREAD_LOCAL=/**/ -D_GNU_SOURCE=1 -I'/home/felipe/R/x86_64-pc-linux-gnu-library/4.2/cpp11/include'   -fvisibility=hidden -fpic  -g -O2 -ffile-prefix-map=/build/r-base-VHKDZm/r-base-4.2.2.20221110=. -fstack-protector-strong -Wformat -Werror=format-security -fdebug-prefix-map=/build/r-base-VHKDZm/r-base-4.2.2.20221110=/usr/src/r-base-4.2.2.20221110-2build1 -Wdate-time -D_FORTIFY_SOURCE=2  -c core/misc/mixing.c -o core/misc/mixing.o\n",
      "gcc -I\"/usr/share/R/include\" -DNDEBUG -DUSING_R -I. -Icore -Iinclude -Ivendor -I/home/felipe/anaconda3/envs/breg/include/libxml2 -I/home/felipe/anaconda3/envs/breg/include -DNDEBUG -DNTIMER -DNPRINT -DINTERNAL_ARPACK -DPRPACK_IGRAPH_SUPPORT -DIGRAPH_THREAD_LOCAL=/**/ -D_GNU_SOURCE=1 -I'/home/felipe/R/x86_64-pc-linux-gnu-library/4.2/cpp11/include'   -fvisibility=hidden -fpic  -g -O2 -ffile-prefix-map=/build/r-base-VHKDZm/r-base-4.2.2.20221110=. -fstack-protector-strong -Wformat -Werror=format-security -fdebug-prefix-map=/build/r-base-VHKDZm/r-base-4.2.2.20221110=/usr/src/r-base-4.2.2.20221110-2build1 -Wdate-time -D_FORTIFY_SOURCE=2  -c core/misc/motifs.c -o core/misc/motifs.o\n",
      "gcc -I\"/usr/share/R/include\" -DNDEBUG -DUSING_R -I. -Icore -Iinclude -Ivendor -I/home/felipe/anaconda3/envs/breg/include/libxml2 -I/home/felipe/anaconda3/envs/breg/include -DNDEBUG -DNTIMER -DNPRINT -DINTERNAL_ARPACK -DPRPACK_IGRAPH_SUPPORT -DIGRAPH_THREAD_LOCAL=/**/ -D_GNU_SOURCE=1 -I'/home/felipe/R/x86_64-pc-linux-gnu-library/4.2/cpp11/include'   -fvisibility=hidden -fpic  -g -O2 -ffile-prefix-map=/build/r-base-VHKDZm/r-base-4.2.2.20221110=. -fstack-protector-strong -Wformat -Werror=format-security -fdebug-prefix-map=/build/r-base-VHKDZm/r-base-4.2.2.20221110=/usr/src/r-base-4.2.2.20221110-2build1 -Wdate-time -D_FORTIFY_SOURCE=2  -c core/misc/other.c -o core/misc/other.o\n",
      "gcc -I\"/usr/share/R/include\" -DNDEBUG -DUSING_R -I. -Icore -Iinclude -Ivendor -I/home/felipe/anaconda3/envs/breg/include/libxml2 -I/home/felipe/anaconda3/envs/breg/include -DNDEBUG -DNTIMER -DNPRINT -DINTERNAL_ARPACK -DPRPACK_IGRAPH_SUPPORT -DIGRAPH_THREAD_LOCAL=/**/ -D_GNU_SOURCE=1 -I'/home/felipe/R/x86_64-pc-linux-gnu-library/4.2/cpp11/include'   -fvisibility=hidden -fpic  -g -O2 -ffile-prefix-map=/build/r-base-VHKDZm/r-base-4.2.2.20221110=. -fstack-protector-strong -Wformat -Werror=format-security -fdebug-prefix-map=/build/r-base-VHKDZm/r-base-4.2.2.20221110=/usr/src/r-base-4.2.2.20221110-2build1 -Wdate-time -D_FORTIFY_SOURCE=2  -c core/misc/scan.c -o core/misc/scan.o\n",
      "gcc -I\"/usr/share/R/include\" -DNDEBUG -DUSING_R -I. -Icore -Iinclude -Ivendor -I/home/felipe/anaconda3/envs/breg/include/libxml2 -I/home/felipe/anaconda3/envs/breg/include -DNDEBUG -DNTIMER -DNPRINT -DINTERNAL_ARPACK -DPRPACK_IGRAPH_SUPPORT -DIGRAPH_THREAD_LOCAL=/**/ -D_GNU_SOURCE=1 -I'/home/felipe/R/x86_64-pc-linux-gnu-library/4.2/cpp11/include'   -fvisibility=hidden -fpic  -g -O2 -ffile-prefix-map=/build/r-base-VHKDZm/r-base-4.2.2.20221110=. -fstack-protector-strong -Wformat -Werror=format-security -fdebug-prefix-map=/build/r-base-VHKDZm/r-base-4.2.2.20221110=/usr/src/r-base-4.2.2.20221110-2build1 -Wdate-time -D_FORTIFY_SOURCE=2  -c core/misc/sir.c -o core/misc/sir.o\n",
      "gcc -I\"/usr/share/R/include\" -DNDEBUG -DUSING_R -I. -Icore -Iinclude -Ivendor -I/home/felipe/anaconda3/envs/breg/include/libxml2 -I/home/felipe/anaconda3/envs/breg/include -DNDEBUG -DNTIMER -DNPRINT -DINTERNAL_ARPACK -DPRPACK_IGRAPH_SUPPORT -DIGRAPH_THREAD_LOCAL=/**/ -D_GNU_SOURCE=1 -I'/home/felipe/R/x86_64-pc-linux-gnu-library/4.2/cpp11/include'   -fvisibility=hidden -fpic  -g -O2 -ffile-prefix-map=/build/r-base-VHKDZm/r-base-4.2.2.20221110=. -fstack-protector-strong -Wformat -Werror=format-security -fdebug-prefix-map=/build/r-base-VHKDZm/r-base-4.2.2.20221110=/usr/src/r-base-4.2.2.20221110-2build1 -Wdate-time -D_FORTIFY_SOURCE=2  -c core/misc/spanning_trees.c -o core/misc/spanning_trees.o\n"
     ]
    },
    {
     "name": "stdout",
     "output_type": "stream",
     "text": [
      "gcc -I\"/usr/share/R/include\" -DNDEBUG -DUSING_R -I. -Icore -Iinclude -Ivendor -I/home/felipe/anaconda3/envs/breg/include/libxml2 -I/home/felipe/anaconda3/envs/breg/include -DNDEBUG -DNTIMER -DNPRINT -DINTERNAL_ARPACK -DPRPACK_IGRAPH_SUPPORT -DIGRAPH_THREAD_LOCAL=/**/ -D_GNU_SOURCE=1 -I'/home/felipe/R/x86_64-pc-linux-gnu-library/4.2/cpp11/include'   -fvisibility=hidden -fpic  -g -O2 -ffile-prefix-map=/build/r-base-VHKDZm/r-base-4.2.2.20221110=. -fstack-protector-strong -Wformat -Werror=format-security -fdebug-prefix-map=/build/r-base-VHKDZm/r-base-4.2.2.20221110=/usr/src/r-base-4.2.2.20221110-2build1 -Wdate-time -D_FORTIFY_SOURCE=2  -c core/operators/add_edge.c -o core/operators/add_edge.o\n",
      "gcc -I\"/usr/share/R/include\" -DNDEBUG -DUSING_R -I. -Icore -Iinclude -Ivendor -I/home/felipe/anaconda3/envs/breg/include/libxml2 -I/home/felipe/anaconda3/envs/breg/include -DNDEBUG -DNTIMER -DNPRINT -DINTERNAL_ARPACK -DPRPACK_IGRAPH_SUPPORT -DIGRAPH_THREAD_LOCAL=/**/ -D_GNU_SOURCE=1 -I'/home/felipe/R/x86_64-pc-linux-gnu-library/4.2/cpp11/include'   -fvisibility=hidden -fpic  -g -O2 -ffile-prefix-map=/build/r-base-VHKDZm/r-base-4.2.2.20221110=. -fstack-protector-strong -Wformat -Werror=format-security -fdebug-prefix-map=/build/r-base-VHKDZm/r-base-4.2.2.20221110=/usr/src/r-base-4.2.2.20221110-2build1 -Wdate-time -D_FORTIFY_SOURCE=2  -c core/operators/complementer.c -o core/operators/complementer.o\n",
      "gcc -I\"/usr/share/R/include\" -DNDEBUG -DUSING_R -I. -Icore -Iinclude -Ivendor -I/home/felipe/anaconda3/envs/breg/include/libxml2 -I/home/felipe/anaconda3/envs/breg/include -DNDEBUG -DNTIMER -DNPRINT -DINTERNAL_ARPACK -DPRPACK_IGRAPH_SUPPORT -DIGRAPH_THREAD_LOCAL=/**/ -D_GNU_SOURCE=1 -I'/home/felipe/R/x86_64-pc-linux-gnu-library/4.2/cpp11/include'   -fvisibility=hidden -fpic  -g -O2 -ffile-prefix-map=/build/r-base-VHKDZm/r-base-4.2.2.20221110=. -fstack-protector-strong -Wformat -Werror=format-security -fdebug-prefix-map=/build/r-base-VHKDZm/r-base-4.2.2.20221110=/usr/src/r-base-4.2.2.20221110-2build1 -Wdate-time -D_FORTIFY_SOURCE=2  -c core/operators/compose.c -o core/operators/compose.o\n",
      "gcc -I\"/usr/share/R/include\" -DNDEBUG -DUSING_R -I. -Icore -Iinclude -Ivendor -I/home/felipe/anaconda3/envs/breg/include/libxml2 -I/home/felipe/anaconda3/envs/breg/include -DNDEBUG -DNTIMER -DNPRINT -DINTERNAL_ARPACK -DPRPACK_IGRAPH_SUPPORT -DIGRAPH_THREAD_LOCAL=/**/ -D_GNU_SOURCE=1 -I'/home/felipe/R/x86_64-pc-linux-gnu-library/4.2/cpp11/include'   -fvisibility=hidden -fpic  -g -O2 -ffile-prefix-map=/build/r-base-VHKDZm/r-base-4.2.2.20221110=. -fstack-protector-strong -Wformat -Werror=format-security -fdebug-prefix-map=/build/r-base-VHKDZm/r-base-4.2.2.20221110=/usr/src/r-base-4.2.2.20221110-2build1 -Wdate-time -D_FORTIFY_SOURCE=2  -c core/operators/connect_neighborhood.c -o core/operators/connect_neighborhood.o\n",
      "gcc -I\"/usr/share/R/include\" -DNDEBUG -DUSING_R -I. -Icore -Iinclude -Ivendor -I/home/felipe/anaconda3/envs/breg/include/libxml2 -I/home/felipe/anaconda3/envs/breg/include -DNDEBUG -DNTIMER -DNPRINT -DINTERNAL_ARPACK -DPRPACK_IGRAPH_SUPPORT -DIGRAPH_THREAD_LOCAL=/**/ -D_GNU_SOURCE=1 -I'/home/felipe/R/x86_64-pc-linux-gnu-library/4.2/cpp11/include'   -fvisibility=hidden -fpic  -g -O2 -ffile-prefix-map=/build/r-base-VHKDZm/r-base-4.2.2.20221110=. -fstack-protector-strong -Wformat -Werror=format-security -fdebug-prefix-map=/build/r-base-VHKDZm/r-base-4.2.2.20221110=/usr/src/r-base-4.2.2.20221110-2build1 -Wdate-time -D_FORTIFY_SOURCE=2  -c core/operators/contract.c -o core/operators/contract.o\n",
      "gcc -I\"/usr/share/R/include\" -DNDEBUG -DUSING_R -I. -Icore -Iinclude -Ivendor -I/home/felipe/anaconda3/envs/breg/include/libxml2 -I/home/felipe/anaconda3/envs/breg/include -DNDEBUG -DNTIMER -DNPRINT -DINTERNAL_ARPACK -DPRPACK_IGRAPH_SUPPORT -DIGRAPH_THREAD_LOCAL=/**/ -D_GNU_SOURCE=1 -I'/home/felipe/R/x86_64-pc-linux-gnu-library/4.2/cpp11/include'   -fvisibility=hidden -fpic  -g -O2 -ffile-prefix-map=/build/r-base-VHKDZm/r-base-4.2.2.20221110=. -fstack-protector-strong -Wformat -Werror=format-security -fdebug-prefix-map=/build/r-base-VHKDZm/r-base-4.2.2.20221110=/usr/src/r-base-4.2.2.20221110-2build1 -Wdate-time -D_FORTIFY_SOURCE=2  -c core/operators/difference.c -o core/operators/difference.o\n",
      "gcc -I\"/usr/share/R/include\" -DNDEBUG -DUSING_R -I. -Icore -Iinclude -Ivendor -I/home/felipe/anaconda3/envs/breg/include/libxml2 -I/home/felipe/anaconda3/envs/breg/include -DNDEBUG -DNTIMER -DNPRINT -DINTERNAL_ARPACK -DPRPACK_IGRAPH_SUPPORT -DIGRAPH_THREAD_LOCAL=/**/ -D_GNU_SOURCE=1 -I'/home/felipe/R/x86_64-pc-linux-gnu-library/4.2/cpp11/include'   -fvisibility=hidden -fpic  -g -O2 -ffile-prefix-map=/build/r-base-VHKDZm/r-base-4.2.2.20221110=. -fstack-protector-strong -Wformat -Werror=format-security -fdebug-prefix-map=/build/r-base-VHKDZm/r-base-4.2.2.20221110=/usr/src/r-base-4.2.2.20221110-2build1 -Wdate-time -D_FORTIFY_SOURCE=2  -c core/operators/disjoint_union.c -o core/operators/disjoint_union.o\n",
      "gcc -I\"/usr/share/R/include\" -DNDEBUG -DUSING_R -I. -Icore -Iinclude -Ivendor -I/home/felipe/anaconda3/envs/breg/include/libxml2 -I/home/felipe/anaconda3/envs/breg/include -DNDEBUG -DNTIMER -DNPRINT -DINTERNAL_ARPACK -DPRPACK_IGRAPH_SUPPORT -DIGRAPH_THREAD_LOCAL=/**/ -D_GNU_SOURCE=1 -I'/home/felipe/R/x86_64-pc-linux-gnu-library/4.2/cpp11/include'   -fvisibility=hidden -fpic  -g -O2 -ffile-prefix-map=/build/r-base-VHKDZm/r-base-4.2.2.20221110=. -fstack-protector-strong -Wformat -Werror=format-security -fdebug-prefix-map=/build/r-base-VHKDZm/r-base-4.2.2.20221110=/usr/src/r-base-4.2.2.20221110-2build1 -Wdate-time -D_FORTIFY_SOURCE=2  -c core/operators/intersection.c -o core/operators/intersection.o\n",
      "gcc -I\"/usr/share/R/include\" -DNDEBUG -DUSING_R -I. -Icore -Iinclude -Ivendor -I/home/felipe/anaconda3/envs/breg/include/libxml2 -I/home/felipe/anaconda3/envs/breg/include -DNDEBUG -DNTIMER -DNPRINT -DINTERNAL_ARPACK -DPRPACK_IGRAPH_SUPPORT -DIGRAPH_THREAD_LOCAL=/**/ -D_GNU_SOURCE=1 -I'/home/felipe/R/x86_64-pc-linux-gnu-library/4.2/cpp11/include'   -fvisibility=hidden -fpic  -g -O2 -ffile-prefix-map=/build/r-base-VHKDZm/r-base-4.2.2.20221110=. -fstack-protector-strong -Wformat -Werror=format-security -fdebug-prefix-map=/build/r-base-VHKDZm/r-base-4.2.2.20221110=/usr/src/r-base-4.2.2.20221110-2build1 -Wdate-time -D_FORTIFY_SOURCE=2  -c core/operators/misc_internal.c -o core/operators/misc_internal.o\n",
      "gcc -I\"/usr/share/R/include\" -DNDEBUG -DUSING_R -I. -Icore -Iinclude -Ivendor -I/home/felipe/anaconda3/envs/breg/include/libxml2 -I/home/felipe/anaconda3/envs/breg/include -DNDEBUG -DNTIMER -DNPRINT -DINTERNAL_ARPACK -DPRPACK_IGRAPH_SUPPORT -DIGRAPH_THREAD_LOCAL=/**/ -D_GNU_SOURCE=1 -I'/home/felipe/R/x86_64-pc-linux-gnu-library/4.2/cpp11/include'   -fvisibility=hidden -fpic  -g -O2 -ffile-prefix-map=/build/r-base-VHKDZm/r-base-4.2.2.20221110=. -fstack-protector-strong -Wformat -Werror=format-security -fdebug-prefix-map=/build/r-base-VHKDZm/r-base-4.2.2.20221110=/usr/src/r-base-4.2.2.20221110-2build1 -Wdate-time -D_FORTIFY_SOURCE=2  -c core/operators/permute.c -o core/operators/permute.o\n",
      "gcc -I\"/usr/share/R/include\" -DNDEBUG -DUSING_R -I. -Icore -Iinclude -Ivendor -I/home/felipe/anaconda3/envs/breg/include/libxml2 -I/home/felipe/anaconda3/envs/breg/include -DNDEBUG -DNTIMER -DNPRINT -DINTERNAL_ARPACK -DPRPACK_IGRAPH_SUPPORT -DIGRAPH_THREAD_LOCAL=/**/ -D_GNU_SOURCE=1 -I'/home/felipe/R/x86_64-pc-linux-gnu-library/4.2/cpp11/include'   -fvisibility=hidden -fpic  -g -O2 -ffile-prefix-map=/build/r-base-VHKDZm/r-base-4.2.2.20221110=. -fstack-protector-strong -Wformat -Werror=format-security -fdebug-prefix-map=/build/r-base-VHKDZm/r-base-4.2.2.20221110=/usr/src/r-base-4.2.2.20221110-2build1 -Wdate-time -D_FORTIFY_SOURCE=2  -c core/operators/reverse.c -o core/operators/reverse.o\n",
      "gcc -I\"/usr/share/R/include\" -DNDEBUG -DUSING_R -I. -Icore -Iinclude -Ivendor -I/home/felipe/anaconda3/envs/breg/include/libxml2 -I/home/felipe/anaconda3/envs/breg/include -DNDEBUG -DNTIMER -DNPRINT -DINTERNAL_ARPACK -DPRPACK_IGRAPH_SUPPORT -DIGRAPH_THREAD_LOCAL=/**/ -D_GNU_SOURCE=1 -I'/home/felipe/R/x86_64-pc-linux-gnu-library/4.2/cpp11/include'   -fvisibility=hidden -fpic  -g -O2 -ffile-prefix-map=/build/r-base-VHKDZm/r-base-4.2.2.20221110=. -fstack-protector-strong -Wformat -Werror=format-security -fdebug-prefix-map=/build/r-base-VHKDZm/r-base-4.2.2.20221110=/usr/src/r-base-4.2.2.20221110-2build1 -Wdate-time -D_FORTIFY_SOURCE=2  -c core/operators/rewire.c -o core/operators/rewire.o\n"
     ]
    },
    {
     "name": "stdout",
     "output_type": "stream",
     "text": [
      "gcc -I\"/usr/share/R/include\" -DNDEBUG -DUSING_R -I. -Icore -Iinclude -Ivendor -I/home/felipe/anaconda3/envs/breg/include/libxml2 -I/home/felipe/anaconda3/envs/breg/include -DNDEBUG -DNTIMER -DNPRINT -DINTERNAL_ARPACK -DPRPACK_IGRAPH_SUPPORT -DIGRAPH_THREAD_LOCAL=/**/ -D_GNU_SOURCE=1 -I'/home/felipe/R/x86_64-pc-linux-gnu-library/4.2/cpp11/include'   -fvisibility=hidden -fpic  -g -O2 -ffile-prefix-map=/build/r-base-VHKDZm/r-base-4.2.2.20221110=. -fstack-protector-strong -Wformat -Werror=format-security -fdebug-prefix-map=/build/r-base-VHKDZm/r-base-4.2.2.20221110=/usr/src/r-base-4.2.2.20221110-2build1 -Wdate-time -D_FORTIFY_SOURCE=2  -c core/operators/rewire_edges.c -o core/operators/rewire_edges.o\n",
      "gcc -I\"/usr/share/R/include\" -DNDEBUG -DUSING_R -I. -Icore -Iinclude -Ivendor -I/home/felipe/anaconda3/envs/breg/include/libxml2 -I/home/felipe/anaconda3/envs/breg/include -DNDEBUG -DNTIMER -DNPRINT -DINTERNAL_ARPACK -DPRPACK_IGRAPH_SUPPORT -DIGRAPH_THREAD_LOCAL=/**/ -D_GNU_SOURCE=1 -I'/home/felipe/R/x86_64-pc-linux-gnu-library/4.2/cpp11/include'   -fvisibility=hidden -fpic  -g -O2 -ffile-prefix-map=/build/r-base-VHKDZm/r-base-4.2.2.20221110=. -fstack-protector-strong -Wformat -Werror=format-security -fdebug-prefix-map=/build/r-base-VHKDZm/r-base-4.2.2.20221110=/usr/src/r-base-4.2.2.20221110-2build1 -Wdate-time -D_FORTIFY_SOURCE=2  -c core/operators/simplify.c -o core/operators/simplify.o\n",
      "gcc -I\"/usr/share/R/include\" -DNDEBUG -DUSING_R -I. -Icore -Iinclude -Ivendor -I/home/felipe/anaconda3/envs/breg/include/libxml2 -I/home/felipe/anaconda3/envs/breg/include -DNDEBUG -DNTIMER -DNPRINT -DINTERNAL_ARPACK -DPRPACK_IGRAPH_SUPPORT -DIGRAPH_THREAD_LOCAL=/**/ -D_GNU_SOURCE=1 -I'/home/felipe/R/x86_64-pc-linux-gnu-library/4.2/cpp11/include'   -fvisibility=hidden -fpic  -g -O2 -ffile-prefix-map=/build/r-base-VHKDZm/r-base-4.2.2.20221110=. -fstack-protector-strong -Wformat -Werror=format-security -fdebug-prefix-map=/build/r-base-VHKDZm/r-base-4.2.2.20221110=/usr/src/r-base-4.2.2.20221110-2build1 -Wdate-time -D_FORTIFY_SOURCE=2  -c core/operators/subgraph.c -o core/operators/subgraph.o\n",
      "gcc -I\"/usr/share/R/include\" -DNDEBUG -DUSING_R -I. -Icore -Iinclude -Ivendor -I/home/felipe/anaconda3/envs/breg/include/libxml2 -I/home/felipe/anaconda3/envs/breg/include -DNDEBUG -DNTIMER -DNPRINT -DINTERNAL_ARPACK -DPRPACK_IGRAPH_SUPPORT -DIGRAPH_THREAD_LOCAL=/**/ -D_GNU_SOURCE=1 -I'/home/felipe/R/x86_64-pc-linux-gnu-library/4.2/cpp11/include'   -fvisibility=hidden -fpic  -g -O2 -ffile-prefix-map=/build/r-base-VHKDZm/r-base-4.2.2.20221110=. -fstack-protector-strong -Wformat -Werror=format-security -fdebug-prefix-map=/build/r-base-VHKDZm/r-base-4.2.2.20221110=/usr/src/r-base-4.2.2.20221110-2build1 -Wdate-time -D_FORTIFY_SOURCE=2  -c core/operators/union.c -o core/operators/union.o\n",
      "gcc -I\"/usr/share/R/include\" -DNDEBUG -DUSING_R -I. -Icore -Iinclude -Ivendor -I/home/felipe/anaconda3/envs/breg/include/libxml2 -I/home/felipe/anaconda3/envs/breg/include -DNDEBUG -DNTIMER -DNPRINT -DINTERNAL_ARPACK -DPRPACK_IGRAPH_SUPPORT -DIGRAPH_THREAD_LOCAL=/**/ -D_GNU_SOURCE=1 -I'/home/felipe/R/x86_64-pc-linux-gnu-library/4.2/cpp11/include'   -fvisibility=hidden -fpic  -g -O2 -ffile-prefix-map=/build/r-base-VHKDZm/r-base-4.2.2.20221110=. -fstack-protector-strong -Wformat -Werror=format-security -fdebug-prefix-map=/build/r-base-VHKDZm/r-base-4.2.2.20221110=/usr/src/r-base-4.2.2.20221110-2build1 -Wdate-time -D_FORTIFY_SOURCE=2  -c core/paths/all_shortest_paths.c -o core/paths/all_shortest_paths.o\n",
      "gcc -I\"/usr/share/R/include\" -DNDEBUG -DUSING_R -I. -Icore -Iinclude -Ivendor -I/home/felipe/anaconda3/envs/breg/include/libxml2 -I/home/felipe/anaconda3/envs/breg/include -DNDEBUG -DNTIMER -DNPRINT -DINTERNAL_ARPACK -DPRPACK_IGRAPH_SUPPORT -DIGRAPH_THREAD_LOCAL=/**/ -D_GNU_SOURCE=1 -I'/home/felipe/R/x86_64-pc-linux-gnu-library/4.2/cpp11/include'   -fvisibility=hidden -fpic  -g -O2 -ffile-prefix-map=/build/r-base-VHKDZm/r-base-4.2.2.20221110=. -fstack-protector-strong -Wformat -Werror=format-security -fdebug-prefix-map=/build/r-base-VHKDZm/r-base-4.2.2.20221110=/usr/src/r-base-4.2.2.20221110-2build1 -Wdate-time -D_FORTIFY_SOURCE=2  -c core/paths/bellman_ford.c -o core/paths/bellman_ford.o\n",
      "gcc -I\"/usr/share/R/include\" -DNDEBUG -DUSING_R -I. -Icore -Iinclude -Ivendor -I/home/felipe/anaconda3/envs/breg/include/libxml2 -I/home/felipe/anaconda3/envs/breg/include -DNDEBUG -DNTIMER -DNPRINT -DINTERNAL_ARPACK -DPRPACK_IGRAPH_SUPPORT -DIGRAPH_THREAD_LOCAL=/**/ -D_GNU_SOURCE=1 -I'/home/felipe/R/x86_64-pc-linux-gnu-library/4.2/cpp11/include'   -fvisibility=hidden -fpic  -g -O2 -ffile-prefix-map=/build/r-base-VHKDZm/r-base-4.2.2.20221110=. -fstack-protector-strong -Wformat -Werror=format-security -fdebug-prefix-map=/build/r-base-VHKDZm/r-base-4.2.2.20221110=/usr/src/r-base-4.2.2.20221110-2build1 -Wdate-time -D_FORTIFY_SOURCE=2  -c core/paths/dijkstra.c -o core/paths/dijkstra.o\n",
      "gcc -I\"/usr/share/R/include\" -DNDEBUG -DUSING_R -I. -Icore -Iinclude -Ivendor -I/home/felipe/anaconda3/envs/breg/include/libxml2 -I/home/felipe/anaconda3/envs/breg/include -DNDEBUG -DNTIMER -DNPRINT -DINTERNAL_ARPACK -DPRPACK_IGRAPH_SUPPORT -DIGRAPH_THREAD_LOCAL=/**/ -D_GNU_SOURCE=1 -I'/home/felipe/R/x86_64-pc-linux-gnu-library/4.2/cpp11/include'   -fvisibility=hidden -fpic  -g -O2 -ffile-prefix-map=/build/r-base-VHKDZm/r-base-4.2.2.20221110=. -fstack-protector-strong -Wformat -Werror=format-security -fdebug-prefix-map=/build/r-base-VHKDZm/r-base-4.2.2.20221110=/usr/src/r-base-4.2.2.20221110-2build1 -Wdate-time -D_FORTIFY_SOURCE=2  -c core/paths/distances.c -o core/paths/distances.o\n",
      "gcc -I\"/usr/share/R/include\" -DNDEBUG -DUSING_R -I. -Icore -Iinclude -Ivendor -I/home/felipe/anaconda3/envs/breg/include/libxml2 -I/home/felipe/anaconda3/envs/breg/include -DNDEBUG -DNTIMER -DNPRINT -DINTERNAL_ARPACK -DPRPACK_IGRAPH_SUPPORT -DIGRAPH_THREAD_LOCAL=/**/ -D_GNU_SOURCE=1 -I'/home/felipe/R/x86_64-pc-linux-gnu-library/4.2/cpp11/include'   -fvisibility=hidden -fpic  -g -O2 -ffile-prefix-map=/build/r-base-VHKDZm/r-base-4.2.2.20221110=. -fstack-protector-strong -Wformat -Werror=format-security -fdebug-prefix-map=/build/r-base-VHKDZm/r-base-4.2.2.20221110=/usr/src/r-base-4.2.2.20221110-2build1 -Wdate-time -D_FORTIFY_SOURCE=2  -c core/paths/eulerian.c -o core/paths/eulerian.o\n",
      "gcc -I\"/usr/share/R/include\" -DNDEBUG -DUSING_R -I. -Icore -Iinclude -Ivendor -I/home/felipe/anaconda3/envs/breg/include/libxml2 -I/home/felipe/anaconda3/envs/breg/include -DNDEBUG -DNTIMER -DNPRINT -DINTERNAL_ARPACK -DPRPACK_IGRAPH_SUPPORT -DIGRAPH_THREAD_LOCAL=/**/ -D_GNU_SOURCE=1 -I'/home/felipe/R/x86_64-pc-linux-gnu-library/4.2/cpp11/include'   -fvisibility=hidden -fpic  -g -O2 -ffile-prefix-map=/build/r-base-VHKDZm/r-base-4.2.2.20221110=. -fstack-protector-strong -Wformat -Werror=format-security -fdebug-prefix-map=/build/r-base-VHKDZm/r-base-4.2.2.20221110=/usr/src/r-base-4.2.2.20221110-2build1 -Wdate-time -D_FORTIFY_SOURCE=2  -c core/paths/histogram.c -o core/paths/histogram.o\n",
      "gcc -I\"/usr/share/R/include\" -DNDEBUG -DUSING_R -I. -Icore -Iinclude -Ivendor -I/home/felipe/anaconda3/envs/breg/include/libxml2 -I/home/felipe/anaconda3/envs/breg/include -DNDEBUG -DNTIMER -DNPRINT -DINTERNAL_ARPACK -DPRPACK_IGRAPH_SUPPORT -DIGRAPH_THREAD_LOCAL=/**/ -D_GNU_SOURCE=1 -I'/home/felipe/R/x86_64-pc-linux-gnu-library/4.2/cpp11/include'   -fvisibility=hidden -fpic  -g -O2 -ffile-prefix-map=/build/r-base-VHKDZm/r-base-4.2.2.20221110=. -fstack-protector-strong -Wformat -Werror=format-security -fdebug-prefix-map=/build/r-base-VHKDZm/r-base-4.2.2.20221110=/usr/src/r-base-4.2.2.20221110-2build1 -Wdate-time -D_FORTIFY_SOURCE=2  -c core/paths/johnson.c -o core/paths/johnson.o\n",
      "gcc -I\"/usr/share/R/include\" -DNDEBUG -DUSING_R -I. -Icore -Iinclude -Ivendor -I/home/felipe/anaconda3/envs/breg/include/libxml2 -I/home/felipe/anaconda3/envs/breg/include -DNDEBUG -DNTIMER -DNPRINT -DINTERNAL_ARPACK -DPRPACK_IGRAPH_SUPPORT -DIGRAPH_THREAD_LOCAL=/**/ -D_GNU_SOURCE=1 -I'/home/felipe/R/x86_64-pc-linux-gnu-library/4.2/cpp11/include'   -fvisibility=hidden -fpic  -g -O2 -ffile-prefix-map=/build/r-base-VHKDZm/r-base-4.2.2.20221110=. -fstack-protector-strong -Wformat -Werror=format-security -fdebug-prefix-map=/build/r-base-VHKDZm/r-base-4.2.2.20221110=/usr/src/r-base-4.2.2.20221110-2build1 -Wdate-time -D_FORTIFY_SOURCE=2  -c core/paths/random_walk.c -o core/paths/random_walk.o\n",
      "gcc -I\"/usr/share/R/include\" -DNDEBUG -DUSING_R -I. -Icore -Iinclude -Ivendor -I/home/felipe/anaconda3/envs/breg/include/libxml2 -I/home/felipe/anaconda3/envs/breg/include -DNDEBUG -DNTIMER -DNPRINT -DINTERNAL_ARPACK -DPRPACK_IGRAPH_SUPPORT -DIGRAPH_THREAD_LOCAL=/**/ -D_GNU_SOURCE=1 -I'/home/felipe/R/x86_64-pc-linux-gnu-library/4.2/cpp11/include'   -fvisibility=hidden -fpic  -g -O2 -ffile-prefix-map=/build/r-base-VHKDZm/r-base-4.2.2.20221110=. -fstack-protector-strong -Wformat -Werror=format-security -fdebug-prefix-map=/build/r-base-VHKDZm/r-base-4.2.2.20221110=/usr/src/r-base-4.2.2.20221110-2build1 -Wdate-time -D_FORTIFY_SOURCE=2  -c core/paths/shortest_paths.c -o core/paths/shortest_paths.o\n"
     ]
    },
    {
     "name": "stdout",
     "output_type": "stream",
     "text": [
      "gcc -I\"/usr/share/R/include\" -DNDEBUG -DUSING_R -I. -Icore -Iinclude -Ivendor -I/home/felipe/anaconda3/envs/breg/include/libxml2 -I/home/felipe/anaconda3/envs/breg/include -DNDEBUG -DNTIMER -DNPRINT -DINTERNAL_ARPACK -DPRPACK_IGRAPH_SUPPORT -DIGRAPH_THREAD_LOCAL=/**/ -D_GNU_SOURCE=1 -I'/home/felipe/R/x86_64-pc-linux-gnu-library/4.2/cpp11/include'   -fvisibility=hidden -fpic  -g -O2 -ffile-prefix-map=/build/r-base-VHKDZm/r-base-4.2.2.20221110=. -fstack-protector-strong -Wformat -Werror=format-security -fdebug-prefix-map=/build/r-base-VHKDZm/r-base-4.2.2.20221110=/usr/src/r-base-4.2.2.20221110-2build1 -Wdate-time -D_FORTIFY_SOURCE=2  -c core/paths/simple_paths.c -o core/paths/simple_paths.o\n",
      "gcc -I\"/usr/share/R/include\" -DNDEBUG -DUSING_R -I. -Icore -Iinclude -Ivendor -I/home/felipe/anaconda3/envs/breg/include/libxml2 -I/home/felipe/anaconda3/envs/breg/include -DNDEBUG -DNTIMER -DNPRINT -DINTERNAL_ARPACK -DPRPACK_IGRAPH_SUPPORT -DIGRAPH_THREAD_LOCAL=/**/ -D_GNU_SOURCE=1 -I'/home/felipe/R/x86_64-pc-linux-gnu-library/4.2/cpp11/include'   -fvisibility=hidden -fpic  -g -O2 -ffile-prefix-map=/build/r-base-VHKDZm/r-base-4.2.2.20221110=. -fstack-protector-strong -Wformat -Werror=format-security -fdebug-prefix-map=/build/r-base-VHKDZm/r-base-4.2.2.20221110=/usr/src/r-base-4.2.2.20221110-2build1 -Wdate-time -D_FORTIFY_SOURCE=2  -c core/paths/unweighted.c -o core/paths/unweighted.o\n",
      "gcc -I\"/usr/share/R/include\" -DNDEBUG -DUSING_R -I. -Icore -Iinclude -Ivendor -I/home/felipe/anaconda3/envs/breg/include/libxml2 -I/home/felipe/anaconda3/envs/breg/include -DNDEBUG -DNTIMER -DNPRINT -DINTERNAL_ARPACK -DPRPACK_IGRAPH_SUPPORT -DIGRAPH_THREAD_LOCAL=/**/ -D_GNU_SOURCE=1 -I'/home/felipe/R/x86_64-pc-linux-gnu-library/4.2/cpp11/include'   -fvisibility=hidden -fpic  -g -O2 -ffile-prefix-map=/build/r-base-VHKDZm/r-base-4.2.2.20221110=. -fstack-protector-strong -Wformat -Werror=format-security -fdebug-prefix-map=/build/r-base-VHKDZm/r-base-4.2.2.20221110=/usr/src/r-base-4.2.2.20221110-2build1 -Wdate-time -D_FORTIFY_SOURCE=2  -c core/properties/basic_properties.c -o core/properties/basic_properties.o\n",
      "gcc -I\"/usr/share/R/include\" -DNDEBUG -DUSING_R -I. -Icore -Iinclude -Ivendor -I/home/felipe/anaconda3/envs/breg/include/libxml2 -I/home/felipe/anaconda3/envs/breg/include -DNDEBUG -DNTIMER -DNPRINT -DINTERNAL_ARPACK -DPRPACK_IGRAPH_SUPPORT -DIGRAPH_THREAD_LOCAL=/**/ -D_GNU_SOURCE=1 -I'/home/felipe/R/x86_64-pc-linux-gnu-library/4.2/cpp11/include'   -fvisibility=hidden -fpic  -g -O2 -ffile-prefix-map=/build/r-base-VHKDZm/r-base-4.2.2.20221110=. -fstack-protector-strong -Wformat -Werror=format-security -fdebug-prefix-map=/build/r-base-VHKDZm/r-base-4.2.2.20221110=/usr/src/r-base-4.2.2.20221110-2build1 -Wdate-time -D_FORTIFY_SOURCE=2  -c core/properties/constraint.c -o core/properties/constraint.o\n",
      "gcc -I\"/usr/share/R/include\" -DNDEBUG -DUSING_R -I. -Icore -Iinclude -Ivendor -I/home/felipe/anaconda3/envs/breg/include/libxml2 -I/home/felipe/anaconda3/envs/breg/include -DNDEBUG -DNTIMER -DNPRINT -DINTERNAL_ARPACK -DPRPACK_IGRAPH_SUPPORT -DIGRAPH_THREAD_LOCAL=/**/ -D_GNU_SOURCE=1 -I'/home/felipe/R/x86_64-pc-linux-gnu-library/4.2/cpp11/include'   -fvisibility=hidden -fpic  -g -O2 -ffile-prefix-map=/build/r-base-VHKDZm/r-base-4.2.2.20221110=. -fstack-protector-strong -Wformat -Werror=format-security -fdebug-prefix-map=/build/r-base-VHKDZm/r-base-4.2.2.20221110=/usr/src/r-base-4.2.2.20221110-2build1 -Wdate-time -D_FORTIFY_SOURCE=2  -c core/properties/convergence_degree.c -o core/properties/convergence_degree.o\n",
      "gcc -I\"/usr/share/R/include\" -DNDEBUG -DUSING_R -I. -Icore -Iinclude -Ivendor -I/home/felipe/anaconda3/envs/breg/include/libxml2 -I/home/felipe/anaconda3/envs/breg/include -DNDEBUG -DNTIMER -DNPRINT -DINTERNAL_ARPACK -DPRPACK_IGRAPH_SUPPORT -DIGRAPH_THREAD_LOCAL=/**/ -D_GNU_SOURCE=1 -I'/home/felipe/R/x86_64-pc-linux-gnu-library/4.2/cpp11/include'   -fvisibility=hidden -fpic  -g -O2 -ffile-prefix-map=/build/r-base-VHKDZm/r-base-4.2.2.20221110=. -fstack-protector-strong -Wformat -Werror=format-security -fdebug-prefix-map=/build/r-base-VHKDZm/r-base-4.2.2.20221110=/usr/src/r-base-4.2.2.20221110-2build1 -Wdate-time -D_FORTIFY_SOURCE=2  -c core/properties/dag.c -o core/properties/dag.o\n",
      "gcc -I\"/usr/share/R/include\" -DNDEBUG -DUSING_R -I. -Icore -Iinclude -Ivendor -I/home/felipe/anaconda3/envs/breg/include/libxml2 -I/home/felipe/anaconda3/envs/breg/include -DNDEBUG -DNTIMER -DNPRINT -DINTERNAL_ARPACK -DPRPACK_IGRAPH_SUPPORT -DIGRAPH_THREAD_LOCAL=/**/ -D_GNU_SOURCE=1 -I'/home/felipe/R/x86_64-pc-linux-gnu-library/4.2/cpp11/include'   -fvisibility=hidden -fpic  -g -O2 -ffile-prefix-map=/build/r-base-VHKDZm/r-base-4.2.2.20221110=. -fstack-protector-strong -Wformat -Werror=format-security -fdebug-prefix-map=/build/r-base-VHKDZm/r-base-4.2.2.20221110=/usr/src/r-base-4.2.2.20221110-2build1 -Wdate-time -D_FORTIFY_SOURCE=2  -c core/properties/degrees.c -o core/properties/degrees.o\n",
      "gcc -I\"/usr/share/R/include\" -DNDEBUG -DUSING_R -I. -Icore -Iinclude -Ivendor -I/home/felipe/anaconda3/envs/breg/include/libxml2 -I/home/felipe/anaconda3/envs/breg/include -DNDEBUG -DNTIMER -DNPRINT -DINTERNAL_ARPACK -DPRPACK_IGRAPH_SUPPORT -DIGRAPH_THREAD_LOCAL=/**/ -D_GNU_SOURCE=1 -I'/home/felipe/R/x86_64-pc-linux-gnu-library/4.2/cpp11/include'   -fvisibility=hidden -fpic  -g -O2 -ffile-prefix-map=/build/r-base-VHKDZm/r-base-4.2.2.20221110=. -fstack-protector-strong -Wformat -Werror=format-security -fdebug-prefix-map=/build/r-base-VHKDZm/r-base-4.2.2.20221110=/usr/src/r-base-4.2.2.20221110-2build1 -Wdate-time -D_FORTIFY_SOURCE=2  -c core/properties/girth.c -o core/properties/girth.o\n",
      "gcc -I\"/usr/share/R/include\" -DNDEBUG -DUSING_R -I. -Icore -Iinclude -Ivendor -I/home/felipe/anaconda3/envs/breg/include/libxml2 -I/home/felipe/anaconda3/envs/breg/include -DNDEBUG -DNTIMER -DNPRINT -DINTERNAL_ARPACK -DPRPACK_IGRAPH_SUPPORT -DIGRAPH_THREAD_LOCAL=/**/ -D_GNU_SOURCE=1 -I'/home/felipe/R/x86_64-pc-linux-gnu-library/4.2/cpp11/include'   -fvisibility=hidden -fpic  -g -O2 -ffile-prefix-map=/build/r-base-VHKDZm/r-base-4.2.2.20221110=. -fstack-protector-strong -Wformat -Werror=format-security -fdebug-prefix-map=/build/r-base-VHKDZm/r-base-4.2.2.20221110=/usr/src/r-base-4.2.2.20221110-2build1 -Wdate-time -D_FORTIFY_SOURCE=2  -c core/properties/loops.c -o core/properties/loops.o\n",
      "gcc -I\"/usr/share/R/include\" -DNDEBUG -DUSING_R -I. -Icore -Iinclude -Ivendor -I/home/felipe/anaconda3/envs/breg/include/libxml2 -I/home/felipe/anaconda3/envs/breg/include -DNDEBUG -DNTIMER -DNPRINT -DINTERNAL_ARPACK -DPRPACK_IGRAPH_SUPPORT -DIGRAPH_THREAD_LOCAL=/**/ -D_GNU_SOURCE=1 -I'/home/felipe/R/x86_64-pc-linux-gnu-library/4.2/cpp11/include'   -fvisibility=hidden -fpic  -g -O2 -ffile-prefix-map=/build/r-base-VHKDZm/r-base-4.2.2.20221110=. -fstack-protector-strong -Wformat -Werror=format-security -fdebug-prefix-map=/build/r-base-VHKDZm/r-base-4.2.2.20221110=/usr/src/r-base-4.2.2.20221110-2build1 -Wdate-time -D_FORTIFY_SOURCE=2  -c core/properties/multiplicity.c -o core/properties/multiplicity.o\n",
      "gcc -I\"/usr/share/R/include\" -DNDEBUG -DUSING_R -I. -Icore -Iinclude -Ivendor -I/home/felipe/anaconda3/envs/breg/include/libxml2 -I/home/felipe/anaconda3/envs/breg/include -DNDEBUG -DNTIMER -DNPRINT -DINTERNAL_ARPACK -DPRPACK_IGRAPH_SUPPORT -DIGRAPH_THREAD_LOCAL=/**/ -D_GNU_SOURCE=1 -I'/home/felipe/R/x86_64-pc-linux-gnu-library/4.2/cpp11/include'   -fvisibility=hidden -fpic  -g -O2 -ffile-prefix-map=/build/r-base-VHKDZm/r-base-4.2.2.20221110=. -fstack-protector-strong -Wformat -Werror=format-security -fdebug-prefix-map=/build/r-base-VHKDZm/r-base-4.2.2.20221110=/usr/src/r-base-4.2.2.20221110-2build1 -Wdate-time -D_FORTIFY_SOURCE=2  -c core/properties/neighborhood.c -o core/properties/neighborhood.o\n",
      "gcc -I\"/usr/share/R/include\" -DNDEBUG -DUSING_R -I. -Icore -Iinclude -Ivendor -I/home/felipe/anaconda3/envs/breg/include/libxml2 -I/home/felipe/anaconda3/envs/breg/include -DNDEBUG -DNTIMER -DNPRINT -DINTERNAL_ARPACK -DPRPACK_IGRAPH_SUPPORT -DIGRAPH_THREAD_LOCAL=/**/ -D_GNU_SOURCE=1 -I'/home/felipe/R/x86_64-pc-linux-gnu-library/4.2/cpp11/include'   -fvisibility=hidden -fpic  -g -O2 -ffile-prefix-map=/build/r-base-VHKDZm/r-base-4.2.2.20221110=. -fstack-protector-strong -Wformat -Werror=format-security -fdebug-prefix-map=/build/r-base-VHKDZm/r-base-4.2.2.20221110=/usr/src/r-base-4.2.2.20221110-2build1 -Wdate-time -D_FORTIFY_SOURCE=2  -c core/properties/spectral.c -o core/properties/spectral.o\n"
     ]
    },
    {
     "name": "stdout",
     "output_type": "stream",
     "text": [
      "gcc -I\"/usr/share/R/include\" -DNDEBUG -DUSING_R -I. -Icore -Iinclude -Ivendor -I/home/felipe/anaconda3/envs/breg/include/libxml2 -I/home/felipe/anaconda3/envs/breg/include -DNDEBUG -DNTIMER -DNPRINT -DINTERNAL_ARPACK -DPRPACK_IGRAPH_SUPPORT -DIGRAPH_THREAD_LOCAL=/**/ -D_GNU_SOURCE=1 -I'/home/felipe/R/x86_64-pc-linux-gnu-library/4.2/cpp11/include'   -fvisibility=hidden -fpic  -g -O2 -ffile-prefix-map=/build/r-base-VHKDZm/r-base-4.2.2.20221110=. -fstack-protector-strong -Wformat -Werror=format-security -fdebug-prefix-map=/build/r-base-VHKDZm/r-base-4.2.2.20221110=/usr/src/r-base-4.2.2.20221110-2build1 -Wdate-time -D_FORTIFY_SOURCE=2  -c core/properties/trees.c -o core/properties/trees.o\n",
      "gcc -I\"/usr/share/R/include\" -DNDEBUG -DUSING_R -I. -Icore -Iinclude -Ivendor -I/home/felipe/anaconda3/envs/breg/include/libxml2 -I/home/felipe/anaconda3/envs/breg/include -DNDEBUG -DNTIMER -DNPRINT -DINTERNAL_ARPACK -DPRPACK_IGRAPH_SUPPORT -DIGRAPH_THREAD_LOCAL=/**/ -D_GNU_SOURCE=1 -I'/home/felipe/R/x86_64-pc-linux-gnu-library/4.2/cpp11/include'   -fvisibility=hidden -fpic  -g -O2 -ffile-prefix-map=/build/r-base-VHKDZm/r-base-4.2.2.20221110=. -fstack-protector-strong -Wformat -Werror=format-security -fdebug-prefix-map=/build/r-base-VHKDZm/r-base-4.2.2.20221110=/usr/src/r-base-4.2.2.20221110-2build1 -Wdate-time -D_FORTIFY_SOURCE=2  -c core/properties/triangles.c -o core/properties/triangles.o\n",
      "gcc -I\"/usr/share/R/include\" -DNDEBUG -DUSING_R -I. -Icore -Iinclude -Ivendor -I/home/felipe/anaconda3/envs/breg/include/libxml2 -I/home/felipe/anaconda3/envs/breg/include -DNDEBUG -DNTIMER -DNPRINT -DINTERNAL_ARPACK -DPRPACK_IGRAPH_SUPPORT -DIGRAPH_THREAD_LOCAL=/**/ -D_GNU_SOURCE=1 -I'/home/felipe/R/x86_64-pc-linux-gnu-library/4.2/cpp11/include'   -fvisibility=hidden -fpic  -g -O2 -ffile-prefix-map=/build/r-base-VHKDZm/r-base-4.2.2.20221110=. -fstack-protector-strong -Wformat -Werror=format-security -fdebug-prefix-map=/build/r-base-VHKDZm/r-base-4.2.2.20221110=/usr/src/r-base-4.2.2.20221110-2build1 -Wdate-time -D_FORTIFY_SOURCE=2  -c core/random/random.c -o core/random/random.o\n",
      "gcc -I\"/usr/share/R/include\" -DNDEBUG -DUSING_R -I. -Icore -Iinclude -Ivendor -I/home/felipe/anaconda3/envs/breg/include/libxml2 -I/home/felipe/anaconda3/envs/breg/include -DNDEBUG -DNTIMER -DNPRINT -DINTERNAL_ARPACK -DPRPACK_IGRAPH_SUPPORT -DIGRAPH_THREAD_LOCAL=/**/ -D_GNU_SOURCE=1 -I'/home/felipe/R/x86_64-pc-linux-gnu-library/4.2/cpp11/include'   -fvisibility=hidden -fpic  -g -O2 -ffile-prefix-map=/build/r-base-VHKDZm/r-base-4.2.2.20221110=. -fstack-protector-strong -Wformat -Werror=format-security -fdebug-prefix-map=/build/r-base-VHKDZm/r-base-4.2.2.20221110=/usr/src/r-base-4.2.2.20221110-2build1 -Wdate-time -D_FORTIFY_SOURCE=2  -c core/scg/scg.c -o core/scg/scg.o\n",
      "gcc -I\"/usr/share/R/include\" -DNDEBUG -DUSING_R -I. -Icore -Iinclude -Ivendor -I/home/felipe/anaconda3/envs/breg/include/libxml2 -I/home/felipe/anaconda3/envs/breg/include -DNDEBUG -DNTIMER -DNPRINT -DINTERNAL_ARPACK -DPRPACK_IGRAPH_SUPPORT -DIGRAPH_THREAD_LOCAL=/**/ -D_GNU_SOURCE=1 -I'/home/felipe/R/x86_64-pc-linux-gnu-library/4.2/cpp11/include'   -fvisibility=hidden -fpic  -g -O2 -ffile-prefix-map=/build/r-base-VHKDZm/r-base-4.2.2.20221110=. -fstack-protector-strong -Wformat -Werror=format-security -fdebug-prefix-map=/build/r-base-VHKDZm/r-base-4.2.2.20221110=/usr/src/r-base-4.2.2.20221110-2build1 -Wdate-time -D_FORTIFY_SOURCE=2  -c core/scg/scg_approximate_methods.c -o core/scg/scg_approximate_methods.o\n",
      "gcc -I\"/usr/share/R/include\" -DNDEBUG -DUSING_R -I. -Icore -Iinclude -Ivendor -I/home/felipe/anaconda3/envs/breg/include/libxml2 -I/home/felipe/anaconda3/envs/breg/include -DNDEBUG -DNTIMER -DNPRINT -DINTERNAL_ARPACK -DPRPACK_IGRAPH_SUPPORT -DIGRAPH_THREAD_LOCAL=/**/ -D_GNU_SOURCE=1 -I'/home/felipe/R/x86_64-pc-linux-gnu-library/4.2/cpp11/include'   -fvisibility=hidden -fpic  -g -O2 -ffile-prefix-map=/build/r-base-VHKDZm/r-base-4.2.2.20221110=. -fstack-protector-strong -Wformat -Werror=format-security -fdebug-prefix-map=/build/r-base-VHKDZm/r-base-4.2.2.20221110=/usr/src/r-base-4.2.2.20221110-2build1 -Wdate-time -D_FORTIFY_SOURCE=2  -c core/scg/scg_exact_scg.c -o core/scg/scg_exact_scg.o\n",
      "gcc -I\"/usr/share/R/include\" -DNDEBUG -DUSING_R -I. -Icore -Iinclude -Ivendor -I/home/felipe/anaconda3/envs/breg/include/libxml2 -I/home/felipe/anaconda3/envs/breg/include -DNDEBUG -DNTIMER -DNPRINT -DINTERNAL_ARPACK -DPRPACK_IGRAPH_SUPPORT -DIGRAPH_THREAD_LOCAL=/**/ -D_GNU_SOURCE=1 -I'/home/felipe/R/x86_64-pc-linux-gnu-library/4.2/cpp11/include'   -fvisibility=hidden -fpic  -g -O2 -ffile-prefix-map=/build/r-base-VHKDZm/r-base-4.2.2.20221110=. -fstack-protector-strong -Wformat -Werror=format-security -fdebug-prefix-map=/build/r-base-VHKDZm/r-base-4.2.2.20221110=/usr/src/r-base-4.2.2.20221110-2build1 -Wdate-time -D_FORTIFY_SOURCE=2  -c core/scg/scg_kmeans.c -o core/scg/scg_kmeans.o\n",
      "gcc -I\"/usr/share/R/include\" -DNDEBUG -DUSING_R -I. -Icore -Iinclude -Ivendor -I/home/felipe/anaconda3/envs/breg/include/libxml2 -I/home/felipe/anaconda3/envs/breg/include -DNDEBUG -DNTIMER -DNPRINT -DINTERNAL_ARPACK -DPRPACK_IGRAPH_SUPPORT -DIGRAPH_THREAD_LOCAL=/**/ -D_GNU_SOURCE=1 -I'/home/felipe/R/x86_64-pc-linux-gnu-library/4.2/cpp11/include'   -fvisibility=hidden -fpic  -g -O2 -ffile-prefix-map=/build/r-base-VHKDZm/r-base-4.2.2.20221110=. -fstack-protector-strong -Wformat -Werror=format-security -fdebug-prefix-map=/build/r-base-VHKDZm/r-base-4.2.2.20221110=/usr/src/r-base-4.2.2.20221110-2build1 -Wdate-time -D_FORTIFY_SOURCE=2  -c core/scg/scg_optimal_method.c -o core/scg/scg_optimal_method.o\n",
      "gcc -I\"/usr/share/R/include\" -DNDEBUG -DUSING_R -I. -Icore -Iinclude -Ivendor -I/home/felipe/anaconda3/envs/breg/include/libxml2 -I/home/felipe/anaconda3/envs/breg/include -DNDEBUG -DNTIMER -DNPRINT -DINTERNAL_ARPACK -DPRPACK_IGRAPH_SUPPORT -DIGRAPH_THREAD_LOCAL=/**/ -D_GNU_SOURCE=1 -I'/home/felipe/R/x86_64-pc-linux-gnu-library/4.2/cpp11/include'   -fvisibility=hidden -fpic  -g -O2 -ffile-prefix-map=/build/r-base-VHKDZm/r-base-4.2.2.20221110=. -fstack-protector-strong -Wformat -Werror=format-security -fdebug-prefix-map=/build/r-base-VHKDZm/r-base-4.2.2.20221110=/usr/src/r-base-4.2.2.20221110-2build1 -Wdate-time -D_FORTIFY_SOURCE=2  -c core/scg/scg_utils.c -o core/scg/scg_utils.o\n",
      "gcc -I\"/usr/share/R/include\" -DNDEBUG -DUSING_R -I. -Icore -Iinclude -Ivendor -I/home/felipe/anaconda3/envs/breg/include/libxml2 -I/home/felipe/anaconda3/envs/breg/include -DNDEBUG -DNTIMER -DNPRINT -DINTERNAL_ARPACK -DPRPACK_IGRAPH_SUPPORT -DIGRAPH_THREAD_LOCAL=/**/ -D_GNU_SOURCE=1 -I'/home/felipe/R/x86_64-pc-linux-gnu-library/4.2/cpp11/include'   -fvisibility=hidden -fpic  -g -O2 -ffile-prefix-map=/build/r-base-VHKDZm/r-base-4.2.2.20221110=. -fstack-protector-strong -Wformat -Werror=format-security -fdebug-prefix-map=/build/r-base-VHKDZm/r-base-4.2.2.20221110=/usr/src/r-base-4.2.2.20221110-2build1 -Wdate-time -D_FORTIFY_SOURCE=2  -c core/version.c -o core/version.o\n",
      "gcc -I\"/usr/share/R/include\" -DNDEBUG -DUSING_R -I. -Icore -Iinclude -Ivendor -I/home/felipe/anaconda3/envs/breg/include/libxml2 -I/home/felipe/anaconda3/envs/breg/include -DNDEBUG -DNTIMER -DNPRINT -DINTERNAL_ARPACK -DPRPACK_IGRAPH_SUPPORT -DIGRAPH_THREAD_LOCAL=/**/ -D_GNU_SOURCE=1 -I'/home/felipe/R/x86_64-pc-linux-gnu-library/4.2/cpp11/include'   -fvisibility=hidden -fpic  -g -O2 -ffile-prefix-map=/build/r-base-VHKDZm/r-base-4.2.2.20221110=. -fstack-protector-strong -Wformat -Werror=format-security -fdebug-prefix-map=/build/r-base-VHKDZm/r-base-4.2.2.20221110=/usr/src/r-base-4.2.2.20221110-2build1 -Wdate-time -D_FORTIFY_SOURCE=2  -c vendor/cs/cs_add.c -o vendor/cs/cs_add.o\n",
      "gcc -I\"/usr/share/R/include\" -DNDEBUG -DUSING_R -I. -Icore -Iinclude -Ivendor -I/home/felipe/anaconda3/envs/breg/include/libxml2 -I/home/felipe/anaconda3/envs/breg/include -DNDEBUG -DNTIMER -DNPRINT -DINTERNAL_ARPACK -DPRPACK_IGRAPH_SUPPORT -DIGRAPH_THREAD_LOCAL=/**/ -D_GNU_SOURCE=1 -I'/home/felipe/R/x86_64-pc-linux-gnu-library/4.2/cpp11/include'   -fvisibility=hidden -fpic  -g -O2 -ffile-prefix-map=/build/r-base-VHKDZm/r-base-4.2.2.20221110=. -fstack-protector-strong -Wformat -Werror=format-security -fdebug-prefix-map=/build/r-base-VHKDZm/r-base-4.2.2.20221110=/usr/src/r-base-4.2.2.20221110-2build1 -Wdate-time -D_FORTIFY_SOURCE=2  -c vendor/cs/cs_amd.c -o vendor/cs/cs_amd.o\n"
     ]
    },
    {
     "name": "stdout",
     "output_type": "stream",
     "text": [
      "gcc -I\"/usr/share/R/include\" -DNDEBUG -DUSING_R -I. -Icore -Iinclude -Ivendor -I/home/felipe/anaconda3/envs/breg/include/libxml2 -I/home/felipe/anaconda3/envs/breg/include -DNDEBUG -DNTIMER -DNPRINT -DINTERNAL_ARPACK -DPRPACK_IGRAPH_SUPPORT -DIGRAPH_THREAD_LOCAL=/**/ -D_GNU_SOURCE=1 -I'/home/felipe/R/x86_64-pc-linux-gnu-library/4.2/cpp11/include'   -fvisibility=hidden -fpic  -g -O2 -ffile-prefix-map=/build/r-base-VHKDZm/r-base-4.2.2.20221110=. -fstack-protector-strong -Wformat -Werror=format-security -fdebug-prefix-map=/build/r-base-VHKDZm/r-base-4.2.2.20221110=/usr/src/r-base-4.2.2.20221110-2build1 -Wdate-time -D_FORTIFY_SOURCE=2  -c vendor/cs/cs_chol.c -o vendor/cs/cs_chol.o\n",
      "gcc -I\"/usr/share/R/include\" -DNDEBUG -DUSING_R -I. -Icore -Iinclude -Ivendor -I/home/felipe/anaconda3/envs/breg/include/libxml2 -I/home/felipe/anaconda3/envs/breg/include -DNDEBUG -DNTIMER -DNPRINT -DINTERNAL_ARPACK -DPRPACK_IGRAPH_SUPPORT -DIGRAPH_THREAD_LOCAL=/**/ -D_GNU_SOURCE=1 -I'/home/felipe/R/x86_64-pc-linux-gnu-library/4.2/cpp11/include'   -fvisibility=hidden -fpic  -g -O2 -ffile-prefix-map=/build/r-base-VHKDZm/r-base-4.2.2.20221110=. -fstack-protector-strong -Wformat -Werror=format-security -fdebug-prefix-map=/build/r-base-VHKDZm/r-base-4.2.2.20221110=/usr/src/r-base-4.2.2.20221110-2build1 -Wdate-time -D_FORTIFY_SOURCE=2  -c vendor/cs/cs_cholsol.c -o vendor/cs/cs_cholsol.o\n",
      "gcc -I\"/usr/share/R/include\" -DNDEBUG -DUSING_R -I. -Icore -Iinclude -Ivendor -I/home/felipe/anaconda3/envs/breg/include/libxml2 -I/home/felipe/anaconda3/envs/breg/include -DNDEBUG -DNTIMER -DNPRINT -DINTERNAL_ARPACK -DPRPACK_IGRAPH_SUPPORT -DIGRAPH_THREAD_LOCAL=/**/ -D_GNU_SOURCE=1 -I'/home/felipe/R/x86_64-pc-linux-gnu-library/4.2/cpp11/include'   -fvisibility=hidden -fpic  -g -O2 -ffile-prefix-map=/build/r-base-VHKDZm/r-base-4.2.2.20221110=. -fstack-protector-strong -Wformat -Werror=format-security -fdebug-prefix-map=/build/r-base-VHKDZm/r-base-4.2.2.20221110=/usr/src/r-base-4.2.2.20221110-2build1 -Wdate-time -D_FORTIFY_SOURCE=2  -c vendor/cs/cs_compress.c -o vendor/cs/cs_compress.o\n",
      "gcc -I\"/usr/share/R/include\" -DNDEBUG -DUSING_R -I. -Icore -Iinclude -Ivendor -I/home/felipe/anaconda3/envs/breg/include/libxml2 -I/home/felipe/anaconda3/envs/breg/include -DNDEBUG -DNTIMER -DNPRINT -DINTERNAL_ARPACK -DPRPACK_IGRAPH_SUPPORT -DIGRAPH_THREAD_LOCAL=/**/ -D_GNU_SOURCE=1 -I'/home/felipe/R/x86_64-pc-linux-gnu-library/4.2/cpp11/include'   -fvisibility=hidden -fpic  -g -O2 -ffile-prefix-map=/build/r-base-VHKDZm/r-base-4.2.2.20221110=. -fstack-protector-strong -Wformat -Werror=format-security -fdebug-prefix-map=/build/r-base-VHKDZm/r-base-4.2.2.20221110=/usr/src/r-base-4.2.2.20221110-2build1 -Wdate-time -D_FORTIFY_SOURCE=2  -c vendor/cs/cs_counts.c -o vendor/cs/cs_counts.o\n",
      "gcc -I\"/usr/share/R/include\" -DNDEBUG -DUSING_R -I. -Icore -Iinclude -Ivendor -I/home/felipe/anaconda3/envs/breg/include/libxml2 -I/home/felipe/anaconda3/envs/breg/include -DNDEBUG -DNTIMER -DNPRINT -DINTERNAL_ARPACK -DPRPACK_IGRAPH_SUPPORT -DIGRAPH_THREAD_LOCAL=/**/ -D_GNU_SOURCE=1 -I'/home/felipe/R/x86_64-pc-linux-gnu-library/4.2/cpp11/include'   -fvisibility=hidden -fpic  -g -O2 -ffile-prefix-map=/build/r-base-VHKDZm/r-base-4.2.2.20221110=. -fstack-protector-strong -Wformat -Werror=format-security -fdebug-prefix-map=/build/r-base-VHKDZm/r-base-4.2.2.20221110=/usr/src/r-base-4.2.2.20221110-2build1 -Wdate-time -D_FORTIFY_SOURCE=2  -c vendor/cs/cs_cumsum.c -o vendor/cs/cs_cumsum.o\n",
      "gcc -I\"/usr/share/R/include\" -DNDEBUG -DUSING_R -I. -Icore -Iinclude -Ivendor -I/home/felipe/anaconda3/envs/breg/include/libxml2 -I/home/felipe/anaconda3/envs/breg/include -DNDEBUG -DNTIMER -DNPRINT -DINTERNAL_ARPACK -DPRPACK_IGRAPH_SUPPORT -DIGRAPH_THREAD_LOCAL=/**/ -D_GNU_SOURCE=1 -I'/home/felipe/R/x86_64-pc-linux-gnu-library/4.2/cpp11/include'   -fvisibility=hidden -fpic  -g -O2 -ffile-prefix-map=/build/r-base-VHKDZm/r-base-4.2.2.20221110=. -fstack-protector-strong -Wformat -Werror=format-security -fdebug-prefix-map=/build/r-base-VHKDZm/r-base-4.2.2.20221110=/usr/src/r-base-4.2.2.20221110-2build1 -Wdate-time -D_FORTIFY_SOURCE=2  -c vendor/cs/cs_dfs.c -o vendor/cs/cs_dfs.o\n",
      "gcc -I\"/usr/share/R/include\" -DNDEBUG -DUSING_R -I. -Icore -Iinclude -Ivendor -I/home/felipe/anaconda3/envs/breg/include/libxml2 -I/home/felipe/anaconda3/envs/breg/include -DNDEBUG -DNTIMER -DNPRINT -DINTERNAL_ARPACK -DPRPACK_IGRAPH_SUPPORT -DIGRAPH_THREAD_LOCAL=/**/ -D_GNU_SOURCE=1 -I'/home/felipe/R/x86_64-pc-linux-gnu-library/4.2/cpp11/include'   -fvisibility=hidden -fpic  -g -O2 -ffile-prefix-map=/build/r-base-VHKDZm/r-base-4.2.2.20221110=. -fstack-protector-strong -Wformat -Werror=format-security -fdebug-prefix-map=/build/r-base-VHKDZm/r-base-4.2.2.20221110=/usr/src/r-base-4.2.2.20221110-2build1 -Wdate-time -D_FORTIFY_SOURCE=2  -c vendor/cs/cs_dmperm.c -o vendor/cs/cs_dmperm.o\n",
      "gcc -I\"/usr/share/R/include\" -DNDEBUG -DUSING_R -I. -Icore -Iinclude -Ivendor -I/home/felipe/anaconda3/envs/breg/include/libxml2 -I/home/felipe/anaconda3/envs/breg/include -DNDEBUG -DNTIMER -DNPRINT -DINTERNAL_ARPACK -DPRPACK_IGRAPH_SUPPORT -DIGRAPH_THREAD_LOCAL=/**/ -D_GNU_SOURCE=1 -I'/home/felipe/R/x86_64-pc-linux-gnu-library/4.2/cpp11/include'   -fvisibility=hidden -fpic  -g -O2 -ffile-prefix-map=/build/r-base-VHKDZm/r-base-4.2.2.20221110=. -fstack-protector-strong -Wformat -Werror=format-security -fdebug-prefix-map=/build/r-base-VHKDZm/r-base-4.2.2.20221110=/usr/src/r-base-4.2.2.20221110-2build1 -Wdate-time -D_FORTIFY_SOURCE=2  -c vendor/cs/cs_droptol.c -o vendor/cs/cs_droptol.o\n",
      "gcc -I\"/usr/share/R/include\" -DNDEBUG -DUSING_R -I. -Icore -Iinclude -Ivendor -I/home/felipe/anaconda3/envs/breg/include/libxml2 -I/home/felipe/anaconda3/envs/breg/include -DNDEBUG -DNTIMER -DNPRINT -DINTERNAL_ARPACK -DPRPACK_IGRAPH_SUPPORT -DIGRAPH_THREAD_LOCAL=/**/ -D_GNU_SOURCE=1 -I'/home/felipe/R/x86_64-pc-linux-gnu-library/4.2/cpp11/include'   -fvisibility=hidden -fpic  -g -O2 -ffile-prefix-map=/build/r-base-VHKDZm/r-base-4.2.2.20221110=. -fstack-protector-strong -Wformat -Werror=format-security -fdebug-prefix-map=/build/r-base-VHKDZm/r-base-4.2.2.20221110=/usr/src/r-base-4.2.2.20221110-2build1 -Wdate-time -D_FORTIFY_SOURCE=2  -c vendor/cs/cs_dropzeros.c -o vendor/cs/cs_dropzeros.o\n",
      "gcc -I\"/usr/share/R/include\" -DNDEBUG -DUSING_R -I. -Icore -Iinclude -Ivendor -I/home/felipe/anaconda3/envs/breg/include/libxml2 -I/home/felipe/anaconda3/envs/breg/include -DNDEBUG -DNTIMER -DNPRINT -DINTERNAL_ARPACK -DPRPACK_IGRAPH_SUPPORT -DIGRAPH_THREAD_LOCAL=/**/ -D_GNU_SOURCE=1 -I'/home/felipe/R/x86_64-pc-linux-gnu-library/4.2/cpp11/include'   -fvisibility=hidden -fpic  -g -O2 -ffile-prefix-map=/build/r-base-VHKDZm/r-base-4.2.2.20221110=. -fstack-protector-strong -Wformat -Werror=format-security -fdebug-prefix-map=/build/r-base-VHKDZm/r-base-4.2.2.20221110=/usr/src/r-base-4.2.2.20221110-2build1 -Wdate-time -D_FORTIFY_SOURCE=2  -c vendor/cs/cs_dupl.c -o vendor/cs/cs_dupl.o\n",
      "gcc -I\"/usr/share/R/include\" -DNDEBUG -DUSING_R -I. -Icore -Iinclude -Ivendor -I/home/felipe/anaconda3/envs/breg/include/libxml2 -I/home/felipe/anaconda3/envs/breg/include -DNDEBUG -DNTIMER -DNPRINT -DINTERNAL_ARPACK -DPRPACK_IGRAPH_SUPPORT -DIGRAPH_THREAD_LOCAL=/**/ -D_GNU_SOURCE=1 -I'/home/felipe/R/x86_64-pc-linux-gnu-library/4.2/cpp11/include'   -fvisibility=hidden -fpic  -g -O2 -ffile-prefix-map=/build/r-base-VHKDZm/r-base-4.2.2.20221110=. -fstack-protector-strong -Wformat -Werror=format-security -fdebug-prefix-map=/build/r-base-VHKDZm/r-base-4.2.2.20221110=/usr/src/r-base-4.2.2.20221110-2build1 -Wdate-time -D_FORTIFY_SOURCE=2  -c vendor/cs/cs_entry.c -o vendor/cs/cs_entry.o\n",
      "gcc -I\"/usr/share/R/include\" -DNDEBUG -DUSING_R -I. -Icore -Iinclude -Ivendor -I/home/felipe/anaconda3/envs/breg/include/libxml2 -I/home/felipe/anaconda3/envs/breg/include -DNDEBUG -DNTIMER -DNPRINT -DINTERNAL_ARPACK -DPRPACK_IGRAPH_SUPPORT -DIGRAPH_THREAD_LOCAL=/**/ -D_GNU_SOURCE=1 -I'/home/felipe/R/x86_64-pc-linux-gnu-library/4.2/cpp11/include'   -fvisibility=hidden -fpic  -g -O2 -ffile-prefix-map=/build/r-base-VHKDZm/r-base-4.2.2.20221110=. -fstack-protector-strong -Wformat -Werror=format-security -fdebug-prefix-map=/build/r-base-VHKDZm/r-base-4.2.2.20221110=/usr/src/r-base-4.2.2.20221110-2build1 -Wdate-time -D_FORTIFY_SOURCE=2  -c vendor/cs/cs_ereach.c -o vendor/cs/cs_ereach.o\n"
     ]
    },
    {
     "name": "stdout",
     "output_type": "stream",
     "text": [
      "gcc -I\"/usr/share/R/include\" -DNDEBUG -DUSING_R -I. -Icore -Iinclude -Ivendor -I/home/felipe/anaconda3/envs/breg/include/libxml2 -I/home/felipe/anaconda3/envs/breg/include -DNDEBUG -DNTIMER -DNPRINT -DINTERNAL_ARPACK -DPRPACK_IGRAPH_SUPPORT -DIGRAPH_THREAD_LOCAL=/**/ -D_GNU_SOURCE=1 -I'/home/felipe/R/x86_64-pc-linux-gnu-library/4.2/cpp11/include'   -fvisibility=hidden -fpic  -g -O2 -ffile-prefix-map=/build/r-base-VHKDZm/r-base-4.2.2.20221110=. -fstack-protector-strong -Wformat -Werror=format-security -fdebug-prefix-map=/build/r-base-VHKDZm/r-base-4.2.2.20221110=/usr/src/r-base-4.2.2.20221110-2build1 -Wdate-time -D_FORTIFY_SOURCE=2  -c vendor/cs/cs_etree.c -o vendor/cs/cs_etree.o\n",
      "gcc -I\"/usr/share/R/include\" -DNDEBUG -DUSING_R -I. -Icore -Iinclude -Ivendor -I/home/felipe/anaconda3/envs/breg/include/libxml2 -I/home/felipe/anaconda3/envs/breg/include -DNDEBUG -DNTIMER -DNPRINT -DINTERNAL_ARPACK -DPRPACK_IGRAPH_SUPPORT -DIGRAPH_THREAD_LOCAL=/**/ -D_GNU_SOURCE=1 -I'/home/felipe/R/x86_64-pc-linux-gnu-library/4.2/cpp11/include'   -fvisibility=hidden -fpic  -g -O2 -ffile-prefix-map=/build/r-base-VHKDZm/r-base-4.2.2.20221110=. -fstack-protector-strong -Wformat -Werror=format-security -fdebug-prefix-map=/build/r-base-VHKDZm/r-base-4.2.2.20221110=/usr/src/r-base-4.2.2.20221110-2build1 -Wdate-time -D_FORTIFY_SOURCE=2  -c vendor/cs/cs_fkeep.c -o vendor/cs/cs_fkeep.o\n",
      "gcc -I\"/usr/share/R/include\" -DNDEBUG -DUSING_R -I. -Icore -Iinclude -Ivendor -I/home/felipe/anaconda3/envs/breg/include/libxml2 -I/home/felipe/anaconda3/envs/breg/include -DNDEBUG -DNTIMER -DNPRINT -DINTERNAL_ARPACK -DPRPACK_IGRAPH_SUPPORT -DIGRAPH_THREAD_LOCAL=/**/ -D_GNU_SOURCE=1 -I'/home/felipe/R/x86_64-pc-linux-gnu-library/4.2/cpp11/include'   -fvisibility=hidden -fpic  -g -O2 -ffile-prefix-map=/build/r-base-VHKDZm/r-base-4.2.2.20221110=. -fstack-protector-strong -Wformat -Werror=format-security -fdebug-prefix-map=/build/r-base-VHKDZm/r-base-4.2.2.20221110=/usr/src/r-base-4.2.2.20221110-2build1 -Wdate-time -D_FORTIFY_SOURCE=2  -c vendor/cs/cs_gaxpy.c -o vendor/cs/cs_gaxpy.o\n",
      "gcc -I\"/usr/share/R/include\" -DNDEBUG -DUSING_R -I. -Icore -Iinclude -Ivendor -I/home/felipe/anaconda3/envs/breg/include/libxml2 -I/home/felipe/anaconda3/envs/breg/include -DNDEBUG -DNTIMER -DNPRINT -DINTERNAL_ARPACK -DPRPACK_IGRAPH_SUPPORT -DIGRAPH_THREAD_LOCAL=/**/ -D_GNU_SOURCE=1 -I'/home/felipe/R/x86_64-pc-linux-gnu-library/4.2/cpp11/include'   -fvisibility=hidden -fpic  -g -O2 -ffile-prefix-map=/build/r-base-VHKDZm/r-base-4.2.2.20221110=. -fstack-protector-strong -Wformat -Werror=format-security -fdebug-prefix-map=/build/r-base-VHKDZm/r-base-4.2.2.20221110=/usr/src/r-base-4.2.2.20221110-2build1 -Wdate-time -D_FORTIFY_SOURCE=2  -c vendor/cs/cs_happly.c -o vendor/cs/cs_happly.o\n",
      "gcc -I\"/usr/share/R/include\" -DNDEBUG -DUSING_R -I. -Icore -Iinclude -Ivendor -I/home/felipe/anaconda3/envs/breg/include/libxml2 -I/home/felipe/anaconda3/envs/breg/include -DNDEBUG -DNTIMER -DNPRINT -DINTERNAL_ARPACK -DPRPACK_IGRAPH_SUPPORT -DIGRAPH_THREAD_LOCAL=/**/ -D_GNU_SOURCE=1 -I'/home/felipe/R/x86_64-pc-linux-gnu-library/4.2/cpp11/include'   -fvisibility=hidden -fpic  -g -O2 -ffile-prefix-map=/build/r-base-VHKDZm/r-base-4.2.2.20221110=. -fstack-protector-strong -Wformat -Werror=format-security -fdebug-prefix-map=/build/r-base-VHKDZm/r-base-4.2.2.20221110=/usr/src/r-base-4.2.2.20221110-2build1 -Wdate-time -D_FORTIFY_SOURCE=2  -c vendor/cs/cs_house.c -o vendor/cs/cs_house.o\n",
      "gcc -I\"/usr/share/R/include\" -DNDEBUG -DUSING_R -I. -Icore -Iinclude -Ivendor -I/home/felipe/anaconda3/envs/breg/include/libxml2 -I/home/felipe/anaconda3/envs/breg/include -DNDEBUG -DNTIMER -DNPRINT -DINTERNAL_ARPACK -DPRPACK_IGRAPH_SUPPORT -DIGRAPH_THREAD_LOCAL=/**/ -D_GNU_SOURCE=1 -I'/home/felipe/R/x86_64-pc-linux-gnu-library/4.2/cpp11/include'   -fvisibility=hidden -fpic  -g -O2 -ffile-prefix-map=/build/r-base-VHKDZm/r-base-4.2.2.20221110=. -fstack-protector-strong -Wformat -Werror=format-security -fdebug-prefix-map=/build/r-base-VHKDZm/r-base-4.2.2.20221110=/usr/src/r-base-4.2.2.20221110-2build1 -Wdate-time -D_FORTIFY_SOURCE=2  -c vendor/cs/cs_ipvec.c -o vendor/cs/cs_ipvec.o\n",
      "gcc -I\"/usr/share/R/include\" -DNDEBUG -DUSING_R -I. -Icore -Iinclude -Ivendor -I/home/felipe/anaconda3/envs/breg/include/libxml2 -I/home/felipe/anaconda3/envs/breg/include -DNDEBUG -DNTIMER -DNPRINT -DINTERNAL_ARPACK -DPRPACK_IGRAPH_SUPPORT -DIGRAPH_THREAD_LOCAL=/**/ -D_GNU_SOURCE=1 -I'/home/felipe/R/x86_64-pc-linux-gnu-library/4.2/cpp11/include'   -fvisibility=hidden -fpic  -g -O2 -ffile-prefix-map=/build/r-base-VHKDZm/r-base-4.2.2.20221110=. -fstack-protector-strong -Wformat -Werror=format-security -fdebug-prefix-map=/build/r-base-VHKDZm/r-base-4.2.2.20221110=/usr/src/r-base-4.2.2.20221110-2build1 -Wdate-time -D_FORTIFY_SOURCE=2  -c vendor/cs/cs_leaf.c -o vendor/cs/cs_leaf.o\n",
      "gcc -I\"/usr/share/R/include\" -DNDEBUG -DUSING_R -I. -Icore -Iinclude -Ivendor -I/home/felipe/anaconda3/envs/breg/include/libxml2 -I/home/felipe/anaconda3/envs/breg/include -DNDEBUG -DNTIMER -DNPRINT -DINTERNAL_ARPACK -DPRPACK_IGRAPH_SUPPORT -DIGRAPH_THREAD_LOCAL=/**/ -D_GNU_SOURCE=1 -I'/home/felipe/R/x86_64-pc-linux-gnu-library/4.2/cpp11/include'   -fvisibility=hidden -fpic  -g -O2 -ffile-prefix-map=/build/r-base-VHKDZm/r-base-4.2.2.20221110=. -fstack-protector-strong -Wformat -Werror=format-security -fdebug-prefix-map=/build/r-base-VHKDZm/r-base-4.2.2.20221110=/usr/src/r-base-4.2.2.20221110-2build1 -Wdate-time -D_FORTIFY_SOURCE=2  -c vendor/cs/cs_load.c -o vendor/cs/cs_load.o\n",
      "gcc -I\"/usr/share/R/include\" -DNDEBUG -DUSING_R -I. -Icore -Iinclude -Ivendor -I/home/felipe/anaconda3/envs/breg/include/libxml2 -I/home/felipe/anaconda3/envs/breg/include -DNDEBUG -DNTIMER -DNPRINT -DINTERNAL_ARPACK -DPRPACK_IGRAPH_SUPPORT -DIGRAPH_THREAD_LOCAL=/**/ -D_GNU_SOURCE=1 -I'/home/felipe/R/x86_64-pc-linux-gnu-library/4.2/cpp11/include'   -fvisibility=hidden -fpic  -g -O2 -ffile-prefix-map=/build/r-base-VHKDZm/r-base-4.2.2.20221110=. -fstack-protector-strong -Wformat -Werror=format-security -fdebug-prefix-map=/build/r-base-VHKDZm/r-base-4.2.2.20221110=/usr/src/r-base-4.2.2.20221110-2build1 -Wdate-time -D_FORTIFY_SOURCE=2  -c vendor/cs/cs_lsolve.c -o vendor/cs/cs_lsolve.o\n",
      "gcc -I\"/usr/share/R/include\" -DNDEBUG -DUSING_R -I. -Icore -Iinclude -Ivendor -I/home/felipe/anaconda3/envs/breg/include/libxml2 -I/home/felipe/anaconda3/envs/breg/include -DNDEBUG -DNTIMER -DNPRINT -DINTERNAL_ARPACK -DPRPACK_IGRAPH_SUPPORT -DIGRAPH_THREAD_LOCAL=/**/ -D_GNU_SOURCE=1 -I'/home/felipe/R/x86_64-pc-linux-gnu-library/4.2/cpp11/include'   -fvisibility=hidden -fpic  -g -O2 -ffile-prefix-map=/build/r-base-VHKDZm/r-base-4.2.2.20221110=. -fstack-protector-strong -Wformat -Werror=format-security -fdebug-prefix-map=/build/r-base-VHKDZm/r-base-4.2.2.20221110=/usr/src/r-base-4.2.2.20221110-2build1 -Wdate-time -D_FORTIFY_SOURCE=2  -c vendor/cs/cs_ltsolve.c -o vendor/cs/cs_ltsolve.o\n",
      "gcc -I\"/usr/share/R/include\" -DNDEBUG -DUSING_R -I. -Icore -Iinclude -Ivendor -I/home/felipe/anaconda3/envs/breg/include/libxml2 -I/home/felipe/anaconda3/envs/breg/include -DNDEBUG -DNTIMER -DNPRINT -DINTERNAL_ARPACK -DPRPACK_IGRAPH_SUPPORT -DIGRAPH_THREAD_LOCAL=/**/ -D_GNU_SOURCE=1 -I'/home/felipe/R/x86_64-pc-linux-gnu-library/4.2/cpp11/include'   -fvisibility=hidden -fpic  -g -O2 -ffile-prefix-map=/build/r-base-VHKDZm/r-base-4.2.2.20221110=. -fstack-protector-strong -Wformat -Werror=format-security -fdebug-prefix-map=/build/r-base-VHKDZm/r-base-4.2.2.20221110=/usr/src/r-base-4.2.2.20221110-2build1 -Wdate-time -D_FORTIFY_SOURCE=2  -c vendor/cs/cs_lu.c -o vendor/cs/cs_lu.o\n",
      "gcc -I\"/usr/share/R/include\" -DNDEBUG -DUSING_R -I. -Icore -Iinclude -Ivendor -I/home/felipe/anaconda3/envs/breg/include/libxml2 -I/home/felipe/anaconda3/envs/breg/include -DNDEBUG -DNTIMER -DNPRINT -DINTERNAL_ARPACK -DPRPACK_IGRAPH_SUPPORT -DIGRAPH_THREAD_LOCAL=/**/ -D_GNU_SOURCE=1 -I'/home/felipe/R/x86_64-pc-linux-gnu-library/4.2/cpp11/include'   -fvisibility=hidden -fpic  -g -O2 -ffile-prefix-map=/build/r-base-VHKDZm/r-base-4.2.2.20221110=. -fstack-protector-strong -Wformat -Werror=format-security -fdebug-prefix-map=/build/r-base-VHKDZm/r-base-4.2.2.20221110=/usr/src/r-base-4.2.2.20221110-2build1 -Wdate-time -D_FORTIFY_SOURCE=2  -c vendor/cs/cs_lusol.c -o vendor/cs/cs_lusol.o\n",
      "gcc -I\"/usr/share/R/include\" -DNDEBUG -DUSING_R -I. -Icore -Iinclude -Ivendor -I/home/felipe/anaconda3/envs/breg/include/libxml2 -I/home/felipe/anaconda3/envs/breg/include -DNDEBUG -DNTIMER -DNPRINT -DINTERNAL_ARPACK -DPRPACK_IGRAPH_SUPPORT -DIGRAPH_THREAD_LOCAL=/**/ -D_GNU_SOURCE=1 -I'/home/felipe/R/x86_64-pc-linux-gnu-library/4.2/cpp11/include'   -fvisibility=hidden -fpic  -g -O2 -ffile-prefix-map=/build/r-base-VHKDZm/r-base-4.2.2.20221110=. -fstack-protector-strong -Wformat -Werror=format-security -fdebug-prefix-map=/build/r-base-VHKDZm/r-base-4.2.2.20221110=/usr/src/r-base-4.2.2.20221110-2build1 -Wdate-time -D_FORTIFY_SOURCE=2  -c vendor/cs/cs_malloc.c -o vendor/cs/cs_malloc.o\n"
     ]
    },
    {
     "name": "stdout",
     "output_type": "stream",
     "text": [
      "gcc -I\"/usr/share/R/include\" -DNDEBUG -DUSING_R -I. -Icore -Iinclude -Ivendor -I/home/felipe/anaconda3/envs/breg/include/libxml2 -I/home/felipe/anaconda3/envs/breg/include -DNDEBUG -DNTIMER -DNPRINT -DINTERNAL_ARPACK -DPRPACK_IGRAPH_SUPPORT -DIGRAPH_THREAD_LOCAL=/**/ -D_GNU_SOURCE=1 -I'/home/felipe/R/x86_64-pc-linux-gnu-library/4.2/cpp11/include'   -fvisibility=hidden -fpic  -g -O2 -ffile-prefix-map=/build/r-base-VHKDZm/r-base-4.2.2.20221110=. -fstack-protector-strong -Wformat -Werror=format-security -fdebug-prefix-map=/build/r-base-VHKDZm/r-base-4.2.2.20221110=/usr/src/r-base-4.2.2.20221110-2build1 -Wdate-time -D_FORTIFY_SOURCE=2  -c vendor/cs/cs_maxtrans.c -o vendor/cs/cs_maxtrans.o\n",
      "gcc -I\"/usr/share/R/include\" -DNDEBUG -DUSING_R -I. -Icore -Iinclude -Ivendor -I/home/felipe/anaconda3/envs/breg/include/libxml2 -I/home/felipe/anaconda3/envs/breg/include -DNDEBUG -DNTIMER -DNPRINT -DINTERNAL_ARPACK -DPRPACK_IGRAPH_SUPPORT -DIGRAPH_THREAD_LOCAL=/**/ -D_GNU_SOURCE=1 -I'/home/felipe/R/x86_64-pc-linux-gnu-library/4.2/cpp11/include'   -fvisibility=hidden -fpic  -g -O2 -ffile-prefix-map=/build/r-base-VHKDZm/r-base-4.2.2.20221110=. -fstack-protector-strong -Wformat -Werror=format-security -fdebug-prefix-map=/build/r-base-VHKDZm/r-base-4.2.2.20221110=/usr/src/r-base-4.2.2.20221110-2build1 -Wdate-time -D_FORTIFY_SOURCE=2  -c vendor/cs/cs_multiply.c -o vendor/cs/cs_multiply.o\n",
      "gcc -I\"/usr/share/R/include\" -DNDEBUG -DUSING_R -I. -Icore -Iinclude -Ivendor -I/home/felipe/anaconda3/envs/breg/include/libxml2 -I/home/felipe/anaconda3/envs/breg/include -DNDEBUG -DNTIMER -DNPRINT -DINTERNAL_ARPACK -DPRPACK_IGRAPH_SUPPORT -DIGRAPH_THREAD_LOCAL=/**/ -D_GNU_SOURCE=1 -I'/home/felipe/R/x86_64-pc-linux-gnu-library/4.2/cpp11/include'   -fvisibility=hidden -fpic  -g -O2 -ffile-prefix-map=/build/r-base-VHKDZm/r-base-4.2.2.20221110=. -fstack-protector-strong -Wformat -Werror=format-security -fdebug-prefix-map=/build/r-base-VHKDZm/r-base-4.2.2.20221110=/usr/src/r-base-4.2.2.20221110-2build1 -Wdate-time -D_FORTIFY_SOURCE=2  -c vendor/cs/cs_norm.c -o vendor/cs/cs_norm.o\n",
      "gcc -I\"/usr/share/R/include\" -DNDEBUG -DUSING_R -I. -Icore -Iinclude -Ivendor -I/home/felipe/anaconda3/envs/breg/include/libxml2 -I/home/felipe/anaconda3/envs/breg/include -DNDEBUG -DNTIMER -DNPRINT -DINTERNAL_ARPACK -DPRPACK_IGRAPH_SUPPORT -DIGRAPH_THREAD_LOCAL=/**/ -D_GNU_SOURCE=1 -I'/home/felipe/R/x86_64-pc-linux-gnu-library/4.2/cpp11/include'   -fvisibility=hidden -fpic  -g -O2 -ffile-prefix-map=/build/r-base-VHKDZm/r-base-4.2.2.20221110=. -fstack-protector-strong -Wformat -Werror=format-security -fdebug-prefix-map=/build/r-base-VHKDZm/r-base-4.2.2.20221110=/usr/src/r-base-4.2.2.20221110-2build1 -Wdate-time -D_FORTIFY_SOURCE=2  -c vendor/cs/cs_permute.c -o vendor/cs/cs_permute.o\n",
      "gcc -I\"/usr/share/R/include\" -DNDEBUG -DUSING_R -I. -Icore -Iinclude -Ivendor -I/home/felipe/anaconda3/envs/breg/include/libxml2 -I/home/felipe/anaconda3/envs/breg/include -DNDEBUG -DNTIMER -DNPRINT -DINTERNAL_ARPACK -DPRPACK_IGRAPH_SUPPORT -DIGRAPH_THREAD_LOCAL=/**/ -D_GNU_SOURCE=1 -I'/home/felipe/R/x86_64-pc-linux-gnu-library/4.2/cpp11/include'   -fvisibility=hidden -fpic  -g -O2 -ffile-prefix-map=/build/r-base-VHKDZm/r-base-4.2.2.20221110=. -fstack-protector-strong -Wformat -Werror=format-security -fdebug-prefix-map=/build/r-base-VHKDZm/r-base-4.2.2.20221110=/usr/src/r-base-4.2.2.20221110-2build1 -Wdate-time -D_FORTIFY_SOURCE=2  -c vendor/cs/cs_pinv.c -o vendor/cs/cs_pinv.o\n",
      "gcc -I\"/usr/share/R/include\" -DNDEBUG -DUSING_R -I. -Icore -Iinclude -Ivendor -I/home/felipe/anaconda3/envs/breg/include/libxml2 -I/home/felipe/anaconda3/envs/breg/include -DNDEBUG -DNTIMER -DNPRINT -DINTERNAL_ARPACK -DPRPACK_IGRAPH_SUPPORT -DIGRAPH_THREAD_LOCAL=/**/ -D_GNU_SOURCE=1 -I'/home/felipe/R/x86_64-pc-linux-gnu-library/4.2/cpp11/include'   -fvisibility=hidden -fpic  -g -O2 -ffile-prefix-map=/build/r-base-VHKDZm/r-base-4.2.2.20221110=. -fstack-protector-strong -Wformat -Werror=format-security -fdebug-prefix-map=/build/r-base-VHKDZm/r-base-4.2.2.20221110=/usr/src/r-base-4.2.2.20221110-2build1 -Wdate-time -D_FORTIFY_SOURCE=2  -c vendor/cs/cs_post.c -o vendor/cs/cs_post.o\n",
      "gcc -I\"/usr/share/R/include\" -DNDEBUG -DUSING_R -I. -Icore -Iinclude -Ivendor -I/home/felipe/anaconda3/envs/breg/include/libxml2 -I/home/felipe/anaconda3/envs/breg/include -DNDEBUG -DNTIMER -DNPRINT -DINTERNAL_ARPACK -DPRPACK_IGRAPH_SUPPORT -DIGRAPH_THREAD_LOCAL=/**/ -D_GNU_SOURCE=1 -I'/home/felipe/R/x86_64-pc-linux-gnu-library/4.2/cpp11/include'   -fvisibility=hidden -fpic  -g -O2 -ffile-prefix-map=/build/r-base-VHKDZm/r-base-4.2.2.20221110=. -fstack-protector-strong -Wformat -Werror=format-security -fdebug-prefix-map=/build/r-base-VHKDZm/r-base-4.2.2.20221110=/usr/src/r-base-4.2.2.20221110-2build1 -Wdate-time -D_FORTIFY_SOURCE=2  -c vendor/cs/cs_print.c -o vendor/cs/cs_print.o\n",
      "gcc -I\"/usr/share/R/include\" -DNDEBUG -DUSING_R -I. -Icore -Iinclude -Ivendor -I/home/felipe/anaconda3/envs/breg/include/libxml2 -I/home/felipe/anaconda3/envs/breg/include -DNDEBUG -DNTIMER -DNPRINT -DINTERNAL_ARPACK -DPRPACK_IGRAPH_SUPPORT -DIGRAPH_THREAD_LOCAL=/**/ -D_GNU_SOURCE=1 -I'/home/felipe/R/x86_64-pc-linux-gnu-library/4.2/cpp11/include'   -fvisibility=hidden -fpic  -g -O2 -ffile-prefix-map=/build/r-base-VHKDZm/r-base-4.2.2.20221110=. -fstack-protector-strong -Wformat -Werror=format-security -fdebug-prefix-map=/build/r-base-VHKDZm/r-base-4.2.2.20221110=/usr/src/r-base-4.2.2.20221110-2build1 -Wdate-time -D_FORTIFY_SOURCE=2  -c vendor/cs/cs_pvec.c -o vendor/cs/cs_pvec.o\n",
      "gcc -I\"/usr/share/R/include\" -DNDEBUG -DUSING_R -I. -Icore -Iinclude -Ivendor -I/home/felipe/anaconda3/envs/breg/include/libxml2 -I/home/felipe/anaconda3/envs/breg/include -DNDEBUG -DNTIMER -DNPRINT -DINTERNAL_ARPACK -DPRPACK_IGRAPH_SUPPORT -DIGRAPH_THREAD_LOCAL=/**/ -D_GNU_SOURCE=1 -I'/home/felipe/R/x86_64-pc-linux-gnu-library/4.2/cpp11/include'   -fvisibility=hidden -fpic  -g -O2 -ffile-prefix-map=/build/r-base-VHKDZm/r-base-4.2.2.20221110=. -fstack-protector-strong -Wformat -Werror=format-security -fdebug-prefix-map=/build/r-base-VHKDZm/r-base-4.2.2.20221110=/usr/src/r-base-4.2.2.20221110-2build1 -Wdate-time -D_FORTIFY_SOURCE=2  -c vendor/cs/cs_qr.c -o vendor/cs/cs_qr.o\n",
      "gcc -I\"/usr/share/R/include\" -DNDEBUG -DUSING_R -I. -Icore -Iinclude -Ivendor -I/home/felipe/anaconda3/envs/breg/include/libxml2 -I/home/felipe/anaconda3/envs/breg/include -DNDEBUG -DNTIMER -DNPRINT -DINTERNAL_ARPACK -DPRPACK_IGRAPH_SUPPORT -DIGRAPH_THREAD_LOCAL=/**/ -D_GNU_SOURCE=1 -I'/home/felipe/R/x86_64-pc-linux-gnu-library/4.2/cpp11/include'   -fvisibility=hidden -fpic  -g -O2 -ffile-prefix-map=/build/r-base-VHKDZm/r-base-4.2.2.20221110=. -fstack-protector-strong -Wformat -Werror=format-security -fdebug-prefix-map=/build/r-base-VHKDZm/r-base-4.2.2.20221110=/usr/src/r-base-4.2.2.20221110-2build1 -Wdate-time -D_FORTIFY_SOURCE=2  -c vendor/cs/cs_qrsol.c -o vendor/cs/cs_qrsol.o\n",
      "gcc -I\"/usr/share/R/include\" -DNDEBUG -DUSING_R -I. -Icore -Iinclude -Ivendor -I/home/felipe/anaconda3/envs/breg/include/libxml2 -I/home/felipe/anaconda3/envs/breg/include -DNDEBUG -DNTIMER -DNPRINT -DINTERNAL_ARPACK -DPRPACK_IGRAPH_SUPPORT -DIGRAPH_THREAD_LOCAL=/**/ -D_GNU_SOURCE=1 -I'/home/felipe/R/x86_64-pc-linux-gnu-library/4.2/cpp11/include'   -fvisibility=hidden -fpic  -g -O2 -ffile-prefix-map=/build/r-base-VHKDZm/r-base-4.2.2.20221110=. -fstack-protector-strong -Wformat -Werror=format-security -fdebug-prefix-map=/build/r-base-VHKDZm/r-base-4.2.2.20221110=/usr/src/r-base-4.2.2.20221110-2build1 -Wdate-time -D_FORTIFY_SOURCE=2  -c vendor/cs/cs_randperm.c -o vendor/cs/cs_randperm.o\n",
      "gcc -I\"/usr/share/R/include\" -DNDEBUG -DUSING_R -I. -Icore -Iinclude -Ivendor -I/home/felipe/anaconda3/envs/breg/include/libxml2 -I/home/felipe/anaconda3/envs/breg/include -DNDEBUG -DNTIMER -DNPRINT -DINTERNAL_ARPACK -DPRPACK_IGRAPH_SUPPORT -DIGRAPH_THREAD_LOCAL=/**/ -D_GNU_SOURCE=1 -I'/home/felipe/R/x86_64-pc-linux-gnu-library/4.2/cpp11/include'   -fvisibility=hidden -fpic  -g -O2 -ffile-prefix-map=/build/r-base-VHKDZm/r-base-4.2.2.20221110=. -fstack-protector-strong -Wformat -Werror=format-security -fdebug-prefix-map=/build/r-base-VHKDZm/r-base-4.2.2.20221110=/usr/src/r-base-4.2.2.20221110-2build1 -Wdate-time -D_FORTIFY_SOURCE=2  -c vendor/cs/cs_reach.c -o vendor/cs/cs_reach.o\n",
      "gcc -I\"/usr/share/R/include\" -DNDEBUG -DUSING_R -I. -Icore -Iinclude -Ivendor -I/home/felipe/anaconda3/envs/breg/include/libxml2 -I/home/felipe/anaconda3/envs/breg/include -DNDEBUG -DNTIMER -DNPRINT -DINTERNAL_ARPACK -DPRPACK_IGRAPH_SUPPORT -DIGRAPH_THREAD_LOCAL=/**/ -D_GNU_SOURCE=1 -I'/home/felipe/R/x86_64-pc-linux-gnu-library/4.2/cpp11/include'   -fvisibility=hidden -fpic  -g -O2 -ffile-prefix-map=/build/r-base-VHKDZm/r-base-4.2.2.20221110=. -fstack-protector-strong -Wformat -Werror=format-security -fdebug-prefix-map=/build/r-base-VHKDZm/r-base-4.2.2.20221110=/usr/src/r-base-4.2.2.20221110-2build1 -Wdate-time -D_FORTIFY_SOURCE=2  -c vendor/cs/cs_scatter.c -o vendor/cs/cs_scatter.o\n"
     ]
    },
    {
     "name": "stdout",
     "output_type": "stream",
     "text": [
      "gcc -I\"/usr/share/R/include\" -DNDEBUG -DUSING_R -I. -Icore -Iinclude -Ivendor -I/home/felipe/anaconda3/envs/breg/include/libxml2 -I/home/felipe/anaconda3/envs/breg/include -DNDEBUG -DNTIMER -DNPRINT -DINTERNAL_ARPACK -DPRPACK_IGRAPH_SUPPORT -DIGRAPH_THREAD_LOCAL=/**/ -D_GNU_SOURCE=1 -I'/home/felipe/R/x86_64-pc-linux-gnu-library/4.2/cpp11/include'   -fvisibility=hidden -fpic  -g -O2 -ffile-prefix-map=/build/r-base-VHKDZm/r-base-4.2.2.20221110=. -fstack-protector-strong -Wformat -Werror=format-security -fdebug-prefix-map=/build/r-base-VHKDZm/r-base-4.2.2.20221110=/usr/src/r-base-4.2.2.20221110-2build1 -Wdate-time -D_FORTIFY_SOURCE=2  -c vendor/cs/cs_scc.c -o vendor/cs/cs_scc.o\n",
      "gcc -I\"/usr/share/R/include\" -DNDEBUG -DUSING_R -I. -Icore -Iinclude -Ivendor -I/home/felipe/anaconda3/envs/breg/include/libxml2 -I/home/felipe/anaconda3/envs/breg/include -DNDEBUG -DNTIMER -DNPRINT -DINTERNAL_ARPACK -DPRPACK_IGRAPH_SUPPORT -DIGRAPH_THREAD_LOCAL=/**/ -D_GNU_SOURCE=1 -I'/home/felipe/R/x86_64-pc-linux-gnu-library/4.2/cpp11/include'   -fvisibility=hidden -fpic  -g -O2 -ffile-prefix-map=/build/r-base-VHKDZm/r-base-4.2.2.20221110=. -fstack-protector-strong -Wformat -Werror=format-security -fdebug-prefix-map=/build/r-base-VHKDZm/r-base-4.2.2.20221110=/usr/src/r-base-4.2.2.20221110-2build1 -Wdate-time -D_FORTIFY_SOURCE=2  -c vendor/cs/cs_schol.c -o vendor/cs/cs_schol.o\n",
      "gcc -I\"/usr/share/R/include\" -DNDEBUG -DUSING_R -I. -Icore -Iinclude -Ivendor -I/home/felipe/anaconda3/envs/breg/include/libxml2 -I/home/felipe/anaconda3/envs/breg/include -DNDEBUG -DNTIMER -DNPRINT -DINTERNAL_ARPACK -DPRPACK_IGRAPH_SUPPORT -DIGRAPH_THREAD_LOCAL=/**/ -D_GNU_SOURCE=1 -I'/home/felipe/R/x86_64-pc-linux-gnu-library/4.2/cpp11/include'   -fvisibility=hidden -fpic  -g -O2 -ffile-prefix-map=/build/r-base-VHKDZm/r-base-4.2.2.20221110=. -fstack-protector-strong -Wformat -Werror=format-security -fdebug-prefix-map=/build/r-base-VHKDZm/r-base-4.2.2.20221110=/usr/src/r-base-4.2.2.20221110-2build1 -Wdate-time -D_FORTIFY_SOURCE=2  -c vendor/cs/cs_spsolve.c -o vendor/cs/cs_spsolve.o\n",
      "gcc -I\"/usr/share/R/include\" -DNDEBUG -DUSING_R -I. -Icore -Iinclude -Ivendor -I/home/felipe/anaconda3/envs/breg/include/libxml2 -I/home/felipe/anaconda3/envs/breg/include -DNDEBUG -DNTIMER -DNPRINT -DINTERNAL_ARPACK -DPRPACK_IGRAPH_SUPPORT -DIGRAPH_THREAD_LOCAL=/**/ -D_GNU_SOURCE=1 -I'/home/felipe/R/x86_64-pc-linux-gnu-library/4.2/cpp11/include'   -fvisibility=hidden -fpic  -g -O2 -ffile-prefix-map=/build/r-base-VHKDZm/r-base-4.2.2.20221110=. -fstack-protector-strong -Wformat -Werror=format-security -fdebug-prefix-map=/build/r-base-VHKDZm/r-base-4.2.2.20221110=/usr/src/r-base-4.2.2.20221110-2build1 -Wdate-time -D_FORTIFY_SOURCE=2  -c vendor/cs/cs_sqr.c -o vendor/cs/cs_sqr.o\n",
      "gcc -I\"/usr/share/R/include\" -DNDEBUG -DUSING_R -I. -Icore -Iinclude -Ivendor -I/home/felipe/anaconda3/envs/breg/include/libxml2 -I/home/felipe/anaconda3/envs/breg/include -DNDEBUG -DNTIMER -DNPRINT -DINTERNAL_ARPACK -DPRPACK_IGRAPH_SUPPORT -DIGRAPH_THREAD_LOCAL=/**/ -D_GNU_SOURCE=1 -I'/home/felipe/R/x86_64-pc-linux-gnu-library/4.2/cpp11/include'   -fvisibility=hidden -fpic  -g -O2 -ffile-prefix-map=/build/r-base-VHKDZm/r-base-4.2.2.20221110=. -fstack-protector-strong -Wformat -Werror=format-security -fdebug-prefix-map=/build/r-base-VHKDZm/r-base-4.2.2.20221110=/usr/src/r-base-4.2.2.20221110-2build1 -Wdate-time -D_FORTIFY_SOURCE=2  -c vendor/cs/cs_symperm.c -o vendor/cs/cs_symperm.o\n",
      "gcc -I\"/usr/share/R/include\" -DNDEBUG -DUSING_R -I. -Icore -Iinclude -Ivendor -I/home/felipe/anaconda3/envs/breg/include/libxml2 -I/home/felipe/anaconda3/envs/breg/include -DNDEBUG -DNTIMER -DNPRINT -DINTERNAL_ARPACK -DPRPACK_IGRAPH_SUPPORT -DIGRAPH_THREAD_LOCAL=/**/ -D_GNU_SOURCE=1 -I'/home/felipe/R/x86_64-pc-linux-gnu-library/4.2/cpp11/include'   -fvisibility=hidden -fpic  -g -O2 -ffile-prefix-map=/build/r-base-VHKDZm/r-base-4.2.2.20221110=. -fstack-protector-strong -Wformat -Werror=format-security -fdebug-prefix-map=/build/r-base-VHKDZm/r-base-4.2.2.20221110=/usr/src/r-base-4.2.2.20221110-2build1 -Wdate-time -D_FORTIFY_SOURCE=2  -c vendor/cs/cs_tdfs.c -o vendor/cs/cs_tdfs.o\n",
      "gcc -I\"/usr/share/R/include\" -DNDEBUG -DUSING_R -I. -Icore -Iinclude -Ivendor -I/home/felipe/anaconda3/envs/breg/include/libxml2 -I/home/felipe/anaconda3/envs/breg/include -DNDEBUG -DNTIMER -DNPRINT -DINTERNAL_ARPACK -DPRPACK_IGRAPH_SUPPORT -DIGRAPH_THREAD_LOCAL=/**/ -D_GNU_SOURCE=1 -I'/home/felipe/R/x86_64-pc-linux-gnu-library/4.2/cpp11/include'   -fvisibility=hidden -fpic  -g -O2 -ffile-prefix-map=/build/r-base-VHKDZm/r-base-4.2.2.20221110=. -fstack-protector-strong -Wformat -Werror=format-security -fdebug-prefix-map=/build/r-base-VHKDZm/r-base-4.2.2.20221110=/usr/src/r-base-4.2.2.20221110-2build1 -Wdate-time -D_FORTIFY_SOURCE=2  -c vendor/cs/cs_transpose.c -o vendor/cs/cs_transpose.o\n",
      "gcc -I\"/usr/share/R/include\" -DNDEBUG -DUSING_R -I. -Icore -Iinclude -Ivendor -I/home/felipe/anaconda3/envs/breg/include/libxml2 -I/home/felipe/anaconda3/envs/breg/include -DNDEBUG -DNTIMER -DNPRINT -DINTERNAL_ARPACK -DPRPACK_IGRAPH_SUPPORT -DIGRAPH_THREAD_LOCAL=/**/ -D_GNU_SOURCE=1 -I'/home/felipe/R/x86_64-pc-linux-gnu-library/4.2/cpp11/include'   -fvisibility=hidden -fpic  -g -O2 -ffile-prefix-map=/build/r-base-VHKDZm/r-base-4.2.2.20221110=. -fstack-protector-strong -Wformat -Werror=format-security -fdebug-prefix-map=/build/r-base-VHKDZm/r-base-4.2.2.20221110=/usr/src/r-base-4.2.2.20221110-2build1 -Wdate-time -D_FORTIFY_SOURCE=2  -c vendor/cs/cs_updown.c -o vendor/cs/cs_updown.o\n",
      "gcc -I\"/usr/share/R/include\" -DNDEBUG -DUSING_R -I. -Icore -Iinclude -Ivendor -I/home/felipe/anaconda3/envs/breg/include/libxml2 -I/home/felipe/anaconda3/envs/breg/include -DNDEBUG -DNTIMER -DNPRINT -DINTERNAL_ARPACK -DPRPACK_IGRAPH_SUPPORT -DIGRAPH_THREAD_LOCAL=/**/ -D_GNU_SOURCE=1 -I'/home/felipe/R/x86_64-pc-linux-gnu-library/4.2/cpp11/include'   -fvisibility=hidden -fpic  -g -O2 -ffile-prefix-map=/build/r-base-VHKDZm/r-base-4.2.2.20221110=. -fstack-protector-strong -Wformat -Werror=format-security -fdebug-prefix-map=/build/r-base-VHKDZm/r-base-4.2.2.20221110=/usr/src/r-base-4.2.2.20221110-2build1 -Wdate-time -D_FORTIFY_SOURCE=2  -c vendor/cs/cs_usolve.c -o vendor/cs/cs_usolve.o\n",
      "gcc -I\"/usr/share/R/include\" -DNDEBUG -DUSING_R -I. -Icore -Iinclude -Ivendor -I/home/felipe/anaconda3/envs/breg/include/libxml2 -I/home/felipe/anaconda3/envs/breg/include -DNDEBUG -DNTIMER -DNPRINT -DINTERNAL_ARPACK -DPRPACK_IGRAPH_SUPPORT -DIGRAPH_THREAD_LOCAL=/**/ -D_GNU_SOURCE=1 -I'/home/felipe/R/x86_64-pc-linux-gnu-library/4.2/cpp11/include'   -fvisibility=hidden -fpic  -g -O2 -ffile-prefix-map=/build/r-base-VHKDZm/r-base-4.2.2.20221110=. -fstack-protector-strong -Wformat -Werror=format-security -fdebug-prefix-map=/build/r-base-VHKDZm/r-base-4.2.2.20221110=/usr/src/r-base-4.2.2.20221110-2build1 -Wdate-time -D_FORTIFY_SOURCE=2  -c vendor/cs/cs_util.c -o vendor/cs/cs_util.o\n",
      "gcc -I\"/usr/share/R/include\" -DNDEBUG -DUSING_R -I. -Icore -Iinclude -Ivendor -I/home/felipe/anaconda3/envs/breg/include/libxml2 -I/home/felipe/anaconda3/envs/breg/include -DNDEBUG -DNTIMER -DNPRINT -DINTERNAL_ARPACK -DPRPACK_IGRAPH_SUPPORT -DIGRAPH_THREAD_LOCAL=/**/ -D_GNU_SOURCE=1 -I'/home/felipe/R/x86_64-pc-linux-gnu-library/4.2/cpp11/include'   -fvisibility=hidden -fpic  -g -O2 -ffile-prefix-map=/build/r-base-VHKDZm/r-base-4.2.2.20221110=. -fstack-protector-strong -Wformat -Werror=format-security -fdebug-prefix-map=/build/r-base-VHKDZm/r-base-4.2.2.20221110=/usr/src/r-base-4.2.2.20221110-2build1 -Wdate-time -D_FORTIFY_SOURCE=2  -c vendor/cs/cs_utsolve.c -o vendor/cs/cs_utsolve.o\n",
      "gcc -I\"/usr/share/R/include\" -DNDEBUG -DUSING_R -I. -Icore -Iinclude -Ivendor -I/home/felipe/anaconda3/envs/breg/include/libxml2 -I/home/felipe/anaconda3/envs/breg/include -DNDEBUG -DNTIMER -DNPRINT -DINTERNAL_ARPACK -DPRPACK_IGRAPH_SUPPORT -DIGRAPH_THREAD_LOCAL=/**/ -D_GNU_SOURCE=1 -I'/home/felipe/R/x86_64-pc-linux-gnu-library/4.2/cpp11/include'   -fvisibility=hidden -fpic  -g -O2 -ffile-prefix-map=/build/r-base-VHKDZm/r-base-4.2.2.20221110=. -fstack-protector-strong -Wformat -Werror=format-security -fdebug-prefix-map=/build/r-base-VHKDZm/r-base-4.2.2.20221110=/usr/src/r-base-4.2.2.20221110-2build1 -Wdate-time -D_FORTIFY_SOURCE=2  -c vendor/mini-gmp/mini-gmp.c -o vendor/mini-gmp/mini-gmp.o\n"
     ]
    },
    {
     "name": "stdout",
     "output_type": "stream",
     "text": [
      "gcc -I\"/usr/share/R/include\" -DNDEBUG -DUSING_R -I. -Icore -Iinclude -Ivendor -I/home/felipe/anaconda3/envs/breg/include/libxml2 -I/home/felipe/anaconda3/envs/breg/include -DNDEBUG -DNTIMER -DNPRINT -DINTERNAL_ARPACK -DPRPACK_IGRAPH_SUPPORT -DIGRAPH_THREAD_LOCAL=/**/ -D_GNU_SOURCE=1 -I'/home/felipe/R/x86_64-pc-linux-gnu-library/4.2/cpp11/include'   -fvisibility=hidden -fpic  -g -O2 -ffile-prefix-map=/build/r-base-VHKDZm/r-base-4.2.2.20221110=. -fstack-protector-strong -Wformat -Werror=format-security -fdebug-prefix-map=/build/r-base-VHKDZm/r-base-4.2.2.20221110=/usr/src/r-base-4.2.2.20221110-2build1 -Wdate-time -D_FORTIFY_SOURCE=2  -c vendor/plfit/gss.c -o vendor/plfit/gss.o\n",
      "gcc -I\"/usr/share/R/include\" -DNDEBUG -DUSING_R -I. -Icore -Iinclude -Ivendor -I/home/felipe/anaconda3/envs/breg/include/libxml2 -I/home/felipe/anaconda3/envs/breg/include -DNDEBUG -DNTIMER -DNPRINT -DINTERNAL_ARPACK -DPRPACK_IGRAPH_SUPPORT -DIGRAPH_THREAD_LOCAL=/**/ -D_GNU_SOURCE=1 -I'/home/felipe/R/x86_64-pc-linux-gnu-library/4.2/cpp11/include'   -fvisibility=hidden -fpic  -g -O2 -ffile-prefix-map=/build/r-base-VHKDZm/r-base-4.2.2.20221110=. -fstack-protector-strong -Wformat -Werror=format-security -fdebug-prefix-map=/build/r-base-VHKDZm/r-base-4.2.2.20221110=/usr/src/r-base-4.2.2.20221110-2build1 -Wdate-time -D_FORTIFY_SOURCE=2  -c vendor/plfit/hzeta.c -o vendor/plfit/hzeta.o\n",
      "gcc -I\"/usr/share/R/include\" -DNDEBUG -DUSING_R -I. -Icore -Iinclude -Ivendor -I/home/felipe/anaconda3/envs/breg/include/libxml2 -I/home/felipe/anaconda3/envs/breg/include -DNDEBUG -DNTIMER -DNPRINT -DINTERNAL_ARPACK -DPRPACK_IGRAPH_SUPPORT -DIGRAPH_THREAD_LOCAL=/**/ -D_GNU_SOURCE=1 -I'/home/felipe/R/x86_64-pc-linux-gnu-library/4.2/cpp11/include'   -fvisibility=hidden -fpic  -g -O2 -ffile-prefix-map=/build/r-base-VHKDZm/r-base-4.2.2.20221110=. -fstack-protector-strong -Wformat -Werror=format-security -fdebug-prefix-map=/build/r-base-VHKDZm/r-base-4.2.2.20221110=/usr/src/r-base-4.2.2.20221110-2build1 -Wdate-time -D_FORTIFY_SOURCE=2  -c vendor/plfit/kolmogorov.c -o vendor/plfit/kolmogorov.o\n",
      "gcc -I\"/usr/share/R/include\" -DNDEBUG -DUSING_R -I. -Icore -Iinclude -Ivendor -I/home/felipe/anaconda3/envs/breg/include/libxml2 -I/home/felipe/anaconda3/envs/breg/include -DNDEBUG -DNTIMER -DNPRINT -DINTERNAL_ARPACK -DPRPACK_IGRAPH_SUPPORT -DIGRAPH_THREAD_LOCAL=/**/ -D_GNU_SOURCE=1 -I'/home/felipe/R/x86_64-pc-linux-gnu-library/4.2/cpp11/include'   -fvisibility=hidden -fpic  -g -O2 -ffile-prefix-map=/build/r-base-VHKDZm/r-base-4.2.2.20221110=. -fstack-protector-strong -Wformat -Werror=format-security -fdebug-prefix-map=/build/r-base-VHKDZm/r-base-4.2.2.20221110=/usr/src/r-base-4.2.2.20221110-2build1 -Wdate-time -D_FORTIFY_SOURCE=2  -c vendor/plfit/lbfgs.c -o vendor/plfit/lbfgs.o\n",
      "gcc -I\"/usr/share/R/include\" -DNDEBUG -DUSING_R -I. -Icore -Iinclude -Ivendor -I/home/felipe/anaconda3/envs/breg/include/libxml2 -I/home/felipe/anaconda3/envs/breg/include -DNDEBUG -DNTIMER -DNPRINT -DINTERNAL_ARPACK -DPRPACK_IGRAPH_SUPPORT -DIGRAPH_THREAD_LOCAL=/**/ -D_GNU_SOURCE=1 -I'/home/felipe/R/x86_64-pc-linux-gnu-library/4.2/cpp11/include'   -fvisibility=hidden -fpic  -g -O2 -ffile-prefix-map=/build/r-base-VHKDZm/r-base-4.2.2.20221110=. -fstack-protector-strong -Wformat -Werror=format-security -fdebug-prefix-map=/build/r-base-VHKDZm/r-base-4.2.2.20221110=/usr/src/r-base-4.2.2.20221110-2build1 -Wdate-time -D_FORTIFY_SOURCE=2  -c vendor/plfit/mt.c -o vendor/plfit/mt.o\n",
      "gcc -I\"/usr/share/R/include\" -DNDEBUG -DUSING_R -I. -Icore -Iinclude -Ivendor -I/home/felipe/anaconda3/envs/breg/include/libxml2 -I/home/felipe/anaconda3/envs/breg/include -DNDEBUG -DNTIMER -DNPRINT -DINTERNAL_ARPACK -DPRPACK_IGRAPH_SUPPORT -DIGRAPH_THREAD_LOCAL=/**/ -D_GNU_SOURCE=1 -I'/home/felipe/R/x86_64-pc-linux-gnu-library/4.2/cpp11/include'   -fvisibility=hidden -fpic  -g -O2 -ffile-prefix-map=/build/r-base-VHKDZm/r-base-4.2.2.20221110=. -fstack-protector-strong -Wformat -Werror=format-security -fdebug-prefix-map=/build/r-base-VHKDZm/r-base-4.2.2.20221110=/usr/src/r-base-4.2.2.20221110-2build1 -Wdate-time -D_FORTIFY_SOURCE=2  -c vendor/plfit/options.c -o vendor/plfit/options.o\n",
      "gcc -I\"/usr/share/R/include\" -DNDEBUG -DUSING_R -I. -Icore -Iinclude -Ivendor -I/home/felipe/anaconda3/envs/breg/include/libxml2 -I/home/felipe/anaconda3/envs/breg/include -DNDEBUG -DNTIMER -DNPRINT -DINTERNAL_ARPACK -DPRPACK_IGRAPH_SUPPORT -DIGRAPH_THREAD_LOCAL=/**/ -D_GNU_SOURCE=1 -I'/home/felipe/R/x86_64-pc-linux-gnu-library/4.2/cpp11/include'   -fvisibility=hidden -fpic  -g -O2 -ffile-prefix-map=/build/r-base-VHKDZm/r-base-4.2.2.20221110=. -fstack-protector-strong -Wformat -Werror=format-security -fdebug-prefix-map=/build/r-base-VHKDZm/r-base-4.2.2.20221110=/usr/src/r-base-4.2.2.20221110-2build1 -Wdate-time -D_FORTIFY_SOURCE=2  -c vendor/plfit/platform.c -o vendor/plfit/platform.o\n",
      "gcc -I\"/usr/share/R/include\" -DNDEBUG -DUSING_R -I. -Icore -Iinclude -Ivendor -I/home/felipe/anaconda3/envs/breg/include/libxml2 -I/home/felipe/anaconda3/envs/breg/include -DNDEBUG -DNTIMER -DNPRINT -DINTERNAL_ARPACK -DPRPACK_IGRAPH_SUPPORT -DIGRAPH_THREAD_LOCAL=/**/ -D_GNU_SOURCE=1 -I'/home/felipe/R/x86_64-pc-linux-gnu-library/4.2/cpp11/include'   -fvisibility=hidden -fpic  -g -O2 -ffile-prefix-map=/build/r-base-VHKDZm/r-base-4.2.2.20221110=. -fstack-protector-strong -Wformat -Werror=format-security -fdebug-prefix-map=/build/r-base-VHKDZm/r-base-4.2.2.20221110=/usr/src/r-base-4.2.2.20221110-2build1 -Wdate-time -D_FORTIFY_SOURCE=2  -c vendor/plfit/plfit.c -o vendor/plfit/plfit.o\n",
      "gcc -I\"/usr/share/R/include\" -DNDEBUG -DUSING_R -I. -Icore -Iinclude -Ivendor -I/home/felipe/anaconda3/envs/breg/include/libxml2 -I/home/felipe/anaconda3/envs/breg/include -DNDEBUG -DNTIMER -DNPRINT -DINTERNAL_ARPACK -DPRPACK_IGRAPH_SUPPORT -DIGRAPH_THREAD_LOCAL=/**/ -D_GNU_SOURCE=1 -I'/home/felipe/R/x86_64-pc-linux-gnu-library/4.2/cpp11/include'   -fvisibility=hidden -fpic  -g -O2 -ffile-prefix-map=/build/r-base-VHKDZm/r-base-4.2.2.20221110=. -fstack-protector-strong -Wformat -Werror=format-security -fdebug-prefix-map=/build/r-base-VHKDZm/r-base-4.2.2.20221110=/usr/src/r-base-4.2.2.20221110-2build1 -Wdate-time -D_FORTIFY_SOURCE=2  -c vendor/plfit/plfit_error.c -o vendor/plfit/plfit_error.o\n",
      "gcc -I\"/usr/share/R/include\" -DNDEBUG -DUSING_R -I. -Icore -Iinclude -Ivendor -I/home/felipe/anaconda3/envs/breg/include/libxml2 -I/home/felipe/anaconda3/envs/breg/include -DNDEBUG -DNTIMER -DNPRINT -DINTERNAL_ARPACK -DPRPACK_IGRAPH_SUPPORT -DIGRAPH_THREAD_LOCAL=/**/ -D_GNU_SOURCE=1 -I'/home/felipe/R/x86_64-pc-linux-gnu-library/4.2/cpp11/include'   -fvisibility=hidden -fpic  -g -O2 -ffile-prefix-map=/build/r-base-VHKDZm/r-base-4.2.2.20221110=. -fstack-protector-strong -Wformat -Werror=format-security -fdebug-prefix-map=/build/r-base-VHKDZm/r-base-4.2.2.20221110=/usr/src/r-base-4.2.2.20221110-2build1 -Wdate-time -D_FORTIFY_SOURCE=2  -c vendor/plfit/rbinom.c -o vendor/plfit/rbinom.o\n",
      "gcc -I\"/usr/share/R/include\" -DNDEBUG -DUSING_R -I. -Icore -Iinclude -Ivendor -I/home/felipe/anaconda3/envs/breg/include/libxml2 -I/home/felipe/anaconda3/envs/breg/include -DNDEBUG -DNTIMER -DNPRINT -DINTERNAL_ARPACK -DPRPACK_IGRAPH_SUPPORT -DIGRAPH_THREAD_LOCAL=/**/ -D_GNU_SOURCE=1 -I'/home/felipe/R/x86_64-pc-linux-gnu-library/4.2/cpp11/include'   -fvisibility=hidden -fpic  -g -O2 -ffile-prefix-map=/build/r-base-VHKDZm/r-base-4.2.2.20221110=. -fstack-protector-strong -Wformat -Werror=format-security -fdebug-prefix-map=/build/r-base-VHKDZm/r-base-4.2.2.20221110=/usr/src/r-base-4.2.2.20221110-2build1 -Wdate-time -D_FORTIFY_SOURCE=2  -c vendor/plfit/sampling.c -o vendor/plfit/sampling.o\n",
      "gfortran -fno-optimize-sibling-calls -fvisibility=hidden -fpic  -g -O2 -ffile-prefix-map=/build/r-base-VHKDZm/r-base-4.2.2.20221110=. -fstack-protector-strong -fdebug-prefix-map=/build/r-base-VHKDZm/r-base-4.2.2.20221110=/usr/src/r-base-4.2.2.20221110-2build1  -c vendor/arpack/dgetv0.f -o vendor/arpack/dgetv0.o\n",
      "gfortran -fno-optimize-sibling-calls -fvisibility=hidden -fpic  -g -O2 -ffile-prefix-map=/build/r-base-VHKDZm/r-base-4.2.2.20221110=. -fstack-protector-strong -fdebug-prefix-map=/build/r-base-VHKDZm/r-base-4.2.2.20221110=/usr/src/r-base-4.2.2.20221110-2build1  -c vendor/arpack/dlaqrb.f -o vendor/arpack/dlaqrb.o\n"
     ]
    },
    {
     "name": "stdout",
     "output_type": "stream",
     "text": [
      "gfortran -fno-optimize-sibling-calls -fvisibility=hidden -fpic  -g -O2 -ffile-prefix-map=/build/r-base-VHKDZm/r-base-4.2.2.20221110=. -fstack-protector-strong -fdebug-prefix-map=/build/r-base-VHKDZm/r-base-4.2.2.20221110=/usr/src/r-base-4.2.2.20221110-2build1  -c vendor/arpack/dmout.f -o vendor/arpack/dmout.o\n",
      "gfortran -fno-optimize-sibling-calls -fvisibility=hidden -fpic  -g -O2 -ffile-prefix-map=/build/r-base-VHKDZm/r-base-4.2.2.20221110=. -fstack-protector-strong -fdebug-prefix-map=/build/r-base-VHKDZm/r-base-4.2.2.20221110=/usr/src/r-base-4.2.2.20221110-2build1  -c vendor/arpack/dnaitr.f -o vendor/arpack/dnaitr.o\n",
      "gfortran -fno-optimize-sibling-calls -fvisibility=hidden -fpic  -g -O2 -ffile-prefix-map=/build/r-base-VHKDZm/r-base-4.2.2.20221110=. -fstack-protector-strong -fdebug-prefix-map=/build/r-base-VHKDZm/r-base-4.2.2.20221110=/usr/src/r-base-4.2.2.20221110-2build1  -c vendor/arpack/dnapps.f -o vendor/arpack/dnapps.o\n",
      "gfortran -fno-optimize-sibling-calls -fvisibility=hidden -fpic  -g -O2 -ffile-prefix-map=/build/r-base-VHKDZm/r-base-4.2.2.20221110=. -fstack-protector-strong -fdebug-prefix-map=/build/r-base-VHKDZm/r-base-4.2.2.20221110=/usr/src/r-base-4.2.2.20221110-2build1  -c vendor/arpack/dnaup2.f -o vendor/arpack/dnaup2.o\n",
      "gfortran -fno-optimize-sibling-calls -fvisibility=hidden -fpic  -g -O2 -ffile-prefix-map=/build/r-base-VHKDZm/r-base-4.2.2.20221110=. -fstack-protector-strong -fdebug-prefix-map=/build/r-base-VHKDZm/r-base-4.2.2.20221110=/usr/src/r-base-4.2.2.20221110-2build1  -c vendor/arpack/dnaupd.f -o vendor/arpack/dnaupd.o\n",
      "gfortran -fno-optimize-sibling-calls -fvisibility=hidden -fpic  -g -O2 -ffile-prefix-map=/build/r-base-VHKDZm/r-base-4.2.2.20221110=. -fstack-protector-strong -fdebug-prefix-map=/build/r-base-VHKDZm/r-base-4.2.2.20221110=/usr/src/r-base-4.2.2.20221110-2build1  -c vendor/arpack/dnconv.f -o vendor/arpack/dnconv.o\n",
      "gfortran -fno-optimize-sibling-calls -fvisibility=hidden -fpic  -g -O2 -ffile-prefix-map=/build/r-base-VHKDZm/r-base-4.2.2.20221110=. -fstack-protector-strong -fdebug-prefix-map=/build/r-base-VHKDZm/r-base-4.2.2.20221110=/usr/src/r-base-4.2.2.20221110-2build1  -c vendor/arpack/dneigh.f -o vendor/arpack/dneigh.o\n",
      "gfortran -fno-optimize-sibling-calls -fvisibility=hidden -fpic  -g -O2 -ffile-prefix-map=/build/r-base-VHKDZm/r-base-4.2.2.20221110=. -fstack-protector-strong -fdebug-prefix-map=/build/r-base-VHKDZm/r-base-4.2.2.20221110=/usr/src/r-base-4.2.2.20221110-2build1  -c vendor/arpack/dneupd.f -o vendor/arpack/dneupd.o\n",
      "gfortran -fno-optimize-sibling-calls -fvisibility=hidden -fpic  -g -O2 -ffile-prefix-map=/build/r-base-VHKDZm/r-base-4.2.2.20221110=. -fstack-protector-strong -fdebug-prefix-map=/build/r-base-VHKDZm/r-base-4.2.2.20221110=/usr/src/r-base-4.2.2.20221110-2build1  -c vendor/arpack/dngets.f -o vendor/arpack/dngets.o\n",
      "gfortran -fno-optimize-sibling-calls -fvisibility=hidden -fpic  -g -O2 -ffile-prefix-map=/build/r-base-VHKDZm/r-base-4.2.2.20221110=. -fstack-protector-strong -fdebug-prefix-map=/build/r-base-VHKDZm/r-base-4.2.2.20221110=/usr/src/r-base-4.2.2.20221110-2build1  -c vendor/arpack/dsaitr.f -o vendor/arpack/dsaitr.o\n",
      "gfortran -fno-optimize-sibling-calls -fvisibility=hidden -fpic  -g -O2 -ffile-prefix-map=/build/r-base-VHKDZm/r-base-4.2.2.20221110=. -fstack-protector-strong -fdebug-prefix-map=/build/r-base-VHKDZm/r-base-4.2.2.20221110=/usr/src/r-base-4.2.2.20221110-2build1  -c vendor/arpack/dsapps.f -o vendor/arpack/dsapps.o\n",
      "gfortran -fno-optimize-sibling-calls -fvisibility=hidden -fpic  -g -O2 -ffile-prefix-map=/build/r-base-VHKDZm/r-base-4.2.2.20221110=. -fstack-protector-strong -fdebug-prefix-map=/build/r-base-VHKDZm/r-base-4.2.2.20221110=/usr/src/r-base-4.2.2.20221110-2build1  -c vendor/arpack/dsaup2.f -o vendor/arpack/dsaup2.o\n",
      "gfortran -fno-optimize-sibling-calls -fvisibility=hidden -fpic  -g -O2 -ffile-prefix-map=/build/r-base-VHKDZm/r-base-4.2.2.20221110=. -fstack-protector-strong -fdebug-prefix-map=/build/r-base-VHKDZm/r-base-4.2.2.20221110=/usr/src/r-base-4.2.2.20221110-2build1  -c vendor/arpack/dsaupd.f -o vendor/arpack/dsaupd.o\n",
      "gfortran -fno-optimize-sibling-calls -fvisibility=hidden -fpic  -g -O2 -ffile-prefix-map=/build/r-base-VHKDZm/r-base-4.2.2.20221110=. -fstack-protector-strong -fdebug-prefix-map=/build/r-base-VHKDZm/r-base-4.2.2.20221110=/usr/src/r-base-4.2.2.20221110-2build1  -c vendor/arpack/dsconv.f -o vendor/arpack/dsconv.o\n",
      "gfortran -fno-optimize-sibling-calls -fvisibility=hidden -fpic  -g -O2 -ffile-prefix-map=/build/r-base-VHKDZm/r-base-4.2.2.20221110=. -fstack-protector-strong -fdebug-prefix-map=/build/r-base-VHKDZm/r-base-4.2.2.20221110=/usr/src/r-base-4.2.2.20221110-2build1  -c vendor/arpack/dseigt.f -o vendor/arpack/dseigt.o\n",
      "gfortran -fno-optimize-sibling-calls -fvisibility=hidden -fpic  -g -O2 -ffile-prefix-map=/build/r-base-VHKDZm/r-base-4.2.2.20221110=. -fstack-protector-strong -fdebug-prefix-map=/build/r-base-VHKDZm/r-base-4.2.2.20221110=/usr/src/r-base-4.2.2.20221110-2build1  -c vendor/arpack/dsesrt.f -o vendor/arpack/dsesrt.o\n",
      "gfortran -fno-optimize-sibling-calls -fvisibility=hidden -fpic  -g -O2 -ffile-prefix-map=/build/r-base-VHKDZm/r-base-4.2.2.20221110=. -fstack-protector-strong -fdebug-prefix-map=/build/r-base-VHKDZm/r-base-4.2.2.20221110=/usr/src/r-base-4.2.2.20221110-2build1  -c vendor/arpack/dseupd.f -o vendor/arpack/dseupd.o\n",
      "gfortran -fno-optimize-sibling-calls -fvisibility=hidden -fpic  -g -O2 -ffile-prefix-map=/build/r-base-VHKDZm/r-base-4.2.2.20221110=. -fstack-protector-strong -fdebug-prefix-map=/build/r-base-VHKDZm/r-base-4.2.2.20221110=/usr/src/r-base-4.2.2.20221110-2build1  -c vendor/arpack/dsgets.f -o vendor/arpack/dsgets.o\n",
      "gfortran -fno-optimize-sibling-calls -fvisibility=hidden -fpic  -g -O2 -ffile-prefix-map=/build/r-base-VHKDZm/r-base-4.2.2.20221110=. -fstack-protector-strong -fdebug-prefix-map=/build/r-base-VHKDZm/r-base-4.2.2.20221110=/usr/src/r-base-4.2.2.20221110-2build1  -c vendor/arpack/dsortc.f -o vendor/arpack/dsortc.o\n",
      "gfortran -fno-optimize-sibling-calls -fvisibility=hidden -fpic  -g -O2 -ffile-prefix-map=/build/r-base-VHKDZm/r-base-4.2.2.20221110=. -fstack-protector-strong -fdebug-prefix-map=/build/r-base-VHKDZm/r-base-4.2.2.20221110=/usr/src/r-base-4.2.2.20221110-2build1  -c vendor/arpack/dsortr.f -o vendor/arpack/dsortr.o\n",
      "gfortran -fno-optimize-sibling-calls -fvisibility=hidden -fpic  -g -O2 -ffile-prefix-map=/build/r-base-VHKDZm/r-base-4.2.2.20221110=. -fstack-protector-strong -fdebug-prefix-map=/build/r-base-VHKDZm/r-base-4.2.2.20221110=/usr/src/r-base-4.2.2.20221110-2build1  -c vendor/arpack/dstatn.f -o vendor/arpack/dstatn.o\n",
      "gfortran -fno-optimize-sibling-calls -fvisibility=hidden -fpic  -g -O2 -ffile-prefix-map=/build/r-base-VHKDZm/r-base-4.2.2.20221110=. -fstack-protector-strong -fdebug-prefix-map=/build/r-base-VHKDZm/r-base-4.2.2.20221110=/usr/src/r-base-4.2.2.20221110-2build1  -c vendor/arpack/dstats.f -o vendor/arpack/dstats.o\n",
      "gfortran -fno-optimize-sibling-calls -fvisibility=hidden -fpic  -g -O2 -ffile-prefix-map=/build/r-base-VHKDZm/r-base-4.2.2.20221110=. -fstack-protector-strong -fdebug-prefix-map=/build/r-base-VHKDZm/r-base-4.2.2.20221110=/usr/src/r-base-4.2.2.20221110-2build1  -c vendor/arpack/dstqrb.f -o vendor/arpack/dstqrb.o\n",
      "gfortran -fno-optimize-sibling-calls -fvisibility=hidden -fpic  -g -O2 -ffile-prefix-map=/build/r-base-VHKDZm/r-base-4.2.2.20221110=. -fstack-protector-strong -fdebug-prefix-map=/build/r-base-VHKDZm/r-base-4.2.2.20221110=/usr/src/r-base-4.2.2.20221110-2build1  -c vendor/arpack/dvout.f -o vendor/arpack/dvout.o\n",
      "gfortran -fno-optimize-sibling-calls -fvisibility=hidden -fpic  -g -O2 -ffile-prefix-map=/build/r-base-VHKDZm/r-base-4.2.2.20221110=. -fstack-protector-strong -fdebug-prefix-map=/build/r-base-VHKDZm/r-base-4.2.2.20221110=/usr/src/r-base-4.2.2.20221110-2build1  -c vendor/arpack/ivout.f -o vendor/arpack/ivout.o\n",
      "gfortran -fno-optimize-sibling-calls -fvisibility=hidden -fpic  -g -O2 -ffile-prefix-map=/build/r-base-VHKDZm/r-base-4.2.2.20221110=. -fstack-protector-strong -fdebug-prefix-map=/build/r-base-VHKDZm/r-base-4.2.2.20221110=/usr/src/r-base-4.2.2.20221110-2build1  -c vendor/arpack/second.f -o vendor/arpack/second.o\n",
      "gfortran -fno-optimize-sibling-calls -fvisibility=hidden -fpic  -g -O2 -ffile-prefix-map=/build/r-base-VHKDZm/r-base-4.2.2.20221110=. -fstack-protector-strong -fdebug-prefix-map=/build/r-base-VHKDZm/r-base-4.2.2.20221110=/usr/src/r-base-4.2.2.20221110-2build1  -c vendor/arpack/wrap.f -o vendor/arpack/wrap.o\n",
      "g++ -std=gnu++14 -I\"/usr/share/R/include\" -DNDEBUG -DUSING_R -I. -Icore -Iinclude -Ivendor -I/home/felipe/anaconda3/envs/breg/include/libxml2 -I/home/felipe/anaconda3/envs/breg/include -DNDEBUG -DNTIMER -DNPRINT -DINTERNAL_ARPACK -DPRPACK_IGRAPH_SUPPORT -DIGRAPH_THREAD_LOCAL=/**/ -D_GNU_SOURCE=1 -I'/home/felipe/R/x86_64-pc-linux-gnu-library/4.2/cpp11/include'   -fvisibility=hidden -fpic  -g -O2 -ffile-prefix-map=/build/r-base-VHKDZm/r-base-4.2.2.20221110=. -fstack-protector-strong -Wformat -Werror=format-security -fdebug-prefix-map=/build/r-base-VHKDZm/r-base-4.2.2.20221110=/usr/src/r-base-4.2.2.20221110-2build1 -Wdate-time -D_FORTIFY_SOURCE=2  -c vendor/simpleraytracer/Color.cpp -o vendor/simpleraytracer/Color.o\n"
     ]
    },
    {
     "name": "stdout",
     "output_type": "stream",
     "text": [
      "g++ -std=gnu++14 -I\"/usr/share/R/include\" -DNDEBUG -DUSING_R -I. -Icore -Iinclude -Ivendor -I/home/felipe/anaconda3/envs/breg/include/libxml2 -I/home/felipe/anaconda3/envs/breg/include -DNDEBUG -DNTIMER -DNPRINT -DINTERNAL_ARPACK -DPRPACK_IGRAPH_SUPPORT -DIGRAPH_THREAD_LOCAL=/**/ -D_GNU_SOURCE=1 -I'/home/felipe/R/x86_64-pc-linux-gnu-library/4.2/cpp11/include'   -fvisibility=hidden -fpic  -g -O2 -ffile-prefix-map=/build/r-base-VHKDZm/r-base-4.2.2.20221110=. -fstack-protector-strong -Wformat -Werror=format-security -fdebug-prefix-map=/build/r-base-VHKDZm/r-base-4.2.2.20221110=/usr/src/r-base-4.2.2.20221110-2build1 -Wdate-time -D_FORTIFY_SOURCE=2  -c vendor/simpleraytracer/Light.cpp -o vendor/simpleraytracer/Light.o\n",
      "g++ -std=gnu++14 -I\"/usr/share/R/include\" -DNDEBUG -DUSING_R -I. -Icore -Iinclude -Ivendor -I/home/felipe/anaconda3/envs/breg/include/libxml2 -I/home/felipe/anaconda3/envs/breg/include -DNDEBUG -DNTIMER -DNPRINT -DINTERNAL_ARPACK -DPRPACK_IGRAPH_SUPPORT -DIGRAPH_THREAD_LOCAL=/**/ -D_GNU_SOURCE=1 -I'/home/felipe/R/x86_64-pc-linux-gnu-library/4.2/cpp11/include'   -fvisibility=hidden -fpic  -g -O2 -ffile-prefix-map=/build/r-base-VHKDZm/r-base-4.2.2.20221110=. -fstack-protector-strong -Wformat -Werror=format-security -fdebug-prefix-map=/build/r-base-VHKDZm/r-base-4.2.2.20221110=/usr/src/r-base-4.2.2.20221110-2build1 -Wdate-time -D_FORTIFY_SOURCE=2  -c vendor/simpleraytracer/Point.cpp -o vendor/simpleraytracer/Point.o\n",
      "g++ -std=gnu++14 -I\"/usr/share/R/include\" -DNDEBUG -DUSING_R -I. -Icore -Iinclude -Ivendor -I/home/felipe/anaconda3/envs/breg/include/libxml2 -I/home/felipe/anaconda3/envs/breg/include -DNDEBUG -DNTIMER -DNPRINT -DINTERNAL_ARPACK -DPRPACK_IGRAPH_SUPPORT -DIGRAPH_THREAD_LOCAL=/**/ -D_GNU_SOURCE=1 -I'/home/felipe/R/x86_64-pc-linux-gnu-library/4.2/cpp11/include'   -fvisibility=hidden -fpic  -g -O2 -ffile-prefix-map=/build/r-base-VHKDZm/r-base-4.2.2.20221110=. -fstack-protector-strong -Wformat -Werror=format-security -fdebug-prefix-map=/build/r-base-VHKDZm/r-base-4.2.2.20221110=/usr/src/r-base-4.2.2.20221110-2build1 -Wdate-time -D_FORTIFY_SOURCE=2  -c vendor/simpleraytracer/RIgraphRay.cpp -o vendor/simpleraytracer/RIgraphRay.o\n",
      "g++ -std=gnu++14 -I\"/usr/share/R/include\" -DNDEBUG -DUSING_R -I. -Icore -Iinclude -Ivendor -I/home/felipe/anaconda3/envs/breg/include/libxml2 -I/home/felipe/anaconda3/envs/breg/include -DNDEBUG -DNTIMER -DNPRINT -DINTERNAL_ARPACK -DPRPACK_IGRAPH_SUPPORT -DIGRAPH_THREAD_LOCAL=/**/ -D_GNU_SOURCE=1 -I'/home/felipe/R/x86_64-pc-linux-gnu-library/4.2/cpp11/include'   -fvisibility=hidden -fpic  -g -O2 -ffile-prefix-map=/build/r-base-VHKDZm/r-base-4.2.2.20221110=. -fstack-protector-strong -Wformat -Werror=format-security -fdebug-prefix-map=/build/r-base-VHKDZm/r-base-4.2.2.20221110=/usr/src/r-base-4.2.2.20221110-2build1 -Wdate-time -D_FORTIFY_SOURCE=2  -c vendor/simpleraytracer/Ray.cpp -o vendor/simpleraytracer/Ray.o\n",
      "g++ -std=gnu++14 -I\"/usr/share/R/include\" -DNDEBUG -DUSING_R -I. -Icore -Iinclude -Ivendor -I/home/felipe/anaconda3/envs/breg/include/libxml2 -I/home/felipe/anaconda3/envs/breg/include -DNDEBUG -DNTIMER -DNPRINT -DINTERNAL_ARPACK -DPRPACK_IGRAPH_SUPPORT -DIGRAPH_THREAD_LOCAL=/**/ -D_GNU_SOURCE=1 -I'/home/felipe/R/x86_64-pc-linux-gnu-library/4.2/cpp11/include'   -fvisibility=hidden -fpic  -g -O2 -ffile-prefix-map=/build/r-base-VHKDZm/r-base-4.2.2.20221110=. -fstack-protector-strong -Wformat -Werror=format-security -fdebug-prefix-map=/build/r-base-VHKDZm/r-base-4.2.2.20221110=/usr/src/r-base-4.2.2.20221110-2build1 -Wdate-time -D_FORTIFY_SOURCE=2  -c vendor/simpleraytracer/RayTracer.cpp -o vendor/simpleraytracer/RayTracer.o\n",
      "g++ -std=gnu++14 -I\"/usr/share/R/include\" -DNDEBUG -DUSING_R -I. -Icore -Iinclude -Ivendor -I/home/felipe/anaconda3/envs/breg/include/libxml2 -I/home/felipe/anaconda3/envs/breg/include -DNDEBUG -DNTIMER -DNPRINT -DINTERNAL_ARPACK -DPRPACK_IGRAPH_SUPPORT -DIGRAPH_THREAD_LOCAL=/**/ -D_GNU_SOURCE=1 -I'/home/felipe/R/x86_64-pc-linux-gnu-library/4.2/cpp11/include'   -fvisibility=hidden -fpic  -g -O2 -ffile-prefix-map=/build/r-base-VHKDZm/r-base-4.2.2.20221110=. -fstack-protector-strong -Wformat -Werror=format-security -fdebug-prefix-map=/build/r-base-VHKDZm/r-base-4.2.2.20221110=/usr/src/r-base-4.2.2.20221110-2build1 -Wdate-time -D_FORTIFY_SOURCE=2  -c vendor/simpleraytracer/RayVector.cpp -o vendor/simpleraytracer/RayVector.o\n",
      "g++ -std=gnu++14 -I\"/usr/share/R/include\" -DNDEBUG -DUSING_R -I. -Icore -Iinclude -Ivendor -I/home/felipe/anaconda3/envs/breg/include/libxml2 -I/home/felipe/anaconda3/envs/breg/include -DNDEBUG -DNTIMER -DNPRINT -DINTERNAL_ARPACK -DPRPACK_IGRAPH_SUPPORT -DIGRAPH_THREAD_LOCAL=/**/ -D_GNU_SOURCE=1 -I'/home/felipe/R/x86_64-pc-linux-gnu-library/4.2/cpp11/include'   -fvisibility=hidden -fpic  -g -O2 -ffile-prefix-map=/build/r-base-VHKDZm/r-base-4.2.2.20221110=. -fstack-protector-strong -Wformat -Werror=format-security -fdebug-prefix-map=/build/r-base-VHKDZm/r-base-4.2.2.20221110=/usr/src/r-base-4.2.2.20221110-2build1 -Wdate-time -D_FORTIFY_SOURCE=2  -c vendor/simpleraytracer/Shape.cpp -o vendor/simpleraytracer/Shape.o\n",
      "g++ -std=gnu++14 -I\"/usr/share/R/include\" -DNDEBUG -DUSING_R -I. -Icore -Iinclude -Ivendor -I/home/felipe/anaconda3/envs/breg/include/libxml2 -I/home/felipe/anaconda3/envs/breg/include -DNDEBUG -DNTIMER -DNPRINT -DINTERNAL_ARPACK -DPRPACK_IGRAPH_SUPPORT -DIGRAPH_THREAD_LOCAL=/**/ -D_GNU_SOURCE=1 -I'/home/felipe/R/x86_64-pc-linux-gnu-library/4.2/cpp11/include'   -fvisibility=hidden -fpic  -g -O2 -ffile-prefix-map=/build/r-base-VHKDZm/r-base-4.2.2.20221110=. -fstack-protector-strong -Wformat -Werror=format-security -fdebug-prefix-map=/build/r-base-VHKDZm/r-base-4.2.2.20221110=/usr/src/r-base-4.2.2.20221110-2build1 -Wdate-time -D_FORTIFY_SOURCE=2  -c vendor/simpleraytracer/Sphere.cpp -o vendor/simpleraytracer/Sphere.o\n",
      "g++ -std=gnu++14 -I\"/usr/share/R/include\" -DNDEBUG -DUSING_R -I. -Icore -Iinclude -Ivendor -I/home/felipe/anaconda3/envs/breg/include/libxml2 -I/home/felipe/anaconda3/envs/breg/include -DNDEBUG -DNTIMER -DNPRINT -DINTERNAL_ARPACK -DPRPACK_IGRAPH_SUPPORT -DIGRAPH_THREAD_LOCAL=/**/ -D_GNU_SOURCE=1 -I'/home/felipe/R/x86_64-pc-linux-gnu-library/4.2/cpp11/include'   -fvisibility=hidden -fpic  -g -O2 -ffile-prefix-map=/build/r-base-VHKDZm/r-base-4.2.2.20221110=. -fstack-protector-strong -Wformat -Werror=format-security -fdebug-prefix-map=/build/r-base-VHKDZm/r-base-4.2.2.20221110=/usr/src/r-base-4.2.2.20221110-2build1 -Wdate-time -D_FORTIFY_SOURCE=2  -c vendor/simpleraytracer/Triangle.cpp -o vendor/simpleraytracer/Triangle.o\n",
      "g++ -std=gnu++14 -I\"/usr/share/R/include\" -DNDEBUG -DUSING_R -I. -Icore -Iinclude -Ivendor -I/home/felipe/anaconda3/envs/breg/include/libxml2 -I/home/felipe/anaconda3/envs/breg/include -DNDEBUG -DNTIMER -DNPRINT -DINTERNAL_ARPACK -DPRPACK_IGRAPH_SUPPORT -DIGRAPH_THREAD_LOCAL=/**/ -D_GNU_SOURCE=1 -I'/home/felipe/R/x86_64-pc-linux-gnu-library/4.2/cpp11/include'   -fvisibility=hidden -fpic  -g -O2 -ffile-prefix-map=/build/r-base-VHKDZm/r-base-4.2.2.20221110=. -fstack-protector-strong -Wformat -Werror=format-security -fdebug-prefix-map=/build/r-base-VHKDZm/r-base-4.2.2.20221110=/usr/src/r-base-4.2.2.20221110-2build1 -Wdate-time -D_FORTIFY_SOURCE=2  -c vendor/simpleraytracer/unit_limiter.cpp -o vendor/simpleraytracer/unit_limiter.o\n",
      "gcc -I\"/usr/share/R/include\" -DNDEBUG -DUSING_R -I. -Icore -Iinclude -Ivendor -I/home/felipe/anaconda3/envs/breg/include/libxml2 -I/home/felipe/anaconda3/envs/breg/include -DNDEBUG -DNTIMER -DNPRINT -DINTERNAL_ARPACK -DPRPACK_IGRAPH_SUPPORT -DIGRAPH_THREAD_LOCAL=/**/ -D_GNU_SOURCE=1 -I'/home/felipe/R/x86_64-pc-linux-gnu-library/4.2/cpp11/include'   -fvisibility=hidden -fpic  -g -O2 -ffile-prefix-map=/build/r-base-VHKDZm/r-base-4.2.2.20221110=. -fstack-protector-strong -Wformat -Werror=format-security -fdebug-prefix-map=/build/r-base-VHKDZm/r-base-4.2.2.20221110=/usr/src/r-base-4.2.2.20221110-2build1 -Wdate-time -D_FORTIFY_SOURCE=2  -c vendor/uuid/R.c -o vendor/uuid/R.o\n",
      "gcc -I\"/usr/share/R/include\" -DNDEBUG -DUSING_R -I. -Icore -Iinclude -Ivendor -I/home/felipe/anaconda3/envs/breg/include/libxml2 -I/home/felipe/anaconda3/envs/breg/include -DNDEBUG -DNTIMER -DNPRINT -DINTERNAL_ARPACK -DPRPACK_IGRAPH_SUPPORT -DIGRAPH_THREAD_LOCAL=/**/ -D_GNU_SOURCE=1 -I'/home/felipe/R/x86_64-pc-linux-gnu-library/4.2/cpp11/include'   -fvisibility=hidden -fpic  -g -O2 -ffile-prefix-map=/build/r-base-VHKDZm/r-base-4.2.2.20221110=. -fstack-protector-strong -Wformat -Werror=format-security -fdebug-prefix-map=/build/r-base-VHKDZm/r-base-4.2.2.20221110=/usr/src/r-base-4.2.2.20221110-2build1 -Wdate-time -D_FORTIFY_SOURCE=2  -c vendor/uuid/clear.c -o vendor/uuid/clear.o\n",
      "gcc -I\"/usr/share/R/include\" -DNDEBUG -DUSING_R -I. -Icore -Iinclude -Ivendor -I/home/felipe/anaconda3/envs/breg/include/libxml2 -I/home/felipe/anaconda3/envs/breg/include -DNDEBUG -DNTIMER -DNPRINT -DINTERNAL_ARPACK -DPRPACK_IGRAPH_SUPPORT -DIGRAPH_THREAD_LOCAL=/**/ -D_GNU_SOURCE=1 -I'/home/felipe/R/x86_64-pc-linux-gnu-library/4.2/cpp11/include'   -fvisibility=hidden -fpic  -g -O2 -ffile-prefix-map=/build/r-base-VHKDZm/r-base-4.2.2.20221110=. -fstack-protector-strong -Wformat -Werror=format-security -fdebug-prefix-map=/build/r-base-VHKDZm/r-base-4.2.2.20221110=/usr/src/r-base-4.2.2.20221110-2build1 -Wdate-time -D_FORTIFY_SOURCE=2  -c vendor/uuid/compare.c -o vendor/uuid/compare.o\n"
     ]
    },
    {
     "name": "stdout",
     "output_type": "stream",
     "text": [
      "gcc -I\"/usr/share/R/include\" -DNDEBUG -DUSING_R -I. -Icore -Iinclude -Ivendor -I/home/felipe/anaconda3/envs/breg/include/libxml2 -I/home/felipe/anaconda3/envs/breg/include -DNDEBUG -DNTIMER -DNPRINT -DINTERNAL_ARPACK -DPRPACK_IGRAPH_SUPPORT -DIGRAPH_THREAD_LOCAL=/**/ -D_GNU_SOURCE=1 -I'/home/felipe/R/x86_64-pc-linux-gnu-library/4.2/cpp11/include'   -fvisibility=hidden -fpic  -g -O2 -ffile-prefix-map=/build/r-base-VHKDZm/r-base-4.2.2.20221110=. -fstack-protector-strong -Wformat -Werror=format-security -fdebug-prefix-map=/build/r-base-VHKDZm/r-base-4.2.2.20221110=/usr/src/r-base-4.2.2.20221110-2build1 -Wdate-time -D_FORTIFY_SOURCE=2  -c vendor/uuid/copy.c -o vendor/uuid/copy.o\n",
      "gcc -I\"/usr/share/R/include\" -DNDEBUG -DUSING_R -I. -Icore -Iinclude -Ivendor -I/home/felipe/anaconda3/envs/breg/include/libxml2 -I/home/felipe/anaconda3/envs/breg/include -DNDEBUG -DNTIMER -DNPRINT -DINTERNAL_ARPACK -DPRPACK_IGRAPH_SUPPORT -DIGRAPH_THREAD_LOCAL=/**/ -D_GNU_SOURCE=1 -I'/home/felipe/R/x86_64-pc-linux-gnu-library/4.2/cpp11/include'   -fvisibility=hidden -fpic  -g -O2 -ffile-prefix-map=/build/r-base-VHKDZm/r-base-4.2.2.20221110=. -fstack-protector-strong -Wformat -Werror=format-security -fdebug-prefix-map=/build/r-base-VHKDZm/r-base-4.2.2.20221110=/usr/src/r-base-4.2.2.20221110-2build1 -Wdate-time -D_FORTIFY_SOURCE=2  -c vendor/uuid/gen_uuid.c -o vendor/uuid/gen_uuid.o\n",
      "gcc -I\"/usr/share/R/include\" -DNDEBUG -DUSING_R -I. -Icore -Iinclude -Ivendor -I/home/felipe/anaconda3/envs/breg/include/libxml2 -I/home/felipe/anaconda3/envs/breg/include -DNDEBUG -DNTIMER -DNPRINT -DINTERNAL_ARPACK -DPRPACK_IGRAPH_SUPPORT -DIGRAPH_THREAD_LOCAL=/**/ -D_GNU_SOURCE=1 -I'/home/felipe/R/x86_64-pc-linux-gnu-library/4.2/cpp11/include'   -fvisibility=hidden -fpic  -g -O2 -ffile-prefix-map=/build/r-base-VHKDZm/r-base-4.2.2.20221110=. -fstack-protector-strong -Wformat -Werror=format-security -fdebug-prefix-map=/build/r-base-VHKDZm/r-base-4.2.2.20221110=/usr/src/r-base-4.2.2.20221110-2build1 -Wdate-time -D_FORTIFY_SOURCE=2  -c vendor/uuid/isnull.c -o vendor/uuid/isnull.o\n",
      "gcc -I\"/usr/share/R/include\" -DNDEBUG -DUSING_R -I. -Icore -Iinclude -Ivendor -I/home/felipe/anaconda3/envs/breg/include/libxml2 -I/home/felipe/anaconda3/envs/breg/include -DNDEBUG -DNTIMER -DNPRINT -DINTERNAL_ARPACK -DPRPACK_IGRAPH_SUPPORT -DIGRAPH_THREAD_LOCAL=/**/ -D_GNU_SOURCE=1 -I'/home/felipe/R/x86_64-pc-linux-gnu-library/4.2/cpp11/include'   -fvisibility=hidden -fpic  -g -O2 -ffile-prefix-map=/build/r-base-VHKDZm/r-base-4.2.2.20221110=. -fstack-protector-strong -Wformat -Werror=format-security -fdebug-prefix-map=/build/r-base-VHKDZm/r-base-4.2.2.20221110=/usr/src/r-base-4.2.2.20221110-2build1 -Wdate-time -D_FORTIFY_SOURCE=2  -c vendor/uuid/pack.c -o vendor/uuid/pack.o\n",
      "gcc -I\"/usr/share/R/include\" -DNDEBUG -DUSING_R -I. -Icore -Iinclude -Ivendor -I/home/felipe/anaconda3/envs/breg/include/libxml2 -I/home/felipe/anaconda3/envs/breg/include -DNDEBUG -DNTIMER -DNPRINT -DINTERNAL_ARPACK -DPRPACK_IGRAPH_SUPPORT -DIGRAPH_THREAD_LOCAL=/**/ -D_GNU_SOURCE=1 -I'/home/felipe/R/x86_64-pc-linux-gnu-library/4.2/cpp11/include'   -fvisibility=hidden -fpic  -g -O2 -ffile-prefix-map=/build/r-base-VHKDZm/r-base-4.2.2.20221110=. -fstack-protector-strong -Wformat -Werror=format-security -fdebug-prefix-map=/build/r-base-VHKDZm/r-base-4.2.2.20221110=/usr/src/r-base-4.2.2.20221110-2build1 -Wdate-time -D_FORTIFY_SOURCE=2  -c vendor/uuid/parse.c -o vendor/uuid/parse.o\n",
      "gcc -I\"/usr/share/R/include\" -DNDEBUG -DUSING_R -I. -Icore -Iinclude -Ivendor -I/home/felipe/anaconda3/envs/breg/include/libxml2 -I/home/felipe/anaconda3/envs/breg/include -DNDEBUG -DNTIMER -DNPRINT -DINTERNAL_ARPACK -DPRPACK_IGRAPH_SUPPORT -DIGRAPH_THREAD_LOCAL=/**/ -D_GNU_SOURCE=1 -I'/home/felipe/R/x86_64-pc-linux-gnu-library/4.2/cpp11/include'   -fvisibility=hidden -fpic  -g -O2 -ffile-prefix-map=/build/r-base-VHKDZm/r-base-4.2.2.20221110=. -fstack-protector-strong -Wformat -Werror=format-security -fdebug-prefix-map=/build/r-base-VHKDZm/r-base-4.2.2.20221110=/usr/src/r-base-4.2.2.20221110-2build1 -Wdate-time -D_FORTIFY_SOURCE=2  -c vendor/uuid/unpack.c -o vendor/uuid/unpack.o\n",
      "gcc -I\"/usr/share/R/include\" -DNDEBUG -DUSING_R -I. -Icore -Iinclude -Ivendor -I/home/felipe/anaconda3/envs/breg/include/libxml2 -I/home/felipe/anaconda3/envs/breg/include -DNDEBUG -DNTIMER -DNPRINT -DINTERNAL_ARPACK -DPRPACK_IGRAPH_SUPPORT -DIGRAPH_THREAD_LOCAL=/**/ -D_GNU_SOURCE=1 -I'/home/felipe/R/x86_64-pc-linux-gnu-library/4.2/cpp11/include'   -fvisibility=hidden -fpic  -g -O2 -ffile-prefix-map=/build/r-base-VHKDZm/r-base-4.2.2.20221110=. -fstack-protector-strong -Wformat -Werror=format-security -fdebug-prefix-map=/build/r-base-VHKDZm/r-base-4.2.2.20221110=/usr/src/r-base-4.2.2.20221110-2build1 -Wdate-time -D_FORTIFY_SOURCE=2  -c vendor/uuid/unparse.c -o vendor/uuid/unparse.o\n",
      "gcc -I\"/usr/share/R/include\" -DNDEBUG -DUSING_R -I. -Icore -Iinclude -Ivendor -I/home/felipe/anaconda3/envs/breg/include/libxml2 -I/home/felipe/anaconda3/envs/breg/include -DNDEBUG -DNTIMER -DNPRINT -DINTERNAL_ARPACK -DPRPACK_IGRAPH_SUPPORT -DIGRAPH_THREAD_LOCAL=/**/ -D_GNU_SOURCE=1 -I'/home/felipe/R/x86_64-pc-linux-gnu-library/4.2/cpp11/include'   -fvisibility=hidden -fpic  -g -O2 -ffile-prefix-map=/build/r-base-VHKDZm/r-base-4.2.2.20221110=. -fstack-protector-strong -Wformat -Werror=format-security -fdebug-prefix-map=/build/r-base-VHKDZm/r-base-4.2.2.20221110=/usr/src/r-base-4.2.2.20221110-2build1 -Wdate-time -D_FORTIFY_SOURCE=2  -c rinterface.c -o rinterface.o\n",
      "gcc -I\"/usr/share/R/include\" -DNDEBUG -DUSING_R -I. -Icore -Iinclude -Ivendor -I/home/felipe/anaconda3/envs/breg/include/libxml2 -I/home/felipe/anaconda3/envs/breg/include -DNDEBUG -DNTIMER -DNPRINT -DINTERNAL_ARPACK -DPRPACK_IGRAPH_SUPPORT -DIGRAPH_THREAD_LOCAL=/**/ -D_GNU_SOURCE=1 -I'/home/felipe/R/x86_64-pc-linux-gnu-library/4.2/cpp11/include'   -fvisibility=hidden -fpic  -g -O2 -ffile-prefix-map=/build/r-base-VHKDZm/r-base-4.2.2.20221110=. -fstack-protector-strong -Wformat -Werror=format-security -fdebug-prefix-map=/build/r-base-VHKDZm/r-base-4.2.2.20221110=/usr/src/r-base-4.2.2.20221110-2build1 -Wdate-time -D_FORTIFY_SOURCE=2  -c rinterface_extra.c -o rinterface_extra.o\n",
      "gcc -I\"/usr/share/R/include\" -DNDEBUG -DUSING_R -I. -Icore -Iinclude -Ivendor -I/home/felipe/anaconda3/envs/breg/include/libxml2 -I/home/felipe/anaconda3/envs/breg/include -DNDEBUG -DNTIMER -DNPRINT -DINTERNAL_ARPACK -DPRPACK_IGRAPH_SUPPORT -DIGRAPH_THREAD_LOCAL=/**/ -D_GNU_SOURCE=1 -I'/home/felipe/R/x86_64-pc-linux-gnu-library/4.2/cpp11/include'   -fvisibility=hidden -fpic  -g -O2 -ffile-prefix-map=/build/r-base-VHKDZm/r-base-4.2.2.20221110=. -fstack-protector-strong -Wformat -Werror=format-security -fdebug-prefix-map=/build/r-base-VHKDZm/r-base-4.2.2.20221110=/usr/src/r-base-4.2.2.20221110-2build1 -Wdate-time -D_FORTIFY_SOURCE=2  -c rrandom.c -o rrandom.o\n",
      "gcc -I\"/usr/share/R/include\" -DNDEBUG -DUSING_R -I. -Icore -Iinclude -Ivendor -I/home/felipe/anaconda3/envs/breg/include/libxml2 -I/home/felipe/anaconda3/envs/breg/include -DNDEBUG -DNTIMER -DNPRINT -DINTERNAL_ARPACK -DPRPACK_IGRAPH_SUPPORT -DIGRAPH_THREAD_LOCAL=/**/ -D_GNU_SOURCE=1 -I'/home/felipe/R/x86_64-pc-linux-gnu-library/4.2/cpp11/include'   -fvisibility=hidden -fpic  -g -O2 -ffile-prefix-map=/build/r-base-VHKDZm/r-base-4.2.2.20221110=. -fstack-protector-strong -Wformat -Werror=format-security -fdebug-prefix-map=/build/r-base-VHKDZm/r-base-4.2.2.20221110=/usr/src/r-base-4.2.2.20221110-2build1 -Wdate-time -D_FORTIFY_SOURCE=2  -c lazyeval.c -o lazyeval.o\n",
      "g++ -std=gnu++14 -I\"/usr/share/R/include\" -DNDEBUG -DUSING_R -I. -Icore -Iinclude -Ivendor -I/home/felipe/anaconda3/envs/breg/include/libxml2 -I/home/felipe/anaconda3/envs/breg/include -DNDEBUG -DNTIMER -DNPRINT -DINTERNAL_ARPACK -DPRPACK_IGRAPH_SUPPORT -DIGRAPH_THREAD_LOCAL=/**/ -D_GNU_SOURCE=1 -I'/home/felipe/R/x86_64-pc-linux-gnu-library/4.2/cpp11/include'   -fvisibility=hidden -fpic  -g -O2 -ffile-prefix-map=/build/r-base-VHKDZm/r-base-4.2.2.20221110=. -fstack-protector-strong -Wformat -Werror=format-security -fdebug-prefix-map=/build/r-base-VHKDZm/r-base-4.2.2.20221110=/usr/src/r-base-4.2.2.20221110-2build1 -Wdate-time -D_FORTIFY_SOURCE=2  -c init.cpp -o init.o\n",
      "g++ -std=gnu++14 -I\"/usr/share/R/include\" -DNDEBUG -DUSING_R -I. -Icore -Iinclude -Ivendor -I/home/felipe/anaconda3/envs/breg/include/libxml2 -I/home/felipe/anaconda3/envs/breg/include -DNDEBUG -DNTIMER -DNPRINT -DINTERNAL_ARPACK -DPRPACK_IGRAPH_SUPPORT -DIGRAPH_THREAD_LOCAL=/**/ -D_GNU_SOURCE=1 -I'/home/felipe/R/x86_64-pc-linux-gnu-library/4.2/cpp11/include'   -fvisibility=hidden -fpic  -g -O2 -ffile-prefix-map=/build/r-base-VHKDZm/r-base-4.2.2.20221110=. -fstack-protector-strong -Wformat -Werror=format-security -fdebug-prefix-map=/build/r-base-VHKDZm/r-base-4.2.2.20221110=/usr/src/r-base-4.2.2.20221110-2build1 -Wdate-time -D_FORTIFY_SOURCE=2  -c cpp11.cpp -o cpp11.o\n"
     ]
    },
    {
     "name": "stdout",
     "output_type": "stream",
     "text": [
      "g++ -std=gnu++14 -I\"/usr/share/R/include\" -DNDEBUG -DUSING_R -I. -Icore -Iinclude -Ivendor -I/home/felipe/anaconda3/envs/breg/include/libxml2 -I/home/felipe/anaconda3/envs/breg/include -DNDEBUG -DNTIMER -DNPRINT -DINTERNAL_ARPACK -DPRPACK_IGRAPH_SUPPORT -DIGRAPH_THREAD_LOCAL=/**/ -D_GNU_SOURCE=1 -I'/home/felipe/R/x86_64-pc-linux-gnu-library/4.2/cpp11/include'   -fvisibility=hidden -fpic  -g -O2 -ffile-prefix-map=/build/r-base-VHKDZm/r-base-4.2.2.20221110=. -fstack-protector-strong -Wformat -Werror=format-security -fdebug-prefix-map=/build/r-base-VHKDZm/r-base-4.2.2.20221110=/usr/src/r-base-4.2.2.20221110-2build1 -Wdate-time -D_FORTIFY_SOURCE=2  -c cpprinterface.cpp -o cpprinterface.o\n",
      "g++ -std=gnu++14 -shared -L/usr/lib/R/lib -Wl,-Bsymbolic-functions -flto=auto -ffat-lto-objects -Wl,-z,relro -o igraph.so core/centrality/betweenness.o core/centrality/centrality_other.o core/centrality/centralization.o core/centrality/closeness.o core/centrality/coreness.o core/centrality/prpack.o core/centrality/prpack/prpack_base_graph.o core/centrality/prpack/prpack_igraph_graph.o core/centrality/prpack/prpack_preprocessed_ge_graph.o core/centrality/prpack/prpack_preprocessed_gs_graph.o core/centrality/prpack/prpack_preprocessed_scc_graph.o core/centrality/prpack/prpack_preprocessed_schur_graph.o core/centrality/prpack/prpack_result.o core/centrality/prpack/prpack_solver.o core/centrality/prpack/prpack_utils.o core/cliques/cliquer/cliquer.o core/cliques/cliquer/cliquer_graph.o core/cliques/cliquer/reorder.o core/cliques/cliquer_wrapper.o core/cliques/cliques.o core/cliques/glet.o core/cliques/maximal_cliques.o core/community/community_misc.o core/community/edge_betweenness.o core/community/fast_modularity.o core/community/fluid.o core/community/infomap/infomap.o core/community/infomap/infomap_FlowGraph.o core/community/infomap/infomap_Greedy.o core/community/infomap/infomap_Node.o core/community/label_propagation.o core/community/leading_eigenvector.o core/community/leiden.o core/community/louvain.o core/community/modularity.o core/community/optimal_modularity.o core/community/spinglass/NetDataTypes.o core/community/spinglass/NetRoutines.o core/community/spinglass/clustertool.o core/community/spinglass/pottsmodel_2.o core/community/walktrap/walktrap.o core/community/walktrap/walktrap_communities.o core/community/walktrap/walktrap_graph.o core/community/walktrap/walktrap_heap.o core/connectivity/cohesive_blocks.o core/connectivity/components.o core/connectivity/separators.o core/constructors/adjacency.o core/constructors/atlas.o core/constructors/basic_constructors.o core/constructors/de_bruijn.o core/constructors/famous.o core/constructors/full.o core/constructors/kautz.o core/constructors/lcf.o core/constructors/linegraph.o core/constructors/prufer.o core/constructors/regular.o core/core/array.o core/core/buckets.o core/core/cutheap.o core/core/dqueue.o core/core/error.o core/core/estack.o core/core/fixed_vectorlist.o core/core/grid.o core/core/heap.o core/core/indheap.o core/core/interruption.o core/core/marked_queue.o core/core/matrix.o core/core/memory.o core/core/printing.o core/core/progress.o core/core/psumtree.o core/core/set.o core/core/sparsemat.o core/core/spmatrix.o core/core/stack.o core/core/statusbar.o core/core/strvector.o core/core/trie.o core/core/vector.o core/core/vector_ptr.o core/flow/flow.o core/flow/st-cuts.o core/games/barabasi.o core/games/callaway_traits.o core/games/citations.o core/games/correlated.o core/games/degree_sequence.o core/games/degree_sequence_vl/gengraph_box_list.o core/games/degree_sequence_vl/gengraph_degree_sequence.o core/games/degree_sequence_vl/gengraph_graph_molloy_hash.o core/games/degree_sequence_vl/gengraph_graph_molloy_optimized.o core/games/degree_sequence_vl/gengraph_mr-connected.o core/games/degree_sequence_vl/gengraph_powerlaw.o core/games/degree_sequence_vl/gengraph_random.o core/games/dotproduct.o core/games/erdos_renyi.o core/games/establishment.o core/games/forestfire.o core/games/grg.o core/games/growing_random.o core/games/islands.o core/games/k_regular.o core/games/preference.o core/games/recent_degree.o core/games/sbm.o core/games/static_fitness.o core/games/tree.o core/games/watts_strogatz.o core/graph/adjlist.o core/graph/attributes.o core/graph/basic_query.o core/graph/cattributes.o core/graph/iterators.o core/graph/type_indexededgelist.o core/graph/visitors.o core/hrg/hrg.o core/hrg/hrg_types.o core/internal/glpk_support.o core/internal/hacks.o core/internal/lsap.o core/internal/qsort.o core/internal/qsort_r.o core/internal/zeroin.o core/io/dimacs.o core/io/dl-lexer.o core/io/dl-parser.o core/io/dl.o core/io/dot.o core/io/edgelist.o core/io/gml-lexer.o core/io/gml-parser.o core/io/gml-tree.o core/io/gml.o core/io/graphdb.o core/io/graphml.o core/io/leda.o core/io/lgl-lexer.o core/io/lgl-parser.o core/io/lgl.o core/io/ncol-lexer.o core/io/ncol-parser.o core/io/ncol.o core/io/pajek-lexer.o core/io/pajek-parser.o core/io/pajek.o core/isomorphism/bliss.o core/isomorphism/bliss/defs.o core/isomorphism/bliss/graph.o core/isomorphism/bliss/heap.o core/isomorphism/bliss/orbit.o core/isomorphism/bliss/partition.o core/isomorphism/bliss/uintseqhash.o core/isomorphism/bliss/utils.o core/isomorphism/isoclasses.o core/isomorphism/isomorphism_misc.o core/isomorphism/lad.o core/isomorphism/queries.o core/isomorphism/vf2.o core/layout/circular.o core/layout/davidson_harel.o core/layout/drl/DensityGrid.o core/layout/drl/DensityGrid_3d.o core/layout/drl/drl_graph.o core/layout/drl/drl_graph_3d.o core/layout/drl/drl_layout.o core/layout/drl/drl_layout_3d.o core/layout/drl/drl_parse.o core/layout/fruchterman_reingold.o core/layout/gem.o core/layout/graphopt.o core/layout/kamada_kawai.o core/layout/large_graph.o core/layout/layout_bipartite.o core/layout/layout_grid.o core/layout/layout_random.o core/layout/mds.o core/layout/merge_dla.o core/layout/merge_grid.o core/layout/reingold_tilford.o core/layout/sugiyama.o core/linalg/arpack.o core/linalg/blas.o core/linalg/eigen.o core/linalg/lapack.o core/math/bfgs.o core/math/complex.o core/math/utils.o core/misc/bipartite.o core/misc/chordality.o core/misc/cocitation.o core/misc/coloring.o core/misc/conversion.o core/misc/degree_sequence.o core/misc/embedding.o core/misc/feedback_arc_set.o core/misc/graphicality.o core/misc/matching.o core/misc/microscopic_update.o core/misc/mixing.o core/misc/motifs.o core/misc/other.o core/misc/scan.o core/misc/sir.o core/misc/spanning_trees.o core/operators/add_edge.o core/operators/complementer.o core/operators/compose.o core/operators/connect_neighborhood.o core/operators/contract.o core/operators/difference.o core/operators/disjoint_union.o core/operators/intersection.o core/operators/misc_internal.o core/operators/permute.o core/operators/reverse.o core/operators/rewire.o core/operators/rewire_edges.o core/operators/simplify.o core/operators/subgraph.o core/operators/union.o core/paths/all_shortest_paths.o core/paths/bellman_ford.o core/paths/dijkstra.o core/paths/distances.o core/paths/eulerian.o core/paths/histogram.o core/paths/johnson.o core/paths/random_walk.o core/paths/shortest_paths.o core/paths/simple_paths.o core/paths/unweighted.o core/properties/basic_properties.o core/properties/constraint.o core/properties/convergence_degree.o core/properties/dag.o core/properties/degrees.o core/properties/girth.o core/properties/loops.o core/properties/multiplicity.o core/properties/neighborhood.o core/properties/spectral.o core/properties/trees.o core/properties/triangles.o core/random/random.o core/scg/scg.o core/scg/scg_approximate_methods.o core/scg/scg_exact_scg.o core/scg/scg_kmeans.o core/scg/scg_optimal_method.o core/scg/scg_utils.o core/version.o vendor/cs/cs_add.o vendor/cs/cs_amd.o vendor/cs/cs_chol.o vendor/cs/cs_cholsol.o vendor/cs/cs_compress.o vendor/cs/cs_counts.o vendor/cs/cs_cumsum.o vendor/cs/cs_dfs.o vendor/cs/cs_dmperm.o vendor/cs/cs_droptol.o vendor/cs/cs_dropzeros.o vendor/cs/cs_dupl.o vendor/cs/cs_entry.o vendor/cs/cs_ereach.o vendor/cs/cs_etree.o vendor/cs/cs_fkeep.o vendor/cs/cs_gaxpy.o vendor/cs/cs_happly.o vendor/cs/cs_house.o vendor/cs/cs_ipvec.o vendor/cs/cs_leaf.o vendor/cs/cs_load.o vendor/cs/cs_lsolve.o vendor/cs/cs_ltsolve.o vendor/cs/cs_lu.o vendor/cs/cs_lusol.o vendor/cs/cs_malloc.o vendor/cs/cs_maxtrans.o vendor/cs/cs_multiply.o vendor/cs/cs_norm.o vendor/cs/cs_permute.o vendor/cs/cs_pinv.o vendor/cs/cs_post.o vendor/cs/cs_print.o vendor/cs/cs_pvec.o vendor/cs/cs_qr.o vendor/cs/cs_qrsol.o vendor/cs/cs_randperm.o vendor/cs/cs_reach.o vendor/cs/cs_scatter.o vendor/cs/cs_scc.o vendor/cs/cs_schol.o vendor/cs/cs_spsolve.o vendor/cs/cs_sqr.o vendor/cs/cs_symperm.o vendor/cs/cs_tdfs.o vendor/cs/cs_transpose.o vendor/cs/cs_updown.o vendor/cs/cs_usolve.o vendor/cs/cs_util.o vendor/cs/cs_utsolve.o vendor/mini-gmp/mini-gmp.o vendor/plfit/gss.o vendor/plfit/hzeta.o vendor/plfit/kolmogorov.o vendor/plfit/lbfgs.o vendor/plfit/mt.o vendor/plfit/options.o vendor/plfit/platform.o vendor/plfit/plfit.o vendor/plfit/plfit_error.o vendor/plfit/rbinom.o vendor/plfit/sampling.o vendor/arpack/dgetv0.o vendor/arpack/dlaqrb.o vendor/arpack/dmout.o vendor/arpack/dnaitr.o vendor/arpack/dnapps.o vendor/arpack/dnaup2.o vendor/arpack/dnaupd.o vendor/arpack/dnconv.o vendor/arpack/dneigh.o vendor/arpack/dneupd.o vendor/arpack/dngets.o vendor/arpack/dsaitr.o vendor/arpack/dsapps.o vendor/arpack/dsaup2.o vendor/arpack/dsaupd.o vendor/arpack/dsconv.o vendor/arpack/dseigt.o vendor/arpack/dsesrt.o vendor/arpack/dseupd.o vendor/arpack/dsgets.o vendor/arpack/dsortc.o vendor/arpack/dsortr.o vendor/arpack/dstatn.o vendor/arpack/dstats.o vendor/arpack/dstqrb.o vendor/arpack/dvout.o vendor/arpack/ivout.o vendor/arpack/second.o vendor/arpack/wrap.o vendor/simpleraytracer/Color.o vendor/simpleraytracer/Light.o vendor/simpleraytracer/Point.o vendor/simpleraytracer/RIgraphRay.o vendor/simpleraytracer/Ray.o vendor/simpleraytracer/RayTracer.o vendor/simpleraytracer/RayVector.o vendor/simpleraytracer/Shape.o vendor/simpleraytracer/Sphere.o vendor/simpleraytracer/Triangle.o vendor/simpleraytracer/unit_limiter.o vendor/uuid/R.o vendor/uuid/clear.o vendor/uuid/compare.o vendor/uuid/copy.o vendor/uuid/gen_uuid.o vendor/uuid/isnull.o vendor/uuid/pack.o vendor/uuid/parse.o vendor/uuid/unpack.o vendor/uuid/unparse.o rinterface.o rinterface_extra.o rrandom.o lazyeval.o init.o cpp11.o cpprinterface.o -L/home/felipe/anaconda3/envs/breg/lib -lxml2 -L/home/felipe/anaconda3/envs/breg/lib -lz -L/home/felipe/anaconda3/envs/breg/lib -llzma -lpthread -L/home/felipe/anaconda3/envs/breg/lib -L/home/felipe/anaconda3/envs/breg/lib -licui18n -licuuc -licudata -lm -ldl -llapack -lblas -lgfortran -lm -lquadmath -L/usr/lib/R/lib -lR\n"
     ]
    },
    {
     "name": "stderr",
     "output_type": "stream",
     "text": [
      "installing to /home/felipe/R/x86_64-pc-linux-gnu-library/4.2/00LOCK-igraph/00new/igraph/libs\n",
      "** R\n",
      "** demo\n",
      "** inst\n",
      "** byte-compile and prepare package for lazy loading\n",
      "** help\n",
      "*** installing help indices\n",
      "*** copying figures\n",
      "** building package indices\n",
      "** installing vignettes\n",
      "** testing if installed package can be loaded from temporary location\n",
      "** checking absolute paths in shared objects and dynamic libraries\n",
      "** testing if installed package can be loaded from final location\n",
      "** testing if installed package keeps a record of temporary installation path\n",
      "* DONE (igraph)\n"
     ]
    }
   ],
   "source": [
    "from BregmanTests.benchmark import *\n",
    "n_average = 5\n",
    "n_clusters = 4\n",
    "factor = 300\n",
    "n = int(factor*n_clusters)\n",
    "d = 1\n",
    "sizes = [ n // n_clusters ]*np.ones( n_clusters, dtype = int )"
   ]
  },
  {
   "cell_type": "code",
   "execution_count": 5,
   "id": "8_1GVISDUKFt",
   "metadata": {
    "id": "8_1GVISDUKFt"
   },
   "outputs": [],
   "source": [
    "# from validation_indices import NamedIndices\n",
    "# I = NamedIndices[\"S&S1\"]"
   ]
  },
  {
   "cell_type": "code",
   "execution_count": 6,
   "id": "P7eaRWHE-d8H",
   "metadata": {
    "colab": {
     "base_uri": "https://localhost:8080/",
     "height": 133
    },
    "id": "P7eaRWHE-d8H",
    "outputId": "dc59e4d1-691c-49f5-bf28-4719ea463770"
   },
   "outputs": [
    {
     "ename": "SyntaxError",
     "evalue": "'break' outside loop (668683560.py, line 1)",
     "output_type": "error",
     "traceback": [
      "\u001b[0;36m  Cell \u001b[0;32mIn[6], line 1\u001b[0;36m\u001b[0m\n\u001b[0;31m    break\u001b[0m\n\u001b[0m    ^\u001b[0m\n\u001b[0;31mSyntaxError\u001b[0m\u001b[0;31m:\u001b[0m 'break' outside loop\n"
     ]
    }
   ],
   "source": [
    "break"
   ]
  },
  {
   "cell_type": "code",
   "execution_count": null,
   "id": "BRK9Lc7TXYNe",
   "metadata": {
    "colab": {
     "base_uri": "https://localhost:8080/"
    },
    "id": "BRK9Lc7TXYNe",
    "outputId": "477fa162-b4dd-41af-f0c7-8cd5dea2b1bd"
   },
   "outputs": [],
   "source": [
    "attributes_distribution = \"gaussian\"\n",
    "edge_distribution = \"bernoulli\"\n",
    "weight_distribution = \"exponential\"\n",
    "a_range = np.linspace(5,14,3)\n",
    "r_range = np.linspace(0,0.7,3)*np.log(n)\n",
    "benchmark = BregmanBenchmark(att_variance=1,\n",
    "                    attributes_distribution=attributes_distribution,\n",
    "                    weight_variance=1,\n",
    "                    weight_distribution=weight_distribution,\n",
    "                    edge_distribution=edge_distribution,\n",
    "                    run_torch=False,\n",
    "                    initializer = 'chernoff',\n",
    "                    hard_clustering=True)\n",
    "benchmark.run_test(n_average=1,cluster_sizes=sizes,\\\n",
    "                 b=5,\\\n",
    "                 a_range=[ 5,7,9,11,13,15 ],\\\n",
    "                 r_range = [ 0,1,2,3,4,5 ],\\\n",
    "                 dense=False,\\\n",
    "                 binary=True,\\\n",
    "                 file_endings=\".jpeg\",\\\n",
    "                 n_iters=25)"
   ]
  },
  {
   "cell_type": "markdown",
   "id": "4oK8WTsVlLci",
   "metadata": {
    "id": "4oK8WTsVlLci"
   },
   "source": [
    "## Test 2_1"
   ]
  },
  {
   "cell_type": "code",
   "execution_count": null,
   "id": "v4iSOddDO2qs",
   "metadata": {
    "id": "v4iSOddDO2qs"
   },
   "outputs": [],
   "source": [
    "attributes_distribution = \"gaussian\"\n",
    "edge_distribution = \"bernoulli\"\n",
    "weight_distribution = \"exponential\"\n",
    "a_range = np.linspace(5,14,3)\n",
    "r_range = np.linspace(0,0.7,3)*np.log(n)\n",
    "benchmark = BregmanBenchmark(att_variance=1,\n",
    "                    attributes_distribution=attributes_distribution,\n",
    "                    weight_variance=1,\n",
    "                    weight_distribution=weight_distribution,\n",
    "                    edge_distribution=edge_distribution,\n",
    "                    run_torch=False,\n",
    "                    initializer = 'chernoff',\n",
    "                    hard_clustering=False)\n",
    "stats = benchmark.run_2_1(n_average=1,\n",
    "                            cluster_sizes=sizes,\n",
    "                            b=5,\n",
    "                            a_range= a_range,\n",
    "                            r_range = r_range,\n",
    "                            dense=False,\n",
    "                            binary=True,\n",
    "                            n_iters=25)\n",
    "with open('test_2_1.pickle', 'wb') as handle:\n",
    "    pickle.dump(stats, handle, protocol=pickle.HIGHEST_PROTOCOL)\n",
    "!cp \"/content/test_2_1.pickle\" \"/content/drive/MyDrive\""
   ]
  },
  {
   "cell_type": "markdown",
   "id": "VVVPpsn8l01D",
   "metadata": {
    "id": "VVVPpsn8l01D"
   },
   "source": [
    "## Test 2_2"
   ]
  },
  {
   "cell_type": "code",
   "execution_count": null,
   "id": "XYNgyTRXEhrK",
   "metadata": {
    "id": "XYNgyTRXEhrK"
   },
   "outputs": [],
   "source": [
    "attributes_distribution = \"poisson\"\n",
    "edge_distribution = \"bernoulli\"\n",
    "weight_distribution = \"gaussian\"\n",
    "d_range = np.arange(1,6)\n",
    "mu_range = np.linspace(0,6,20)\n",
    "att_centers = np.arange(1,4).reshape(-1,1)\n",
    "stats = BregmanBenchmark(att_variance=1,\n",
    "                    attributes_distribution=attributes_distribution,\n",
    "                    weight_variance=1,\n",
    "                    weight_distribution=weight_distribution,\n",
    "                    edge_distribution=edge_distribution,\n",
    "                    att_centers=att_centers,\n",
    "                    run_torch=False\n",
    "                  )\\\n",
    "                  .run_2_2(n_average=10,\n",
    "                            cluster_sizes=sizes,\n",
    "                             d_range = d_range,\n",
    "                             mu_range = mu_range,\n",
    "                             dense=True,\n",
    "                             binary=False)\n",
    "with open('test_2_2.pickle', 'wb') as handle:\n",
    "    pickle.dump(stats, handle, protocol=pickle.HIGHEST_PROTOCOL)\n",
    "!cp \"/content/test_2_2.pickle\" \"/content/drive/MyDrive\""
   ]
  },
  {
   "cell_type": "markdown",
   "id": "XlpxvjqBlt3q",
   "metadata": {
    "id": "XlpxvjqBlt3q"
   },
   "source": [
    "## Test 2_3"
   ]
  },
  {
   "cell_type": "code",
   "execution_count": null,
   "id": "GdUwRBlstRH-",
   "metadata": {
    "id": "GdUwRBlstRH-"
   },
   "outputs": [],
   "source": [
    "attributes_distribution = \"poisson\"\n",
    "edge_distribution = \"bernoulli\"\n",
    "weight_distribution = \"exponential\"\n",
    "d_range = np.arange(1,5)\n",
    "a_range = np.linspace(5,14,10)\n",
    "lambda_range = np.arange(1,6)\n",
    "att_centers = np.arange(1,4).reshape(-1,1)\n",
    "stats = BregmanBenchmark(att_variance=1,\n",
    "                    attributes_distribution=attributes_distribution,\n",
    "                    weight_variance=1,\n",
    "                    weight_distribution=weight_distribution,\n",
    "                    edge_distribution=edge_distribution,\n",
    "                    att_centers=att_centers,\n",
    "                    run_torch=False\n",
    "                 )\\\n",
    "                  .run_2_3(n_average=10,\n",
    "                            cluster_sizes=sizes,\n",
    "                            d_range= d_range,\n",
    "                            lambda_range = lambda_range,\n",
    "                            a_range = a_range,\n",
    "                            b = 5,\n",
    "                            dense=False,\n",
    "                            binary=False)\n",
    "with open('test_2_3.pickle', 'wb') as handle:\n",
    "    pickle.dump(stats, handle, protocol=pickle.HIGHEST_PROTOCOL)\n",
    "!cp \"/content/test_2_3.pickle\" \"/content/drive/MyDrive\""
   ]
  },
  {
   "cell_type": "markdown",
   "id": "HcYf4xKeleyK",
   "metadata": {
    "id": "HcYf4xKeleyK"
   },
   "source": [
    "## Test 2_4"
   ]
  },
  {
   "cell_type": "code",
   "execution_count": null,
   "id": "isj4xK4sGdg9",
   "metadata": {
    "id": "isj4xK4sGdg9"
   },
   "outputs": [],
   "source": [
    "attributes_distribution = \"exponential\"\n",
    "edge_distribution = \"bernoulli\"\n",
    "weight_distribution = \"exponential\"\n",
    "att_averages = np.linspace(1,5,10)\n",
    "w_averages = np.linspace(1,5,10)\n",
    "stats = BregmanBenchmark(att_variance=1,\n",
    "                    attributes_distribution=attributes_distribution,\n",
    "                    weight_variance=1,\n",
    "                    weight_distribution=weight_distribution,\n",
    "                    edge_distribution=edge_distribution,\n",
    "                    run_torch=False\n",
    "                 )\\\n",
    "                  .run_2_4(n_average=10,\n",
    "                            cluster_sizes=sizes,\n",
    "                            b = 5,\n",
    "                            w_averages=w_averages,\n",
    "                            att_averages=att_averages)\n",
    "with open('test_2_4.pickle', 'wb') as handle:\n",
    "    pickle.dump(stats, handle, protocol=pickle.HIGHEST_PROTOCOL)\n",
    "!cp \"/content/test_2_4.pickle\" \"/content/drive/MyDrive\""
   ]
  },
  {
   "cell_type": "markdown",
   "id": "JWvoW4tklTOT",
   "metadata": {
    "id": "JWvoW4tklTOT"
   },
   "source": [
    "## Test 2_5"
   ]
  },
  {
   "cell_type": "code",
   "execution_count": null,
   "id": "Zpr5g5JCzEkG",
   "metadata": {
    "id": "Zpr5g5JCzEkG"
   },
   "outputs": [],
   "source": [
    "attributes_distribution = \"exponential\"\n",
    "edge_distribution = \"bernoulli\"\n",
    "weight_distribution = \"exponential\"\n",
    "att_averages = np.linspace(1,5,5)\n",
    "w_averages = np.array([1,3,6,9,12])\n",
    "stats = BregmanBenchmark(att_variance=n_average,\n",
    "                    attributes_distribution=attributes_distribution,\n",
    "                    weight_variance=1,\n",
    "                    weight_distribution=weight_distribution,\n",
    "                    edge_distribution=edge_distribution,\n",
    "                    run_torch=False\n",
    "                 )\\\n",
    "                  .run_2_5(n_average=n_average,\n",
    "                            cluster_sizes=sizes,\n",
    "                            b = 5,\n",
    "                            w_averages=w_averages,\n",
    "                            att_averages=att_averages)\n",
    "with open('test_2_5.pickle', 'wb') as handle:\n",
    "    pickle.dump(stats, handle, protocol=pickle.HIGHEST_PROTOCOL)\n",
    "!cp \"/content/test_2_5.pickle\" \"/content/drive/MyDrive\""
   ]
  },
  {
   "cell_type": "code",
   "execution_count": null,
   "id": "HROKJI17kQ-y",
   "metadata": {
    "id": "HROKJI17kQ-y"
   },
   "outputs": [],
   "source": [
    "test_2_5=None\n",
    "with open(\"/content/drive/MyDrive/test_2_5.pickle\", 'rb') as handle:\n",
    "    test_2_5 = pickle.load(handle)\n",
    "test_2_5.keys()\n",
    "df = pd.DataFrame.from_dict(test_2_5)\n",
    "# labels = [ 'EM-GMM', 'SC', 'Algo1', 'attSBM','IR_sLS']\n",
    "# algos = [\"attributes\", \"graph\", \"ours\", \"attSBM\", \"IR_sLS\"]\n",
    "# saveFig = True\n",
    "# for varying in [\"graph\",\"attributes\"]:\n",
    "#   curves = []\n",
    "#   curves_std = []\n",
    "#   for algo in algos:\n",
    "#     curves.append(df.loc[(df['varying'] == varying) & (df['algorithm'] == algo)][\"ARI\"])\n",
    "#     curves_std.append(df.loc[(df['varying'] == varying) & (df['algorithm'] == algo)][\"ARI_std\"])\n",
    "#   if varying == 'graph':\n",
    "#     x = df.loc[(df['varying'] == \"graph\")][\"weights_avg\"].unique()\n",
    "#     fileName = 'N_' + str(n) + '_K_' + str(n_clusters) + '_att_' + str(2)  +  '_nAverage' + str(n_average) + '.jpeg'\n",
    "#     plotting( x, curves, labels, curves_std = curves_std, xticks = x, xlabel = 'weights_avg', saveFig = True, fileName = fileName )\n",
    "#     plt.close()\n",
    "#   elif varying == 'attributes':\n",
    "#     x = df.loc[(df['varying'] == \"attributes\")][\"attributes_avg\"].unique()\n",
    "#     fileName = 'N_' + str(n) + '_K_' + str(n_clusters) + '_w_' + str(2) + '_nAverage_' + str(n_average) + '.jpeg'\n",
    "#     plotting( x , curves, labels, curves_std = curves_std, xticks = x, xlabel = 'attributes_avg', saveFig = True, fileName = fileName )\n",
    "#     plt.close()"
   ]
  },
  {
   "cell_type": "markdown",
   "id": "BCvSIxvhmD5j",
   "metadata": {
    "id": "BCvSIxvhmD5j"
   },
   "source": [
    "## Test Real Data"
   ]
  },
  {
   "cell_type": "code",
   "execution_count": 7,
   "id": "oLtYCem6YHrc",
   "metadata": {
    "id": "oLtYCem6YHrc"
   },
   "outputs": [],
   "source": [
    "edgeSimilarity = \"jaccard\""
   ]
  },
  {
   "cell_type": "code",
   "execution_count": null,
   "id": "7942ed30",
   "metadata": {
    "id": "7942ed30"
   },
   "outputs": [
    {
     "name": "stdout",
     "output_type": "stream",
     "text": [
      "['NMI', 'ARI', 'AMI', 'S&S', 'CC']\n",
      "\n",
      "CURRENT DATASET:  CiteSeer\n"
     ]
    },
    {
     "data": {
      "image/png": "[encoded data removed]",
      "text/plain": [
       "<Figure size 640x480 with 1 Axes>"
      ]
     },
     "metadata": {},
     "output_type": "display_data"
    },
    {
     "name": "stdout",
     "output_type": "stream",
     "text": [
      "[1] TRUE\n",
      "[1] \"./data/Benchmark/real_dataatt_0.npy\"   \n",
      "[2] \"./data/Benchmark/real_datanet_0.npy\"   \n",
      "[3] \"./data/Benchmark/real_dataz_init_0.npy\"\n"
     ]
    },
    {
     "name": "stderr",
     "output_type": "stream",
     "text": [
      "\n",
      "Attaching package: ‘igraph’\n",
      "\n",
      "The following objects are masked from ‘package:stats’:\n",
      "\n",
      "    decompose, spectrum\n",
      "\n",
      "The following object is masked from ‘package:base’:\n",
      "\n",
      "    union\n",
      "\n"
     ]
    },
    {
     "name": "stdout",
     "output_type": "stream",
     "text": [
      "[1] \"this is the initial error!!!\"\n",
      "[1] 39.2676\n",
      "[1] -81489.91\n"
     ]
    }
   ],
   "source": [
    "attributes_distribution = \"bernoulli\"\n",
    "edge_distribution = \"bernoulli\"\n",
    "weight_distribution = \"gaussian\"\n",
    "benchmark = BregmanBenchmark(att_variance=1,\n",
    "                    attributes_distribution=attributes_distribution,\n",
    "                    weight_variance=1,\n",
    "                    weight_distribution=weight_distribution,\n",
    "                    edge_distribution=edge_distribution,\n",
    "                    run_torch=False,\n",
    "                    initializer = 'chernoff',\n",
    "                    hard_clustering=True)\n",
    "scores = benchmark.run_real_data(n_iters=25,n_runs=1,\n",
    "                                 edgeSimilarity=edgeSimilarity,\n",
    "                                 weightSimilarity=\"gaussian\",\n",
    "                                 attributesSimilarity=\"hamming\")\n",
    "scores"
   ]
  },
  {
   "cell_type": "code",
   "execution_count": null,
   "id": "bc2fa63c",
   "metadata": {},
   "outputs": [],
   "source": [
    "(-1*np.arange(5)).argmin()"
   ]
  },
  {
   "cell_type": "code",
   "execution_count": null,
   "id": "qEpRHoNLQeqd",
   "metadata": {
    "id": "qEpRHoNLQeqd"
   },
   "outputs": [],
   "source": [
    "df = pd.DataFrame(scores)\n",
    "df_grouped = df.groupby(by=\"dataset\")\n",
    "for key, item in df_grouped:\n",
    "    print(df_grouped.get_group(key), \"\\n\\n\")"
   ]
  },
  {
   "cell_type": "code",
   "execution_count": null,
   "id": "8HIAU4EvsC-0",
   "metadata": {
    "id": "8HIAU4EvsC-0"
   },
   "outputs": [],
   "source": [
    "df"
   ]
  },
  {
   "cell_type": "code",
   "execution_count": null,
   "id": "fo4ZfaaoQn1m",
   "metadata": {
    "id": "fo4ZfaaoQn1m"
   },
   "outputs": [],
   "source": [
    "df[['NMI', 'NMI_std', 'ARI', 'ARI_std', 'AMI', 'AMI_std', 'algorithm', 'dataset']].to_csv(\"results_1.csv\",index=False)\n",
    "df[[ 'S&S', 'S&S_std', 'CC', 'CC_std', 'algorithm', 'dataset']].to_csv(\"results_2.csv\",index=False)"
   ]
  },
  {
   "cell_type": "code",
   "execution_count": null,
   "id": "AnPjQFHPjp_t",
   "metadata": {
    "id": "AnPjQFHPjp_t"
   },
   "outputs": [],
   "source": [
    "with open(f'/content/drive/MyDrive/test_real_data_{edgeSimilarity}.pickle', 'wb') as handle:\n",
    "    pickle.dump(scores, handle, protocol=pickle.HIGHEST_PROTOCOL)"
   ]
  },
  {
   "cell_type": "code",
   "execution_count": null,
   "id": "YvBzPcj6B9eI",
   "metadata": {
    "id": "YvBzPcj6B9eI"
   },
   "outputs": [],
   "source": [
    "scores=None\n",
    "with open(f\"/content/drive/MyDrive/test_real_data_{edgeSimilarity}.pickle\", 'rb') as handle:\n",
    "    scores = pickle.load(handle)\n",
    "scores.keys()"
   ]
  },
  {
   "cell_type": "code",
   "execution_count": null,
   "id": "hzPeXxbZdSyz",
   "metadata": {
    "id": "hzPeXxbZdSyz"
   },
   "outputs": [],
   "source": [
    "from google.colab import runtime\n",
    "runtime.unassign()"
   ]
  },
  {
   "cell_type": "markdown",
   "id": "7rU3bGnAmO8n",
   "metadata": {
    "id": "7rU3bGnAmO8n"
   },
   "source": [
    "# Begin Plots"
   ]
  },
  {
   "cell_type": "code",
   "execution_count": null,
   "id": "8f1ZvaasK7XH",
   "metadata": {
    "id": "8f1ZvaasK7XH"
   },
   "outputs": [],
   "source": [
    "from BregmanTests.utils import *"
   ]
  },
  {
   "cell_type": "code",
   "execution_count": null,
   "id": "3vN0pwvtM-Eo",
   "metadata": {
    "id": "3vN0pwvtM-Eo"
   },
   "outputs": [],
   "source": [
    "test_2_1=None\n",
    "with open(\"/content/drive/MyDrive/test_2_1.pickle\", 'rb') as handle:\n",
    "    test_2_1 = pickle.load(handle)\n",
    "test_2_1.keys()"
   ]
  },
  {
   "cell_type": "code",
   "execution_count": null,
   "id": "TrkQZoOAQae4",
   "metadata": {
    "id": "TrkQZoOAQae4"
   },
   "outputs": [],
   "source": [
    "scatter_(test_2_1,'a', 'r', 'ARI')"
   ]
  },
  {
   "cell_type": "code",
   "execution_count": null,
   "id": "QY5bJiRenKe8",
   "metadata": {
    "id": "QY5bJiRenKe8"
   },
   "outputs": [],
   "source": [
    "scatter_with_colorbar(test_2_1,'a', 'r', 'ARI')"
   ]
  },
  {
   "cell_type": "code",
   "execution_count": null,
   "id": "wBuJ9YmNZqUu",
   "metadata": {
    "id": "wBuJ9YmNZqUu"
   },
   "outputs": [],
   "source": [
    "test_2_4=None\n",
    "SIZE_TITLE = 24\n",
    "SIZE_LABELS = 24\n",
    "SIZE_TICKS = 18\n",
    "SIZE_LEGEND = 18\n",
    "with open(\"/content/drive/MyDrive/test_2_4.pickle\", 'rb') as handle:\n",
    "    test_2_4 = pickle.load(handle)\n",
    "fig = plt.figure(figsize=(5, 4))\n",
    "ax = fig.add_subplot(111)\n",
    "x,y,z = np.array(test_2_4[\"lambda_att\"]),np.array(test_2_4[\"lambda_w\"]),np.array(test_2_4[\"ARI\"])\n",
    "xlabel=\"attributes_avg\"\n",
    "ylabel=\"weights_avg\"\n",
    "C = ax.scatter(x=1/x,y=1/y,c=z,cmap=\"coolwarm\")\n",
    "plt.ylim(0.9,3.5)\n",
    "ticks = np.linspace(z.min(), z.max(), 5, endpoint=True)\n",
    "cb = fig.colorbar(C, ax=ax, fraction=0.02, pad=0.1, label='ARI',ticks=ticks)\n",
    "cb.set_label(label='ARI', size=SIZE_LEGEND)\n",
    "cb.ax.tick_params(labelsize=SIZE_TICKS)\n",
    "plt.xlabel( xlabel, fontsize = SIZE_LABELS )\n",
    "plt.ylabel( ylabel, fontsize = SIZE_LABELS )\n",
    "plt.xticks( fontsize = SIZE_TICKS )\n",
    "plt.yticks( fontsize = SIZE_TICKS )\n",
    "plt.show()"
   ]
  },
  {
   "cell_type": "code",
   "execution_count": null,
   "id": "B8LRjwn2N3ja",
   "metadata": {
    "id": "B8LRjwn2N3ja"
   },
   "outputs": [],
   "source": [
    "x,y,z = test_2_1[\"a\"],test_2_1[\"r\"],test_2_1[\"ARI\"]\n",
    "vals_x = np.unique(x)\n",
    "vals_y = np.unique(y)\n",
    "\"\"\"\n",
    "len(X) == N is the number of columns in Z and len(Y) == M is the number of rows in Z.\n",
    "Z = M x N\n",
    "\"\"\"\n",
    "x = np.array(x).reshape(vals_x.shape[0],vals_y.shape[0])\n",
    "y = np.array(y).reshape(vals_x.shape[0],vals_y.shape[0])\n",
    "z = np.array(z).reshape(vals_x.shape[0],vals_y.shape[0]).T\n",
    "make_contour_plot(vals_x,vals_y,z,x_label=\"a\",y_label=\"r\",filename=\"contour_plot_2_1.jpeg\")"
   ]
  },
  {
   "cell_type": "code",
   "execution_count": null,
   "id": "GzYD-jJYV6h4",
   "metadata": {
    "id": "GzYD-jJYV6h4"
   },
   "outputs": [],
   "source": [
    "test_2_2=None\n",
    "with open(\"/content/drive/MyDrive/test_2_2.pickle\", 'rb') as handle:\n",
    "    test_2_2 = pickle.load(handle)\n",
    "test_2_2.keys()"
   ]
  },
  {
   "cell_type": "code",
   "execution_count": null,
   "id": "OF2FxOgcV9Fp",
   "metadata": {
    "id": "OF2FxOgcV9Fp"
   },
   "outputs": [],
   "source": [
    "scatter_(test_2_2,'d', 'mu', 'ARI')"
   ]
  },
  {
   "cell_type": "code",
   "execution_count": null,
   "id": "HcgfbcQMYA7-",
   "metadata": {
    "id": "HcgfbcQMYA7-"
   },
   "outputs": [],
   "source": [
    "x,y,z = test_2_2[\"d\"],test_2_2[\"mu\"],test_2_2[\"ARI\"]\n",
    "vals_x = np.unique(x)\n",
    "vals_y = np.unique(y)\n",
    "\"\"\"\n",
    "len(X) == N is the number of columns in Z and len(Y) == M is the number of rows in Z.\n",
    "Z = M x N\n",
    "\"\"\"\n",
    "x = np.array(x).reshape(vals_x.shape[0],vals_y.shape[0])\n",
    "y = np.array(y).reshape(vals_x.shape[0],vals_y.shape[0])\n",
    "# x,y = np.meshgrid(vals_x,vals_y)\n",
    "z = np.array(z).reshape(len(vals_x),len(vals_y)).T\n",
    "make_contour_plot(vals_x,vals_y,z,x_label=\"d\",y_label=\"mu\",filename=\"contour_plot_2_2.jpeg\")"
   ]
  },
  {
   "cell_type": "code",
   "execution_count": null,
   "id": "tKwys6pKYU31",
   "metadata": {
    "id": "tKwys6pKYU31"
   },
   "outputs": [],
   "source": [
    "test_2_3=None\n",
    "with open(\"/content/drive/MyDrive/test_2_3.pickle\", 'rb') as handle:\n",
    "    test_2_3 = pickle.load(handle)\n",
    "test_2_3.keys()"
   ]
  },
  {
   "cell_type": "code",
   "execution_count": null,
   "id": "1Dk3He9t3kkn",
   "metadata": {
    "id": "1Dk3He9t3kkn"
   },
   "outputs": [],
   "source": [
    "x,y,z,data = test_2_3[\"d\"],test_2_3[\"lambda\"], test_2_3[\"a\"],test_2_3[\"ARI\"]\n",
    "vals_x = np.unique(x)\n",
    "vals_y = np.unique(y)\n",
    "vals_z = np.unique(z)\n",
    "\"\"\"\n",
    "len(X) == N is the number of columns in data,\n",
    "len(Y) == M is the number of rows in data.\n",
    "len(Z) == P is the depth of data\n",
    "DATA = M x N X P\n",
    "\"\"\"\n",
    "X = np.array(x).reshape(vals_x.shape[0],vals_y.shape[0],vals_z.shape[0])\n",
    "Y = np.array(y).reshape(vals_x.shape[0],vals_y.shape[0],vals_z.shape[0])\n",
    "Z = np.array(z).reshape(vals_x.shape[0],vals_y.shape[0],vals_z.shape[0])\n",
    "data = np.array(data).reshape(vals_x.shape[0],vals_y.shape[0],vals_z.shape[0])\n",
    "x_label=\"d\"\n",
    "y_label=\"lambda\"\n",
    "z_label = \"a\"\n",
    "\n",
    "kw = {\n",
    "        # 'vmin': data.min(),\n",
    "        # 'vmax': data.max()\n",
    "    }\n",
    "\n",
    "# Create a figure with 3D ax\n",
    "fig = plt.figure(figsize=(5, 4))\n",
    "ax = fig.add_subplot(111, projection='3d')\n",
    "\n",
    "# Set limits of the plot from coord limits\n",
    "xmin, xmax = X.min(), X.max()\n",
    "ymin, ymax = Y.min(), Y.max()\n",
    "zmin, zmax = Z.min(), Z.max()\n",
    "ax.set(xlim=[xmin, xmax], ylim=[ymin, ymax], zlim=[zmin, zmax])\n",
    "\n",
    "# Plot contour surfaces\n",
    "    ### This is the X x Y plane for z=zmax\n",
    "_ = ax.contourf(\n",
    "            X[:, :, -1], Y[:, :, -1], data[:, :, -1],\n",
    "            zdir='z', offset=zmax, **kw\n",
    "        )\n",
    "\n",
    "    ### This is the X x Y plane for z=zmin\n",
    "_ = ax.contourf(\n",
    "            X[:, :, 0], Y[:, :, 0], data[:, :, 0],\n",
    "            zdir='z', offset=zmin, **kw\n",
    "        )\n",
    "\n",
    "    ### This is the X x Z plane for y=ymax\n",
    "_ = ax.contourf(\n",
    "            X[-1, :, :], data[-1, :, :], Z[-1, :, :],\n",
    "            zdir='y', offset=ymax, **kw\n",
    "        )\n",
    "\n",
    "    ### This is the X x Z plane for y=ymin\n",
    "_ = ax.contourf(\n",
    "            X[0, :, :], data[0, :, :], Z[0, :, :],\n",
    "            zdir='y', offset=ymin, **kw\n",
    "        )\n",
    "\n",
    "    ### This is the Y x Z plane for x=xmax\n",
    "_ = ax.contourf(\n",
    "            data[:, -1, :], Y[:, -1, :], Z[:, -1, :],\n",
    "            zdir='x', offset=xmax, **kw\n",
    "        )\n",
    "\n",
    "    ### This is the Y x Z plane for x=xmin\n",
    "C = ax.contourf(\n",
    "            data[:, 0, :], Y[:, 0, :], Z[:, 0, :],\n",
    "            zdir='x', offset=xmin, **kw\n",
    "        )\n",
    "\n",
    "\n",
    "# Plot edges\n",
    "edges_kw = dict(color='0.4', linewidth=1,zorder=-1e3)\n",
    "ax.plot([xmax, xmax], [ymin, ymax], zmin, **edges_kw)\n",
    "ax.plot([xmin, xmax], [ymin, ymin], zmin, **edges_kw)\n",
    "ax.plot([xmin, xmax], [ymin, ymin], [zmin, zmax], **edges_kw)\n",
    "\n",
    "# Set labels and zticks\n",
    "ax.set(\n",
    "        xlabel=x_label,\n",
    "        ylabel=y_label,\n",
    "        zlabel=z_label\n",
    "    )\n",
    "\n",
    "# Set zoom and angle view\n",
    "ax.view_init(30, 45, 0)\n",
    "ax.set_box_aspect(None, zoom=0.9)\n",
    "\n",
    "# Colorbar\n",
    "fig.colorbar(C, ax=ax, fraction=0.02, pad=0.1, label='ARI')"
   ]
  },
  {
   "cell_type": "code",
   "execution_count": null,
   "id": "N2yOg0zK6osd",
   "metadata": {
    "id": "N2yOg0zK6osd"
   },
   "outputs": [],
   "source": [
    "fig = plt.figure(figsize=(5, 4))\n",
    "ax = fig.add_subplot(111, projection='3d')\n",
    "ax.set(\n",
    "        xlabel=x_label,\n",
    "        ylabel=y_label,\n",
    "        zlabel=z_label\n",
    "    )\n",
    "C = ax.scatter(xs=X,ys=Y,zs=Z,c=data)\n",
    "fig.colorbar(C, ax=ax, fraction=0.02, pad=0.2, label='ARI')\n",
    "plt.show()"
   ]
  }
 ],
 "metadata": {
  "colab": {
   "gpuType": "V100",
   "provenance": []
  },
  "kernelspec": {
   "display_name": "Python 3 (ipykernel)",
   "language": "python",
   "name": "python3"
  },
  "language_info": {
   "codemirror_mode": {
    "name": "ipython",
    "version": 3
   },
   "file_extension": ".py",
   "mimetype": "text/x-python",
   "name": "python",
   "nbconvert_exporter": "python",
   "pygments_lexer": "ipython3",
   "version": "3.10.12"
  }
 },
 "nbformat": 4,
 "nbformat_minor": 5
}
