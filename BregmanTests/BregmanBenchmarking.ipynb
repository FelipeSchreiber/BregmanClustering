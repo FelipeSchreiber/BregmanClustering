{
 "cells": [
  {
   "cell_type": "code",
   "execution_count": null,
   "id": "wqMKN-tSMM0L",
   "metadata": {
    "colab": {
     "base_uri": "https://localhost:8080/"
    },
    "id": "wqMKN-tSMM0L",
    "outputId": "d88775d3-0a3c-4f47-8c22-d9b5f38674f3"
   },
   "outputs": [
    {
     "name": "stdout",
     "output_type": "stream",
     "text": [
      "Defaulting to user installation because normal site-packages is not writeable\n",
      "Collecting git+https://github.com/FelipeSchreiber/BregmanClustering.git\n",
      "  Cloning https://github.com/FelipeSchreiber/BregmanClustering.git to c:\\users\\schre\\appdata\\local\\temp\\pip-req-build-5t7i94at\n",
      "  Resolved https://github.com/FelipeSchreiber/BregmanClustering.git to commit 6357a3a5f98b1d8a150eef21600db47d4f449417\n",
      "  Preparing metadata (setup.py): started\n",
      "  Preparing metadata (setup.py): finished with status 'done'\n",
      "Building wheels for collected packages: bregClust\n",
      "  Building wheel for bregClust (setup.py): started\n",
      "  Building wheel for bregClust (setup.py): finished with status 'done'\n",
      "  Created wheel for bregClust: filename=bregClust-1.0-py3-none-any.whl size=25902 sha256=fca694e9c9c38b982061d480ad489dae68a8142847fc34320ce6e817acfdf60a\n",
      "  Stored in directory: C:\\Users\\schre\\AppData\\Local\\Temp\\pip-ephem-wheel-cache-p7wlc3in\\wheels\\3f\\90\\fb\\833529540c1d5f19c385fde761cc07c664c4b9a5edf7c6735b\n",
      "Successfully built bregClust\n",
      "Installing collected packages: bregClust\n",
      "  Attempting uninstall: bregClust\n",
      "    Found existing installation: bregClust 1.0\n",
      "    Uninstalling bregClust-1.0:\n",
      "      Successfully uninstalled bregClust-1.0\n",
      "Successfully installed bregClust-1.0\n"
     ]
    },
    {
     "name": "stderr",
     "output_type": "stream",
     "text": [
      "  Running command git clone --filter=blob:none --quiet https://github.com/FelipeSchreiber/BregmanClustering.git 'C:\\Users\\schre\\AppData\\Local\\Temp\\pip-req-build-5t7i94at'\n"
     ]
    },
    {
     "name": "stdout",
     "output_type": "stream",
     "text": [
      "Defaulting to user installation because normal site-packages is not writeable\n",
      "Requirement already satisfied: torch_geometric in c:\\users\\schre\\appdata\\roaming\\python\\python310\\site-packages (2.3.0)\n",
      "Requirement already satisfied: tqdm in c:\\programdata\\anaconda3\\lib\\site-packages (from torch_geometric) (4.64.1)\n",
      "Requirement already satisfied: scipy in c:\\programdata\\anaconda3\\lib\\site-packages (from torch_geometric) (1.10.0)\n",
      "Requirement already satisfied: jinja2 in c:\\programdata\\anaconda3\\lib\\site-packages (from torch_geometric) (3.1.2)\n",
      "Requirement already satisfied: numpy in c:\\programdata\\anaconda3\\lib\\site-packages (from torch_geometric) (1.23.5)\n",
      "Requirement already satisfied: scikit-learn in c:\\programdata\\anaconda3\\lib\\site-packages (from torch_geometric) (1.2.1)\n",
      "Requirement already satisfied: psutil>=5.8.0 in c:\\programdata\\anaconda3\\lib\\site-packages (from torch_geometric) (5.9.0)\n",
      "Requirement already satisfied: requests in c:\\programdata\\anaconda3\\lib\\site-packages (from torch_geometric) (2.28.1)\n",
      "Requirement already satisfied: pyparsing in c:\\programdata\\anaconda3\\lib\\site-packages (from torch_geometric) (3.0.9)\n",
      "Requirement already satisfied: MarkupSafe>=2.0 in c:\\programdata\\anaconda3\\lib\\site-packages (from jinja2->torch_geometric) (2.1.1)\n",
      "Requirement already satisfied: urllib3<1.27,>=1.21.1 in c:\\programdata\\anaconda3\\lib\\site-packages (from requests->torch_geometric) (1.26.14)\n",
      "Requirement already satisfied: idna<4,>=2.5 in c:\\programdata\\anaconda3\\lib\\site-packages (from requests->torch_geometric) (3.4)\n",
      "Requirement already satisfied: charset-normalizer<3,>=2 in c:\\programdata\\anaconda3\\lib\\site-packages (from requests->torch_geometric) (2.0.4)\n",
      "Requirement already satisfied: certifi>=2017.4.17 in c:\\programdata\\anaconda3\\lib\\site-packages (from requests->torch_geometric) (2022.12.7)\n",
      "Requirement already satisfied: threadpoolctl>=2.0.0 in c:\\programdata\\anaconda3\\lib\\site-packages (from scikit-learn->torch_geometric) (2.2.0)\n",
      "Requirement already satisfied: joblib>=1.1.1 in c:\\programdata\\anaconda3\\lib\\site-packages (from scikit-learn->torch_geometric) (1.1.1)\n",
      "Requirement already satisfied: colorama in c:\\programdata\\anaconda3\\lib\\site-packages (from tqdm->torch_geometric) (0.4.6)\n"
     ]
    }
   ],
   "source": [
    "!pip install --upgrade --force-reinstall git+https://github.com/FelipeSchreiber/BregmanClustering.git --no-deps\n",
    "!pip install torch_geometric\n",
    "### Comment line below if in Google Colab environment\n",
    "import os\n",
    "from sys import platform\n",
    "if platform == \"win32\":\n",
    "    os.chmod(\"C:\\\\Users\\\\schre\\\\AppData\\\\Roaming\\\\Python\\\\Python310\\\\site-packages\\\\BregmanTests/install_algos.sh\",777)\n",
    "    os.environ[\"R_HOME\"] = r\"C:\\\\Program Files\\R\\R-4.2.3\"\n",
    "else:\n",
    "    ### Uncomment line below if in Google Colab environment\n",
    "    !chmod 777 /usr/local/lib/python3.9/dist-packages/BregmanTests/install_algos.sh\n",
    "    ### Done\n",
    "!pip install rpy2==3.5.1"
   ]
  },
  {
   "cell_type": "code",
   "execution_count": null,
   "id": "c336ca20",
   "metadata": {},
   "outputs": [],
   "source": [
    "platform"
   ]
  },
  {
   "cell_type": "code",
   "execution_count": null,
   "id": "4w2gsGfqMbhn",
   "metadata": {
    "colab": {
     "base_uri": "https://localhost:8080/"
    },
    "id": "4w2gsGfqMbhn",
    "outputId": "e9ba2a6f-8d47-412f-912e-2787fdd2263c"
   },
   "outputs": [],
   "source": [
    "from BregmanTests.benchmark import *\n",
    "n_average = 1\n",
    "n = 300\n",
    "n_clusters = 3\n",
    "d = 1\n",
    "sizes = [ n // n_clusters ]*np.ones( n_clusters, dtype = int )"
   ]
  },
  {
   "cell_type": "code",
   "execution_count": null,
   "id": "jP3HrzLaFCl0",
   "metadata": {
    "colab": {
     "base_uri": "https://localhost:8080/"
    },
    "id": "jP3HrzLaFCl0",
    "outputId": "8b2727c3-d45a-45e1-d46c-eaceca76d40a"
   },
   "outputs": [],
   "source": [
    "from google.colab import drive\n",
    "drive.mount('/content/drive')"
   ]
  },
  {
   "cell_type": "code",
   "execution_count": null,
   "id": "1QGRHlHVMvL4",
   "metadata": {
    "colab": {
     "base_uri": "https://localhost:8080/"
    },
    "id": "1QGRHlHVMvL4",
    "outputId": "3ec8cc97-7db5-4683-d018-eb8de0253cc0"
   },
   "outputs": [],
   "source": [
    "attributes_distribution = \"gaussian\"\n",
    "edge_distribution = \"bernoulli\"\n",
    "weight_distribution = \"exponential\"\n",
    "a_range = np.linspace(5,13,10)\n",
    "r_range = np.linspace(0,0.62,10)*np.log(n)\n",
    "BregmanBenchmark(att_variance=1,\n",
    "                    attributes_distribution=attributes_distribution,\n",
    "                    weight_variance=1,\n",
    "                    weight_distribution=weight_distribution,\n",
    "                    edge_distribution=edge_distribution)\\\n",
    "                  .run_2_1(n_average=10,\n",
    "                            cluster_sizes=sizes,\n",
    "                            b=5,\n",
    "                            a_range= a_range,\n",
    "                            r_range = r_range,\n",
    "                            dense=False,\n",
    "                            binary=True,\n",
    "                            plot_3d=False)\n",
    "!cp \"/content/contour_plot_2_1.jpeg\" \"/content/drive/MyDrive\""
   ]
  },
  {
   "cell_type": "code",
   "execution_count": null,
   "id": "XYNgyTRXEhrK",
   "metadata": {
    "id": "XYNgyTRXEhrK"
   },
   "outputs": [],
   "source": [
    "attributes_distribution = \"poisson\"\n",
    "edge_distribution = \"bernoulli\"\n",
    "weight_distribution = \"gaussian\"\n",
    "d_range = np.arange(1,6)\n",
    "mu_range = np.linspace(0,5,5)\n",
    "att_centers = np.arange(1,4).reshape(-1,1)\n",
    "BregmanBenchmark(att_variance=1,\n",
    "                    attributes_distribution=attributes_distribution,\n",
    "                    weight_variance=1,\n",
    "                    weight_distribution=weight_distribution,\n",
    "                    edge_distribution=edge_distribution,\n",
    "                    att_centers=att_centers\n",
    "                  )\\\n",
    "                  .run_2_2(n_average=10,\n",
    "                            cluster_sizes=sizes,\n",
    "                             d_range = d_range,\n",
    "                             mu_range = mu_range,\n",
    "                             dense=True,\n",
    "                             binary=False)\n",
    "!cp \"/content/contour_plot_2_2.jpeg\" \"/content/drive/MyDrive\""
   ]
  },
  {
   "cell_type": "code",
   "execution_count": null,
   "id": "GdUwRBlstRH-",
   "metadata": {
    "id": "GdUwRBlstRH-"
   },
   "outputs": [],
   "source": [
    "attributes_distribution = \"poisson\"\n",
    "edge_distribution = \"bernoulli\"\n",
    "weight_distribution = \"exponential\"\n",
    "d_range = np.arange(1,6)\n",
    "a_range = np.linspace(5,13,10)\n",
    "lambda_range = np.arange(1,6)\n",
    "att_centers = np.arange(1,4).reshape(-1,1)\n",
    "BregmanBenchmark(att_variance=1,\n",
    "                    attributes_distribution=attributes_distribution,\n",
    "                    weight_variance=1,\n",
    "                    weight_distribution=weight_distribution,\n",
    "                    edge_distribution=edge_distribution,\n",
    "                    att_centers=att_centers\n",
    "                 )\\\n",
    "                  .run_2_3(n_average=1,\n",
    "                            cluster_sizes=sizes,\n",
    "                            d_range= d_range,\n",
    "                            lambda_range = lambda_range,\n",
    "                            a_range = a_range,\n",
    "                            b = 5,\n",
    "                            dense=False,\n",
    "                            binary=False)\n",
    "!cp \"/content/contour_plot_2_3.jpeg\" \"/content/drive/MyDrive\""
   ]
  }
 ],
 "metadata": {
  "colab": {
   "provenance": []
  },
  "kernelspec": {
   "display_name": "Python 3 (ipykernel)",
   "language": "python",
   "name": "python3"
  },
  "language_info": {
   "codemirror_mode": {
    "name": "ipython",
    "version": 3
   },
   "file_extension": ".py",
   "mimetype": "text/x-python",
   "name": "python",
   "nbconvert_exporter": "python",
   "pygments_lexer": "ipython3",
   "version": "3.10.9"
  }
 },
 "nbformat": 4,
 "nbformat_minor": 5
}
