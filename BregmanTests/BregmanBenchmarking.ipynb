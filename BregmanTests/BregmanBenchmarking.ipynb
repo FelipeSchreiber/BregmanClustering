{
 "cells": [
  {
   "cell_type": "code",
   "execution_count": 1,
   "id": "wqMKN-tSMM0L",
   "metadata": {
    "colab": {
     "base_uri": "https://localhost:8080/"
    },
    "id": "wqMKN-tSMM0L",
    "outputId": "ba426da1-dc95-4d57-8f81-9c548e01c64e"
   },
   "outputs": [
    {
     "name": "stdout",
     "output_type": "stream",
     "text": [
      "Looking in indexes: https://pypi.org/simple, https://us-python.pkg.dev/colab-wheels/public/simple/\n",
      "Collecting git+https://github.com/FelipeSchreiber/BregmanClustering.git\n",
      "  Cloning https://github.com/FelipeSchreiber/BregmanClustering.git to /tmp/pip-req-build-vujjinfe\n",
      "  Running command git clone --filter=blob:none --quiet https://github.com/FelipeSchreiber/BregmanClustering.git /tmp/pip-req-build-vujjinfe\n",
      "  Resolved https://github.com/FelipeSchreiber/BregmanClustering.git to commit e14966ab7217743ea7d626cad6b89636762b21f1\n",
      "  Preparing metadata (setup.py) ... \u001b[?25l\u001b[?25hdone\n",
      "Building wheels for collected packages: bregClust\n",
      "  Building wheel for bregClust (setup.py) ... \u001b[?25l\u001b[?25hdone\n",
      "  Created wheel for bregClust: filename=bregClust-1.0-py3-none-any.whl size=29439 sha256=632281a9ac3c27c72b057b427607e49be6cae6422a43c3d1709da8ff7b3adb4c\n",
      "  Stored in directory: /tmp/pip-ephem-wheel-cache-q8w24h0o/wheels/3f/90/fb/833529540c1d5f19c385fde761cc07c664c4b9a5edf7c6735b\n",
      "Successfully built bregClust\n",
      "Installing collected packages: bregClust\n",
      "Successfully installed bregClust-1.0\n",
      "Looking in indexes: https://pypi.org/simple, https://us-python.pkg.dev/colab-wheels/public/simple/\n",
      "Collecting torch_geometric\n",
      "  Downloading torch_geometric-2.3.1.tar.gz (661 kB)\n",
      "\u001b[2K     \u001b[90m━━━━━━━━━━━━━━━━━━━━━━━━━━━━━━━━━━━━━━\u001b[0m \u001b[32m661.6/661.6 kB\u001b[0m \u001b[31m15.0 MB/s\u001b[0m eta \u001b[36m0:00:00\u001b[0m\n",
      "\u001b[?25h  Installing build dependencies ... \u001b[?25l\u001b[?25hdone\n",
      "  Getting requirements to build wheel ... \u001b[?25l\u001b[?25hdone\n",
      "  Preparing metadata (pyproject.toml) ... \u001b[?25l\u001b[?25hdone\n",
      "Requirement already satisfied: tqdm in /usr/local/lib/python3.10/dist-packages (from torch_geometric) (4.65.0)\n",
      "Requirement already satisfied: numpy in /usr/local/lib/python3.10/dist-packages (from torch_geometric) (1.22.4)\n",
      "Requirement already satisfied: scipy in /usr/local/lib/python3.10/dist-packages (from torch_geometric) (1.10.1)\n",
      "Requirement already satisfied: jinja2 in /usr/local/lib/python3.10/dist-packages (from torch_geometric) (3.1.2)\n",
      "Requirement already satisfied: requests in /usr/local/lib/python3.10/dist-packages (from torch_geometric) (2.27.1)\n",
      "Requirement already satisfied: pyparsing in /usr/local/lib/python3.10/dist-packages (from torch_geometric) (3.0.9)\n",
      "Requirement already satisfied: scikit-learn in /usr/local/lib/python3.10/dist-packages (from torch_geometric) (1.2.2)\n",
      "Requirement already satisfied: psutil>=5.8.0 in /usr/local/lib/python3.10/dist-packages (from torch_geometric) (5.9.5)\n",
      "Requirement already satisfied: MarkupSafe>=2.0 in /usr/local/lib/python3.10/dist-packages (from jinja2->torch_geometric) (2.1.2)\n",
      "Requirement already satisfied: urllib3<1.27,>=1.21.1 in /usr/local/lib/python3.10/dist-packages (from requests->torch_geometric) (1.26.15)\n",
      "Requirement already satisfied: certifi>=2017.4.17 in /usr/local/lib/python3.10/dist-packages (from requests->torch_geometric) (2022.12.7)\n",
      "Requirement already satisfied: charset-normalizer~=2.0.0 in /usr/local/lib/python3.10/dist-packages (from requests->torch_geometric) (2.0.12)\n",
      "Requirement already satisfied: idna<4,>=2.5 in /usr/local/lib/python3.10/dist-packages (from requests->torch_geometric) (3.4)\n",
      "Requirement already satisfied: joblib>=1.1.1 in /usr/local/lib/python3.10/dist-packages (from scikit-learn->torch_geometric) (1.2.0)\n",
      "Requirement already satisfied: threadpoolctl>=2.0.0 in /usr/local/lib/python3.10/dist-packages (from scikit-learn->torch_geometric) (3.1.0)\n",
      "Building wheels for collected packages: torch_geometric\n",
      "  Building wheel for torch_geometric (pyproject.toml) ... \u001b[?25l\u001b[?25hdone\n",
      "  Created wheel for torch_geometric: filename=torch_geometric-2.3.1-py3-none-any.whl size=910476 sha256=6fd672d2b8491335bbde12420f3a4393a15ee6c962db67757ea6b36a9cafb53d\n",
      "  Stored in directory: /root/.cache/pip/wheels/ac/dc/30/e2874821ff308ee67dcd7a66dbde912411e19e35a1addda028\n",
      "Successfully built torch_geometric\n",
      "Installing collected packages: torch_geometric\n",
      "\u001b[31mERROR: pip's dependency resolver does not currently take into account all the packages that are installed. This behaviour is the source of the following dependency conflicts.\n",
      "bregclust 1.0 requires joblib~=1.1.0, but you have joblib 1.2.0 which is incompatible.\n",
      "bregclust 1.0 requires numpy==1.24.2, but you have numpy 1.22.4 which is incompatible.\n",
      "bregclust 1.0 requires rpy2==3.5.1, but you have rpy2 3.5.5 which is incompatible.\u001b[0m\u001b[31m\n",
      "\u001b[0mSuccessfully installed torch_geometric-2.3.1\n",
      "True\n",
      "Looking in indexes: https://pypi.org/simple, https://us-python.pkg.dev/colab-wheels/public/simple/\n",
      "Collecting rpy2==3.5.1\n",
      "  Downloading rpy2-3.5.1.tar.gz (201 kB)\n",
      "\u001b[2K     \u001b[90m━━━━━━━━━━━━━━━━━━━━━━━━━━━━━━━━━━━━━━\u001b[0m \u001b[32m201.7/201.7 kB\u001b[0m \u001b[31m16.6 MB/s\u001b[0m eta \u001b[36m0:00:00\u001b[0m\n",
      "\u001b[?25h  Preparing metadata (setup.py) ... \u001b[?25l\u001b[?25hdone\n",
      "Requirement already satisfied: cffi>=1.10.0 in /usr/local/lib/python3.10/dist-packages (from rpy2==3.5.1) (1.15.1)\n",
      "Requirement already satisfied: jinja2 in /usr/local/lib/python3.10/dist-packages (from rpy2==3.5.1) (3.1.2)\n",
      "Requirement already satisfied: pytz in /usr/local/lib/python3.10/dist-packages (from rpy2==3.5.1) (2022.7.1)\n",
      "Requirement already satisfied: tzlocal in /usr/local/lib/python3.10/dist-packages (from rpy2==3.5.1) (4.3)\n",
      "Requirement already satisfied: pycparser in /usr/local/lib/python3.10/dist-packages (from cffi>=1.10.0->rpy2==3.5.1) (2.21)\n",
      "Requirement already satisfied: MarkupSafe>=2.0 in /usr/local/lib/python3.10/dist-packages (from jinja2->rpy2==3.5.1) (2.1.2)\n",
      "Requirement already satisfied: pytz-deprecation-shim in /usr/local/lib/python3.10/dist-packages (from tzlocal->rpy2==3.5.1) (0.1.0.post0)\n",
      "Requirement already satisfied: tzdata in /usr/local/lib/python3.10/dist-packages (from pytz-deprecation-shim->tzlocal->rpy2==3.5.1) (2023.3)\n",
      "Building wheels for collected packages: rpy2\n",
      "  Building wheel for rpy2 (setup.py) ... \u001b[?25l\u001b[?25hdone\n",
      "  Created wheel for rpy2: filename=rpy2-3.5.1-cp310-cp310-linux_x86_64.whl size=318094 sha256=8580e2d9bffba74cfac724dd369e1d0bd7ab7cefa886ea296a390a711f8f504a\n",
      "  Stored in directory: /root/.cache/pip/wheels/73/a6/ff/4e75dd1ce1cfa2b9a670cbccf6a1e41c553199e9b25f05d953\n",
      "Successfully built rpy2\n",
      "Installing collected packages: rpy2\n",
      "  Attempting uninstall: rpy2\n",
      "    Found existing installation: rpy2 3.5.5\n",
      "    Uninstalling rpy2-3.5.5:\n",
      "      Successfully uninstalled rpy2-3.5.5\n",
      "\u001b[31mERROR: pip's dependency resolver does not currently take into account all the packages that are installed. This behaviour is the source of the following dependency conflicts.\n",
      "bregclust 1.0 requires joblib~=1.1.0, but you have joblib 1.2.0 which is incompatible.\n",
      "bregclust 1.0 requires numpy==1.24.2, but you have numpy 1.22.4 which is incompatible.\u001b[0m\u001b[31m\n",
      "\u001b[0mSuccessfully installed rpy2-3.5.1\n"
     ]
    }
   ],
   "source": [
    "!pip install --upgrade --force-reinstall git+https://github.com/FelipeSchreiber/BregmanClustering.git --no-deps\n",
    "!pip install torch_geometric \n",
    "### Comment line below if in Google Colab environment\n",
    "import os\n",
    "import pickle\n",
    "from sys import platform\n",
    "import BregmanTests\n",
    "os.chmod(BregmanTests.__path__[0]+\"/install_algos.sh\",777)\n",
    "if platform == \"win32\":\n",
    "    os.environ[\"R_HOME\"] = r\"C:\\\\Program Files\\R\\R-4.2.3\"\n",
    "else:\n",
    "    ### Uncomment line below if in Google Colab environment\n",
    "    print(os.path.isfile(BregmanTests.__path__[0]+\"/install_algos.sh\"))\n",
    "    ### Done\n",
    "!pip install rpy2==3.5.1"
   ]
  },
  {
   "cell_type": "code",
   "execution_count": 2,
   "id": "4w2gsGfqMbhn",
   "metadata": {
    "colab": {
     "base_uri": "https://localhost:8080/"
    },
    "id": "4w2gsGfqMbhn",
    "outputId": "a4af680e-4464-4b75-e753-509333a74e95"
   },
   "outputs": [
    {
     "name": "stdout",
     "output_type": "stream",
     "text": [
      "Downloading packages from github...\n",
      "\n",
      "Accessing /usr/local/lib/python3.10/dist-packages/BregmanTests/install_algos.sh\n",
      "Installing R packages...\n",
      " This step takes about 5 min...\n",
      "\n"
     ]
    },
    {
     "name": "stderr",
     "output_type": "stream",
     "text": [
      "WARNING:rpy2.rinterface_lib.callbacks:R[write to console]: Installing packages into ‘/usr/local/lib/R/site-library’\n",
      "(as ‘lib’ is unspecified)\n",
      "\n",
      "WARNING:rpy2.rinterface_lib.callbacks:R[write to console]: also installing the dependencies ‘Rcpp’, ‘RcppTOML’, ‘here’, ‘png’\n",
      "\n",
      "\n",
      "WARNING:rpy2.rinterface_lib.callbacks:R[write to console]: trying URL 'https://cloud.r-project.org/src/contrib/Rcpp_1.0.10.tar.gz'\n",
      "\n",
      "WARNING:rpy2.rinterface_lib.callbacks:R[write to console]: Content type 'application/x-gzip'\n",
      "WARNING:rpy2.rinterface_lib.callbacks:R[write to console]:  length 2936173 bytes (2.8 MB)\n",
      "\n",
      "WARNING:rpy2.rinterface_lib.callbacks:R[write to console]: =\n",
      "WARNING:rpy2.rinterface_lib.callbacks:R[write to console]: =\n",
      "WARNING:rpy2.rinterface_lib.callbacks:R[write to console]: =\n",
      "WARNING:rpy2.rinterface_lib.callbacks:R[write to console]: =\n",
      "WARNING:rpy2.rinterface_lib.callbacks:R[write to console]: =\n",
      "WARNING:rpy2.rinterface_lib.callbacks:R[write to console]: =\n",
      "WARNING:rpy2.rinterface_lib.callbacks:R[write to console]: =\n",
      "WARNING:rpy2.rinterface_lib.callbacks:R[write to console]: =\n",
      "WARNING:rpy2.rinterface_lib.callbacks:R[write to console]: =\n",
      "WARNING:rpy2.rinterface_lib.callbacks:R[write to console]: =\n",
      "WARNING:rpy2.rinterface_lib.callbacks:R[write to console]: =\n",
      "WARNING:rpy2.rinterface_lib.callbacks:R[write to console]: =\n",
      "WARNING:rpy2.rinterface_lib.callbacks:R[write to console]: =\n",
      "WARNING:rpy2.rinterface_lib.callbacks:R[write to console]: =\n",
      "WARNING:rpy2.rinterface_lib.callbacks:R[write to console]: =\n",
      "WARNING:rpy2.rinterface_lib.callbacks:R[write to console]: =\n",
      "WARNING:rpy2.rinterface_lib.callbacks:R[write to console]: =\n",
      "WARNING:rpy2.rinterface_lib.callbacks:R[write to console]: =\n",
      "WARNING:rpy2.rinterface_lib.callbacks:R[write to console]: =\n",
      "WARNING:rpy2.rinterface_lib.callbacks:R[write to console]: =\n",
      "WARNING:rpy2.rinterface_lib.callbacks:R[write to console]: =\n",
      "WARNING:rpy2.rinterface_lib.callbacks:R[write to console]: =\n",
      "WARNING:rpy2.rinterface_lib.callbacks:R[write to console]: =\n",
      "WARNING:rpy2.rinterface_lib.callbacks:R[write to console]: =\n",
      "WARNING:rpy2.rinterface_lib.callbacks:R[write to console]: =\n",
      "WARNING:rpy2.rinterface_lib.callbacks:R[write to console]: =\n",
      "WARNING:rpy2.rinterface_lib.callbacks:R[write to console]: =\n",
      "WARNING:rpy2.rinterface_lib.callbacks:R[write to console]: =\n",
      "WARNING:rpy2.rinterface_lib.callbacks:R[write to console]: =\n",
      "WARNING:rpy2.rinterface_lib.callbacks:R[write to console]: =\n",
      "WARNING:rpy2.rinterface_lib.callbacks:R[write to console]: =\n",
      "WARNING:rpy2.rinterface_lib.callbacks:R[write to console]: =\n",
      "WARNING:rpy2.rinterface_lib.callbacks:R[write to console]: =\n",
      "WARNING:rpy2.rinterface_lib.callbacks:R[write to console]: =\n",
      "WARNING:rpy2.rinterface_lib.callbacks:R[write to console]: =\n",
      "WARNING:rpy2.rinterface_lib.callbacks:R[write to console]: =\n",
      "WARNING:rpy2.rinterface_lib.callbacks:R[write to console]: =\n",
      "WARNING:rpy2.rinterface_lib.callbacks:R[write to console]: =\n",
      "WARNING:rpy2.rinterface_lib.callbacks:R[write to console]: =\n",
      "WARNING:rpy2.rinterface_lib.callbacks:R[write to console]: =\n",
      "WARNING:rpy2.rinterface_lib.callbacks:R[write to console]: =\n",
      "WARNING:rpy2.rinterface_lib.callbacks:R[write to console]: =\n",
      "WARNING:rpy2.rinterface_lib.callbacks:R[write to console]: =\n",
      "WARNING:rpy2.rinterface_lib.callbacks:R[write to console]: =\n",
      "WARNING:rpy2.rinterface_lib.callbacks:R[write to console]: =\n",
      "WARNING:rpy2.rinterface_lib.callbacks:R[write to console]: =\n",
      "WARNING:rpy2.rinterface_lib.callbacks:R[write to console]: =\n",
      "WARNING:rpy2.rinterface_lib.callbacks:R[write to console]: =\n",
      "WARNING:rpy2.rinterface_lib.callbacks:R[write to console]: =\n",
      "WARNING:rpy2.rinterface_lib.callbacks:R[write to console]: =\n",
      "WARNING:rpy2.rinterface_lib.callbacks:R[write to console]: \n",
      "\n",
      "WARNING:rpy2.rinterface_lib.callbacks:R[write to console]: downloaded 2.8 MB\n",
      "\n",
      "\n",
      "WARNING:rpy2.rinterface_lib.callbacks:R[write to console]: trying URL 'https://cloud.r-project.org/src/contrib/RcppTOML_0.2.2.tar.gz'\n",
      "\n",
      "WARNING:rpy2.rinterface_lib.callbacks:R[write to console]: Content type 'application/x-gzip'\n",
      "WARNING:rpy2.rinterface_lib.callbacks:R[write to console]:  length 141195 bytes (137 KB)\n",
      "\n",
      "WARNING:rpy2.rinterface_lib.callbacks:R[write to console]: =\n",
      "WARNING:rpy2.rinterface_lib.callbacks:R[write to console]: =\n",
      "WARNING:rpy2.rinterface_lib.callbacks:R[write to console]: =\n",
      "WARNING:rpy2.rinterface_lib.callbacks:R[write to console]: =\n",
      "WARNING:rpy2.rinterface_lib.callbacks:R[write to console]: =\n",
      "WARNING:rpy2.rinterface_lib.callbacks:R[write to console]: =\n",
      "WARNING:rpy2.rinterface_lib.callbacks:R[write to console]: =\n",
      "WARNING:rpy2.rinterface_lib.callbacks:R[write to console]: =\n",
      "WARNING:rpy2.rinterface_lib.callbacks:R[write to console]: =\n",
      "WARNING:rpy2.rinterface_lib.callbacks:R[write to console]: =\n",
      "WARNING:rpy2.rinterface_lib.callbacks:R[write to console]: =\n",
      "WARNING:rpy2.rinterface_lib.callbacks:R[write to console]: =\n",
      "WARNING:rpy2.rinterface_lib.callbacks:R[write to console]: =\n",
      "WARNING:rpy2.rinterface_lib.callbacks:R[write to console]: =\n",
      "WARNING:rpy2.rinterface_lib.callbacks:R[write to console]: =\n",
      "WARNING:rpy2.rinterface_lib.callbacks:R[write to console]: =\n",
      "WARNING:rpy2.rinterface_lib.callbacks:R[write to console]: =\n",
      "WARNING:rpy2.rinterface_lib.callbacks:R[write to console]: =\n",
      "WARNING:rpy2.rinterface_lib.callbacks:R[write to console]: =\n",
      "WARNING:rpy2.rinterface_lib.callbacks:R[write to console]: =\n",
      "WARNING:rpy2.rinterface_lib.callbacks:R[write to console]: =\n",
      "WARNING:rpy2.rinterface_lib.callbacks:R[write to console]: =\n",
      "WARNING:rpy2.rinterface_lib.callbacks:R[write to console]: =\n",
      "WARNING:rpy2.rinterface_lib.callbacks:R[write to console]: =\n",
      "WARNING:rpy2.rinterface_lib.callbacks:R[write to console]: =\n",
      "WARNING:rpy2.rinterface_lib.callbacks:R[write to console]: =\n",
      "WARNING:rpy2.rinterface_lib.callbacks:R[write to console]: =\n",
      "WARNING:rpy2.rinterface_lib.callbacks:R[write to console]: =\n",
      "WARNING:rpy2.rinterface_lib.callbacks:R[write to console]: =\n",
      "WARNING:rpy2.rinterface_lib.callbacks:R[write to console]: =\n",
      "WARNING:rpy2.rinterface_lib.callbacks:R[write to console]: =\n",
      "WARNING:rpy2.rinterface_lib.callbacks:R[write to console]: =\n",
      "WARNING:rpy2.rinterface_lib.callbacks:R[write to console]: =\n",
      "WARNING:rpy2.rinterface_lib.callbacks:R[write to console]: =\n",
      "WARNING:rpy2.rinterface_lib.callbacks:R[write to console]: =\n",
      "WARNING:rpy2.rinterface_lib.callbacks:R[write to console]: =\n",
      "WARNING:rpy2.rinterface_lib.callbacks:R[write to console]: =\n",
      "WARNING:rpy2.rinterface_lib.callbacks:R[write to console]: =\n",
      "WARNING:rpy2.rinterface_lib.callbacks:R[write to console]: =\n",
      "WARNING:rpy2.rinterface_lib.callbacks:R[write to console]: =\n",
      "WARNING:rpy2.rinterface_lib.callbacks:R[write to console]: =\n",
      "WARNING:rpy2.rinterface_lib.callbacks:R[write to console]: =\n",
      "WARNING:rpy2.rinterface_lib.callbacks:R[write to console]: =\n",
      "WARNING:rpy2.rinterface_lib.callbacks:R[write to console]: =\n",
      "WARNING:rpy2.rinterface_lib.callbacks:R[write to console]: =\n",
      "WARNING:rpy2.rinterface_lib.callbacks:R[write to console]: =\n",
      "WARNING:rpy2.rinterface_lib.callbacks:R[write to console]: =\n",
      "WARNING:rpy2.rinterface_lib.callbacks:R[write to console]: =\n",
      "WARNING:rpy2.rinterface_lib.callbacks:R[write to console]: =\n",
      "WARNING:rpy2.rinterface_lib.callbacks:R[write to console]: =\n",
      "WARNING:rpy2.rinterface_lib.callbacks:R[write to console]: \n",
      "\n",
      "WARNING:rpy2.rinterface_lib.callbacks:R[write to console]: downloaded 137 KB\n",
      "\n",
      "\n",
      "WARNING:rpy2.rinterface_lib.callbacks:R[write to console]: trying URL 'https://cloud.r-project.org/src/contrib/here_1.0.1.tar.gz'\n",
      "\n",
      "WARNING:rpy2.rinterface_lib.callbacks:R[write to console]: Content type 'application/x-gzip'\n",
      "WARNING:rpy2.rinterface_lib.callbacks:R[write to console]:  length 32954 bytes (32 KB)\n",
      "\n",
      "WARNING:rpy2.rinterface_lib.callbacks:R[write to console]: =\n",
      "WARNING:rpy2.rinterface_lib.callbacks:R[write to console]: =\n",
      "WARNING:rpy2.rinterface_lib.callbacks:R[write to console]: =\n",
      "WARNING:rpy2.rinterface_lib.callbacks:R[write to console]: =\n",
      "WARNING:rpy2.rinterface_lib.callbacks:R[write to console]: =\n",
      "WARNING:rpy2.rinterface_lib.callbacks:R[write to console]: =\n",
      "WARNING:rpy2.rinterface_lib.callbacks:R[write to console]: =\n",
      "WARNING:rpy2.rinterface_lib.callbacks:R[write to console]: =\n",
      "WARNING:rpy2.rinterface_lib.callbacks:R[write to console]: =\n",
      "WARNING:rpy2.rinterface_lib.callbacks:R[write to console]: =\n",
      "WARNING:rpy2.rinterface_lib.callbacks:R[write to console]: =\n",
      "WARNING:rpy2.rinterface_lib.callbacks:R[write to console]: =\n",
      "WARNING:rpy2.rinterface_lib.callbacks:R[write to console]: =\n",
      "WARNING:rpy2.rinterface_lib.callbacks:R[write to console]: =\n",
      "WARNING:rpy2.rinterface_lib.callbacks:R[write to console]: =\n",
      "WARNING:rpy2.rinterface_lib.callbacks:R[write to console]: =\n",
      "WARNING:rpy2.rinterface_lib.callbacks:R[write to console]: =\n",
      "WARNING:rpy2.rinterface_lib.callbacks:R[write to console]: =\n",
      "WARNING:rpy2.rinterface_lib.callbacks:R[write to console]: =\n",
      "WARNING:rpy2.rinterface_lib.callbacks:R[write to console]: =\n",
      "WARNING:rpy2.rinterface_lib.callbacks:R[write to console]: =\n",
      "WARNING:rpy2.rinterface_lib.callbacks:R[write to console]: =\n",
      "WARNING:rpy2.rinterface_lib.callbacks:R[write to console]: =\n",
      "WARNING:rpy2.rinterface_lib.callbacks:R[write to console]: =\n",
      "WARNING:rpy2.rinterface_lib.callbacks:R[write to console]: =\n",
      "WARNING:rpy2.rinterface_lib.callbacks:R[write to console]: =\n",
      "WARNING:rpy2.rinterface_lib.callbacks:R[write to console]: =\n",
      "WARNING:rpy2.rinterface_lib.callbacks:R[write to console]: =\n",
      "WARNING:rpy2.rinterface_lib.callbacks:R[write to console]: =\n",
      "WARNING:rpy2.rinterface_lib.callbacks:R[write to console]: =\n",
      "WARNING:rpy2.rinterface_lib.callbacks:R[write to console]: =\n",
      "WARNING:rpy2.rinterface_lib.callbacks:R[write to console]: =\n",
      "WARNING:rpy2.rinterface_lib.callbacks:R[write to console]: =\n",
      "WARNING:rpy2.rinterface_lib.callbacks:R[write to console]: =\n",
      "WARNING:rpy2.rinterface_lib.callbacks:R[write to console]: =\n",
      "WARNING:rpy2.rinterface_lib.callbacks:R[write to console]: =\n",
      "WARNING:rpy2.rinterface_lib.callbacks:R[write to console]: =\n",
      "WARNING:rpy2.rinterface_lib.callbacks:R[write to console]: =\n",
      "WARNING:rpy2.rinterface_lib.callbacks:R[write to console]: =\n",
      "WARNING:rpy2.rinterface_lib.callbacks:R[write to console]: =\n",
      "WARNING:rpy2.rinterface_lib.callbacks:R[write to console]: =\n",
      "WARNING:rpy2.rinterface_lib.callbacks:R[write to console]: =\n",
      "WARNING:rpy2.rinterface_lib.callbacks:R[write to console]: =\n",
      "WARNING:rpy2.rinterface_lib.callbacks:R[write to console]: =\n",
      "WARNING:rpy2.rinterface_lib.callbacks:R[write to console]: =\n",
      "WARNING:rpy2.rinterface_lib.callbacks:R[write to console]: =\n",
      "WARNING:rpy2.rinterface_lib.callbacks:R[write to console]: =\n",
      "WARNING:rpy2.rinterface_lib.callbacks:R[write to console]: =\n",
      "WARNING:rpy2.rinterface_lib.callbacks:R[write to console]: =\n",
      "WARNING:rpy2.rinterface_lib.callbacks:R[write to console]: =\n",
      "WARNING:rpy2.rinterface_lib.callbacks:R[write to console]: \n",
      "\n",
      "WARNING:rpy2.rinterface_lib.callbacks:R[write to console]: downloaded 32 KB\n",
      "\n",
      "\n",
      "WARNING:rpy2.rinterface_lib.callbacks:R[write to console]: trying URL 'https://cloud.r-project.org/src/contrib/png_0.1-8.tar.gz'\n",
      "\n",
      "WARNING:rpy2.rinterface_lib.callbacks:R[write to console]: Content type 'application/x-gzip'\n",
      "WARNING:rpy2.rinterface_lib.callbacks:R[write to console]:  length 24880 bytes (24 KB)\n",
      "\n",
      "WARNING:rpy2.rinterface_lib.callbacks:R[write to console]: =\n",
      "WARNING:rpy2.rinterface_lib.callbacks:R[write to console]: =\n",
      "WARNING:rpy2.rinterface_lib.callbacks:R[write to console]: =\n",
      "WARNING:rpy2.rinterface_lib.callbacks:R[write to console]: =\n",
      "WARNING:rpy2.rinterface_lib.callbacks:R[write to console]: =\n",
      "WARNING:rpy2.rinterface_lib.callbacks:R[write to console]: =\n",
      "WARNING:rpy2.rinterface_lib.callbacks:R[write to console]: =\n",
      "WARNING:rpy2.rinterface_lib.callbacks:R[write to console]: =\n",
      "WARNING:rpy2.rinterface_lib.callbacks:R[write to console]: =\n",
      "WARNING:rpy2.rinterface_lib.callbacks:R[write to console]: =\n",
      "WARNING:rpy2.rinterface_lib.callbacks:R[write to console]: =\n",
      "WARNING:rpy2.rinterface_lib.callbacks:R[write to console]: =\n",
      "WARNING:rpy2.rinterface_lib.callbacks:R[write to console]: =\n",
      "WARNING:rpy2.rinterface_lib.callbacks:R[write to console]: =\n",
      "WARNING:rpy2.rinterface_lib.callbacks:R[write to console]: =\n",
      "WARNING:rpy2.rinterface_lib.callbacks:R[write to console]: =\n",
      "WARNING:rpy2.rinterface_lib.callbacks:R[write to console]: =\n",
      "WARNING:rpy2.rinterface_lib.callbacks:R[write to console]: =\n",
      "WARNING:rpy2.rinterface_lib.callbacks:R[write to console]: =\n",
      "WARNING:rpy2.rinterface_lib.callbacks:R[write to console]: =\n",
      "WARNING:rpy2.rinterface_lib.callbacks:R[write to console]: =\n",
      "WARNING:rpy2.rinterface_lib.callbacks:R[write to console]: =\n",
      "WARNING:rpy2.rinterface_lib.callbacks:R[write to console]: =\n",
      "WARNING:rpy2.rinterface_lib.callbacks:R[write to console]: =\n",
      "WARNING:rpy2.rinterface_lib.callbacks:R[write to console]: =\n",
      "WARNING:rpy2.rinterface_lib.callbacks:R[write to console]: =\n",
      "WARNING:rpy2.rinterface_lib.callbacks:R[write to console]: =\n",
      "WARNING:rpy2.rinterface_lib.callbacks:R[write to console]: =\n",
      "WARNING:rpy2.rinterface_lib.callbacks:R[write to console]: =\n",
      "WARNING:rpy2.rinterface_lib.callbacks:R[write to console]: =\n",
      "WARNING:rpy2.rinterface_lib.callbacks:R[write to console]: =\n",
      "WARNING:rpy2.rinterface_lib.callbacks:R[write to console]: =\n",
      "WARNING:rpy2.rinterface_lib.callbacks:R[write to console]: =\n",
      "WARNING:rpy2.rinterface_lib.callbacks:R[write to console]: =\n",
      "WARNING:rpy2.rinterface_lib.callbacks:R[write to console]: =\n",
      "WARNING:rpy2.rinterface_lib.callbacks:R[write to console]: =\n",
      "WARNING:rpy2.rinterface_lib.callbacks:R[write to console]: =\n",
      "WARNING:rpy2.rinterface_lib.callbacks:R[write to console]: =\n",
      "WARNING:rpy2.rinterface_lib.callbacks:R[write to console]: =\n",
      "WARNING:rpy2.rinterface_lib.callbacks:R[write to console]: =\n",
      "WARNING:rpy2.rinterface_lib.callbacks:R[write to console]: =\n",
      "WARNING:rpy2.rinterface_lib.callbacks:R[write to console]: =\n",
      "WARNING:rpy2.rinterface_lib.callbacks:R[write to console]: =\n",
      "WARNING:rpy2.rinterface_lib.callbacks:R[write to console]: =\n",
      "WARNING:rpy2.rinterface_lib.callbacks:R[write to console]: =\n",
      "WARNING:rpy2.rinterface_lib.callbacks:R[write to console]: =\n",
      "WARNING:rpy2.rinterface_lib.callbacks:R[write to console]: =\n",
      "WARNING:rpy2.rinterface_lib.callbacks:R[write to console]: =\n",
      "WARNING:rpy2.rinterface_lib.callbacks:R[write to console]: =\n",
      "WARNING:rpy2.rinterface_lib.callbacks:R[write to console]: =\n",
      "WARNING:rpy2.rinterface_lib.callbacks:R[write to console]: \n",
      "\n",
      "WARNING:rpy2.rinterface_lib.callbacks:R[write to console]: downloaded 24 KB\n",
      "\n",
      "\n",
      "WARNING:rpy2.rinterface_lib.callbacks:R[write to console]: trying URL 'https://cloud.r-project.org/src/contrib/igraph_1.4.2.tar.gz'\n",
      "\n",
      "WARNING:rpy2.rinterface_lib.callbacks:R[write to console]: Content type 'application/x-gzip'\n",
      "WARNING:rpy2.rinterface_lib.callbacks:R[write to console]:  length 3308627 bytes (3.2 MB)\n",
      "\n",
      "WARNING:rpy2.rinterface_lib.callbacks:R[write to console]: =\n",
      "WARNING:rpy2.rinterface_lib.callbacks:R[write to console]: =\n",
      "WARNING:rpy2.rinterface_lib.callbacks:R[write to console]: =\n",
      "WARNING:rpy2.rinterface_lib.callbacks:R[write to console]: =\n",
      "WARNING:rpy2.rinterface_lib.callbacks:R[write to console]: =\n",
      "WARNING:rpy2.rinterface_lib.callbacks:R[write to console]: =\n",
      "WARNING:rpy2.rinterface_lib.callbacks:R[write to console]: =\n",
      "WARNING:rpy2.rinterface_lib.callbacks:R[write to console]: =\n",
      "WARNING:rpy2.rinterface_lib.callbacks:R[write to console]: =\n",
      "WARNING:rpy2.rinterface_lib.callbacks:R[write to console]: =\n",
      "WARNING:rpy2.rinterface_lib.callbacks:R[write to console]: =\n",
      "WARNING:rpy2.rinterface_lib.callbacks:R[write to console]: =\n",
      "WARNING:rpy2.rinterface_lib.callbacks:R[write to console]: =\n",
      "WARNING:rpy2.rinterface_lib.callbacks:R[write to console]: =\n",
      "WARNING:rpy2.rinterface_lib.callbacks:R[write to console]: =\n",
      "WARNING:rpy2.rinterface_lib.callbacks:R[write to console]: =\n",
      "WARNING:rpy2.rinterface_lib.callbacks:R[write to console]: =\n",
      "WARNING:rpy2.rinterface_lib.callbacks:R[write to console]: =\n",
      "WARNING:rpy2.rinterface_lib.callbacks:R[write to console]: =\n",
      "WARNING:rpy2.rinterface_lib.callbacks:R[write to console]: =\n",
      "WARNING:rpy2.rinterface_lib.callbacks:R[write to console]: =\n",
      "WARNING:rpy2.rinterface_lib.callbacks:R[write to console]: =\n",
      "WARNING:rpy2.rinterface_lib.callbacks:R[write to console]: =\n",
      "WARNING:rpy2.rinterface_lib.callbacks:R[write to console]: =\n",
      "WARNING:rpy2.rinterface_lib.callbacks:R[write to console]: =\n",
      "WARNING:rpy2.rinterface_lib.callbacks:R[write to console]: =\n",
      "WARNING:rpy2.rinterface_lib.callbacks:R[write to console]: =\n",
      "WARNING:rpy2.rinterface_lib.callbacks:R[write to console]: =\n",
      "WARNING:rpy2.rinterface_lib.callbacks:R[write to console]: =\n",
      "WARNING:rpy2.rinterface_lib.callbacks:R[write to console]: =\n",
      "WARNING:rpy2.rinterface_lib.callbacks:R[write to console]: =\n",
      "WARNING:rpy2.rinterface_lib.callbacks:R[write to console]: =\n",
      "WARNING:rpy2.rinterface_lib.callbacks:R[write to console]: =\n",
      "WARNING:rpy2.rinterface_lib.callbacks:R[write to console]: =\n",
      "WARNING:rpy2.rinterface_lib.callbacks:R[write to console]: =\n",
      "WARNING:rpy2.rinterface_lib.callbacks:R[write to console]: =\n",
      "WARNING:rpy2.rinterface_lib.callbacks:R[write to console]: =\n",
      "WARNING:rpy2.rinterface_lib.callbacks:R[write to console]: =\n",
      "WARNING:rpy2.rinterface_lib.callbacks:R[write to console]: =\n",
      "WARNING:rpy2.rinterface_lib.callbacks:R[write to console]: =\n",
      "WARNING:rpy2.rinterface_lib.callbacks:R[write to console]: =\n",
      "WARNING:rpy2.rinterface_lib.callbacks:R[write to console]: =\n",
      "WARNING:rpy2.rinterface_lib.callbacks:R[write to console]: =\n",
      "WARNING:rpy2.rinterface_lib.callbacks:R[write to console]: =\n",
      "WARNING:rpy2.rinterface_lib.callbacks:R[write to console]: =\n",
      "WARNING:rpy2.rinterface_lib.callbacks:R[write to console]: =\n",
      "WARNING:rpy2.rinterface_lib.callbacks:R[write to console]: =\n",
      "WARNING:rpy2.rinterface_lib.callbacks:R[write to console]: =\n",
      "WARNING:rpy2.rinterface_lib.callbacks:R[write to console]: =\n",
      "WARNING:rpy2.rinterface_lib.callbacks:R[write to console]: =\n",
      "WARNING:rpy2.rinterface_lib.callbacks:R[write to console]: \n",
      "\n",
      "WARNING:rpy2.rinterface_lib.callbacks:R[write to console]: downloaded 3.2 MB\n",
      "\n",
      "\n",
      "WARNING:rpy2.rinterface_lib.callbacks:R[write to console]: trying URL 'https://cloud.r-project.org/src/contrib/reticulate_1.28.tar.gz'\n",
      "\n",
      "WARNING:rpy2.rinterface_lib.callbacks:R[write to console]: Content type 'application/x-gzip'\n",
      "WARNING:rpy2.rinterface_lib.callbacks:R[write to console]:  length 1551312 bytes (1.5 MB)\n",
      "\n",
      "WARNING:rpy2.rinterface_lib.callbacks:R[write to console]: =\n",
      "WARNING:rpy2.rinterface_lib.callbacks:R[write to console]: =\n",
      "WARNING:rpy2.rinterface_lib.callbacks:R[write to console]: =\n",
      "WARNING:rpy2.rinterface_lib.callbacks:R[write to console]: =\n",
      "WARNING:rpy2.rinterface_lib.callbacks:R[write to console]: =\n",
      "WARNING:rpy2.rinterface_lib.callbacks:R[write to console]: =\n",
      "WARNING:rpy2.rinterface_lib.callbacks:R[write to console]: =\n",
      "WARNING:rpy2.rinterface_lib.callbacks:R[write to console]: =\n",
      "WARNING:rpy2.rinterface_lib.callbacks:R[write to console]: =\n",
      "WARNING:rpy2.rinterface_lib.callbacks:R[write to console]: =\n",
      "WARNING:rpy2.rinterface_lib.callbacks:R[write to console]: =\n",
      "WARNING:rpy2.rinterface_lib.callbacks:R[write to console]: =\n",
      "WARNING:rpy2.rinterface_lib.callbacks:R[write to console]: =\n",
      "WARNING:rpy2.rinterface_lib.callbacks:R[write to console]: =\n",
      "WARNING:rpy2.rinterface_lib.callbacks:R[write to console]: =\n",
      "WARNING:rpy2.rinterface_lib.callbacks:R[write to console]: =\n",
      "WARNING:rpy2.rinterface_lib.callbacks:R[write to console]: =\n",
      "WARNING:rpy2.rinterface_lib.callbacks:R[write to console]: =\n",
      "WARNING:rpy2.rinterface_lib.callbacks:R[write to console]: =\n",
      "WARNING:rpy2.rinterface_lib.callbacks:R[write to console]: =\n",
      "WARNING:rpy2.rinterface_lib.callbacks:R[write to console]: =\n",
      "WARNING:rpy2.rinterface_lib.callbacks:R[write to console]: =\n",
      "WARNING:rpy2.rinterface_lib.callbacks:R[write to console]: =\n",
      "WARNING:rpy2.rinterface_lib.callbacks:R[write to console]: =\n",
      "WARNING:rpy2.rinterface_lib.callbacks:R[write to console]: =\n",
      "WARNING:rpy2.rinterface_lib.callbacks:R[write to console]: =\n",
      "WARNING:rpy2.rinterface_lib.callbacks:R[write to console]: =\n",
      "WARNING:rpy2.rinterface_lib.callbacks:R[write to console]: =\n",
      "WARNING:rpy2.rinterface_lib.callbacks:R[write to console]: =\n",
      "WARNING:rpy2.rinterface_lib.callbacks:R[write to console]: =\n",
      "WARNING:rpy2.rinterface_lib.callbacks:R[write to console]: =\n",
      "WARNING:rpy2.rinterface_lib.callbacks:R[write to console]: =\n",
      "WARNING:rpy2.rinterface_lib.callbacks:R[write to console]: =\n",
      "WARNING:rpy2.rinterface_lib.callbacks:R[write to console]: =\n",
      "WARNING:rpy2.rinterface_lib.callbacks:R[write to console]: =\n",
      "WARNING:rpy2.rinterface_lib.callbacks:R[write to console]: =\n",
      "WARNING:rpy2.rinterface_lib.callbacks:R[write to console]: =\n",
      "WARNING:rpy2.rinterface_lib.callbacks:R[write to console]: =\n",
      "WARNING:rpy2.rinterface_lib.callbacks:R[write to console]: =\n",
      "WARNING:rpy2.rinterface_lib.callbacks:R[write to console]: =\n",
      "WARNING:rpy2.rinterface_lib.callbacks:R[write to console]: =\n",
      "WARNING:rpy2.rinterface_lib.callbacks:R[write to console]: =\n",
      "WARNING:rpy2.rinterface_lib.callbacks:R[write to console]: =\n",
      "WARNING:rpy2.rinterface_lib.callbacks:R[write to console]: =\n",
      "WARNING:rpy2.rinterface_lib.callbacks:R[write to console]: =\n",
      "WARNING:rpy2.rinterface_lib.callbacks:R[write to console]: =\n",
      "WARNING:rpy2.rinterface_lib.callbacks:R[write to console]: =\n",
      "WARNING:rpy2.rinterface_lib.callbacks:R[write to console]: =\n",
      "WARNING:rpy2.rinterface_lib.callbacks:R[write to console]: =\n",
      "WARNING:rpy2.rinterface_lib.callbacks:R[write to console]: =\n",
      "WARNING:rpy2.rinterface_lib.callbacks:R[write to console]: \n",
      "\n",
      "WARNING:rpy2.rinterface_lib.callbacks:R[write to console]: downloaded 1.5 MB\n",
      "\n",
      "\n",
      "WARNING:rpy2.rinterface_lib.callbacks:R[write to console]: trying URL 'https://cloud.r-project.org/src/contrib/mvtnorm_1.1-3.tar.gz'\n",
      "\n",
      "WARNING:rpy2.rinterface_lib.callbacks:R[write to console]: Content type 'application/x-gzip'\n",
      "WARNING:rpy2.rinterface_lib.callbacks:R[write to console]:  length 166421 bytes (162 KB)\n",
      "\n",
      "WARNING:rpy2.rinterface_lib.callbacks:R[write to console]: =\n",
      "WARNING:rpy2.rinterface_lib.callbacks:R[write to console]: =\n",
      "WARNING:rpy2.rinterface_lib.callbacks:R[write to console]: =\n",
      "WARNING:rpy2.rinterface_lib.callbacks:R[write to console]: =\n",
      "WARNING:rpy2.rinterface_lib.callbacks:R[write to console]: =\n",
      "WARNING:rpy2.rinterface_lib.callbacks:R[write to console]: =\n",
      "WARNING:rpy2.rinterface_lib.callbacks:R[write to console]: =\n",
      "WARNING:rpy2.rinterface_lib.callbacks:R[write to console]: =\n",
      "WARNING:rpy2.rinterface_lib.callbacks:R[write to console]: =\n",
      "WARNING:rpy2.rinterface_lib.callbacks:R[write to console]: =\n",
      "WARNING:rpy2.rinterface_lib.callbacks:R[write to console]: =\n",
      "WARNING:rpy2.rinterface_lib.callbacks:R[write to console]: =\n",
      "WARNING:rpy2.rinterface_lib.callbacks:R[write to console]: =\n",
      "WARNING:rpy2.rinterface_lib.callbacks:R[write to console]: =\n",
      "WARNING:rpy2.rinterface_lib.callbacks:R[write to console]: =\n",
      "WARNING:rpy2.rinterface_lib.callbacks:R[write to console]: =\n",
      "WARNING:rpy2.rinterface_lib.callbacks:R[write to console]: =\n",
      "WARNING:rpy2.rinterface_lib.callbacks:R[write to console]: =\n",
      "WARNING:rpy2.rinterface_lib.callbacks:R[write to console]: =\n",
      "WARNING:rpy2.rinterface_lib.callbacks:R[write to console]: =\n",
      "WARNING:rpy2.rinterface_lib.callbacks:R[write to console]: =\n",
      "WARNING:rpy2.rinterface_lib.callbacks:R[write to console]: =\n",
      "WARNING:rpy2.rinterface_lib.callbacks:R[write to console]: =\n",
      "WARNING:rpy2.rinterface_lib.callbacks:R[write to console]: =\n",
      "WARNING:rpy2.rinterface_lib.callbacks:R[write to console]: =\n",
      "WARNING:rpy2.rinterface_lib.callbacks:R[write to console]: =\n",
      "WARNING:rpy2.rinterface_lib.callbacks:R[write to console]: =\n",
      "WARNING:rpy2.rinterface_lib.callbacks:R[write to console]: =\n",
      "WARNING:rpy2.rinterface_lib.callbacks:R[write to console]: =\n",
      "WARNING:rpy2.rinterface_lib.callbacks:R[write to console]: =\n",
      "WARNING:rpy2.rinterface_lib.callbacks:R[write to console]: =\n",
      "WARNING:rpy2.rinterface_lib.callbacks:R[write to console]: =\n",
      "WARNING:rpy2.rinterface_lib.callbacks:R[write to console]: =\n",
      "WARNING:rpy2.rinterface_lib.callbacks:R[write to console]: =\n",
      "WARNING:rpy2.rinterface_lib.callbacks:R[write to console]: =\n",
      "WARNING:rpy2.rinterface_lib.callbacks:R[write to console]: =\n",
      "WARNING:rpy2.rinterface_lib.callbacks:R[write to console]: =\n",
      "WARNING:rpy2.rinterface_lib.callbacks:R[write to console]: =\n",
      "WARNING:rpy2.rinterface_lib.callbacks:R[write to console]: =\n",
      "WARNING:rpy2.rinterface_lib.callbacks:R[write to console]: =\n",
      "WARNING:rpy2.rinterface_lib.callbacks:R[write to console]: =\n",
      "WARNING:rpy2.rinterface_lib.callbacks:R[write to console]: =\n",
      "WARNING:rpy2.rinterface_lib.callbacks:R[write to console]: =\n",
      "WARNING:rpy2.rinterface_lib.callbacks:R[write to console]: =\n",
      "WARNING:rpy2.rinterface_lib.callbacks:R[write to console]: =\n",
      "WARNING:rpy2.rinterface_lib.callbacks:R[write to console]: =\n",
      "WARNING:rpy2.rinterface_lib.callbacks:R[write to console]: =\n",
      "WARNING:rpy2.rinterface_lib.callbacks:R[write to console]: =\n",
      "WARNING:rpy2.rinterface_lib.callbacks:R[write to console]: =\n",
      "WARNING:rpy2.rinterface_lib.callbacks:R[write to console]: =\n",
      "WARNING:rpy2.rinterface_lib.callbacks:R[write to console]: \n",
      "\n",
      "WARNING:rpy2.rinterface_lib.callbacks:R[write to console]: downloaded 162 KB\n",
      "\n",
      "\n",
      "WARNING:rpy2.rinterface_lib.callbacks:R[write to console]: \n",
      "\n",
      "WARNING:rpy2.rinterface_lib.callbacks:R[write to console]: \n",
      "WARNING:rpy2.rinterface_lib.callbacks:R[write to console]: The downloaded source packages are in\n",
      "\t‘/tmp/RtmpIeCrnZ/downloaded_packages’\n",
      "WARNING:rpy2.rinterface_lib.callbacks:R[write to console]: \n",
      "WARNING:rpy2.rinterface_lib.callbacks:R[write to console]: \n",
      "\n"
     ]
    }
   ],
   "source": [
    "from BregmanTests.benchmark import *\n",
    "n_average = 1\n",
    "n = 300\n",
    "n_clusters = 3\n",
    "d = 1\n",
    "sizes = [ n // n_clusters ]*np.ones( n_clusters, dtype = int )"
   ]
  },
  {
   "cell_type": "code",
   "execution_count": 3,
   "id": "7942ed30",
   "metadata": {
    "colab": {
     "base_uri": "https://localhost:8080/"
    },
    "id": "7942ed30",
    "outputId": "9b3e0a13-3fcf-4aaa-e8fd-334c830be6db"
   },
   "outputs": [
    {
     "name": "stderr",
     "output_type": "stream",
     "text": [
      "Downloading https://github.com/kimiyoung/planetoid/raw/master/data/ind.cora.x\n",
      "Downloading https://github.com/kimiyoung/planetoid/raw/master/data/ind.cora.tx\n",
      "Downloading https://github.com/kimiyoung/planetoid/raw/master/data/ind.cora.allx\n",
      "Downloading https://github.com/kimiyoung/planetoid/raw/master/data/ind.cora.y\n",
      "Downloading https://github.com/kimiyoung/planetoid/raw/master/data/ind.cora.ty\n",
      "Downloading https://github.com/kimiyoung/planetoid/raw/master/data/ind.cora.ally\n",
      "Downloading https://github.com/kimiyoung/planetoid/raw/master/data/ind.cora.graph\n",
      "Downloading https://github.com/kimiyoung/planetoid/raw/master/data/ind.cora.test.index\n",
      "Processing...\n",
      "Done!\n",
      "Downloading https://github.com/kimiyoung/planetoid/raw/master/data/ind.citeseer.x\n",
      "Downloading https://github.com/kimiyoung/planetoid/raw/master/data/ind.citeseer.tx\n",
      "Downloading https://github.com/kimiyoung/planetoid/raw/master/data/ind.citeseer.allx\n",
      "Downloading https://github.com/kimiyoung/planetoid/raw/master/data/ind.citeseer.y\n",
      "Downloading https://github.com/kimiyoung/planetoid/raw/master/data/ind.citeseer.ty\n",
      "Downloading https://github.com/kimiyoung/planetoid/raw/master/data/ind.citeseer.ally\n",
      "Downloading https://github.com/kimiyoung/planetoid/raw/master/data/ind.citeseer.graph\n",
      "Downloading https://github.com/kimiyoung/planetoid/raw/master/data/ind.citeseer.test.index\n",
      "Processing...\n",
      "Done!\n",
      "Downloading https://raw.githubusercontent.com/graphdml-uiuc-jlu/geom-gcn/master/new_data/cornell/out1_node_feature_label.txt\n",
      "Downloading https://raw.githubusercontent.com/graphdml-uiuc-jlu/geom-gcn/master/new_data/cornell/out1_graph_edges.txt\n",
      "Downloading https://raw.githubusercontent.com/graphdml-uiuc-jlu/geom-gcn/master/splits/cornell_split_0.6_0.2_0.npz\n",
      "Downloading https://raw.githubusercontent.com/graphdml-uiuc-jlu/geom-gcn/master/splits/cornell_split_0.6_0.2_1.npz\n",
      "Downloading https://raw.githubusercontent.com/graphdml-uiuc-jlu/geom-gcn/master/splits/cornell_split_0.6_0.2_2.npz\n",
      "Downloading https://raw.githubusercontent.com/graphdml-uiuc-jlu/geom-gcn/master/splits/cornell_split_0.6_0.2_3.npz\n",
      "Downloading https://raw.githubusercontent.com/graphdml-uiuc-jlu/geom-gcn/master/splits/cornell_split_0.6_0.2_4.npz\n",
      "Downloading https://raw.githubusercontent.com/graphdml-uiuc-jlu/geom-gcn/master/splits/cornell_split_0.6_0.2_5.npz\n",
      "Downloading https://raw.githubusercontent.com/graphdml-uiuc-jlu/geom-gcn/master/splits/cornell_split_0.6_0.2_6.npz\n",
      "Downloading https://raw.githubusercontent.com/graphdml-uiuc-jlu/geom-gcn/master/splits/cornell_split_0.6_0.2_7.npz\n",
      "Downloading https://raw.githubusercontent.com/graphdml-uiuc-jlu/geom-gcn/master/splits/cornell_split_0.6_0.2_8.npz\n",
      "Downloading https://raw.githubusercontent.com/graphdml-uiuc-jlu/geom-gcn/master/splits/cornell_split_0.6_0.2_9.npz\n",
      "Processing...\n",
      "Done!\n",
      "Downloading https://raw.githubusercontent.com/graphdml-uiuc-jlu/geom-gcn/master/new_data/texas/out1_node_feature_label.txt\n",
      "Downloading https://raw.githubusercontent.com/graphdml-uiuc-jlu/geom-gcn/master/new_data/texas/out1_graph_edges.txt\n",
      "Downloading https://raw.githubusercontent.com/graphdml-uiuc-jlu/geom-gcn/master/splits/texas_split_0.6_0.2_0.npz\n",
      "Downloading https://raw.githubusercontent.com/graphdml-uiuc-jlu/geom-gcn/master/splits/texas_split_0.6_0.2_1.npz\n",
      "Downloading https://raw.githubusercontent.com/graphdml-uiuc-jlu/geom-gcn/master/splits/texas_split_0.6_0.2_2.npz\n",
      "Downloading https://raw.githubusercontent.com/graphdml-uiuc-jlu/geom-gcn/master/splits/texas_split_0.6_0.2_3.npz\n",
      "Downloading https://raw.githubusercontent.com/graphdml-uiuc-jlu/geom-gcn/master/splits/texas_split_0.6_0.2_4.npz\n",
      "Downloading https://raw.githubusercontent.com/graphdml-uiuc-jlu/geom-gcn/master/splits/texas_split_0.6_0.2_5.npz\n",
      "Downloading https://raw.githubusercontent.com/graphdml-uiuc-jlu/geom-gcn/master/splits/texas_split_0.6_0.2_6.npz\n",
      "Downloading https://raw.githubusercontent.com/graphdml-uiuc-jlu/geom-gcn/master/splits/texas_split_0.6_0.2_7.npz\n",
      "Downloading https://raw.githubusercontent.com/graphdml-uiuc-jlu/geom-gcn/master/splits/texas_split_0.6_0.2_8.npz\n",
      "Downloading https://raw.githubusercontent.com/graphdml-uiuc-jlu/geom-gcn/master/splits/texas_split_0.6_0.2_9.npz\n",
      "Processing...\n",
      "Done!\n",
      "Downloading https://raw.githubusercontent.com/graphdml-uiuc-jlu/geom-gcn/master/new_data/wisconsin/out1_node_feature_label.txt\n",
      "Downloading https://raw.githubusercontent.com/graphdml-uiuc-jlu/geom-gcn/master/new_data/wisconsin/out1_graph_edges.txt\n",
      "Downloading https://raw.githubusercontent.com/graphdml-uiuc-jlu/geom-gcn/master/splits/wisconsin_split_0.6_0.2_0.npz\n",
      "Downloading https://raw.githubusercontent.com/graphdml-uiuc-jlu/geom-gcn/master/splits/wisconsin_split_0.6_0.2_1.npz\n",
      "Downloading https://raw.githubusercontent.com/graphdml-uiuc-jlu/geom-gcn/master/splits/wisconsin_split_0.6_0.2_2.npz\n",
      "Downloading https://raw.githubusercontent.com/graphdml-uiuc-jlu/geom-gcn/master/splits/wisconsin_split_0.6_0.2_3.npz\n",
      "Downloading https://raw.githubusercontent.com/graphdml-uiuc-jlu/geom-gcn/master/splits/wisconsin_split_0.6_0.2_4.npz\n",
      "Downloading https://raw.githubusercontent.com/graphdml-uiuc-jlu/geom-gcn/master/splits/wisconsin_split_0.6_0.2_5.npz\n",
      "Downloading https://raw.githubusercontent.com/graphdml-uiuc-jlu/geom-gcn/master/splits/wisconsin_split_0.6_0.2_6.npz\n",
      "Downloading https://raw.githubusercontent.com/graphdml-uiuc-jlu/geom-gcn/master/splits/wisconsin_split_0.6_0.2_7.npz\n",
      "Downloading https://raw.githubusercontent.com/graphdml-uiuc-jlu/geom-gcn/master/splits/wisconsin_split_0.6_0.2_8.npz\n",
      "Downloading https://raw.githubusercontent.com/graphdml-uiuc-jlu/geom-gcn/master/splits/wisconsin_split_0.6_0.2_9.npz\n",
      "Processing...\n",
      "Done!\n"
     ]
    },
    {
     "name": "stdout",
     "output_type": "stream",
     "text": [
      "Initialisation chosen from the attributes\n",
      "Initialisation chosen from the graph\n",
      "Initialisation chosen from the graph\n",
      "Initialisation chosen from the graph\n",
      "Initialisation chosen from the graph\n"
     ]
    }
   ],
   "source": [
    "attributes_distribution = \"gaussian\"\n",
    "edge_distribution = \"bernoulli\"\n",
    "weight_distribution = \"gaussian\"\n",
    "scores = BregmanBenchmark(att_variance=1,\n",
    "                    attributes_distribution=attributes_distribution,\n",
    "                    weight_variance=1,\n",
    "                    weight_distribution=weight_distribution,\n",
    "                    edge_distribution=edge_distribution,\n",
    "                    run_gpu=True)\\\n",
    "                  .run_real_data()"
   ]
  },
  {
   "cell_type": "code",
   "execution_count": 4,
   "id": "b08c4191",
   "metadata": {
    "colab": {
     "base_uri": "https://localhost:8080/"
    },
    "id": "b08c4191",
    "outputId": "81496c41-903a-43ea-e119-5a2e4f377f3c"
   },
   "outputs": [
    {
     "data": {
      "text/plain": [
       "{'dataset': ['Cora', 'CiteSeer', 'Cornell', 'Texas', 'Wisconsin'],\n",
       " 'ARI': [-0.0061237378000671555,\n",
       "  0.00046107549653045323,\n",
       "  0.15344091761458076,\n",
       "  0.31179062987321177,\n",
       "  0.2149552412911849]}"
      ]
     },
     "execution_count": 4,
     "metadata": {},
     "output_type": "execute_result"
    }
   ],
   "source": [
    "scores"
   ]
  },
  {
   "cell_type": "code",
   "execution_count": 5,
   "id": "jP3HrzLaFCl0",
   "metadata": {
    "colab": {
     "base_uri": "https://localhost:8080/"
    },
    "id": "jP3HrzLaFCl0",
    "outputId": "bd23ad90-b130-4ec9-fdef-90debb42646c"
   },
   "outputs": [
    {
     "name": "stdout",
     "output_type": "stream",
     "text": [
      "Mounted at /content/drive\n"
     ]
    }
   ],
   "source": [
    "from google.colab import drive\n",
    "drive.mount('/content/drive')"
   ]
  },
  {
   "cell_type": "code",
   "execution_count": 6,
   "id": "1QGRHlHVMvL4",
   "metadata": {
    "colab": {
     "base_uri": "https://localhost:8080/"
    },
    "id": "1QGRHlHVMvL4",
    "outputId": "050abc31-1bc9-4a2c-a1b8-b72c55b27f56"
   },
   "outputs": [
    {
     "name": "stderr",
     "output_type": "stream",
     "text": [
      "\r",
      "0it [00:00, ?it/s]"
     ]
    },
    {
     "name": "stdout",
     "output_type": "stream",
     "text": [
      "(300, 300, 1)\n",
      "Initialisation chosen from the graph\n",
      "(300, 300, 1)\n",
      "Initialisation chosen from the graph\n",
      "(300, 300, 1)\n",
      "Initialisation chosen from the graph\n",
      "(300, 300, 1)\n",
      "Initialisation chosen from the graph\n",
      "(300, 300, 1)\n",
      "Initialisation chosen from the graph\n",
      "(300, 300, 1)\n",
      "Initialisation chosen from the graph\n",
      "(300, 300, 1)\n",
      "Initialisation chosen from the graph\n",
      "(300, 300, 1)\n",
      "Initialisation chosen from the graph\n",
      "(300, 300, 1)\n",
      "Initialisation chosen from the graph\n",
      "(300, 300, 1)\n",
      "Initialisation chosen from the graph\n"
     ]
    },
    {
     "name": "stderr",
     "output_type": "stream",
     "text": [
      "\r",
      "1it [01:46, 106.81s/it]"
     ]
    },
    {
     "name": "stdout",
     "output_type": "stream",
     "text": [
      "(300, 300, 1)\n",
      "Initialisation chosen from the graph\n",
      "(300, 300, 1)\n",
      "Initialisation chosen from the graph\n",
      "(300, 300, 1)\n",
      "Initialisation chosen from the graph\n",
      "(300, 300, 1)\n",
      "Initialisation chosen from the graph\n",
      "(300, 300, 1)\n",
      "Initialisation chosen from the graph\n",
      "(300, 300, 1)\n",
      "Initialisation chosen from the graph\n",
      "(300, 300, 1)\n",
      "Initialisation chosen from the graph\n",
      "(300, 300, 1)\n",
      "Initialisation chosen from the graph\n",
      "(300, 300, 1)\n",
      "Initialisation chosen from the graph\n",
      "(300, 300, 1)\n",
      "Initialisation chosen from the graph\n"
     ]
    },
    {
     "name": "stderr",
     "output_type": "stream",
     "text": [
      "\r",
      "2it [03:30, 105.15s/it]"
     ]
    },
    {
     "name": "stdout",
     "output_type": "stream",
     "text": [
      "(300, 300, 1)\n",
      "Initialisation chosen from the graph\n",
      "(300, 300, 1)\n",
      "Initialisation chosen from the graph\n",
      "(300, 300, 1)\n",
      "Initialisation chosen from the graph\n",
      "(300, 300, 1)\n",
      "Initialisation chosen from the graph\n",
      "(300, 300, 1)\n",
      "Initialisation chosen from the attributes\n",
      "(300, 300, 1)\n",
      "Initialisation chosen from the graph\n",
      "(300, 300, 1)\n",
      "Initialisation chosen from the graph\n",
      "(300, 300, 1)\n",
      "Initialisation chosen from the graph\n",
      "(300, 300, 1)\n",
      "Initialisation chosen from the graph\n",
      "(300, 300, 1)\n",
      "Initialisation chosen from the attributes\n"
     ]
    },
    {
     "name": "stderr",
     "output_type": "stream",
     "text": [
      "\r",
      "3it [05:15, 104.97s/it]"
     ]
    },
    {
     "name": "stdout",
     "output_type": "stream",
     "text": [
      "(300, 300, 1)\n",
      "Initialisation chosen from the attributes\n",
      "(300, 300, 1)\n",
      "Initialisation chosen from the attributes\n",
      "(300, 300, 1)\n",
      "Initialisation chosen from the attributes\n",
      "(300, 300, 1)\n",
      "Initialisation chosen from the attributes\n",
      "(300, 300, 1)\n",
      "Initialisation chosen from the graph\n",
      "(300, 300, 1)\n",
      "Initialisation chosen from the attributes\n",
      "(300, 300, 1)\n",
      "Initialisation chosen from the attributes\n",
      "(300, 300, 1)\n",
      "Initialisation chosen from the graph\n",
      "(300, 300, 1)\n",
      "Initialisation chosen from the attributes\n",
      "(300, 300, 1)\n",
      "Initialisation chosen from the attributes\n"
     ]
    },
    {
     "name": "stderr",
     "output_type": "stream",
     "text": [
      "\r",
      "4it [07:00, 105.04s/it]"
     ]
    },
    {
     "name": "stdout",
     "output_type": "stream",
     "text": [
      "(300, 300, 1)\n",
      "Initialisation chosen from the attributes\n",
      "(300, 300, 1)\n",
      "Initialisation chosen from the attributes\n",
      "(300, 300, 1)\n",
      "Initialisation chosen from the attributes\n",
      "(300, 300, 1)\n",
      "Initialisation chosen from the attributes\n",
      "(300, 300, 1)\n",
      "Initialisation chosen from the attributes\n",
      "(300, 300, 1)\n",
      "Initialisation chosen from the attributes\n",
      "(300, 300, 1)\n",
      "Initialisation chosen from the attributes\n",
      "(300, 300, 1)\n",
      "Initialisation chosen from the attributes\n",
      "(300, 300, 1)\n",
      "Initialisation chosen from the attributes\n",
      "(300, 300, 1)\n",
      "Initialisation chosen from the attributes\n"
     ]
    },
    {
     "name": "stderr",
     "output_type": "stream",
     "text": [
      "\r",
      "5it [08:44, 104.50s/it]"
     ]
    },
    {
     "name": "stdout",
     "output_type": "stream",
     "text": [
      "(300, 300, 1)\n",
      "Initialisation chosen from the attributes\n",
      "(300, 300, 1)\n",
      "Initialisation chosen from the attributes\n",
      "(300, 300, 1)\n",
      "Initialisation chosen from the attributes\n",
      "(300, 300, 1)\n",
      "Initialisation chosen from the attributes\n",
      "(300, 300, 1)\n",
      "Initialisation chosen from the attributes\n",
      "(300, 300, 1)\n",
      "Initialisation chosen from the attributes\n",
      "(300, 300, 1)\n",
      "Initialisation chosen from the attributes\n",
      "(300, 300, 1)\n",
      "Initialisation chosen from the attributes\n",
      "(300, 300, 1)\n",
      "Initialisation chosen from the attributes\n",
      "(300, 300, 1)\n",
      "Initialisation chosen from the attributes\n"
     ]
    },
    {
     "name": "stderr",
     "output_type": "stream",
     "text": [
      "\r",
      "6it [10:30, 105.14s/it]"
     ]
    },
    {
     "name": "stdout",
     "output_type": "stream",
     "text": [
      "(300, 300, 1)\n",
      "Initialisation chosen from the attributes\n",
      "(300, 300, 1)\n",
      "Initialisation chosen from the attributes\n",
      "(300, 300, 1)\n",
      "Initialisation chosen from the attributes\n",
      "(300, 300, 1)\n",
      "Initialisation chosen from the attributes\n",
      "(300, 300, 1)\n",
      "Initialisation chosen from the attributes\n",
      "(300, 300, 1)\n",
      "Initialisation chosen from the attributes\n",
      "(300, 300, 1)\n",
      "Initialisation chosen from the attributes\n",
      "(300, 300, 1)\n",
      "Initialisation chosen from the attributes\n",
      "(300, 300, 1)\n",
      "Initialisation chosen from the attributes\n",
      "(300, 300, 1)\n",
      "Initialisation chosen from the attributes\n"
     ]
    },
    {
     "name": "stderr",
     "output_type": "stream",
     "text": [
      "\r",
      "7it [12:14, 104.76s/it]"
     ]
    },
    {
     "name": "stdout",
     "output_type": "stream",
     "text": [
      "(300, 300, 1)\n",
      "Initialisation chosen from the attributes\n",
      "(300, 300, 1)\n",
      "Initialisation chosen from the attributes\n",
      "(300, 300, 1)\n",
      "Initialisation chosen from the attributes\n",
      "(300, 300, 1)\n",
      "Initialisation chosen from the attributes\n",
      "(300, 300, 1)\n",
      "Initialisation chosen from the attributes\n",
      "(300, 300, 1)\n",
      "Initialisation chosen from the attributes\n",
      "(300, 300, 1)\n",
      "Initialisation chosen from the attributes\n",
      "(300, 300, 1)\n",
      "Initialisation chosen from the attributes\n",
      "(300, 300, 1)\n",
      "Initialisation chosen from the attributes\n",
      "(300, 300, 1)\n",
      "Initialisation chosen from the attributes\n"
     ]
    },
    {
     "name": "stderr",
     "output_type": "stream",
     "text": [
      "\r",
      "8it [13:59, 104.79s/it]"
     ]
    },
    {
     "name": "stdout",
     "output_type": "stream",
     "text": [
      "(300, 300, 1)\n",
      "Initialisation chosen from the attributes\n",
      "(300, 300, 1)\n",
      "Initialisation chosen from the attributes\n",
      "(300, 300, 1)\n",
      "Initialisation chosen from the attributes\n",
      "(300, 300, 1)\n",
      "Initialisation chosen from the attributes\n",
      "(300, 300, 1)\n",
      "Initialisation chosen from the attributes\n",
      "(300, 300, 1)\n",
      "Initialisation chosen from the attributes\n",
      "(300, 300, 1)\n",
      "Initialisation chosen from the attributes\n",
      "(300, 300, 1)\n",
      "Initialisation chosen from the attributes\n",
      "(300, 300, 1)\n",
      "Initialisation chosen from the attributes\n",
      "(300, 300, 1)\n",
      "Initialisation chosen from the attributes\n"
     ]
    },
    {
     "name": "stderr",
     "output_type": "stream",
     "text": [
      "\r",
      "9it [15:43, 104.54s/it]"
     ]
    },
    {
     "name": "stdout",
     "output_type": "stream",
     "text": [
      "(300, 300, 1)\n",
      "Initialisation chosen from the attributes\n",
      "(300, 300, 1)\n",
      "Initialisation chosen from the attributes\n",
      "(300, 300, 1)\n",
      "Initialisation chosen from the attributes\n",
      "(300, 300, 1)\n",
      "Initialisation chosen from the attributes\n",
      "(300, 300, 1)\n",
      "Initialisation chosen from the attributes\n",
      "(300, 300, 1)\n",
      "Initialisation chosen from the attributes\n",
      "(300, 300, 1)\n",
      "Initialisation chosen from the attributes\n",
      "(300, 300, 1)\n",
      "Initialisation chosen from the attributes\n",
      "(300, 300, 1)\n",
      "Initialisation chosen from the attributes\n",
      "(300, 300, 1)\n",
      "Initialisation chosen from the attributes\n"
     ]
    },
    {
     "name": "stderr",
     "output_type": "stream",
     "text": [
      "\r",
      "10it [17:28, 104.55s/it]"
     ]
    },
    {
     "name": "stdout",
     "output_type": "stream",
     "text": [
      "(300, 300, 1)\n",
      "Initialisation chosen from the graph\n",
      "(300, 300, 1)\n",
      "Initialisation chosen from the graph\n",
      "(300, 300, 1)\n",
      "Initialisation chosen from the graph\n",
      "(300, 300, 1)\n",
      "Initialisation chosen from the graph\n",
      "(300, 300, 1)\n",
      "Initialisation chosen from the graph\n",
      "(300, 300, 1)\n",
      "Initialisation chosen from the graph\n",
      "(300, 300, 1)\n",
      "Initialisation chosen from the graph\n",
      "(300, 300, 1)\n",
      "Initialisation chosen from the graph\n",
      "(300, 300, 1)\n",
      "Initialisation chosen from the graph\n",
      "(300, 300, 1)\n",
      "Initialisation chosen from the graph\n"
     ]
    },
    {
     "name": "stderr",
     "output_type": "stream",
     "text": [
      "\r",
      "11it [19:12, 104.54s/it]"
     ]
    },
    {
     "name": "stdout",
     "output_type": "stream",
     "text": [
      "(300, 300, 1)\n",
      "Initialisation chosen from the graph\n",
      "(300, 300, 1)\n",
      "Initialisation chosen from the graph\n",
      "(300, 300, 1)\n",
      "Initialisation chosen from the graph\n",
      "(300, 300, 1)\n",
      "Initialisation chosen from the graph\n",
      "(300, 300, 1)\n",
      "Initialisation chosen from the graph\n",
      "(300, 300, 1)\n",
      "Initialisation chosen from the graph\n",
      "(300, 300, 1)\n",
      "Initialisation chosen from the graph\n",
      "(300, 300, 1)\n",
      "Initialisation chosen from the graph\n",
      "(300, 300, 1)\n",
      "Initialisation chosen from the graph\n",
      "(300, 300, 1)\n",
      "Initialisation chosen from the graph\n"
     ]
    },
    {
     "name": "stderr",
     "output_type": "stream",
     "text": [
      "\r",
      "12it [20:57, 104.77s/it]"
     ]
    },
    {
     "name": "stdout",
     "output_type": "stream",
     "text": [
      "(300, 300, 1)\n",
      "Initialisation chosen from the graph\n",
      "(300, 300, 1)\n",
      "Initialisation chosen from the graph\n",
      "(300, 300, 1)\n",
      "Initialisation chosen from the graph\n",
      "(300, 300, 1)\n",
      "Initialisation chosen from the graph\n",
      "(300, 300, 1)\n",
      "Initialisation chosen from the graph\n",
      "(300, 300, 1)\n",
      "Initialisation chosen from the graph\n",
      "(300, 300, 1)\n",
      "Initialisation chosen from the graph\n",
      "(300, 300, 1)\n",
      "Initialisation chosen from the graph\n",
      "(300, 300, 1)\n",
      "Initialisation chosen from the graph\n",
      "(300, 300, 1)\n",
      "Initialisation chosen from the graph\n"
     ]
    },
    {
     "name": "stderr",
     "output_type": "stream",
     "text": [
      "\r",
      "13it [22:43, 105.13s/it]"
     ]
    },
    {
     "name": "stdout",
     "output_type": "stream",
     "text": [
      "(300, 300, 1)\n",
      "Initialisation chosen from the graph\n",
      "(300, 300, 1)\n",
      "Initialisation chosen from the graph\n",
      "(300, 300, 1)\n",
      "Initialisation chosen from the graph\n",
      "(300, 300, 1)\n",
      "Initialisation chosen from the graph\n",
      "(300, 300, 1)\n",
      "Initialisation chosen from the graph\n",
      "(300, 300, 1)\n",
      "Initialisation chosen from the graph\n",
      "(300, 300, 1)\n",
      "Initialisation chosen from the attributes\n",
      "(300, 300, 1)\n",
      "Initialisation chosen from the graph\n",
      "(300, 300, 1)\n",
      "Initialisation chosen from the graph\n",
      "(300, 300, 1)\n",
      "Initialisation chosen from the attributes\n"
     ]
    },
    {
     "name": "stderr",
     "output_type": "stream",
     "text": [
      "\r",
      "14it [24:28, 105.09s/it]"
     ]
    },
    {
     "name": "stdout",
     "output_type": "stream",
     "text": [
      "(300, 300, 1)\n",
      "Initialisation chosen from the attributes\n",
      "(300, 300, 1)\n",
      "Initialisation chosen from the attributes\n",
      "(300, 300, 1)\n",
      "Initialisation chosen from the attributes\n",
      "(300, 300, 1)\n",
      "Initialisation chosen from the attributes\n",
      "(300, 300, 1)\n",
      "Initialisation chosen from the attributes\n",
      "(300, 300, 1)\n",
      "Initialisation chosen from the attributes\n",
      "(300, 300, 1)\n",
      "Initialisation chosen from the attributes\n",
      "(300, 300, 1)\n",
      "Initialisation chosen from the attributes\n",
      "(300, 300, 1)\n",
      "Initialisation chosen from the attributes\n",
      "(300, 300, 1)\n",
      "Initialisation chosen from the attributes\n"
     ]
    },
    {
     "name": "stderr",
     "output_type": "stream",
     "text": [
      "\r",
      "15it [26:13, 105.07s/it]"
     ]
    },
    {
     "name": "stdout",
     "output_type": "stream",
     "text": [
      "(300, 300, 1)\n",
      "Initialisation chosen from the attributes\n",
      "(300, 300, 1)\n",
      "Initialisation chosen from the attributes\n",
      "(300, 300, 1)\n",
      "Initialisation chosen from the attributes\n",
      "(300, 300, 1)\n",
      "Initialisation chosen from the attributes\n",
      "(300, 300, 1)\n",
      "Initialisation chosen from the attributes\n",
      "(300, 300, 1)\n",
      "Initialisation chosen from the attributes\n",
      "(300, 300, 1)\n",
      "Initialisation chosen from the attributes\n",
      "(300, 300, 1)\n",
      "Initialisation chosen from the attributes\n",
      "(300, 300, 1)\n",
      "Initialisation chosen from the attributes\n",
      "(300, 300, 1)\n",
      "Initialisation chosen from the attributes\n"
     ]
    },
    {
     "name": "stderr",
     "output_type": "stream",
     "text": [
      "\r",
      "16it [27:59, 105.16s/it]"
     ]
    },
    {
     "name": "stdout",
     "output_type": "stream",
     "text": [
      "(300, 300, 1)\n",
      "Initialisation chosen from the attributes\n",
      "(300, 300, 1)\n",
      "Initialisation chosen from the attributes\n",
      "(300, 300, 1)\n",
      "Initialisation chosen from the attributes\n",
      "(300, 300, 1)\n",
      "Initialisation chosen from the attributes\n",
      "(300, 300, 1)\n",
      "Initialisation chosen from the attributes\n",
      "(300, 300, 1)\n",
      "Initialisation chosen from the attributes\n",
      "(300, 300, 1)\n",
      "Initialisation chosen from the attributes\n",
      "(300, 300, 1)\n",
      "Initialisation chosen from the attributes\n",
      "(300, 300, 1)\n",
      "Initialisation chosen from the attributes\n",
      "(300, 300, 1)\n",
      "Initialisation chosen from the attributes\n"
     ]
    },
    {
     "name": "stderr",
     "output_type": "stream",
     "text": [
      "\r",
      "17it [29:42, 104.64s/it]"
     ]
    },
    {
     "name": "stdout",
     "output_type": "stream",
     "text": [
      "(300, 300, 1)\n",
      "Initialisation chosen from the attributes\n",
      "(300, 300, 1)\n",
      "Initialisation chosen from the attributes\n",
      "(300, 300, 1)\n",
      "Initialisation chosen from the attributes\n",
      "(300, 300, 1)\n",
      "Initialisation chosen from the attributes\n",
      "(300, 300, 1)\n",
      "Initialisation chosen from the attributes\n",
      "(300, 300, 1)\n",
      "Initialisation chosen from the attributes\n",
      "(300, 300, 1)\n",
      "Initialisation chosen from the attributes\n",
      "(300, 300, 1)\n",
      "Initialisation chosen from the attributes\n",
      "(300, 300, 1)\n",
      "Initialisation chosen from the attributes\n",
      "(300, 300, 1)\n",
      "Initialisation chosen from the attributes\n"
     ]
    },
    {
     "name": "stderr",
     "output_type": "stream",
     "text": [
      "\r",
      "18it [31:27, 104.86s/it]"
     ]
    },
    {
     "name": "stdout",
     "output_type": "stream",
     "text": [
      "(300, 300, 1)\n",
      "Initialisation chosen from the attributes\n",
      "(300, 300, 1)\n",
      "Initialisation chosen from the attributes\n",
      "(300, 300, 1)\n",
      "Initialisation chosen from the attributes\n",
      "(300, 300, 1)\n",
      "Initialisation chosen from the attributes\n",
      "(300, 300, 1)\n",
      "Initialisation chosen from the attributes\n",
      "(300, 300, 1)\n",
      "Initialisation chosen from the attributes\n",
      "(300, 300, 1)\n",
      "Initialisation chosen from the attributes\n",
      "(300, 300, 1)\n",
      "Initialisation chosen from the attributes\n",
      "(300, 300, 1)\n",
      "Initialisation chosen from the attributes\n",
      "(300, 300, 1)\n",
      "Initialisation chosen from the attributes\n"
     ]
    },
    {
     "name": "stderr",
     "output_type": "stream",
     "text": [
      "\r",
      "19it [33:11, 104.41s/it]"
     ]
    },
    {
     "name": "stdout",
     "output_type": "stream",
     "text": [
      "(300, 300, 1)\n",
      "Initialisation chosen from the attributes\n",
      "(300, 300, 1)\n",
      "Initialisation chosen from the attributes\n",
      "(300, 300, 1)\n",
      "Initialisation chosen from the attributes\n",
      "(300, 300, 1)\n",
      "Initialisation chosen from the attributes\n",
      "(300, 300, 1)\n",
      "Initialisation chosen from the attributes\n",
      "(300, 300, 1)\n",
      "Initialisation chosen from the attributes\n",
      "(300, 300, 1)\n",
      "Initialisation chosen from the attributes\n",
      "(300, 300, 1)\n",
      "Initialisation chosen from the attributes\n",
      "(300, 300, 1)\n",
      "Initialisation chosen from the attributes\n",
      "(300, 300, 1)\n",
      "Initialisation chosen from the attributes\n"
     ]
    },
    {
     "name": "stderr",
     "output_type": "stream",
     "text": [
      "\r",
      "20it [34:56, 104.55s/it]"
     ]
    },
    {
     "name": "stdout",
     "output_type": "stream",
     "text": [
      "(300, 300, 1)\n",
      "Initialisation chosen from the graph\n",
      "(300, 300, 1)\n",
      "Initialisation chosen from the graph\n",
      "(300, 300, 1)\n",
      "Initialisation chosen from the graph\n",
      "(300, 300, 1)\n",
      "Initialisation chosen from the graph\n",
      "(300, 300, 1)\n",
      "Initialisation chosen from the graph\n",
      "(300, 300, 1)\n",
      "Initialisation chosen from the graph\n",
      "(300, 300, 1)\n",
      "Initialisation chosen from the graph\n",
      "(300, 300, 1)\n",
      "Initialisation chosen from the graph\n",
      "(300, 300, 1)\n",
      "Initialisation chosen from the graph\n",
      "(300, 300, 1)\n",
      "Initialisation chosen from the graph\n"
     ]
    },
    {
     "name": "stderr",
     "output_type": "stream",
     "text": [
      "\r",
      "21it [36:40, 104.34s/it]"
     ]
    },
    {
     "name": "stdout",
     "output_type": "stream",
     "text": [
      "(300, 300, 1)\n",
      "Initialisation chosen from the graph\n",
      "(300, 300, 1)\n",
      "Initialisation chosen from the graph\n",
      "(300, 300, 1)\n",
      "Initialisation chosen from the graph\n",
      "(300, 300, 1)\n",
      "Initialisation chosen from the graph\n",
      "(300, 300, 1)\n",
      "Initialisation chosen from the graph\n",
      "(300, 300, 1)\n",
      "Initialisation chosen from the graph\n",
      "(300, 300, 1)\n",
      "Initialisation chosen from the graph\n",
      "(300, 300, 1)\n",
      "Initialisation chosen from the graph\n",
      "(300, 300, 1)\n",
      "Initialisation chosen from the graph\n",
      "(300, 300, 1)\n",
      "Initialisation chosen from the graph\n"
     ]
    },
    {
     "name": "stderr",
     "output_type": "stream",
     "text": [
      "\r",
      "22it [38:26, 104.85s/it]"
     ]
    },
    {
     "name": "stdout",
     "output_type": "stream",
     "text": [
      "(300, 300, 1)\n",
      "Initialisation chosen from the graph\n",
      "(300, 300, 1)\n",
      "Initialisation chosen from the graph\n",
      "(300, 300, 1)\n",
      "Initialisation chosen from the graph\n",
      "(300, 300, 1)\n",
      "Initialisation chosen from the graph\n",
      "(300, 300, 1)\n",
      "Initialisation chosen from the graph\n",
      "(300, 300, 1)\n",
      "Initialisation chosen from the graph\n",
      "(300, 300, 1)\n",
      "Initialisation chosen from the graph\n",
      "(300, 300, 1)\n",
      "Initialisation chosen from the graph\n",
      "(300, 300, 1)\n",
      "Initialisation chosen from the graph\n",
      "(300, 300, 1)\n",
      "Initialisation chosen from the graph\n"
     ]
    },
    {
     "name": "stderr",
     "output_type": "stream",
     "text": [
      "\r",
      "23it [40:11, 105.10s/it]"
     ]
    },
    {
     "name": "stdout",
     "output_type": "stream",
     "text": [
      "(300, 300, 1)\n",
      "Initialisation chosen from the graph\n",
      "(300, 300, 1)\n",
      "Initialisation chosen from the graph\n",
      "(300, 300, 1)\n",
      "Initialisation chosen from the attributes\n",
      "(300, 300, 1)\n",
      "Initialisation chosen from the graph\n",
      "(300, 300, 1)\n",
      "Initialisation chosen from the graph\n",
      "(300, 300, 1)\n",
      "Initialisation chosen from the attributes\n",
      "(300, 300, 1)\n",
      "Initialisation chosen from the graph\n",
      "(300, 300, 1)\n",
      "Initialisation chosen from the graph\n",
      "(300, 300, 1)\n",
      "Initialisation chosen from the graph\n",
      "(300, 300, 1)\n",
      "Initialisation chosen from the attributes\n"
     ]
    },
    {
     "name": "stderr",
     "output_type": "stream",
     "text": [
      "\r",
      "24it [41:57, 105.24s/it]"
     ]
    },
    {
     "name": "stdout",
     "output_type": "stream",
     "text": [
      "(300, 300, 1)\n",
      "Initialisation chosen from the attributes\n",
      "(300, 300, 1)\n",
      "Initialisation chosen from the attributes\n",
      "(300, 300, 1)\n",
      "Initialisation chosen from the attributes\n",
      "(300, 300, 1)\n",
      "Initialisation chosen from the attributes\n",
      "(300, 300, 1)\n",
      "Initialisation chosen from the attributes\n",
      "(300, 300, 1)\n",
      "Initialisation chosen from the attributes\n",
      "(300, 300, 1)\n",
      "Initialisation chosen from the attributes\n",
      "(300, 300, 1)\n",
      "Initialisation chosen from the attributes\n",
      "(300, 300, 1)\n",
      "Initialisation chosen from the attributes\n",
      "(300, 300, 1)\n",
      "Initialisation chosen from the attributes\n"
     ]
    },
    {
     "name": "stderr",
     "output_type": "stream",
     "text": [
      "\r",
      "25it [43:42, 105.07s/it]"
     ]
    },
    {
     "name": "stdout",
     "output_type": "stream",
     "text": [
      "(300, 300, 1)\n",
      "Initialisation chosen from the attributes\n",
      "(300, 300, 1)\n",
      "Initialisation chosen from the attributes\n",
      "(300, 300, 1)\n",
      "Initialisation chosen from the attributes\n",
      "(300, 300, 1)\n",
      "Initialisation chosen from the attributes\n",
      "(300, 300, 1)\n",
      "Initialisation chosen from the attributes\n",
      "(300, 300, 1)\n",
      "Initialisation chosen from the attributes\n",
      "(300, 300, 1)\n",
      "Initialisation chosen from the attributes\n",
      "(300, 300, 1)\n",
      "Initialisation chosen from the attributes\n",
      "(300, 300, 1)\n",
      "Initialisation chosen from the attributes\n",
      "(300, 300, 1)\n",
      "Initialisation chosen from the attributes\n"
     ]
    },
    {
     "name": "stderr",
     "output_type": "stream",
     "text": [
      "\r",
      "26it [45:28, 105.50s/it]"
     ]
    },
    {
     "name": "stdout",
     "output_type": "stream",
     "text": [
      "(300, 300, 1)\n",
      "Initialisation chosen from the attributes\n",
      "(300, 300, 1)\n",
      "Initialisation chosen from the attributes\n",
      "(300, 300, 1)\n",
      "Initialisation chosen from the attributes\n",
      "(300, 300, 1)\n",
      "Initialisation chosen from the attributes\n",
      "(300, 300, 1)\n",
      "Initialisation chosen from the attributes\n",
      "(300, 300, 1)\n",
      "Initialisation chosen from the attributes\n",
      "(300, 300, 1)\n",
      "Initialisation chosen from the attributes\n",
      "(300, 300, 1)\n",
      "Initialisation chosen from the attributes\n",
      "(300, 300, 1)\n",
      "Initialisation chosen from the attributes\n",
      "(300, 300, 1)\n",
      "Initialisation chosen from the attributes\n"
     ]
    },
    {
     "name": "stderr",
     "output_type": "stream",
     "text": [
      "\r",
      "27it [47:12, 105.11s/it]"
     ]
    },
    {
     "name": "stdout",
     "output_type": "stream",
     "text": [
      "(300, 300, 1)\n",
      "Initialisation chosen from the attributes\n",
      "(300, 300, 1)\n",
      "Initialisation chosen from the attributes\n",
      "(300, 300, 1)\n",
      "Initialisation chosen from the attributes\n",
      "(300, 300, 1)\n",
      "Initialisation chosen from the attributes\n",
      "(300, 300, 1)\n",
      "Initialisation chosen from the attributes\n",
      "(300, 300, 1)\n",
      "Initialisation chosen from the attributes\n",
      "(300, 300, 1)\n",
      "Initialisation chosen from the attributes\n",
      "(300, 300, 1)\n",
      "Initialisation chosen from the attributes\n",
      "(300, 300, 1)\n",
      "Initialisation chosen from the attributes\n",
      "(300, 300, 1)\n",
      "Initialisation chosen from the attributes\n"
     ]
    },
    {
     "name": "stderr",
     "output_type": "stream",
     "text": [
      "\r",
      "28it [48:57, 105.15s/it]"
     ]
    },
    {
     "name": "stdout",
     "output_type": "stream",
     "text": [
      "(300, 300, 1)\n",
      "Initialisation chosen from the attributes\n",
      "(300, 300, 1)\n",
      "Initialisation chosen from the attributes\n",
      "(300, 300, 1)\n",
      "Initialisation chosen from the attributes\n",
      "(300, 300, 1)\n",
      "Initialisation chosen from the attributes\n",
      "(300, 300, 1)\n",
      "Initialisation chosen from the attributes\n",
      "(300, 300, 1)\n",
      "Initialisation chosen from the attributes\n",
      "(300, 300, 1)\n",
      "Initialisation chosen from the attributes\n",
      "(300, 300, 1)\n",
      "Initialisation chosen from the attributes\n",
      "(300, 300, 1)\n",
      "Initialisation chosen from the attributes\n",
      "(300, 300, 1)\n",
      "Initialisation chosen from the attributes\n"
     ]
    },
    {
     "name": "stderr",
     "output_type": "stream",
     "text": [
      "\r",
      "29it [50:44, 105.44s/it]"
     ]
    },
    {
     "name": "stdout",
     "output_type": "stream",
     "text": [
      "(300, 300, 1)\n",
      "Initialisation chosen from the attributes\n",
      "(300, 300, 1)\n",
      "Initialisation chosen from the attributes\n",
      "(300, 300, 1)\n",
      "Initialisation chosen from the attributes\n",
      "(300, 300, 1)\n",
      "Initialisation chosen from the attributes\n",
      "(300, 300, 1)\n",
      "Initialisation chosen from the attributes\n",
      "(300, 300, 1)\n",
      "Initialisation chosen from the attributes\n",
      "(300, 300, 1)\n",
      "Initialisation chosen from the attributes\n",
      "(300, 300, 1)\n",
      "Initialisation chosen from the attributes\n",
      "(300, 300, 1)\n",
      "Initialisation chosen from the attributes\n",
      "(300, 300, 1)\n",
      "Initialisation chosen from the attributes\n"
     ]
    },
    {
     "name": "stderr",
     "output_type": "stream",
     "text": [
      "\r",
      "30it [52:28, 105.13s/it]"
     ]
    },
    {
     "name": "stdout",
     "output_type": "stream",
     "text": [
      "(300, 300, 1)\n",
      "Initialisation chosen from the attributes\n",
      "(300, 300, 1)\n",
      "Initialisation chosen from the attributes\n",
      "(300, 300, 1)\n",
      "Initialisation chosen from the graph\n",
      "(300, 300, 1)\n",
      "Initialisation chosen from the attributes\n",
      "(300, 300, 1)\n",
      "Initialisation chosen from the attributes\n",
      "(300, 300, 1)\n",
      "Initialisation chosen from the attributes\n",
      "(300, 300, 1)\n",
      "Initialisation chosen from the graph\n",
      "(300, 300, 1)\n",
      "Initialisation chosen from the attributes\n",
      "(300, 300, 1)\n",
      "Initialisation chosen from the attributes\n",
      "(300, 300, 1)\n",
      "Initialisation chosen from the attributes\n"
     ]
    },
    {
     "name": "stderr",
     "output_type": "stream",
     "text": [
      "\r",
      "31it [54:14, 105.43s/it]"
     ]
    },
    {
     "name": "stdout",
     "output_type": "stream",
     "text": [
      "(300, 300, 1)\n",
      "Initialisation chosen from the attributes\n",
      "(300, 300, 1)\n",
      "Initialisation chosen from the attributes\n",
      "(300, 300, 1)\n",
      "Initialisation chosen from the attributes\n",
      "(300, 300, 1)\n",
      "Initialisation chosen from the graph\n",
      "(300, 300, 1)\n",
      "Initialisation chosen from the graph\n",
      "(300, 300, 1)\n",
      "Initialisation chosen from the attributes\n",
      "(300, 300, 1)\n",
      "Initialisation chosen from the graph\n",
      "(300, 300, 1)\n",
      "Initialisation chosen from the attributes\n",
      "(300, 300, 1)\n",
      "Initialisation chosen from the graph\n",
      "(300, 300, 1)\n",
      "Initialisation chosen from the graph\n"
     ]
    },
    {
     "name": "stderr",
     "output_type": "stream",
     "text": [
      "\r",
      "32it [55:59, 105.29s/it]"
     ]
    },
    {
     "name": "stdout",
     "output_type": "stream",
     "text": [
      "(300, 300, 1)\n",
      "Initialisation chosen from the attributes\n",
      "(300, 300, 1)\n",
      "Initialisation chosen from the graph\n",
      "(300, 300, 1)\n",
      "Initialisation chosen from the attributes\n",
      "(300, 300, 1)\n",
      "Initialisation chosen from the attributes\n",
      "(300, 300, 1)\n",
      "Initialisation chosen from the attributes\n",
      "(300, 300, 1)\n",
      "Initialisation chosen from the graph\n",
      "(300, 300, 1)\n",
      "Initialisation chosen from the attributes\n",
      "(300, 300, 1)\n",
      "Initialisation chosen from the attributes\n",
      "(300, 300, 1)\n",
      "Initialisation chosen from the attributes\n",
      "(300, 300, 1)\n",
      "Initialisation chosen from the attributes\n"
     ]
    },
    {
     "name": "stderr",
     "output_type": "stream",
     "text": [
      "\r",
      "33it [57:45, 105.55s/it]"
     ]
    },
    {
     "name": "stdout",
     "output_type": "stream",
     "text": [
      "(300, 300, 1)\n",
      "Initialisation chosen from the attributes\n",
      "(300, 300, 1)\n",
      "Initialisation chosen from the attributes\n",
      "(300, 300, 1)\n",
      "Initialisation chosen from the attributes\n",
      "(300, 300, 1)\n",
      "Initialisation chosen from the attributes\n",
      "(300, 300, 1)\n",
      "Initialisation chosen from the attributes\n",
      "(300, 300, 1)\n",
      "Initialisation chosen from the attributes\n",
      "(300, 300, 1)\n",
      "Initialisation chosen from the attributes\n",
      "(300, 300, 1)\n",
      "Initialisation chosen from the attributes\n",
      "(300, 300, 1)\n",
      "Initialisation chosen from the attributes\n",
      "(300, 300, 1)\n",
      "Initialisation chosen from the attributes\n"
     ]
    },
    {
     "name": "stderr",
     "output_type": "stream",
     "text": [
      "\r",
      "34it [59:29, 105.07s/it]"
     ]
    },
    {
     "name": "stdout",
     "output_type": "stream",
     "text": [
      "(300, 300, 1)\n",
      "Initialisation chosen from the attributes\n",
      "(300, 300, 1)\n",
      "Initialisation chosen from the attributes\n",
      "(300, 300, 1)\n",
      "Initialisation chosen from the attributes\n",
      "(300, 300, 1)\n",
      "Initialisation chosen from the attributes\n",
      "(300, 300, 1)\n",
      "Initialisation chosen from the attributes\n",
      "(300, 300, 1)\n",
      "Initialisation chosen from the attributes\n",
      "(300, 300, 1)\n",
      "Initialisation chosen from the attributes\n",
      "(300, 300, 1)\n",
      "Initialisation chosen from the attributes\n",
      "(300, 300, 1)\n",
      "Initialisation chosen from the attributes\n",
      "(300, 300, 1)\n",
      "Initialisation chosen from the attributes\n"
     ]
    },
    {
     "name": "stderr",
     "output_type": "stream",
     "text": [
      "\r",
      "35it [1:01:16, 105.59s/it]"
     ]
    },
    {
     "name": "stdout",
     "output_type": "stream",
     "text": [
      "(300, 300, 1)\n",
      "Initialisation chosen from the attributes\n",
      "(300, 300, 1)\n",
      "Initialisation chosen from the attributes\n",
      "(300, 300, 1)\n",
      "Initialisation chosen from the attributes\n",
      "(300, 300, 1)\n",
      "Initialisation chosen from the attributes\n",
      "(300, 300, 1)\n",
      "Initialisation chosen from the attributes\n",
      "(300, 300, 1)\n",
      "Initialisation chosen from the attributes\n",
      "(300, 300, 1)\n",
      "Initialisation chosen from the attributes\n",
      "(300, 300, 1)\n",
      "Initialisation chosen from the attributes\n",
      "(300, 300, 1)\n",
      "Initialisation chosen from the attributes\n",
      "(300, 300, 1)\n",
      "Initialisation chosen from the attributes\n"
     ]
    },
    {
     "name": "stderr",
     "output_type": "stream",
     "text": [
      "\r",
      "36it [1:03:00, 105.20s/it]"
     ]
    },
    {
     "name": "stdout",
     "output_type": "stream",
     "text": [
      "(300, 300, 1)\n",
      "Initialisation chosen from the attributes\n",
      "(300, 300, 1)\n",
      "Initialisation chosen from the attributes\n",
      "(300, 300, 1)\n",
      "Initialisation chosen from the attributes\n",
      "(300, 300, 1)\n",
      "Initialisation chosen from the attributes\n",
      "(300, 300, 1)\n",
      "Initialisation chosen from the attributes\n",
      "(300, 300, 1)\n",
      "Initialisation chosen from the attributes\n",
      "(300, 300, 1)\n",
      "Initialisation chosen from the attributes\n",
      "(300, 300, 1)\n",
      "Initialisation chosen from the attributes\n",
      "(300, 300, 1)\n",
      "Initialisation chosen from the attributes\n",
      "(300, 300, 1)\n",
      "Initialisation chosen from the attributes\n"
     ]
    },
    {
     "name": "stderr",
     "output_type": "stream",
     "text": [
      "\r",
      "37it [1:04:47, 105.69s/it]"
     ]
    },
    {
     "name": "stdout",
     "output_type": "stream",
     "text": [
      "(300, 300, 1)\n",
      "Initialisation chosen from the attributes\n",
      "(300, 300, 1)\n",
      "Initialisation chosen from the attributes\n",
      "(300, 300, 1)\n",
      "Initialisation chosen from the attributes\n",
      "(300, 300, 1)\n",
      "Initialisation chosen from the attributes\n",
      "(300, 300, 1)\n",
      "Initialisation chosen from the attributes\n",
      "(300, 300, 1)\n",
      "Initialisation chosen from the attributes\n",
      "(300, 300, 1)\n",
      "Initialisation chosen from the attributes\n",
      "(300, 300, 1)\n",
      "Initialisation chosen from the attributes\n",
      "(300, 300, 1)\n",
      "Initialisation chosen from the attributes\n",
      "(300, 300, 1)\n",
      "Initialisation chosen from the attributes\n"
     ]
    },
    {
     "name": "stderr",
     "output_type": "stream",
     "text": [
      "\r",
      "38it [1:06:32, 105.47s/it]"
     ]
    },
    {
     "name": "stdout",
     "output_type": "stream",
     "text": [
      "(300, 300, 1)\n",
      "Initialisation chosen from the attributes\n",
      "(300, 300, 1)\n",
      "Initialisation chosen from the attributes\n",
      "(300, 300, 1)\n",
      "Initialisation chosen from the attributes\n",
      "(300, 300, 1)\n",
      "Initialisation chosen from the attributes\n",
      "(300, 300, 1)\n",
      "Initialisation chosen from the attributes\n",
      "(300, 300, 1)\n",
      "Initialisation chosen from the attributes\n",
      "(300, 300, 1)\n",
      "Initialisation chosen from the attributes\n",
      "(300, 300, 1)\n",
      "Initialisation chosen from the attributes\n",
      "(300, 300, 1)\n",
      "Initialisation chosen from the attributes\n",
      "(300, 300, 1)\n",
      "Initialisation chosen from the attributes\n"
     ]
    },
    {
     "name": "stderr",
     "output_type": "stream",
     "text": [
      "\r",
      "39it [1:08:18, 105.65s/it]"
     ]
    },
    {
     "name": "stdout",
     "output_type": "stream",
     "text": [
      "(300, 300, 1)\n",
      "Initialisation chosen from the attributes\n",
      "(300, 300, 1)\n",
      "Initialisation chosen from the attributes\n",
      "(300, 300, 1)\n",
      "Initialisation chosen from the attributes\n",
      "(300, 300, 1)\n",
      "Initialisation chosen from the attributes\n",
      "(300, 300, 1)\n",
      "Initialisation chosen from the attributes\n",
      "(300, 300, 1)\n",
      "Initialisation chosen from the attributes\n",
      "(300, 300, 1)\n",
      "Initialisation chosen from the attributes\n",
      "(300, 300, 1)\n",
      "Initialisation chosen from the attributes\n",
      "(300, 300, 1)\n",
      "Initialisation chosen from the attributes\n",
      "(300, 300, 1)\n",
      "Initialisation chosen from the attributes\n"
     ]
    },
    {
     "name": "stderr",
     "output_type": "stream",
     "text": [
      "\r",
      "40it [1:10:03, 105.34s/it]"
     ]
    },
    {
     "name": "stdout",
     "output_type": "stream",
     "text": [
      "(300, 300, 1)\n",
      "Initialisation chosen from the graph\n",
      "(300, 300, 1)\n",
      "Initialisation chosen from the graph\n",
      "(300, 300, 1)\n",
      "Initialisation chosen from the graph\n",
      "(300, 300, 1)\n",
      "Initialisation chosen from the graph\n",
      "(300, 300, 1)\n",
      "Initialisation chosen from the graph\n",
      "(300, 300, 1)\n",
      "Initialisation chosen from the graph\n",
      "(300, 300, 1)\n",
      "Initialisation chosen from the graph\n",
      "(300, 300, 1)\n",
      "Initialisation chosen from the graph\n",
      "(300, 300, 1)\n",
      "Initialisation chosen from the graph\n",
      "(300, 300, 1)\n",
      "Initialisation chosen from the graph\n"
     ]
    },
    {
     "name": "stderr",
     "output_type": "stream",
     "text": [
      "\r",
      "41it [1:11:49, 105.55s/it]"
     ]
    },
    {
     "name": "stdout",
     "output_type": "stream",
     "text": [
      "(300, 300, 1)\n",
      "Initialisation chosen from the graph\n",
      "(300, 300, 1)\n",
      "Initialisation chosen from the graph\n",
      "(300, 300, 1)\n",
      "Initialisation chosen from the graph\n",
      "(300, 300, 1)\n",
      "Initialisation chosen from the graph\n",
      "(300, 300, 1)\n",
      "Initialisation chosen from the graph\n",
      "(300, 300, 1)\n",
      "Initialisation chosen from the graph\n",
      "(300, 300, 1)\n",
      "Initialisation chosen from the graph\n",
      "(300, 300, 1)\n",
      "Initialisation chosen from the graph\n",
      "(300, 300, 1)\n",
      "Initialisation chosen from the graph\n",
      "(300, 300, 1)\n",
      "Initialisation chosen from the graph\n"
     ]
    },
    {
     "name": "stderr",
     "output_type": "stream",
     "text": [
      "\r",
      "42it [1:13:32, 104.99s/it]"
     ]
    },
    {
     "name": "stdout",
     "output_type": "stream",
     "text": [
      "(300, 300, 1)\n",
      "Initialisation chosen from the graph\n",
      "(300, 300, 1)\n",
      "Initialisation chosen from the graph\n",
      "(300, 300, 1)\n",
      "Initialisation chosen from the graph\n",
      "(300, 300, 1)\n",
      "Initialisation chosen from the graph\n",
      "(300, 300, 1)\n",
      "Initialisation chosen from the graph\n",
      "(300, 300, 1)\n",
      "Initialisation chosen from the graph\n",
      "(300, 300, 1)\n",
      "Initialisation chosen from the graph\n",
      "(300, 300, 1)\n",
      "Initialisation chosen from the graph\n",
      "(300, 300, 1)\n",
      "Initialisation chosen from the graph\n",
      "(300, 300, 1)\n",
      "Initialisation chosen from the graph\n"
     ]
    },
    {
     "name": "stderr",
     "output_type": "stream",
     "text": [
      "\r",
      "43it [1:15:20, 105.64s/it]"
     ]
    },
    {
     "name": "stdout",
     "output_type": "stream",
     "text": [
      "(300, 300, 1)\n",
      "Initialisation chosen from the graph\n",
      "(300, 300, 1)\n",
      "Initialisation chosen from the graph\n",
      "(300, 300, 1)\n",
      "Initialisation chosen from the graph\n",
      "(300, 300, 1)\n",
      "Initialisation chosen from the graph\n",
      "(300, 300, 1)\n",
      "Initialisation chosen from the graph\n",
      "(300, 300, 1)\n",
      "Initialisation chosen from the graph\n",
      "(300, 300, 1)\n",
      "Initialisation chosen from the graph\n",
      "(300, 300, 1)\n",
      "Initialisation chosen from the graph\n",
      "(300, 300, 1)\n",
      "Initialisation chosen from the graph\n",
      "(300, 300, 1)\n",
      "Initialisation chosen from the graph\n"
     ]
    },
    {
     "name": "stderr",
     "output_type": "stream",
     "text": [
      "\r",
      "44it [1:17:05, 105.70s/it]"
     ]
    },
    {
     "name": "stdout",
     "output_type": "stream",
     "text": [
      "(300, 300, 1)\n",
      "Initialisation chosen from the attributes\n",
      "(300, 300, 1)\n",
      "Initialisation chosen from the graph\n",
      "(300, 300, 1)\n",
      "Initialisation chosen from the attributes\n",
      "(300, 300, 1)\n",
      "Initialisation chosen from the attributes\n",
      "(300, 300, 1)\n",
      "Initialisation chosen from the attributes\n",
      "(300, 300, 1)\n",
      "Initialisation chosen from the attributes\n",
      "(300, 300, 1)\n",
      "Initialisation chosen from the attributes\n",
      "(300, 300, 1)\n",
      "Initialisation chosen from the graph\n",
      "(300, 300, 1)\n",
      "Initialisation chosen from the attributes\n",
      "(300, 300, 1)\n",
      "Initialisation chosen from the attributes\n"
     ]
    },
    {
     "name": "stderr",
     "output_type": "stream",
     "text": [
      "\r",
      "45it [1:18:52, 105.91s/it]"
     ]
    },
    {
     "name": "stdout",
     "output_type": "stream",
     "text": [
      "(300, 300, 1)\n",
      "Initialisation chosen from the attributes\n",
      "(300, 300, 1)\n",
      "Initialisation chosen from the attributes\n",
      "(300, 300, 1)\n",
      "Initialisation chosen from the attributes\n",
      "(300, 300, 1)\n",
      "Initialisation chosen from the attributes\n",
      "(300, 300, 1)\n",
      "Initialisation chosen from the attributes\n",
      "(300, 300, 1)\n",
      "Initialisation chosen from the attributes\n",
      "(300, 300, 1)\n",
      "Initialisation chosen from the attributes\n",
      "(300, 300, 1)\n",
      "Initialisation chosen from the attributes\n",
      "(300, 300, 1)\n",
      "Initialisation chosen from the attributes\n",
      "(300, 300, 1)\n",
      "Initialisation chosen from the attributes\n"
     ]
    },
    {
     "name": "stderr",
     "output_type": "stream",
     "text": [
      "\r",
      "46it [1:20:38, 105.91s/it]"
     ]
    },
    {
     "name": "stdout",
     "output_type": "stream",
     "text": [
      "(300, 300, 1)\n",
      "Initialisation chosen from the attributes\n",
      "(300, 300, 1)\n",
      "Initialisation chosen from the attributes\n",
      "(300, 300, 1)\n",
      "Initialisation chosen from the attributes\n",
      "(300, 300, 1)\n",
      "Initialisation chosen from the attributes\n",
      "(300, 300, 1)\n",
      "Initialisation chosen from the attributes\n",
      "(300, 300, 1)\n",
      "Initialisation chosen from the attributes\n",
      "(300, 300, 1)\n",
      "Initialisation chosen from the attributes\n",
      "(300, 300, 1)\n",
      "Initialisation chosen from the attributes\n",
      "(300, 300, 1)\n",
      "Initialisation chosen from the attributes\n",
      "(300, 300, 1)\n",
      "Initialisation chosen from the attributes\n"
     ]
    },
    {
     "name": "stderr",
     "output_type": "stream",
     "text": [
      "\r",
      "47it [1:22:23, 105.58s/it]"
     ]
    },
    {
     "name": "stdout",
     "output_type": "stream",
     "text": [
      "(300, 300, 1)\n",
      "Initialisation chosen from the attributes\n",
      "(300, 300, 1)\n",
      "Initialisation chosen from the attributes\n",
      "(300, 300, 1)\n",
      "Initialisation chosen from the attributes\n",
      "(300, 300, 1)\n",
      "Initialisation chosen from the attributes\n",
      "(300, 300, 1)\n",
      "Initialisation chosen from the attributes\n",
      "(300, 300, 1)\n",
      "Initialisation chosen from the attributes\n",
      "(300, 300, 1)\n",
      "Initialisation chosen from the attributes\n",
      "(300, 300, 1)\n",
      "Initialisation chosen from the attributes\n",
      "(300, 300, 1)\n",
      "Initialisation chosen from the attributes\n",
      "(300, 300, 1)\n",
      "Initialisation chosen from the attributes\n"
     ]
    },
    {
     "name": "stderr",
     "output_type": "stream",
     "text": [
      "\r",
      "48it [1:24:09, 105.81s/it]"
     ]
    },
    {
     "name": "stdout",
     "output_type": "stream",
     "text": [
      "(300, 300, 1)\n",
      "Initialisation chosen from the attributes\n",
      "(300, 300, 1)\n",
      "Initialisation chosen from the attributes\n",
      "(300, 300, 1)\n",
      "Initialisation chosen from the attributes\n",
      "(300, 300, 1)\n",
      "Initialisation chosen from the attributes\n",
      "(300, 300, 1)\n",
      "Initialisation chosen from the attributes\n",
      "(300, 300, 1)\n",
      "Initialisation chosen from the attributes\n",
      "(300, 300, 1)\n",
      "Initialisation chosen from the attributes\n",
      "(300, 300, 1)\n",
      "Initialisation chosen from the attributes\n",
      "(300, 300, 1)\n",
      "Initialisation chosen from the attributes\n",
      "(300, 300, 1)\n",
      "Initialisation chosen from the attributes\n"
     ]
    },
    {
     "name": "stderr",
     "output_type": "stream",
     "text": [
      "\r",
      "49it [1:25:55, 105.79s/it]"
     ]
    },
    {
     "name": "stdout",
     "output_type": "stream",
     "text": [
      "(300, 300, 1)\n",
      "Initialisation chosen from the attributes\n",
      "(300, 300, 1)\n",
      "Initialisation chosen from the attributes\n",
      "(300, 300, 1)\n",
      "Initialisation chosen from the attributes\n",
      "(300, 300, 1)\n",
      "Initialisation chosen from the attributes\n",
      "(300, 300, 1)\n",
      "Initialisation chosen from the attributes\n",
      "(300, 300, 1)\n",
      "Initialisation chosen from the attributes\n",
      "(300, 300, 1)\n",
      "Initialisation chosen from the attributes\n",
      "(300, 300, 1)\n",
      "Initialisation chosen from the attributes\n",
      "(300, 300, 1)\n",
      "Initialisation chosen from the attributes\n",
      "(300, 300, 1)\n",
      "Initialisation chosen from the attributes\n"
     ]
    },
    {
     "name": "stderr",
     "output_type": "stream",
     "text": [
      "\r",
      "50it [1:27:40, 105.70s/it]"
     ]
    },
    {
     "name": "stdout",
     "output_type": "stream",
     "text": [
      "(300, 300, 1)\n",
      "Initialisation chosen from the graph\n",
      "(300, 300, 1)\n",
      "Initialisation chosen from the graph\n",
      "(300, 300, 1)\n",
      "Initialisation chosen from the graph\n",
      "(300, 300, 1)\n",
      "Initialisation chosen from the graph\n",
      "(300, 300, 1)\n",
      "Initialisation chosen from the graph\n",
      "(300, 300, 1)\n",
      "Initialisation chosen from the graph\n",
      "(300, 300, 1)\n",
      "Initialisation chosen from the graph\n",
      "(300, 300, 1)\n",
      "Initialisation chosen from the graph\n",
      "(300, 300, 1)\n",
      "Initialisation chosen from the graph\n",
      "(300, 300, 1)\n",
      "Initialisation chosen from the graph\n"
     ]
    },
    {
     "name": "stderr",
     "output_type": "stream",
     "text": [
      "\r",
      "51it [1:29:25, 105.53s/it]"
     ]
    },
    {
     "name": "stdout",
     "output_type": "stream",
     "text": [
      "(300, 300, 1)\n",
      "Initialisation chosen from the graph\n",
      "(300, 300, 1)\n",
      "Initialisation chosen from the graph\n",
      "(300, 300, 1)\n",
      "Initialisation chosen from the graph\n",
      "(300, 300, 1)\n",
      "Initialisation chosen from the graph\n",
      "(300, 300, 1)\n",
      "Initialisation chosen from the graph\n",
      "(300, 300, 1)\n",
      "Initialisation chosen from the graph\n",
      "(300, 300, 1)\n",
      "Initialisation chosen from the graph\n",
      "(300, 300, 1)\n",
      "Initialisation chosen from the graph\n",
      "(300, 300, 1)\n",
      "Initialisation chosen from the graph\n",
      "(300, 300, 1)\n",
      "Initialisation chosen from the graph\n"
     ]
    },
    {
     "name": "stderr",
     "output_type": "stream",
     "text": [
      "\r",
      "52it [1:31:04, 103.51s/it]"
     ]
    },
    {
     "name": "stdout",
     "output_type": "stream",
     "text": [
      "(300, 300, 1)\n",
      "Initialisation chosen from the graph\n",
      "(300, 300, 1)\n",
      "Initialisation chosen from the graph\n",
      "(300, 300, 1)\n",
      "Initialisation chosen from the graph\n",
      "(300, 300, 1)\n",
      "Initialisation chosen from the graph\n",
      "(300, 300, 1)\n",
      "Initialisation chosen from the graph\n",
      "(300, 300, 1)\n",
      "Initialisation chosen from the graph\n",
      "(300, 300, 1)\n",
      "Initialisation chosen from the graph\n",
      "(300, 300, 1)\n",
      "Initialisation chosen from the graph\n",
      "(300, 300, 1)\n",
      "Initialisation chosen from the graph\n",
      "(300, 300, 1)\n",
      "Initialisation chosen from the graph\n"
     ]
    },
    {
     "name": "stderr",
     "output_type": "stream",
     "text": [
      "\r",
      "53it [1:32:50, 104.13s/it]"
     ]
    },
    {
     "name": "stdout",
     "output_type": "stream",
     "text": [
      "(300, 300, 1)\n",
      "Initialisation chosen from the graph\n",
      "(300, 300, 1)\n",
      "Initialisation chosen from the graph\n",
      "(300, 300, 1)\n",
      "Initialisation chosen from the graph\n",
      "(300, 300, 1)\n",
      "Initialisation chosen from the graph\n",
      "(300, 300, 1)\n",
      "Initialisation chosen from the graph\n",
      "(300, 300, 1)\n",
      "Initialisation chosen from the graph\n",
      "(300, 300, 1)\n",
      "Initialisation chosen from the graph\n",
      "(300, 300, 1)\n",
      "Initialisation chosen from the graph\n",
      "(300, 300, 1)\n",
      "Initialisation chosen from the graph\n",
      "(300, 300, 1)\n",
      "Initialisation chosen from the graph\n"
     ]
    },
    {
     "name": "stderr",
     "output_type": "stream",
     "text": [
      "\r",
      "54it [1:34:36, 104.81s/it]"
     ]
    },
    {
     "name": "stdout",
     "output_type": "stream",
     "text": [
      "(300, 300, 1)\n",
      "Initialisation chosen from the graph\n",
      "(300, 300, 1)\n",
      "Initialisation chosen from the graph\n",
      "(300, 300, 1)\n",
      "Initialisation chosen from the graph\n",
      "(300, 300, 1)\n",
      "Initialisation chosen from the graph\n",
      "(300, 300, 1)\n",
      "Initialisation chosen from the graph\n",
      "(300, 300, 1)\n",
      "Initialisation chosen from the graph\n",
      "(300, 300, 1)\n",
      "Initialisation chosen from the graph\n",
      "(300, 300, 1)\n",
      "Initialisation chosen from the graph\n",
      "(300, 300, 1)\n",
      "Initialisation chosen from the graph\n",
      "(300, 300, 1)\n",
      "Initialisation chosen from the graph\n"
     ]
    },
    {
     "name": "stderr",
     "output_type": "stream",
     "text": [
      "\r",
      "55it [1:36:21, 104.97s/it]"
     ]
    },
    {
     "name": "stdout",
     "output_type": "stream",
     "text": [
      "(300, 300, 1)\n",
      "Initialisation chosen from the attributes\n",
      "(300, 300, 1)\n",
      "Initialisation chosen from the attributes\n",
      "(300, 300, 1)\n",
      "Initialisation chosen from the attributes\n",
      "(300, 300, 1)\n",
      "Initialisation chosen from the attributes\n",
      "(300, 300, 1)\n",
      "Initialisation chosen from the attributes\n",
      "(300, 300, 1)\n",
      "Initialisation chosen from the attributes\n",
      "(300, 300, 1)\n",
      "Initialisation chosen from the attributes\n",
      "(300, 300, 1)\n",
      "Initialisation chosen from the attributes\n",
      "(300, 300, 1)\n",
      "Initialisation chosen from the attributes\n",
      "(300, 300, 1)\n",
      "Initialisation chosen from the attributes\n"
     ]
    },
    {
     "name": "stderr",
     "output_type": "stream",
     "text": [
      "\r",
      "56it [1:38:08, 105.36s/it]"
     ]
    },
    {
     "name": "stdout",
     "output_type": "stream",
     "text": [
      "(300, 300, 1)\n",
      "Initialisation chosen from the attributes\n",
      "(300, 300, 1)\n",
      "Initialisation chosen from the attributes\n",
      "(300, 300, 1)\n",
      "Initialisation chosen from the attributes\n",
      "(300, 300, 1)\n",
      "Initialisation chosen from the attributes\n",
      "(300, 300, 1)\n",
      "Initialisation chosen from the attributes\n",
      "(300, 300, 1)\n",
      "Initialisation chosen from the attributes\n",
      "(300, 300, 1)\n",
      "Initialisation chosen from the attributes\n",
      "(300, 300, 1)\n",
      "Initialisation chosen from the attributes\n",
      "(300, 300, 1)\n",
      "Initialisation chosen from the attributes\n",
      "(300, 300, 1)\n",
      "Initialisation chosen from the attributes\n"
     ]
    },
    {
     "name": "stderr",
     "output_type": "stream",
     "text": [
      "\r",
      "57it [1:39:53, 105.22s/it]"
     ]
    },
    {
     "name": "stdout",
     "output_type": "stream",
     "text": [
      "(300, 300, 1)\n",
      "Initialisation chosen from the attributes\n",
      "(300, 300, 1)\n",
      "Initialisation chosen from the attributes\n",
      "(300, 300, 1)\n",
      "Initialisation chosen from the attributes\n",
      "(300, 300, 1)\n",
      "Initialisation chosen from the attributes\n",
      "(300, 300, 1)\n",
      "Initialisation chosen from the attributes\n",
      "(300, 300, 1)\n",
      "Initialisation chosen from the attributes\n",
      "(300, 300, 1)\n",
      "Initialisation chosen from the attributes\n",
      "(300, 300, 1)\n",
      "Initialisation chosen from the attributes\n",
      "(300, 300, 1)\n",
      "Initialisation chosen from the attributes\n",
      "(300, 300, 1)\n",
      "Initialisation chosen from the attributes\n"
     ]
    },
    {
     "name": "stderr",
     "output_type": "stream",
     "text": [
      "\r",
      "58it [1:41:40, 105.86s/it]"
     ]
    },
    {
     "name": "stdout",
     "output_type": "stream",
     "text": [
      "(300, 300, 1)\n",
      "Initialisation chosen from the attributes\n",
      "(300, 300, 1)\n",
      "Initialisation chosen from the attributes\n",
      "(300, 300, 1)\n",
      "Initialisation chosen from the attributes\n",
      "(300, 300, 1)\n",
      "Initialisation chosen from the attributes\n",
      "(300, 300, 1)\n",
      "Initialisation chosen from the attributes\n",
      "(300, 300, 1)\n",
      "Initialisation chosen from the attributes\n",
      "(300, 300, 1)\n",
      "Initialisation chosen from the attributes\n",
      "(300, 300, 1)\n",
      "Initialisation chosen from the attributes\n",
      "(300, 300, 1)\n",
      "Initialisation chosen from the attributes\n",
      "(300, 300, 1)\n",
      "Initialisation chosen from the attributes\n"
     ]
    },
    {
     "name": "stderr",
     "output_type": "stream",
     "text": [
      "\r",
      "59it [1:43:25, 105.75s/it]"
     ]
    },
    {
     "name": "stdout",
     "output_type": "stream",
     "text": [
      "(300, 300, 1)\n",
      "Initialisation chosen from the attributes\n",
      "(300, 300, 1)\n",
      "Initialisation chosen from the attributes\n",
      "(300, 300, 1)\n",
      "Initialisation chosen from the attributes\n",
      "(300, 300, 1)\n",
      "Initialisation chosen from the attributes\n",
      "(300, 300, 1)\n",
      "Initialisation chosen from the attributes\n",
      "(300, 300, 1)\n",
      "Initialisation chosen from the attributes\n",
      "(300, 300, 1)\n",
      "Initialisation chosen from the attributes\n",
      "(300, 300, 1)\n",
      "Initialisation chosen from the attributes\n",
      "(300, 300, 1)\n",
      "Initialisation chosen from the attributes\n",
      "(300, 300, 1)\n",
      "Initialisation chosen from the attributes\n"
     ]
    },
    {
     "name": "stderr",
     "output_type": "stream",
     "text": [
      "\r",
      "60it [1:45:11, 105.85s/it]"
     ]
    },
    {
     "name": "stdout",
     "output_type": "stream",
     "text": [
      "(300, 300, 1)\n",
      "Initialisation chosen from the graph\n",
      "(300, 300, 1)\n",
      "Initialisation chosen from the graph\n",
      "(300, 300, 1)\n",
      "Initialisation chosen from the graph\n",
      "(300, 300, 1)\n",
      "Initialisation chosen from the graph\n",
      "(300, 300, 1)\n",
      "Initialisation chosen from the graph\n",
      "(300, 300, 1)\n",
      "Initialisation chosen from the graph\n",
      "(300, 300, 1)\n",
      "Initialisation chosen from the graph\n",
      "(300, 300, 1)\n",
      "Initialisation chosen from the graph\n",
      "(300, 300, 1)\n",
      "Initialisation chosen from the graph\n",
      "(300, 300, 1)\n",
      "Initialisation chosen from the graph\n"
     ]
    },
    {
     "name": "stderr",
     "output_type": "stream",
     "text": [
      "\r",
      "61it [1:46:59, 106.31s/it]"
     ]
    },
    {
     "name": "stdout",
     "output_type": "stream",
     "text": [
      "(300, 300, 1)\n",
      "Initialisation chosen from the graph\n",
      "(300, 300, 1)\n",
      "Initialisation chosen from the graph\n",
      "(300, 300, 1)\n",
      "Initialisation chosen from the graph\n",
      "(300, 300, 1)\n",
      "Initialisation chosen from the graph\n",
      "(300, 300, 1)\n",
      "Initialisation chosen from the graph\n",
      "(300, 300, 1)\n",
      "Initialisation chosen from the graph\n",
      "(300, 300, 1)\n",
      "Initialisation chosen from the graph\n",
      "(300, 300, 1)\n",
      "Initialisation chosen from the graph\n",
      "(300, 300, 1)\n",
      "Initialisation chosen from the graph\n",
      "(300, 300, 1)\n",
      "Initialisation chosen from the graph\n"
     ]
    },
    {
     "name": "stderr",
     "output_type": "stream",
     "text": [
      "\r",
      "62it [1:48:44, 106.10s/it]"
     ]
    },
    {
     "name": "stdout",
     "output_type": "stream",
     "text": [
      "(300, 300, 1)\n",
      "Initialisation chosen from the graph\n",
      "(300, 300, 1)\n",
      "Initialisation chosen from the graph\n",
      "(300, 300, 1)\n",
      "Initialisation chosen from the graph\n",
      "(300, 300, 1)\n",
      "Initialisation chosen from the graph\n",
      "(300, 300, 1)\n",
      "Initialisation chosen from the graph\n",
      "(300, 300, 1)\n",
      "Initialisation chosen from the graph\n",
      "(300, 300, 1)\n",
      "Initialisation chosen from the graph\n",
      "(300, 300, 1)\n",
      "Initialisation chosen from the graph\n",
      "(300, 300, 1)\n",
      "Initialisation chosen from the graph\n",
      "(300, 300, 1)\n",
      "Initialisation chosen from the graph\n"
     ]
    },
    {
     "name": "stderr",
     "output_type": "stream",
     "text": [
      "\r",
      "63it [1:50:32, 106.37s/it]"
     ]
    },
    {
     "name": "stdout",
     "output_type": "stream",
     "text": [
      "(300, 300, 1)\n",
      "Initialisation chosen from the graph\n",
      "(300, 300, 1)\n",
      "Initialisation chosen from the graph\n",
      "(300, 300, 1)\n",
      "Initialisation chosen from the graph\n",
      "(300, 300, 1)\n",
      "Initialisation chosen from the graph\n",
      "(300, 300, 1)\n",
      "Initialisation chosen from the graph\n",
      "(300, 300, 1)\n",
      "Initialisation chosen from the graph\n",
      "(300, 300, 1)\n",
      "Initialisation chosen from the graph\n",
      "(300, 300, 1)\n",
      "Initialisation chosen from the graph\n",
      "(300, 300, 1)\n",
      "Initialisation chosen from the graph\n",
      "(300, 300, 1)\n",
      "Initialisation chosen from the graph\n"
     ]
    },
    {
     "name": "stderr",
     "output_type": "stream",
     "text": [
      "\r",
      "64it [1:52:18, 106.40s/it]"
     ]
    },
    {
     "name": "stdout",
     "output_type": "stream",
     "text": [
      "(300, 300, 1)\n",
      "Initialisation chosen from the graph\n",
      "(300, 300, 1)\n",
      "Initialisation chosen from the graph\n",
      "(300, 300, 1)\n",
      "Initialisation chosen from the graph\n",
      "(300, 300, 1)\n",
      "Initialisation chosen from the graph\n",
      "(300, 300, 1)\n",
      "Initialisation chosen from the graph\n",
      "(300, 300, 1)\n",
      "Initialisation chosen from the graph\n",
      "(300, 300, 1)\n",
      "Initialisation chosen from the graph\n",
      "(300, 300, 1)\n",
      "Initialisation chosen from the graph\n",
      "(300, 300, 1)\n",
      "Initialisation chosen from the graph\n",
      "(300, 300, 1)\n",
      "Initialisation chosen from the graph\n"
     ]
    },
    {
     "name": "stderr",
     "output_type": "stream",
     "text": [
      "\r",
      "65it [1:54:04, 106.43s/it]"
     ]
    },
    {
     "name": "stdout",
     "output_type": "stream",
     "text": [
      "(300, 300, 1)\n",
      "Initialisation chosen from the graph\n",
      "(300, 300, 1)\n",
      "Initialisation chosen from the graph\n",
      "(300, 300, 1)\n",
      "Initialisation chosen from the graph\n",
      "(300, 300, 1)\n",
      "Initialisation chosen from the graph\n",
      "(300, 300, 1)\n",
      "Initialisation chosen from the graph\n",
      "(300, 300, 1)\n",
      "Initialisation chosen from the graph\n",
      "(300, 300, 1)\n",
      "Initialisation chosen from the graph\n",
      "(300, 300, 1)\n",
      "Initialisation chosen from the graph\n",
      "(300, 300, 1)\n",
      "Initialisation chosen from the graph\n",
      "(300, 300, 1)\n",
      "Initialisation chosen from the graph\n"
     ]
    },
    {
     "name": "stderr",
     "output_type": "stream",
     "text": [
      "\r",
      "66it [1:55:49, 105.94s/it]"
     ]
    },
    {
     "name": "stdout",
     "output_type": "stream",
     "text": [
      "(300, 300, 1)\n",
      "Initialisation chosen from the attributes\n",
      "(300, 300, 1)\n",
      "Initialisation chosen from the attributes\n",
      "(300, 300, 1)\n",
      "Initialisation chosen from the attributes\n",
      "(300, 300, 1)\n",
      "Initialisation chosen from the attributes\n",
      "(300, 300, 1)\n",
      "Initialisation chosen from the attributes\n",
      "(300, 300, 1)\n",
      "Initialisation chosen from the attributes\n",
      "(300, 300, 1)\n",
      "Initialisation chosen from the attributes\n",
      "(300, 300, 1)\n",
      "Initialisation chosen from the attributes\n",
      "(300, 300, 1)\n",
      "Initialisation chosen from the attributes\n",
      "(300, 300, 1)\n",
      "Initialisation chosen from the attributes\n"
     ]
    },
    {
     "name": "stderr",
     "output_type": "stream",
     "text": [
      "\r",
      "67it [1:57:36, 106.17s/it]"
     ]
    },
    {
     "name": "stdout",
     "output_type": "stream",
     "text": [
      "(300, 300, 1)\n",
      "Initialisation chosen from the attributes\n",
      "(300, 300, 1)\n",
      "Initialisation chosen from the attributes\n",
      "(300, 300, 1)\n",
      "Initialisation chosen from the attributes\n",
      "(300, 300, 1)\n",
      "Initialisation chosen from the attributes\n",
      "(300, 300, 1)\n",
      "Initialisation chosen from the attributes\n",
      "(300, 300, 1)\n",
      "Initialisation chosen from the attributes\n",
      "(300, 300, 1)\n",
      "Initialisation chosen from the attributes\n",
      "(300, 300, 1)\n",
      "Initialisation chosen from the attributes\n",
      "(300, 300, 1)\n",
      "Initialisation chosen from the attributes\n",
      "(300, 300, 1)\n",
      "Initialisation chosen from the attributes\n"
     ]
    },
    {
     "name": "stderr",
     "output_type": "stream",
     "text": [
      "\r",
      "68it [1:59:21, 105.89s/it]"
     ]
    },
    {
     "name": "stdout",
     "output_type": "stream",
     "text": [
      "(300, 300, 1)\n",
      "Initialisation chosen from the attributes\n",
      "(300, 300, 1)\n",
      "Initialisation chosen from the attributes\n",
      "(300, 300, 1)\n",
      "Initialisation chosen from the attributes\n",
      "(300, 300, 1)\n",
      "Initialisation chosen from the attributes\n",
      "(300, 300, 1)\n",
      "Initialisation chosen from the attributes\n",
      "(300, 300, 1)\n",
      "Initialisation chosen from the attributes\n",
      "(300, 300, 1)\n",
      "Initialisation chosen from the attributes\n",
      "(300, 300, 1)\n",
      "Initialisation chosen from the attributes\n",
      "(300, 300, 1)\n",
      "Initialisation chosen from the attributes\n",
      "(300, 300, 1)\n",
      "Initialisation chosen from the attributes\n"
     ]
    },
    {
     "name": "stderr",
     "output_type": "stream",
     "text": [
      "\r",
      "69it [2:01:09, 106.58s/it]"
     ]
    },
    {
     "name": "stdout",
     "output_type": "stream",
     "text": [
      "(300, 300, 1)\n",
      "Initialisation chosen from the attributes\n",
      "(300, 300, 1)\n",
      "Initialisation chosen from the attributes\n",
      "(300, 300, 1)\n",
      "Initialisation chosen from the attributes\n",
      "(300, 300, 1)\n",
      "Initialisation chosen from the attributes\n",
      "(300, 300, 1)\n",
      "Initialisation chosen from the attributes\n",
      "(300, 300, 1)\n",
      "Initialisation chosen from the attributes\n",
      "(300, 300, 1)\n",
      "Initialisation chosen from the attributes\n",
      "(300, 300, 1)\n",
      "Initialisation chosen from the attributes\n",
      "(300, 300, 1)\n",
      "Initialisation chosen from the attributes\n",
      "(300, 300, 1)\n",
      "Initialisation chosen from the attributes\n"
     ]
    },
    {
     "name": "stderr",
     "output_type": "stream",
     "text": [
      "\r",
      "70it [2:02:56, 106.61s/it]"
     ]
    },
    {
     "name": "stdout",
     "output_type": "stream",
     "text": [
      "(300, 300, 1)\n",
      "Initialisation chosen from the graph\n",
      "(300, 300, 1)\n",
      "Initialisation chosen from the graph\n",
      "(300, 300, 1)\n",
      "Initialisation chosen from the graph\n",
      "(300, 300, 1)\n",
      "Initialisation chosen from the graph\n",
      "(300, 300, 1)\n",
      "Initialisation chosen from the graph\n",
      "(300, 300, 1)\n",
      "Initialisation chosen from the graph\n",
      "(300, 300, 1)\n",
      "Initialisation chosen from the graph\n",
      "(300, 300, 1)\n",
      "Initialisation chosen from the graph\n",
      "(300, 300, 1)\n",
      "Initialisation chosen from the graph\n",
      "(300, 300, 1)\n",
      "Initialisation chosen from the graph\n"
     ]
    },
    {
     "name": "stderr",
     "output_type": "stream",
     "text": [
      "\r",
      "71it [2:04:41, 106.18s/it]"
     ]
    },
    {
     "name": "stdout",
     "output_type": "stream",
     "text": [
      "(300, 300, 1)\n",
      "Initialisation chosen from the graph\n",
      "(300, 300, 1)\n",
      "Initialisation chosen from the graph\n",
      "(300, 300, 1)\n",
      "Initialisation chosen from the graph\n",
      "(300, 300, 1)\n",
      "Initialisation chosen from the graph\n",
      "(300, 300, 1)\n",
      "Initialisation chosen from the graph\n",
      "(300, 300, 1)\n",
      "Initialisation chosen from the graph\n",
      "(300, 300, 1)\n",
      "Initialisation chosen from the graph\n",
      "(300, 300, 1)\n",
      "Initialisation chosen from the graph\n",
      "(300, 300, 1)\n",
      "Initialisation chosen from the graph\n",
      "(300, 300, 1)\n",
      "Initialisation chosen from the graph\n"
     ]
    },
    {
     "name": "stderr",
     "output_type": "stream",
     "text": [
      "\r",
      "72it [2:06:29, 106.62s/it]"
     ]
    },
    {
     "name": "stdout",
     "output_type": "stream",
     "text": [
      "(300, 300, 1)\n",
      "Initialisation chosen from the graph\n",
      "(300, 300, 1)\n",
      "Initialisation chosen from the graph\n",
      "(300, 300, 1)\n",
      "Initialisation chosen from the graph\n",
      "(300, 300, 1)\n",
      "Initialisation chosen from the graph\n",
      "(300, 300, 1)\n",
      "Initialisation chosen from the graph\n",
      "(300, 300, 1)\n",
      "Initialisation chosen from the graph\n",
      "(300, 300, 1)\n",
      "Initialisation chosen from the graph\n",
      "(300, 300, 1)\n",
      "Initialisation chosen from the graph\n",
      "(300, 300, 1)\n",
      "Initialisation chosen from the graph\n",
      "(300, 300, 1)\n",
      "Initialisation chosen from the graph\n"
     ]
    },
    {
     "name": "stderr",
     "output_type": "stream",
     "text": [
      "\r",
      "73it [2:08:05, 103.61s/it]"
     ]
    },
    {
     "name": "stdout",
     "output_type": "stream",
     "text": [
      "(300, 300, 1)\n",
      "Initialisation chosen from the graph\n",
      "(300, 300, 1)\n",
      "Initialisation chosen from the graph\n",
      "(300, 300, 1)\n",
      "Initialisation chosen from the graph\n",
      "(300, 300, 1)\n",
      "Initialisation chosen from the graph\n",
      "(300, 300, 1)\n",
      "Initialisation chosen from the graph\n",
      "(300, 300, 1)\n",
      "Initialisation chosen from the graph\n",
      "(300, 300, 1)\n",
      "Initialisation chosen from the graph\n",
      "(300, 300, 1)\n",
      "Initialisation chosen from the graph\n",
      "(300, 300, 1)\n",
      "Initialisation chosen from the graph\n",
      "(300, 300, 1)\n",
      "Initialisation chosen from the graph\n"
     ]
    },
    {
     "name": "stderr",
     "output_type": "stream",
     "text": [
      "\r",
      "74it [2:09:35, 99.47s/it] "
     ]
    },
    {
     "name": "stdout",
     "output_type": "stream",
     "text": [
      "(300, 300, 1)\n",
      "Initialisation chosen from the graph\n",
      "(300, 300, 1)\n",
      "Initialisation chosen from the graph\n",
      "(300, 300, 1)\n",
      "Initialisation chosen from the graph\n",
      "(300, 300, 1)\n",
      "Initialisation chosen from the graph\n",
      "(300, 300, 1)\n",
      "Initialisation chosen from the graph\n",
      "(300, 300, 1)\n",
      "Initialisation chosen from the graph\n",
      "(300, 300, 1)\n",
      "Initialisation chosen from the graph\n",
      "(300, 300, 1)\n",
      "Initialisation chosen from the graph\n",
      "(300, 300, 1)\n",
      "Initialisation chosen from the graph\n",
      "(300, 300, 1)\n",
      "Initialisation chosen from the graph\n"
     ]
    },
    {
     "name": "stderr",
     "output_type": "stream",
     "text": [
      "\r",
      "75it [2:11:20, 101.08s/it]"
     ]
    },
    {
     "name": "stdout",
     "output_type": "stream",
     "text": [
      "(300, 300, 1)\n",
      "Initialisation chosen from the graph\n",
      "(300, 300, 1)\n",
      "Initialisation chosen from the graph\n",
      "(300, 300, 1)\n",
      "Initialisation chosen from the graph\n",
      "(300, 300, 1)\n",
      "Initialisation chosen from the graph\n",
      "(300, 300, 1)\n",
      "Initialisation chosen from the graph\n",
      "(300, 300, 1)\n",
      "Initialisation chosen from the graph\n",
      "(300, 300, 1)\n",
      "Initialisation chosen from the graph\n",
      "(300, 300, 1)\n",
      "Initialisation chosen from the graph\n",
      "(300, 300, 1)\n",
      "Initialisation chosen from the graph\n",
      "(300, 300, 1)\n",
      "Initialisation chosen from the graph\n"
     ]
    },
    {
     "name": "stderr",
     "output_type": "stream",
     "text": [
      "\r",
      "76it [2:13:08, 103.04s/it]"
     ]
    },
    {
     "name": "stdout",
     "output_type": "stream",
     "text": [
      "(300, 300, 1)\n",
      "Initialisation chosen from the graph\n",
      "(300, 300, 1)\n",
      "Initialisation chosen from the graph\n",
      "(300, 300, 1)\n",
      "Initialisation chosen from the graph\n",
      "(300, 300, 1)\n",
      "Initialisation chosen from the graph\n",
      "(300, 300, 1)\n",
      "Initialisation chosen from the graph\n",
      "(300, 300, 1)\n",
      "Initialisation chosen from the graph\n",
      "(300, 300, 1)\n",
      "Initialisation chosen from the graph\n",
      "(300, 300, 1)\n",
      "Initialisation chosen from the attributes\n",
      "(300, 300, 1)\n",
      "Initialisation chosen from the graph\n",
      "(300, 300, 1)\n",
      "Initialisation chosen from the graph\n"
     ]
    },
    {
     "name": "stderr",
     "output_type": "stream",
     "text": [
      "\r",
      "77it [2:14:54, 103.94s/it]"
     ]
    },
    {
     "name": "stdout",
     "output_type": "stream",
     "text": [
      "(300, 300, 1)\n",
      "Initialisation chosen from the attributes\n",
      "(300, 300, 1)\n",
      "Initialisation chosen from the attributes\n",
      "(300, 300, 1)\n",
      "Initialisation chosen from the attributes\n",
      "(300, 300, 1)\n",
      "Initialisation chosen from the attributes\n",
      "(300, 300, 1)\n",
      "Initialisation chosen from the graph\n",
      "(300, 300, 1)\n",
      "Initialisation chosen from the attributes\n",
      "(300, 300, 1)\n",
      "Initialisation chosen from the attributes\n",
      "(300, 300, 1)\n",
      "Initialisation chosen from the attributes\n",
      "(300, 300, 1)\n",
      "Initialisation chosen from the graph\n",
      "(300, 300, 1)\n",
      "Initialisation chosen from the attributes\n"
     ]
    },
    {
     "name": "stderr",
     "output_type": "stream",
     "text": [
      "\r",
      "78it [2:16:39, 104.33s/it]"
     ]
    },
    {
     "name": "stdout",
     "output_type": "stream",
     "text": [
      "(300, 300, 1)\n",
      "Initialisation chosen from the attributes\n",
      "(300, 300, 1)\n",
      "Initialisation chosen from the attributes\n",
      "(300, 300, 1)\n",
      "Initialisation chosen from the attributes\n",
      "(300, 300, 1)\n",
      "Initialisation chosen from the attributes\n",
      "(300, 300, 1)\n",
      "Initialisation chosen from the attributes\n",
      "(300, 300, 1)\n",
      "Initialisation chosen from the attributes\n",
      "(300, 300, 1)\n",
      "Initialisation chosen from the attributes\n",
      "(300, 300, 1)\n",
      "Initialisation chosen from the attributes\n",
      "(300, 300, 1)\n",
      "Initialisation chosen from the attributes\n",
      "(300, 300, 1)\n",
      "Initialisation chosen from the attributes\n"
     ]
    },
    {
     "name": "stderr",
     "output_type": "stream",
     "text": [
      "\r",
      "79it [2:18:27, 105.34s/it]"
     ]
    },
    {
     "name": "stdout",
     "output_type": "stream",
     "text": [
      "(300, 300, 1)\n",
      "Initialisation chosen from the attributes\n",
      "(300, 300, 1)\n",
      "Initialisation chosen from the attributes\n",
      "(300, 300, 1)\n",
      "Initialisation chosen from the attributes\n",
      "(300, 300, 1)\n",
      "Initialisation chosen from the attributes\n",
      "(300, 300, 1)\n",
      "Initialisation chosen from the attributes\n",
      "(300, 300, 1)\n",
      "Initialisation chosen from the attributes\n",
      "(300, 300, 1)\n",
      "Initialisation chosen from the attributes\n",
      "(300, 300, 1)\n",
      "Initialisation chosen from the attributes\n",
      "(300, 300, 1)\n",
      "Initialisation chosen from the attributes\n",
      "(300, 300, 1)\n",
      "Initialisation chosen from the attributes\n"
     ]
    },
    {
     "name": "stderr",
     "output_type": "stream",
     "text": [
      "\r",
      "80it [2:20:13, 105.65s/it]"
     ]
    },
    {
     "name": "stdout",
     "output_type": "stream",
     "text": [
      "(300, 300, 1)\n",
      "Initialisation chosen from the graph\n",
      "(300, 300, 1)\n",
      "Initialisation chosen from the graph\n",
      "(300, 300, 1)\n",
      "Initialisation chosen from the graph\n",
      "(300, 300, 1)\n",
      "Initialisation chosen from the graph\n",
      "(300, 300, 1)\n",
      "Initialisation chosen from the graph\n",
      "(300, 300, 1)\n",
      "Initialisation chosen from the graph\n",
      "(300, 300, 1)\n",
      "Initialisation chosen from the graph\n",
      "(300, 300, 1)\n",
      "Initialisation chosen from the graph\n",
      "(300, 300, 1)\n",
      "Initialisation chosen from the graph\n",
      "(300, 300, 1)\n",
      "Initialisation chosen from the graph\n"
     ]
    },
    {
     "name": "stderr",
     "output_type": "stream",
     "text": [
      "\r",
      "81it [2:22:00, 105.88s/it]"
     ]
    },
    {
     "name": "stdout",
     "output_type": "stream",
     "text": [
      "(300, 300, 1)\n",
      "Initialisation chosen from the graph\n",
      "(300, 300, 1)\n",
      "Initialisation chosen from the graph\n",
      "(300, 300, 1)\n",
      "Initialisation chosen from the graph\n",
      "(300, 300, 1)\n",
      "Initialisation chosen from the graph\n",
      "(300, 300, 1)\n",
      "Initialisation chosen from the graph\n",
      "(300, 300, 1)\n",
      "Initialisation chosen from the graph\n",
      "(300, 300, 1)\n",
      "Initialisation chosen from the graph\n",
      "(300, 300, 1)\n",
      "Initialisation chosen from the graph\n",
      "(300, 300, 1)\n",
      "Initialisation chosen from the graph\n",
      "(300, 300, 1)\n",
      "Initialisation chosen from the graph\n"
     ]
    },
    {
     "name": "stderr",
     "output_type": "stream",
     "text": [
      "\r",
      "82it [2:23:45, 105.79s/it]"
     ]
    },
    {
     "name": "stdout",
     "output_type": "stream",
     "text": [
      "(300, 300, 1)\n",
      "Initialisation chosen from the graph\n",
      "(300, 300, 1)\n",
      "Initialisation chosen from the graph\n",
      "(300, 300, 1)\n",
      "Initialisation chosen from the graph\n",
      "(300, 300, 1)\n",
      "Initialisation chosen from the graph\n",
      "(300, 300, 1)\n",
      "Initialisation chosen from the graph\n",
      "(300, 300, 1)\n",
      "Initialisation chosen from the graph\n",
      "(300, 300, 1)\n",
      "Initialisation chosen from the graph\n",
      "(300, 300, 1)\n",
      "Initialisation chosen from the graph\n",
      "(300, 300, 1)\n",
      "Initialisation chosen from the graph\n",
      "(300, 300, 1)\n",
      "Initialisation chosen from the graph\n"
     ]
    },
    {
     "name": "stderr",
     "output_type": "stream",
     "text": [
      "\r",
      "83it [2:25:31, 105.83s/it]"
     ]
    },
    {
     "name": "stdout",
     "output_type": "stream",
     "text": [
      "(300, 300, 1)\n",
      "Initialisation chosen from the graph\n",
      "(300, 300, 1)\n",
      "Initialisation chosen from the graph\n",
      "(300, 300, 1)\n",
      "Initialisation chosen from the graph\n",
      "(300, 300, 1)\n",
      "Initialisation chosen from the graph\n",
      "(300, 300, 1)\n",
      "Initialisation chosen from the graph\n",
      "(300, 300, 1)\n",
      "Initialisation chosen from the graph\n",
      "(300, 300, 1)\n",
      "Initialisation chosen from the graph\n",
      "(300, 300, 1)\n",
      "Initialisation chosen from the graph\n",
      "(300, 300, 1)\n",
      "Initialisation chosen from the graph\n",
      "(300, 300, 1)\n",
      "Initialisation chosen from the graph\n"
     ]
    },
    {
     "name": "stderr",
     "output_type": "stream",
     "text": [
      "\r",
      "84it [2:27:17, 105.90s/it]"
     ]
    },
    {
     "name": "stdout",
     "output_type": "stream",
     "text": [
      "(300, 300, 1)\n",
      "Initialisation chosen from the graph\n",
      "(300, 300, 1)\n",
      "Initialisation chosen from the graph\n",
      "(300, 300, 1)\n",
      "Initialisation chosen from the graph\n",
      "(300, 300, 1)\n",
      "Initialisation chosen from the graph\n",
      "(300, 300, 1)\n",
      "Initialisation chosen from the graph\n",
      "(300, 300, 1)\n",
      "Initialisation chosen from the graph\n",
      "(300, 300, 1)\n",
      "Initialisation chosen from the graph\n",
      "(300, 300, 1)\n",
      "Initialisation chosen from the graph\n",
      "(300, 300, 1)\n",
      "Initialisation chosen from the graph\n",
      "(300, 300, 1)\n",
      "Initialisation chosen from the graph\n"
     ]
    },
    {
     "name": "stderr",
     "output_type": "stream",
     "text": [
      "\r",
      "85it [2:29:04, 106.08s/it]"
     ]
    },
    {
     "name": "stdout",
     "output_type": "stream",
     "text": [
      "(300, 300, 1)\n",
      "Initialisation chosen from the graph\n",
      "(300, 300, 1)\n",
      "Initialisation chosen from the graph\n",
      "(300, 300, 1)\n",
      "Initialisation chosen from the graph\n",
      "(300, 300, 1)\n",
      "Initialisation chosen from the graph\n",
      "(300, 300, 1)\n",
      "Initialisation chosen from the graph\n",
      "(300, 300, 1)\n",
      "Initialisation chosen from the graph\n",
      "(300, 300, 1)\n",
      "Initialisation chosen from the graph\n",
      "(300, 300, 1)\n",
      "Initialisation chosen from the graph\n",
      "(300, 300, 1)\n",
      "Initialisation chosen from the graph\n",
      "(300, 300, 1)\n",
      "Initialisation chosen from the graph\n"
     ]
    },
    {
     "name": "stderr",
     "output_type": "stream",
     "text": [
      "\r",
      "86it [2:30:50, 106.06s/it]"
     ]
    },
    {
     "name": "stdout",
     "output_type": "stream",
     "text": [
      "(300, 300, 1)\n",
      "Initialisation chosen from the graph\n",
      "(300, 300, 1)\n",
      "Initialisation chosen from the graph\n",
      "(300, 300, 1)\n",
      "Initialisation chosen from the graph\n",
      "(300, 300, 1)\n",
      "Initialisation chosen from the graph\n",
      "(300, 300, 1)\n",
      "Initialisation chosen from the graph\n",
      "(300, 300, 1)\n",
      "Initialisation chosen from the graph\n",
      "(300, 300, 1)\n",
      "Initialisation chosen from the graph\n",
      "(300, 300, 1)\n",
      "Initialisation chosen from the graph\n",
      "(300, 300, 1)\n",
      "Initialisation chosen from the graph\n",
      "(300, 300, 1)\n",
      "Initialisation chosen from the graph\n"
     ]
    },
    {
     "name": "stderr",
     "output_type": "stream",
     "text": [
      "\r",
      "87it [2:32:35, 105.84s/it]"
     ]
    },
    {
     "name": "stdout",
     "output_type": "stream",
     "text": [
      "(300, 300, 1)\n",
      "Initialisation chosen from the graph\n",
      "(300, 300, 1)\n",
      "Initialisation chosen from the graph\n",
      "(300, 300, 1)\n",
      "Initialisation chosen from the graph\n",
      "(300, 300, 1)\n",
      "Initialisation chosen from the graph\n",
      "(300, 300, 1)\n",
      "Initialisation chosen from the graph\n",
      "(300, 300, 1)\n",
      "Initialisation chosen from the graph\n",
      "(300, 300, 1)\n",
      "Initialisation chosen from the graph\n",
      "(300, 300, 1)\n",
      "Initialisation chosen from the graph\n",
      "(300, 300, 1)\n",
      "Initialisation chosen from the graph\n",
      "(300, 300, 1)\n",
      "Initialisation chosen from the graph\n"
     ]
    },
    {
     "name": "stderr",
     "output_type": "stream",
     "text": [
      "\r",
      "88it [2:34:23, 106.40s/it]"
     ]
    },
    {
     "name": "stdout",
     "output_type": "stream",
     "text": [
      "(300, 300, 1)\n",
      "Initialisation chosen from the attributes\n",
      "(300, 300, 1)\n",
      "Initialisation chosen from the attributes\n",
      "(300, 300, 1)\n",
      "Initialisation chosen from the attributes\n",
      "(300, 300, 1)\n",
      "Initialisation chosen from the attributes\n",
      "(300, 300, 1)\n",
      "Initialisation chosen from the attributes\n",
      "(300, 300, 1)\n",
      "Initialisation chosen from the attributes\n",
      "(300, 300, 1)\n",
      "Initialisation chosen from the attributes\n",
      "(300, 300, 1)\n",
      "Initialisation chosen from the attributes\n",
      "(300, 300, 1)\n",
      "Initialisation chosen from the attributes\n",
      "(300, 300, 1)\n",
      "Initialisation chosen from the attributes\n"
     ]
    },
    {
     "name": "stderr",
     "output_type": "stream",
     "text": [
      "\r",
      "89it [2:36:07, 105.91s/it]"
     ]
    },
    {
     "name": "stdout",
     "output_type": "stream",
     "text": [
      "(300, 300, 1)\n",
      "Initialisation chosen from the attributes\n",
      "(300, 300, 1)\n",
      "Initialisation chosen from the attributes\n",
      "(300, 300, 1)\n",
      "Initialisation chosen from the attributes\n",
      "(300, 300, 1)\n",
      "Initialisation chosen from the attributes\n",
      "(300, 300, 1)\n",
      "Initialisation chosen from the attributes\n",
      "(300, 300, 1)\n",
      "Initialisation chosen from the attributes\n",
      "(300, 300, 1)\n",
      "Initialisation chosen from the attributes\n",
      "(300, 300, 1)\n",
      "Initialisation chosen from the attributes\n",
      "(300, 300, 1)\n",
      "Initialisation chosen from the attributes\n",
      "(300, 300, 1)\n",
      "Initialisation chosen from the attributes\n"
     ]
    },
    {
     "name": "stderr",
     "output_type": "stream",
     "text": [
      "\r",
      "90it [2:37:55, 106.29s/it]"
     ]
    },
    {
     "name": "stdout",
     "output_type": "stream",
     "text": [
      "(300, 300, 1)\n",
      "Initialisation chosen from the graph\n",
      "(300, 300, 1)\n",
      "Initialisation chosen from the graph\n",
      "(300, 300, 1)\n",
      "Initialisation chosen from the graph\n",
      "(300, 300, 1)\n",
      "Initialisation chosen from the graph\n",
      "(300, 300, 1)\n",
      "Initialisation chosen from the graph\n",
      "(300, 300, 1)\n",
      "Initialisation chosen from the graph\n",
      "(300, 300, 1)\n",
      "Initialisation chosen from the graph\n",
      "(300, 300, 1)\n",
      "Initialisation chosen from the graph\n",
      "(300, 300, 1)\n",
      "Initialisation chosen from the graph\n",
      "(300, 300, 1)\n",
      "Initialisation chosen from the graph\n"
     ]
    },
    {
     "name": "stderr",
     "output_type": "stream",
     "text": [
      "\r",
      "91it [2:39:41, 106.38s/it]"
     ]
    },
    {
     "name": "stdout",
     "output_type": "stream",
     "text": [
      "(300, 300, 1)\n",
      "Initialisation chosen from the graph\n",
      "(300, 300, 1)\n",
      "Initialisation chosen from the graph\n",
      "(300, 300, 1)\n",
      "Initialisation chosen from the graph\n",
      "(300, 300, 1)\n",
      "Initialisation chosen from the graph\n",
      "(300, 300, 1)\n",
      "Initialisation chosen from the graph\n",
      "(300, 300, 1)\n",
      "Initialisation chosen from the graph\n",
      "(300, 300, 1)\n",
      "Initialisation chosen from the graph\n",
      "(300, 300, 1)\n",
      "Initialisation chosen from the graph\n",
      "(300, 300, 1)\n",
      "Initialisation chosen from the graph\n",
      "(300, 300, 1)\n",
      "Initialisation chosen from the graph\n"
     ]
    },
    {
     "name": "stderr",
     "output_type": "stream",
     "text": [
      "\r",
      "92it [2:41:26, 106.04s/it]"
     ]
    },
    {
     "name": "stdout",
     "output_type": "stream",
     "text": [
      "(300, 300, 1)\n",
      "Initialisation chosen from the graph\n",
      "(300, 300, 1)\n",
      "Initialisation chosen from the graph\n",
      "(300, 300, 1)\n",
      "Initialisation chosen from the graph\n",
      "(300, 300, 1)\n",
      "Initialisation chosen from the graph\n",
      "(300, 300, 1)\n",
      "Initialisation chosen from the graph\n",
      "(300, 300, 1)\n",
      "Initialisation chosen from the graph\n",
      "(300, 300, 1)\n",
      "Initialisation chosen from the graph\n",
      "(300, 300, 1)\n",
      "Initialisation chosen from the graph\n",
      "(300, 300, 1)\n",
      "Initialisation chosen from the graph\n",
      "(300, 300, 1)\n",
      "Initialisation chosen from the graph\n"
     ]
    },
    {
     "name": "stderr",
     "output_type": "stream",
     "text": [
      "\r",
      "93it [2:43:14, 106.54s/it]"
     ]
    },
    {
     "name": "stdout",
     "output_type": "stream",
     "text": [
      "(300, 300, 1)\n",
      "Initialisation chosen from the graph\n",
      "(300, 300, 1)\n",
      "Initialisation chosen from the graph\n",
      "(300, 300, 1)\n",
      "Initialisation chosen from the graph\n",
      "(300, 300, 1)\n",
      "Initialisation chosen from the graph\n",
      "(300, 300, 1)\n",
      "Initialisation chosen from the graph\n",
      "(300, 300, 1)\n",
      "Initialisation chosen from the graph\n",
      "(300, 300, 1)\n",
      "Initialisation chosen from the graph\n",
      "(300, 300, 1)\n",
      "Initialisation chosen from the graph\n",
      "(300, 300, 1)\n",
      "Initialisation chosen from the graph\n",
      "(300, 300, 1)\n",
      "Initialisation chosen from the graph\n"
     ]
    },
    {
     "name": "stderr",
     "output_type": "stream",
     "text": [
      "\r",
      "94it [2:44:54, 104.62s/it]"
     ]
    },
    {
     "name": "stdout",
     "output_type": "stream",
     "text": [
      "(300, 300, 1)\n",
      "Initialisation chosen from the graph\n",
      "(300, 300, 1)\n",
      "Initialisation chosen from the graph\n",
      "(300, 300, 1)\n",
      "Initialisation chosen from the graph\n",
      "(300, 300, 1)\n",
      "Initialisation chosen from the graph\n",
      "(300, 300, 1)\n",
      "Initialisation chosen from the graph\n",
      "(300, 300, 1)\n",
      "Initialisation chosen from the graph\n",
      "(300, 300, 1)\n",
      "Initialisation chosen from the graph\n",
      "(300, 300, 1)\n",
      "Initialisation chosen from the graph\n",
      "(300, 300, 1)\n",
      "Initialisation chosen from the graph\n",
      "(300, 300, 1)\n",
      "Initialisation chosen from the graph\n"
     ]
    },
    {
     "name": "stderr",
     "output_type": "stream",
     "text": [
      "\r",
      "95it [2:46:42, 105.54s/it]"
     ]
    },
    {
     "name": "stdout",
     "output_type": "stream",
     "text": [
      "(300, 300, 1)\n",
      "Initialisation chosen from the graph\n",
      "(300, 300, 1)\n",
      "Initialisation chosen from the graph\n",
      "(300, 300, 1)\n",
      "Initialisation chosen from the graph\n",
      "(300, 300, 1)\n",
      "Initialisation chosen from the graph\n",
      "(300, 300, 1)\n",
      "Initialisation chosen from the graph\n",
      "(300, 300, 1)\n",
      "Initialisation chosen from the graph\n",
      "(300, 300, 1)\n",
      "Initialisation chosen from the graph\n",
      "(300, 300, 1)\n",
      "Initialisation chosen from the graph\n",
      "(300, 300, 1)\n",
      "Initialisation chosen from the graph\n",
      "(300, 300, 1)\n",
      "Initialisation chosen from the graph\n"
     ]
    },
    {
     "name": "stderr",
     "output_type": "stream",
     "text": [
      "\r",
      "96it [2:48:29, 105.99s/it]"
     ]
    },
    {
     "name": "stdout",
     "output_type": "stream",
     "text": [
      "(300, 300, 1)\n",
      "Initialisation chosen from the graph\n",
      "(300, 300, 1)\n",
      "Initialisation chosen from the graph\n",
      "(300, 300, 1)\n",
      "Initialisation chosen from the graph\n",
      "(300, 300, 1)\n",
      "Initialisation chosen from the graph\n",
      "(300, 300, 1)\n",
      "Initialisation chosen from the graph\n",
      "(300, 300, 1)\n",
      "Initialisation chosen from the graph\n",
      "(300, 300, 1)\n",
      "Initialisation chosen from the graph\n",
      "(300, 300, 1)\n",
      "Initialisation chosen from the graph\n",
      "(300, 300, 1)\n",
      "Initialisation chosen from the graph\n",
      "(300, 300, 1)\n",
      "Initialisation chosen from the graph\n"
     ]
    },
    {
     "name": "stderr",
     "output_type": "stream",
     "text": [
      "\r",
      "97it [2:50:16, 106.18s/it]"
     ]
    },
    {
     "name": "stdout",
     "output_type": "stream",
     "text": [
      "(300, 300, 1)\n",
      "Initialisation chosen from the graph\n",
      "(300, 300, 1)\n",
      "Initialisation chosen from the graph\n",
      "(300, 300, 1)\n",
      "Initialisation chosen from the graph\n",
      "(300, 300, 1)\n",
      "Initialisation chosen from the graph\n",
      "(300, 300, 1)\n",
      "Initialisation chosen from the graph\n",
      "(300, 300, 1)\n",
      "Initialisation chosen from the graph\n",
      "(300, 300, 1)\n",
      "Initialisation chosen from the graph\n",
      "(300, 300, 1)\n",
      "Initialisation chosen from the graph\n",
      "(300, 300, 1)\n",
      "Initialisation chosen from the graph\n",
      "(300, 300, 1)\n",
      "Initialisation chosen from the graph\n"
     ]
    },
    {
     "name": "stderr",
     "output_type": "stream",
     "text": [
      "\r",
      "98it [2:51:54, 103.82s/it]"
     ]
    },
    {
     "name": "stdout",
     "output_type": "stream",
     "text": [
      "(300, 300, 1)\n",
      "Initialisation chosen from the graph\n",
      "(300, 300, 1)\n",
      "Initialisation chosen from the graph\n",
      "(300, 300, 1)\n",
      "Initialisation chosen from the graph\n",
      "(300, 300, 1)\n",
      "Initialisation chosen from the graph\n",
      "(300, 300, 1)\n",
      "Initialisation chosen from the graph\n",
      "(300, 300, 1)\n",
      "Initialisation chosen from the graph\n",
      "(300, 300, 1)\n",
      "Initialisation chosen from the graph\n",
      "(300, 300, 1)\n",
      "Initialisation chosen from the graph\n",
      "(300, 300, 1)\n",
      "Initialisation chosen from the graph\n",
      "(300, 300, 1)\n",
      "Initialisation chosen from the graph\n"
     ]
    },
    {
     "name": "stderr",
     "output_type": "stream",
     "text": [
      "\r",
      "99it [2:53:39, 104.10s/it]"
     ]
    },
    {
     "name": "stdout",
     "output_type": "stream",
     "text": [
      "(300, 300, 1)\n",
      "Initialisation chosen from the attributes\n",
      "(300, 300, 1)\n",
      "Initialisation chosen from the attributes\n",
      "(300, 300, 1)\n",
      "Initialisation chosen from the attributes\n",
      "(300, 300, 1)\n",
      "Initialisation chosen from the attributes\n",
      "(300, 300, 1)\n",
      "Initialisation chosen from the attributes\n",
      "(300, 300, 1)\n",
      "Initialisation chosen from the graph\n",
      "(300, 300, 1)\n",
      "Initialisation chosen from the attributes\n",
      "(300, 300, 1)\n",
      "Initialisation chosen from the attributes\n",
      "(300, 300, 1)\n",
      "Initialisation chosen from the attributes\n",
      "(300, 300, 1)\n",
      "Initialisation chosen from the attributes\n"
     ]
    },
    {
     "name": "stderr",
     "output_type": "stream",
     "text": [
      "100it [2:55:25, 105.26s/it]\n"
     ]
    }
   ],
   "source": [
    "attributes_distribution = \"gaussian\"\n",
    "edge_distribution = \"bernoulli\"\n",
    "weight_distribution = \"exponential\"\n",
    "a_range = np.linspace(5,13,10)\n",
    "r_range = np.linspace(0,0.62,10)*np.log(n)\n",
    "stats = BregmanBenchmark(att_variance=1,\n",
    "                    attributes_distribution=attributes_distribution,\n",
    "                    weight_variance=1,\n",
    "                    weight_distribution=weight_distribution,\n",
    "                    edge_distribution=edge_distribution,\n",
    "                    run_gpu=True)\\\n",
    "                  .run_2_1(n_average=10,\n",
    "                            cluster_sizes=sizes,\n",
    "                            b=5,\n",
    "                            a_range=a_range,\n",
    "                            r_range = r_range,\n",
    "                            dense=False,\n",
    "                            plot_3d=False,\n",
    "                            binary=True)\n",
    "with open('test_2_1.pickle', 'wb') as handle:\n",
    "    pickle.dump(stats, handle, protocol=pickle.HIGHEST_PROTOCOL)\n",
    "!cp \"/content/test_2_1.pickle\" \"/content/drive/MyDrive\""
   ]
  },
  {
   "cell_type": "code",
   "execution_count": 7,
   "id": "GdUwRBlstRH-",
   "metadata": {
    "colab": {
     "base_uri": "https://localhost:8080/"
    },
    "id": "GdUwRBlstRH-",
    "outputId": "f02f800e-752b-4453-c25f-b826cca04de5"
   },
   "outputs": [
    {
     "name": "stderr",
     "output_type": "stream",
     "text": [
      "\r",
      "0it [00:00, ?it/s]"
     ]
    },
    {
     "name": "stdout",
     "output_type": "stream",
     "text": [
      "Initialisation chosen from the attributes\n",
      "Initialisation chosen from the attributes\n",
      "Initialisation chosen from the attributes\n",
      "Initialisation chosen from the attributes\n",
      "Initialisation chosen from the attributes\n",
      "Initialisation chosen from the attributes\n",
      "Initialisation chosen from the attributes\n",
      "Initialisation chosen from the attributes\n",
      "Initialisation chosen from the attributes\n",
      "Initialisation chosen from the attributes\n"
     ]
    },
    {
     "name": "stderr",
     "output_type": "stream",
     "text": [
      "\r",
      "1it [01:26, 86.27s/it]"
     ]
    },
    {
     "name": "stdout",
     "output_type": "stream",
     "text": [
      "Initialisation chosen from the attributes\n",
      "Initialisation chosen from the attributes\n",
      "Initialisation chosen from the attributes\n",
      "Initialisation chosen from the attributes\n",
      "Initialisation chosen from the attributes\n",
      "Initialisation chosen from the attributes\n",
      "Initialisation chosen from the attributes\n",
      "Initialisation chosen from the attributes\n",
      "Initialisation chosen from the attributes\n",
      "Initialisation chosen from the attributes\n"
     ]
    },
    {
     "name": "stderr",
     "output_type": "stream",
     "text": [
      "\r",
      "2it [03:11, 97.29s/it]"
     ]
    },
    {
     "name": "stdout",
     "output_type": "stream",
     "text": [
      "Initialisation chosen from the attributes\n",
      "Initialisation chosen from the attributes\n",
      "Initialisation chosen from the attributes\n",
      "Initialisation chosen from the attributes\n",
      "Initialisation chosen from the attributes\n",
      "Initialisation chosen from the attributes\n",
      "Initialisation chosen from the attributes\n",
      "Initialisation chosen from the attributes\n",
      "Initialisation chosen from the attributes\n",
      "Initialisation chosen from the attributes\n"
     ]
    },
    {
     "name": "stderr",
     "output_type": "stream",
     "text": [
      "\r",
      "3it [04:43, 94.95s/it]"
     ]
    },
    {
     "name": "stdout",
     "output_type": "stream",
     "text": [
      "Initialisation chosen from the attributes\n",
      "Initialisation chosen from the attributes\n",
      "Initialisation chosen from the attributes\n",
      "Initialisation chosen from the attributes\n",
      "Initialisation chosen from the attributes\n",
      "Initialisation chosen from the attributes\n",
      "Initialisation chosen from the attributes\n",
      "Initialisation chosen from the attributes\n",
      "Initialisation chosen from the attributes\n",
      "Initialisation chosen from the attributes\n"
     ]
    },
    {
     "name": "stderr",
     "output_type": "stream",
     "text": [
      "\r",
      "4it [06:11, 92.09s/it]"
     ]
    },
    {
     "name": "stdout",
     "output_type": "stream",
     "text": [
      "Initialisation chosen from the attributes\n",
      "Initialisation chosen from the attributes\n",
      "Initialisation chosen from the attributes\n",
      "Initialisation chosen from the attributes\n",
      "Initialisation chosen from the attributes\n",
      "Initialisation chosen from the attributes\n",
      "Initialisation chosen from the attributes\n",
      "Initialisation chosen from the attributes\n",
      "Initialisation chosen from the attributes\n",
      "Initialisation chosen from the attributes\n"
     ]
    },
    {
     "name": "stderr",
     "output_type": "stream",
     "text": [
      "\r",
      "5it [07:56, 96.96s/it]"
     ]
    },
    {
     "name": "stdout",
     "output_type": "stream",
     "text": [
      "Initialisation chosen from the attributes\n",
      "Initialisation chosen from the graph\n",
      "Initialisation chosen from the graph\n",
      "Initialisation chosen from the attributes\n",
      "Initialisation chosen from the graph\n",
      "Initialisation chosen from the attributes\n",
      "Initialisation chosen from the graph\n",
      "Initialisation chosen from the attributes\n",
      "Initialisation chosen from the graph\n",
      "Initialisation chosen from the graph\n"
     ]
    },
    {
     "name": "stderr",
     "output_type": "stream",
     "text": [
      "\r",
      "6it [09:00, 85.59s/it]"
     ]
    },
    {
     "name": "stdout",
     "output_type": "stream",
     "text": [
      "Initialisation chosen from the graph\n",
      "Initialisation chosen from the attributes\n",
      "Initialisation chosen from the graph\n",
      "Initialisation chosen from the attributes\n",
      "Initialisation chosen from the attributes\n",
      "Initialisation chosen from the graph\n",
      "Initialisation chosen from the graph\n",
      "Initialisation chosen from the graph\n",
      "Initialisation chosen from the attributes\n",
      "Initialisation chosen from the graph\n"
     ]
    },
    {
     "name": "stderr",
     "output_type": "stream",
     "text": [
      "\r",
      "7it [10:06, 79.36s/it]"
     ]
    },
    {
     "name": "stdout",
     "output_type": "stream",
     "text": [
      "Initialisation chosen from the attributes\n",
      "Initialisation chosen from the attributes\n",
      "Initialisation chosen from the graph\n",
      "Initialisation chosen from the attributes\n",
      "Initialisation chosen from the graph\n",
      "Initialisation chosen from the graph\n",
      "Initialisation chosen from the graph\n",
      "Initialisation chosen from the graph\n",
      "Initialisation chosen from the attributes\n",
      "Initialisation chosen from the graph\n"
     ]
    },
    {
     "name": "stderr",
     "output_type": "stream",
     "text": [
      "\r",
      "8it [11:52, 87.86s/it]"
     ]
    },
    {
     "name": "stdout",
     "output_type": "stream",
     "text": [
      "Initialisation chosen from the graph\n",
      "Initialisation chosen from the attributes\n",
      "Initialisation chosen from the graph\n",
      "Initialisation chosen from the graph\n",
      "Initialisation chosen from the graph\n",
      "Initialisation chosen from the attributes\n",
      "Initialisation chosen from the graph\n",
      "Initialisation chosen from the graph\n",
      "Initialisation chosen from the attributes\n",
      "Initialisation chosen from the graph\n"
     ]
    },
    {
     "name": "stderr",
     "output_type": "stream",
     "text": [
      "\r",
      "9it [13:20, 87.81s/it]"
     ]
    },
    {
     "name": "stdout",
     "output_type": "stream",
     "text": [
      "Initialisation chosen from the graph\n",
      "Initialisation chosen from the graph\n",
      "Initialisation chosen from the graph\n",
      "Initialisation chosen from the graph\n",
      "Initialisation chosen from the attributes\n",
      "Initialisation chosen from the attributes\n",
      "Initialisation chosen from the attributes\n",
      "Initialisation chosen from the attributes\n",
      "Initialisation chosen from the attributes\n",
      "Initialisation chosen from the graph\n"
     ]
    },
    {
     "name": "stderr",
     "output_type": "stream",
     "text": [
      "\r",
      "10it [14:50, 88.49s/it]"
     ]
    },
    {
     "name": "stdout",
     "output_type": "stream",
     "text": [
      "Initialisation chosen from the attributes\n",
      "Initialisation chosen from the attributes\n",
      "Initialisation chosen from the attributes\n",
      "Initialisation chosen from the attributes\n",
      "Initialisation chosen from the attributes\n",
      "Initialisation chosen from the attributes\n",
      "Initialisation chosen from the attributes\n",
      "Initialisation chosen from the attributes\n",
      "Initialisation chosen from the attributes\n",
      "Initialisation chosen from the attributes\n"
     ]
    },
    {
     "name": "stderr",
     "output_type": "stream",
     "text": [
      "\r",
      "11it [16:27, 91.22s/it]"
     ]
    },
    {
     "name": "stdout",
     "output_type": "stream",
     "text": [
      "Initialisation chosen from the attributes\n",
      "Initialisation chosen from the attributes\n",
      "Initialisation chosen from the attributes\n",
      "Initialisation chosen from the attributes\n",
      "Initialisation chosen from the attributes\n",
      "Initialisation chosen from the attributes\n",
      "Initialisation chosen from the attributes\n",
      "Initialisation chosen from the attributes\n",
      "Initialisation chosen from the attributes\n",
      "Initialisation chosen from the attributes\n"
     ]
    },
    {
     "name": "stderr",
     "output_type": "stream",
     "text": [
      "\r",
      "12it [17:39, 85.36s/it]"
     ]
    },
    {
     "name": "stdout",
     "output_type": "stream",
     "text": [
      "Initialisation chosen from the attributes\n",
      "Initialisation chosen from the attributes\n",
      "Initialisation chosen from the attributes\n",
      "Initialisation chosen from the attributes\n",
      "Initialisation chosen from the attributes\n",
      "Initialisation chosen from the attributes\n",
      "Initialisation chosen from the attributes\n",
      "Initialisation chosen from the attributes\n",
      "Initialisation chosen from the attributes\n",
      "Initialisation chosen from the attributes\n"
     ]
    },
    {
     "name": "stderr",
     "output_type": "stream",
     "text": [
      "\r",
      "13it [19:08, 86.24s/it]"
     ]
    },
    {
     "name": "stdout",
     "output_type": "stream",
     "text": [
      "Initialisation chosen from the attributes\n",
      "Initialisation chosen from the attributes\n",
      "Initialisation chosen from the attributes\n",
      "Initialisation chosen from the attributes\n",
      "Initialisation chosen from the attributes\n",
      "Initialisation chosen from the attributes\n",
      "Initialisation chosen from the attributes\n",
      "Initialisation chosen from the attributes\n",
      "Initialisation chosen from the attributes\n",
      "Initialisation chosen from the attributes\n"
     ]
    },
    {
     "name": "stderr",
     "output_type": "stream",
     "text": [
      "\r",
      "14it [20:36, 86.97s/it]"
     ]
    },
    {
     "name": "stdout",
     "output_type": "stream",
     "text": [
      "Initialisation chosen from the attributes\n",
      "Initialisation chosen from the attributes\n",
      "Initialisation chosen from the attributes\n",
      "Initialisation chosen from the attributes\n",
      "Initialisation chosen from the attributes\n",
      "Initialisation chosen from the attributes\n",
      "Initialisation chosen from the attributes\n",
      "Initialisation chosen from the attributes\n",
      "Initialisation chosen from the attributes\n",
      "Initialisation chosen from the attributes\n"
     ]
    },
    {
     "name": "stderr",
     "output_type": "stream",
     "text": [
      "\r",
      "15it [22:13, 89.76s/it]"
     ]
    },
    {
     "name": "stdout",
     "output_type": "stream",
     "text": [
      "Initialisation chosen from the attributes\n",
      "Initialisation chosen from the attributes\n",
      "Initialisation chosen from the graph\n",
      "Initialisation chosen from the graph\n",
      "Initialisation chosen from the attributes\n",
      "Initialisation chosen from the graph\n",
      "Initialisation chosen from the attributes\n",
      "Initialisation chosen from the graph\n",
      "Initialisation chosen from the graph\n",
      "Initialisation chosen from the attributes\n"
     ]
    },
    {
     "name": "stderr",
     "output_type": "stream",
     "text": [
      "\r",
      "16it [23:33, 86.90s/it]"
     ]
    },
    {
     "name": "stdout",
     "output_type": "stream",
     "text": [
      "Initialisation chosen from the graph\n",
      "Initialisation chosen from the graph\n",
      "Initialisation chosen from the graph\n",
      "Initialisation chosen from the graph\n",
      "Initialisation chosen from the graph\n",
      "Initialisation chosen from the graph\n",
      "Initialisation chosen from the graph\n",
      "Initialisation chosen from the graph\n",
      "Initialisation chosen from the graph\n",
      "Initialisation chosen from the graph\n"
     ]
    },
    {
     "name": "stderr",
     "output_type": "stream",
     "text": [
      "\r",
      "17it [24:59, 86.72s/it]"
     ]
    },
    {
     "name": "stdout",
     "output_type": "stream",
     "text": [
      "Initialisation chosen from the graph\n",
      "Initialisation chosen from the attributes\n",
      "Initialisation chosen from the graph\n",
      "Initialisation chosen from the graph\n",
      "Initialisation chosen from the attributes\n",
      "Initialisation chosen from the attributes\n",
      "Initialisation chosen from the graph\n",
      "Initialisation chosen from the graph\n",
      "Initialisation chosen from the graph\n",
      "Initialisation chosen from the graph\n"
     ]
    },
    {
     "name": "stderr",
     "output_type": "stream",
     "text": [
      "\r",
      "18it [26:21, 85.22s/it]"
     ]
    },
    {
     "name": "stdout",
     "output_type": "stream",
     "text": [
      "Initialisation chosen from the graph\n",
      "Initialisation chosen from the graph\n",
      "Initialisation chosen from the attributes\n",
      "Initialisation chosen from the graph\n",
      "Initialisation chosen from the graph\n",
      "Initialisation chosen from the graph\n",
      "Initialisation chosen from the attributes\n",
      "Initialisation chosen from the graph\n",
      "Initialisation chosen from the graph\n",
      "Initialisation chosen from the graph\n"
     ]
    },
    {
     "name": "stderr",
     "output_type": "stream",
     "text": [
      "\r",
      "19it [27:46, 85.22s/it]"
     ]
    },
    {
     "name": "stdout",
     "output_type": "stream",
     "text": [
      "Initialisation chosen from the graph\n",
      "Initialisation chosen from the graph\n",
      "Initialisation chosen from the graph\n",
      "Initialisation chosen from the graph\n",
      "Initialisation chosen from the graph\n",
      "Initialisation chosen from the attributes\n",
      "Initialisation chosen from the graph\n",
      "Initialisation chosen from the graph\n",
      "Initialisation chosen from the graph\n",
      "Initialisation chosen from the attributes\n"
     ]
    },
    {
     "name": "stderr",
     "output_type": "stream",
     "text": [
      "\r",
      "20it [29:10, 84.68s/it]"
     ]
    },
    {
     "name": "stdout",
     "output_type": "stream",
     "text": [
      "Initialisation chosen from the attributes\n",
      "Initialisation chosen from the attributes\n",
      "Initialisation chosen from the attributes\n",
      "Initialisation chosen from the attributes\n",
      "Initialisation chosen from the attributes\n",
      "Initialisation chosen from the attributes\n",
      "Initialisation chosen from the attributes\n",
      "Initialisation chosen from the attributes\n",
      "Initialisation chosen from the attributes\n",
      "Initialisation chosen from the attributes\n"
     ]
    },
    {
     "name": "stderr",
     "output_type": "stream",
     "text": [
      "\r",
      "21it [30:39, 86.01s/it]"
     ]
    },
    {
     "name": "stdout",
     "output_type": "stream",
     "text": [
      "Initialisation chosen from the attributes\n",
      "Initialisation chosen from the attributes\n",
      "Initialisation chosen from the attributes\n",
      "Initialisation chosen from the attributes\n",
      "Initialisation chosen from the attributes\n",
      "Initialisation chosen from the attributes\n",
      "Initialisation chosen from the attributes\n",
      "Initialisation chosen from the attributes\n",
      "Initialisation chosen from the attributes\n",
      "Initialisation chosen from the attributes\n"
     ]
    },
    {
     "name": "stderr",
     "output_type": "stream",
     "text": [
      "\r",
      "22it [31:56, 83.54s/it]"
     ]
    },
    {
     "name": "stdout",
     "output_type": "stream",
     "text": [
      "Initialisation chosen from the attributes\n",
      "Initialisation chosen from the attributes\n",
      "Initialisation chosen from the attributes\n",
      "Initialisation chosen from the attributes\n",
      "Initialisation chosen from the attributes\n",
      "Initialisation chosen from the attributes\n",
      "Initialisation chosen from the attributes\n",
      "Initialisation chosen from the attributes\n",
      "Initialisation chosen from the attributes\n",
      "Initialisation chosen from the attributes\n"
     ]
    },
    {
     "name": "stderr",
     "output_type": "stream",
     "text": [
      "\r",
      "23it [33:27, 85.52s/it]"
     ]
    },
    {
     "name": "stdout",
     "output_type": "stream",
     "text": [
      "Initialisation chosen from the attributes\n",
      "Initialisation chosen from the attributes\n",
      "Initialisation chosen from the attributes\n",
      "Initialisation chosen from the attributes\n",
      "Initialisation chosen from the attributes\n",
      "Initialisation chosen from the attributes\n",
      "Initialisation chosen from the attributes\n",
      "Initialisation chosen from the attributes\n",
      "Initialisation chosen from the attributes\n",
      "Initialisation chosen from the attributes\n"
     ]
    },
    {
     "name": "stderr",
     "output_type": "stream",
     "text": [
      "\r",
      "24it [34:54, 86.04s/it]"
     ]
    },
    {
     "name": "stdout",
     "output_type": "stream",
     "text": [
      "Initialisation chosen from the attributes\n",
      "Initialisation chosen from the attributes\n",
      "Initialisation chosen from the attributes\n",
      "Initialisation chosen from the attributes\n",
      "Initialisation chosen from the attributes\n",
      "Initialisation chosen from the attributes\n",
      "Initialisation chosen from the attributes\n",
      "Initialisation chosen from the attributes\n",
      "Initialisation chosen from the attributes\n",
      "Initialisation chosen from the attributes\n"
     ]
    },
    {
     "name": "stderr",
     "output_type": "stream",
     "text": [
      "\r",
      "25it [36:05, 81.68s/it]"
     ]
    },
    {
     "name": "stdout",
     "output_type": "stream",
     "text": [
      "Initialisation chosen from the graph\n",
      "Initialisation chosen from the attributes\n",
      "Initialisation chosen from the attributes\n",
      "Initialisation chosen from the attributes\n",
      "Initialisation chosen from the attributes\n",
      "Initialisation chosen from the graph\n",
      "Initialisation chosen from the graph\n",
      "Initialisation chosen from the graph\n",
      "Initialisation chosen from the graph\n",
      "Initialisation chosen from the graph\n"
     ]
    },
    {
     "name": "stderr",
     "output_type": "stream",
     "text": [
      "\r",
      "26it [37:37, 84.58s/it]"
     ]
    },
    {
     "name": "stdout",
     "output_type": "stream",
     "text": [
      "Initialisation chosen from the graph\n",
      "Initialisation chosen from the attributes\n",
      "Initialisation chosen from the graph\n",
      "Initialisation chosen from the graph\n",
      "Initialisation chosen from the graph\n",
      "Initialisation chosen from the graph\n",
      "Initialisation chosen from the attributes\n",
      "Initialisation chosen from the graph\n",
      "Initialisation chosen from the graph\n",
      "Initialisation chosen from the graph\n"
     ]
    },
    {
     "name": "stderr",
     "output_type": "stream",
     "text": [
      "\r",
      "27it [39:09, 87.06s/it]"
     ]
    },
    {
     "name": "stdout",
     "output_type": "stream",
     "text": [
      "Initialisation chosen from the attributes\n",
      "Initialisation chosen from the graph\n",
      "Initialisation chosen from the graph\n",
      "Initialisation chosen from the graph\n",
      "Initialisation chosen from the graph\n",
      "Initialisation chosen from the attributes\n",
      "Initialisation chosen from the attributes\n",
      "Initialisation chosen from the attributes\n",
      "Initialisation chosen from the graph\n",
      "Initialisation chosen from the graph\n"
     ]
    },
    {
     "name": "stderr",
     "output_type": "stream",
     "text": [
      "\r",
      "28it [40:39, 87.67s/it]"
     ]
    },
    {
     "name": "stdout",
     "output_type": "stream",
     "text": [
      "Initialisation chosen from the graph\n",
      "Initialisation chosen from the graph\n",
      "Initialisation chosen from the attributes\n",
      "Initialisation chosen from the graph\n",
      "Initialisation chosen from the attributes\n",
      "Initialisation chosen from the graph\n",
      "Initialisation chosen from the attributes\n",
      "Initialisation chosen from the graph\n",
      "Initialisation chosen from the graph\n",
      "Initialisation chosen from the attributes\n"
     ]
    },
    {
     "name": "stderr",
     "output_type": "stream",
     "text": [
      "\r",
      "29it [42:14, 89.86s/it]"
     ]
    },
    {
     "name": "stdout",
     "output_type": "stream",
     "text": [
      "Initialisation chosen from the attributes\n",
      "Initialisation chosen from the graph\n",
      "Initialisation chosen from the graph\n",
      "Initialisation chosen from the graph\n",
      "Initialisation chosen from the graph\n",
      "Initialisation chosen from the graph\n",
      "Initialisation chosen from the attributes\n",
      "Initialisation chosen from the attributes\n",
      "Initialisation chosen from the graph\n",
      "Initialisation chosen from the graph\n"
     ]
    },
    {
     "name": "stderr",
     "output_type": "stream",
     "text": [
      "\r",
      "30it [43:47, 91.05s/it]"
     ]
    },
    {
     "name": "stdout",
     "output_type": "stream",
     "text": [
      "Initialisation chosen from the attributes\n",
      "Initialisation chosen from the attributes\n",
      "Initialisation chosen from the attributes\n",
      "Initialisation chosen from the attributes\n",
      "Initialisation chosen from the attributes\n",
      "Initialisation chosen from the attributes\n",
      "Initialisation chosen from the attributes\n",
      "Initialisation chosen from the attributes\n",
      "Initialisation chosen from the attributes\n",
      "Initialisation chosen from the attributes\n"
     ]
    },
    {
     "name": "stderr",
     "output_type": "stream",
     "text": [
      "\r",
      "31it [45:23, 92.56s/it]"
     ]
    },
    {
     "name": "stdout",
     "output_type": "stream",
     "text": [
      "Initialisation chosen from the attributes\n",
      "Initialisation chosen from the attributes\n",
      "Initialisation chosen from the attributes\n",
      "Initialisation chosen from the attributes\n",
      "Initialisation chosen from the attributes\n",
      "Initialisation chosen from the attributes\n",
      "Initialisation chosen from the attributes\n",
      "Initialisation chosen from the attributes\n",
      "Initialisation chosen from the attributes\n",
      "Initialisation chosen from the attributes\n"
     ]
    },
    {
     "name": "stderr",
     "output_type": "stream",
     "text": [
      "\r",
      "32it [47:11, 97.04s/it]"
     ]
    },
    {
     "name": "stdout",
     "output_type": "stream",
     "text": [
      "Initialisation chosen from the attributes\n",
      "Initialisation chosen from the attributes\n",
      "Initialisation chosen from the attributes\n",
      "Initialisation chosen from the attributes\n",
      "Initialisation chosen from the attributes\n",
      "Initialisation chosen from the attributes\n",
      "Initialisation chosen from the attributes\n",
      "Initialisation chosen from the attributes\n",
      "Initialisation chosen from the attributes\n",
      "Initialisation chosen from the attributes\n"
     ]
    },
    {
     "name": "stderr",
     "output_type": "stream",
     "text": [
      "\r",
      "33it [48:29, 91.40s/it]"
     ]
    },
    {
     "name": "stdout",
     "output_type": "stream",
     "text": [
      "Initialisation chosen from the attributes\n",
      "Initialisation chosen from the attributes\n",
      "Initialisation chosen from the attributes\n",
      "Initialisation chosen from the attributes\n",
      "Initialisation chosen from the attributes\n",
      "Initialisation chosen from the attributes\n",
      "Initialisation chosen from the attributes\n",
      "Initialisation chosen from the attributes\n",
      "Initialisation chosen from the attributes\n",
      "Initialisation chosen from the attributes\n"
     ]
    },
    {
     "name": "stderr",
     "output_type": "stream",
     "text": [
      "\r",
      "34it [50:06, 92.88s/it]"
     ]
    },
    {
     "name": "stdout",
     "output_type": "stream",
     "text": [
      "Initialisation chosen from the attributes\n",
      "Initialisation chosen from the attributes\n",
      "Initialisation chosen from the attributes\n",
      "Initialisation chosen from the attributes\n",
      "Initialisation chosen from the attributes\n",
      "Initialisation chosen from the attributes\n",
      "Initialisation chosen from the attributes\n",
      "Initialisation chosen from the attributes\n",
      "Initialisation chosen from the attributes\n",
      "Initialisation chosen from the attributes\n"
     ]
    },
    {
     "name": "stderr",
     "output_type": "stream",
     "text": [
      "\r",
      "35it [51:17, 86.55s/it]"
     ]
    },
    {
     "name": "stdout",
     "output_type": "stream",
     "text": [
      "Initialisation chosen from the graph\n",
      "Initialisation chosen from the graph\n",
      "Initialisation chosen from the graph\n",
      "Initialisation chosen from the graph\n",
      "Initialisation chosen from the attributes\n",
      "Initialisation chosen from the graph\n",
      "Initialisation chosen from the graph\n",
      "Initialisation chosen from the attributes\n",
      "Initialisation chosen from the attributes\n",
      "Initialisation chosen from the graph\n"
     ]
    },
    {
     "name": "stderr",
     "output_type": "stream",
     "text": [
      "\r",
      "36it [52:46, 87.12s/it]"
     ]
    },
    {
     "name": "stdout",
     "output_type": "stream",
     "text": [
      "Initialisation chosen from the graph\n",
      "Initialisation chosen from the graph\n",
      "Initialisation chosen from the attributes\n",
      "Initialisation chosen from the graph\n",
      "Initialisation chosen from the graph\n",
      "Initialisation chosen from the graph\n",
      "Initialisation chosen from the attributes\n",
      "Initialisation chosen from the graph\n",
      "Initialisation chosen from the graph\n",
      "Initialisation chosen from the graph\n"
     ]
    },
    {
     "name": "stderr",
     "output_type": "stream",
     "text": [
      "\r",
      "37it [53:53, 81.11s/it]"
     ]
    },
    {
     "name": "stdout",
     "output_type": "stream",
     "text": [
      "Initialisation chosen from the graph\n",
      "Initialisation chosen from the graph\n",
      "Initialisation chosen from the graph\n",
      "Initialisation chosen from the graph\n",
      "Initialisation chosen from the graph\n",
      "Initialisation chosen from the attributes\n",
      "Initialisation chosen from the graph\n",
      "Initialisation chosen from the graph\n",
      "Initialisation chosen from the graph\n",
      "Initialisation chosen from the attributes\n"
     ]
    },
    {
     "name": "stderr",
     "output_type": "stream",
     "text": [
      "\r",
      "38it [54:59, 76.64s/it]"
     ]
    },
    {
     "name": "stdout",
     "output_type": "stream",
     "text": [
      "Initialisation chosen from the graph\n",
      "Initialisation chosen from the graph\n",
      "Initialisation chosen from the graph\n",
      "Initialisation chosen from the graph\n",
      "Initialisation chosen from the graph\n",
      "Initialisation chosen from the graph\n",
      "Initialisation chosen from the graph\n",
      "Initialisation chosen from the attributes\n",
      "Initialisation chosen from the graph\n",
      "Initialisation chosen from the graph\n"
     ]
    },
    {
     "name": "stderr",
     "output_type": "stream",
     "text": [
      "\r",
      "39it [56:04, 73.24s/it]"
     ]
    },
    {
     "name": "stdout",
     "output_type": "stream",
     "text": [
      "Initialisation chosen from the graph\n",
      "Initialisation chosen from the graph\n",
      "Initialisation chosen from the graph\n",
      "Initialisation chosen from the graph\n",
      "Initialisation chosen from the graph\n",
      "Initialisation chosen from the attributes\n",
      "Initialisation chosen from the graph\n",
      "Initialisation chosen from the graph\n",
      "Initialisation chosen from the graph\n",
      "Initialisation chosen from the attributes\n"
     ]
    },
    {
     "name": "stderr",
     "output_type": "stream",
     "text": [
      "\r",
      "40it [57:40, 79.93s/it]"
     ]
    },
    {
     "name": "stdout",
     "output_type": "stream",
     "text": [
      "Initialisation chosen from the attributes\n",
      "Initialisation chosen from the attributes\n",
      "Initialisation chosen from the attributes\n",
      "Initialisation chosen from the attributes\n",
      "Initialisation chosen from the attributes\n",
      "Initialisation chosen from the attributes\n",
      "Initialisation chosen from the attributes\n",
      "Initialisation chosen from the attributes\n",
      "Initialisation chosen from the attributes\n",
      "Initialisation chosen from the attributes\n"
     ]
    },
    {
     "name": "stderr",
     "output_type": "stream",
     "text": [
      "\r",
      "41it [59:10, 82.84s/it]"
     ]
    },
    {
     "name": "stdout",
     "output_type": "stream",
     "text": [
      "Initialisation chosen from the attributes\n",
      "Initialisation chosen from the attributes\n",
      "Initialisation chosen from the attributes\n",
      "Initialisation chosen from the attributes\n",
      "Initialisation chosen from the attributes\n",
      "Initialisation chosen from the attributes\n",
      "Initialisation chosen from the attributes\n",
      "Initialisation chosen from the attributes\n",
      "Initialisation chosen from the attributes\n",
      "Initialisation chosen from the attributes\n"
     ]
    },
    {
     "name": "stderr",
     "output_type": "stream",
     "text": [
      "\r",
      "42it [1:00:34, 83.38s/it]"
     ]
    },
    {
     "name": "stdout",
     "output_type": "stream",
     "text": [
      "Initialisation chosen from the attributes\n",
      "Initialisation chosen from the attributes\n",
      "Initialisation chosen from the attributes\n",
      "Initialisation chosen from the attributes\n",
      "Initialisation chosen from the attributes\n",
      "Initialisation chosen from the attributes\n",
      "Initialisation chosen from the attributes\n",
      "Initialisation chosen from the attributes\n",
      "Initialisation chosen from the attributes\n",
      "Initialisation chosen from the attributes\n"
     ]
    },
    {
     "name": "stderr",
     "output_type": "stream",
     "text": [
      "\r",
      "43it [1:02:02, 84.86s/it]"
     ]
    },
    {
     "name": "stdout",
     "output_type": "stream",
     "text": [
      "Initialisation chosen from the attributes\n",
      "Initialisation chosen from the attributes\n",
      "Initialisation chosen from the attributes\n",
      "Initialisation chosen from the attributes\n",
      "Initialisation chosen from the attributes\n",
      "Initialisation chosen from the attributes\n",
      "Initialisation chosen from the attributes\n",
      "Initialisation chosen from the attributes\n",
      "Initialisation chosen from the attributes\n",
      "Initialisation chosen from the attributes\n"
     ]
    },
    {
     "name": "stderr",
     "output_type": "stream",
     "text": [
      "\r",
      "44it [1:03:38, 88.03s/it]"
     ]
    },
    {
     "name": "stdout",
     "output_type": "stream",
     "text": [
      "Initialisation chosen from the attributes\n",
      "Initialisation chosen from the attributes\n",
      "Initialisation chosen from the attributes\n",
      "Initialisation chosen from the attributes\n",
      "Initialisation chosen from the attributes\n",
      "Initialisation chosen from the attributes\n",
      "Initialisation chosen from the attributes\n",
      "Initialisation chosen from the attributes\n",
      "Initialisation chosen from the attributes\n",
      "Initialisation chosen from the attributes\n"
     ]
    },
    {
     "name": "stderr",
     "output_type": "stream",
     "text": [
      "\r",
      "45it [1:04:51, 83.43s/it]"
     ]
    },
    {
     "name": "stdout",
     "output_type": "stream",
     "text": [
      "Initialisation chosen from the graph\n",
      "Initialisation chosen from the graph\n",
      "Initialisation chosen from the graph\n",
      "Initialisation chosen from the attributes\n",
      "Initialisation chosen from the graph\n",
      "Initialisation chosen from the attributes\n",
      "Initialisation chosen from the attributes\n",
      "Initialisation chosen from the attributes\n",
      "Initialisation chosen from the graph\n",
      "Initialisation chosen from the graph\n"
     ]
    },
    {
     "name": "stderr",
     "output_type": "stream",
     "text": [
      "\r",
      "46it [1:06:24, 86.35s/it]"
     ]
    },
    {
     "name": "stdout",
     "output_type": "stream",
     "text": [
      "Initialisation chosen from the graph\n",
      "Initialisation chosen from the graph\n",
      "Initialisation chosen from the graph\n",
      "Initialisation chosen from the graph\n",
      "Initialisation chosen from the attributes\n",
      "Initialisation chosen from the attributes\n",
      "Initialisation chosen from the graph\n",
      "Initialisation chosen from the graph\n",
      "Initialisation chosen from the attributes\n",
      "Initialisation chosen from the attributes\n"
     ]
    },
    {
     "name": "stderr",
     "output_type": "stream",
     "text": [
      "\r",
      "47it [1:07:56, 88.21s/it]"
     ]
    },
    {
     "name": "stdout",
     "output_type": "stream",
     "text": [
      "Initialisation chosen from the graph\n",
      "Initialisation chosen from the graph\n",
      "Initialisation chosen from the attributes\n",
      "Initialisation chosen from the attributes\n",
      "Initialisation chosen from the graph\n",
      "Initialisation chosen from the attributes\n",
      "Initialisation chosen from the graph\n",
      "Initialisation chosen from the graph\n",
      "Initialisation chosen from the attributes\n",
      "Initialisation chosen from the graph\n"
     ]
    },
    {
     "name": "stderr",
     "output_type": "stream",
     "text": [
      "\r",
      "48it [1:09:26, 88.70s/it]"
     ]
    },
    {
     "name": "stdout",
     "output_type": "stream",
     "text": [
      "Initialisation chosen from the attributes\n",
      "Initialisation chosen from the graph\n",
      "Initialisation chosen from the attributes\n",
      "Initialisation chosen from the graph\n",
      "Initialisation chosen from the graph\n",
      "Initialisation chosen from the graph\n",
      "Initialisation chosen from the attributes\n",
      "Initialisation chosen from the graph\n",
      "Initialisation chosen from the graph\n",
      "Initialisation chosen from the graph\n"
     ]
    },
    {
     "name": "stderr",
     "output_type": "stream",
     "text": [
      "\r",
      "49it [1:11:06, 92.10s/it]"
     ]
    },
    {
     "name": "stdout",
     "output_type": "stream",
     "text": [
      "Initialisation chosen from the graph\n",
      "Initialisation chosen from the attributes\n",
      "Initialisation chosen from the graph\n",
      "Initialisation chosen from the graph\n",
      "Initialisation chosen from the attributes\n",
      "Initialisation chosen from the graph\n",
      "Initialisation chosen from the attributes\n",
      "Initialisation chosen from the graph\n",
      "Initialisation chosen from the attributes\n",
      "Initialisation chosen from the graph\n"
     ]
    },
    {
     "name": "stderr",
     "output_type": "stream",
     "text": [
      "\r",
      "50it [1:12:42, 93.14s/it]"
     ]
    },
    {
     "name": "stdout",
     "output_type": "stream",
     "text": [
      "Initialisation chosen from the attributes\n",
      "Initialisation chosen from the attributes\n",
      "Initialisation chosen from the attributes\n",
      "Initialisation chosen from the attributes\n",
      "Initialisation chosen from the attributes\n",
      "Initialisation chosen from the attributes\n",
      "Initialisation chosen from the attributes\n",
      "Initialisation chosen from the attributes\n",
      "Initialisation chosen from the attributes\n",
      "Initialisation chosen from the attributes\n"
     ]
    },
    {
     "name": "stderr",
     "output_type": "stream",
     "text": [
      "\r",
      "51it [1:14:28, 97.12s/it]"
     ]
    },
    {
     "name": "stdout",
     "output_type": "stream",
     "text": [
      "Initialisation chosen from the attributes\n",
      "Initialisation chosen from the attributes\n",
      "Initialisation chosen from the attributes\n",
      "Initialisation chosen from the attributes\n",
      "Initialisation chosen from the attributes\n",
      "Initialisation chosen from the attributes\n",
      "Initialisation chosen from the attributes\n",
      "Initialisation chosen from the attributes\n",
      "Initialisation chosen from the attributes\n",
      "Initialisation chosen from the attributes\n"
     ]
    },
    {
     "name": "stderr",
     "output_type": "stream",
     "text": [
      "\r",
      "52it [1:16:13, 99.46s/it]"
     ]
    },
    {
     "name": "stdout",
     "output_type": "stream",
     "text": [
      "Initialisation chosen from the attributes\n",
      "Initialisation chosen from the attributes\n",
      "Initialisation chosen from the attributes\n",
      "Initialisation chosen from the attributes\n",
      "Initialisation chosen from the attributes\n",
      "Initialisation chosen from the attributes\n",
      "Initialisation chosen from the attributes\n",
      "Initialisation chosen from the attributes\n",
      "Initialisation chosen from the attributes\n",
      "Initialisation chosen from the attributes\n"
     ]
    },
    {
     "name": "stderr",
     "output_type": "stream",
     "text": [
      "\r",
      "53it [1:17:39, 95.26s/it]"
     ]
    },
    {
     "name": "stdout",
     "output_type": "stream",
     "text": [
      "Initialisation chosen from the attributes\n",
      "Initialisation chosen from the attributes\n",
      "Initialisation chosen from the attributes\n",
      "Initialisation chosen from the attributes\n",
      "Initialisation chosen from the attributes\n",
      "Initialisation chosen from the attributes\n",
      "Initialisation chosen from the attributes\n",
      "Initialisation chosen from the attributes\n",
      "Initialisation chosen from the attributes\n",
      "Initialisation chosen from the attributes\n"
     ]
    },
    {
     "name": "stderr",
     "output_type": "stream",
     "text": [
      "\r",
      "54it [1:19:21, 97.32s/it]"
     ]
    },
    {
     "name": "stdout",
     "output_type": "stream",
     "text": [
      "Initialisation chosen from the attributes\n",
      "Initialisation chosen from the attributes\n",
      "Initialisation chosen from the attributes\n",
      "Initialisation chosen from the attributes\n",
      "Initialisation chosen from the attributes\n",
      "Initialisation chosen from the attributes\n",
      "Initialisation chosen from the attributes\n",
      "Initialisation chosen from the attributes\n",
      "Initialisation chosen from the attributes\n",
      "Initialisation chosen from the attributes\n"
     ]
    },
    {
     "name": "stderr",
     "output_type": "stream",
     "text": [
      "\r",
      "55it [1:20:55, 96.49s/it]"
     ]
    },
    {
     "name": "stdout",
     "output_type": "stream",
     "text": [
      "Initialisation chosen from the attributes\n",
      "Initialisation chosen from the attributes\n",
      "Initialisation chosen from the attributes\n",
      "Initialisation chosen from the attributes\n",
      "Initialisation chosen from the attributes\n",
      "Initialisation chosen from the attributes\n",
      "Initialisation chosen from the attributes\n",
      "Initialisation chosen from the graph\n",
      "Initialisation chosen from the attributes\n",
      "Initialisation chosen from the attributes\n"
     ]
    },
    {
     "name": "stderr",
     "output_type": "stream",
     "text": [
      "\r",
      "56it [1:22:34, 97.24s/it]"
     ]
    },
    {
     "name": "stdout",
     "output_type": "stream",
     "text": [
      "Initialisation chosen from the graph\n",
      "Initialisation chosen from the graph\n",
      "Initialisation chosen from the graph\n",
      "Initialisation chosen from the graph\n",
      "Initialisation chosen from the graph\n",
      "Initialisation chosen from the graph\n",
      "Initialisation chosen from the graph\n",
      "Initialisation chosen from the graph\n",
      "Initialisation chosen from the graph\n",
      "Initialisation chosen from the graph\n"
     ]
    },
    {
     "name": "stderr",
     "output_type": "stream",
     "text": [
      "\r",
      "57it [1:24:01, 93.95s/it]"
     ]
    },
    {
     "name": "stdout",
     "output_type": "stream",
     "text": [
      "Initialisation chosen from the graph\n",
      "Initialisation chosen from the graph\n",
      "Initialisation chosen from the graph\n",
      "Initialisation chosen from the graph\n",
      "Initialisation chosen from the graph\n",
      "Initialisation chosen from the graph\n",
      "Initialisation chosen from the graph\n",
      "Initialisation chosen from the graph\n",
      "Initialisation chosen from the graph\n",
      "Initialisation chosen from the graph\n"
     ]
    },
    {
     "name": "stderr",
     "output_type": "stream",
     "text": [
      "\r",
      "58it [1:25:17, 88.61s/it]"
     ]
    },
    {
     "name": "stdout",
     "output_type": "stream",
     "text": [
      "Initialisation chosen from the graph\n",
      "Initialisation chosen from the graph\n",
      "Initialisation chosen from the graph\n",
      "Initialisation chosen from the graph\n",
      "Initialisation chosen from the graph\n",
      "Initialisation chosen from the graph\n",
      "Initialisation chosen from the graph\n",
      "Initialisation chosen from the graph\n",
      "Initialisation chosen from the graph\n",
      "Initialisation chosen from the graph\n"
     ]
    },
    {
     "name": "stderr",
     "output_type": "stream",
     "text": [
      "\r",
      "59it [1:26:39, 86.67s/it]"
     ]
    },
    {
     "name": "stdout",
     "output_type": "stream",
     "text": [
      "Initialisation chosen from the graph\n",
      "Initialisation chosen from the graph\n",
      "Initialisation chosen from the graph\n",
      "Initialisation chosen from the graph\n",
      "Initialisation chosen from the graph\n",
      "Initialisation chosen from the graph\n",
      "Initialisation chosen from the graph\n",
      "Initialisation chosen from the graph\n",
      "Initialisation chosen from the graph\n",
      "Initialisation chosen from the graph\n"
     ]
    },
    {
     "name": "stderr",
     "output_type": "stream",
     "text": [
      "\r",
      "60it [1:28:04, 86.32s/it]"
     ]
    },
    {
     "name": "stdout",
     "output_type": "stream",
     "text": [
      "Initialisation chosen from the attributes\n",
      "Initialisation chosen from the attributes\n",
      "Initialisation chosen from the attributes\n",
      "Initialisation chosen from the attributes\n",
      "Initialisation chosen from the attributes\n",
      "Initialisation chosen from the attributes\n",
      "Initialisation chosen from the attributes\n",
      "Initialisation chosen from the attributes\n",
      "Initialisation chosen from the attributes\n",
      "Initialisation chosen from the attributes\n"
     ]
    },
    {
     "name": "stderr",
     "output_type": "stream",
     "text": [
      "\r",
      "61it [1:29:48, 91.53s/it]"
     ]
    },
    {
     "name": "stdout",
     "output_type": "stream",
     "text": [
      "Initialisation chosen from the attributes\n",
      "Initialisation chosen from the attributes\n",
      "Initialisation chosen from the attributes\n",
      "Initialisation chosen from the attributes\n",
      "Initialisation chosen from the attributes\n",
      "Initialisation chosen from the attributes\n",
      "Initialisation chosen from the attributes\n",
      "Initialisation chosen from the attributes\n",
      "Initialisation chosen from the attributes\n",
      "Initialisation chosen from the attributes\n"
     ]
    },
    {
     "name": "stderr",
     "output_type": "stream",
     "text": [
      "\r",
      "62it [1:31:30, 94.53s/it]"
     ]
    },
    {
     "name": "stdout",
     "output_type": "stream",
     "text": [
      "Initialisation chosen from the attributes\n",
      "Initialisation chosen from the attributes\n",
      "Initialisation chosen from the attributes\n",
      "Initialisation chosen from the attributes\n",
      "Initialisation chosen from the attributes\n",
      "Initialisation chosen from the attributes\n",
      "Initialisation chosen from the attributes\n",
      "Initialisation chosen from the attributes\n",
      "Initialisation chosen from the attributes\n",
      "Initialisation chosen from the attributes\n"
     ]
    },
    {
     "name": "stderr",
     "output_type": "stream",
     "text": [
      "\r",
      "63it [1:33:10, 96.35s/it]"
     ]
    },
    {
     "name": "stdout",
     "output_type": "stream",
     "text": [
      "Initialisation chosen from the attributes\n",
      "Initialisation chosen from the attributes\n",
      "Initialisation chosen from the attributes\n",
      "Initialisation chosen from the attributes\n",
      "Initialisation chosen from the attributes\n",
      "Initialisation chosen from the attributes\n",
      "Initialisation chosen from the attributes\n",
      "Initialisation chosen from the attributes\n",
      "Initialisation chosen from the attributes\n",
      "Initialisation chosen from the attributes\n"
     ]
    },
    {
     "name": "stderr",
     "output_type": "stream",
     "text": [
      "\r",
      "64it [1:34:55, 98.76s/it]"
     ]
    },
    {
     "name": "stdout",
     "output_type": "stream",
     "text": [
      "Initialisation chosen from the attributes\n",
      "Initialisation chosen from the attributes\n",
      "Initialisation chosen from the attributes\n",
      "Initialisation chosen from the attributes\n",
      "Initialisation chosen from the attributes\n",
      "Initialisation chosen from the attributes\n",
      "Initialisation chosen from the attributes\n",
      "Initialisation chosen from the attributes\n",
      "Initialisation chosen from the attributes\n",
      "Initialisation chosen from the attributes\n"
     ]
    },
    {
     "name": "stderr",
     "output_type": "stream",
     "text": [
      "\r",
      "65it [1:36:40, 100.85s/it]"
     ]
    },
    {
     "name": "stdout",
     "output_type": "stream",
     "text": [
      "Initialisation chosen from the graph\n",
      "Initialisation chosen from the attributes\n",
      "Initialisation chosen from the attributes\n",
      "Initialisation chosen from the graph\n",
      "Initialisation chosen from the attributes\n",
      "Initialisation chosen from the attributes\n",
      "Initialisation chosen from the attributes\n",
      "Initialisation chosen from the attributes\n",
      "Initialisation chosen from the attributes\n",
      "Initialisation chosen from the attributes\n"
     ]
    },
    {
     "name": "stderr",
     "output_type": "stream",
     "text": [
      "\r",
      "66it [1:38:07, 96.52s/it] "
     ]
    },
    {
     "name": "stdout",
     "output_type": "stream",
     "text": [
      "Initialisation chosen from the graph\n",
      "Initialisation chosen from the graph\n",
      "Initialisation chosen from the graph\n",
      "Initialisation chosen from the graph\n",
      "Initialisation chosen from the graph\n",
      "Initialisation chosen from the graph\n",
      "Initialisation chosen from the graph\n",
      "Initialisation chosen from the graph\n",
      "Initialisation chosen from the graph\n",
      "Initialisation chosen from the graph\n"
     ]
    },
    {
     "name": "stderr",
     "output_type": "stream",
     "text": [
      "\r",
      "67it [1:39:26, 91.29s/it]"
     ]
    },
    {
     "name": "stdout",
     "output_type": "stream",
     "text": [
      "Initialisation chosen from the graph\n",
      "Initialisation chosen from the graph\n",
      "Initialisation chosen from the graph\n",
      "Initialisation chosen from the graph\n",
      "Initialisation chosen from the graph\n",
      "Initialisation chosen from the graph\n",
      "Initialisation chosen from the graph\n",
      "Initialisation chosen from the graph\n",
      "Initialisation chosen from the graph\n",
      "Initialisation chosen from the graph\n"
     ]
    },
    {
     "name": "stderr",
     "output_type": "stream",
     "text": [
      "\r",
      "68it [1:40:28, 82.63s/it]"
     ]
    },
    {
     "name": "stdout",
     "output_type": "stream",
     "text": [
      "Initialisation chosen from the graph\n",
      "Initialisation chosen from the attributes\n",
      "Initialisation chosen from the graph\n",
      "Initialisation chosen from the graph\n",
      "Initialisation chosen from the graph\n",
      "Initialisation chosen from the graph\n",
      "Initialisation chosen from the graph\n",
      "Initialisation chosen from the graph\n",
      "Initialisation chosen from the graph\n",
      "Initialisation chosen from the attributes\n"
     ]
    },
    {
     "name": "stderr",
     "output_type": "stream",
     "text": [
      "\r",
      "69it [1:41:51, 82.78s/it]"
     ]
    },
    {
     "name": "stdout",
     "output_type": "stream",
     "text": [
      "Initialisation chosen from the graph\n",
      "Initialisation chosen from the graph\n",
      "Initialisation chosen from the graph\n",
      "Initialisation chosen from the graph\n",
      "Initialisation chosen from the graph\n",
      "Initialisation chosen from the graph\n",
      "Initialisation chosen from the graph\n",
      "Initialisation chosen from the graph\n",
      "Initialisation chosen from the graph\n",
      "Initialisation chosen from the graph\n"
     ]
    },
    {
     "name": "stderr",
     "output_type": "stream",
     "text": [
      "\r",
      "70it [1:42:59, 78.19s/it]"
     ]
    },
    {
     "name": "stdout",
     "output_type": "stream",
     "text": [
      "Initialisation chosen from the attributes\n",
      "Initialisation chosen from the attributes\n",
      "Initialisation chosen from the attributes\n",
      "Initialisation chosen from the attributes\n",
      "Initialisation chosen from the attributes\n",
      "Initialisation chosen from the attributes\n",
      "Initialisation chosen from the attributes\n",
      "Initialisation chosen from the attributes\n",
      "Initialisation chosen from the attributes\n",
      "Initialisation chosen from the attributes\n"
     ]
    },
    {
     "name": "stderr",
     "output_type": "stream",
     "text": [
      "\r",
      "71it [1:44:44, 86.25s/it]"
     ]
    },
    {
     "name": "stdout",
     "output_type": "stream",
     "text": [
      "Initialisation chosen from the attributes\n",
      "Initialisation chosen from the attributes\n",
      "Initialisation chosen from the attributes\n",
      "Initialisation chosen from the attributes\n",
      "Initialisation chosen from the attributes\n",
      "Initialisation chosen from the attributes\n",
      "Initialisation chosen from the attributes\n",
      "Initialisation chosen from the attributes\n",
      "Initialisation chosen from the attributes\n",
      "Initialisation chosen from the attributes\n"
     ]
    },
    {
     "name": "stderr",
     "output_type": "stream",
     "text": [
      "\r",
      "72it [1:46:25, 90.79s/it]"
     ]
    },
    {
     "name": "stdout",
     "output_type": "stream",
     "text": [
      "Initialisation chosen from the attributes\n",
      "Initialisation chosen from the attributes\n",
      "Initialisation chosen from the attributes\n",
      "Initialisation chosen from the attributes\n",
      "Initialisation chosen from the attributes\n",
      "Initialisation chosen from the attributes\n",
      "Initialisation chosen from the attributes\n",
      "Initialisation chosen from the attributes\n",
      "Initialisation chosen from the attributes\n",
      "Initialisation chosen from the attributes\n"
     ]
    },
    {
     "name": "stderr",
     "output_type": "stream",
     "text": [
      "\r",
      "73it [1:48:11, 95.23s/it]"
     ]
    },
    {
     "name": "stdout",
     "output_type": "stream",
     "text": [
      "Initialisation chosen from the attributes\n",
      "Initialisation chosen from the attributes\n",
      "Initialisation chosen from the attributes\n",
      "Initialisation chosen from the attributes\n",
      "Initialisation chosen from the attributes\n",
      "Initialisation chosen from the attributes\n",
      "Initialisation chosen from the attributes\n",
      "Initialisation chosen from the attributes\n",
      "Initialisation chosen from the attributes\n",
      "Initialisation chosen from the attributes\n"
     ]
    },
    {
     "name": "stderr",
     "output_type": "stream",
     "text": [
      "\r",
      "74it [1:49:56, 98.12s/it]"
     ]
    },
    {
     "name": "stdout",
     "output_type": "stream",
     "text": [
      "Initialisation chosen from the attributes\n",
      "Initialisation chosen from the attributes\n",
      "Initialisation chosen from the attributes\n",
      "Initialisation chosen from the attributes\n",
      "Initialisation chosen from the attributes\n",
      "Initialisation chosen from the attributes\n",
      "Initialisation chosen from the attributes\n",
      "Initialisation chosen from the attributes\n",
      "Initialisation chosen from the attributes\n",
      "Initialisation chosen from the attributes\n"
     ]
    },
    {
     "name": "stderr",
     "output_type": "stream",
     "text": [
      "\r",
      "75it [1:51:41, 100.24s/it]"
     ]
    },
    {
     "name": "stdout",
     "output_type": "stream",
     "text": [
      "Initialisation chosen from the attributes\n",
      "Initialisation chosen from the attributes\n",
      "Initialisation chosen from the graph\n",
      "Initialisation chosen from the attributes\n",
      "Initialisation chosen from the attributes\n",
      "Initialisation chosen from the attributes\n",
      "Initialisation chosen from the attributes\n",
      "Initialisation chosen from the attributes\n",
      "Initialisation chosen from the attributes\n",
      "Initialisation chosen from the graph\n"
     ]
    },
    {
     "name": "stderr",
     "output_type": "stream",
     "text": [
      "\r",
      "76it [1:53:08, 96.38s/it] "
     ]
    },
    {
     "name": "stdout",
     "output_type": "stream",
     "text": [
      "Initialisation chosen from the graph\n",
      "Initialisation chosen from the graph\n",
      "Initialisation chosen from the graph\n",
      "Initialisation chosen from the graph\n",
      "Initialisation chosen from the graph\n",
      "Initialisation chosen from the graph\n",
      "Initialisation chosen from the graph\n",
      "Initialisation chosen from the graph\n",
      "Initialisation chosen from the graph\n",
      "Initialisation chosen from the graph\n"
     ]
    },
    {
     "name": "stderr",
     "output_type": "stream",
     "text": [
      "\r",
      "77it [1:54:29, 91.71s/it]"
     ]
    },
    {
     "name": "stdout",
     "output_type": "stream",
     "text": [
      "Initialisation chosen from the graph\n",
      "Initialisation chosen from the graph\n",
      "Initialisation chosen from the graph\n",
      "Initialisation chosen from the graph\n",
      "Initialisation chosen from the graph\n",
      "Initialisation chosen from the graph\n",
      "Initialisation chosen from the graph\n",
      "Initialisation chosen from the graph\n",
      "Initialisation chosen from the graph\n",
      "Initialisation chosen from the graph\n"
     ]
    },
    {
     "name": "stderr",
     "output_type": "stream",
     "text": [
      "\r",
      "78it [1:55:29, 82.23s/it]"
     ]
    },
    {
     "name": "stdout",
     "output_type": "stream",
     "text": [
      "Initialisation chosen from the graph\n",
      "Initialisation chosen from the graph\n",
      "Initialisation chosen from the graph\n",
      "Initialisation chosen from the graph\n",
      "Initialisation chosen from the graph\n",
      "Initialisation chosen from the graph\n",
      "Initialisation chosen from the attributes\n",
      "Initialisation chosen from the graph\n",
      "Initialisation chosen from the graph\n",
      "Initialisation chosen from the graph\n"
     ]
    },
    {
     "name": "stderr",
     "output_type": "stream",
     "text": [
      "\r",
      "79it [1:56:46, 80.67s/it]"
     ]
    },
    {
     "name": "stdout",
     "output_type": "stream",
     "text": [
      "Initialisation chosen from the graph\n",
      "Initialisation chosen from the graph\n",
      "Initialisation chosen from the graph\n",
      "Initialisation chosen from the graph\n",
      "Initialisation chosen from the graph\n",
      "Initialisation chosen from the graph\n",
      "Initialisation chosen from the graph\n",
      "Initialisation chosen from the graph\n",
      "Initialisation chosen from the graph\n",
      "Initialisation chosen from the graph\n"
     ]
    },
    {
     "name": "stderr",
     "output_type": "stream",
     "text": [
      "\r",
      "80it [1:57:50, 75.58s/it]"
     ]
    },
    {
     "name": "stdout",
     "output_type": "stream",
     "text": [
      "Initialisation chosen from the attributes\n",
      "Initialisation chosen from the attributes\n",
      "Initialisation chosen from the attributes\n",
      "Initialisation chosen from the attributes\n",
      "Initialisation chosen from the attributes\n",
      "Initialisation chosen from the attributes\n",
      "Initialisation chosen from the attributes\n",
      "Initialisation chosen from the attributes\n",
      "Initialisation chosen from the attributes\n",
      "Initialisation chosen from the attributes\n"
     ]
    },
    {
     "name": "stderr",
     "output_type": "stream",
     "text": [
      "\r",
      "81it [1:59:32, 83.59s/it]"
     ]
    },
    {
     "name": "stdout",
     "output_type": "stream",
     "text": [
      "Initialisation chosen from the attributes\n",
      "Initialisation chosen from the attributes\n",
      "Initialisation chosen from the attributes\n",
      "Initialisation chosen from the attributes\n",
      "Initialisation chosen from the attributes\n",
      "Initialisation chosen from the attributes\n",
      "Initialisation chosen from the attributes\n",
      "Initialisation chosen from the attributes\n",
      "Initialisation chosen from the attributes\n",
      "Initialisation chosen from the attributes\n"
     ]
    },
    {
     "name": "stderr",
     "output_type": "stream",
     "text": [
      "\r",
      "82it [2:01:16, 89.61s/it]"
     ]
    },
    {
     "name": "stdout",
     "output_type": "stream",
     "text": [
      "Initialisation chosen from the attributes\n",
      "Initialisation chosen from the attributes\n",
      "Initialisation chosen from the attributes\n",
      "Initialisation chosen from the attributes\n",
      "Initialisation chosen from the attributes\n",
      "Initialisation chosen from the attributes\n",
      "Initialisation chosen from the attributes\n",
      "Initialisation chosen from the attributes\n",
      "Initialisation chosen from the attributes\n",
      "Initialisation chosen from the attributes\n"
     ]
    },
    {
     "name": "stderr",
     "output_type": "stream",
     "text": [
      "\r",
      "83it [2:02:48, 90.50s/it]"
     ]
    },
    {
     "name": "stdout",
     "output_type": "stream",
     "text": [
      "Initialisation chosen from the attributes\n",
      "Initialisation chosen from the attributes\n",
      "Initialisation chosen from the attributes\n",
      "Initialisation chosen from the attributes\n",
      "Initialisation chosen from the attributes\n",
      "Initialisation chosen from the attributes\n",
      "Initialisation chosen from the attributes\n",
      "Initialisation chosen from the attributes\n",
      "Initialisation chosen from the attributes\n",
      "Initialisation chosen from the attributes\n"
     ]
    },
    {
     "name": "stderr",
     "output_type": "stream",
     "text": [
      "\r",
      "84it [2:04:34, 94.92s/it]"
     ]
    },
    {
     "name": "stdout",
     "output_type": "stream",
     "text": [
      "Initialisation chosen from the attributes\n",
      "Initialisation chosen from the attributes\n",
      "Initialisation chosen from the attributes\n",
      "Initialisation chosen from the attributes\n",
      "Initialisation chosen from the attributes\n",
      "Initialisation chosen from the attributes\n",
      "Initialisation chosen from the attributes\n",
      "Initialisation chosen from the attributes\n",
      "Initialisation chosen from the attributes\n",
      "Initialisation chosen from the attributes\n"
     ]
    },
    {
     "name": "stderr",
     "output_type": "stream",
     "text": [
      "\r",
      "85it [2:06:08, 94.74s/it]"
     ]
    },
    {
     "name": "stdout",
     "output_type": "stream",
     "text": [
      "Initialisation chosen from the attributes\n",
      "Initialisation chosen from the attributes\n",
      "Initialisation chosen from the graph\n",
      "Initialisation chosen from the attributes\n",
      "Initialisation chosen from the attributes\n",
      "Initialisation chosen from the attributes\n",
      "Initialisation chosen from the attributes\n",
      "Initialisation chosen from the graph\n",
      "Initialisation chosen from the graph\n",
      "Initialisation chosen from the attributes\n"
     ]
    },
    {
     "name": "stderr",
     "output_type": "stream",
     "text": [
      "\r",
      "86it [2:07:53, 97.86s/it]"
     ]
    },
    {
     "name": "stdout",
     "output_type": "stream",
     "text": [
      "Initialisation chosen from the graph\n",
      "Initialisation chosen from the graph\n",
      "Initialisation chosen from the graph\n",
      "Initialisation chosen from the graph\n",
      "Initialisation chosen from the graph\n",
      "Initialisation chosen from the graph\n",
      "Initialisation chosen from the graph\n",
      "Initialisation chosen from the graph\n",
      "Initialisation chosen from the graph\n",
      "Initialisation chosen from the graph\n"
     ]
    },
    {
     "name": "stderr",
     "output_type": "stream",
     "text": [
      "\r",
      "87it [2:09:16, 93.34s/it]"
     ]
    },
    {
     "name": "stdout",
     "output_type": "stream",
     "text": [
      "Initialisation chosen from the graph\n",
      "Initialisation chosen from the graph\n",
      "Initialisation chosen from the graph\n",
      "Initialisation chosen from the graph\n",
      "Initialisation chosen from the graph\n",
      "Initialisation chosen from the graph\n",
      "Initialisation chosen from the graph\n",
      "Initialisation chosen from the graph\n",
      "Initialisation chosen from the graph\n",
      "Initialisation chosen from the graph\n"
     ]
    },
    {
     "name": "stderr",
     "output_type": "stream",
     "text": [
      "\r",
      "88it [2:10:26, 86.45s/it]"
     ]
    },
    {
     "name": "stdout",
     "output_type": "stream",
     "text": [
      "Initialisation chosen from the graph\n",
      "Initialisation chosen from the graph\n",
      "Initialisation chosen from the attributes\n",
      "Initialisation chosen from the graph\n",
      "Initialisation chosen from the graph\n",
      "Initialisation chosen from the graph\n",
      "Initialisation chosen from the graph\n",
      "Initialisation chosen from the graph\n",
      "Initialisation chosen from the graph\n",
      "Initialisation chosen from the graph\n"
     ]
    },
    {
     "name": "stderr",
     "output_type": "stream",
     "text": [
      "\r",
      "89it [2:11:44, 83.83s/it]"
     ]
    },
    {
     "name": "stdout",
     "output_type": "stream",
     "text": [
      "Initialisation chosen from the graph\n",
      "Initialisation chosen from the graph\n",
      "Initialisation chosen from the graph\n",
      "Initialisation chosen from the graph\n",
      "Initialisation chosen from the graph\n",
      "Initialisation chosen from the graph\n",
      "Initialisation chosen from the graph\n",
      "Initialisation chosen from the graph\n",
      "Initialisation chosen from the graph\n",
      "Initialisation chosen from the graph\n"
     ]
    },
    {
     "name": "stderr",
     "output_type": "stream",
     "text": [
      "\r",
      "90it [2:12:50, 78.45s/it]"
     ]
    },
    {
     "name": "stdout",
     "output_type": "stream",
     "text": [
      "Initialisation chosen from the attributes\n",
      "Initialisation chosen from the attributes\n",
      "Initialisation chosen from the attributes\n",
      "Initialisation chosen from the attributes\n",
      "Initialisation chosen from the attributes\n",
      "Initialisation chosen from the attributes\n",
      "Initialisation chosen from the attributes\n",
      "Initialisation chosen from the attributes\n",
      "Initialisation chosen from the attributes\n",
      "Initialisation chosen from the attributes\n"
     ]
    },
    {
     "name": "stderr",
     "output_type": "stream",
     "text": [
      "\r",
      "91it [2:14:23, 82.93s/it]"
     ]
    },
    {
     "name": "stdout",
     "output_type": "stream",
     "text": [
      "Initialisation chosen from the attributes\n",
      "Initialisation chosen from the attributes\n",
      "Initialisation chosen from the attributes\n",
      "Initialisation chosen from the attributes\n",
      "Initialisation chosen from the attributes\n",
      "Initialisation chosen from the attributes\n",
      "Initialisation chosen from the attributes\n",
      "Initialisation chosen from the attributes\n",
      "Initialisation chosen from the attributes\n",
      "Initialisation chosen from the attributes\n"
     ]
    },
    {
     "name": "stderr",
     "output_type": "stream",
     "text": [
      "\r",
      "92it [2:16:05, 88.46s/it]"
     ]
    },
    {
     "name": "stdout",
     "output_type": "stream",
     "text": [
      "Initialisation chosen from the attributes\n",
      "Initialisation chosen from the attributes\n",
      "Initialisation chosen from the attributes\n",
      "Initialisation chosen from the attributes\n",
      "Initialisation chosen from the attributes\n",
      "Initialisation chosen from the attributes\n",
      "Initialisation chosen from the attributes\n",
      "Initialisation chosen from the attributes\n",
      "Initialisation chosen from the attributes\n",
      "Initialisation chosen from the attributes\n"
     ]
    },
    {
     "name": "stderr",
     "output_type": "stream",
     "text": [
      "\r",
      "93it [2:17:39, 90.20s/it]"
     ]
    },
    {
     "name": "stdout",
     "output_type": "stream",
     "text": [
      "Initialisation chosen from the attributes\n",
      "Initialisation chosen from the attributes\n",
      "Initialisation chosen from the attributes\n",
      "Initialisation chosen from the attributes\n",
      "Initialisation chosen from the attributes\n",
      "Initialisation chosen from the attributes\n",
      "Initialisation chosen from the attributes\n",
      "Initialisation chosen from the attributes\n",
      "Initialisation chosen from the attributes\n",
      "Initialisation chosen from the attributes\n"
     ]
    },
    {
     "name": "stderr",
     "output_type": "stream",
     "text": [
      "\r",
      "94it [2:19:07, 89.53s/it]"
     ]
    },
    {
     "name": "stdout",
     "output_type": "stream",
     "text": [
      "Initialisation chosen from the attributes\n",
      "Initialisation chosen from the attributes\n",
      "Initialisation chosen from the attributes\n",
      "Initialisation chosen from the attributes\n",
      "Initialisation chosen from the attributes\n",
      "Initialisation chosen from the attributes\n",
      "Initialisation chosen from the attributes\n",
      "Initialisation chosen from the attributes\n",
      "Initialisation chosen from the attributes\n",
      "Initialisation chosen from the attributes\n"
     ]
    },
    {
     "name": "stderr",
     "output_type": "stream",
     "text": [
      "\r",
      "95it [2:20:47, 92.64s/it]"
     ]
    },
    {
     "name": "stdout",
     "output_type": "stream",
     "text": [
      "Initialisation chosen from the attributes\n",
      "Initialisation chosen from the attributes\n",
      "Initialisation chosen from the attributes\n",
      "Initialisation chosen from the graph\n",
      "Initialisation chosen from the attributes\n",
      "Initialisation chosen from the graph\n",
      "Initialisation chosen from the graph\n",
      "Initialisation chosen from the graph\n",
      "Initialisation chosen from the graph\n",
      "Initialisation chosen from the attributes\n"
     ]
    },
    {
     "name": "stderr",
     "output_type": "stream",
     "text": [
      "\r",
      "96it [2:22:33, 96.64s/it]"
     ]
    },
    {
     "name": "stdout",
     "output_type": "stream",
     "text": [
      "Initialisation chosen from the graph\n",
      "Initialisation chosen from the graph\n",
      "Initialisation chosen from the graph\n",
      "Initialisation chosen from the graph\n",
      "Initialisation chosen from the graph\n",
      "Initialisation chosen from the graph\n",
      "Initialisation chosen from the graph\n",
      "Initialisation chosen from the graph\n",
      "Initialisation chosen from the graph\n",
      "Initialisation chosen from the graph\n"
     ]
    },
    {
     "name": "stderr",
     "output_type": "stream",
     "text": [
      "\r",
      "97it [2:23:46, 89.59s/it]"
     ]
    },
    {
     "name": "stdout",
     "output_type": "stream",
     "text": [
      "Initialisation chosen from the graph\n",
      "Initialisation chosen from the graph\n",
      "Initialisation chosen from the graph\n",
      "Initialisation chosen from the attributes\n",
      "Initialisation chosen from the graph\n",
      "Initialisation chosen from the graph\n",
      "Initialisation chosen from the graph\n",
      "Initialisation chosen from the graph\n",
      "Initialisation chosen from the graph\n",
      "Initialisation chosen from the graph\n"
     ]
    },
    {
     "name": "stderr",
     "output_type": "stream",
     "text": [
      "\r",
      "98it [2:24:46, 80.90s/it]"
     ]
    },
    {
     "name": "stdout",
     "output_type": "stream",
     "text": [
      "Initialisation chosen from the graph\n",
      "Initialisation chosen from the graph\n",
      "Initialisation chosen from the graph\n",
      "Initialisation chosen from the graph\n",
      "Initialisation chosen from the attributes\n",
      "Initialisation chosen from the graph\n",
      "Initialisation chosen from the graph\n",
      "Initialisation chosen from the graph\n",
      "Initialisation chosen from the graph\n",
      "Initialisation chosen from the graph\n"
     ]
    },
    {
     "name": "stderr",
     "output_type": "stream",
     "text": [
      "\r",
      "99it [2:25:46, 74.45s/it]"
     ]
    },
    {
     "name": "stdout",
     "output_type": "stream",
     "text": [
      "Initialisation chosen from the graph\n",
      "Initialisation chosen from the graph\n",
      "Initialisation chosen from the graph\n",
      "Initialisation chosen from the graph\n",
      "Initialisation chosen from the graph\n",
      "Initialisation chosen from the graph\n",
      "Initialisation chosen from the graph\n",
      "Initialisation chosen from the graph\n",
      "Initialisation chosen from the graph\n",
      "Initialisation chosen from the graph\n"
     ]
    },
    {
     "name": "stderr",
     "output_type": "stream",
     "text": [
      "\r",
      "100it [2:27:03, 75.22s/it]"
     ]
    },
    {
     "name": "stdout",
     "output_type": "stream",
     "text": [
      "Initialisation chosen from the attributes\n",
      "Initialisation chosen from the attributes\n",
      "Initialisation chosen from the attributes\n",
      "Initialisation chosen from the attributes\n",
      "Initialisation chosen from the attributes\n",
      "Initialisation chosen from the attributes\n",
      "Initialisation chosen from the attributes\n",
      "Initialisation chosen from the attributes\n",
      "Initialisation chosen from the attributes\n",
      "Initialisation chosen from the attributes\n"
     ]
    },
    {
     "name": "stderr",
     "output_type": "stream",
     "text": [
      "\r",
      "101it [2:28:50, 84.67s/it]"
     ]
    },
    {
     "name": "stdout",
     "output_type": "stream",
     "text": [
      "Initialisation chosen from the attributes\n",
      "Initialisation chosen from the attributes\n",
      "Initialisation chosen from the attributes\n",
      "Initialisation chosen from the attributes\n",
      "Initialisation chosen from the attributes\n",
      "Initialisation chosen from the attributes\n",
      "Initialisation chosen from the attributes\n",
      "Initialisation chosen from the attributes\n",
      "Initialisation chosen from the attributes\n",
      "Initialisation chosen from the attributes\n"
     ]
    },
    {
     "name": "stderr",
     "output_type": "stream",
     "text": [
      "\r",
      "102it [2:30:17, 85.47s/it]"
     ]
    },
    {
     "name": "stdout",
     "output_type": "stream",
     "text": [
      "Initialisation chosen from the attributes\n",
      "Initialisation chosen from the attributes\n",
      "Initialisation chosen from the attributes\n",
      "Initialisation chosen from the attributes\n",
      "Initialisation chosen from the attributes\n",
      "Initialisation chosen from the attributes\n",
      "Initialisation chosen from the attributes\n",
      "Initialisation chosen from the attributes\n",
      "Initialisation chosen from the attributes\n",
      "Initialisation chosen from the attributes\n"
     ]
    },
    {
     "name": "stderr",
     "output_type": "stream",
     "text": [
      "\r",
      "103it [2:32:02, 91.49s/it]"
     ]
    },
    {
     "name": "stdout",
     "output_type": "stream",
     "text": [
      "Initialisation chosen from the attributes\n",
      "Initialisation chosen from the attributes\n",
      "Initialisation chosen from the attributes\n",
      "Initialisation chosen from the attributes\n",
      "Initialisation chosen from the attributes\n",
      "Initialisation chosen from the attributes\n",
      "Initialisation chosen from the attributes\n",
      "Initialisation chosen from the attributes\n",
      "Initialisation chosen from the attributes\n",
      "Initialisation chosen from the attributes\n"
     ]
    },
    {
     "name": "stderr",
     "output_type": "stream",
     "text": [
      "\r",
      "104it [2:33:36, 92.11s/it]"
     ]
    },
    {
     "name": "stdout",
     "output_type": "stream",
     "text": [
      "Initialisation chosen from the attributes\n",
      "Initialisation chosen from the attributes\n",
      "Initialisation chosen from the attributes\n",
      "Initialisation chosen from the attributes\n",
      "Initialisation chosen from the attributes\n",
      "Initialisation chosen from the attributes\n",
      "Initialisation chosen from the attributes\n",
      "Initialisation chosen from the attributes\n",
      "Initialisation chosen from the attributes\n",
      "Initialisation chosen from the attributes\n"
     ]
    },
    {
     "name": "stderr",
     "output_type": "stream",
     "text": [
      "\r",
      "105it [2:34:45, 85.11s/it]"
     ]
    },
    {
     "name": "stdout",
     "output_type": "stream",
     "text": [
      "Initialisation chosen from the attributes\n",
      "Initialisation chosen from the attributes\n",
      "Initialisation chosen from the attributes\n",
      "Initialisation chosen from the attributes\n",
      "Initialisation chosen from the attributes\n",
      "Initialisation chosen from the attributes\n",
      "Initialisation chosen from the attributes\n",
      "Initialisation chosen from the attributes\n",
      "Initialisation chosen from the attributes\n",
      "Initialisation chosen from the attributes\n"
     ]
    },
    {
     "name": "stderr",
     "output_type": "stream",
     "text": [
      "\r",
      "106it [2:36:24, 89.37s/it]"
     ]
    },
    {
     "name": "stdout",
     "output_type": "stream",
     "text": [
      "Initialisation chosen from the attributes\n",
      "Initialisation chosen from the graph\n",
      "Initialisation chosen from the graph\n",
      "Initialisation chosen from the graph\n",
      "Initialisation chosen from the graph\n",
      "Initialisation chosen from the graph\n",
      "Initialisation chosen from the graph\n",
      "Initialisation chosen from the graph\n",
      "Initialisation chosen from the attributes\n",
      "Initialisation chosen from the graph\n"
     ]
    },
    {
     "name": "stderr",
     "output_type": "stream",
     "text": [
      "\r",
      "107it [2:37:52, 88.91s/it]"
     ]
    },
    {
     "name": "stdout",
     "output_type": "stream",
     "text": [
      "Initialisation chosen from the graph\n",
      "Initialisation chosen from the graph\n",
      "Initialisation chosen from the graph\n",
      "Initialisation chosen from the graph\n",
      "Initialisation chosen from the graph\n",
      "Initialisation chosen from the graph\n",
      "Initialisation chosen from the graph\n",
      "Initialisation chosen from the graph\n",
      "Initialisation chosen from the graph\n",
      "Initialisation chosen from the graph\n"
     ]
    },
    {
     "name": "stderr",
     "output_type": "stream",
     "text": [
      "\r",
      "108it [2:39:09, 85.38s/it]"
     ]
    },
    {
     "name": "stdout",
     "output_type": "stream",
     "text": [
      "Initialisation chosen from the graph\n",
      "Initialisation chosen from the graph\n",
      "Initialisation chosen from the graph\n",
      "Initialisation chosen from the graph\n",
      "Initialisation chosen from the graph\n",
      "Initialisation chosen from the graph\n",
      "Initialisation chosen from the graph\n",
      "Initialisation chosen from the graph\n",
      "Initialisation chosen from the graph\n",
      "Initialisation chosen from the graph\n"
     ]
    },
    {
     "name": "stderr",
     "output_type": "stream",
     "text": [
      "\r",
      "109it [2:40:16, 79.92s/it]"
     ]
    },
    {
     "name": "stdout",
     "output_type": "stream",
     "text": [
      "Initialisation chosen from the graph\n",
      "Initialisation chosen from the graph\n",
      "Initialisation chosen from the graph\n",
      "Initialisation chosen from the graph\n",
      "Initialisation chosen from the graph\n",
      "Initialisation chosen from the graph\n",
      "Initialisation chosen from the graph\n",
      "Initialisation chosen from the graph\n",
      "Initialisation chosen from the graph\n",
      "Initialisation chosen from the graph\n"
     ]
    },
    {
     "name": "stderr",
     "output_type": "stream",
     "text": [
      "\r",
      "110it [2:41:15, 73.69s/it]"
     ]
    },
    {
     "name": "stdout",
     "output_type": "stream",
     "text": [
      "Initialisation chosen from the attributes\n",
      "Initialisation chosen from the attributes\n",
      "Initialisation chosen from the attributes\n",
      "Initialisation chosen from the attributes\n",
      "Initialisation chosen from the attributes\n",
      "Initialisation chosen from the attributes\n",
      "Initialisation chosen from the attributes\n",
      "Initialisation chosen from the attributes\n",
      "Initialisation chosen from the attributes\n",
      "Initialisation chosen from the attributes\n"
     ]
    },
    {
     "name": "stderr",
     "output_type": "stream",
     "text": [
      "\r",
      "111it [2:43:02, 83.61s/it]"
     ]
    },
    {
     "name": "stdout",
     "output_type": "stream",
     "text": [
      "Initialisation chosen from the attributes\n",
      "Initialisation chosen from the attributes\n",
      "Initialisation chosen from the attributes\n",
      "Initialisation chosen from the attributes\n",
      "Initialisation chosen from the attributes\n",
      "Initialisation chosen from the attributes\n",
      "Initialisation chosen from the attributes\n",
      "Initialisation chosen from the attributes\n",
      "Initialisation chosen from the attributes\n",
      "Initialisation chosen from the attributes\n"
     ]
    },
    {
     "name": "stderr",
     "output_type": "stream",
     "text": [
      "\r",
      "112it [2:44:45, 89.40s/it]"
     ]
    },
    {
     "name": "stdout",
     "output_type": "stream",
     "text": [
      "Initialisation chosen from the attributes\n",
      "Initialisation chosen from the attributes\n",
      "Initialisation chosen from the attributes\n",
      "Initialisation chosen from the attributes\n",
      "Initialisation chosen from the attributes\n",
      "Initialisation chosen from the attributes\n",
      "Initialisation chosen from the attributes\n",
      "Initialisation chosen from the attributes\n",
      "Initialisation chosen from the attributes\n",
      "Initialisation chosen from the attributes\n"
     ]
    },
    {
     "name": "stderr",
     "output_type": "stream",
     "text": [
      "\r",
      "113it [2:46:24, 92.20s/it]"
     ]
    },
    {
     "name": "stdout",
     "output_type": "stream",
     "text": [
      "Initialisation chosen from the attributes\n",
      "Initialisation chosen from the attributes\n",
      "Initialisation chosen from the attributes\n",
      "Initialisation chosen from the attributes\n",
      "Initialisation chosen from the attributes\n",
      "Initialisation chosen from the attributes\n",
      "Initialisation chosen from the attributes\n",
      "Initialisation chosen from the attributes\n",
      "Initialisation chosen from the attributes\n",
      "Initialisation chosen from the attributes\n"
     ]
    },
    {
     "name": "stderr",
     "output_type": "stream",
     "text": [
      "\r",
      "114it [2:48:11, 96.74s/it]"
     ]
    },
    {
     "name": "stdout",
     "output_type": "stream",
     "text": [
      "Initialisation chosen from the attributes\n",
      "Initialisation chosen from the attributes\n",
      "Initialisation chosen from the attributes\n",
      "Initialisation chosen from the attributes\n",
      "Initialisation chosen from the attributes\n",
      "Initialisation chosen from the attributes\n",
      "Initialisation chosen from the attributes\n",
      "Initialisation chosen from the attributes\n",
      "Initialisation chosen from the attributes\n",
      "Initialisation chosen from the attributes\n"
     ]
    },
    {
     "name": "stderr",
     "output_type": "stream",
     "text": [
      "\r",
      "115it [2:49:58, 99.78s/it]"
     ]
    },
    {
     "name": "stdout",
     "output_type": "stream",
     "text": [
      "Initialisation chosen from the attributes\n",
      "Initialisation chosen from the attributes\n",
      "Initialisation chosen from the attributes\n",
      "Initialisation chosen from the attributes\n",
      "Initialisation chosen from the attributes\n",
      "Initialisation chosen from the attributes\n",
      "Initialisation chosen from the graph\n",
      "Initialisation chosen from the attributes\n",
      "Initialisation chosen from the attributes\n",
      "Initialisation chosen from the attributes\n"
     ]
    },
    {
     "name": "stderr",
     "output_type": "stream",
     "text": [
      "\r",
      "116it [2:51:32, 97.90s/it]"
     ]
    },
    {
     "name": "stdout",
     "output_type": "stream",
     "text": [
      "Initialisation chosen from the graph\n",
      "Initialisation chosen from the graph\n",
      "Initialisation chosen from the graph\n",
      "Initialisation chosen from the graph\n",
      "Initialisation chosen from the attributes\n",
      "Initialisation chosen from the attributes\n",
      "Initialisation chosen from the graph\n",
      "Initialisation chosen from the attributes\n",
      "Initialisation chosen from the graph\n",
      "Initialisation chosen from the graph\n"
     ]
    },
    {
     "name": "stderr",
     "output_type": "stream",
     "text": [
      "\r",
      "117it [2:52:52, 92.69s/it]"
     ]
    },
    {
     "name": "stdout",
     "output_type": "stream",
     "text": [
      "Initialisation chosen from the graph\n",
      "Initialisation chosen from the graph\n",
      "Initialisation chosen from the graph\n",
      "Initialisation chosen from the graph\n",
      "Initialisation chosen from the graph\n",
      "Initialisation chosen from the graph\n",
      "Initialisation chosen from the graph\n",
      "Initialisation chosen from the graph\n",
      "Initialisation chosen from the graph\n",
      "Initialisation chosen from the graph\n"
     ]
    },
    {
     "name": "stderr",
     "output_type": "stream",
     "text": [
      "\r",
      "118it [2:53:47, 81.45s/it]"
     ]
    },
    {
     "name": "stdout",
     "output_type": "stream",
     "text": [
      "Initialisation chosen from the graph\n",
      "Initialisation chosen from the graph\n",
      "Initialisation chosen from the graph\n",
      "Initialisation chosen from the graph\n",
      "Initialisation chosen from the graph\n",
      "Initialisation chosen from the graph\n",
      "Initialisation chosen from the graph\n",
      "Initialisation chosen from the graph\n",
      "Initialisation chosen from the graph\n",
      "Initialisation chosen from the graph\n"
     ]
    },
    {
     "name": "stderr",
     "output_type": "stream",
     "text": [
      "\r",
      "119it [2:54:56, 77.74s/it]"
     ]
    },
    {
     "name": "stdout",
     "output_type": "stream",
     "text": [
      "Initialisation chosen from the graph\n",
      "Initialisation chosen from the graph\n",
      "Initialisation chosen from the graph\n",
      "Initialisation chosen from the graph\n",
      "Initialisation chosen from the graph\n",
      "Initialisation chosen from the graph\n",
      "Initialisation chosen from the graph\n",
      "Initialisation chosen from the graph\n",
      "Initialisation chosen from the graph\n",
      "Initialisation chosen from the graph\n"
     ]
    },
    {
     "name": "stderr",
     "output_type": "stream",
     "text": [
      "\r",
      "120it [2:56:19, 79.21s/it]"
     ]
    },
    {
     "name": "stdout",
     "output_type": "stream",
     "text": [
      "Initialisation chosen from the attributes\n",
      "Initialisation chosen from the attributes\n",
      "Initialisation chosen from the attributes\n",
      "Initialisation chosen from the attributes\n",
      "Initialisation chosen from the attributes\n",
      "Initialisation chosen from the attributes\n",
      "Initialisation chosen from the attributes\n",
      "Initialisation chosen from the attributes\n",
      "Initialisation chosen from the attributes\n",
      "Initialisation chosen from the attributes\n"
     ]
    },
    {
     "name": "stderr",
     "output_type": "stream",
     "text": [
      "\r",
      "121it [2:58:05, 87.07s/it]"
     ]
    },
    {
     "name": "stdout",
     "output_type": "stream",
     "text": [
      "Initialisation chosen from the attributes\n",
      "Initialisation chosen from the attributes\n",
      "Initialisation chosen from the attributes\n",
      "Initialisation chosen from the attributes\n",
      "Initialisation chosen from the attributes\n",
      "Initialisation chosen from the attributes\n",
      "Initialisation chosen from the attributes\n",
      "Initialisation chosen from the attributes\n",
      "Initialisation chosen from the attributes\n",
      "Initialisation chosen from the attributes\n"
     ]
    },
    {
     "name": "stderr",
     "output_type": "stream",
     "text": [
      "\r",
      "122it [2:59:50, 92.67s/it]"
     ]
    },
    {
     "name": "stdout",
     "output_type": "stream",
     "text": [
      "Initialisation chosen from the attributes\n",
      "Initialisation chosen from the attributes\n",
      "Initialisation chosen from the attributes\n",
      "Initialisation chosen from the attributes\n",
      "Initialisation chosen from the attributes\n",
      "Initialisation chosen from the attributes\n",
      "Initialisation chosen from the attributes\n",
      "Initialisation chosen from the attributes\n",
      "Initialisation chosen from the attributes\n",
      "Initialisation chosen from the attributes\n"
     ]
    },
    {
     "name": "stderr",
     "output_type": "stream",
     "text": [
      "\r",
      "123it [3:01:30, 94.76s/it]"
     ]
    },
    {
     "name": "stdout",
     "output_type": "stream",
     "text": [
      "Initialisation chosen from the attributes\n",
      "Initialisation chosen from the attributes\n",
      "Initialisation chosen from the attributes\n",
      "Initialisation chosen from the attributes\n",
      "Initialisation chosen from the attributes\n",
      "Initialisation chosen from the attributes\n",
      "Initialisation chosen from the attributes\n",
      "Initialisation chosen from the attributes\n",
      "Initialisation chosen from the attributes\n",
      "Initialisation chosen from the attributes\n"
     ]
    },
    {
     "name": "stderr",
     "output_type": "stream",
     "text": [
      "\r",
      "124it [3:03:09, 95.93s/it]"
     ]
    },
    {
     "name": "stdout",
     "output_type": "stream",
     "text": [
      "Initialisation chosen from the attributes\n",
      "Initialisation chosen from the attributes\n",
      "Initialisation chosen from the attributes\n",
      "Initialisation chosen from the attributes\n",
      "Initialisation chosen from the attributes\n",
      "Initialisation chosen from the attributes\n",
      "Initialisation chosen from the attributes\n",
      "Initialisation chosen from the attributes\n",
      "Initialisation chosen from the attributes\n",
      "Initialisation chosen from the attributes\n"
     ]
    },
    {
     "name": "stderr",
     "output_type": "stream",
     "text": [
      "\r",
      "125it [3:04:51, 97.79s/it]"
     ]
    },
    {
     "name": "stdout",
     "output_type": "stream",
     "text": [
      "Initialisation chosen from the attributes\n",
      "Initialisation chosen from the attributes\n",
      "Initialisation chosen from the attributes\n",
      "Initialisation chosen from the attributes\n",
      "Initialisation chosen from the attributes\n",
      "Initialisation chosen from the attributes\n",
      "Initialisation chosen from the attributes\n",
      "Initialisation chosen from the attributes\n",
      "Initialisation chosen from the attributes\n",
      "Initialisation chosen from the attributes\n"
     ]
    },
    {
     "name": "stderr",
     "output_type": "stream",
     "text": [
      "\r",
      "126it [3:06:23, 96.25s/it]"
     ]
    },
    {
     "name": "stdout",
     "output_type": "stream",
     "text": [
      "Initialisation chosen from the graph\n",
      "Initialisation chosen from the graph\n",
      "Initialisation chosen from the graph\n",
      "Initialisation chosen from the graph\n",
      "Initialisation chosen from the graph\n",
      "Initialisation chosen from the graph\n",
      "Initialisation chosen from the graph\n",
      "Initialisation chosen from the graph\n",
      "Initialisation chosen from the graph\n",
      "Initialisation chosen from the graph\n"
     ]
    },
    {
     "name": "stderr",
     "output_type": "stream",
     "text": [
      "\r",
      "127it [3:07:40, 90.45s/it]"
     ]
    },
    {
     "name": "stdout",
     "output_type": "stream",
     "text": [
      "Initialisation chosen from the graph\n",
      "Initialisation chosen from the graph\n",
      "Initialisation chosen from the graph\n",
      "Initialisation chosen from the graph\n",
      "Initialisation chosen from the graph\n",
      "Initialisation chosen from the graph\n",
      "Initialisation chosen from the graph\n",
      "Initialisation chosen from the graph\n",
      "Initialisation chosen from the graph\n",
      "Initialisation chosen from the graph\n"
     ]
    },
    {
     "name": "stderr",
     "output_type": "stream",
     "text": [
      "\r",
      "128it [3:08:39, 80.99s/it]"
     ]
    },
    {
     "name": "stdout",
     "output_type": "stream",
     "text": [
      "Initialisation chosen from the graph\n",
      "Initialisation chosen from the graph\n",
      "Initialisation chosen from the graph\n",
      "Initialisation chosen from the graph\n",
      "Initialisation chosen from the graph\n",
      "Initialisation chosen from the graph\n",
      "Initialisation chosen from the graph\n",
      "Initialisation chosen from the graph\n",
      "Initialisation chosen from the graph\n",
      "Initialisation chosen from the graph\n"
     ]
    },
    {
     "name": "stderr",
     "output_type": "stream",
     "text": [
      "\r",
      "129it [3:09:48, 77.46s/it]"
     ]
    },
    {
     "name": "stdout",
     "output_type": "stream",
     "text": [
      "Initialisation chosen from the graph\n",
      "Initialisation chosen from the graph\n",
      "Initialisation chosen from the graph\n",
      "Initialisation chosen from the graph\n",
      "Initialisation chosen from the graph\n",
      "Initialisation chosen from the graph\n",
      "Initialisation chosen from the graph\n",
      "Initialisation chosen from the graph\n",
      "Initialisation chosen from the graph\n",
      "Initialisation chosen from the graph\n"
     ]
    },
    {
     "name": "stderr",
     "output_type": "stream",
     "text": [
      "\r",
      "130it [3:11:07, 77.77s/it]"
     ]
    },
    {
     "name": "stdout",
     "output_type": "stream",
     "text": [
      "Initialisation chosen from the attributes\n",
      "Initialisation chosen from the attributes\n",
      "Initialisation chosen from the attributes\n",
      "Initialisation chosen from the attributes\n",
      "Initialisation chosen from the attributes\n",
      "Initialisation chosen from the attributes\n",
      "Initialisation chosen from the attributes\n",
      "Initialisation chosen from the attributes\n",
      "Initialisation chosen from the attributes\n",
      "Initialisation chosen from the attributes\n"
     ]
    },
    {
     "name": "stderr",
     "output_type": "stream",
     "text": [
      "\r",
      "131it [3:12:49, 85.10s/it]"
     ]
    },
    {
     "name": "stdout",
     "output_type": "stream",
     "text": [
      "Initialisation chosen from the attributes\n",
      "Initialisation chosen from the attributes\n",
      "Initialisation chosen from the attributes\n",
      "Initialisation chosen from the attributes\n",
      "Initialisation chosen from the attributes\n",
      "Initialisation chosen from the attributes\n",
      "Initialisation chosen from the attributes\n",
      "Initialisation chosen from the attributes\n",
      "Initialisation chosen from the attributes\n",
      "Initialisation chosen from the attributes\n"
     ]
    },
    {
     "name": "stderr",
     "output_type": "stream",
     "text": [
      "\r",
      "132it [3:14:19, 86.70s/it]"
     ]
    },
    {
     "name": "stdout",
     "output_type": "stream",
     "text": [
      "Initialisation chosen from the attributes\n",
      "Initialisation chosen from the attributes\n",
      "Initialisation chosen from the attributes\n",
      "Initialisation chosen from the attributes\n",
      "Initialisation chosen from the attributes\n",
      "Initialisation chosen from the attributes\n",
      "Initialisation chosen from the attributes\n",
      "Initialisation chosen from the attributes\n",
      "Initialisation chosen from the attributes\n",
      "Initialisation chosen from the attributes\n"
     ]
    },
    {
     "name": "stderr",
     "output_type": "stream",
     "text": [
      "\r",
      "133it [3:16:04, 92.09s/it]"
     ]
    },
    {
     "name": "stdout",
     "output_type": "stream",
     "text": [
      "Initialisation chosen from the attributes\n",
      "Initialisation chosen from the attributes\n",
      "Initialisation chosen from the attributes\n",
      "Initialisation chosen from the attributes\n",
      "Initialisation chosen from the attributes\n",
      "Initialisation chosen from the attributes\n",
      "Initialisation chosen from the attributes\n",
      "Initialisation chosen from the attributes\n",
      "Initialisation chosen from the attributes\n",
      "Initialisation chosen from the attributes\n"
     ]
    },
    {
     "name": "stderr",
     "output_type": "stream",
     "text": [
      "\r",
      "134it [3:17:36, 92.02s/it]"
     ]
    },
    {
     "name": "stdout",
     "output_type": "stream",
     "text": [
      "Initialisation chosen from the attributes\n",
      "Initialisation chosen from the attributes\n",
      "Initialisation chosen from the attributes\n",
      "Initialisation chosen from the attributes\n",
      "Initialisation chosen from the attributes\n",
      "Initialisation chosen from the attributes\n",
      "Initialisation chosen from the attributes\n",
      "Initialisation chosen from the attributes\n",
      "Initialisation chosen from the attributes\n",
      "Initialisation chosen from the attributes\n"
     ]
    },
    {
     "name": "stderr",
     "output_type": "stream",
     "text": [
      "\r",
      "135it [3:19:15, 93.98s/it]"
     ]
    },
    {
     "name": "stdout",
     "output_type": "stream",
     "text": [
      "Initialisation chosen from the attributes\n",
      "Initialisation chosen from the attributes\n",
      "Initialisation chosen from the attributes\n",
      "Initialisation chosen from the attributes\n",
      "Initialisation chosen from the attributes\n",
      "Initialisation chosen from the attributes\n",
      "Initialisation chosen from the attributes\n",
      "Initialisation chosen from the attributes\n",
      "Initialisation chosen from the attributes\n",
      "Initialisation chosen from the attributes\n"
     ]
    },
    {
     "name": "stderr",
     "output_type": "stream",
     "text": [
      "\r",
      "136it [3:20:57, 96.55s/it]"
     ]
    },
    {
     "name": "stdout",
     "output_type": "stream",
     "text": [
      "Initialisation chosen from the graph\n",
      "Initialisation chosen from the graph\n",
      "Initialisation chosen from the graph\n",
      "Initialisation chosen from the graph\n",
      "Initialisation chosen from the graph\n",
      "Initialisation chosen from the graph\n",
      "Initialisation chosen from the graph\n",
      "Initialisation chosen from the graph\n",
      "Initialisation chosen from the graph\n",
      "Initialisation chosen from the graph\n"
     ]
    },
    {
     "name": "stderr",
     "output_type": "stream",
     "text": [
      "\r",
      "137it [3:22:05, 87.91s/it]"
     ]
    },
    {
     "name": "stdout",
     "output_type": "stream",
     "text": [
      "Initialisation chosen from the graph\n",
      "Initialisation chosen from the graph\n",
      "Initialisation chosen from the graph\n",
      "Initialisation chosen from the graph\n",
      "Initialisation chosen from the graph\n",
      "Initialisation chosen from the graph\n",
      "Initialisation chosen from the graph\n",
      "Initialisation chosen from the graph\n",
      "Initialisation chosen from the graph\n",
      "Initialisation chosen from the graph\n"
     ]
    },
    {
     "name": "stderr",
     "output_type": "stream",
     "text": [
      "\r",
      "138it [3:23:30, 87.10s/it]"
     ]
    },
    {
     "name": "stdout",
     "output_type": "stream",
     "text": [
      "Initialisation chosen from the graph\n",
      "Initialisation chosen from the graph\n",
      "Initialisation chosen from the graph\n",
      "Initialisation chosen from the graph\n",
      "Initialisation chosen from the graph\n",
      "Initialisation chosen from the graph\n",
      "Initialisation chosen from the graph\n",
      "Initialisation chosen from the graph\n",
      "Initialisation chosen from the graph\n",
      "Initialisation chosen from the graph\n"
     ]
    },
    {
     "name": "stderr",
     "output_type": "stream",
     "text": [
      "\r",
      "139it [3:24:45, 83.45s/it]"
     ]
    },
    {
     "name": "stdout",
     "output_type": "stream",
     "text": [
      "Initialisation chosen from the graph\n",
      "Initialisation chosen from the graph\n",
      "Initialisation chosen from the graph\n",
      "Initialisation chosen from the graph\n",
      "Initialisation chosen from the graph\n",
      "Initialisation chosen from the graph\n",
      "Initialisation chosen from the graph\n",
      "Initialisation chosen from the graph\n",
      "Initialisation chosen from the graph\n",
      "Initialisation chosen from the graph\n"
     ]
    },
    {
     "name": "stderr",
     "output_type": "stream",
     "text": [
      "\r",
      "140it [3:25:53, 78.90s/it]"
     ]
    },
    {
     "name": "stdout",
     "output_type": "stream",
     "text": [
      "Initialisation chosen from the attributes\n",
      "Initialisation chosen from the attributes\n",
      "Initialisation chosen from the attributes\n",
      "Initialisation chosen from the attributes\n",
      "Initialisation chosen from the attributes\n",
      "Initialisation chosen from the attributes\n",
      "Initialisation chosen from the attributes\n",
      "Initialisation chosen from the attributes\n",
      "Initialisation chosen from the attributes\n",
      "Initialisation chosen from the attributes\n"
     ]
    },
    {
     "name": "stderr",
     "output_type": "stream",
     "text": [
      "\r",
      "141it [3:27:39, 87.03s/it]"
     ]
    },
    {
     "name": "stdout",
     "output_type": "stream",
     "text": [
      "Initialisation chosen from the attributes\n",
      "Initialisation chosen from the attributes\n",
      "Initialisation chosen from the attributes\n",
      "Initialisation chosen from the attributes\n",
      "Initialisation chosen from the attributes\n",
      "Initialisation chosen from the attributes\n",
      "Initialisation chosen from the attributes\n",
      "Initialisation chosen from the attributes\n",
      "Initialisation chosen from the attributes\n",
      "Initialisation chosen from the attributes\n"
     ]
    },
    {
     "name": "stderr",
     "output_type": "stream",
     "text": [
      "\r",
      "142it [3:29:12, 88.75s/it]"
     ]
    },
    {
     "name": "stdout",
     "output_type": "stream",
     "text": [
      "Initialisation chosen from the attributes\n",
      "Initialisation chosen from the attributes\n",
      "Initialisation chosen from the attributes\n",
      "Initialisation chosen from the attributes\n",
      "Initialisation chosen from the attributes\n",
      "Initialisation chosen from the attributes\n",
      "Initialisation chosen from the attributes\n",
      "Initialisation chosen from the attributes\n",
      "Initialisation chosen from the attributes\n",
      "Initialisation chosen from the attributes\n"
     ]
    },
    {
     "name": "stderr",
     "output_type": "stream",
     "text": [
      "\r",
      "143it [3:30:46, 90.32s/it]"
     ]
    },
    {
     "name": "stdout",
     "output_type": "stream",
     "text": [
      "Initialisation chosen from the attributes\n",
      "Initialisation chosen from the attributes\n",
      "Initialisation chosen from the attributes\n",
      "Initialisation chosen from the attributes\n",
      "Initialisation chosen from the attributes\n",
      "Initialisation chosen from the attributes\n",
      "Initialisation chosen from the attributes\n",
      "Initialisation chosen from the attributes\n",
      "Initialisation chosen from the attributes\n",
      "Initialisation chosen from the attributes\n"
     ]
    },
    {
     "name": "stderr",
     "output_type": "stream",
     "text": [
      "\r",
      "144it [3:32:19, 91.02s/it]"
     ]
    },
    {
     "name": "stdout",
     "output_type": "stream",
     "text": [
      "Initialisation chosen from the attributes\n",
      "Initialisation chosen from the attributes\n",
      "Initialisation chosen from the attributes\n",
      "Initialisation chosen from the attributes\n",
      "Initialisation chosen from the attributes\n",
      "Initialisation chosen from the attributes\n",
      "Initialisation chosen from the attributes\n",
      "Initialisation chosen from the attributes\n",
      "Initialisation chosen from the attributes\n",
      "Initialisation chosen from the attributes\n"
     ]
    },
    {
     "name": "stderr",
     "output_type": "stream",
     "text": [
      "\r",
      "145it [3:33:52, 91.72s/it]"
     ]
    },
    {
     "name": "stdout",
     "output_type": "stream",
     "text": [
      "Initialisation chosen from the graph\n",
      "Initialisation chosen from the attributes\n",
      "Initialisation chosen from the attributes\n",
      "Initialisation chosen from the attributes\n",
      "Initialisation chosen from the attributes\n",
      "Initialisation chosen from the attributes\n",
      "Initialisation chosen from the attributes\n",
      "Initialisation chosen from the attributes\n",
      "Initialisation chosen from the attributes\n",
      "Initialisation chosen from the attributes\n"
     ]
    },
    {
     "name": "stderr",
     "output_type": "stream",
     "text": [
      "\r",
      "146it [3:35:19, 90.23s/it]"
     ]
    },
    {
     "name": "stdout",
     "output_type": "stream",
     "text": [
      "Initialisation chosen from the graph\n",
      "Initialisation chosen from the graph\n",
      "Initialisation chosen from the graph\n",
      "Initialisation chosen from the graph\n",
      "Initialisation chosen from the graph\n",
      "Initialisation chosen from the graph\n",
      "Initialisation chosen from the graph\n",
      "Initialisation chosen from the attributes\n",
      "Initialisation chosen from the graph\n",
      "Initialisation chosen from the graph\n"
     ]
    },
    {
     "name": "stderr",
     "output_type": "stream",
     "text": [
      "\r",
      "147it [3:36:26, 83.46s/it]"
     ]
    },
    {
     "name": "stdout",
     "output_type": "stream",
     "text": [
      "Initialisation chosen from the graph\n",
      "Initialisation chosen from the graph\n",
      "Initialisation chosen from the graph\n",
      "Initialisation chosen from the graph\n",
      "Initialisation chosen from the graph\n",
      "Initialisation chosen from the graph\n",
      "Initialisation chosen from the graph\n",
      "Initialisation chosen from the graph\n",
      "Initialisation chosen from the graph\n",
      "Initialisation chosen from the graph\n"
     ]
    },
    {
     "name": "stderr",
     "output_type": "stream",
     "text": [
      "\r",
      "148it [3:37:15, 73.07s/it]"
     ]
    },
    {
     "name": "stdout",
     "output_type": "stream",
     "text": [
      "Initialisation chosen from the graph\n",
      "Initialisation chosen from the graph\n",
      "Initialisation chosen from the graph\n",
      "Initialisation chosen from the graph\n",
      "Initialisation chosen from the graph\n",
      "Initialisation chosen from the graph\n",
      "Initialisation chosen from the graph\n",
      "Initialisation chosen from the graph\n",
      "Initialisation chosen from the graph\n",
      "Initialisation chosen from the graph\n"
     ]
    },
    {
     "name": "stderr",
     "output_type": "stream",
     "text": [
      "\r",
      "149it [3:38:32, 74.05s/it]"
     ]
    },
    {
     "name": "stdout",
     "output_type": "stream",
     "text": [
      "Initialisation chosen from the graph\n",
      "Initialisation chosen from the graph\n",
      "Initialisation chosen from the graph\n",
      "Initialisation chosen from the graph\n",
      "Initialisation chosen from the graph\n",
      "Initialisation chosen from the graph\n",
      "Initialisation chosen from the graph\n",
      "Initialisation chosen from the graph\n",
      "Initialisation chosen from the graph\n",
      "Initialisation chosen from the graph\n"
     ]
    },
    {
     "name": "stderr",
     "output_type": "stream",
     "text": [
      "\r",
      "150it [3:39:27, 68.33s/it]"
     ]
    },
    {
     "name": "stdout",
     "output_type": "stream",
     "text": [
      "Initialisation chosen from the attributes\n",
      "Initialisation chosen from the attributes\n",
      "Initialisation chosen from the attributes\n",
      "Initialisation chosen from the attributes\n",
      "Initialisation chosen from the attributes\n",
      "Initialisation chosen from the attributes\n",
      "Initialisation chosen from the attributes\n",
      "Initialisation chosen from the attributes\n",
      "Initialisation chosen from the attributes\n",
      "Initialisation chosen from the attributes\n"
     ]
    },
    {
     "name": "stderr",
     "output_type": "stream",
     "text": [
      "\r",
      "151it [3:40:55, 74.46s/it]"
     ]
    },
    {
     "name": "stdout",
     "output_type": "stream",
     "text": [
      "Initialisation chosen from the attributes\n",
      "Initialisation chosen from the attributes\n",
      "Initialisation chosen from the attributes\n",
      "Initialisation chosen from the attributes\n",
      "Initialisation chosen from the attributes\n",
      "Initialisation chosen from the attributes\n",
      "Initialisation chosen from the attributes\n",
      "Initialisation chosen from the attributes\n",
      "Initialisation chosen from the attributes\n",
      "Initialisation chosen from the attributes\n"
     ]
    },
    {
     "name": "stderr",
     "output_type": "stream",
     "text": [
      "\r",
      "152it [3:42:30, 80.46s/it]"
     ]
    },
    {
     "name": "stdout",
     "output_type": "stream",
     "text": [
      "Initialisation chosen from the attributes\n",
      "Initialisation chosen from the attributes\n",
      "Initialisation chosen from the attributes\n",
      "Initialisation chosen from the attributes\n",
      "Initialisation chosen from the attributes\n",
      "Initialisation chosen from the attributes\n",
      "Initialisation chosen from the attributes\n",
      "Initialisation chosen from the attributes\n",
      "Initialisation chosen from the attributes\n",
      "Initialisation chosen from the attributes\n"
     ]
    },
    {
     "name": "stderr",
     "output_type": "stream",
     "text": [
      "\r",
      "153it [3:44:15, 87.91s/it]"
     ]
    },
    {
     "name": "stdout",
     "output_type": "stream",
     "text": [
      "Initialisation chosen from the attributes\n",
      "Initialisation chosen from the attributes\n",
      "Initialisation chosen from the attributes\n",
      "Initialisation chosen from the attributes\n",
      "Initialisation chosen from the attributes\n",
      "Initialisation chosen from the attributes\n",
      "Initialisation chosen from the attributes\n",
      "Initialisation chosen from the attributes\n",
      "Initialisation chosen from the attributes\n",
      "Initialisation chosen from the attributes\n"
     ]
    },
    {
     "name": "stderr",
     "output_type": "stream",
     "text": [
      "\r",
      "154it [3:45:53, 91.04s/it]"
     ]
    },
    {
     "name": "stdout",
     "output_type": "stream",
     "text": [
      "Initialisation chosen from the attributes\n",
      "Initialisation chosen from the attributes\n",
      "Initialisation chosen from the attributes\n",
      "Initialisation chosen from the attributes\n",
      "Initialisation chosen from the attributes\n",
      "Initialisation chosen from the attributes\n",
      "Initialisation chosen from the attributes\n",
      "Initialisation chosen from the attributes\n",
      "Initialisation chosen from the attributes\n",
      "Initialisation chosen from the attributes\n"
     ]
    },
    {
     "name": "stderr",
     "output_type": "stream",
     "text": [
      "\r",
      "155it [3:47:30, 92.71s/it]"
     ]
    },
    {
     "name": "stdout",
     "output_type": "stream",
     "text": [
      "Initialisation chosen from the attributes\n",
      "Initialisation chosen from the attributes\n",
      "Initialisation chosen from the attributes\n",
      "Initialisation chosen from the attributes\n",
      "Initialisation chosen from the attributes\n",
      "Initialisation chosen from the attributes\n",
      "Initialisation chosen from the attributes\n",
      "Initialisation chosen from the attributes\n",
      "Initialisation chosen from the attributes\n",
      "Initialisation chosen from the attributes\n"
     ]
    },
    {
     "name": "stderr",
     "output_type": "stream",
     "text": [
      "\r",
      "156it [3:48:56, 90.67s/it]"
     ]
    },
    {
     "name": "stdout",
     "output_type": "stream",
     "text": [
      "Initialisation chosen from the attributes\n",
      "Initialisation chosen from the graph\n",
      "Initialisation chosen from the graph\n",
      "Initialisation chosen from the attributes\n",
      "Initialisation chosen from the attributes\n",
      "Initialisation chosen from the attributes\n",
      "Initialisation chosen from the graph\n",
      "Initialisation chosen from the attributes\n",
      "Initialisation chosen from the graph\n",
      "Initialisation chosen from the graph\n"
     ]
    },
    {
     "name": "stderr",
     "output_type": "stream",
     "text": [
      "\r",
      "157it [3:49:54, 80.93s/it]"
     ]
    },
    {
     "name": "stdout",
     "output_type": "stream",
     "text": [
      "Initialisation chosen from the graph\n",
      "Initialisation chosen from the graph\n",
      "Initialisation chosen from the graph\n",
      "Initialisation chosen from the graph\n",
      "Initialisation chosen from the graph\n",
      "Initialisation chosen from the graph\n",
      "Initialisation chosen from the graph\n",
      "Initialisation chosen from the graph\n",
      "Initialisation chosen from the graph\n",
      "Initialisation chosen from the graph\n"
     ]
    },
    {
     "name": "stderr",
     "output_type": "stream",
     "text": [
      "\r",
      "158it [3:50:39, 70.16s/it]"
     ]
    },
    {
     "name": "stdout",
     "output_type": "stream",
     "text": [
      "Initialisation chosen from the graph\n",
      "Initialisation chosen from the graph\n",
      "Initialisation chosen from the graph\n",
      "Initialisation chosen from the graph\n",
      "Initialisation chosen from the graph\n",
      "Initialisation chosen from the graph\n",
      "Initialisation chosen from the graph\n",
      "Initialisation chosen from the graph\n",
      "Initialisation chosen from the graph\n",
      "Initialisation chosen from the graph\n"
     ]
    },
    {
     "name": "stderr",
     "output_type": "stream",
     "text": [
      "\r",
      "159it [3:51:33, 65.24s/it]"
     ]
    },
    {
     "name": "stdout",
     "output_type": "stream",
     "text": [
      "Initialisation chosen from the graph\n",
      "Initialisation chosen from the graph\n",
      "Initialisation chosen from the graph\n",
      "Initialisation chosen from the graph\n",
      "Initialisation chosen from the graph\n",
      "Initialisation chosen from the graph\n",
      "Initialisation chosen from the graph\n",
      "Initialisation chosen from the graph\n",
      "Initialisation chosen from the graph\n",
      "Initialisation chosen from the graph\n"
     ]
    },
    {
     "name": "stderr",
     "output_type": "stream",
     "text": [
      "\r",
      "160it [3:52:21, 59.94s/it]"
     ]
    },
    {
     "name": "stdout",
     "output_type": "stream",
     "text": [
      "Initialisation chosen from the attributes\n",
      "Initialisation chosen from the attributes\n",
      "Initialisation chosen from the attributes\n",
      "Initialisation chosen from the attributes\n",
      "Initialisation chosen from the attributes\n",
      "Initialisation chosen from the attributes\n",
      "Initialisation chosen from the attributes\n",
      "Initialisation chosen from the attributes\n",
      "Initialisation chosen from the attributes\n",
      "Initialisation chosen from the attributes\n"
     ]
    },
    {
     "name": "stderr",
     "output_type": "stream",
     "text": [
      "\r",
      "161it [3:54:05, 73.28s/it]"
     ]
    },
    {
     "name": "stdout",
     "output_type": "stream",
     "text": [
      "Initialisation chosen from the attributes\n",
      "Initialisation chosen from the attributes\n",
      "Initialisation chosen from the attributes\n",
      "Initialisation chosen from the attributes\n",
      "Initialisation chosen from the attributes\n",
      "Initialisation chosen from the attributes\n",
      "Initialisation chosen from the attributes\n",
      "Initialisation chosen from the attributes\n",
      "Initialisation chosen from the attributes\n",
      "Initialisation chosen from the attributes\n"
     ]
    },
    {
     "name": "stderr",
     "output_type": "stream",
     "text": [
      "\r",
      "162it [3:55:35, 78.43s/it]"
     ]
    },
    {
     "name": "stdout",
     "output_type": "stream",
     "text": [
      "Initialisation chosen from the attributes\n",
      "Initialisation chosen from the attributes\n",
      "Initialisation chosen from the attributes\n",
      "Initialisation chosen from the attributes\n",
      "Initialisation chosen from the attributes\n",
      "Initialisation chosen from the attributes\n",
      "Initialisation chosen from the attributes\n",
      "Initialisation chosen from the attributes\n",
      "Initialisation chosen from the attributes\n",
      "Initialisation chosen from the attributes\n"
     ]
    },
    {
     "name": "stderr",
     "output_type": "stream",
     "text": [
      "\r",
      "163it [3:57:22, 86.98s/it]"
     ]
    },
    {
     "name": "stdout",
     "output_type": "stream",
     "text": [
      "Initialisation chosen from the attributes\n",
      "Initialisation chosen from the attributes\n",
      "Initialisation chosen from the attributes\n",
      "Initialisation chosen from the attributes\n",
      "Initialisation chosen from the attributes\n",
      "Initialisation chosen from the attributes\n",
      "Initialisation chosen from the attributes\n",
      "Initialisation chosen from the attributes\n",
      "Initialisation chosen from the attributes\n",
      "Initialisation chosen from the attributes\n"
     ]
    },
    {
     "name": "stderr",
     "output_type": "stream",
     "text": [
      "\r",
      "164it [3:58:57, 89.14s/it]"
     ]
    },
    {
     "name": "stdout",
     "output_type": "stream",
     "text": [
      "Initialisation chosen from the attributes\n",
      "Initialisation chosen from the attributes\n",
      "Initialisation chosen from the attributes\n",
      "Initialisation chosen from the attributes\n",
      "Initialisation chosen from the attributes\n",
      "Initialisation chosen from the attributes\n",
      "Initialisation chosen from the attributes\n",
      "Initialisation chosen from the attributes\n",
      "Initialisation chosen from the attributes\n",
      "Initialisation chosen from the attributes\n"
     ]
    },
    {
     "name": "stderr",
     "output_type": "stream",
     "text": [
      "\r",
      "165it [4:00:31, 90.73s/it]"
     ]
    },
    {
     "name": "stdout",
     "output_type": "stream",
     "text": [
      "Initialisation chosen from the attributes\n",
      "Initialisation chosen from the attributes\n",
      "Initialisation chosen from the attributes\n",
      "Initialisation chosen from the attributes\n",
      "Initialisation chosen from the attributes\n",
      "Initialisation chosen from the attributes\n",
      "Initialisation chosen from the attributes\n",
      "Initialisation chosen from the attributes\n",
      "Initialisation chosen from the attributes\n",
      "Initialisation chosen from the attributes\n"
     ]
    },
    {
     "name": "stderr",
     "output_type": "stream",
     "text": [
      "\r",
      "166it [4:01:44, 85.32s/it]"
     ]
    },
    {
     "name": "stdout",
     "output_type": "stream",
     "text": [
      "Initialisation chosen from the graph\n",
      "Initialisation chosen from the graph\n",
      "Initialisation chosen from the attributes\n",
      "Initialisation chosen from the graph\n",
      "Initialisation chosen from the graph\n",
      "Initialisation chosen from the graph\n",
      "Initialisation chosen from the graph\n",
      "Initialisation chosen from the attributes\n",
      "Initialisation chosen from the graph\n",
      "Initialisation chosen from the graph\n"
     ]
    },
    {
     "name": "stderr",
     "output_type": "stream",
     "text": [
      "\r",
      "167it [4:02:46, 78.53s/it]"
     ]
    },
    {
     "name": "stdout",
     "output_type": "stream",
     "text": [
      "Initialisation chosen from the graph\n",
      "Initialisation chosen from the graph\n",
      "Initialisation chosen from the graph\n",
      "Initialisation chosen from the graph\n",
      "Initialisation chosen from the graph\n",
      "Initialisation chosen from the graph\n",
      "Initialisation chosen from the graph\n",
      "Initialisation chosen from the graph\n",
      "Initialisation chosen from the graph\n",
      "Initialisation chosen from the graph\n"
     ]
    },
    {
     "name": "stderr",
     "output_type": "stream",
     "text": [
      "\r",
      "168it [4:04:08, 79.50s/it]"
     ]
    },
    {
     "name": "stdout",
     "output_type": "stream",
     "text": [
      "Initialisation chosen from the graph\n",
      "Initialisation chosen from the graph\n",
      "Initialisation chosen from the graph\n",
      "Initialisation chosen from the graph\n",
      "Initialisation chosen from the graph\n",
      "Initialisation chosen from the graph\n",
      "Initialisation chosen from the graph\n",
      "Initialisation chosen from the graph\n",
      "Initialisation chosen from the graph\n",
      "Initialisation chosen from the graph\n"
     ]
    },
    {
     "name": "stderr",
     "output_type": "stream",
     "text": [
      "\r",
      "169it [4:05:07, 73.24s/it]"
     ]
    },
    {
     "name": "stdout",
     "output_type": "stream",
     "text": [
      "Initialisation chosen from the graph\n",
      "Initialisation chosen from the graph\n",
      "Initialisation chosen from the graph\n",
      "Initialisation chosen from the graph\n",
      "Initialisation chosen from the graph\n",
      "Initialisation chosen from the graph\n",
      "Initialisation chosen from the graph\n",
      "Initialisation chosen from the graph\n",
      "Initialisation chosen from the graph\n",
      "Initialisation chosen from the graph\n"
     ]
    },
    {
     "name": "stderr",
     "output_type": "stream",
     "text": [
      "\r",
      "170it [4:05:48, 63.69s/it]"
     ]
    },
    {
     "name": "stdout",
     "output_type": "stream",
     "text": [
      "Initialisation chosen from the attributes\n",
      "Initialisation chosen from the attributes\n",
      "Initialisation chosen from the attributes\n",
      "Initialisation chosen from the attributes\n",
      "Initialisation chosen from the attributes\n",
      "Initialisation chosen from the attributes\n",
      "Initialisation chosen from the attributes\n",
      "Initialisation chosen from the attributes\n",
      "Initialisation chosen from the attributes\n",
      "Initialisation chosen from the attributes\n"
     ]
    },
    {
     "name": "stderr",
     "output_type": "stream",
     "text": [
      "\r",
      "171it [4:07:32, 75.59s/it]"
     ]
    },
    {
     "name": "stdout",
     "output_type": "stream",
     "text": [
      "Initialisation chosen from the attributes\n",
      "Initialisation chosen from the attributes\n",
      "Initialisation chosen from the attributes\n",
      "Initialisation chosen from the attributes\n",
      "Initialisation chosen from the attributes\n",
      "Initialisation chosen from the attributes\n",
      "Initialisation chosen from the attributes\n",
      "Initialisation chosen from the attributes\n",
      "Initialisation chosen from the attributes\n",
      "Initialisation chosen from the attributes\n"
     ]
    },
    {
     "name": "stderr",
     "output_type": "stream",
     "text": [
      "\r",
      "172it [4:09:12, 83.09s/it]"
     ]
    },
    {
     "name": "stdout",
     "output_type": "stream",
     "text": [
      "Initialisation chosen from the attributes\n",
      "Initialisation chosen from the attributes\n",
      "Initialisation chosen from the attributes\n",
      "Initialisation chosen from the attributes\n",
      "Initialisation chosen from the attributes\n",
      "Initialisation chosen from the attributes\n",
      "Initialisation chosen from the attributes\n",
      "Initialisation chosen from the attributes\n",
      "Initialisation chosen from the attributes\n",
      "Initialisation chosen from the attributes\n"
     ]
    },
    {
     "name": "stderr",
     "output_type": "stream",
     "text": [
      "\r",
      "173it [4:10:57, 89.55s/it]"
     ]
    },
    {
     "name": "stdout",
     "output_type": "stream",
     "text": [
      "Initialisation chosen from the attributes\n",
      "Initialisation chosen from the attributes\n",
      "Initialisation chosen from the attributes\n",
      "Initialisation chosen from the attributes\n",
      "Initialisation chosen from the attributes\n",
      "Initialisation chosen from the attributes\n",
      "Initialisation chosen from the attributes\n",
      "Initialisation chosen from the attributes\n",
      "Initialisation chosen from the attributes\n",
      "Initialisation chosen from the attributes\n"
     ]
    },
    {
     "name": "stderr",
     "output_type": "stream",
     "text": [
      "\r",
      "174it [4:12:39, 93.34s/it]"
     ]
    },
    {
     "name": "stdout",
     "output_type": "stream",
     "text": [
      "Initialisation chosen from the attributes\n",
      "Initialisation chosen from the attributes\n",
      "Initialisation chosen from the attributes\n",
      "Initialisation chosen from the attributes\n",
      "Initialisation chosen from the attributes\n",
      "Initialisation chosen from the attributes\n",
      "Initialisation chosen from the attributes\n",
      "Initialisation chosen from the attributes\n",
      "Initialisation chosen from the attributes\n",
      "Initialisation chosen from the attributes\n"
     ]
    },
    {
     "name": "stderr",
     "output_type": "stream",
     "text": [
      "\r",
      "175it [4:14:05, 91.29s/it]"
     ]
    },
    {
     "name": "stdout",
     "output_type": "stream",
     "text": [
      "Initialisation chosen from the attributes\n",
      "Initialisation chosen from the attributes\n",
      "Initialisation chosen from the attributes\n",
      "Initialisation chosen from the attributes\n",
      "Initialisation chosen from the attributes\n",
      "Initialisation chosen from the attributes\n",
      "Initialisation chosen from the attributes\n",
      "Initialisation chosen from the attributes\n",
      "Initialisation chosen from the attributes\n",
      "Initialisation chosen from the attributes\n"
     ]
    },
    {
     "name": "stderr",
     "output_type": "stream",
     "text": [
      "\r",
      "176it [4:15:23, 87.06s/it]"
     ]
    },
    {
     "name": "stdout",
     "output_type": "stream",
     "text": [
      "Initialisation chosen from the graph\n",
      "Initialisation chosen from the graph\n",
      "Initialisation chosen from the graph\n",
      "Initialisation chosen from the graph\n",
      "Initialisation chosen from the graph\n",
      "Initialisation chosen from the attributes\n",
      "Initialisation chosen from the graph\n",
      "Initialisation chosen from the graph\n",
      "Initialisation chosen from the graph\n",
      "Initialisation chosen from the attributes\n"
     ]
    },
    {
     "name": "stderr",
     "output_type": "stream",
     "text": [
      "\r",
      "177it [4:16:28, 80.55s/it]"
     ]
    },
    {
     "name": "stdout",
     "output_type": "stream",
     "text": [
      "Initialisation chosen from the graph\n",
      "Initialisation chosen from the graph\n",
      "Initialisation chosen from the graph\n",
      "Initialisation chosen from the graph\n",
      "Initialisation chosen from the graph\n",
      "Initialisation chosen from the graph\n",
      "Initialisation chosen from the graph\n",
      "Initialisation chosen from the graph\n",
      "Initialisation chosen from the graph\n",
      "Initialisation chosen from the graph\n"
     ]
    },
    {
     "name": "stderr",
     "output_type": "stream",
     "text": [
      "\r",
      "178it [4:17:19, 71.74s/it]"
     ]
    },
    {
     "name": "stdout",
     "output_type": "stream",
     "text": [
      "Initialisation chosen from the graph\n",
      "Initialisation chosen from the graph\n",
      "Initialisation chosen from the attributes\n",
      "Initialisation chosen from the graph\n",
      "Initialisation chosen from the graph\n",
      "Initialisation chosen from the graph\n",
      "Initialisation chosen from the graph\n",
      "Initialisation chosen from the graph\n",
      "Initialisation chosen from the graph\n",
      "Initialisation chosen from the graph\n"
     ]
    },
    {
     "name": "stderr",
     "output_type": "stream",
     "text": [
      "\r",
      "179it [4:18:23, 69.50s/it]"
     ]
    },
    {
     "name": "stdout",
     "output_type": "stream",
     "text": [
      "Initialisation chosen from the graph\n",
      "Initialisation chosen from the graph\n",
      "Initialisation chosen from the graph\n",
      "Initialisation chosen from the graph\n",
      "Initialisation chosen from the graph\n",
      "Initialisation chosen from the graph\n",
      "Initialisation chosen from the graph\n",
      "Initialisation chosen from the graph\n",
      "Initialisation chosen from the graph\n",
      "Initialisation chosen from the graph\n"
     ]
    },
    {
     "name": "stderr",
     "output_type": "stream",
     "text": [
      "\r",
      "180it [4:18:57, 58.84s/it]"
     ]
    },
    {
     "name": "stdout",
     "output_type": "stream",
     "text": [
      "Initialisation chosen from the attributes\n",
      "Initialisation chosen from the attributes\n",
      "Initialisation chosen from the attributes\n",
      "Initialisation chosen from the attributes\n",
      "Initialisation chosen from the attributes\n",
      "Initialisation chosen from the attributes\n",
      "Initialisation chosen from the attributes\n",
      "Initialisation chosen from the attributes\n",
      "Initialisation chosen from the attributes\n",
      "Initialisation chosen from the attributes\n"
     ]
    },
    {
     "name": "stderr",
     "output_type": "stream",
     "text": [
      "\r",
      "181it [4:20:36, 70.65s/it]"
     ]
    },
    {
     "name": "stdout",
     "output_type": "stream",
     "text": [
      "Initialisation chosen from the attributes\n",
      "Initialisation chosen from the attributes\n",
      "Initialisation chosen from the attributes\n",
      "Initialisation chosen from the attributes\n",
      "Initialisation chosen from the attributes\n",
      "Initialisation chosen from the attributes\n",
      "Initialisation chosen from the attributes\n",
      "Initialisation chosen from the attributes\n",
      "Initialisation chosen from the attributes\n",
      "Initialisation chosen from the attributes\n"
     ]
    },
    {
     "name": "stderr",
     "output_type": "stream",
     "text": [
      "\r",
      "182it [4:22:18, 80.03s/it]"
     ]
    },
    {
     "name": "stdout",
     "output_type": "stream",
     "text": [
      "Initialisation chosen from the attributes\n",
      "Initialisation chosen from the attributes\n",
      "Initialisation chosen from the attributes\n",
      "Initialisation chosen from the attributes\n",
      "Initialisation chosen from the attributes\n",
      "Initialisation chosen from the attributes\n",
      "Initialisation chosen from the attributes\n",
      "Initialisation chosen from the attributes\n",
      "Initialisation chosen from the attributes\n",
      "Initialisation chosen from the attributes\n"
     ]
    },
    {
     "name": "stderr",
     "output_type": "stream",
     "text": [
      "\r",
      "183it [4:23:56, 85.55s/it]"
     ]
    },
    {
     "name": "stdout",
     "output_type": "stream",
     "text": [
      "Initialisation chosen from the attributes\n",
      "Initialisation chosen from the attributes\n",
      "Initialisation chosen from the attributes\n",
      "Initialisation chosen from the attributes\n",
      "Initialisation chosen from the attributes\n",
      "Initialisation chosen from the attributes\n",
      "Initialisation chosen from the attributes\n",
      "Initialisation chosen from the attributes\n",
      "Initialisation chosen from the attributes\n",
      "Initialisation chosen from the attributes\n"
     ]
    },
    {
     "name": "stderr",
     "output_type": "stream",
     "text": [
      "\r",
      "184it [4:25:24, 86.45s/it]"
     ]
    },
    {
     "name": "stdout",
     "output_type": "stream",
     "text": [
      "Initialisation chosen from the attributes\n",
      "Initialisation chosen from the attributes\n",
      "Initialisation chosen from the attributes\n",
      "Initialisation chosen from the attributes\n",
      "Initialisation chosen from the attributes\n",
      "Initialisation chosen from the attributes\n",
      "Initialisation chosen from the attributes\n",
      "Initialisation chosen from the attributes\n",
      "Initialisation chosen from the attributes\n",
      "Initialisation chosen from the attributes\n"
     ]
    },
    {
     "name": "stderr",
     "output_type": "stream",
     "text": [
      "\r",
      "185it [4:27:04, 90.38s/it]"
     ]
    },
    {
     "name": "stdout",
     "output_type": "stream",
     "text": [
      "Initialisation chosen from the attributes\n",
      "Initialisation chosen from the attributes\n",
      "Initialisation chosen from the attributes\n",
      "Initialisation chosen from the attributes\n",
      "Initialisation chosen from the attributes\n",
      "Initialisation chosen from the attributes\n",
      "Initialisation chosen from the attributes\n",
      "Initialisation chosen from the attributes\n",
      "Initialisation chosen from the attributes\n",
      "Initialisation chosen from the attributes\n"
     ]
    },
    {
     "name": "stderr",
     "output_type": "stream",
     "text": [
      "\r",
      "186it [4:28:32, 89.71s/it]"
     ]
    },
    {
     "name": "stdout",
     "output_type": "stream",
     "text": [
      "Initialisation chosen from the graph\n",
      "Initialisation chosen from the graph\n",
      "Initialisation chosen from the graph\n",
      "Initialisation chosen from the graph\n",
      "Initialisation chosen from the graph\n",
      "Initialisation chosen from the graph\n",
      "Initialisation chosen from the attributes\n",
      "Initialisation chosen from the graph\n",
      "Initialisation chosen from the graph\n",
      "Initialisation chosen from the graph\n"
     ]
    },
    {
     "name": "stderr",
     "output_type": "stream",
     "text": [
      "\r",
      "187it [4:29:28, 79.45s/it]"
     ]
    },
    {
     "name": "stdout",
     "output_type": "stream",
     "text": [
      "Initialisation chosen from the graph\n",
      "Initialisation chosen from the graph\n",
      "Initialisation chosen from the graph\n",
      "Initialisation chosen from the graph\n",
      "Initialisation chosen from the graph\n",
      "Initialisation chosen from the graph\n",
      "Initialisation chosen from the graph\n",
      "Initialisation chosen from the graph\n",
      "Initialisation chosen from the graph\n",
      "Initialisation chosen from the graph\n"
     ]
    },
    {
     "name": "stderr",
     "output_type": "stream",
     "text": [
      "\r",
      "188it [4:30:43, 78.17s/it]"
     ]
    },
    {
     "name": "stdout",
     "output_type": "stream",
     "text": [
      "Initialisation chosen from the graph\n",
      "Initialisation chosen from the graph\n",
      "Initialisation chosen from the graph\n",
      "Initialisation chosen from the graph\n",
      "Initialisation chosen from the graph\n",
      "Initialisation chosen from the graph\n",
      "Initialisation chosen from the graph\n",
      "Initialisation chosen from the graph\n",
      "Initialisation chosen from the graph\n",
      "Initialisation chosen from the graph\n"
     ]
    },
    {
     "name": "stderr",
     "output_type": "stream",
     "text": [
      "\r",
      "189it [4:31:48, 74.11s/it]"
     ]
    },
    {
     "name": "stdout",
     "output_type": "stream",
     "text": [
      "Initialisation chosen from the graph\n",
      "Initialisation chosen from the graph\n",
      "Initialisation chosen from the graph\n",
      "Initialisation chosen from the graph\n",
      "Initialisation chosen from the graph\n",
      "Initialisation chosen from the graph\n",
      "Initialisation chosen from the graph\n",
      "Initialisation chosen from the graph\n",
      "Initialisation chosen from the graph\n",
      "Initialisation chosen from the graph\n"
     ]
    },
    {
     "name": "stderr",
     "output_type": "stream",
     "text": [
      "\r",
      "190it [4:32:41, 67.83s/it]"
     ]
    },
    {
     "name": "stdout",
     "output_type": "stream",
     "text": [
      "Initialisation chosen from the attributes\n",
      "Initialisation chosen from the attributes\n",
      "Initialisation chosen from the attributes\n",
      "Initialisation chosen from the attributes\n",
      "Initialisation chosen from the attributes\n",
      "Initialisation chosen from the attributes\n",
      "Initialisation chosen from the attributes\n",
      "Initialisation chosen from the attributes\n",
      "Initialisation chosen from the attributes\n",
      "Initialisation chosen from the attributes\n"
     ]
    },
    {
     "name": "stderr",
     "output_type": "stream",
     "text": [
      "\r",
      "191it [4:34:18, 76.82s/it]"
     ]
    },
    {
     "name": "stdout",
     "output_type": "stream",
     "text": [
      "Initialisation chosen from the attributes\n",
      "Initialisation chosen from the attributes\n",
      "Initialisation chosen from the attributes\n",
      "Initialisation chosen from the attributes\n",
      "Initialisation chosen from the attributes\n",
      "Initialisation chosen from the attributes\n",
      "Initialisation chosen from the attributes\n",
      "Initialisation chosen from the attributes\n",
      "Initialisation chosen from the attributes\n",
      "Initialisation chosen from the attributes\n"
     ]
    },
    {
     "name": "stderr",
     "output_type": "stream",
     "text": [
      "\r",
      "192it [4:35:53, 82.01s/it]"
     ]
    },
    {
     "name": "stdout",
     "output_type": "stream",
     "text": [
      "Initialisation chosen from the attributes\n",
      "Initialisation chosen from the attributes\n",
      "Initialisation chosen from the attributes\n",
      "Initialisation chosen from the attributes\n",
      "Initialisation chosen from the attributes\n",
      "Initialisation chosen from the attributes\n",
      "Initialisation chosen from the attributes\n",
      "Initialisation chosen from the attributes\n",
      "Initialisation chosen from the attributes\n",
      "Initialisation chosen from the attributes\n"
     ]
    },
    {
     "name": "stderr",
     "output_type": "stream",
     "text": [
      "\r",
      "193it [4:37:38, 89.11s/it]"
     ]
    },
    {
     "name": "stdout",
     "output_type": "stream",
     "text": [
      "Initialisation chosen from the attributes\n",
      "Initialisation chosen from the attributes\n",
      "Initialisation chosen from the attributes\n",
      "Initialisation chosen from the attributes\n",
      "Initialisation chosen from the attributes\n",
      "Initialisation chosen from the attributes\n",
      "Initialisation chosen from the attributes\n",
      "Initialisation chosen from the attributes\n",
      "Initialisation chosen from the attributes\n",
      "Initialisation chosen from the attributes\n"
     ]
    },
    {
     "name": "stderr",
     "output_type": "stream",
     "text": [
      "\r",
      "194it [4:39:12, 90.42s/it]"
     ]
    },
    {
     "name": "stdout",
     "output_type": "stream",
     "text": [
      "Initialisation chosen from the attributes\n",
      "Initialisation chosen from the attributes\n",
      "Initialisation chosen from the attributes\n",
      "Initialisation chosen from the attributes\n",
      "Initialisation chosen from the attributes\n",
      "Initialisation chosen from the attributes\n",
      "Initialisation chosen from the attributes\n",
      "Initialisation chosen from the attributes\n",
      "Initialisation chosen from the attributes\n",
      "Initialisation chosen from the attributes\n"
     ]
    },
    {
     "name": "stderr",
     "output_type": "stream",
     "text": [
      "\r",
      "195it [4:40:47, 91.77s/it]"
     ]
    },
    {
     "name": "stdout",
     "output_type": "stream",
     "text": [
      "Initialisation chosen from the attributes\n",
      "Initialisation chosen from the attributes\n",
      "Initialisation chosen from the attributes\n",
      "Initialisation chosen from the attributes\n",
      "Initialisation chosen from the attributes\n",
      "Initialisation chosen from the attributes\n",
      "Initialisation chosen from the attributes\n",
      "Initialisation chosen from the attributes\n",
      "Initialisation chosen from the attributes\n",
      "Initialisation chosen from the attributes\n"
     ]
    },
    {
     "name": "stderr",
     "output_type": "stream",
     "text": [
      "\r",
      "196it [4:42:08, 88.52s/it]"
     ]
    },
    {
     "name": "stdout",
     "output_type": "stream",
     "text": [
      "Initialisation chosen from the graph\n",
      "Initialisation chosen from the attributes\n",
      "Initialisation chosen from the graph\n",
      "Initialisation chosen from the attributes\n",
      "Initialisation chosen from the graph\n",
      "Initialisation chosen from the graph\n",
      "Initialisation chosen from the attributes\n",
      "Initialisation chosen from the graph\n",
      "Initialisation chosen from the graph\n",
      "Initialisation chosen from the attributes\n"
     ]
    },
    {
     "name": "stderr",
     "output_type": "stream",
     "text": [
      "\r",
      "197it [4:43:12, 81.24s/it]"
     ]
    },
    {
     "name": "stdout",
     "output_type": "stream",
     "text": [
      "Initialisation chosen from the graph\n",
      "Initialisation chosen from the graph\n",
      "Initialisation chosen from the graph\n",
      "Initialisation chosen from the graph\n",
      "Initialisation chosen from the graph\n",
      "Initialisation chosen from the graph\n",
      "Initialisation chosen from the graph\n",
      "Initialisation chosen from the graph\n",
      "Initialisation chosen from the graph\n",
      "Initialisation chosen from the graph\n"
     ]
    },
    {
     "name": "stderr",
     "output_type": "stream",
     "text": [
      "\r",
      "198it [4:44:18, 76.59s/it]"
     ]
    },
    {
     "name": "stdout",
     "output_type": "stream",
     "text": [
      "Initialisation chosen from the graph\n",
      "Initialisation chosen from the graph\n",
      "Initialisation chosen from the graph\n",
      "Initialisation chosen from the graph\n",
      "Initialisation chosen from the graph\n",
      "Initialisation chosen from the graph\n",
      "Initialisation chosen from the graph\n",
      "Initialisation chosen from the graph\n",
      "Initialisation chosen from the graph\n",
      "Initialisation chosen from the graph\n"
     ]
    },
    {
     "name": "stderr",
     "output_type": "stream",
     "text": [
      "\r",
      "199it [4:45:15, 70.76s/it]"
     ]
    },
    {
     "name": "stdout",
     "output_type": "stream",
     "text": [
      "Initialisation chosen from the graph\n",
      "Initialisation chosen from the graph\n",
      "Initialisation chosen from the graph\n",
      "Initialisation chosen from the graph\n",
      "Initialisation chosen from the graph\n",
      "Initialisation chosen from the graph\n",
      "Initialisation chosen from the graph\n",
      "Initialisation chosen from the graph\n",
      "Initialisation chosen from the graph\n",
      "Initialisation chosen from the graph\n"
     ]
    },
    {
     "name": "stderr",
     "output_type": "stream",
     "text": [
      "200it [4:45:54, 85.77s/it]\n"
     ]
    }
   ],
   "source": [
    "attributes_distribution = \"poisson\"\n",
    "edge_distribution = \"bernoulli\"\n",
    "weight_distribution = \"exponential\"\n",
    "d_range = np.arange(1,5)\n",
    "a_range = np.linspace(5,13,10)\n",
    "lambda_range = np.arange(1,6)\n",
    "att_centers = np.arange(1,4).reshape(-1,1)\n",
    "stats = BregmanBenchmark(att_variance=1,\n",
    "                    attributes_distribution=attributes_distribution,\n",
    "                    weight_variance=1,\n",
    "                    weight_distribution=weight_distribution,\n",
    "                    edge_distribution=edge_distribution,\n",
    "                    att_centers=att_centers,\n",
    "                    run_gpu=True\n",
    "                 )\\\n",
    "                  .run_2_3(n_average=10,\n",
    "                            cluster_sizes=sizes,\n",
    "                            d_range= d_range,\n",
    "                            lambda_range = lambda_range,\n",
    "                            a_range = a_range,\n",
    "                            b = 5,\n",
    "                            dense=False,\n",
    "                            binary=False)\n",
    "with open('test_2_3.pickle', 'wb') as handle:\n",
    "    pickle.dump(stats, handle, protocol=pickle.HIGHEST_PROTOCOL)\n",
    "!cp \"/content/test_2_3.pickle\" \"/content/drive/MyDrive\""
   ]
  },
  {
   "cell_type": "code",
   "execution_count": 8,
   "id": "XYNgyTRXEhrK",
   "metadata": {
    "colab": {
     "base_uri": "https://localhost:8080/"
    },
    "id": "XYNgyTRXEhrK",
    "outputId": "c149a608-eb05-440f-d2cc-9022c19521d0"
   },
   "outputs": [
    {
     "name": "stderr",
     "output_type": "stream",
     "text": [
      "\r",
      "0it [00:00, ?it/s]"
     ]
    },
    {
     "name": "stdout",
     "output_type": "stream",
     "text": [
      "Initialisation chosen from the graph\n",
      "Initialisation chosen from the graph\n",
      "Initialisation chosen from the graph\n",
      "Initialisation chosen from the graph\n",
      "Initialisation chosen from the graph\n",
      "Initialisation chosen from the graph\n",
      "Initialisation chosen from the graph\n",
      "Initialisation chosen from the attributes\n",
      "Initialisation chosen from the graph\n",
      "Initialisation chosen from the graph\n"
     ]
    },
    {
     "name": "stderr",
     "output_type": "stream",
     "text": [
      "\r",
      "1it [00:16, 16.72s/it]"
     ]
    },
    {
     "name": "stdout",
     "output_type": "stream",
     "text": [
      "Initialisation chosen from the graph\n",
      "Initialisation chosen from the attributes\n",
      "Initialisation chosen from the graph\n",
      "Initialisation chosen from the graph\n",
      "Initialisation chosen from the graph\n",
      "Initialisation chosen from the graph\n",
      "Initialisation chosen from the attributes\n",
      "Initialisation chosen from the attributes\n",
      "Initialisation chosen from the graph\n",
      "Initialisation chosen from the graph\n"
     ]
    },
    {
     "name": "stderr",
     "output_type": "stream",
     "text": [
      "\r",
      "2it [00:31, 15.51s/it]"
     ]
    },
    {
     "name": "stdout",
     "output_type": "stream",
     "text": [
      "Initialisation chosen from the graph\n",
      "Initialisation chosen from the graph\n",
      "Initialisation chosen from the attributes\n",
      "Initialisation chosen from the graph\n",
      "Initialisation chosen from the graph\n",
      "Initialisation chosen from the attributes\n",
      "Initialisation chosen from the graph\n",
      "Initialisation chosen from the graph\n",
      "Initialisation chosen from the attributes\n",
      "Initialisation chosen from the attributes\n"
     ]
    },
    {
     "name": "stderr",
     "output_type": "stream",
     "text": [
      "\r",
      "3it [00:46, 15.19s/it]"
     ]
    },
    {
     "name": "stdout",
     "output_type": "stream",
     "text": [
      "Initialisation chosen from the graph\n",
      "Initialisation chosen from the graph\n",
      "Initialisation chosen from the graph\n",
      "Initialisation chosen from the graph\n",
      "Initialisation chosen from the graph\n",
      "Initialisation chosen from the graph\n",
      "Initialisation chosen from the attributes\n",
      "Initialisation chosen from the graph\n",
      "Initialisation chosen from the graph\n",
      "Initialisation chosen from the attributes\n"
     ]
    },
    {
     "name": "stderr",
     "output_type": "stream",
     "text": [
      "\r",
      "4it [01:01, 15.25s/it]"
     ]
    },
    {
     "name": "stdout",
     "output_type": "stream",
     "text": [
      "Initialisation chosen from the graph\n",
      "Initialisation chosen from the graph\n",
      "Initialisation chosen from the graph\n",
      "Initialisation chosen from the attributes\n",
      "Initialisation chosen from the attributes\n",
      "Initialisation chosen from the graph\n",
      "Initialisation chosen from the attributes\n",
      "Initialisation chosen from the attributes\n",
      "Initialisation chosen from the graph\n",
      "Initialisation chosen from the graph\n"
     ]
    },
    {
     "name": "stderr",
     "output_type": "stream",
     "text": [
      "\r",
      "5it [01:27, 18.96s/it]"
     ]
    },
    {
     "name": "stdout",
     "output_type": "stream",
     "text": [
      "Initialisation chosen from the graph\n",
      "Initialisation chosen from the graph\n",
      "Initialisation chosen from the graph\n",
      "Initialisation chosen from the attributes\n",
      "Initialisation chosen from the graph\n",
      "Initialisation chosen from the graph\n",
      "Initialisation chosen from the graph\n",
      "Initialisation chosen from the attributes\n",
      "Initialisation chosen from the graph\n",
      "Initialisation chosen from the graph\n"
     ]
    },
    {
     "name": "stderr",
     "output_type": "stream",
     "text": [
      "\r",
      "6it [01:42, 17.89s/it]"
     ]
    },
    {
     "name": "stdout",
     "output_type": "stream",
     "text": [
      "Initialisation chosen from the graph\n",
      "Initialisation chosen from the attributes\n",
      "Initialisation chosen from the graph\n",
      "Initialisation chosen from the graph\n",
      "Initialisation chosen from the graph\n",
      "Initialisation chosen from the graph\n",
      "Initialisation chosen from the attributes\n",
      "Initialisation chosen from the graph\n",
      "Initialisation chosen from the graph\n",
      "Initialisation chosen from the graph\n"
     ]
    },
    {
     "name": "stderr",
     "output_type": "stream",
     "text": [
      "\r",
      "7it [02:00, 17.84s/it]"
     ]
    },
    {
     "name": "stdout",
     "output_type": "stream",
     "text": [
      "Initialisation chosen from the graph\n",
      "Initialisation chosen from the attributes\n",
      "Initialisation chosen from the graph\n",
      "Initialisation chosen from the graph\n",
      "Initialisation chosen from the attributes\n",
      "Initialisation chosen from the attributes\n",
      "Initialisation chosen from the graph\n",
      "Initialisation chosen from the graph\n",
      "Initialisation chosen from the attributes\n",
      "Initialisation chosen from the graph\n"
     ]
    },
    {
     "name": "stderr",
     "output_type": "stream",
     "text": [
      "\r",
      "8it [02:24, 19.72s/it]"
     ]
    },
    {
     "name": "stdout",
     "output_type": "stream",
     "text": [
      "Initialisation chosen from the graph\n",
      "Initialisation chosen from the graph\n",
      "Initialisation chosen from the graph\n",
      "Initialisation chosen from the graph\n",
      "Initialisation chosen from the graph\n",
      "Initialisation chosen from the graph\n",
      "Initialisation chosen from the graph\n",
      "Initialisation chosen from the graph\n",
      "Initialisation chosen from the attributes\n",
      "Initialisation chosen from the graph\n"
     ]
    },
    {
     "name": "stderr",
     "output_type": "stream",
     "text": [
      "\r",
      "9it [02:40, 18.54s/it]"
     ]
    },
    {
     "name": "stdout",
     "output_type": "stream",
     "text": [
      "Initialisation chosen from the attributes\n",
      "Initialisation chosen from the graph\n",
      "Initialisation chosen from the graph\n",
      "Initialisation chosen from the graph\n",
      "Initialisation chosen from the attributes\n",
      "Initialisation chosen from the graph\n",
      "Initialisation chosen from the attributes\n",
      "Initialisation chosen from the graph\n",
      "Initialisation chosen from the graph\n",
      "Initialisation chosen from the attributes\n"
     ]
    },
    {
     "name": "stderr",
     "output_type": "stream",
     "text": [
      "\r",
      "10it [03:05, 20.59s/it]"
     ]
    },
    {
     "name": "stdout",
     "output_type": "stream",
     "text": [
      "Initialisation chosen from the graph\n",
      "Initialisation chosen from the graph\n",
      "Initialisation chosen from the graph\n",
      "Initialisation chosen from the graph\n",
      "Initialisation chosen from the graph\n",
      "Initialisation chosen from the graph\n",
      "Initialisation chosen from the graph\n",
      "Initialisation chosen from the graph\n",
      "Initialisation chosen from the graph\n",
      "Initialisation chosen from the graph\n"
     ]
    },
    {
     "name": "stderr",
     "output_type": "stream",
     "text": [
      "\r",
      "11it [03:21, 19.05s/it]"
     ]
    },
    {
     "name": "stdout",
     "output_type": "stream",
     "text": [
      "Initialisation chosen from the graph\n",
      "Initialisation chosen from the graph\n",
      "Initialisation chosen from the attributes\n",
      "Initialisation chosen from the graph\n",
      "Initialisation chosen from the attributes\n",
      "Initialisation chosen from the graph\n",
      "Initialisation chosen from the graph\n",
      "Initialisation chosen from the attributes\n",
      "Initialisation chosen from the attributes\n",
      "Initialisation chosen from the graph\n"
     ]
    },
    {
     "name": "stderr",
     "output_type": "stream",
     "text": [
      "\r",
      "12it [03:56, 23.92s/it]"
     ]
    },
    {
     "name": "stdout",
     "output_type": "stream",
     "text": [
      "Initialisation chosen from the graph\n",
      "Initialisation chosen from the graph\n",
      "Initialisation chosen from the graph\n",
      "Initialisation chosen from the attributes\n",
      "Initialisation chosen from the graph\n",
      "Initialisation chosen from the graph\n",
      "Initialisation chosen from the graph\n",
      "Initialisation chosen from the graph\n",
      "Initialisation chosen from the graph\n",
      "Initialisation chosen from the attributes\n"
     ]
    },
    {
     "name": "stderr",
     "output_type": "stream",
     "text": [
      "\r",
      "13it [04:21, 24.50s/it]"
     ]
    },
    {
     "name": "stdout",
     "output_type": "stream",
     "text": [
      "Initialisation chosen from the graph\n",
      "Initialisation chosen from the attributes\n",
      "Initialisation chosen from the graph\n",
      "Initialisation chosen from the graph\n",
      "Initialisation chosen from the graph\n",
      "Initialisation chosen from the graph\n",
      "Initialisation chosen from the graph\n",
      "Initialisation chosen from the graph\n",
      "Initialisation chosen from the graph\n",
      "Initialisation chosen from the graph\n"
     ]
    },
    {
     "name": "stderr",
     "output_type": "stream",
     "text": [
      "\r",
      "14it [04:45, 24.17s/it]"
     ]
    },
    {
     "name": "stdout",
     "output_type": "stream",
     "text": [
      "Initialisation chosen from the graph\n",
      "Initialisation chosen from the graph\n",
      "Initialisation chosen from the attributes\n",
      "Initialisation chosen from the graph\n",
      "Initialisation chosen from the graph\n",
      "Initialisation chosen from the graph\n",
      "Initialisation chosen from the graph\n",
      "Initialisation chosen from the graph\n",
      "Initialisation chosen from the graph\n",
      "Initialisation chosen from the graph\n"
     ]
    },
    {
     "name": "stderr",
     "output_type": "stream",
     "text": [
      "\r",
      "15it [05:02, 22.16s/it]"
     ]
    },
    {
     "name": "stdout",
     "output_type": "stream",
     "text": [
      "Initialisation chosen from the attributes\n",
      "Initialisation chosen from the graph\n",
      "Initialisation chosen from the graph\n",
      "Initialisation chosen from the graph\n",
      "Initialisation chosen from the graph\n",
      "Initialisation chosen from the graph\n",
      "Initialisation chosen from the graph\n",
      "Initialisation chosen from the graph\n",
      "Initialisation chosen from the graph\n",
      "Initialisation chosen from the graph\n"
     ]
    },
    {
     "name": "stderr",
     "output_type": "stream",
     "text": [
      "\r",
      "16it [05:28, 23.15s/it]"
     ]
    },
    {
     "name": "stdout",
     "output_type": "stream",
     "text": [
      "Initialisation chosen from the graph\n",
      "Initialisation chosen from the graph\n",
      "Initialisation chosen from the graph\n",
      "Initialisation chosen from the graph\n",
      "Initialisation chosen from the graph\n",
      "Initialisation chosen from the graph\n",
      "Initialisation chosen from the graph\n",
      "Initialisation chosen from the graph\n",
      "Initialisation chosen from the graph\n",
      "Initialisation chosen from the graph\n"
     ]
    },
    {
     "name": "stderr",
     "output_type": "stream",
     "text": [
      "\r",
      "17it [05:45, 21.49s/it]"
     ]
    },
    {
     "name": "stdout",
     "output_type": "stream",
     "text": [
      "Initialisation chosen from the graph\n",
      "Initialisation chosen from the graph\n",
      "Initialisation chosen from the graph\n",
      "Initialisation chosen from the attributes\n",
      "Initialisation chosen from the graph\n",
      "Initialisation chosen from the graph\n",
      "Initialisation chosen from the graph\n",
      "Initialisation chosen from the graph\n",
      "Initialisation chosen from the graph\n",
      "Initialisation chosen from the graph\n"
     ]
    },
    {
     "name": "stderr",
     "output_type": "stream",
     "text": [
      "\r",
      "18it [06:01, 19.72s/it]"
     ]
    },
    {
     "name": "stdout",
     "output_type": "stream",
     "text": [
      "Initialisation chosen from the graph\n",
      "Initialisation chosen from the graph\n",
      "Initialisation chosen from the graph\n",
      "Initialisation chosen from the graph\n",
      "Initialisation chosen from the attributes\n",
      "Initialisation chosen from the graph\n",
      "Initialisation chosen from the graph\n",
      "Initialisation chosen from the graph\n",
      "Initialisation chosen from the graph\n",
      "Initialisation chosen from the graph\n"
     ]
    },
    {
     "name": "stderr",
     "output_type": "stream",
     "text": [
      "\r",
      "19it [06:16, 18.37s/it]"
     ]
    },
    {
     "name": "stdout",
     "output_type": "stream",
     "text": [
      "Initialisation chosen from the graph\n",
      "Initialisation chosen from the graph\n",
      "Initialisation chosen from the attributes\n",
      "Initialisation chosen from the graph\n",
      "Initialisation chosen from the graph\n",
      "Initialisation chosen from the graph\n",
      "Initialisation chosen from the graph\n",
      "Initialisation chosen from the graph\n",
      "Initialisation chosen from the graph\n",
      "Initialisation chosen from the graph\n"
     ]
    },
    {
     "name": "stderr",
     "output_type": "stream",
     "text": [
      "\r",
      "20it [06:32, 17.72s/it]"
     ]
    },
    {
     "name": "stdout",
     "output_type": "stream",
     "text": [
      "Initialisation chosen from the attributes\n",
      "Initialisation chosen from the graph\n",
      "Initialisation chosen from the graph\n",
      "Initialisation chosen from the graph\n",
      "Initialisation chosen from the graph\n",
      "Initialisation chosen from the graph\n",
      "Initialisation chosen from the graph\n",
      "Initialisation chosen from the graph\n",
      "Initialisation chosen from the graph\n",
      "Initialisation chosen from the graph\n"
     ]
    },
    {
     "name": "stderr",
     "output_type": "stream",
     "text": [
      "\r",
      "21it [06:48, 17.09s/it]"
     ]
    },
    {
     "name": "stdout",
     "output_type": "stream",
     "text": [
      "Initialisation chosen from the graph\n",
      "Initialisation chosen from the graph\n",
      "Initialisation chosen from the graph\n",
      "Initialisation chosen from the graph\n",
      "Initialisation chosen from the graph\n",
      "Initialisation chosen from the attributes\n",
      "Initialisation chosen from the graph\n",
      "Initialisation chosen from the graph\n",
      "Initialisation chosen from the attributes\n",
      "Initialisation chosen from the graph\n"
     ]
    },
    {
     "name": "stderr",
     "output_type": "stream",
     "text": [
      "\r",
      "22it [07:06, 17.32s/it]"
     ]
    },
    {
     "name": "stdout",
     "output_type": "stream",
     "text": [
      "Initialisation chosen from the graph\n",
      "Initialisation chosen from the graph\n",
      "Initialisation chosen from the graph\n",
      "Initialisation chosen from the graph\n",
      "Initialisation chosen from the graph\n",
      "Initialisation chosen from the attributes\n",
      "Initialisation chosen from the graph\n",
      "Initialisation chosen from the graph\n",
      "Initialisation chosen from the graph\n",
      "Initialisation chosen from the graph\n"
     ]
    },
    {
     "name": "stderr",
     "output_type": "stream",
     "text": [
      "\r",
      "23it [07:25, 17.77s/it]"
     ]
    },
    {
     "name": "stdout",
     "output_type": "stream",
     "text": [
      "Initialisation chosen from the graph\n",
      "Initialisation chosen from the attributes\n",
      "Initialisation chosen from the graph\n",
      "Initialisation chosen from the graph\n",
      "Initialisation chosen from the graph\n",
      "Initialisation chosen from the graph\n",
      "Initialisation chosen from the graph\n",
      "Initialisation chosen from the graph\n",
      "Initialisation chosen from the graph\n",
      "Initialisation chosen from the graph\n"
     ]
    },
    {
     "name": "stderr",
     "output_type": "stream",
     "text": [
      "\r",
      "24it [07:41, 17.43s/it]"
     ]
    },
    {
     "name": "stdout",
     "output_type": "stream",
     "text": [
      "Initialisation chosen from the graph\n",
      "Initialisation chosen from the graph\n",
      "Initialisation chosen from the graph\n",
      "Initialisation chosen from the graph\n",
      "Initialisation chosen from the graph\n",
      "Initialisation chosen from the graph\n",
      "Initialisation chosen from the graph\n",
      "Initialisation chosen from the graph\n",
      "Initialisation chosen from the graph\n",
      "Initialisation chosen from the graph\n"
     ]
    },
    {
     "name": "stderr",
     "output_type": "stream",
     "text": [
      "\r",
      "25it [07:57, 16.85s/it]"
     ]
    },
    {
     "name": "stdout",
     "output_type": "stream",
     "text": [
      "Initialisation chosen from the graph\n",
      "Initialisation chosen from the graph\n",
      "Initialisation chosen from the graph\n",
      "Initialisation chosen from the graph\n",
      "Initialisation chosen from the graph\n",
      "Initialisation chosen from the graph\n",
      "Initialisation chosen from the graph\n",
      "Initialisation chosen from the graph\n",
      "Initialisation chosen from the graph\n",
      "Initialisation chosen from the graph\n"
     ]
    },
    {
     "name": "stderr",
     "output_type": "stream",
     "text": [
      "\r",
      "26it [08:17, 17.86s/it]"
     ]
    },
    {
     "name": "stdout",
     "output_type": "stream",
     "text": [
      "Initialisation chosen from the graph\n",
      "Initialisation chosen from the graph\n",
      "Initialisation chosen from the graph\n",
      "Initialisation chosen from the graph\n",
      "Initialisation chosen from the graph\n",
      "Initialisation chosen from the graph\n",
      "Initialisation chosen from the graph\n",
      "Initialisation chosen from the graph\n",
      "Initialisation chosen from the graph\n",
      "Initialisation chosen from the graph\n"
     ]
    },
    {
     "name": "stderr",
     "output_type": "stream",
     "text": [
      "\r",
      "27it [08:33, 17.18s/it]"
     ]
    },
    {
     "name": "stdout",
     "output_type": "stream",
     "text": [
      "Initialisation chosen from the graph\n",
      "Initialisation chosen from the graph\n",
      "Initialisation chosen from the attributes\n",
      "Initialisation chosen from the graph\n",
      "Initialisation chosen from the graph\n",
      "Initialisation chosen from the graph\n",
      "Initialisation chosen from the graph\n",
      "Initialisation chosen from the graph\n",
      "Initialisation chosen from the graph\n",
      "Initialisation chosen from the graph\n"
     ]
    },
    {
     "name": "stderr",
     "output_type": "stream",
     "text": [
      "\r",
      "28it [08:48, 16.75s/it]"
     ]
    },
    {
     "name": "stdout",
     "output_type": "stream",
     "text": [
      "Initialisation chosen from the graph\n",
      "Initialisation chosen from the graph\n",
      "Initialisation chosen from the graph\n",
      "Initialisation chosen from the attributes\n",
      "Initialisation chosen from the graph\n",
      "Initialisation chosen from the graph\n",
      "Initialisation chosen from the graph\n",
      "Initialisation chosen from the graph\n",
      "Initialisation chosen from the graph\n",
      "Initialisation chosen from the graph\n"
     ]
    },
    {
     "name": "stderr",
     "output_type": "stream",
     "text": [
      "\r",
      "29it [09:06, 17.00s/it]"
     ]
    },
    {
     "name": "stdout",
     "output_type": "stream",
     "text": [
      "Initialisation chosen from the graph\n",
      "Initialisation chosen from the graph\n",
      "Initialisation chosen from the graph\n",
      "Initialisation chosen from the graph\n",
      "Initialisation chosen from the graph\n",
      "Initialisation chosen from the graph\n",
      "Initialisation chosen from the graph\n",
      "Initialisation chosen from the graph\n",
      "Initialisation chosen from the graph\n",
      "Initialisation chosen from the graph\n"
     ]
    },
    {
     "name": "stderr",
     "output_type": "stream",
     "text": [
      "\r",
      "30it [09:22, 16.61s/it]"
     ]
    },
    {
     "name": "stdout",
     "output_type": "stream",
     "text": [
      "Initialisation chosen from the graph\n",
      "Initialisation chosen from the graph\n",
      "Initialisation chosen from the graph\n",
      "Initialisation chosen from the graph\n",
      "Initialisation chosen from the graph\n",
      "Initialisation chosen from the graph\n",
      "Initialisation chosen from the attributes\n",
      "Initialisation chosen from the graph\n",
      "Initialisation chosen from the graph\n",
      "Initialisation chosen from the graph\n"
     ]
    },
    {
     "name": "stderr",
     "output_type": "stream",
     "text": [
      "\r",
      "31it [09:39, 16.87s/it]"
     ]
    },
    {
     "name": "stdout",
     "output_type": "stream",
     "text": [
      "Initialisation chosen from the graph\n",
      "Initialisation chosen from the graph\n",
      "Initialisation chosen from the graph\n",
      "Initialisation chosen from the graph\n",
      "Initialisation chosen from the graph\n",
      "Initialisation chosen from the graph\n",
      "Initialisation chosen from the graph\n",
      "Initialisation chosen from the graph\n",
      "Initialisation chosen from the graph\n",
      "Initialisation chosen from the graph\n"
     ]
    },
    {
     "name": "stderr",
     "output_type": "stream",
     "text": [
      "\r",
      "32it [09:56, 16.77s/it]"
     ]
    },
    {
     "name": "stdout",
     "output_type": "stream",
     "text": [
      "Initialisation chosen from the graph\n",
      "Initialisation chosen from the attributes\n",
      "Initialisation chosen from the graph\n",
      "Initialisation chosen from the graph\n",
      "Initialisation chosen from the graph\n",
      "Initialisation chosen from the attributes\n",
      "Initialisation chosen from the attributes\n",
      "Initialisation chosen from the attributes\n",
      "Initialisation chosen from the attributes\n",
      "Initialisation chosen from the graph\n"
     ]
    },
    {
     "name": "stderr",
     "output_type": "stream",
     "text": [
      "\r",
      "33it [10:23, 20.02s/it]"
     ]
    },
    {
     "name": "stdout",
     "output_type": "stream",
     "text": [
      "Initialisation chosen from the graph\n",
      "Initialisation chosen from the graph\n",
      "Initialisation chosen from the graph\n",
      "Initialisation chosen from the graph\n",
      "Initialisation chosen from the graph\n",
      "Initialisation chosen from the graph\n",
      "Initialisation chosen from the graph\n",
      "Initialisation chosen from the graph\n",
      "Initialisation chosen from the graph\n",
      "Initialisation chosen from the attributes\n"
     ]
    },
    {
     "name": "stderr",
     "output_type": "stream",
     "text": [
      "\r",
      "34it [10:40, 19.15s/it]"
     ]
    },
    {
     "name": "stdout",
     "output_type": "stream",
     "text": [
      "Initialisation chosen from the graph\n",
      "Initialisation chosen from the graph\n",
      "Initialisation chosen from the graph\n",
      "Initialisation chosen from the graph\n",
      "Initialisation chosen from the graph\n",
      "Initialisation chosen from the graph\n",
      "Initialisation chosen from the graph\n",
      "Initialisation chosen from the graph\n",
      "Initialisation chosen from the graph\n",
      "Initialisation chosen from the graph\n"
     ]
    },
    {
     "name": "stderr",
     "output_type": "stream",
     "text": [
      "\r",
      "35it [10:56, 18.18s/it]"
     ]
    },
    {
     "name": "stdout",
     "output_type": "stream",
     "text": [
      "Initialisation chosen from the graph\n",
      "Initialisation chosen from the graph\n",
      "Initialisation chosen from the attributes\n",
      "Initialisation chosen from the graph\n",
      "Initialisation chosen from the graph\n",
      "Initialisation chosen from the graph\n",
      "Initialisation chosen from the attributes\n",
      "Initialisation chosen from the graph\n",
      "Initialisation chosen from the graph\n",
      "Initialisation chosen from the graph\n"
     ]
    },
    {
     "name": "stderr",
     "output_type": "stream",
     "text": [
      "\r",
      "36it [11:23, 20.67s/it]"
     ]
    },
    {
     "name": "stdout",
     "output_type": "stream",
     "text": [
      "Initialisation chosen from the graph\n",
      "Initialisation chosen from the graph\n",
      "Initialisation chosen from the graph\n",
      "Initialisation chosen from the graph\n",
      "Initialisation chosen from the graph\n",
      "Initialisation chosen from the graph\n",
      "Initialisation chosen from the graph\n",
      "Initialisation chosen from the attributes\n",
      "Initialisation chosen from the graph\n",
      "Initialisation chosen from the graph\n"
     ]
    },
    {
     "name": "stderr",
     "output_type": "stream",
     "text": [
      "\r",
      "37it [11:40, 19.53s/it]"
     ]
    },
    {
     "name": "stdout",
     "output_type": "stream",
     "text": [
      "Initialisation chosen from the graph\n",
      "Initialisation chosen from the graph\n",
      "Initialisation chosen from the graph\n",
      "Initialisation chosen from the graph\n",
      "Initialisation chosen from the graph\n",
      "Initialisation chosen from the graph\n",
      "Initialisation chosen from the graph\n",
      "Initialisation chosen from the graph\n",
      "Initialisation chosen from the graph\n",
      "Initialisation chosen from the graph\n"
     ]
    },
    {
     "name": "stderr",
     "output_type": "stream",
     "text": [
      "\r",
      "38it [11:56, 18.59s/it]"
     ]
    },
    {
     "name": "stdout",
     "output_type": "stream",
     "text": [
      "Initialisation chosen from the graph\n",
      "Initialisation chosen from the graph\n",
      "Initialisation chosen from the graph\n",
      "Initialisation chosen from the graph\n",
      "Initialisation chosen from the graph\n",
      "Initialisation chosen from the graph\n",
      "Initialisation chosen from the graph\n",
      "Initialisation chosen from the graph\n",
      "Initialisation chosen from the graph\n",
      "Initialisation chosen from the graph\n"
     ]
    },
    {
     "name": "stderr",
     "output_type": "stream",
     "text": [
      "\r",
      "39it [12:12, 17.68s/it]"
     ]
    },
    {
     "name": "stdout",
     "output_type": "stream",
     "text": [
      "Initialisation chosen from the graph\n",
      "Initialisation chosen from the graph\n",
      "Initialisation chosen from the graph\n",
      "Initialisation chosen from the graph\n",
      "Initialisation chosen from the graph\n",
      "Initialisation chosen from the graph\n",
      "Initialisation chosen from the graph\n",
      "Initialisation chosen from the graph\n",
      "Initialisation chosen from the graph\n",
      "Initialisation chosen from the graph\n"
     ]
    },
    {
     "name": "stderr",
     "output_type": "stream",
     "text": [
      "40it [12:27, 18.70s/it]\n"
     ]
    }
   ],
   "source": [
    "attributes_distribution = \"poisson\"\n",
    "edge_distribution = \"bernoulli\"\n",
    "weight_distribution = \"gaussian\"\n",
    "d_range = np.arange(1,5)\n",
    "mu_range = np.linspace(0,5,10)\n",
    "att_centers = np.arange(1,4).reshape(-1,1)\n",
    "stats = BregmanBenchmark(att_variance=1,\n",
    "                    attributes_distribution=attributes_distribution,\n",
    "                    weight_variance=1,\n",
    "                    weight_distribution=weight_distribution,\n",
    "                    edge_distribution=edge_distribution,\n",
    "                    att_centers=att_centers,\n",
    "                    run_gpu=True\n",
    "                  )\\\n",
    "                  .run_2_2(n_average=10,\n",
    "                            cluster_sizes=sizes,\n",
    "                             d_range = d_range,\n",
    "                             mu_range = mu_range,\n",
    "                             dense=True,\n",
    "                             binary=False)\n",
    "with open('test_2_2.pickle', 'wb') as handle:\n",
    "    pickle.dump(stats, handle, protocol=pickle.HIGHEST_PROTOCOL)\n",
    "!cp \"/content/test_2_2.pickle\" \"/content/drive/MyDrive\""
   ]
  },
  {
   "cell_type": "code",
   "execution_count": 9,
   "id": "8f1ZvaasK7XH",
   "metadata": {
    "id": "8f1ZvaasK7XH"
   },
   "outputs": [],
   "source": [
    "from BregmanTests.utils import *"
   ]
  },
  {
   "cell_type": "code",
   "execution_count": 11,
   "id": "3vN0pwvtM-Eo",
   "metadata": {
    "colab": {
     "base_uri": "https://localhost:8080/"
    },
    "id": "3vN0pwvtM-Eo",
    "outputId": "d1b94928-b890-46a5-da45-89545e3cbed4"
   },
   "outputs": [
    {
     "data": {
      "text/plain": [
       "dict_keys(['a', 'r', 'ARI'])"
      ]
     },
     "execution_count": 11,
     "metadata": {},
     "output_type": "execute_result"
    }
   ],
   "source": [
    "test_2_1=None\n",
    "with open(\"test_2_1.pickle\", 'rb') as handle:\n",
    "    test_2_1 = pickle.load(handle)\n",
    "test_2_1.keys()"
   ]
  },
  {
   "cell_type": "code",
   "execution_count": 35,
   "id": "TrkQZoOAQae4",
   "metadata": {
    "colab": {
     "base_uri": "https://localhost:8080/",
     "height": 449
    },
    "id": "TrkQZoOAQae4",
    "outputId": "6ce40397-b919-43ac-f5a5-fa277b9819dd"
   },
   "outputs": [
    {
     "data": {
      "image/png": "[encoded data removed]",
      "text/plain": [
       "<Figure size 640x480 with 1 Axes>"
      ]
     },
     "metadata": {},
     "output_type": "display_data"
    }
   ],
   "source": [
    "def scatter_(dict_,x_name,y_name,z_name):\n",
    "  fig, ax = plt.subplots()\n",
    "  x,y = dict_[x_name],dict_[y_name]\n",
    "  ax.scatter(x,y)\n",
    "  for i, txt in enumerate(dict_[z_name]):\n",
    "      ax.annotate(\"{:.2f}\".format(txt), (x[i], y[i]))\n",
    "  ax.set_xlabel(x_name)\n",
    "  ax.set_ylabel(y_name)\n",
    "scatter_(test_2_1,'a', 'r', 'ARI')"
   ]
  },
  {
   "cell_type": "code",
   "execution_count": 31,
   "id": "B8LRjwn2N3ja",
   "metadata": {
    "colab": {
     "base_uri": "https://localhost:8080/",
     "height": 508
    },
    "id": "B8LRjwn2N3ja",
    "outputId": "096ce97d-3eca-43fd-fdab-85be1f36e45a"
   },
   "outputs": [
    {
     "data": {
      "image/png": "[encoded data removed]",
      "text/plain": [
       "<Figure size 640x480 with 2 Axes>"
      ]
     },
     "metadata": {},
     "output_type": "display_data"
    }
   ],
   "source": [
    "x,y,z = test_2_1[\"a\"],test_2_1[\"r\"],test_2_1[\"ARI\"]\n",
    "vals_x = np.unique(x)\n",
    "vals_y = np.unique(y)\n",
    "\"\"\"\n",
    "len(X) == N is the number of columns in Z and len(Y) == M is the number of rows in Z.\n",
    "Z = M x N\n",
    "\"\"\"\n",
    "x = np.array(x).reshape(-1,vals_y.shape[0])\n",
    "y = np.array(y).reshape(-1,vals_y.shape[0])\n",
    "# x,y = np.meshgrid(vals_x,vals_y)\n",
    "z = np.array(z).reshape(len(vals_x),len(vals_y)).T\n",
    "make_contour_plot(vals_x,vals_y,z,x_label=\"a\",y_label=\"r\",filename=\"contour_plot_2_1.jpeg\",plot_3d=False)"
   ]
  },
  {
   "cell_type": "code",
   "execution_count": 32,
   "id": "GzYD-jJYV6h4",
   "metadata": {
    "colab": {
     "base_uri": "https://localhost:8080/"
    },
    "id": "GzYD-jJYV6h4",
    "outputId": "392a61c1-24e9-4d08-8955-d44736ba8d68"
   },
   "outputs": [
    {
     "data": {
      "text/plain": [
       "dict_keys(['d', 'mu', 'ARI'])"
      ]
     },
     "execution_count": 32,
     "metadata": {},
     "output_type": "execute_result"
    }
   ],
   "source": [
    "test_2_2=None\n",
    "with open(\"test_2_2.pickle\", 'rb') as handle:\n",
    "    test_2_2 = pickle.load(handle)\n",
    "test_2_2.keys()"
   ]
  },
  {
   "cell_type": "code",
   "execution_count": 36,
   "id": "OF2FxOgcV9Fp",
   "metadata": {
    "colab": {
     "base_uri": "https://localhost:8080/",
     "height": 449
    },
    "id": "OF2FxOgcV9Fp",
    "outputId": "cbe65ba3-afe3-44be-8e73-48a783e8df77"
   },
   "outputs": [
    {
     "data": {
      "image/png": "[encoded data removed]",
      "text/plain": [
       "<Figure size 640x480 with 1 Axes>"
      ]
     },
     "metadata": {},
     "output_type": "display_data"
    }
   ],
   "source": [
    "scatter_(test_2_2,'d', 'mu', 'ARI')"
   ]
  },
  {
   "cell_type": "code",
   "execution_count": 37,
   "id": "HcgfbcQMYA7-",
   "metadata": {
    "colab": {
     "base_uri": "https://localhost:8080/",
     "height": 508
    },
    "id": "HcgfbcQMYA7-",
    "outputId": "b450866e-78fe-4c0a-e55d-a22e327ac2f7"
   },
   "outputs": [
    {
     "data": {
      "image/png": "[encoded data removed]",
      "text/plain": [
       "<Figure size 640x480 with 2 Axes>"
      ]
     },
     "metadata": {},
     "output_type": "display_data"
    }
   ],
   "source": [
    "x,y,z = test_2_2[\"d\"],test_2_2[\"mu\"],test_2_2[\"ARI\"]\n",
    "vals_x = np.unique(x)\n",
    "vals_y = np.unique(y)\n",
    "\"\"\"\n",
    "len(X) == N is the number of columns in Z and len(Y) == M is the number of rows in Z.\n",
    "Z = M x N\n",
    "\"\"\"\n",
    "x = np.array(x).reshape(-1,vals_y.shape[0])\n",
    "y = np.array(y).reshape(-1,vals_y.shape[0])\n",
    "# x,y = np.meshgrid(vals_x,vals_y)\n",
    "z = np.array(z).reshape(len(vals_x),len(vals_y)).T\n",
    "make_contour_plot(vals_x,vals_y,z,x_label=\"d\",y_label=\"mu\",filename=\"contour_plot_2_2.jpeg\",plot_3d=False)"
   ]
  },
  {
   "cell_type": "code",
   "execution_count": 39,
   "id": "tKwys6pKYU31",
   "metadata": {
    "colab": {
     "base_uri": "https://localhost:8080/"
    },
    "id": "tKwys6pKYU31",
    "outputId": "7138b733-3cc6-4df5-9f84-6c37fe6629b4"
   },
   "outputs": [
    {
     "data": {
      "text/plain": [
       "dict_keys(['d', 'lambda', 'a', 'ARI'])"
      ]
     },
     "execution_count": 39,
     "metadata": {},
     "output_type": "execute_result"
    }
   ],
   "source": [
    "test_2_3=None\n",
    "with open(\"test_2_3.pickle\", 'rb') as handle:\n",
    "    test_2_3 = pickle.load(handle)\n",
    "test_2_3.keys()"
   ]
  },
  {
   "cell_type": "code",
   "execution_count": 45,
   "id": "-Sjm_nc5bM9w",
   "metadata": {
    "colab": {
     "base_uri": "https://localhost:8080/",
     "height": 448
    },
    "id": "-Sjm_nc5bM9w",
    "outputId": "86e81f4e-ed67-4cc5-fdce-8239bd3c0a9a"
   },
   "outputs": [
    {
     "data": {
      "text/plain": [
       "<mpl_toolkits.mplot3d.art3d.Poly3DCollection at 0x7f12d9404fa0>"
      ]
     },
     "execution_count": 45,
     "metadata": {},
     "output_type": "execute_result"
    },
    {
     "data": {
      "image/png": "[encoded data removed]",
      "text/plain": [
       "<Figure size 640x480 with 1 Axes>"
      ]
     },
     "metadata": {},
     "output_type": "display_data"
    }
   ],
   "source": [
    "import numpy as np\n",
    "import matplotlib.pyplot as plt\n",
    "from mpl_toolkits.mplot3d import Axes3D\n",
    "from matplotlib import cm\n",
    "\n",
    "# create some fake data\n",
    "x = y = np.arange(-4.0, 4.0, 0.02)\n",
    "# here are the x,y and respective z values\n",
    "X, Y = np.meshgrid(x, y)\n",
    "Z = np.sinc(np.sqrt(X*X+Y*Y))\n",
    "# this is the value to use for the color\n",
    "V = np.sin(Y)\n",
    "\n",
    "# create the figure, add a 3d axis, set the viewing angle\n",
    "fig = plt.figure()\n",
    "ax = fig.add_subplot(111, projection='3d')\n",
    "ax.view_init(45,60)\n",
    "\n",
    "# here we create the surface plot, but pass V through a colormap\n",
    "# to create a different color for each patch\n",
    "ax.plot_surface(X, Y, Z, facecolors=cm.Oranges(V))"
   ]
  },
  {
   "cell_type": "code",
   "execution_count": 47,
   "id": "yofd8RutbPoM",
   "metadata": {
    "colab": {
     "base_uri": "https://localhost:8080/"
    },
    "id": "yofd8RutbPoM",
    "outputId": "c3de8a58-6fda-4efe-bae3-c747c49be62a"
   },
   "outputs": [
    {
     "data": {
      "text/plain": [
       "((400, 400), (400, 400), (400, 400))"
      ]
     },
     "execution_count": 47,
     "metadata": {},
     "output_type": "execute_result"
    }
   ],
   "source": [
    "X.shape,Y.shape,Z.shape"
   ]
  },
  {
   "cell_type": "code",
   "execution_count": null,
   "id": "qgfnh8xRYyVF",
   "metadata": {
    "colab": {
     "base_uri": "https://localhost:8080/",
     "height": 1000
    },
    "id": "qgfnh8xRYyVF",
    "outputId": "bda55f87-cda3-4895-90ab-deca0a55a565"
   },
   "outputs": [],
   "source": [
    "x,y,z,v = test_2_3[\"d\"],test_2_3[\"lambda\"],test_2_3[\"a\"],test_2_3[\"ARI\"]\n",
    "vals_x = np.unique(x)\n",
    "vals_y = np.unique(y)\n",
    "vals_z = np.unique(z)\n",
    "x,y,z = np.meshgrid(vals_x,vals_y,vals_z)\n",
    "v = np.array(v).reshape((len(vals_x),len(vals_y),len(vals_z)))\n",
    "make_4d_plot(x,y,z,v,x_label=\"d\",y_label=\"lambda\",z_label=\"a\",filename=\"contour_plot_2_3.jpeg\")"
   ]
  }
 ],
 "metadata": {
  "accelerator": "GPU",
  "colab": {
   "provenance": []
  },
  "gpuClass": "standard",
  "kernelspec": {
   "display_name": "Python 3 (ipykernel)",
   "language": "python",
   "name": "python3"
  },
  "language_info": {
   "codemirror_mode": {
    "name": "ipython",
    "version": 3
   },
   "file_extension": ".py",
   "mimetype": "text/x-python",
   "name": "python",
   "nbconvert_exporter": "python",
   "pygments_lexer": "ipython3",
   "version": "3.8.16"
  }
 },
 "nbformat": 4,
 "nbformat_minor": 5
}
