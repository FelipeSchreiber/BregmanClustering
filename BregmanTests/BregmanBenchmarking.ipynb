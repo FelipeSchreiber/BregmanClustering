{
 "cells": [
  {
   "cell_type": "code",
   "execution_count": 1,
   "id": "jP3HrzLaFCl0",
   "metadata": {
    "colab": {
     "base_uri": "https://localhost:8080/"
    },
    "id": "jP3HrzLaFCl0",
    "outputId": "c8ae970d-b550-44ec-85ed-c7376fe749a8"
   },
   "outputs": [],
   "source": [
    "# from google.colab import drive\n",
    "# drive.mount('/content/drive')"
   ]
  },
  {
   "cell_type": "code",
   "execution_count": 2,
   "id": "3caf0c63",
   "metadata": {},
   "outputs": [
    {
     "name": "stdout",
     "output_type": "stream",
     "text": [
      "Requirement already satisfied: pandas in /home/felipe/anaconda3/envs/breg/lib/python3.10/site-packages (2.0.3)\n",
      "Requirement already satisfied: matplotlib in /home/felipe/anaconda3/envs/breg/lib/python3.10/site-packages (3.7.2)\n",
      "Requirement already satisfied: networkx in /home/felipe/anaconda3/envs/breg/lib/python3.10/site-packages (3.1)\n",
      "Requirement already satisfied: scikit-learn in /home/felipe/anaconda3/envs/breg/lib/python3.10/site-packages (1.3.0)\n",
      "Requirement already satisfied: seaborn in /home/felipe/anaconda3/envs/breg/lib/python3.10/site-packages (0.12.2)\n",
      "Requirement already satisfied: python-dateutil>=2.8.2 in /home/felipe/anaconda3/envs/breg/lib/python3.10/site-packages (from pandas) (2.8.2)\n",
      "Requirement already satisfied: pytz>=2020.1 in /home/felipe/anaconda3/envs/breg/lib/python3.10/site-packages (from pandas) (2023.3)\n",
      "Requirement already satisfied: tzdata>=2022.1 in /home/felipe/anaconda3/envs/breg/lib/python3.10/site-packages (from pandas) (2023.3)\n",
      "Requirement already satisfied: numpy>=1.21.0 in /home/felipe/anaconda3/envs/breg/lib/python3.10/site-packages (from pandas) (1.24.4)\n",
      "Requirement already satisfied: contourpy>=1.0.1 in /home/felipe/anaconda3/envs/breg/lib/python3.10/site-packages (from matplotlib) (1.1.0)\n",
      "Requirement already satisfied: cycler>=0.10 in /home/felipe/anaconda3/envs/breg/lib/python3.10/site-packages (from matplotlib) (0.11.0)\n",
      "Requirement already satisfied: fonttools>=4.22.0 in /home/felipe/anaconda3/envs/breg/lib/python3.10/site-packages (from matplotlib) (4.42.0)\n",
      "Requirement already satisfied: kiwisolver>=1.0.1 in /home/felipe/anaconda3/envs/breg/lib/python3.10/site-packages (from matplotlib) (1.4.4)\n",
      "Requirement already satisfied: packaging>=20.0 in /home/felipe/anaconda3/envs/breg/lib/python3.10/site-packages (from matplotlib) (23.0)\n",
      "Requirement already satisfied: pillow>=6.2.0 in /home/felipe/anaconda3/envs/breg/lib/python3.10/site-packages (from matplotlib) (10.0.0)\n",
      "Requirement already satisfied: pyparsing<3.1,>=2.3.1 in /home/felipe/anaconda3/envs/breg/lib/python3.10/site-packages (from matplotlib) (3.0.9)\n",
      "Requirement already satisfied: scipy>=1.5.0 in /home/felipe/anaconda3/envs/breg/lib/python3.10/site-packages (from scikit-learn) (1.11.1)\n",
      "Requirement already satisfied: joblib>=1.1.1 in /home/felipe/anaconda3/envs/breg/lib/python3.10/site-packages (from scikit-learn) (1.3.2)\n",
      "Requirement already satisfied: threadpoolctl>=2.0.0 in /home/felipe/anaconda3/envs/breg/lib/python3.10/site-packages (from scikit-learn) (3.2.0)\n",
      "Requirement already satisfied: six>=1.5 in /home/felipe/anaconda3/envs/breg/lib/python3.10/site-packages (from python-dateutil>=2.8.2->pandas) (1.16.0)\n"
     ]
    }
   ],
   "source": [
    "## If local runtime, python=3.10.12\n",
    "## ln -sf /usr/lib/x86_64-linux-gnu/libstdc++.so.6 /home/felipe/anaconda3/envs/breg/bin/../lib/libstdc++.so.6\n",
    "!pip install -U pandas matplotlib networkx scikit-learn seaborn"
   ]
  },
  {
   "cell_type": "code",
   "execution_count": 3,
   "id": "wqMKN-tSMM0L",
   "metadata": {
    "colab": {
     "base_uri": "https://localhost:8080/"
    },
    "id": "wqMKN-tSMM0L",
    "outputId": "69ff1812-8a88-4a42-8647-aaa0cb45a007"
   },
   "outputs": [
    {
     "name": "stdout",
     "output_type": "stream",
     "text": [
      "Requirement already satisfied: torchvision in /home/felipe/anaconda3/envs/breg/lib/python3.10/site-packages (0.15.2)\n",
      "Requirement already satisfied: torch_geometric in /home/felipe/anaconda3/envs/breg/lib/python3.10/site-packages (2.3.1)\n",
      "Requirement already satisfied: numpy in /home/felipe/anaconda3/envs/breg/lib/python3.10/site-packages (from torchvision) (1.24.4)\n",
      "Requirement already satisfied: requests in /home/felipe/anaconda3/envs/breg/lib/python3.10/site-packages (from torchvision) (2.31.0)\n",
      "Requirement already satisfied: torch==2.0.1 in /home/felipe/anaconda3/envs/breg/lib/python3.10/site-packages (from torchvision) (2.0.1)\n",
      "Requirement already satisfied: pillow!=8.3.*,>=5.3.0 in /home/felipe/anaconda3/envs/breg/lib/python3.10/site-packages (from torchvision) (10.0.0)\n",
      "Requirement already satisfied: filelock in /home/felipe/anaconda3/envs/breg/lib/python3.10/site-packages (from torch==2.0.1->torchvision) (3.12.2)\n",
      "Requirement already satisfied: typing-extensions in /home/felipe/anaconda3/envs/breg/lib/python3.10/site-packages (from torch==2.0.1->torchvision) (4.7.1)\n",
      "Requirement already satisfied: sympy in /home/felipe/anaconda3/envs/breg/lib/python3.10/site-packages (from torch==2.0.1->torchvision) (1.12)\n",
      "Requirement already satisfied: networkx in /home/felipe/anaconda3/envs/breg/lib/python3.10/site-packages (from torch==2.0.1->torchvision) (3.1)\n",
      "Requirement already satisfied: jinja2 in /home/felipe/anaconda3/envs/breg/lib/python3.10/site-packages (from torch==2.0.1->torchvision) (3.1.2)\n",
      "Requirement already satisfied: nvidia-cuda-nvrtc-cu11==11.7.99 in /home/felipe/anaconda3/envs/breg/lib/python3.10/site-packages (from torch==2.0.1->torchvision) (11.7.99)\n",
      "Requirement already satisfied: nvidia-cuda-runtime-cu11==11.7.99 in /home/felipe/anaconda3/envs/breg/lib/python3.10/site-packages (from torch==2.0.1->torchvision) (11.7.99)\n",
      "Requirement already satisfied: nvidia-cuda-cupti-cu11==11.7.101 in /home/felipe/anaconda3/envs/breg/lib/python3.10/site-packages (from torch==2.0.1->torchvision) (11.7.101)\n",
      "Requirement already satisfied: nvidia-cudnn-cu11==8.5.0.96 in /home/felipe/anaconda3/envs/breg/lib/python3.10/site-packages (from torch==2.0.1->torchvision) (8.5.0.96)\n",
      "Requirement already satisfied: nvidia-cublas-cu11==11.10.3.66 in /home/felipe/anaconda3/envs/breg/lib/python3.10/site-packages (from torch==2.0.1->torchvision) (11.10.3.66)\n",
      "Requirement already satisfied: nvidia-cufft-cu11==10.9.0.58 in /home/felipe/anaconda3/envs/breg/lib/python3.10/site-packages (from torch==2.0.1->torchvision) (10.9.0.58)\n",
      "Requirement already satisfied: nvidia-curand-cu11==10.2.10.91 in /home/felipe/anaconda3/envs/breg/lib/python3.10/site-packages (from torch==2.0.1->torchvision) (10.2.10.91)\n",
      "Requirement already satisfied: nvidia-cusolver-cu11==11.4.0.1 in /home/felipe/anaconda3/envs/breg/lib/python3.10/site-packages (from torch==2.0.1->torchvision) (11.4.0.1)\n",
      "Requirement already satisfied: nvidia-cusparse-cu11==11.7.4.91 in /home/felipe/anaconda3/envs/breg/lib/python3.10/site-packages (from torch==2.0.1->torchvision) (11.7.4.91)\n",
      "Requirement already satisfied: nvidia-nccl-cu11==2.14.3 in /home/felipe/anaconda3/envs/breg/lib/python3.10/site-packages (from torch==2.0.1->torchvision) (2.14.3)\n",
      "Requirement already satisfied: nvidia-nvtx-cu11==11.7.91 in /home/felipe/anaconda3/envs/breg/lib/python3.10/site-packages (from torch==2.0.1->torchvision) (11.7.91)\n",
      "Requirement already satisfied: triton==2.0.0 in /home/felipe/anaconda3/envs/breg/lib/python3.10/site-packages (from torch==2.0.1->torchvision) (2.0.0)\n",
      "Requirement already satisfied: setuptools in /home/felipe/anaconda3/envs/breg/lib/python3.10/site-packages (from nvidia-cublas-cu11==11.10.3.66->torch==2.0.1->torchvision) (68.0.0)\n",
      "Requirement already satisfied: wheel in /home/felipe/anaconda3/envs/breg/lib/python3.10/site-packages (from nvidia-cublas-cu11==11.10.3.66->torch==2.0.1->torchvision) (0.38.4)\n",
      "Requirement already satisfied: cmake in /home/felipe/anaconda3/envs/breg/lib/python3.10/site-packages (from triton==2.0.0->torch==2.0.1->torchvision) (3.27.2)\n",
      "Requirement already satisfied: lit in /home/felipe/anaconda3/envs/breg/lib/python3.10/site-packages (from triton==2.0.0->torch==2.0.1->torchvision) (16.0.6)\n",
      "Requirement already satisfied: tqdm in /home/felipe/anaconda3/envs/breg/lib/python3.10/site-packages (from torch_geometric) (4.66.1)\n",
      "Requirement already satisfied: scipy in /home/felipe/anaconda3/envs/breg/lib/python3.10/site-packages (from torch_geometric) (1.11.1)\n",
      "Requirement already satisfied: pyparsing in /home/felipe/anaconda3/envs/breg/lib/python3.10/site-packages (from torch_geometric) (3.0.9)\n",
      "Requirement already satisfied: scikit-learn in /home/felipe/anaconda3/envs/breg/lib/python3.10/site-packages (from torch_geometric) (1.3.0)\n",
      "Requirement already satisfied: psutil>=5.8.0 in /home/felipe/anaconda3/envs/breg/lib/python3.10/site-packages (from torch_geometric) (5.9.0)\n",
      "Requirement already satisfied: MarkupSafe>=2.0 in /home/felipe/anaconda3/envs/breg/lib/python3.10/site-packages (from jinja2->torch==2.0.1->torchvision) (2.1.1)\n",
      "Requirement already satisfied: charset-normalizer<4,>=2 in /home/felipe/anaconda3/envs/breg/lib/python3.10/site-packages (from requests->torchvision) (3.2.0)\n",
      "Requirement already satisfied: idna<4,>=2.5 in /home/felipe/anaconda3/envs/breg/lib/python3.10/site-packages (from requests->torchvision) (3.4)\n",
      "Requirement already satisfied: urllib3<3,>=1.21.1 in /home/felipe/anaconda3/envs/breg/lib/python3.10/site-packages (from requests->torchvision) (2.0.4)\n",
      "Requirement already satisfied: certifi>=2017.4.17 in /home/felipe/anaconda3/envs/breg/lib/python3.10/site-packages (from requests->torchvision) (2023.7.22)\n",
      "Requirement already satisfied: joblib>=1.1.1 in /home/felipe/anaconda3/envs/breg/lib/python3.10/site-packages (from scikit-learn->torch_geometric) (1.3.2)\n",
      "Requirement already satisfied: threadpoolctl>=2.0.0 in /home/felipe/anaconda3/envs/breg/lib/python3.10/site-packages (from scikit-learn->torch_geometric) (3.2.0)\n",
      "Requirement already satisfied: mpmath>=0.19 in /home/felipe/anaconda3/envs/breg/lib/python3.10/site-packages (from sympy->torch==2.0.1->torchvision) (1.3.0)\n",
      "Requirement already satisfied: rpy2==3.5.1 in /home/felipe/anaconda3/envs/breg/lib/python3.10/site-packages (3.5.1)\n",
      "Requirement already satisfied: cffi>=1.10.0 in /home/felipe/anaconda3/envs/breg/lib/python3.10/site-packages (from rpy2==3.5.1) (1.15.1)\n",
      "Requirement already satisfied: jinja2 in /home/felipe/anaconda3/envs/breg/lib/python3.10/site-packages (from rpy2==3.5.1) (3.1.2)\n",
      "Requirement already satisfied: pytz in /home/felipe/anaconda3/envs/breg/lib/python3.10/site-packages (from rpy2==3.5.1) (2023.3)\n",
      "Requirement already satisfied: tzlocal in /home/felipe/anaconda3/envs/breg/lib/python3.10/site-packages (from rpy2==3.5.1) (5.0.1)\n",
      "Requirement already satisfied: pycparser in /home/felipe/anaconda3/envs/breg/lib/python3.10/site-packages (from cffi>=1.10.0->rpy2==3.5.1) (2.21)\n",
      "Requirement already satisfied: MarkupSafe>=2.0 in /home/felipe/anaconda3/envs/breg/lib/python3.10/site-packages (from jinja2->rpy2==3.5.1) (2.1.1)\n",
      "Requirement already satisfied: umap-learn in /home/felipe/anaconda3/envs/breg/lib/python3.10/site-packages (0.5.3)\n",
      "Requirement already satisfied: numpy>=1.17 in /home/felipe/anaconda3/envs/breg/lib/python3.10/site-packages (from umap-learn) (1.24.4)\n",
      "Requirement already satisfied: scikit-learn>=0.22 in /home/felipe/anaconda3/envs/breg/lib/python3.10/site-packages (from umap-learn) (1.3.0)\n",
      "Requirement already satisfied: scipy>=1.0 in /home/felipe/anaconda3/envs/breg/lib/python3.10/site-packages (from umap-learn) (1.11.1)\n",
      "Requirement already satisfied: numba>=0.49 in /home/felipe/anaconda3/envs/breg/lib/python3.10/site-packages (from umap-learn) (0.57.1)\n",
      "Requirement already satisfied: pynndescent>=0.5 in /home/felipe/anaconda3/envs/breg/lib/python3.10/site-packages (from umap-learn) (0.5.10)\n",
      "Requirement already satisfied: tqdm in /home/felipe/anaconda3/envs/breg/lib/python3.10/site-packages (from umap-learn) (4.66.1)\n",
      "Requirement already satisfied: llvmlite<0.41,>=0.40.0dev0 in /home/felipe/anaconda3/envs/breg/lib/python3.10/site-packages (from numba>=0.49->umap-learn) (0.40.1)\n",
      "Requirement already satisfied: joblib>=0.11 in /home/felipe/anaconda3/envs/breg/lib/python3.10/site-packages (from pynndescent>=0.5->umap-learn) (1.3.2)\n"
     ]
    },
    {
     "name": "stdout",
     "output_type": "stream",
     "text": [
      "Requirement already satisfied: threadpoolctl>=2.0.0 in /home/felipe/anaconda3/envs/breg/lib/python3.10/site-packages (from scikit-learn>=0.22->umap-learn) (3.2.0)\n",
      "Requirement already satisfied: igraph in /home/felipe/anaconda3/envs/breg/lib/python3.10/site-packages (0.10.6)\n",
      "Requirement already satisfied: texttable>=1.6.2 in /home/felipe/anaconda3/envs/breg/lib/python3.10/site-packages (from igraph) (1.6.7)\n",
      "Requirement already satisfied: find-julia in /home/felipe/anaconda3/envs/breg/lib/python3.10/site-packages (0.2.9)\n",
      "Requirement already satisfied: julia-semver in /home/felipe/anaconda3/envs/breg/lib/python3.10/site-packages (from find-julia) (0.1.3)\n",
      "Requirement already satisfied: jill in /home/felipe/anaconda3/envs/breg/lib/python3.10/site-packages (from find-julia) (0.11.5)\n",
      "Requirement already satisfied: fire<0.6.0,>=0.5.0 in /home/felipe/anaconda3/envs/breg/lib/python3.10/site-packages (from jill->find-julia) (0.5.0)\n",
      "Requirement already satisfied: jsonschema<5.0.0,>=4.17.3 in /home/felipe/anaconda3/envs/breg/lib/python3.10/site-packages (from jill->find-julia) (4.17.3)\n",
      "Requirement already satisfied: python-gnupg<0.6.0,>=0.5.0 in /home/felipe/anaconda3/envs/breg/lib/python3.10/site-packages (from jill->find-julia) (0.5.1)\n",
      "Requirement already satisfied: requests<3.0.0,>=2.28.2 in /home/felipe/anaconda3/envs/breg/lib/python3.10/site-packages (from jill->find-julia) (2.31.0)\n",
      "Requirement already satisfied: requests-futures<2.0.0,>=1.0.0 in /home/felipe/anaconda3/envs/breg/lib/python3.10/site-packages (from jill->find-julia) (1.0.1)\n",
      "Requirement already satisfied: semantic-version<3.0.0,>=2.10.0 in /home/felipe/anaconda3/envs/breg/lib/python3.10/site-packages (from jill->find-julia) (2.10.0)\n",
      "Requirement already satisfied: wget<4.0,>=3.2 in /home/felipe/anaconda3/envs/breg/lib/python3.10/site-packages (from jill->find-julia) (3.2)\n",
      "Requirement already satisfied: six in /home/felipe/anaconda3/envs/breg/lib/python3.10/site-packages (from fire<0.6.0,>=0.5.0->jill->find-julia) (1.16.0)\n",
      "Requirement already satisfied: termcolor in /home/felipe/anaconda3/envs/breg/lib/python3.10/site-packages (from fire<0.6.0,>=0.5.0->jill->find-julia) (2.3.0)\n",
      "Requirement already satisfied: attrs>=17.4.0 in /home/felipe/anaconda3/envs/breg/lib/python3.10/site-packages (from jsonschema<5.0.0,>=4.17.3->jill->find-julia) (22.1.0)\n",
      "Requirement already satisfied: pyrsistent!=0.17.0,!=0.17.1,!=0.17.2,>=0.14.0 in /home/felipe/anaconda3/envs/breg/lib/python3.10/site-packages (from jsonschema<5.0.0,>=4.17.3->jill->find-julia) (0.18.0)\n",
      "Requirement already satisfied: charset-normalizer<4,>=2 in /home/felipe/anaconda3/envs/breg/lib/python3.10/site-packages (from requests<3.0.0,>=2.28.2->jill->find-julia) (3.2.0)\n",
      "Requirement already satisfied: idna<4,>=2.5 in /home/felipe/anaconda3/envs/breg/lib/python3.10/site-packages (from requests<3.0.0,>=2.28.2->jill->find-julia) (3.4)\n",
      "Requirement already satisfied: urllib3<3,>=1.21.1 in /home/felipe/anaconda3/envs/breg/lib/python3.10/site-packages (from requests<3.0.0,>=2.28.2->jill->find-julia) (2.0.4)\n",
      "Requirement already satisfied: certifi>=2017.4.17 in /home/felipe/anaconda3/envs/breg/lib/python3.10/site-packages (from requests<3.0.0,>=2.28.2->jill->find-julia) (2023.7.22)\n",
      "Collecting git+https://github.com/FelipeSchreiber/BregmanClustering.git\n",
      "  Cloning https://github.com/FelipeSchreiber/BregmanClustering.git to /tmp/pip-req-build-25ei25bu\n",
      "  Running command git clone --filter=blob:none --quiet https://github.com/FelipeSchreiber/BregmanClustering.git /tmp/pip-req-build-25ei25bu\n",
      "  Resolved https://github.com/FelipeSchreiber/BregmanClustering.git to commit 91a43192b8db26da65bec3d050ea543b6d864cb3\n",
      "  Preparing metadata (setup.py) ... \u001b[?25ldone\n",
      "\u001b[?25hBuilding wheels for collected packages: bregClust\n",
      "  Building wheel for bregClust (setup.py) ... \u001b[?25ldone\n",
      "\u001b[?25h  Created wheel for bregClust: filename=bregClust-1.0-py3-none-any.whl size=46575 sha256=f4a35f3b066647288265cb12cb6bc3df3864e0c5f8ba0aede10fdb9c6fa9c3cb\n",
      "  Stored in directory: /tmp/pip-ephem-wheel-cache-dfo1x6wz/wheels/3f/90/fb/833529540c1d5f19c385fde761cc07c664c4b9a5edf7c6735b\n",
      "Successfully built bregClust\n",
      "Installing collected packages: bregClust\n",
      "  Attempting uninstall: bregClust\n",
      "    Found existing installation: bregClust 1.0\n",
      "    Uninstalling bregClust-1.0:\n",
      "      Successfully uninstalled bregClust-1.0\n",
      "Successfully installed bregClust-1.0\n",
      "Requirement already satisfied: leidenalg in /home/felipe/anaconda3/envs/breg/lib/python3.10/site-packages (0.10.1)\n",
      "Requirement already satisfied: igraph<0.11,>=0.10.0 in /home/felipe/anaconda3/envs/breg/lib/python3.10/site-packages (from leidenalg) (0.10.6)\n",
      "Requirement already satisfied: texttable>=1.6.2 in /home/felipe/anaconda3/envs/breg/lib/python3.10/site-packages (from igraph<0.11,>=0.10.0->leidenalg) (1.6.7)\n",
      "True\n"
     ]
    }
   ],
   "source": [
    "!pip install torchvision torch_geometric \n",
    "!pip install rpy2==3.5.1\n",
    "!pip install umap-learn\n",
    "!pip install igraph\n",
    "!pip install find-julia\n",
    "## Install julia if in colab\n",
    "# !wget https://julialang-s3.julialang.org/bin/linux/x64/1.8/julia-1.8.1-linux-x86_64.tar.gz\n",
    "# !tar zxvf julia-1.8.1-linux-x86_64.tar.gz -C /usr/local --strip-components 1\n",
    "!pip install --upgrade --force-reinstall git+https://github.com/FelipeSchreiber/BregmanClustering.git --no-deps\n",
    "!pip install leidenalg\n",
    "import os\n",
    "import pandas as pd\n",
    "import pickle\n",
    "from sys import platform\n",
    "import BregmanTests\n",
    "os.chmod(BregmanTests.__path__[0]+\"/install_algos.sh\",777)\n",
    "if platform == \"win32\":\n",
    "    os.environ[\"R_HOME\"] = r\"C:\\\\Program Files\\R\\R-4.2.3\"\n",
    "else:\n",
    "    ## if local runtime\n",
    "#     os.environ[\"R_HOME\"] = \"/usr/lib/R\"\n",
    "    ### Uncomment line below if in Google Colab environment\n",
    "    print(os.path.isfile(BregmanTests.__path__[0]+\"/install_algos.sh\"))\n",
    "    ### Done"
   ]
  },
  {
   "cell_type": "code",
   "execution_count": 4,
   "id": "4w2gsGfqMbhn",
   "metadata": {
    "id": "4w2gsGfqMbhn"
   },
   "outputs": [],
   "source": [
    "from BregmanTests.benchmark import *\n",
    "n_average = 5\n",
    "n_clusters = 4\n",
    "factor = 300\n",
    "n = int(factor*n_clusters)\n",
    "d = 1\n",
    "sizes = [ n // n_clusters ]*np.ones( n_clusters, dtype = int )"
   ]
  },
  {
   "cell_type": "code",
   "execution_count": 5,
   "id": "8_1GVISDUKFt",
   "metadata": {
    "id": "8_1GVISDUKFt"
   },
   "outputs": [],
   "source": [
    "# from validation_indices import NamedIndices\n",
    "# I = NamedIndices[\"S&S1\"]"
   ]
  },
  {
   "cell_type": "code",
   "execution_count": 6,
   "id": "P7eaRWHE-d8H",
   "metadata": {
    "colab": {
     "base_uri": "https://localhost:8080/",
     "height": 133
    },
    "id": "P7eaRWHE-d8H",
    "outputId": "dc59e4d1-691c-49f5-bf28-4719ea463770"
   },
   "outputs": [
    {
     "ename": "SyntaxError",
     "evalue": "'break' outside loop (668683560.py, line 1)",
     "output_type": "error",
     "traceback": [
      "\u001b[0;36m  Cell \u001b[0;32mIn[6], line 1\u001b[0;36m\u001b[0m\n\u001b[0;31m    break\u001b[0m\n\u001b[0m    ^\u001b[0m\n\u001b[0;31mSyntaxError\u001b[0m\u001b[0;31m:\u001b[0m 'break' outside loop\n"
     ]
    }
   ],
   "source": [
    "break"
   ]
  },
  {
   "cell_type": "code",
   "execution_count": null,
   "id": "BRK9Lc7TXYNe",
   "metadata": {
    "colab": {
     "base_uri": "https://localhost:8080/"
    },
    "id": "BRK9Lc7TXYNe",
    "outputId": "477fa162-b4dd-41af-f0c7-8cd5dea2b1bd"
   },
   "outputs": [],
   "source": [
    "attributes_distribution = \"gaussian\"\n",
    "edge_distribution = \"bernoulli\"\n",
    "weight_distribution = \"exponential\"\n",
    "a_range = np.linspace(5,14,3)\n",
    "r_range = np.linspace(0,0.7,3)*np.log(n)\n",
    "benchmark = BregmanBenchmark(att_variance=1,\n",
    "                    attributes_distribution=attributes_distribution,\n",
    "                    weight_variance=1,\n",
    "                    weight_distribution=weight_distribution,\n",
    "                    edge_distribution=edge_distribution,\n",
    "                    run_torch=False,\n",
    "                    initializer = 'chernoff',\n",
    "                    hard_clustering=True)\n",
    "benchmark.run_test(n_average=1,cluster_sizes=sizes,\\\n",
    "                 b=5,\\\n",
    "                 a_range=[ 5,7,9,11,13,15 ],\\\n",
    "                 r_range = [ 0,1,2,3,4,5 ],\\\n",
    "                 dense=False,\\\n",
    "                 binary=True,\\\n",
    "                 file_endings=\".jpeg\",\\\n",
    "                 n_iters=25)"
   ]
  },
  {
   "cell_type": "markdown",
   "id": "4oK8WTsVlLci",
   "metadata": {
    "id": "4oK8WTsVlLci"
   },
   "source": [
    "## Test 2_1"
   ]
  },
  {
   "cell_type": "code",
   "execution_count": null,
   "id": "v4iSOddDO2qs",
   "metadata": {
    "id": "v4iSOddDO2qs"
   },
   "outputs": [],
   "source": [
    "attributes_distribution = \"gaussian\"\n",
    "edge_distribution = \"bernoulli\"\n",
    "weight_distribution = \"exponential\"\n",
    "a_range = np.linspace(5,14,3)\n",
    "r_range = np.linspace(0,0.7,3)*np.log(n)\n",
    "benchmark = BregmanBenchmark(att_variance=1,\n",
    "                    attributes_distribution=attributes_distribution,\n",
    "                    weight_variance=1,\n",
    "                    weight_distribution=weight_distribution,\n",
    "                    edge_distribution=edge_distribution,\n",
    "                    run_torch=False,\n",
    "                    initializer = 'chernoff',\n",
    "                    hard_clustering=False)\n",
    "stats = benchmark.run_2_1(n_average=1,\n",
    "                            cluster_sizes=sizes,\n",
    "                            b=5,\n",
    "                            a_range= a_range,\n",
    "                            r_range = r_range,\n",
    "                            dense=False,\n",
    "                            binary=True,\n",
    "                            n_iters=25)\n",
    "with open('test_2_1.pickle', 'wb') as handle:\n",
    "    pickle.dump(stats, handle, protocol=pickle.HIGHEST_PROTOCOL)\n",
    "!cp \"/content/test_2_1.pickle\" \"/content/drive/MyDrive\""
   ]
  },
  {
   "cell_type": "markdown",
   "id": "VVVPpsn8l01D",
   "metadata": {
    "id": "VVVPpsn8l01D"
   },
   "source": [
    "## Test 2_2"
   ]
  },
  {
   "cell_type": "code",
   "execution_count": null,
   "id": "XYNgyTRXEhrK",
   "metadata": {
    "id": "XYNgyTRXEhrK"
   },
   "outputs": [],
   "source": [
    "attributes_distribution = \"poisson\"\n",
    "edge_distribution = \"bernoulli\"\n",
    "weight_distribution = \"gaussian\"\n",
    "d_range = np.arange(1,6)\n",
    "mu_range = np.linspace(0,6,20)\n",
    "att_centers = np.arange(1,4).reshape(-1,1)\n",
    "stats = BregmanBenchmark(att_variance=1,\n",
    "                    attributes_distribution=attributes_distribution,\n",
    "                    weight_variance=1,\n",
    "                    weight_distribution=weight_distribution,\n",
    "                    edge_distribution=edge_distribution,\n",
    "                    att_centers=att_centers,\n",
    "                    run_torch=False\n",
    "                  )\\\n",
    "                  .run_2_2(n_average=10,\n",
    "                            cluster_sizes=sizes,\n",
    "                             d_range = d_range,\n",
    "                             mu_range = mu_range,\n",
    "                             dense=True,\n",
    "                             binary=False)\n",
    "with open('test_2_2.pickle', 'wb') as handle:\n",
    "    pickle.dump(stats, handle, protocol=pickle.HIGHEST_PROTOCOL)\n",
    "!cp \"/content/test_2_2.pickle\" \"/content/drive/MyDrive\""
   ]
  },
  {
   "cell_type": "markdown",
   "id": "XlpxvjqBlt3q",
   "metadata": {
    "id": "XlpxvjqBlt3q"
   },
   "source": [
    "## Test 2_3"
   ]
  },
  {
   "cell_type": "code",
   "execution_count": null,
   "id": "GdUwRBlstRH-",
   "metadata": {
    "id": "GdUwRBlstRH-"
   },
   "outputs": [],
   "source": [
    "attributes_distribution = \"poisson\"\n",
    "edge_distribution = \"bernoulli\"\n",
    "weight_distribution = \"exponential\"\n",
    "d_range = np.arange(1,5)\n",
    "a_range = np.linspace(5,14,10)\n",
    "lambda_range = np.arange(1,6)\n",
    "att_centers = np.arange(1,4).reshape(-1,1)\n",
    "stats = BregmanBenchmark(att_variance=1,\n",
    "                    attributes_distribution=attributes_distribution,\n",
    "                    weight_variance=1,\n",
    "                    weight_distribution=weight_distribution,\n",
    "                    edge_distribution=edge_distribution,\n",
    "                    att_centers=att_centers,\n",
    "                    run_torch=False\n",
    "                 )\\\n",
    "                  .run_2_3(n_average=10,\n",
    "                            cluster_sizes=sizes,\n",
    "                            d_range= d_range,\n",
    "                            lambda_range = lambda_range,\n",
    "                            a_range = a_range,\n",
    "                            b = 5,\n",
    "                            dense=False,\n",
    "                            binary=False)\n",
    "with open('test_2_3.pickle', 'wb') as handle:\n",
    "    pickle.dump(stats, handle, protocol=pickle.HIGHEST_PROTOCOL)\n",
    "!cp \"/content/test_2_3.pickle\" \"/content/drive/MyDrive\""
   ]
  },
  {
   "cell_type": "markdown",
   "id": "HcYf4xKeleyK",
   "metadata": {
    "id": "HcYf4xKeleyK"
   },
   "source": [
    "## Test 2_4"
   ]
  },
  {
   "cell_type": "code",
   "execution_count": null,
   "id": "isj4xK4sGdg9",
   "metadata": {
    "id": "isj4xK4sGdg9"
   },
   "outputs": [],
   "source": [
    "attributes_distribution = \"exponential\"\n",
    "edge_distribution = \"bernoulli\"\n",
    "weight_distribution = \"exponential\"\n",
    "att_averages = np.linspace(1,5,10)\n",
    "w_averages = np.linspace(1,5,10)\n",
    "stats = BregmanBenchmark(att_variance=1,\n",
    "                    attributes_distribution=attributes_distribution,\n",
    "                    weight_variance=1,\n",
    "                    weight_distribution=weight_distribution,\n",
    "                    edge_distribution=edge_distribution,\n",
    "                    run_torch=False\n",
    "                 )\\\n",
    "                  .run_2_4(n_average=10,\n",
    "                            cluster_sizes=sizes,\n",
    "                            b = 5,\n",
    "                            w_averages=w_averages,\n",
    "                            att_averages=att_averages)\n",
    "with open('test_2_4.pickle', 'wb') as handle:\n",
    "    pickle.dump(stats, handle, protocol=pickle.HIGHEST_PROTOCOL)\n",
    "!cp \"/content/test_2_4.pickle\" \"/content/drive/MyDrive\""
   ]
  },
  {
   "cell_type": "markdown",
   "id": "JWvoW4tklTOT",
   "metadata": {
    "id": "JWvoW4tklTOT"
   },
   "source": [
    "## Test 2_5"
   ]
  },
  {
   "cell_type": "code",
   "execution_count": null,
   "id": "Zpr5g5JCzEkG",
   "metadata": {
    "id": "Zpr5g5JCzEkG"
   },
   "outputs": [],
   "source": [
    "attributes_distribution = \"exponential\"\n",
    "edge_distribution = \"bernoulli\"\n",
    "weight_distribution = \"exponential\"\n",
    "att_averages = np.linspace(1,5,5)\n",
    "w_averages = np.array([1,3,6,9,12])\n",
    "stats = BregmanBenchmark(att_variance=n_average,\n",
    "                    attributes_distribution=attributes_distribution,\n",
    "                    weight_variance=1,\n",
    "                    weight_distribution=weight_distribution,\n",
    "                    edge_distribution=edge_distribution,\n",
    "                    run_torch=False\n",
    "                 )\\\n",
    "                  .run_2_5(n_average=n_average,\n",
    "                            cluster_sizes=sizes,\n",
    "                            b = 5,\n",
    "                            w_averages=w_averages,\n",
    "                            att_averages=att_averages)\n",
    "with open('test_2_5.pickle', 'wb') as handle:\n",
    "    pickle.dump(stats, handle, protocol=pickle.HIGHEST_PROTOCOL)\n",
    "!cp \"/content/test_2_5.pickle\" \"/content/drive/MyDrive\""
   ]
  },
  {
   "cell_type": "code",
   "execution_count": null,
   "id": "HROKJI17kQ-y",
   "metadata": {
    "id": "HROKJI17kQ-y"
   },
   "outputs": [],
   "source": [
    "test_2_5=None\n",
    "with open(\"/content/drive/MyDrive/test_2_5.pickle\", 'rb') as handle:\n",
    "    test_2_5 = pickle.load(handle)\n",
    "test_2_5.keys()\n",
    "df = pd.DataFrame.from_dict(test_2_5)\n",
    "# labels = [ 'EM-GMM', 'SC', 'Algo1', 'attSBM','IR_sLS']\n",
    "# algos = [\"attributes\", \"graph\", \"ours\", \"attSBM\", \"IR_sLS\"]\n",
    "# saveFig = True\n",
    "# for varying in [\"graph\",\"attributes\"]:\n",
    "#   curves = []\n",
    "#   curves_std = []\n",
    "#   for algo in algos:\n",
    "#     curves.append(df.loc[(df['varying'] == varying) & (df['algorithm'] == algo)][\"ARI\"])\n",
    "#     curves_std.append(df.loc[(df['varying'] == varying) & (df['algorithm'] == algo)][\"ARI_std\"])\n",
    "#   if varying == 'graph':\n",
    "#     x = df.loc[(df['varying'] == \"graph\")][\"weights_avg\"].unique()\n",
    "#     fileName = 'N_' + str(n) + '_K_' + str(n_clusters) + '_att_' + str(2)  +  '_nAverage' + str(n_average) + '.jpeg'\n",
    "#     plotting( x, curves, labels, curves_std = curves_std, xticks = x, xlabel = 'weights_avg', saveFig = True, fileName = fileName )\n",
    "#     plt.close()\n",
    "#   elif varying == 'attributes':\n",
    "#     x = df.loc[(df['varying'] == \"attributes\")][\"attributes_avg\"].unique()\n",
    "#     fileName = 'N_' + str(n) + '_K_' + str(n_clusters) + '_w_' + str(2) + '_nAverage_' + str(n_average) + '.jpeg'\n",
    "#     plotting( x , curves, labels, curves_std = curves_std, xticks = x, xlabel = 'attributes_avg', saveFig = True, fileName = fileName )\n",
    "#     plt.close()"
   ]
  },
  {
   "cell_type": "markdown",
   "id": "BCvSIxvhmD5j",
   "metadata": {
    "id": "BCvSIxvhmD5j"
   },
   "source": [
    "## Test Real Data"
   ]
  },
  {
   "cell_type": "code",
   "execution_count": 7,
   "id": "oLtYCem6YHrc",
   "metadata": {
    "id": "oLtYCem6YHrc"
   },
   "outputs": [],
   "source": [
    "edgeSimilarity = \"jaccard\""
   ]
  },
  {
   "cell_type": "code",
   "execution_count": null,
   "id": "7942ed30",
   "metadata": {
    "id": "7942ed30"
   },
   "outputs": [
    {
     "name": "stdout",
     "output_type": "stream",
     "text": [
      "['NMI', 'ARI', 'AMI', 'S&S', 'CC']\n",
      "\n",
      "CURRENT DATASET:  CiteSeer\n"
     ]
    },
    {
     "data": {
      "image/png": "[encoded data removed]",
      "text/plain": [
       "<Figure size 640x480 with 1 Axes>"
      ]
     },
     "metadata": {},
     "output_type": "display_data"
    },
    {
     "name": "stdout",
     "output_type": "stream",
     "text": [
      "[1] TRUE\n",
      "[1] \"./data/Benchmark/real_data/att_0.npy\"   \n",
      "[2] \"./data/Benchmark/real_data/net_0.npy\"   \n",
      "[3] \"./data/Benchmark/real_data/z_init_0.npy\"\n"
     ]
    },
    {
     "name": "stderr",
     "output_type": "stream",
     "text": [
      "\n",
      "Attaching package: ‘igraph’\n",
      "\n",
      "The following objects are masked from ‘package:stats’:\n",
      "\n",
      "    decompose, spectrum\n",
      "\n",
      "The following object is masked from ‘package:base’:\n",
      "\n",
      "    union\n",
      "\n"
     ]
    },
    {
     "name": "stdout",
     "output_type": "stream",
     "text": [
      "[1] \"this is the initial error!!!\"\n",
      "[1] 42.2695\n",
      "[1] -82508.63\n",
      "[1] -52552.72\n",
      "[1] -52552.72\n",
      "   [1] 6 1 3 3 1 6 5 1 1 3 2 1 2 2 1 1 5 6 1 6 2 6 1 6 1 6 3 4 5 5 6 5 2 1 1 6 1\n",
      "  [38] 2 4 5 5 2 4 2 3 2 1 1 5 5 1 5 3 6 1 4 1 1 3 5 6 5 1 1 3 2 4 3 1 1 3 2 2 3\n",
      "  [75] 1 1 2 6 1 1 1 1 6 1 1 6 1 1 3 4 1 1 1 3 5 1 1 1 5 5 5 1 1 2 2 4 1 1 1 1 1\n",
      " [112] 3 1 1 1 1 3 1 3 3 4 1 2 5 3 5 2 1 2 1 5 6 1 1 4 5 5 5 2 3 1 3 1 3 2 1 1 5\n",
      " [149] 4 3 2 2 2 5 1 1 3 4 2 1 1 1 1 4 1 1 5 1 3 5 5 1 4 1 4 1 1 5 1 4 1 1 1 1 6\n",
      " [186] 3 6 1 6 5 6 1 4 3 4 4 5 1 1 5 1 1 2 1 1 1 4 1 2 1 2 1 5 3 1 2 6 1 5 5 2 1\n",
      " [223] 1 6 3 6 1 5 1 1 1 6 1 1 5 4 4 2 4 5 2 5 3 5 5 1 1 3 4 3 1 1 1 4 1 1 5 1 4\n",
      " [260] 1 1 1 1 3 3 1 6 1 1 1 1 2 3 5 4 5 6 4 1 2 1 3 1 1 2 1 5 6 3 6 6 1 1 1 3 2\n",
      " [297] 5 1 1 6 5 1 1 1 5 3 1 5 5 1 4 5 2 3 6 2 1 2 3 2 1 5 1 6 6 2 2 1 3 1 1 1 1\n",
      " [334] 1 6 1 1 5 1 3 5 1 2 1 2 3 1 5 1 3 5 3 3 1 4 1 3 1 1 5 2 1 1 2 3 2 1 1 6 5\n",
      " [371] 3 1 1 1 6 1 3 1 1 6 3 1 5 1 5 1 4 1 1 1 1 2 6 1 6 2 1 1 4 6 1 1 1 1 1 1 1\n",
      " [408] 1 1 6 2 1 2 1 1 1 6 2 6 1 1 1 4 1 5 1 3 4 1 5 2 2 1 1 1 5 1 1 1 1 1 2 4 1\n",
      " [445] 5 6 6 6 5 5 6 3 2 1 4 4 1 2 1 4 6 1 4 1 2 1 1 1 3 3 1 6 1 1 1 6 5 1 3 5 1\n",
      " [482] 1 2 2 5 1 2 6 5 5 1 1 3 1 5 5 3 2 1 2 3 1 2 1 1 2 6 1 4 1 2 3 1 6 2 3 6 5\n",
      " [519] 5 1 1 2 1 5 4 5 5 1 6 1 1 1 4 2 1 3 1 1 5 1 6 1 6 5 5 1 1 1 1 5 3 2 1 1 1\n",
      " [556] 3 5 1 3 3 1 3 2 5 1 6 1 4 1 6 4 5 5 1 1 2 1 1 3 1 6 5 1 2 2 5 2 5 6 1 5 1\n",
      " [593] 5 6 4 1 1 4 1 1 1 5 6 1 1 6 6 1 2 1 5 5 4 1 5 3 4 1 1 3 1 5 1 5 6 5 1 1 1\n",
      " [630] 1 4 1 1 1 1 6 2 1 5 5 1 1 1 3 2 1 1 1 1 3 1 5 5 1 2 1 1 1 5 5 1 5 1 1 1 3\n",
      " [667] 3 2 1 4 1 2 1 1 2 2 4 5 1 3 5 5 4 1 1 5 1 1 4 6 1 3 3 2 1 1 1 1 4 4 1 1 1\n",
      " [704] 5 1 5 1 1 3 1 1 2 3 6 1 1 1 2 1 2 1 6 1 3 2 1 1 2 2 5 1 3 1 1 3 4 1 1 5 5\n",
      " [741] 2 3 1 4 1 1 1 4 6 5 1 5 2 4 5 5 1 1 5 1 1 6 4 1 2 1 1 1 3 5 5 1 1 1 1 4 1\n",
      " [778] 2 3 1 1 1 6 1 1 6 3 2 1 1 3 3 1 6 3 1 5 1 4 4 5 5 1 1 1 1 1 1 1 1 2 1 2 1\n",
      " [815] 3 1 3 1 1 1 1 2 2 1 1 5 1 3 6 2 2 2 6 5 1 1 1 1 2 2 5 6 1 3 1 6 1 1 6 3 1\n",
      " [852] 5 4 1 6 1 5 4 1 5 3 6 2 3 4 2 5 5 5 6 1 4 1 1 3 4 2 5 1 4 1 1 1 5 5 1 1 3\n",
      " [889] 1 6 5 2 1 4 5 1 5 1 4 1 5 6 1 2 5 4 1 1 1 1 1 1 1 1 1 1 5 5 4 1 3 1 5 5 1\n",
      " [926] 3 1 4 5 3 1 1 1 2 1 1 6 1 1 1 1 1 4 1 2 1 1 2 4 5 5 5 5 2 4 4 5 1 1 2 5 1\n",
      " [963] 4 5 1 6 1 2 2 5 5 4 1 5 1 2 6 1 1 5 5 1 1 5 2 2 6 3 4 1 2 1 3 1 1 5 5 6 4\n",
      "[1000] 4 5 1 1 5 1 2 5 2 1 2 1 5 1 1 4 2 4 1 1 3 5 2 6 3 3 1 1 1 4 1 6 1 1 2 3 5\n",
      "[1037] 2 1 1 1 5 1 1 5 1 5 1 4 3 2 1 1 2 1 1 1 5 1 3 1 6 1 1 5 5 6 3 1 1 1 6 4 1\n",
      "[1074] 2 6 1 4 4 3 3 3 1 2 1 4 4 1 1 1 1 1 6 1 1 1 1 3 5 1 5 2 1 5 5 6 4 1 5 3 1\n",
      "[1111] 1 5 1 2 1 2 2 6 6 1 1 4 5 1 3 2 1 1 3 2 2 1 1 1 1 3 2 2 5 5 3 5 1 1 1 5 1\n",
      "[1148] 1 1 4 2 2 1 1 4 1 1 6 1 4 1 5 4 5 1 2 1 1 1 1 5 2 5 5 1 4 1 3 5 1 1 2 1 1\n",
      "[1185] 2 6 5 3 1 2 1 1 1 1 4 6 5 5 4 1 1 3 5 1 1 4 1 1 3 5 3 1 2 5 1 1 6 1 1 6 3\n",
      "[1222] 2 1 5 1 5 1 3 3 1 3 1 6 3 6 1 4 5 2 1 2 1 6 5 5 6 1 6 1 1 1 5 1 6 6 3 2 6\n",
      "[1259] 1 1 1 1 5 1 1 1 5 1 1 1 5 5 6 6 2 1 1 1 1 4 1 1 5 1 1 1 1 4 1 1 6 1 1 1 1\n",
      "[1296] 5 2 6 5 1 6 4 6 1 1 6 1 1 4 5 5 4 1 6 3 1 1 2 1 1 1 1 4 5 6 3 5 2 6 5 2 1\n",
      "[1333] 1 1 1 1 6 1 6 4 1 2 3 5 4 1 6 4 5 3 1 6 5 1 4 1 1 4 1 5 6 1 1 1 5 1 1 1 3\n",
      "[1370] 1 5 1 2 5 2 1 2 2 6 1 2 1 1 4 5 4 1 1 3 1 4 1 4 3 3 2 1 1 5 1 5 1 5 3 5 5\n",
      "[1407] 5 2 1 1 1 1 2 1 5 1 3 1 1 1 1 5 1 1 1 1 5 1 1 1 5 2 5 3 2 1 1 5 3 2 1 1 1\n",
      "[1444] 1 1 6 6 2 2 4 1 4 3 1 1 1 1 6 2 2 6 6 3 6 1 1 5 2 1 2 5 6 6 3 5 6 5 1 2 4\n",
      "[1481] 4 1 3 2 1 6 4 5 3 5 6 2 1 2 2 4 1 1 5 1 1 4 1 6 6 5 1 6 2 2 5 1 5 2 1 5 5\n",
      "[1518] 5 1 6 3 1 1 1 6 1 3 1 5 6 4 2 6 1 6 1 5 1 1 1 5 1 3 1 1 3 5 1 1 5 6 1 5 6\n",
      "[1555] 5 5 2 6 4 1 2 3 3 5 2 1 1 1 1 1 1 2 6 1 5 6 5 4 1 5 4 1 3 1 1 3 4 1 1 5 5\n",
      "[1592] 5 3 5 3 1 6 2 1 1 3 1 5 1 6 4 2 1 1 1 2 5 5 2 6 5 1 5 1 5 5 4 2 6 1 5 2 1\n",
      "[1629] 1 5 1 1 5 4 6 1 2 2 1 5 1 2 1 5 5 4 3 1 3 1 1 6 6 6 1 1 1 1 1 1 5 5 1 1 1\n",
      "[1666] 1 2 5 1 1 4 1 1 6 5 1 1 1 4 5 3 1 6 1 1 1 1 1 5 2 2 4 1 1 1 6 5 3 1 1 1 2\n",
      "[1703] 5 2 3 5 1 2 2 3 1 1 3 1 6 1 3 5 2 2 5 2 1 1 1 5 4 1 5 2 2 1 5 6 1 1 3 1 2\n",
      "[1740] 3 4 1 3 5 1 3 4 1 1 1 6 5 3 1 3 1 1 1 1 1 3 1 1 2 6 1 1 1 1 1 5 1 5 6 5 3\n",
      "[1777] 4 4 3 3 4 1 5 3 2 3 2 1 5 1 3 4 1 4 5 6 1 4 1 1 5 1 2 2 5 5 1 1 2 4 1 1 1\n",
      "[1814] 6 1 3 6 3 4 3 4 3 1 2 5 1 6 1 1 2 6 2 4 3 5 1 1 6 1 1 1 2 4 1 6 2 1 5 5 1\n",
      "[1851] 3 4 2 1 5 5 1 2 3 5 1 3 2 5 2 2 1 1 4 2 1 2 1 1 1 3 5 1 6 1 5 1 2 5 5 5 5\n",
      "[1888] 1 5 1 4 5 1 1 1 5 4 5 3 1 1 5 1 3 3 1 2 1 4 1 3 5 4 3 3 4 5 1 5 1 1 5 1 6\n",
      "[1925] 2 1 4 1 3 5 1 1 2 6 5 1 3 6 2 4 3 1 1 6 4 1 1 1 1 1 1 1 5 2 1 5 1 2 3 2 1\n",
      "[1962] 3 6 5 1 1 1 1 1 3 5 1 1 1 6 6 3 3 1 5 1 5 2 5 1 5 2 4 1 5 5 5 4 1 2 1 1 3\n",
      "[1999] 1 1 5 5 1 1 3 2 1 2 1 4 3 1 1 1 2 5 1 1 1 1 2 1 1 5 2 2 1 1 1 1 6 6 5 3 1\n",
      "[2036] 3 4 1 1 3 1 2 1 2 4 1 1 5 5 1 3 5 1 3 1 1 1 2 6 1 4 1 3 1 1 5 1 5 1 2 2 4\n",
      "[2073] 1 5 5 6 2 1 1 1 1 6 1 5 5 1 4 3 1 1 5 6 1 5 1 1 3 4 1 1 3 1 1 2 1 1 1 1 6\n",
      "[2110] 4 1 5 5 1 6 6 1 6 5 2 1 1 3 3 1 6 4 3 3 6 1 1 1 5 1 1 1 2 2 6 1 5 4 1 1 5\n",
      "[2147] 1 1 5 2 1 1 1 1 2 2 1 1 1 5 2 2 5 3 2 4 4 2 3 1 5 2 5 3 4 1 3 1 1 2 1 1 6\n",
      "[2184] 1 5 2 1 2 3 1 2 1 5 2 4 1 5 3 6 4 5 3 1 4 1 6 1 1 5 1 5 1 1 1 2 1 1 1 1 5\n",
      "[2221] 3 3 6 5 1 1 1 1 1 3 1 1 1 1 5 1 1 1 4 5 5 3 1 1 1 2 6 5 1 6 6 5 1 3 1 1 6\n",
      "[2258] 1 1 6 1 6 1 6 1 1 4 5 1 1 1 5 4 4 1 5 1 5 1 6 1 1 1 5 4 1 6 5 2 1 1 1 5 1\n",
      "[2295] 4 1 1 4 4 1 2 1 1 1 1 4 5 3 1 1 1 1 1 1 4 5 4 5 6 2 2 5 5 2 6 1 4 5 2 1 1\n",
      "[2332] 3 4 6 1 4 5 1 5 1 5 6 2 6 1 1 5 2 2 2 2 4 5 1 1 4 6 4 6 5 1 6 5 1 1 1 4 5\n",
      "[2369] 1 1 1 1 4 4 1 1 4 2 5 5 5 5 1 1 2 4 5 3 1 2 2 1 3 1 4 3 2 6 5 5 1 5 4 1 1\n",
      "[2406] 4 2 2 2 4 1 1 5 1 1 3 3 1 4 2 3 5 1 5 1 4 1 3 1 5 6 1 5 4 5 1 1 5 5 3 4 2\n",
      "[2443] 6 5 1 6 1 5 1 2 2 6 1 5 1 1 1 4 1 1 1 2 2 6 2 1 1 1 2 2 5 5 5 6 5 1 1 1 3\n",
      "[2480] 2 2 2 6 2 4 5 5 1 1 1 2 5 1 2 1 1 1 2 6 6 2 5 4 6 3 5 1 1 5 1 3 3 1 1 1 5\n",
      "[2517] 1 1 1 1 1 1 1 1 1 6 6 5 2 3 3 1 2 4 1 1 1 1 5 3 1 5 5 6 5 2 5 5 2 5 2 5 1\n",
      "[2554] 2 1 5 6 5 5 4 6 1 1 1 1 4 1 5 1 1 1 5 1 1 1 2 1 2 2 1 5 5 4 5 6 2 6 1 1 4\n",
      "[2591] 4 3 2 2 5 2 2 5 1 1 1 1 3 3 1 2 1 2 1 2 2 4 5 1 6 1 1 1 1 1 1 1 1 5 5 5 1\n",
      "[2628] 5 6 3 1 1 3 6 1 2 1 1 2 1 3 4 1 3 4 3 3 4 1 5 1 1 3 1 2 1 6 6 4 3 1 3 2 2\n",
      "[2665] 6 2 1 2 1 2 2 2 2 3 5 6 1 5 1 5 2 1 6 5 1 1 1 6 1 1 1 1 3 1 1 5 4 6 3 1 1\n",
      "[2702] 1 5 1 1 1 1 1 6 2 2 5 1 1 1 1 6 1 6 1 1 3 1 6 1 3 1 1 5 6 1 1 3 5 5 1 1 5\n",
      "[2739] 6 6 1 5 5 5 5 5 1 1 3 1 1 2 4 5 2 4 2 1 4 1 6 1 4 4 5 5 1 5 2 2 3 1 5 1 1\n",
      "[2776] 1 1 3 1 1 5 5 5 5 1 5 4 5 5 5 1 1 3 1 1 1 1 1 2 2 1 5 5 1 1 6 5 5 2 2 1 1\n",
      "[2813] 1 1 1 2 5 2 5 5 4 4 1 1 5 5 6 5 2 2 1 1 1 5 4 3 4 3 1 5 6 1 1 5 6 4 6 6 2\n",
      "[2850] 1 6 4 4 5 6 3 1 2 1 1 3 4 4 2 1 5 1 1 1 5 1 6 1 5 4 1 2 1 1 1 6 5 4 1 5 1\n",
      "[2887] 3 1 5 5 2 2 1 4 5 1 1 3 3 6 1 1 3 5 6 1 3 1 1 1 1 4 6 1 1 3 5 1 5 2 1 2 1\n",
      "[2924] 2 5 5 5 1 5 1 1 3 3 2 1 3 5 1 1 3 3 4 1 1 1 1 1 5 5 1 2 5 1 1 1 1 1 6 2 1\n",
      "[2961] 1 6 1 6 1 4 3 2 1 1 5 5 1 5 1 1 2 1 1 1 5 2 6 1 2 2 1 5 2 1 1 3 3 6 5 5 1\n",
      "[2998] 1 1 1 1 1 4 1 1 3 3 3 2 3 3 6 1 6 1 1 1 6 1 5 1 1 1 2 1 1 1 1 1 6 5 2 5 1\n",
      "[3035] 1 2 2 2 1 3 3 4 4 2 1 2 1 2 1 3 6 5 2 2 2 1 1 5 5 5 6 1 1 1 1 3 3 4 1 3 5\n",
      "[3072] 5 5 1 5 5 1 1 5 3 2 2 6 6 3 1 3 3 3 1 1 1 1 1 1 5 1 1 4 4 1 3 1 1 3 1 3 1\n",
      "[3109] 1 5 3 5 1 1 1 1 4 1 4 1 1 5 5 5 5 5 5 4 3 6 1 1 1 1 6 6 5 1 1 6 5 4 1 4 4\n",
      "[3146] 1 3 1 1 1 1 3 1 1 1 6 6 6 1 1 2 1 6 3 1 1 2 1 1 5 1 2 3 1 2 4 3 4 1 6 5 2\n",
      "[3183] 1 6 3 1 5 1 6 1 2 5 6 4 1 4 2 1 1 2 6 1 3 1 3 1 1 1 4 6 1 4 4 2 6 1 1 1 5\n",
      "[3220] 3 1 6 6 1 1 1 2 6 3 1 1 2 1 5 1 2 1 1 1 1 1 1 6 1 1 3 1 1 1 5 3 1 1 1 5 3\n",
      "[3257] 3 1 1 3 2 1 3 2 5 1 2 4 1 1 1 1 1 3 5 6 6 2 3\n",
      "[1] \"this is the new error!!!\"\n",
      "[1] 42.73938\n",
      "\n",
      "CURRENT DATASET:  Cora\n"
     ]
    },
    {
     "data": {
      "image/png": "[encoded data removed]",
      "text/plain": [
       "<Figure size 640x480 with 1 Axes>"
      ]
     },
     "metadata": {},
     "output_type": "display_data"
    }
   ],
   "source": [
    "attributes_distribution = \"bernoulli\"\n",
    "edge_distribution = \"bernoulli\"\n",
    "weight_distribution = \"gaussian\"\n",
    "benchmark = BregmanBenchmark(att_variance=1,\n",
    "                    attributes_distribution=attributes_distribution,\n",
    "                    weight_variance=1,\n",
    "                    weight_distribution=weight_distribution,\n",
    "                    edge_distribution=edge_distribution,\n",
    "                    run_torch=False,\n",
    "                    initializer = 'chernoff',\n",
    "                    hard_clustering=True)\n",
    "scores = benchmark.run_real_data(n_iters=25,n_runs=1,\n",
    "                                 edgeSimilarity=edgeSimilarity,\n",
    "                                 weightSimilarity=\"gaussian\",\n",
    "                                 attributesSimilarity=\"hamming\")\n",
    "scores"
   ]
  },
  {
   "cell_type": "code",
   "execution_count": null,
   "id": "qEpRHoNLQeqd",
   "metadata": {
    "id": "qEpRHoNLQeqd"
   },
   "outputs": [],
   "source": [
    "df = pd.DataFrame(scores)\n",
    "df_grouped = df.groupby(by=\"dataset\")\n",
    "for key, item in df_grouped:\n",
    "    print(df_grouped.get_group(key), \"\\n\\n\")"
   ]
  },
  {
   "cell_type": "code",
   "execution_count": null,
   "id": "8HIAU4EvsC-0",
   "metadata": {
    "id": "8HIAU4EvsC-0"
   },
   "outputs": [],
   "source": [
    "df"
   ]
  },
  {
   "cell_type": "code",
   "execution_count": null,
   "id": "fo4ZfaaoQn1m",
   "metadata": {
    "id": "fo4ZfaaoQn1m"
   },
   "outputs": [],
   "source": [
    "df[['NMI', 'NMI_std', 'ARI', 'ARI_std', 'AMI', 'AMI_std', 'algorithm', 'dataset']].to_csv(\"results_1.csv\",index=False)\n",
    "df[[ 'S&S', 'S&S_std', 'CC', 'CC_std', 'algorithm', 'dataset']].to_csv(\"results_2.csv\",index=False)"
   ]
  },
  {
   "cell_type": "code",
   "execution_count": null,
   "id": "AnPjQFHPjp_t",
   "metadata": {
    "id": "AnPjQFHPjp_t"
   },
   "outputs": [],
   "source": [
    "with open(f'/content/drive/MyDrive/test_real_data_{edgeSimilarity}.pickle', 'wb') as handle:\n",
    "    pickle.dump(scores, handle, protocol=pickle.HIGHEST_PROTOCOL)"
   ]
  },
  {
   "cell_type": "code",
   "execution_count": null,
   "id": "YvBzPcj6B9eI",
   "metadata": {
    "id": "YvBzPcj6B9eI"
   },
   "outputs": [],
   "source": [
    "scores=None\n",
    "with open(f\"/content/drive/MyDrive/test_real_data_{edgeSimilarity}.pickle\", 'rb') as handle:\n",
    "    scores = pickle.load(handle)\n",
    "scores.keys()"
   ]
  },
  {
   "cell_type": "code",
   "execution_count": null,
   "id": "hzPeXxbZdSyz",
   "metadata": {
    "id": "hzPeXxbZdSyz"
   },
   "outputs": [],
   "source": [
    "from google.colab import runtime\n",
    "runtime.unassign()"
   ]
  },
  {
   "cell_type": "markdown",
   "id": "7rU3bGnAmO8n",
   "metadata": {
    "id": "7rU3bGnAmO8n"
   },
   "source": [
    "# Begin Plots"
   ]
  },
  {
   "cell_type": "code",
   "execution_count": null,
   "id": "8f1ZvaasK7XH",
   "metadata": {
    "id": "8f1ZvaasK7XH"
   },
   "outputs": [],
   "source": [
    "from BregmanTests.utils import *"
   ]
  },
  {
   "cell_type": "code",
   "execution_count": null,
   "id": "3vN0pwvtM-Eo",
   "metadata": {
    "id": "3vN0pwvtM-Eo"
   },
   "outputs": [],
   "source": [
    "test_2_1=None\n",
    "with open(\"/content/drive/MyDrive/test_2_1.pickle\", 'rb') as handle:\n",
    "    test_2_1 = pickle.load(handle)\n",
    "test_2_1.keys()"
   ]
  },
  {
   "cell_type": "code",
   "execution_count": null,
   "id": "TrkQZoOAQae4",
   "metadata": {
    "id": "TrkQZoOAQae4"
   },
   "outputs": [],
   "source": [
    "scatter_(test_2_1,'a', 'r', 'ARI')"
   ]
  },
  {
   "cell_type": "code",
   "execution_count": null,
   "id": "QY5bJiRenKe8",
   "metadata": {
    "id": "QY5bJiRenKe8"
   },
   "outputs": [],
   "source": [
    "scatter_with_colorbar(test_2_1,'a', 'r', 'ARI')"
   ]
  },
  {
   "cell_type": "code",
   "execution_count": null,
   "id": "wBuJ9YmNZqUu",
   "metadata": {
    "id": "wBuJ9YmNZqUu"
   },
   "outputs": [],
   "source": [
    "test_2_4=None\n",
    "SIZE_TITLE = 24\n",
    "SIZE_LABELS = 24\n",
    "SIZE_TICKS = 18\n",
    "SIZE_LEGEND = 18\n",
    "with open(\"/content/drive/MyDrive/test_2_4.pickle\", 'rb') as handle:\n",
    "    test_2_4 = pickle.load(handle)\n",
    "fig = plt.figure(figsize=(5, 4))\n",
    "ax = fig.add_subplot(111)\n",
    "x,y,z = np.array(test_2_4[\"lambda_att\"]),np.array(test_2_4[\"lambda_w\"]),np.array(test_2_4[\"ARI\"])\n",
    "xlabel=\"attributes_avg\"\n",
    "ylabel=\"weights_avg\"\n",
    "C = ax.scatter(x=1/x,y=1/y,c=z,cmap=\"coolwarm\")\n",
    "plt.ylim(0.9,3.5)\n",
    "ticks = np.linspace(z.min(), z.max(), 5, endpoint=True)\n",
    "cb = fig.colorbar(C, ax=ax, fraction=0.02, pad=0.1, label='ARI',ticks=ticks)\n",
    "cb.set_label(label='ARI', size=SIZE_LEGEND)\n",
    "cb.ax.tick_params(labelsize=SIZE_TICKS)\n",
    "plt.xlabel( xlabel, fontsize = SIZE_LABELS )\n",
    "plt.ylabel( ylabel, fontsize = SIZE_LABELS )\n",
    "plt.xticks( fontsize = SIZE_TICKS )\n",
    "plt.yticks( fontsize = SIZE_TICKS )\n",
    "plt.show()"
   ]
  },
  {
   "cell_type": "code",
   "execution_count": null,
   "id": "B8LRjwn2N3ja",
   "metadata": {
    "id": "B8LRjwn2N3ja"
   },
   "outputs": [],
   "source": [
    "x,y,z = test_2_1[\"a\"],test_2_1[\"r\"],test_2_1[\"ARI\"]\n",
    "vals_x = np.unique(x)\n",
    "vals_y = np.unique(y)\n",
    "\"\"\"\n",
    "len(X) == N is the number of columns in Z and len(Y) == M is the number of rows in Z.\n",
    "Z = M x N\n",
    "\"\"\"\n",
    "x = np.array(x).reshape(vals_x.shape[0],vals_y.shape[0])\n",
    "y = np.array(y).reshape(vals_x.shape[0],vals_y.shape[0])\n",
    "z = np.array(z).reshape(vals_x.shape[0],vals_y.shape[0]).T\n",
    "make_contour_plot(vals_x,vals_y,z,x_label=\"a\",y_label=\"r\",filename=\"contour_plot_2_1.jpeg\")"
   ]
  },
  {
   "cell_type": "code",
   "execution_count": null,
   "id": "GzYD-jJYV6h4",
   "metadata": {
    "id": "GzYD-jJYV6h4"
   },
   "outputs": [],
   "source": [
    "test_2_2=None\n",
    "with open(\"/content/drive/MyDrive/test_2_2.pickle\", 'rb') as handle:\n",
    "    test_2_2 = pickle.load(handle)\n",
    "test_2_2.keys()"
   ]
  },
  {
   "cell_type": "code",
   "execution_count": null,
   "id": "OF2FxOgcV9Fp",
   "metadata": {
    "id": "OF2FxOgcV9Fp"
   },
   "outputs": [],
   "source": [
    "scatter_(test_2_2,'d', 'mu', 'ARI')"
   ]
  },
  {
   "cell_type": "code",
   "execution_count": null,
   "id": "HcgfbcQMYA7-",
   "metadata": {
    "id": "HcgfbcQMYA7-"
   },
   "outputs": [],
   "source": [
    "x,y,z = test_2_2[\"d\"],test_2_2[\"mu\"],test_2_2[\"ARI\"]\n",
    "vals_x = np.unique(x)\n",
    "vals_y = np.unique(y)\n",
    "\"\"\"\n",
    "len(X) == N is the number of columns in Z and len(Y) == M is the number of rows in Z.\n",
    "Z = M x N\n",
    "\"\"\"\n",
    "x = np.array(x).reshape(vals_x.shape[0],vals_y.shape[0])\n",
    "y = np.array(y).reshape(vals_x.shape[0],vals_y.shape[0])\n",
    "# x,y = np.meshgrid(vals_x,vals_y)\n",
    "z = np.array(z).reshape(len(vals_x),len(vals_y)).T\n",
    "make_contour_plot(vals_x,vals_y,z,x_label=\"d\",y_label=\"mu\",filename=\"contour_plot_2_2.jpeg\")"
   ]
  },
  {
   "cell_type": "code",
   "execution_count": null,
   "id": "tKwys6pKYU31",
   "metadata": {
    "id": "tKwys6pKYU31"
   },
   "outputs": [],
   "source": [
    "test_2_3=None\n",
    "with open(\"/content/drive/MyDrive/test_2_3.pickle\", 'rb') as handle:\n",
    "    test_2_3 = pickle.load(handle)\n",
    "test_2_3.keys()"
   ]
  },
  {
   "cell_type": "code",
   "execution_count": null,
   "id": "1Dk3He9t3kkn",
   "metadata": {
    "id": "1Dk3He9t3kkn"
   },
   "outputs": [],
   "source": [
    "x,y,z,data = test_2_3[\"d\"],test_2_3[\"lambda\"], test_2_3[\"a\"],test_2_3[\"ARI\"]\n",
    "vals_x = np.unique(x)\n",
    "vals_y = np.unique(y)\n",
    "vals_z = np.unique(z)\n",
    "\"\"\"\n",
    "len(X) == N is the number of columns in data,\n",
    "len(Y) == M is the number of rows in data.\n",
    "len(Z) == P is the depth of data\n",
    "DATA = M x N X P\n",
    "\"\"\"\n",
    "X = np.array(x).reshape(vals_x.shape[0],vals_y.shape[0],vals_z.shape[0])\n",
    "Y = np.array(y).reshape(vals_x.shape[0],vals_y.shape[0],vals_z.shape[0])\n",
    "Z = np.array(z).reshape(vals_x.shape[0],vals_y.shape[0],vals_z.shape[0])\n",
    "data = np.array(data).reshape(vals_x.shape[0],vals_y.shape[0],vals_z.shape[0])\n",
    "x_label=\"d\"\n",
    "y_label=\"lambda\"\n",
    "z_label = \"a\"\n",
    "\n",
    "kw = {\n",
    "        # 'vmin': data.min(),\n",
    "        # 'vmax': data.max()\n",
    "    }\n",
    "\n",
    "# Create a figure with 3D ax\n",
    "fig = plt.figure(figsize=(5, 4))\n",
    "ax = fig.add_subplot(111, projection='3d')\n",
    "\n",
    "# Set limits of the plot from coord limits\n",
    "xmin, xmax = X.min(), X.max()\n",
    "ymin, ymax = Y.min(), Y.max()\n",
    "zmin, zmax = Z.min(), Z.max()\n",
    "ax.set(xlim=[xmin, xmax], ylim=[ymin, ymax], zlim=[zmin, zmax])\n",
    "\n",
    "# Plot contour surfaces\n",
    "    ### This is the X x Y plane for z=zmax\n",
    "_ = ax.contourf(\n",
    "            X[:, :, -1], Y[:, :, -1], data[:, :, -1],\n",
    "            zdir='z', offset=zmax, **kw\n",
    "        )\n",
    "\n",
    "    ### This is the X x Y plane for z=zmin\n",
    "_ = ax.contourf(\n",
    "            X[:, :, 0], Y[:, :, 0], data[:, :, 0],\n",
    "            zdir='z', offset=zmin, **kw\n",
    "        )\n",
    "\n",
    "    ### This is the X x Z plane for y=ymax\n",
    "_ = ax.contourf(\n",
    "            X[-1, :, :], data[-1, :, :], Z[-1, :, :],\n",
    "            zdir='y', offset=ymax, **kw\n",
    "        )\n",
    "\n",
    "    ### This is the X x Z plane for y=ymin\n",
    "_ = ax.contourf(\n",
    "            X[0, :, :], data[0, :, :], Z[0, :, :],\n",
    "            zdir='y', offset=ymin, **kw\n",
    "        )\n",
    "\n",
    "    ### This is the Y x Z plane for x=xmax\n",
    "_ = ax.contourf(\n",
    "            data[:, -1, :], Y[:, -1, :], Z[:, -1, :],\n",
    "            zdir='x', offset=xmax, **kw\n",
    "        )\n",
    "\n",
    "    ### This is the Y x Z plane for x=xmin\n",
    "C = ax.contourf(\n",
    "            data[:, 0, :], Y[:, 0, :], Z[:, 0, :],\n",
    "            zdir='x', offset=xmin, **kw\n",
    "        )\n",
    "\n",
    "\n",
    "# Plot edges\n",
    "edges_kw = dict(color='0.4', linewidth=1,zorder=-1e3)\n",
    "ax.plot([xmax, xmax], [ymin, ymax], zmin, **edges_kw)\n",
    "ax.plot([xmin, xmax], [ymin, ymin], zmin, **edges_kw)\n",
    "ax.plot([xmin, xmax], [ymin, ymin], [zmin, zmax], **edges_kw)\n",
    "\n",
    "# Set labels and zticks\n",
    "ax.set(\n",
    "        xlabel=x_label,\n",
    "        ylabel=y_label,\n",
    "        zlabel=z_label\n",
    "    )\n",
    "\n",
    "# Set zoom and angle view\n",
    "ax.view_init(30, 45, 0)\n",
    "ax.set_box_aspect(None, zoom=0.9)\n",
    "\n",
    "# Colorbar\n",
    "fig.colorbar(C, ax=ax, fraction=0.02, pad=0.1, label='ARI')"
   ]
  },
  {
   "cell_type": "code",
   "execution_count": null,
   "id": "N2yOg0zK6osd",
   "metadata": {
    "id": "N2yOg0zK6osd"
   },
   "outputs": [],
   "source": [
    "fig = plt.figure(figsize=(5, 4))\n",
    "ax = fig.add_subplot(111, projection='3d')\n",
    "ax.set(\n",
    "        xlabel=x_label,\n",
    "        ylabel=y_label,\n",
    "        zlabel=z_label\n",
    "    )\n",
    "C = ax.scatter(xs=X,ys=Y,zs=Z,c=data)\n",
    "fig.colorbar(C, ax=ax, fraction=0.02, pad=0.2, label='ARI')\n",
    "plt.show()"
   ]
  }
 ],
 "metadata": {
  "colab": {
   "gpuType": "V100",
   "provenance": []
  },
  "kernelspec": {
   "display_name": "Python 3 (ipykernel)",
   "language": "python",
   "name": "python3"
  },
  "language_info": {
   "codemirror_mode": {
    "name": "ipython",
    "version": 3
   },
   "file_extension": ".py",
   "mimetype": "text/x-python",
   "name": "python",
   "nbconvert_exporter": "python",
   "pygments_lexer": "ipython3",
   "version": "3.10.12"
  }
 },
 "nbformat": 4,
 "nbformat_minor": 5
}
