{
  "cells": [
    {
      "cell_type": "code",
      "execution_count": 1,
      "id": "fb0e707d",
      "metadata": {
        "id": "fb0e707d"
      },
      "outputs": [
        {
          "name": "stderr",
          "output_type": "stream",
          "text": [
            "'rm' n�o � reconhecido como um comando interno\n",
            "ou externo, um programa oper�vel ou um arquivo em lotes.\n",
            "'rm' n�o � reconhecido como um comando interno\n",
            "ou externo, um programa oper�vel ou um arquivo em lotes.\n",
            "'rm' n�o � reconhecido como um comando interno\n",
            "ou externo, um programa oper�vel ou um arquivo em lotes.\n"
          ]
        }
      ],
      "source": [
        "path = \"./data/Benchmark/\"\n",
        "path_to_att_sbm = \"./AttributedSBM/FitAttribute.R\"\n",
        "!rm -rf \"./AttributedSBM\"\n",
        "!rm -rf \"./CSBM\"\n",
        "!rm -rf \"./data\""
      ]
    },
    {
      "cell_type": "code",
      "execution_count": 2,
      "id": "592147b7",
      "metadata": {
        "colab": {
          "base_uri": "https://localhost:8080/"
        },
        "id": "592147b7",
        "outputId": "e5b32ebb-43a1-4412-f6b4-e540d9dbc61f"
      },
      "outputs": [
        {
          "name": "stdout",
          "output_type": "stream",
          "text": [
            "Requirement already satisfied: torch_geometric in c:\\users\\schre\\anaconda3\\lib\\site-packages (2.3.0)\n",
            "Requirement already satisfied: psutil>=5.8.0 in c:\\users\\schre\\anaconda3\\lib\\site-packages (from torch_geometric) (5.8.0)\n",
            "Requirement already satisfied: pyparsing in c:\\users\\schre\\anaconda3\\lib\\site-packages (from torch_geometric) (3.0.4)\n",
            "Requirement already satisfied: scipy in c:\\users\\schre\\anaconda3\\lib\\site-packages (from torch_geometric) (1.7.1)\n",
            "Requirement already satisfied: jinja2 in c:\\users\\schre\\anaconda3\\lib\\site-packages (from torch_geometric) (2.11.3)\n",
            "Requirement already satisfied: tqdm in c:\\users\\schre\\anaconda3\\lib\\site-packages (from torch_geometric) (4.62.3)\n",
            "Requirement already satisfied: requests in c:\\users\\schre\\anaconda3\\lib\\site-packages (from torch_geometric) (2.26.0)\n",
            "Requirement already satisfied: numpy in c:\\users\\schre\\anaconda3\\lib\\site-packages (from torch_geometric) (1.20.3)\n",
            "Requirement already satisfied: scikit-learn in c:\\users\\schre\\anaconda3\\lib\\site-packages (from torch_geometric) (0.24.2)\n",
            "Requirement already satisfied: MarkupSafe>=0.23 in c:\\users\\schre\\anaconda3\\lib\\site-packages (from jinja2->torch_geometric) (1.1.1)\n",
            "Requirement already satisfied: urllib3<1.27,>=1.21.1 in c:\\users\\schre\\anaconda3\\lib\\site-packages (from requests->torch_geometric) (1.26.7)\n",
            "Requirement already satisfied: idna<4,>=2.5 in c:\\users\\schre\\anaconda3\\lib\\site-packages (from requests->torch_geometric) (3.2)\n",
            "Requirement already satisfied: charset-normalizer~=2.0.0 in c:\\users\\schre\\anaconda3\\lib\\site-packages (from requests->torch_geometric) (2.0.4)\n",
            "Requirement already satisfied: certifi>=2017.4.17 in c:\\users\\schre\\anaconda3\\lib\\site-packages (from requests->torch_geometric) (2021.10.8)\n",
            "Requirement already satisfied: joblib>=0.11 in c:\\users\\schre\\anaconda3\\lib\\site-packages (from scikit-learn->torch_geometric) (1.1.0)\n",
            "Requirement already satisfied: threadpoolctl>=2.0.0 in c:\\users\\schre\\anaconda3\\lib\\site-packages (from scikit-learn->torch_geometric) (2.2.0)\n",
            "Requirement already satisfied: colorama in c:\\users\\schre\\anaconda3\\lib\\site-packages (from tqdm->torch_geometric) (0.4.4)\n",
            "Requirement already satisfied: rpy2 in c:\\users\\schre\\anaconda3\\lib\\site-packages (3.5.10)\n",
            "Requirement already satisfied: cffi>=1.10.0 in c:\\users\\schre\\anaconda3\\lib\\site-packages (from rpy2) (1.14.6)\n",
            "Requirement already satisfied: pytz in c:\\users\\schre\\anaconda3\\lib\\site-packages (from rpy2) (2021.3)\n",
            "Requirement already satisfied: packaging in c:\\users\\schre\\anaconda3\\lib\\site-packages (from rpy2) (21.0)\n",
            "Requirement already satisfied: tzlocal in c:\\users\\schre\\anaconda3\\lib\\site-packages (from rpy2) (4.3)\n",
            "Requirement already satisfied: jinja2 in c:\\users\\schre\\anaconda3\\lib\\site-packages (from rpy2) (2.11.3)\n",
            "Requirement already satisfied: pycparser in c:\\users\\schre\\anaconda3\\lib\\site-packages (from cffi>=1.10.0->rpy2) (2.20)\n",
            "Requirement already satisfied: MarkupSafe>=0.23 in c:\\users\\schre\\anaconda3\\lib\\site-packages (from jinja2->rpy2) (1.1.1)\n",
            "Requirement already satisfied: pyparsing>=2.0.2 in c:\\users\\schre\\anaconda3\\lib\\site-packages (from packaging->rpy2) (3.0.4)\n",
            "Requirement already satisfied: pytz-deprecation-shim in c:\\users\\schre\\anaconda3\\lib\\site-packages (from tzlocal->rpy2) (0.1.0.post0)\n",
            "Requirement already satisfied: tzdata in c:\\users\\schre\\anaconda3\\lib\\site-packages (from tzlocal->rpy2) (2023.3)\n"
          ]
        },
        {
          "name": "stderr",
          "output_type": "stream",
          "text": [
            "fatal: destination path 'CSBM' already exists and is not an empty directory.\n",
            "fatal: destination path 'AttributedSBM' already exists and is not an empty directory.\n"
          ]
        },
        {
          "name": "stdout",
          "output_type": "stream",
          "text": [
            "Collecting git+https://github.com/FelipeSchreiber/BregmanClustering.git\n",
            "  Cloning https://github.com/FelipeSchreiber/BregmanClustering.git to c:\\users\\schre\\appdata\\local\\temp\\pip-req-build-8pqc1753\n",
            "  Resolved https://github.com/FelipeSchreiber/BregmanClustering.git to commit 022035b7a903a238fc6b96fbccb0f3b9a8cc2b98\n",
            "Building wheels for collected packages: bregClust\n",
            "  Building wheel for bregClust (setup.py): started\n",
            "  Building wheel for bregClust (setup.py): finished with status 'done'\n",
            "  Created wheel for bregClust: filename=bregClust-0.1-py3-none-any.whl size=14824 sha256=c4f0b93936c9e7bcca0d1316866dda2408413652c0fc2182f3a2023557569f9c\n",
            "  Stored in directory: C:\\Users\\schre\\AppData\\Local\\Temp\\pip-ephem-wheel-cache-e37m7iln\\wheels\\6f\\8f\\ab\\2faa84d8b9fad58989d72cda12225f6191888313b2d42f6ad5\n",
            "Successfully built bregClust\n",
            "Installing collected packages: bregClust\n"
          ]
        },
        {
          "name": "stderr",
          "output_type": "stream",
          "text": [
            "  Running command git clone -q https://github.com/FelipeSchreiber/BregmanClustering.git 'C:\\Users\\schre\\AppData\\Local\\Temp\\pip-req-build-8pqc1753'\n"
          ]
        },
        {
          "name": "stdout",
          "output_type": "stream",
          "text": [
            "  Attempting uninstall: bregClust\n",
            "    Found existing installation: bregClust 0.1\n",
            "    Uninstalling bregClust-0.1:\n",
            "      Successfully uninstalled bregClust-0.1\n",
            "Successfully installed bregClust-0.1\n"
          ]
        }
      ],
      "source": [
        "!pip install torch_geometric\n",
        "!pip install rpy2\n",
        "!git clone https://github.com/glmbraun/CSBM/\n",
        "!git clone https://github.com/stanleyn/AttributedSBM.git\n",
        "!pip install --upgrade --force-reinstall git+https://github.com/FelipeSchreiber/BregmanClustering.git"
      ]
    },
    {
      "cell_type": "code",
      "execution_count": 3,
      "id": "aa53df9d",
      "metadata": {
        "id": "aa53df9d"
      },
      "outputs": [],
      "source": [
        "import fileinput\n",
        "def modify_att_sbm(path):\n",
        "    for i,line in enumerate(fileinput.input(path, inplace=True)):\n",
        "        if i == 0: \n",
        "            print(f'{line.replace(\")\",\",kmeansinit)\")}', end='')\n",
        "        elif i ==  27:\n",
        "            print(f'#{line}', end='')\n",
        "        else:\n",
        "            print(line)\n",
        "\n",
        "def modify_csbm(path):\n",
        "    for i,line in enumerate(fileinput.input(path, inplace=True)):\n",
        "        if \"306\" in line: \n",
        "            print(f'{line.replace(\"306\",\"n\")}')\n",
        "        else:\n",
        "            print(line)\n",
        "modify_csbm(\"./CSBM/Python/functions.py\")\n",
        "modify_att_sbm(path_to_att_sbm)"
      ]
    },
    {
      "cell_type": "code",
      "execution_count": 4,
      "id": "9ff28023",
      "metadata": {
        "id": "9ff28023"
      },
      "outputs": [
        {
          "name": "stderr",
          "output_type": "stream",
          "text": [
            "R[write to console]: Installing packages into 'C:/Users/schre/AppData/Local/R/win-library/4.2'\n",
            "(as 'lib' is unspecified)\n",
            "\n"
          ]
        },
        {
          "name": "stdout",
          "output_type": "stream",
          "text": [
            "--- Please select a CRAN mirror for use in this session ---\n"
          ]
        },
        {
          "name": "stderr",
          "output_type": "stream",
          "text": [
            "R[write to console]: also installing the dependencies 'pkgconfig', 'Rcpp', 'RcppTOML', 'here', 'png', 'rappdirs'\n",
            "\n",
            "\n",
            "R[write to console]: trying URL 'https://brieger.esalq.usp.br/CRAN/bin/windows/contrib/4.2/pkgconfig_2.0.3.zip'\n",
            "\n",
            "R[write to console]: Content type 'application/zip'\n",
            "R[write to console]:  length 22374 bytes (21 KB)\n",
            "\n",
            "R[write to console]: downloaded 21 KB\n",
            "\n",
            "\n",
            "R[write to console]: trying URL 'https://brieger.esalq.usp.br/CRAN/bin/windows/contrib/4.2/Rcpp_1.0.10.zip'\n",
            "\n",
            "R[write to console]: Content type 'application/zip'\n",
            "R[write to console]:  length 2812942 bytes (2.7 MB)\n",
            "\n",
            "R[write to console]: downloaded 2.7 MB\n",
            "\n",
            "\n",
            "R[write to console]: trying URL 'https://brieger.esalq.usp.br/CRAN/bin/windows/contrib/4.2/RcppTOML_0.2.2.zip'\n",
            "\n",
            "R[write to console]: Content type 'application/zip'\n",
            "R[write to console]:  length 597481 bytes (583 KB)\n",
            "\n",
            "R[write to console]: downloaded 583 KB\n",
            "\n",
            "\n",
            "R[write to console]: trying URL 'https://brieger.esalq.usp.br/CRAN/bin/windows/contrib/4.2/here_1.0.1.zip'\n",
            "\n",
            "R[write to console]: Content type 'application/zip'\n",
            "R[write to console]:  length 64112 bytes (62 KB)\n",
            "\n",
            "R[write to console]: downloaded 62 KB\n",
            "\n",
            "\n",
            "R[write to console]: trying URL 'https://brieger.esalq.usp.br/CRAN/bin/windows/contrib/4.2/png_0.1-8.zip'\n",
            "\n",
            "R[write to console]: Content type 'application/zip'\n",
            "R[write to console]:  length 190849 bytes (186 KB)\n",
            "\n",
            "R[write to console]: downloaded 186 KB\n",
            "\n",
            "\n",
            "R[write to console]: trying URL 'https://brieger.esalq.usp.br/CRAN/bin/windows/contrib/4.2/rappdirs_0.3.3.zip'\n",
            "\n",
            "R[write to console]: Content type 'application/zip'\n",
            "R[write to console]:  length 51331 bytes (50 KB)\n",
            "\n",
            "R[write to console]: downloaded 50 KB\n",
            "\n",
            "\n",
            "R[write to console]: trying URL 'https://brieger.esalq.usp.br/CRAN/bin/windows/contrib/4.2/igraph_1.4.1.zip'\n",
            "\n",
            "R[write to console]: Content type 'application/zip'\n",
            "R[write to console]:  length 6406262 bytes (6.1 MB)\n",
            "\n",
            "R[write to console]: downloaded 6.1 MB\n",
            "\n",
            "\n",
            "R[write to console]: trying URL 'https://brieger.esalq.usp.br/CRAN/bin/windows/contrib/4.2/reticulate_1.28.zip'\n",
            "\n",
            "R[write to console]: Content type 'application/zip'\n",
            "R[write to console]:  length 2066469 bytes (2.0 MB)\n",
            "\n",
            "R[write to console]: downloaded 2.0 MB\n",
            "\n",
            "\n",
            "R[write to console]: trying URL 'https://brieger.esalq.usp.br/CRAN/bin/windows/contrib/4.2/mvtnorm_1.1-3.zip'\n",
            "\n",
            "R[write to console]: Content type 'application/zip'\n",
            "R[write to console]:  length 233544 bytes (228 KB)\n",
            "\n",
            "R[write to console]: downloaded 228 KB\n",
            "\n",
            "\n"
          ]
        },
        {
          "name": "stdout",
          "output_type": "stream",
          "text": [
            "package 'pkgconfig' successfully unpacked and MD5 sums checked\n",
            "package 'Rcpp' successfully unpacked and MD5 sums checked\n",
            "package 'RcppTOML' successfully unpacked and MD5 sums checked\n",
            "package 'here' successfully unpacked and MD5 sums checked\n",
            "package 'png' successfully unpacked and MD5 sums checked\n",
            "package 'rappdirs' successfully unpacked and MD5 sums checked\n",
            "package 'igraph' successfully unpacked and MD5 sums checked\n",
            "package 'reticulate' successfully unpacked and MD5 sums checked\n",
            "package 'mvtnorm' successfully unpacked and MD5 sums checked\n",
            "\n",
            "The downloaded binary packages are in\n",
            "\tC:\\Users\\schre\\AppData\\Local\\Temp\\RtmpEl1pwP\\downloaded_packages\n"
          ]
        },
        {
          "data": {
            "text/plain": [
              "<rpy2.rinterface_lib.sexp.NULLType object at 0x0000017871B7E440> [RTYPES.NILSXP]"
            ]
          },
          "execution_count": 4,
          "metadata": {},
          "output_type": "execute_result"
        }
      ],
      "source": [
        "%matplotlib inline\n",
        "from BregmanClustering.WSBM import *\n",
        "from copy import deepcopy\n",
        "from sklearn.metrics import adjusted_rand_score, calinski_harabasz_score, normalized_mutual_info_score, accuracy_score\n",
        "#from signet.cluster import Cluster\n",
        "from sklearn.manifold import spectral_embedding,SpectralEmbedding\n",
        "import scipy.sparse as ss\n",
        "import pandas as pd\n",
        "import matplotlib\n",
        "import matplotlib.pyplot as plt\n",
        "from sklearn.preprocessing import StandardScaler,MinMaxScaler\n",
        "from sklearn.mixture import GaussianMixture\n",
        "from sklearn.metrics.pairwise import pairwise_kernels\n",
        "import sys\n",
        "from CSBM.Python.functions import *\n",
        "import os\n",
        "import warnings\n",
        "from BregmanClustering import models\n",
        "from BregmanClustering.models import SoftBregmanNodeAttributeGraphClustering as VEMbreg\n",
        "from BregmanClusteringTorch.torch_models import SoftBregmanClusteringTorch as torchBreg\n",
        "import rpy2.robjects as robjects\n",
        "import subprocess\n",
        "warnings.filterwarnings(\"ignore\")\n",
        "robjects.r(\n",
        "    \"\"\"\n",
        "    install.packages(c(\"igraph\", \"reticulate\",\"mvtnorm\"))\n",
        "    \"\"\"\n",
        ")"
      ]
    },
    {
      "cell_type": "code",
      "execution_count": 5,
      "id": "31fa08e4",
      "metadata": {
        "id": "31fa08e4"
      },
      "outputs": [],
      "source": [
        "#!/usr/bin/env python3\n",
        "# -*- coding: utf-8 -*-\n",
        "\"\"\"\n",
        "Created on Fri Feb 17 17:08:00 2023\n",
        "\n",
        "@author: maximilien, Felipe Schreiber\n",
        "\"\"\"\n",
        "from tqdm import tqdm\n",
        "\n",
        "SIZE_TITLE = 24\n",
        "SIZE_LABELS = 24\n",
        "SIZE_TICKS = 18\n",
        "SIZE_LEGEND = 18\n",
        "\n",
        "def unitRootCoordinates( d = 2, r=1 ):\n",
        "    coordinates = []\n",
        "    for k in range( d ):\n",
        "        coordinates.append( [ r*np.cos(2*k*np.pi / d ), r*np.sin( 2*k*np.pi / d ) ])\n",
        "    return coordinates\n",
        "\n",
        "def generateData( sizes, p, mu ):\n",
        "    n = sum( sizes )\n",
        "    n_clusters = len( sizes )\n",
        "    d = len( mu[0] )\n",
        "    \n",
        "    labels_true = [ ]\n",
        "    for k in range( n_clusters ):\n",
        "        labels_true += [ k for i in range( sizes[ k ] ) ]\n",
        "    labels_true = np.asarray( labels_true, dtype = int )\n",
        "\n",
        "    G = nx.stochastic_block_model( sizes, p )\n",
        "    X = nx.adjacency_matrix( G ).todense()\n",
        "    \n",
        "    Y = np.zeros( ( n,d ) )\n",
        "    for i in range( n ):\n",
        "        Y[i,:] = np.random.normal( loc = mu[ labels_true[i] ] )\n",
        "    return np.asarray(X), Y, labels_true\n",
        "\n",
        "\n",
        "def plotting( x, curves, labels, xticks,\n",
        "             curves_std = None,\n",
        "             legendTitle = '', figTitle = '',\n",
        "             xlabel = 'a', ylabel = 'ARI',\n",
        "             saveFig = False, fileName = 'fig.eps'):\n",
        "    \n",
        "    if len( curves ) != len( labels ):\n",
        "        raise TypeError( 'The number of labels is different from the number of curves' )\n",
        "    \n",
        "    if curves_std == None:\n",
        "        for i in range( len( labels) ):\n",
        "            plt.plot( x, curves[i], label = labels[i])\n",
        "    else:\n",
        "        for i in range( len( labels) ):\n",
        "            plt.errorbar( x, curves[ i ], yerr = curves_std[ i ], linestyle = '-.', label = labels[ i ] )\n",
        "\n",
        "    \n",
        "    legend = plt.legend( title = legendTitle, loc=4,  fancybox=True, fontsize= SIZE_LEGEND )\n",
        "    plt.setp( legend.get_title(),fontsize= SIZE_LEGEND )\n",
        "    plt.xlabel( xlabel, fontsize = SIZE_LABELS )\n",
        "    plt.ylabel( ylabel, fontsize = SIZE_LABELS )\n",
        "    plt.xticks( xticks, fontsize = SIZE_TICKS )\n",
        "    plt.yticks( fontsize = SIZE_TICKS )\n",
        "    plt.title( figTitle, fontsize = SIZE_TITLE )\n",
        "    if saveFig:\n",
        "        plt.savefig( fileName, format = 'eps', bbox_inches = 'tight' )\n",
        "\n",
        "#Somehow some errors message sometimes arises such as \n",
        "#RuntimeWarning: divide by zero encountered in log\n",
        "#But this shouldn be a problem"
      ]
    },
    {
      "cell_type": "code",
      "execution_count": 6,
      "id": "0dbd1e34",
      "metadata": {
        "id": "0dbd1e34"
      },
      "outputs": [],
      "source": [
        "c = 3\n",
        "n = 100\n",
        "N = c*n\n",
        "delta = 10\n",
        "d = 2\n",
        "dim = c*d\n",
        "P = np.array([[0.8, 0.2, 0.3],[0.2, 0.7, 0.4],[0.3, 0.4, 0.6]])\n",
        "true_labels = [0]*n + [1]*n + [2]*n"
      ]
    },
    {
      "cell_type": "code",
      "execution_count": 7,
      "id": "d2ad4db3",
      "metadata": {
        "id": "d2ad4db3"
      },
      "outputs": [],
      "source": [
        "X,Y = BregmanBenchmark(P,[n]*c,1,10,dims=2,weight_variance=0.01,att_variance=0.1,\\\n",
        "                       weight_distribution=\"logistic\",attributes_distribution=\"logistic\").generate_benchmark_WSBM()\n",
        "A = (X != 0).astype(int)"
      ]
    },
    {
      "cell_type": "code",
      "execution_count": 8,
      "id": "8e505252",
      "metadata": {
        "colab": {
          "base_uri": "https://localhost:8080/"
        },
        "id": "8e505252",
        "outputId": "5bc26f42-22e1-455d-e902-663e1d7c761c"
      },
      "outputs": [
        {
          "data": {
            "text/plain": [
              "array([[0.        , 0.98322558, 1.04422768, ..., 0.        , 4.68411671,\n",
              "        0.        ],\n",
              "       [0.98322558, 0.        , 0.        , ..., 0.        , 0.        ,\n",
              "        0.        ],\n",
              "       [1.04422768, 0.        , 0.        , ..., 4.65242139, 0.        ,\n",
              "        4.50848463],\n",
              "       ...,\n",
              "       [0.        , 0.        , 4.65242139, ..., 0.        , 0.        ,\n",
              "        9.92430272],\n",
              "       [4.68411671, 0.        , 0.        , ..., 0.        , 0.        ,\n",
              "        9.95828969],\n",
              "       [0.        , 0.        , 4.50848463, ..., 9.92430272, 9.95828969,\n",
              "        0.        ]])"
            ]
          },
          "execution_count": 8,
          "metadata": {},
          "output_type": "execute_result"
        }
      ],
      "source": [
        "X"
      ]
    },
    {
      "cell_type": "code",
      "execution_count": 9,
      "id": "360bfa70",
      "metadata": {
        "colab": {
          "base_uri": "https://localhost:8080/",
          "height": 447
        },
        "id": "360bfa70",
        "outputId": "410c885e-8db5-436d-cc53-370cb0b0528f"
      },
      "outputs": [
        {
          "data": {
            "text/plain": [
              "<matplotlib.collections.PathCollection at 0x1787b70b490>"
            ]
          },
          "execution_count": 9,
          "metadata": {},
          "output_type": "execute_result"
        },
        {
          "data": {
            "image/png": "[encoded data removed]",
            "text/plain": [
              "<Figure size 432x288 with 1 Axes>"
            ]
          },
          "metadata": {
            "needs_background": "light"
          },
          "output_type": "display_data"
        }
      ],
      "source": [
        "plt.scatter(Y[:,0],Y[:,1],c=true_labels)"
      ]
    },
    {
      "cell_type": "code",
      "execution_count": 10,
      "id": "d13df589",
      "metadata": {
        "colab": {
          "base_uri": "https://localhost:8080/"
        },
        "id": "d13df589",
        "outputId": "1ce43694-b9a9-4af1-f2e0-469dc86736b8"
      },
      "outputs": [
        {
          "name": "stdout",
          "output_type": "stream",
          "text": [
            "1.0 1.0\n"
          ]
        }
      ],
      "source": [
        "def get_spectral_decomposition(A,k):\n",
        "    if (A<0).any():\n",
        "        A = pairwise_kernels(A,metric='rbf')\n",
        "    U = SpectralEmbedding(n_components=k,affinity=\"precomputed\").fit_transform(A)\n",
        "    return U\n",
        "def spectral(A,k):\n",
        "    U = get_spectral_decomposition(A,k)\n",
        "    return GaussianMixture(n_components=k).fit_predict(U.real)\n",
        "pred_labels = spectral(X.copy(),c)\n",
        "print(adjusted_rand_score(true_labels, pred_labels),normalized_mutual_info_score(true_labels, pred_labels))"
      ]
    },
    {
      "cell_type": "code",
      "execution_count": 11,
      "id": "189cbdb7",
      "metadata": {
        "colab": {
          "base_uri": "https://localhost:8080/"
        },
        "id": "189cbdb7",
        "outputId": "6c47ada0-af2c-49fd-a597-97d3dc60ddb1"
      },
      "outputs": [
        {
          "name": "stdout",
          "output_type": "stream",
          "text": [
            "0.9601360446191876 0.9362058974566217\n"
          ]
        }
      ],
      "source": [
        "pred_labels = GaussianMixture(n_components=c).fit_predict(Y.copy())\n",
        "print(adjusted_rand_score(true_labels, pred_labels),normalized_mutual_info_score(true_labels, pred_labels))"
      ]
    },
    {
      "cell_type": "code",
      "execution_count": 12,
      "id": "e5f446f8",
      "metadata": {
        "colab": {
          "base_uri": "https://localhost:8080/"
        },
        "id": "e5f446f8",
        "outputId": "0c09a8ff-7144-421f-aa04-34608928ce7e"
      },
      "outputs": [
        {
          "name": "stdout",
          "output_type": "stream",
          "text": [
            "Initialisation chosen from the graph\n",
            "0\n",
            "1.0 1.0\n"
          ]
        }
      ],
      "source": [
        "model = torchBreg(n_clusters=c,normalize_=True,thresholding=True)\n",
        "model.fit(A, Y)\n",
        "z_pred_both = model.predict(A,Y)\n",
        "print(adjusted_rand_score(true_labels, z_pred_both),normalized_mutual_info_score(true_labels, z_pred_both))"
      ]
    },
    {
      "cell_type": "code",
      "execution_count": 13,
      "id": "9e151220",
      "metadata": {
        "colab": {
          "base_uri": "https://localhost:8080/",
          "height": 608
        },
        "id": "9e151220",
        "outputId": "d014c855-bd61-4723-9db9-c78b00aa5670",
        "scrolled": true
      },
      "outputs": [
        {
          "name": "stderr",
          "output_type": "stream",
          "text": [
            "  0%|          | 0/6 [00:00<?, ?it/s]"
          ]
        },
        {
          "name": "stdout",
          "output_type": "stream",
          "text": [
            "Initialisation chosen from the graph\n",
            "Initialisation chosen from the graph\n",
            "number of iterations :  25\n",
            "Initialisation chosen from the graph\n",
            "number of iterations :  25\n",
            "Initialisation chosen from the graph\n",
            "0\n",
            "1\n",
            "\n",
            "            source(\"run_AttSBM.r\")\n",
            "            run_AttSBM(./data/Benchmark/a/8/r/0/att_0.npy,./data/Benchmark/a/8/r/0/net_0.npy,./data/Benchmark/a/8/r/0/z_init_0.npy)\n",
            "\n",
            "    WARNING: The R package \"reticulate\" only fixed recently\n",
            "    an issue that caused a segfault when used with rpy2:\n",
            "    https://github.com/rstudio/reticulate/pull/1188\n",
            "    Make sure that you use a version of that package that includes\n",
            "    the fix.\n",
            "    "
          ]
        },
        {
          "name": "stderr",
          "output_type": "stream",
          "text": [
            "R[write to console]: Error in file(filename, \"r\", encoding = encoding) : \n",
            "  cannot open the connection\n",
            "\n",
            "R[write to console]: In addition: \n",
            "R[write to console]: Warning messages:\n",
            "\n",
            "R[write to console]: 1: package 'reticulate' was built under R version 4.2.3 \n",
            "\n",
            "R[write to console]: 2: \n",
            "R[write to console]: In file(filename, \"r\", encoding = encoding) :\n",
            "R[write to console]: \n",
            " \n",
            "R[write to console]:  cannot open file '../AttributedSBM/FitAttribute.R': No such file or directory\n",
            "\n",
            "  0%|          | 0/6 [00:06<?, ?it/s]\n"
          ]
        },
        {
          "ename": "RRuntimeError",
          "evalue": "Error in file(filename, \"r\", encoding = encoding) : \n  cannot open the connection\n",
          "output_type": "error",
          "traceback": [
            "\u001b[1;31m---------------------------------------------------------------------------\u001b[0m",
            "\u001b[1;31mRRuntimeError\u001b[0m                             Traceback (most recent call last)",
            "\u001b[1;32m~\\AppData\\Local\\Temp/ipykernel_45284/1147956840.py\u001b[0m in \u001b[0;36m<module>\u001b[1;34m\u001b[0m\n\u001b[0;32m    116\u001b[0m             run_AttSBM({path_}att_{trial}.npy,{path_}net_{trial}.npy,{path_}z_init_{trial}.npy)\"\"\"\n\u001b[0;32m    117\u001b[0m             \u001b[0mprint\u001b[0m\u001b[1;33m(\u001b[0m\u001b[0mr_code\u001b[0m\u001b[1;33m)\u001b[0m\u001b[1;33m\u001b[0m\u001b[1;33m\u001b[0m\u001b[0m\n\u001b[1;32m--> 118\u001b[1;33m             \u001b[0mrobjects\u001b[0m\u001b[1;33m.\u001b[0m\u001b[0mr\u001b[0m\u001b[1;33m(\u001b[0m\u001b[0mr_code\u001b[0m\u001b[1;33m)\u001b[0m\u001b[1;33m\u001b[0m\u001b[1;33m\u001b[0m\u001b[0m\n\u001b[0m\u001b[0;32m    119\u001b[0m \u001b[1;33m\u001b[0m\u001b[0m\n\u001b[0;32m    120\u001b[0m             \u001b[0mattSBMPred\u001b[0m \u001b[1;33m=\u001b[0m \u001b[0mnp\u001b[0m\u001b[1;33m.\u001b[0m\u001b[0mload\u001b[0m\u001b[1;33m(\u001b[0m\u001b[1;34m\"predict.npy\"\u001b[0m\u001b[1;33m)\u001b[0m\u001b[1;33m\u001b[0m\u001b[1;33m\u001b[0m\u001b[0m\n",
            "\u001b[1;32mc:\\Users\\schre\\anaconda3\\lib\\site-packages\\rpy2\\robjects\\__init__.py\u001b[0m in \u001b[0;36m__call__\u001b[1;34m(self, string)\u001b[0m\n\u001b[0;32m    457\u001b[0m     \u001b[1;32mdef\u001b[0m \u001b[0m__call__\u001b[0m\u001b[1;33m(\u001b[0m\u001b[0mself\u001b[0m\u001b[1;33m,\u001b[0m \u001b[0mstring\u001b[0m\u001b[1;33m)\u001b[0m\u001b[1;33m:\u001b[0m\u001b[1;33m\u001b[0m\u001b[1;33m\u001b[0m\u001b[0m\n\u001b[0;32m    458\u001b[0m         \u001b[0mp\u001b[0m \u001b[1;33m=\u001b[0m \u001b[0mrinterface\u001b[0m\u001b[1;33m.\u001b[0m\u001b[0mparse\u001b[0m\u001b[1;33m(\u001b[0m\u001b[0mstring\u001b[0m\u001b[1;33m)\u001b[0m\u001b[1;33m\u001b[0m\u001b[1;33m\u001b[0m\u001b[0m\n\u001b[1;32m--> 459\u001b[1;33m         \u001b[0mres\u001b[0m \u001b[1;33m=\u001b[0m \u001b[0mself\u001b[0m\u001b[1;33m.\u001b[0m\u001b[0meval\u001b[0m\u001b[1;33m(\u001b[0m\u001b[0mp\u001b[0m\u001b[1;33m)\u001b[0m\u001b[1;33m\u001b[0m\u001b[1;33m\u001b[0m\u001b[0m\n\u001b[0m\u001b[0;32m    460\u001b[0m         \u001b[1;32mreturn\u001b[0m \u001b[0mconversion\u001b[0m\u001b[1;33m.\u001b[0m\u001b[0mget_conversion\u001b[0m\u001b[1;33m(\u001b[0m\u001b[1;33m)\u001b[0m\u001b[1;33m.\u001b[0m\u001b[0mrpy2py\u001b[0m\u001b[1;33m(\u001b[0m\u001b[0mres\u001b[0m\u001b[1;33m)\u001b[0m\u001b[1;33m\u001b[0m\u001b[1;33m\u001b[0m\u001b[0m\n\u001b[0;32m    461\u001b[0m \u001b[1;33m\u001b[0m\u001b[0m\n",
            "\u001b[1;32mc:\\Users\\schre\\anaconda3\\lib\\site-packages\\rpy2\\robjects\\functions.py\u001b[0m in \u001b[0;36m__call__\u001b[1;34m(self, *args, **kwargs)\u001b[0m\n\u001b[0;32m    206\u001b[0m                 \u001b[0mv\u001b[0m \u001b[1;33m=\u001b[0m \u001b[0mkwargs\u001b[0m\u001b[1;33m.\u001b[0m\u001b[0mpop\u001b[0m\u001b[1;33m(\u001b[0m\u001b[0mk\u001b[0m\u001b[1;33m)\u001b[0m\u001b[1;33m\u001b[0m\u001b[1;33m\u001b[0m\u001b[0m\n\u001b[0;32m    207\u001b[0m                 \u001b[0mkwargs\u001b[0m\u001b[1;33m[\u001b[0m\u001b[0mr_k\u001b[0m\u001b[1;33m]\u001b[0m \u001b[1;33m=\u001b[0m \u001b[0mv\u001b[0m\u001b[1;33m\u001b[0m\u001b[1;33m\u001b[0m\u001b[0m\n\u001b[1;32m--> 208\u001b[1;33m         return (super(SignatureTranslatedFunction, self)\n\u001b[0m\u001b[0;32m    209\u001b[0m                 .__call__(*args, **kwargs))\n\u001b[0;32m    210\u001b[0m \u001b[1;33m\u001b[0m\u001b[0m\n",
            "\u001b[1;32mc:\\Users\\schre\\anaconda3\\lib\\site-packages\\rpy2\\robjects\\functions.py\u001b[0m in \u001b[0;36m__call__\u001b[1;34m(self, *args, **kwargs)\u001b[0m\n\u001b[0;32m    129\u001b[0m             \u001b[1;32melse\u001b[0m\u001b[1;33m:\u001b[0m\u001b[1;33m\u001b[0m\u001b[1;33m\u001b[0m\u001b[0m\n\u001b[0;32m    130\u001b[0m                 \u001b[0mnew_kwargs\u001b[0m\u001b[1;33m[\u001b[0m\u001b[0mk\u001b[0m\u001b[1;33m]\u001b[0m \u001b[1;33m=\u001b[0m \u001b[0mcv\u001b[0m\u001b[1;33m.\u001b[0m\u001b[0mpy2rpy\u001b[0m\u001b[1;33m(\u001b[0m\u001b[0mv\u001b[0m\u001b[1;33m)\u001b[0m\u001b[1;33m\u001b[0m\u001b[1;33m\u001b[0m\u001b[0m\n\u001b[1;32m--> 131\u001b[1;33m         \u001b[0mres\u001b[0m \u001b[1;33m=\u001b[0m \u001b[0msuper\u001b[0m\u001b[1;33m(\u001b[0m\u001b[0mFunction\u001b[0m\u001b[1;33m,\u001b[0m \u001b[0mself\u001b[0m\u001b[1;33m)\u001b[0m\u001b[1;33m.\u001b[0m\u001b[0m__call__\u001b[0m\u001b[1;33m(\u001b[0m\u001b[1;33m*\u001b[0m\u001b[0mnew_args\u001b[0m\u001b[1;33m,\u001b[0m \u001b[1;33m**\u001b[0m\u001b[0mnew_kwargs\u001b[0m\u001b[1;33m)\u001b[0m\u001b[1;33m\u001b[0m\u001b[1;33m\u001b[0m\u001b[0m\n\u001b[0m\u001b[0;32m    132\u001b[0m         \u001b[0mres\u001b[0m \u001b[1;33m=\u001b[0m \u001b[0mcv\u001b[0m\u001b[1;33m.\u001b[0m\u001b[0mrpy2py\u001b[0m\u001b[1;33m(\u001b[0m\u001b[0mres\u001b[0m\u001b[1;33m)\u001b[0m\u001b[1;33m\u001b[0m\u001b[1;33m\u001b[0m\u001b[0m\n\u001b[0;32m    133\u001b[0m         \u001b[1;32mreturn\u001b[0m \u001b[0mres\u001b[0m\u001b[1;33m\u001b[0m\u001b[1;33m\u001b[0m\u001b[0m\n",
            "\u001b[1;32mc:\\Users\\schre\\anaconda3\\lib\\site-packages\\rpy2\\rinterface_lib\\conversion.py\u001b[0m in \u001b[0;36m_\u001b[1;34m(*args, **kwargs)\u001b[0m\n\u001b[0;32m     43\u001b[0m \u001b[1;32mdef\u001b[0m \u001b[0m_cdata_res_to_rinterface\u001b[0m\u001b[1;33m(\u001b[0m\u001b[0mfunction\u001b[0m\u001b[1;33m)\u001b[0m\u001b[1;33m:\u001b[0m\u001b[1;33m\u001b[0m\u001b[1;33m\u001b[0m\u001b[0m\n\u001b[0;32m     44\u001b[0m     \u001b[1;32mdef\u001b[0m \u001b[0m_\u001b[0m\u001b[1;33m(\u001b[0m\u001b[1;33m*\u001b[0m\u001b[0margs\u001b[0m\u001b[1;33m,\u001b[0m \u001b[1;33m**\u001b[0m\u001b[0mkwargs\u001b[0m\u001b[1;33m)\u001b[0m\u001b[1;33m:\u001b[0m\u001b[1;33m\u001b[0m\u001b[1;33m\u001b[0m\u001b[0m\n\u001b[1;32m---> 45\u001b[1;33m         \u001b[0mcdata\u001b[0m \u001b[1;33m=\u001b[0m \u001b[0mfunction\u001b[0m\u001b[1;33m(\u001b[0m\u001b[1;33m*\u001b[0m\u001b[0margs\u001b[0m\u001b[1;33m,\u001b[0m \u001b[1;33m**\u001b[0m\u001b[0mkwargs\u001b[0m\u001b[1;33m)\u001b[0m\u001b[1;33m\u001b[0m\u001b[1;33m\u001b[0m\u001b[0m\n\u001b[0m\u001b[0;32m     46\u001b[0m         \u001b[1;31m# TODO: test cdata is of the expected CType\u001b[0m\u001b[1;33m\u001b[0m\u001b[1;33m\u001b[0m\u001b[0m\n\u001b[0;32m     47\u001b[0m         \u001b[1;32mreturn\u001b[0m \u001b[0m_cdata_to_rinterface\u001b[0m\u001b[1;33m(\u001b[0m\u001b[0mcdata\u001b[0m\u001b[1;33m)\u001b[0m\u001b[1;33m\u001b[0m\u001b[1;33m\u001b[0m\u001b[0m\n",
            "\u001b[1;32mc:\\Users\\schre\\anaconda3\\lib\\site-packages\\rpy2\\rinterface.py\u001b[0m in \u001b[0;36m__call__\u001b[1;34m(self, *args, **kwargs)\u001b[0m\n\u001b[0;32m    815\u001b[0m             )\n\u001b[0;32m    816\u001b[0m             \u001b[1;32mif\u001b[0m \u001b[0merror_occured\u001b[0m\u001b[1;33m[\u001b[0m\u001b[1;36m0\u001b[0m\u001b[1;33m]\u001b[0m\u001b[1;33m:\u001b[0m\u001b[1;33m\u001b[0m\u001b[1;33m\u001b[0m\u001b[0m\n\u001b[1;32m--> 817\u001b[1;33m                 \u001b[1;32mraise\u001b[0m \u001b[0membedded\u001b[0m\u001b[1;33m.\u001b[0m\u001b[0mRRuntimeError\u001b[0m\u001b[1;33m(\u001b[0m\u001b[0m_rinterface\u001b[0m\u001b[1;33m.\u001b[0m\u001b[0m_geterrmessage\u001b[0m\u001b[1;33m(\u001b[0m\u001b[1;33m)\u001b[0m\u001b[1;33m)\u001b[0m\u001b[1;33m\u001b[0m\u001b[1;33m\u001b[0m\u001b[0m\n\u001b[0m\u001b[0;32m    818\u001b[0m         \u001b[1;32mreturn\u001b[0m \u001b[0mres\u001b[0m\u001b[1;33m\u001b[0m\u001b[1;33m\u001b[0m\u001b[0m\n\u001b[0;32m    819\u001b[0m \u001b[1;33m\u001b[0m\u001b[0m\n",
            "\u001b[1;31mRRuntimeError\u001b[0m: Error in file(filename, \"r\", encoding = encoding) : \n  cannot open the connection\n"
          ]
        }
      ],
      "source": [
        "n_average = 1\n",
        "n = 300\n",
        "n_clusters = 2\n",
        "d = 1\n",
        "sizes = [ n // n_clusters ]*np.ones( n_clusters, dtype = int )\n",
        "\n",
        "b = 5\n",
        "pout = b * np.log( n ) / n\n",
        "\n",
        "a_range = [ 5,7,9,11,13,15 ]\n",
        "r_range = [ 0,1,2,3,4,5 ]\n",
        "# a_range = [ 5,7,9]\n",
        "# r_range = [ 0,1,2]\n",
        "\n",
        "stats = {\"varying\":[],\"a\":[],\"r\":[],\"agreed\":[],\"ARI_chernoff\":[],\"ARI_AIC\":[],\"ARI_ORACLE\":[]}\n",
        "\n",
        "for varying in [\"attributes\",\"graph\"]:\n",
        "# varying = 'attributes'\n",
        "# #varying = 'graph'\n",
        "\n",
        "    aris_attributes_mean = [ ]\n",
        "    aris_graph_mean = [ ]\n",
        "    aris_both_mean = [ ]\n",
        "    aris_attSBM_mean = [ ]\n",
        "    aris_IR_sLS_mean = [ ]\n",
        "    aris_IR_LS_mean = [ ]\n",
        "    aris_both2_mean = [ ]\n",
        "    aris_oracle_mean = [ ]\n",
        "\n",
        "    aris_attributes_std = [ ]\n",
        "    aris_graph_std = [ ]\n",
        "    aris_both_std = [ ]\n",
        "    aris_attSBM_std = [ ]\n",
        "    aris_IR_sLS_std = [ ]\n",
        "    aris_IR_LS_std = [ ]\n",
        "    aris_both2_std = [ ]\n",
        "    aris_oracle_std = [ ]\n",
        "\n",
        "    if varying == 'graph':\n",
        "        loop = tqdm( range( len( a_range ) ) )\n",
        "    else:\n",
        "        loop = tqdm( range( len( r_range ) ) )\n",
        "\n",
        "    for dummy in loop:\n",
        "        if varying == 'graph':\n",
        "            a = a_range[ dummy ]\n",
        "            r = 1\n",
        "        elif varying == 'attributes':\n",
        "            a = 8\n",
        "            r = r_range[ dummy ]\n",
        "        mu = np.array([ [r], [-r] ])\n",
        "        #print(mu.shape)\n",
        "        #mu = unitRootCoordinates( d=2, r=r )\n",
        "\n",
        "        pin = a * np.log( n ) / n\n",
        "        p = (pin- pout) * np.eye( n_clusters ) + pout * np.ones( (n_clusters, n_clusters) )\n",
        "\n",
        "        aris_attributes = [ ]\n",
        "        aris_graph = [ ]\n",
        "        aris_both = [ ]\n",
        "        aris_attSBM = [ ]\n",
        "        aris_IR_sLS  = [ ]\n",
        "        aris_IR_LS = [ ]\n",
        "        aris_both2 = [ ]\n",
        "        aris_oracle = [ ]\n",
        "        \n",
        "        path_ = path+f\"a/{a}/r/{r}/\"\n",
        "        if not os.path.exists(path_):\n",
        "            os.makedirs(path_)\n",
        "\n",
        "        total = 0\n",
        "        for trial in range( n_average ):\n",
        "            ( X, Y, z_true ) = generateData( sizes, p, mu )\n",
        "            model = models.BregmanNodeAttributeGraphClustering( n_clusters = n_clusters, initializer=\"chernoff\")\n",
        "            ## For comparison purposes, the initialization is the same for IR-sLS, IR-LS and ours    \n",
        "            model.initialize(X,Y)\n",
        "            model.assignInitialLabels( X, Y )\n",
        "            z_init = model.predicted_memberships\n",
        "            chernoff_init_graph = model.graph_init\n",
        "            chernoff_graph_labels = model.memberships_from_graph\n",
        "            chernoff_att_labels = model.memberships_from_attributes\n",
        "\n",
        "            with open(f'{path_}att_{trial}.npy', 'wb') as g:\n",
        "                np.save(g, Y)\n",
        "            with open(f'{path_}net_{trial}.npy', 'wb') as g:\n",
        "                np.save(g, X)\n",
        "            with open(f'{path_}z_init_{trial}.npy', 'wb') as g:\n",
        "                np.save(g, convertZ(z_init)+1)\n",
        "\n",
        "            model.fit( X, Y )\n",
        "            z_pred_both = model.predict( X, Y )\n",
        "            z_pred_graph = models.frommembershipMatriceToVector( chernoff_graph_labels )\n",
        "            z_pred_attributes = models.frommembershipMatriceToVector( chernoff_att_labels )\n",
        "            \n",
        "            if chernoff_init_graph == model.AIC_initializer(X,Y).graph_init:\n",
        "                total += 1\n",
        "            \n",
        "            ## Warm start\n",
        "            if model.graph_init:\n",
        "                model.fit( X, Y, chernoff_graph_labels)\n",
        "            else:\n",
        "                model.fit(X, Y, chernoff_att_labels)\n",
        "            \n",
        "            model2 = torchBreg(n_clusters=n_clusters, normalize_=True, thresholding=True)\n",
        "            z_pred_both2 = model2.fit(X,Y).predict( X, Y )\n",
        "            \n",
        "            IR_sLS_pred = iter_csbm(X,Y,z_init,n_clusters)\n",
        "            IR_LS_pred = iter_csbm2(X,Y,z_init,n_clusters)\n",
        "                \n",
        "            # subprocess.call([\"/usr/bin/Rscript\",\"--vanilla\",\"./run_AttSBM.r\",\\\n",
        "            #                 f'{path_}att_{trial}.npy',\\\n",
        "            #                 f'{path_}net_{trial}.npy',\\\n",
        "            #                 f'{path_}z_init_{trial}.npy'])\n",
        "            r_code = f\"\"\"\n",
        "            source(\"run_AttSBM.r\")\n",
        "            run_AttSBM({path_}att_{trial}.npy,{path_}net_{trial}.npy,{path_}z_init_{trial}.npy)\"\"\"\n",
        "            print(r_code)\n",
        "            robjects.r(r_code)\n",
        "\n",
        "            attSBMPred = np.load(\"predict.npy\")\n",
        "\n",
        "            aris_attributes.append( adjusted_rand_score( z_true, z_pred_attributes ) )\n",
        "            aris_graph.append( adjusted_rand_score( z_true, z_pred_graph ) )\n",
        "            aris_both.append( adjusted_rand_score( z_true, z_pred_both ) )\n",
        "            aris_attSBM.append( adjusted_rand_score( z_true, attSBMPred ) )\n",
        "            aris_IR_sLS.append( adjusted_rand_score( z_true, IR_sLS_pred ) )\n",
        "            aris_IR_LS.append( adjusted_rand_score( z_true, IR_LS_pred ) )\n",
        "            aris_both2.append( adjusted_rand_score( z_true, z_pred_both2 ))\n",
        "            \n",
        "            if chernoff_init_graph != model.AIC_initializer(X,Y).graph_init:\n",
        "                ## both initializations were done\n",
        "                aris_oracle.append( max(aris_both[-1],aris_both2[-1]))\n",
        "            elif chernoff_init_graph:\n",
        "                z_pred_att_init = model.fit(X,Y,chernoff_att_labels).predict(X,Y)\n",
        "                ari_att_init = adjusted_rand_score( z_true, z_pred_att_init)\n",
        "                aris_oracle.append( max(aris_both[-1], ari_att_init))\n",
        "            elif not chernoff_init_graph:\n",
        "                z_pred_graph_init = model.fit(X,Y,chernoff_graph_labels).predict(X,Y)\n",
        "                ari_graph_init = adjusted_rand_score( z_true, z_pred_graph_init)\n",
        "                aris_oracle.append( max(aris_both[-1], ari_graph_init))\n",
        "                \n",
        "        aris_attributes_mean.append( np.mean( aris_attributes ) )\n",
        "        aris_graph_mean.append( np.mean( aris_graph ) )\n",
        "        aris_both_mean.append( np.mean( aris_both ) )\n",
        "        aris_attSBM_mean.append( np.mean( aris_attSBM ) )\n",
        "        aris_IR_sLS_mean.append( np.mean( aris_IR_sLS ) )\n",
        "        aris_IR_LS_mean.append( np.mean( aris_IR_LS ) )\n",
        "        aris_both2_mean.append( np.mean( aris_both2) )\n",
        "        aris_oracle_mean.append( np.mean( aris_oracle) )\n",
        "        \n",
        "        aris_attributes_std.append( np.std( aris_attributes ) )\n",
        "        aris_graph_std.append( np.std( aris_graph ) )\n",
        "        aris_both_std.append( np.std( aris_both ) )\n",
        "        aris_attSBM_std.append( np.std( aris_attSBM ) )\n",
        "        aris_IR_sLS_std.append( np.std( aris_IR_sLS ) )\n",
        "        aris_IR_LS_std.append( np.std( aris_IR_LS ) )\n",
        "        aris_both2_std.append( np.std( aris_both2 ) )\n",
        "        aris_oracle_std.append( np.std( aris_oracle) )\n",
        "        \n",
        "        stats[\"varying\"].append(varying)\n",
        "        stats[\"a\"].append(a)\n",
        "        stats[\"r\"].append(r)\n",
        "        stats[\"agreed\"].append(total/n_average)\n",
        "        stats[\"ARI_chernoff\"].append(aris_both_mean[-1])\n",
        "        stats[\"ARI_AIC\"].append(aris_both2_mean[-1])\n",
        "        stats[\"ARI_ORACLE\"].append(aris_oracle_mean[-1])\n",
        "        \n",
        "    curves = [ aris_attributes_mean, aris_graph_mean,\\\n",
        "              aris_both_mean , aris_attSBM_mean, aris_IR_sLS_mean,\\\n",
        "              aris_IR_LS_mean, aris_both2_mean]\n",
        "\n",
        "    curves_std = [ aris_attributes_std, aris_graph_std,\\\n",
        "                  aris_both_std , aris_attSBM_std, aris_IR_sLS_std,\\\n",
        "                  aris_IR_LS_std, aris_both2_std]\n",
        "\n",
        "    labels = [ 'attributes', 'graph', 'both' , 'attSBM', 'IR_sLS', 'IR_LS', \"both2\"]\n",
        "    saveFig = True\n",
        "    if varying == 'graph':    \n",
        "        fileName = 'N_' + str(n) + '_K_' + str(n_clusters) + '_b_' + str(b) + '_r_' + str(r) +  '_nAverage' + str(n_average) + '.eps'\n",
        "        plotting( a_range, curves, labels, curves_std = curves_std, xticks = a_range, xlabel = 'a', saveFig = saveFig, fileName = fileName )\n",
        "        plt.close()\n",
        "    elif varying == 'attributes':\n",
        "        fileName = 'N_' + str(n) + '_K_' + str(n_clusters) + '_a_' + str(a) + '_b_' + str(b) +  '_nAverage_' + str(n_average) + '.eps'\n",
        "        plotting( r_range, curves, labels, curves_std = curves_std, xticks = r_range, xlabel = 'r', saveFig = saveFig, fileName = fileName )\n",
        "        plt.close()"
      ]
    },
    {
      "cell_type": "code",
      "execution_count": null,
      "id": "0ef9402f",
      "metadata": {
        "id": "0ef9402f"
      },
      "outputs": [],
      "source": [
        "import pandas as pd\n",
        "df = pd.DataFrame.from_dict(stats)"
      ]
    },
    {
      "cell_type": "code",
      "execution_count": null,
      "id": "2ba58beb",
      "metadata": {
        "id": "2ba58beb"
      },
      "outputs": [],
      "source": [
        "df"
      ]
    }
  ],
  "metadata": {
    "colab": {
      "provenance": []
    },
    "kernelspec": {
      "display_name": "Python 3 (ipykernel)",
      "language": "python",
      "name": "python3"
    },
    "language_info": {
      "codemirror_mode": {
        "name": "ipython",
        "version": 3
      },
      "file_extension": ".py",
      "mimetype": "text/x-python",
      "name": "python",
      "nbconvert_exporter": "python",
      "pygments_lexer": "ipython3",
      "version": "3.9.7"
    }
  },
  "nbformat": 4,
  "nbformat_minor": 5
}
