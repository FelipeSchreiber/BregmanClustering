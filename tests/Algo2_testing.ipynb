{
 "cells": [
  {
   "cell_type": "code",
   "execution_count": 1,
   "id": "d27f34a6",
   "metadata": {},
   "outputs": [],
   "source": [
    "# !pip3 install cupy"
   ]
  },
  {
   "cell_type": "code",
   "execution_count": 2,
   "id": "fd012621",
   "metadata": {},
   "outputs": [],
   "source": [
    "from sklearn.manifold import spectral_embedding,SpectralEmbedding\n",
    "from sklearn.mixture import GaussianMixture\n",
    "from sklearn.metrics import adjusted_rand_score, normalized_mutual_info_score, accuracy_score\n",
    "from BregmanClustering.models import SoftBregmanNodeAttributeGraphClustering as VEMbreg\n",
    "from sklearn.metrics import adjusted_rand_score, calinski_harabasz_score, normalized_mutual_info_score, accuracy_score\n",
    "from BregmanClustering.WSBM import *"
   ]
  },
  {
   "cell_type": "code",
   "execution_count": 3,
   "id": "47727b83",
   "metadata": {},
   "outputs": [],
   "source": [
    "c = 3\n",
    "n = 100\n",
    "N = c*n\n",
    "delta = 10\n",
    "d = 2\n",
    "dim = c*d\n",
    "P = np.array([[0.8, 0.2, 0.3],[0.2, 0.7, 0.4],[0.3, 0.4, 0.6]])\n",
    "true_labels = [0]*n + [1]*n + [2]*n\n",
    "X,Y= BregmanBenchmark(P,[n]*c,-10,10,dims=2,weight_variance=0.01,att_variance=0.1,\\\n",
    "                       weight_distribution=\"logistic\",attributes_distribution=\"logistic\").generate_benchmark_WSBM()\n",
    "A = (X != 0).astype(int)"
   ]
  },
  {
   "cell_type": "code",
   "execution_count": 4,
   "id": "5ec32aff",
   "metadata": {},
   "outputs": [
    {
     "name": "stdout",
     "output_type": "stream",
     "text": [
      "[[0.69   0.4037 0.2024]\n",
      " [0.4037 0.6002 0.2988]\n",
      " [0.2024 0.2988 0.7956]]\n",
      "Initialisation chosen from the graph\n",
      "0\n",
      "1.0 1.0\n"
     ]
    }
   ],
   "source": [
    "model = VEMbreg(n_clusters=c,thresholding=True,normalize_=False)\n",
    "model.fit(A,Y)\n",
    "z_pred_both = model.predict(A,Y)\n",
    "print(adjusted_rand_score(true_labels, z_pred_both),normalized_mutual_info_score(true_labels, z_pred_both))"
   ]
  }
 ],
 "metadata": {
  "kernelspec": {
   "display_name": "Python 3 (ipykernel)",
   "language": "python",
   "name": "python3"
  },
  "language_info": {
   "codemirror_mode": {
    "name": "ipython",
    "version": 3
   },
   "file_extension": ".py",
   "mimetype": "text/x-python",
   "name": "python",
   "nbconvert_exporter": "python",
   "pygments_lexer": "ipython3",
   "version": "3.9.16"
  }
 },
 "nbformat": 4,
 "nbformat_minor": 5
}
